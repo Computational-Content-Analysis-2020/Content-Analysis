{
 "cells": [
  {
   "cell_type": "markdown",
   "metadata": {},
   "source": [
    "# Week 6 - Vector Space Word Embeddings"
   ]
  },
  {
   "cell_type": "markdown",
   "metadata": {},
   "source": [
    "### Zhaoyang Chen"
   ]
  },
  {
   "cell_type": "markdown",
   "metadata": {},
   "source": [
    "## <span style=\"color:red\">*Exercise 1*</span>\n",
    "\n",
    "<span style=\"color:red\">Construct cells immediately below this that embed documents related to your final project using at least two different specification of `word2vec`, and visualize them each with two separate visualization layout specifications (e.g., TSNE, PCA). Then interrogate critical word vectors within your corpus in terms of the most similar words, analogies, and other additions and subtractions that reveal the structure of similarity and difference within your semantic space. What does this pattern reveal about the semantic organization of words in your corpora? Which estimation and visualization specification generate the most insight and appear the most robustly supported and why? \n",
    "\n",
    "<span style=\"color:red\">***Stretch***: Explore different vector calculations beyond addition and subtraction, such as multiplication, division or some other function. What does this exploration reveal about the semantic structure of your corpus?"
   ]
  },
  {
   "cell_type": "markdown",
   "metadata": {},
   "source": [
    "From this week's homework I will use the corpus of artwork descriptions downloaded from The Art Institute of Chicago offical website. "
   ]
  },
  {
   "cell_type": "code",
   "execution_count": 1,
   "metadata": {},
   "outputs": [],
   "source": [
    "#All these packages need to be installed from pip\n",
    "import gensim#For word2vec, etc\n",
    "import requests #For downloading our datasets\n",
    "import lucem_illud_2020\n",
    "\n",
    "import numpy as np #For arrays\n",
    "import pandas as pd#Gives us DataFrames\n",
    "import matplotlib.pyplot as plt #For graphics\n",
    "import seaborn #Makes the graphics look nicer\n",
    "import sklearn.metrics.pairwise #For cosine similarity\n",
    "import sklearn.manifold #For T-SNE\n",
    "import sklearn.decomposition #For PCA\n",
    "\n",
    "#This 'magic' command makes the plots work better\n",
    "#in the notebook, don't use it outside of a notebook.\n",
    "#Also you can ignore the warning\n",
    "%matplotlib inline\n",
    "\n",
    "import os #For looking through files\n",
    "import os.path #For managing file paths"
   ]
  },
  {
   "cell_type": "code",
   "execution_count": 2,
   "metadata": {},
   "outputs": [],
   "source": [
    "#Load data into a dataframe\n",
    "art_chicago_info_list = []\n",
    "filename_list = []\n",
    "repo = '../museum/'\n",
    "\n",
    "for filename in os.listdir(repo):\n",
    "    if 'artwork_description_metadata' in filename and not filename.startswith('.'):\n",
    "        filename_list.append(filename)\n",
    "        art_chicago_info_list.append(pd.read_csv(repo + '/' + filename, index_col=False))\n",
    "        \n",
    "art_chicago = pd.concat(art_chicago_info_list)"
   ]
  },
  {
   "cell_type": "code",
   "execution_count": 3,
   "metadata": {},
   "outputs": [
    {
     "name": "stdout",
     "output_type": "stream",
     "text": [
      "The corpus contains the 0000-9500 artworks\n"
     ]
    }
   ],
   "source": [
    "inds_list = []\n",
    "for inds in [(file.split('_')[4], file.split('_')[5].split('.')[0]) for file in filename_list]:\n",
    "    for ind in inds:\n",
    "        if len(ind) == 4:\n",
    "            inds_list.append(ind)\n",
    "        elif len(ind) < 4:\n",
    "            inds_list.append('0'*(4-len(ind)) + ind)\n",
    "        else:\n",
    "            print(\"Wrong\")\n",
    "print(f'The corpus contains the {sorted(inds_list)[0]}-{sorted(inds_list)[-1]} artworks')"
   ]
  },
  {
   "cell_type": "code",
   "execution_count": 4,
   "metadata": {},
   "outputs": [
    {
     "data": {
      "text/html": [
       "<div>\n",
       "<style scoped>\n",
       "    .dataframe tbody tr th:only-of-type {\n",
       "        vertical-align: middle;\n",
       "    }\n",
       "\n",
       "    .dataframe tbody tr th {\n",
       "        vertical-align: top;\n",
       "    }\n",
       "\n",
       "    .dataframe thead th {\n",
       "        text-align: right;\n",
       "    }\n",
       "</style>\n",
       "<table border=\"1\" class=\"dataframe\">\n",
       "  <thead>\n",
       "    <tr style=\"text-align: right;\">\n",
       "      <th></th>\n",
       "      <th>artwork_title</th>\n",
       "      <th>description_text</th>\n",
       "      <th>index</th>\n",
       "      <th>metadata</th>\n",
       "      <th>url</th>\n",
       "    </tr>\n",
       "  </thead>\n",
       "  <tbody>\n",
       "    <tr>\n",
       "      <td>0</td>\n",
       "      <td>“A” and the Carpenter I, 1973, Sam Gilliam</td>\n",
       "      <td>In the early 1960s Sam Gilliam began to experi...</td>\n",
       "      <td>1852.0</td>\n",
       "      <td>Artist\\nSam Gilliam\\nTitle\\n\"A\" and the Carpen...</td>\n",
       "      <td>https://www.artic.edu/artworks/45860/a-and-the...</td>\n",
       "    </tr>\n",
       "    <tr>\n",
       "      <td>1</td>\n",
       "      <td>The Baptism of Christ, 1500/05, Perugino</td>\n",
       "      <td>Perugino’s serene and decorous art was widely ...</td>\n",
       "      <td>1854.0</td>\n",
       "      <td>Artist\\nPerugino\\nTitle\\nThe Baptism of Christ...</td>\n",
       "      <td>https://www.artic.edu/artworks/16197/the-bapti...</td>\n",
       "    </tr>\n",
       "    <tr>\n",
       "      <td>2</td>\n",
       "      <td>Lovers Surprised by Death, 1510, Hans Burgkmai...</td>\n",
       "      <td>Themes derived from the Dance of Death, a medi...</td>\n",
       "      <td>1858.0</td>\n",
       "      <td>Artist\\nHans Burgkmair, the elder\\nTitle\\nLove...</td>\n",
       "      <td>https://www.artic.edu/artworks/147064/lovers-s...</td>\n",
       "    </tr>\n",
       "    <tr>\n",
       "      <td>3</td>\n",
       "      <td>Calla Lilies, 1922/25, Arthur B. Carles</td>\n",
       "      <td>In 1922, Arthur B. Carles began a series of ca...</td>\n",
       "      <td>1860.0</td>\n",
       "      <td>Artist\\nArthur B. Carles\\nTitle\\nCalla Lilies\\...</td>\n",
       "      <td>https://www.artic.edu/artworks/193869/calla-li...</td>\n",
       "    </tr>\n",
       "    <tr>\n",
       "      <td>4</td>\n",
       "      <td>Figure, 1927, Pablo Picasso</td>\n",
       "      <td>Head is an example of Pablo Picasso’s constant...</td>\n",
       "      <td>1863.0</td>\n",
       "      <td>Artist\\nPablo Picasso\\nTitle\\nFigure\\nOrigin\\n...</td>\n",
       "      <td>https://www.artic.edu/artworks/75315/figure</td>\n",
       "    </tr>\n",
       "  </tbody>\n",
       "</table>\n",
       "</div>"
      ],
      "text/plain": [
       "                                       artwork_title  \\\n",
       "0         “A” and the Carpenter I, 1973, Sam Gilliam   \n",
       "1           The Baptism of Christ, 1500/05, Perugino   \n",
       "2  Lovers Surprised by Death, 1510, Hans Burgkmai...   \n",
       "3            Calla Lilies, 1922/25, Arthur B. Carles   \n",
       "4                        Figure, 1927, Pablo Picasso   \n",
       "\n",
       "                                    description_text   index  \\\n",
       "0  In the early 1960s Sam Gilliam began to experi...  1852.0   \n",
       "1  Perugino’s serene and decorous art was widely ...  1854.0   \n",
       "2  Themes derived from the Dance of Death, a medi...  1858.0   \n",
       "3  In 1922, Arthur B. Carles began a series of ca...  1860.0   \n",
       "4  Head is an example of Pablo Picasso’s constant...  1863.0   \n",
       "\n",
       "                                            metadata  \\\n",
       "0  Artist\\nSam Gilliam\\nTitle\\n\"A\" and the Carpen...   \n",
       "1  Artist\\nPerugino\\nTitle\\nThe Baptism of Christ...   \n",
       "2  Artist\\nHans Burgkmair, the elder\\nTitle\\nLove...   \n",
       "3  Artist\\nArthur B. Carles\\nTitle\\nCalla Lilies\\...   \n",
       "4  Artist\\nPablo Picasso\\nTitle\\nFigure\\nOrigin\\n...   \n",
       "\n",
       "                                                 url  \n",
       "0  https://www.artic.edu/artworks/45860/a-and-the...  \n",
       "1  https://www.artic.edu/artworks/16197/the-bapti...  \n",
       "2  https://www.artic.edu/artworks/147064/lovers-s...  \n",
       "3  https://www.artic.edu/artworks/193869/calla-li...  \n",
       "4        https://www.artic.edu/artworks/75315/figure  "
      ]
     },
     "execution_count": 4,
     "metadata": {},
     "output_type": "execute_result"
    }
   ],
   "source": [
    "#Basic information about the corpus\n",
    "art_chicago.head()"
   ]
  },
  {
   "cell_type": "code",
   "execution_count": 5,
   "metadata": {},
   "outputs": [],
   "source": [
    "#Normalize the data\n",
    "art_chicago['tokenized_sents'] = art_chicago['description_text'].apply(lambda x: [lucem_illud_2020.word_tokenize(s) for s in lucem_illud_2020.sent_tokenize(x)])\n",
    "art_chicago['normalized_sents'] = art_chicago['tokenized_sents'].apply(lambda x: [lucem_illud_2020.normalizeTokens(s, lemma=False) for s in x])"
   ]
  },
  {
   "cell_type": "markdown",
   "metadata": {},
   "source": [
    "### 1. CBOW algorithmn for word2vec (one specification)"
   ]
  },
  {
   "cell_type": "code",
   "execution_count": 6,
   "metadata": {},
   "outputs": [],
   "source": [
    "#Then we begin to investigate the word2vec of the data\n",
    "artChicagoW2V = gensim.models.word2vec.Word2Vec(art_chicago['normalized_sents'].sum())"
   ]
  },
  {
   "cell_type": "markdown",
   "metadata": {},
   "source": [
    "#### a. The most similar words of critical words of interest"
   ]
  },
  {
   "cell_type": "code",
   "execution_count": 7,
   "metadata": {},
   "outputs": [
    {
     "data": {
      "text/plain": [
       "[('described', 0.9998987317085266),\n",
       " ('cast', 0.999883770942688),\n",
       " ('way', 0.9998829364776611),\n",
       " ('music', 0.9998824596405029),\n",
       " ('order', 0.9998812675476074),\n",
       " ('religious', 0.9998801946640015),\n",
       " ('short', 0.9998748302459717),\n",
       " ('interest', 0.9998745322227478),\n",
       " ('classical', 0.9998744130134583),\n",
       " ('tradition', 0.9998711943626404)]"
      ]
     },
     "execution_count": 7,
     "metadata": {},
     "output_type": "execute_result"
    }
   ],
   "source": [
    "# The most similar words of \"eastern\"\n",
    "artChicagoW2V.most_similar('eastern')"
   ]
  },
  {
   "cell_type": "markdown",
   "metadata": {},
   "source": [
    "The word \"religious\", \"classical\", and \"tradition\" are the words that we picked out to describe eastern artworks. As we experienced from The Art Institute of Chicago, there are few Southeastern Asia Buddha statue in the musuem, maybe it captures these artworks.  "
   ]
  },
  {
   "cell_type": "code",
   "execution_count": 8,
   "metadata": {},
   "outputs": [
    {
     "data": {
      "text/plain": [
       "[('works', 0.9996896982192993),\n",
       " ('studies', 0.9996818900108337),\n",
       " ('national', 0.9995677471160889),\n",
       " ('exposition', 0.9995625019073486),\n",
       " ('director', 0.9995422959327698),\n",
       " ('joseph', 0.9995163679122925),\n",
       " ('history', 0.9994604587554932),\n",
       " ('purchased', 0.999447762966156),\n",
       " ('exhibition', 0.9994250535964966),\n",
       " ('african', 0.9993776679039001)]"
      ]
     },
     "execution_count": 8,
     "metadata": {},
     "output_type": "execute_result"
    }
   ],
   "source": [
    "# The most similar words of \"western\"\n",
    "artChicagoW2V.most_similar('western')"
   ]
  },
  {
   "cell_type": "markdown",
   "metadata": {},
   "source": [
    "As we can see, the artwork that has \"eastern\" features are most likely to origin in China and its theme (or description) is more related to the story behind that artwork. While for artworks that has \"western\" features, they are more likely to be related with the \"design\" of the artwork. "
   ]
  },
  {
   "cell_type": "code",
   "execution_count": 9,
   "metadata": {},
   "outputs": [
    {
     "data": {
      "text/plain": [
       "[('career', 0.999835193157196),\n",
       " ('came', 0.9998134970664978),\n",
       " ('study', 0.9997916221618652),\n",
       " ('sought', 0.9997866749763489),\n",
       " ('robert', 0.9997827410697937),\n",
       " ('inspiration', 0.9997800588607788),\n",
       " ('year', 0.9997772574424744),\n",
       " ('public', 0.9997771978378296),\n",
       " ('arts', 0.9997750520706177),\n",
       " ('worked', 0.9997703433036804)]"
      ]
     },
     "execution_count": 9,
     "metadata": {},
     "output_type": "execute_result"
    }
   ],
   "source": [
    "# Try a typical art type \"painting\"\n",
    "artChicagoW2V.most_similar('painting')"
   ]
  },
  {
   "cell_type": "code",
   "execution_count": 10,
   "metadata": {},
   "outputs": [
    {
     "data": {
      "text/plain": [
       "[('canvas', 0.9998990893363953),\n",
       " ('power', 0.9998956918716431),\n",
       " ('cross', 0.9998933672904968),\n",
       " ('god', 0.9998911619186401),\n",
       " ('homer', 0.9998906850814819),\n",
       " ('seen', 0.9998899102210999),\n",
       " ('scene', 0.9998893737792969),\n",
       " ('case', 0.9998884201049805),\n",
       " ('birds', 0.9998868703842163),\n",
       " ('piece', 0.9998863935470581)]"
      ]
     },
     "execution_count": 10,
     "metadata": {},
     "output_type": "execute_result"
    }
   ],
   "source": [
    "# Then for \"sculpture\"\n",
    "artChicagoW2V.most_similar('statue')"
   ]
  },
  {
   "cell_type": "markdown",
   "metadata": {},
   "source": [
    "As we can see, different kinds of artworks are related to different keywords here. However, these featured similar does not have any relationship or patterns worth mentioning. <br>\n",
    "#### b. Analogies of critical words of insterest"
   ]
  },
  {
   "cell_type": "code",
   "execution_count": 11,
   "metadata": {},
   "outputs": [
    {
     "data": {
      "text/plain": [
       "[('american', 0.9994576573371887),\n",
       " ('exhibited', 0.9994387030601501),\n",
       " ('pop', 0.9994283318519592),\n",
       " ('pp', 0.9993122220039368),\n",
       " ('acquired', 0.9992586374282837),\n",
       " ('washington', 0.9986440539360046),\n",
       " ('collectors', 0.9985406398773193),\n",
       " ('exhibitions', 0.9984912872314453),\n",
       " ('shay', 0.9983938932418823),\n",
       " ('studies', 0.9982845783233643)]"
      ]
     },
     "execution_count": 11,
     "metadata": {},
     "output_type": "execute_result"
    }
   ],
   "source": [
    "#Western to eastern art\n",
    "artChicagoW2V.most_similar(positive=['fine', 'western'], negative = ['eastern'])"
   ]
  },
  {
   "cell_type": "markdown",
   "metadata": {},
   "source": [
    "It is interesting that from word2vec, \"fine\" to eastern is like \"pop\" to western, a good pattern here. "
   ]
  },
  {
   "cell_type": "code",
   "execution_count": 13,
   "metadata": {},
   "outputs": [
    {
     "data": {
      "text/plain": [
       "[('body', 0.999742865562439),\n",
       " ('christ', 0.9997046589851379),\n",
       " ('female', 0.9997013807296753),\n",
       " ('light', 0.9996953010559082),\n",
       " ('composition', 0.9996839761734009),\n",
       " ('colors', 0.9996703267097473),\n",
       " ('background', 0.999670147895813),\n",
       " ('lower', 0.9996666312217712),\n",
       " ('dark', 0.9996657371520996),\n",
       " ('upper', 0.999663233757019)]"
      ]
     },
     "execution_count": 13,
     "metadata": {},
     "output_type": "execute_result"
    }
   ],
   "source": [
    "artChicagoW2V.most_similar(positive=['fine', 'eastern'], negative = ['western'])"
   ]
  },
  {
   "cell_type": "markdown",
   "metadata": {},
   "source": [
    "If we have \"fine\" to western and its like... nothing explainable to eastern. No patterns here. "
   ]
  },
  {
   "cell_type": "code",
   "execution_count": 14,
   "metadata": {},
   "outputs": [
    {
     "data": {
      "text/plain": [
       "[('exhibition', 0.9994736909866333),\n",
       " ('cornell', 0.9993515014648438),\n",
       " ('studied', 0.9993457794189453),\n",
       " ('moved', 0.9992753267288208),\n",
       " ('student', 0.9992138147354126),\n",
       " ('history', 0.9991176128387451),\n",
       " ('galleries', 0.9990686178207397),\n",
       " ('national', 0.9990471005439758),\n",
       " ('city', 0.9990426301956177),\n",
       " ('photography', 0.9990336894989014)]"
      ]
     },
     "execution_count": 14,
     "metadata": {},
     "output_type": "execute_result"
    }
   ],
   "source": [
    "artChicagoW2V.most_similar(positive=['modern', 'european'], negative = ['american'])"
   ]
  },
  {
   "cell_type": "code",
   "execution_count": 15,
   "metadata": {},
   "outputs": [
    {
     "data": {
      "text/plain": [
       "[('member', 0.9992547035217285),\n",
       " ('private', 0.9992457628250122),\n",
       " ('fine', 0.9992141723632812),\n",
       " ('design', 0.999165415763855),\n",
       " ('collector', 0.9991580247879028),\n",
       " ('non', 0.9991469383239746),\n",
       " ('conceptual', 0.9991310834884644),\n",
       " ('historical', 0.9991296529769897),\n",
       " ('traditions', 0.9990769624710083),\n",
       " ('doubt', 0.9990592002868652)]"
      ]
     },
     "execution_count": 15,
     "metadata": {},
     "output_type": "execute_result"
    }
   ],
   "source": [
    "artChicagoW2V.most_similar(positive=['pop', 'european'], negative = ['american'])"
   ]
  },
  {
   "cell_type": "markdown",
   "metadata": {},
   "source": [
    "As we can see from the results above that the artwork that has the feature of \"american\" and \"european\" do not have any comparable relationship between each other. It might be due to that the styles of american and european artworks are much alike so that their differences cannot be represented by word2vec. Or there are also possibilities that there are too few artworks in the musuem that are \"american\" and \"european\", so that the texts derived from their description is too few in number to result is visible relationship. "
   ]
  },
  {
   "cell_type": "markdown",
   "metadata": {},
   "source": [
    "### 2. Skip-gram algorithmn for word2vec (another specification)"
   ]
  },
  {
   "cell_type": "code",
   "execution_count": 16,
   "metadata": {},
   "outputs": [],
   "source": [
    "artChicagoW2V2 = gensim.models.word2vec.Word2Vec(art_chicago['normalized_sents'].sum(), sg=1, window=10)"
   ]
  },
  {
   "cell_type": "markdown",
   "metadata": {},
   "source": [
    "#### a. The most similar words of critical words of interest"
   ]
  },
  {
   "cell_type": "code",
   "execution_count": 18,
   "metadata": {},
   "outputs": [
    {
     "data": {
      "text/plain": [
       "[('flourished', 0.9848282337188721),\n",
       " ('islamic', 0.9847248792648315),\n",
       " ('north', 0.9842336177825928),\n",
       " ('current', 0.9821068644523621),\n",
       " ('capital', 0.9790579676628113),\n",
       " ('population', 0.9783649444580078),\n",
       " ('sculptors', 0.9764782190322876),\n",
       " ('republic', 0.9763829112052917),\n",
       " ('southern', 0.9757758378982544),\n",
       " ('seymour', 0.9752249121665955)]"
      ]
     },
     "execution_count": 18,
     "metadata": {},
     "output_type": "execute_result"
    }
   ],
   "source": [
    "artChicagoW2V2.most_similar('eastern')"
   ]
  },
  {
   "cell_type": "code",
   "execution_count": 19,
   "metadata": {},
   "outputs": [
    {
     "data": {
      "text/plain": [
       "[('traditions', 0.9751195907592773),\n",
       " ('fashion', 0.9700777530670166),\n",
       " ('collectors', 0.9671387672424316),\n",
       " ('inspiration', 0.9627293348312378),\n",
       " ('folk', 0.9604143500328064),\n",
       " ('cultural', 0.9591021537780762),\n",
       " ('development', 0.9550399780273438),\n",
       " ('progressive', 0.9539046883583069),\n",
       " ('sought', 0.9525636434555054),\n",
       " ('crafts', 0.950937032699585)]"
      ]
     },
     "execution_count": 19,
     "metadata": {},
     "output_type": "execute_result"
    }
   ],
   "source": [
    "artChicagoW2V2.most_similar('western')"
   ]
  },
  {
   "cell_type": "markdown",
   "metadata": {},
   "source": [
    "As we can see from the results above, changing the specifications in word2vec will largely change the results. The word \"eastern\" is now associated with adjectives like \"flourished\" and \"islamic\", while the \"word\" western is linked to adjectives like \"folk\" and \"progessive\". "
   ]
  },
  {
   "cell_type": "markdown",
   "metadata": {},
   "source": [
    "#### b. Analogies of critical words of insterest"
   ]
  },
  {
   "cell_type": "code",
   "execution_count": 20,
   "metadata": {},
   "outputs": [
    {
     "data": {
      "text/plain": [
       "[('original', 0.877883791923523),\n",
       " ('formal', 0.8771395087242126),\n",
       " ('qualities', 0.874545693397522),\n",
       " ('focus', 0.8733608722686768),\n",
       " ('demonstrate', 0.8641340732574463),\n",
       " ('pop', 0.8577686548233032),\n",
       " ('textile', 0.8538892865180969),\n",
       " ('pieces', 0.8462241291999817),\n",
       " ('found', 0.8454487323760986),\n",
       " ('aitken', 0.841490626335144)]"
      ]
     },
     "execution_count": 20,
     "metadata": {},
     "output_type": "execute_result"
    }
   ],
   "source": [
    "artChicagoW2V2.most_similar(positive=['fine', 'western'], negative = ['eastern'])"
   ]
  },
  {
   "cell_type": "code",
   "execution_count": 24,
   "metadata": {},
   "outputs": [
    {
     "data": {
      "text/plain": [
       "[('field', 0.930792510509491),\n",
       " ('built', 0.9279467463493347),\n",
       " ('subsequently', 0.9211926460266113),\n",
       " ('silk', 0.9190891981124878),\n",
       " ('scholars', 0.9181811213493347),\n",
       " ('pottery', 0.9153069853782654),\n",
       " ('newly', 0.9129520058631897),\n",
       " ('export', 0.9127002954483032),\n",
       " ('exquisite', 0.9114305973052979),\n",
       " ('amphora', 0.9109964966773987)]"
      ]
     },
     "execution_count": 24,
     "metadata": {},
     "output_type": "execute_result"
    }
   ],
   "source": [
    "artChicagoW2V2.most_similar(positive=['fine', 'eastern'], negative = ['western'])"
   ]
  },
  {
   "cell_type": "markdown",
   "metadata": {},
   "source": [
    "As we can see from the results above, using another specification, the additions and subtractions using the same words are even harder to intercept."
   ]
  },
  {
   "cell_type": "code",
   "execution_count": 25,
   "metadata": {},
   "outputs": [
    {
     "data": {
      "text/plain": [
       "[('western', 0.8521112203598022),\n",
       " ('culture', 0.8520412445068359),\n",
       " ('aesthetic', 0.8504147529602051),\n",
       " ('sought', 0.848166823387146),\n",
       " ('fashion', 0.8397554755210876),\n",
       " ('development', 0.8336559534072876),\n",
       " ('traditions', 0.8336248397827148),\n",
       " ('history', 0.8249714374542236),\n",
       " ('inspiration', 0.8207502365112305),\n",
       " ('favor', 0.8181821703910828)]"
      ]
     },
     "execution_count": 25,
     "metadata": {},
     "output_type": "execute_result"
    }
   ],
   "source": [
    "artChicagoW2V2.most_similar(positive=['modern', 'european'], negative = ['american'])"
   ]
  },
  {
   "cell_type": "code",
   "execution_count": 26,
   "metadata": {},
   "outputs": [
    {
     "data": {
      "text/plain": [
       "[('traditions', 0.8958461284637451),\n",
       " ('influence', 0.8953622579574585),\n",
       " ('western', 0.8948047757148743),\n",
       " ('fashion', 0.894469141960144),\n",
       " ('favor', 0.8921825885772705),\n",
       " ('non', 0.8894596099853516),\n",
       " ('spurned', 0.8883511424064636),\n",
       " ('innovative', 0.8876993656158447),\n",
       " ('islamic', 0.8869465589523315),\n",
       " ('progressive', 0.8864951729774475)]"
      ]
     },
     "execution_count": 26,
     "metadata": {},
     "output_type": "execute_result"
    }
   ],
   "source": [
    "artChicagoW2V2.most_similar(positive=['pop', 'european'], negative = ['american'])"
   ]
  },
  {
   "cell_type": "markdown",
   "metadata": {},
   "source": [
    "Generally speaking, if we change the specifications of word2Vec from CBOW to skip-gram, and increase the window size to 10, the statistics of distance is smaller than the default specification. Also, the results we get are largely different too. "
   ]
  },
  {
   "cell_type": "markdown",
   "metadata": {},
   "source": [
    "#### c. Visualization"
   ]
  },
  {
   "cell_type": "code",
   "execution_count": 27,
   "metadata": {},
   "outputs": [],
   "source": [
    "#Using PCA and TSNE specification for visualization.\n",
    "numWords = 100\n",
    "targetWords = artChicagoW2V.wv.index2word[:numWords]\n",
    "\n",
    "wordsSubMatrix = []\n",
    "for word in targetWords:\n",
    "    wordsSubMatrix.append(artChicagoW2V[word])\n",
    "wordsSubMatrix = np.array(wordsSubMatrix)\n",
    "\n",
    "pcaWords = sklearn.decomposition.PCA(n_components = 100).fit(wordsSubMatrix)\n",
    "reducedPCA_data = pcaWords.transform(wordsSubMatrix)\n",
    "#T-SNE is theoretically better, but you should experiment\n",
    "tsneWords = sklearn.manifold.TSNE(n_components = 2).fit_transform(reducedPCA_data)"
   ]
  },
  {
   "cell_type": "code",
   "execution_count": 28,
   "metadata": {},
   "outputs": [
    {
     "data": {
      "image/png": "[encoded data removed]",
      "text/plain": [
       "<Figure size 720x432 with 1 Axes>"
      ]
     },
     "metadata": {},
     "output_type": "display_data"
    }
   ],
   "source": [
    "fig = plt.figure(figsize = (10,6))\n",
    "ax = fig.add_subplot(111)\n",
    "ax.set_frame_on(False)\n",
    "plt.scatter(tsneWords[:, 0], tsneWords[:, 1], alpha = 0)#Making the points invisible \n",
    "for i, word in enumerate(targetWords):\n",
    "    ax.annotate(word, (tsneWords[:, 0][i],tsneWords[:, 1][i]), size =  20 * (numWords - i) / numWords)\n",
    "plt.xticks(())\n",
    "plt.yticks(())\n",
    "plt.show()"
   ]
  },
  {
   "cell_type": "markdown",
   "metadata": {},
   "source": [
    "As we can see from the graph above, the words that we derive here are more of \"functional\" nouns and verbs rather than those that contain information about the artwork, like \"painting\", \"figure\", and \"century\". <br><br>\n",
    "If we want to extract some patterns here, we can see that the word \"painting\" is close to \"sculpture\" and \"painter\", and the verb \"painted\" is related to \"women\", \"series\", and \"figure\". "
   ]
  },
  {
   "cell_type": "code",
   "execution_count": 29,
   "metadata": {},
   "outputs": [],
   "source": [
    "#Another visualization using incremental PCA\n",
    "IncrePcaWords = sklearn.decomposition.IncrementalPCA(n_components = 100).fit(wordsSubMatrix)\n",
    "reducedPCA_data = IncrePcaWords.transform(wordsSubMatrix)\n",
    "#And use Locally Linear Embeddings...\n",
    "tsneWords = sklearn.manifold.LocallyLinearEmbedding(n_components = 2).fit_transform(reducedPCA_data)"
   ]
  },
  {
   "cell_type": "code",
   "execution_count": 30,
   "metadata": {},
   "outputs": [
    {
     "data": {
      "image/png": "[encoded data removed]",
      "text/plain": [
       "<Figure size 720x432 with 1 Axes>"
      ]
     },
     "metadata": {},
     "output_type": "display_data"
    }
   ],
   "source": [
    "#Plot it\n",
    "fig = plt.figure(figsize = (10,6))\n",
    "ax = fig.add_subplot(111)\n",
    "ax.set_frame_on(False)\n",
    "plt.scatter(tsneWords[:, 0], tsneWords[:, 1], alpha = 0)#Making the points invisible \n",
    "for i, word in enumerate(targetWords):\n",
    "    ax.annotate(word, (tsneWords[:, 0][i],tsneWords[:, 1][i]), size =  20 * (numWords - i) / numWords)\n",
    "plt.xticks(())\n",
    "plt.yticks(())\n",
    "plt.show()"
   ]
  },
  {
   "cell_type": "markdown",
   "metadata": {},
   "source": [
    "When using IncrementalPCA and Locally Linear Embeddings to visualize the vectors, we can see that the visualization is far from satisfying. Most of the words are all clustered in one direction of the graph, whose distance between one another is difficult to distinguish. While for the rest of them, their distances are relatively large and seems to be unrelated with the rest of the word subset. "
   ]
  },
  {
   "cell_type": "markdown",
   "metadata": {},
   "source": [
    "**Summary for Exercise 1** <br>\n",
    "As illustrated from the analysis above, my corpus of musuem data does not reveal a clear semantic structure. The reason behind it might due to the limitation of the size of the corpora. Our corpora only contains the descriptions from The Art Institute of Chicago, which is a extremely minor subsample of all the artworks throughout the history globally. Hence we cannot derive patterns that aiming at revealing the overall semantic patterns of artworks. <br><br>\n",
    "Also, with respect to visualization part, TNSE and PCA method generates the best visualization. "
   ]
  },
  {
   "cell_type": "markdown",
   "metadata": {},
   "source": [
    "## <span style=\"color:red\">*Exercise 2*</span>\n",
    "\n",
    "<span style=\"color:red\">Construct cells immediately below this that embed documents related to your final project using `doc2vec`, and explore the relationship between different documents and the word vectors you analyzed in the last exercise. Consider the most similar words to critical documents, analogies (doc _x_ + word _y_), and other additions and subtractions that reveal the structure of similarity and difference within your semantic space. What does this pattern reveal about the documentary organization of your semantic space?"
   ]
  },
  {
   "cell_type": "code",
   "execution_count": 31,
   "metadata": {},
   "outputs": [
    {
     "data": {
      "text/html": [
       "<div>\n",
       "<style scoped>\n",
       "    .dataframe tbody tr th:only-of-type {\n",
       "        vertical-align: middle;\n",
       "    }\n",
       "\n",
       "    .dataframe tbody tr th {\n",
       "        vertical-align: top;\n",
       "    }\n",
       "\n",
       "    .dataframe thead th {\n",
       "        text-align: right;\n",
       "    }\n",
       "</style>\n",
       "<table border=\"1\" class=\"dataframe\">\n",
       "  <thead>\n",
       "    <tr style=\"text-align: right;\">\n",
       "      <th></th>\n",
       "      <th>artwork_title</th>\n",
       "      <th>description_text</th>\n",
       "      <th>index</th>\n",
       "      <th>metadata</th>\n",
       "      <th>url</th>\n",
       "      <th>tokenized_sents</th>\n",
       "      <th>normalized_sents</th>\n",
       "      <th>title</th>\n",
       "    </tr>\n",
       "  </thead>\n",
       "  <tbody>\n",
       "    <tr>\n",
       "      <td>0</td>\n",
       "      <td>“A” and the Carpenter I, 1973, Sam Gilliam</td>\n",
       "      <td>In the early 1960s Sam Gilliam began to experi...</td>\n",
       "      <td>1852.0</td>\n",
       "      <td>Artist\\nSam Gilliam\\nTitle\\n\"A\" and the Carpen...</td>\n",
       "      <td>https://www.artic.edu/artworks/45860/a-and-the...</td>\n",
       "      <td>[[In, the, early, 1960s, Sam, Gilliam, began, ...</td>\n",
       "      <td>[[early, 1960s, sam, gilliam, began, experimen...</td>\n",
       "      <td>“A” and the Carpenter I</td>\n",
       "    </tr>\n",
       "    <tr>\n",
       "      <td>1</td>\n",
       "      <td>The Baptism of Christ, 1500/05, Perugino</td>\n",
       "      <td>Perugino’s serene and decorous art was widely ...</td>\n",
       "      <td>1854.0</td>\n",
       "      <td>Artist\\nPerugino\\nTitle\\nThe Baptism of Christ...</td>\n",
       "      <td>https://www.artic.edu/artworks/16197/the-bapti...</td>\n",
       "      <td>[[Perugino, ’s, serene, and, decorous, art, wa...</td>\n",
       "      <td>[[perugino, serene, decorous, art, widely, inf...</td>\n",
       "      <td>The Baptism of Christ</td>\n",
       "    </tr>\n",
       "    <tr>\n",
       "      <td>2</td>\n",
       "      <td>Lovers Surprised by Death, 1510, Hans Burgkmai...</td>\n",
       "      <td>Themes derived from the Dance of Death, a medi...</td>\n",
       "      <td>1858.0</td>\n",
       "      <td>Artist\\nHans Burgkmair, the elder\\nTitle\\nLove...</td>\n",
       "      <td>https://www.artic.edu/artworks/147064/lovers-s...</td>\n",
       "      <td>[[Themes, derived, from, the, Dance, of, Death...</td>\n",
       "      <td>[[themes, derived, dance, death, medieval, all...</td>\n",
       "      <td>Lovers Surprised by Death</td>\n",
       "    </tr>\n",
       "    <tr>\n",
       "      <td>3</td>\n",
       "      <td>Calla Lilies, 1922/25, Arthur B. Carles</td>\n",
       "      <td>In 1922, Arthur B. Carles began a series of ca...</td>\n",
       "      <td>1860.0</td>\n",
       "      <td>Artist\\nArthur B. Carles\\nTitle\\nCalla Lilies\\...</td>\n",
       "      <td>https://www.artic.edu/artworks/193869/calla-li...</td>\n",
       "      <td>[[In, 1922, Arthur, B., Carles, began, a, seri...</td>\n",
       "      <td>[[arthur, b., carles, began, series, calla, li...</td>\n",
       "      <td>Calla Lilies</td>\n",
       "    </tr>\n",
       "    <tr>\n",
       "      <td>4</td>\n",
       "      <td>Figure, 1927, Pablo Picasso</td>\n",
       "      <td>Head is an example of Pablo Picasso’s constant...</td>\n",
       "      <td>1863.0</td>\n",
       "      <td>Artist\\nPablo Picasso\\nTitle\\nFigure\\nOrigin\\n...</td>\n",
       "      <td>https://www.artic.edu/artworks/75315/figure</td>\n",
       "      <td>[[Head, is, an, example, of, Pablo, Picasso, ’...</td>\n",
       "      <td>[[head, example, pablo, picasso, constant, exp...</td>\n",
       "      <td>Figure</td>\n",
       "    </tr>\n",
       "  </tbody>\n",
       "</table>\n",
       "</div>"
      ],
      "text/plain": [
       "                                       artwork_title  \\\n",
       "0         “A” and the Carpenter I, 1973, Sam Gilliam   \n",
       "1           The Baptism of Christ, 1500/05, Perugino   \n",
       "2  Lovers Surprised by Death, 1510, Hans Burgkmai...   \n",
       "3            Calla Lilies, 1922/25, Arthur B. Carles   \n",
       "4                        Figure, 1927, Pablo Picasso   \n",
       "\n",
       "                                    description_text   index  \\\n",
       "0  In the early 1960s Sam Gilliam began to experi...  1852.0   \n",
       "1  Perugino’s serene and decorous art was widely ...  1854.0   \n",
       "2  Themes derived from the Dance of Death, a medi...  1858.0   \n",
       "3  In 1922, Arthur B. Carles began a series of ca...  1860.0   \n",
       "4  Head is an example of Pablo Picasso’s constant...  1863.0   \n",
       "\n",
       "                                            metadata  \\\n",
       "0  Artist\\nSam Gilliam\\nTitle\\n\"A\" and the Carpen...   \n",
       "1  Artist\\nPerugino\\nTitle\\nThe Baptism of Christ...   \n",
       "2  Artist\\nHans Burgkmair, the elder\\nTitle\\nLove...   \n",
       "3  Artist\\nArthur B. Carles\\nTitle\\nCalla Lilies\\...   \n",
       "4  Artist\\nPablo Picasso\\nTitle\\nFigure\\nOrigin\\n...   \n",
       "\n",
       "                                                 url  \\\n",
       "0  https://www.artic.edu/artworks/45860/a-and-the...   \n",
       "1  https://www.artic.edu/artworks/16197/the-bapti...   \n",
       "2  https://www.artic.edu/artworks/147064/lovers-s...   \n",
       "3  https://www.artic.edu/artworks/193869/calla-li...   \n",
       "4        https://www.artic.edu/artworks/75315/figure   \n",
       "\n",
       "                                     tokenized_sents  \\\n",
       "0  [[In, the, early, 1960s, Sam, Gilliam, began, ...   \n",
       "1  [[Perugino, ’s, serene, and, decorous, art, wa...   \n",
       "2  [[Themes, derived, from, the, Dance, of, Death...   \n",
       "3  [[In, 1922, Arthur, B., Carles, began, a, seri...   \n",
       "4  [[Head, is, an, example, of, Pablo, Picasso, ’...   \n",
       "\n",
       "                                    normalized_sents  \\\n",
       "0  [[early, 1960s, sam, gilliam, began, experimen...   \n",
       "1  [[perugino, serene, decorous, art, widely, inf...   \n",
       "2  [[themes, derived, dance, death, medieval, all...   \n",
       "3  [[arthur, b., carles, began, series, calla, li...   \n",
       "4  [[head, example, pablo, picasso, constant, exp...   \n",
       "\n",
       "                       title  \n",
       "0    “A” and the Carpenter I  \n",
       "1      The Baptism of Christ  \n",
       "2  Lovers Surprised by Death  \n",
       "3               Calla Lilies  \n",
       "4                     Figure  "
      ]
     },
     "execution_count": 31,
     "metadata": {},
     "output_type": "execute_result"
    }
   ],
   "source": [
    "#Now update the corpus by specifying the title of the artwork\n",
    "title_list = []\n",
    "for sent in art_chicago['artwork_title']:\n",
    "    temp = sent.split(',')\n",
    "    title_list.append(temp[0])\n",
    "art_chicago['title'] = title_list\n",
    "art_chicago.head()"
   ]
  },
  {
   "cell_type": "code",
   "execution_count": 46,
   "metadata": {},
   "outputs": [],
   "source": [
    "#Now tokenize and normalize words not sentences\n",
    "art_chicago['tokenized_words'] = art_chicago['description_text'].apply(lambda x: lucem_illud_2020.word_tokenize(x))\n",
    "art_chicago['normalized_words'] = art_chicago['tokenized_words'].apply(lambda x: lucem_illud_2020.normalizeTokens(x, lemma=False))"
   ]
  },
  {
   "cell_type": "code",
   "execution_count": 50,
   "metadata": {},
   "outputs": [
    {
     "data": {
      "text/html": [
       "<div>\n",
       "<style scoped>\n",
       "    .dataframe tbody tr th:only-of-type {\n",
       "        vertical-align: middle;\n",
       "    }\n",
       "\n",
       "    .dataframe tbody tr th {\n",
       "        vertical-align: top;\n",
       "    }\n",
       "\n",
       "    .dataframe thead th {\n",
       "        text-align: right;\n",
       "    }\n",
       "</style>\n",
       "<table border=\"1\" class=\"dataframe\">\n",
       "  <thead>\n",
       "    <tr style=\"text-align: right;\">\n",
       "      <th></th>\n",
       "      <th>artwork_title</th>\n",
       "      <th>description_text</th>\n",
       "      <th>index</th>\n",
       "      <th>metadata</th>\n",
       "      <th>url</th>\n",
       "      <th>tokenized_sents</th>\n",
       "      <th>normalized_sents</th>\n",
       "      <th>title</th>\n",
       "      <th>tagged_description</th>\n",
       "      <th>tokenized_words</th>\n",
       "      <th>normalized_words</th>\n",
       "    </tr>\n",
       "  </thead>\n",
       "  <tbody>\n",
       "    <tr>\n",
       "      <td>0</td>\n",
       "      <td>“A” and the Carpenter I, 1973, Sam Gilliam</td>\n",
       "      <td>In the early 1960s Sam Gilliam began to experi...</td>\n",
       "      <td>1852.0</td>\n",
       "      <td>Artist\\nSam Gilliam\\nTitle\\n\"A\" and the Carpen...</td>\n",
       "      <td>https://www.artic.edu/artworks/45860/a-and-the...</td>\n",
       "      <td>[[In, the, early, 1960s, Sam, Gilliam, began, ...</td>\n",
       "      <td>[[early, 1960s, sam, gilliam, began, experimen...</td>\n",
       "      <td>“A” and the Carpenter I</td>\n",
       "      <td>([early, 1960s, sam, gilliam, began, experimen...</td>\n",
       "      <td>[In, the, early, 1960s, Sam, Gilliam, began, t...</td>\n",
       "      <td>[early, 1960s, sam, gilliam, began, experiment...</td>\n",
       "    </tr>\n",
       "    <tr>\n",
       "      <td>1</td>\n",
       "      <td>The Baptism of Christ, 1500/05, Perugino</td>\n",
       "      <td>Perugino’s serene and decorous art was widely ...</td>\n",
       "      <td>1854.0</td>\n",
       "      <td>Artist\\nPerugino\\nTitle\\nThe Baptism of Christ...</td>\n",
       "      <td>https://www.artic.edu/artworks/16197/the-bapti...</td>\n",
       "      <td>[[Perugino, ’s, serene, and, decorous, art, wa...</td>\n",
       "      <td>[[perugino, serene, decorous, art, widely, inf...</td>\n",
       "      <td>The Baptism of Christ</td>\n",
       "      <td>([perugino, serene, decorous, art, widely, inf...</td>\n",
       "      <td>[Perugino, ’s, serene, and, decorous, art, was...</td>\n",
       "      <td>[perugino, serene, decorous, art, widely, infl...</td>\n",
       "    </tr>\n",
       "    <tr>\n",
       "      <td>2</td>\n",
       "      <td>Lovers Surprised by Death, 1510, Hans Burgkmai...</td>\n",
       "      <td>Themes derived from the Dance of Death, a medi...</td>\n",
       "      <td>1858.0</td>\n",
       "      <td>Artist\\nHans Burgkmair, the elder\\nTitle\\nLove...</td>\n",
       "      <td>https://www.artic.edu/artworks/147064/lovers-s...</td>\n",
       "      <td>[[Themes, derived, from, the, Dance, of, Death...</td>\n",
       "      <td>[[themes, derived, dance, death, medieval, all...</td>\n",
       "      <td>Lovers Surprised by Death</td>\n",
       "      <td>([themes, derived, dance, death, medieval, all...</td>\n",
       "      <td>[Themes, derived, from, the, Dance, of, Death,...</td>\n",
       "      <td>[themes, derived, dance, death, medieval, alle...</td>\n",
       "    </tr>\n",
       "    <tr>\n",
       "      <td>3</td>\n",
       "      <td>Calla Lilies, 1922/25, Arthur B. Carles</td>\n",
       "      <td>In 1922, Arthur B. Carles began a series of ca...</td>\n",
       "      <td>1860.0</td>\n",
       "      <td>Artist\\nArthur B. Carles\\nTitle\\nCalla Lilies\\...</td>\n",
       "      <td>https://www.artic.edu/artworks/193869/calla-li...</td>\n",
       "      <td>[[In, 1922, Arthur, B., Carles, began, a, seri...</td>\n",
       "      <td>[[arthur, b., carles, began, series, calla, li...</td>\n",
       "      <td>Calla Lilies</td>\n",
       "      <td>([arthur, b., carles, began, series, calla, li...</td>\n",
       "      <td>[In, 1922, Arthur, B., Carles, began, a, serie...</td>\n",
       "      <td>[arthur, b., carles, began, series, calla, lil...</td>\n",
       "    </tr>\n",
       "    <tr>\n",
       "      <td>4</td>\n",
       "      <td>Figure, 1927, Pablo Picasso</td>\n",
       "      <td>Head is an example of Pablo Picasso’s constant...</td>\n",
       "      <td>1863.0</td>\n",
       "      <td>Artist\\nPablo Picasso\\nTitle\\nFigure\\nOrigin\\n...</td>\n",
       "      <td>https://www.artic.edu/artworks/75315/figure</td>\n",
       "      <td>[[Head, is, an, example, of, Pablo, Picasso, ’...</td>\n",
       "      <td>[[head, example, pablo, picasso, constant, exp...</td>\n",
       "      <td>Figure</td>\n",
       "      <td>([head, example, pablo, picasso, constant, exp...</td>\n",
       "      <td>[Head, is, an, example, of, Pablo, Picasso, ’s...</td>\n",
       "      <td>[head, example, pablo, picasso, constant, expe...</td>\n",
       "    </tr>\n",
       "  </tbody>\n",
       "</table>\n",
       "</div>"
      ],
      "text/plain": [
       "                                       artwork_title  \\\n",
       "0         “A” and the Carpenter I, 1973, Sam Gilliam   \n",
       "1           The Baptism of Christ, 1500/05, Perugino   \n",
       "2  Lovers Surprised by Death, 1510, Hans Burgkmai...   \n",
       "3            Calla Lilies, 1922/25, Arthur B. Carles   \n",
       "4                        Figure, 1927, Pablo Picasso   \n",
       "\n",
       "                                    description_text   index  \\\n",
       "0  In the early 1960s Sam Gilliam began to experi...  1852.0   \n",
       "1  Perugino’s serene and decorous art was widely ...  1854.0   \n",
       "2  Themes derived from the Dance of Death, a medi...  1858.0   \n",
       "3  In 1922, Arthur B. Carles began a series of ca...  1860.0   \n",
       "4  Head is an example of Pablo Picasso’s constant...  1863.0   \n",
       "\n",
       "                                            metadata  \\\n",
       "0  Artist\\nSam Gilliam\\nTitle\\n\"A\" and the Carpen...   \n",
       "1  Artist\\nPerugino\\nTitle\\nThe Baptism of Christ...   \n",
       "2  Artist\\nHans Burgkmair, the elder\\nTitle\\nLove...   \n",
       "3  Artist\\nArthur B. Carles\\nTitle\\nCalla Lilies\\...   \n",
       "4  Artist\\nPablo Picasso\\nTitle\\nFigure\\nOrigin\\n...   \n",
       "\n",
       "                                                 url  \\\n",
       "0  https://www.artic.edu/artworks/45860/a-and-the...   \n",
       "1  https://www.artic.edu/artworks/16197/the-bapti...   \n",
       "2  https://www.artic.edu/artworks/147064/lovers-s...   \n",
       "3  https://www.artic.edu/artworks/193869/calla-li...   \n",
       "4        https://www.artic.edu/artworks/75315/figure   \n",
       "\n",
       "                                     tokenized_sents  \\\n",
       "0  [[In, the, early, 1960s, Sam, Gilliam, began, ...   \n",
       "1  [[Perugino, ’s, serene, and, decorous, art, wa...   \n",
       "2  [[Themes, derived, from, the, Dance, of, Death...   \n",
       "3  [[In, 1922, Arthur, B., Carles, began, a, seri...   \n",
       "4  [[Head, is, an, example, of, Pablo, Picasso, ’...   \n",
       "\n",
       "                                    normalized_sents  \\\n",
       "0  [[early, 1960s, sam, gilliam, began, experimen...   \n",
       "1  [[perugino, serene, decorous, art, widely, inf...   \n",
       "2  [[themes, derived, dance, death, medieval, all...   \n",
       "3  [[arthur, b., carles, began, series, calla, li...   \n",
       "4  [[head, example, pablo, picasso, constant, exp...   \n",
       "\n",
       "                       title  \\\n",
       "0    “A” and the Carpenter I   \n",
       "1      The Baptism of Christ   \n",
       "2  Lovers Surprised by Death   \n",
       "3               Calla Lilies   \n",
       "4                     Figure   \n",
       "\n",
       "                                  tagged_description  \\\n",
       "0  ([early, 1960s, sam, gilliam, began, experimen...   \n",
       "1  ([perugino, serene, decorous, art, widely, inf...   \n",
       "2  ([themes, derived, dance, death, medieval, all...   \n",
       "3  ([arthur, b., carles, began, series, calla, li...   \n",
       "4  ([head, example, pablo, picasso, constant, exp...   \n",
       "\n",
       "                                     tokenized_words  \\\n",
       "0  [In, the, early, 1960s, Sam, Gilliam, began, t...   \n",
       "1  [Perugino, ’s, serene, and, decorous, art, was...   \n",
       "2  [Themes, derived, from, the, Dance, of, Death,...   \n",
       "3  [In, 1922, Arthur, B., Carles, began, a, serie...   \n",
       "4  [Head, is, an, example, of, Pablo, Picasso, ’s...   \n",
       "\n",
       "                                    normalized_words  \n",
       "0  [early, 1960s, sam, gilliam, began, experiment...  \n",
       "1  [perugino, serene, decorous, art, widely, infl...  \n",
       "2  [themes, derived, dance, death, medieval, alle...  \n",
       "3  [arthur, b., carles, began, series, calla, lil...  \n",
       "4  [head, example, pablo, picasso, constant, expe...  "
      ]
     },
     "execution_count": 50,
     "metadata": {},
     "output_type": "execute_result"
    }
   ],
   "source": [
    "art_chicago.head()"
   ]
  },
  {
   "cell_type": "code",
   "execution_count": 51,
   "metadata": {},
   "outputs": [],
   "source": [
    "from itertools import chain\n",
    "#Now choose some important art styles type as keywords in this exercise\n",
    "keywords = ['surrealism', 'impressionism', 'modern', 'pop', 'expressionism', 'cubism', 'realism', 'neoclassicism', 'renaissance']\n",
    "taggedDocs = []\n",
    "for index, row in art_chicago.iterrows():\n",
    "    #Just doing a simple keyword assignment\n",
    "    docKeywords = [s for s in keywords if s in row['normalized_words']]\n",
    "    docKeywords.append(row['title']) #Title is unique\n",
    "    taggedDocs.append(gensim.models.doc2vec.LabeledSentence(words = row['normalized_words'], tags = docKeywords))\n",
    "art_chicago['tagged_description'] = taggedDocs"
   ]
  },
  {
   "cell_type": "code",
   "execution_count": 52,
   "metadata": {},
   "outputs": [
    {
     "data": {
      "text/plain": [
       "1    ([perugino, serene, decorous, art, widely, inf...\n",
       "1    ([november, degas, monotype, landscapes, subje...\n",
       "1    ([belle, ile, small, island, southern, shore, ...\n",
       "1    ([door, palace, depicts, scenes, provide, glim...\n",
       "1    ([visitors, germany, 17th, century, commented,...\n",
       "                           ...                        \n",
       "1    ([identical, dedicatory, inscriptions, cast, i...\n",
       "1    ([half, length, format, jewel, like, painting,...\n",
       "1    ([chivalric, tales, renaissance, especially, i...\n",
       "1    ([like, african, americans, walter, ellison, l...\n",
       "1    ([paul, cézanne, painted, work, prolonged, sta...\n",
       "Name: tagged_description, Length: 190, dtype: object"
      ]
     },
     "execution_count": 52,
     "metadata": {},
     "output_type": "execute_result"
    }
   ],
   "source": [
    "art_chicago['tagged_description'][1]"
   ]
  },
  {
   "cell_type": "code",
   "execution_count": 54,
   "metadata": {},
   "outputs": [],
   "source": [
    "#Train a Doc2Vec model\n",
    "artD2V = gensim.models.doc2vec.Doc2Vec(art_chicago['tagged_description'], size = 100)"
   ]
  },
  {
   "cell_type": "markdown",
   "metadata": {},
   "source": [
    "### 1. Word analogies (like exercise 1)"
   ]
  },
  {
   "cell_type": "markdown",
   "metadata": {},
   "source": [
    "#### a. western to eastern art"
   ]
  },
  {
   "cell_type": "code",
   "execution_count": 55,
   "metadata": {},
   "outputs": [
    {
     "data": {
      "text/plain": [
       "[('pp', 0.9994946122169495),\n",
       " ('photographer', 0.9993811845779419),\n",
       " ('exhibition', 0.9993659257888794),\n",
       " ('ill', 0.9993264079093933),\n",
       " ('o’keeffe', 0.9992262125015259),\n",
       " ('joseph', 0.9992132186889648),\n",
       " ('avenue', 0.9991186857223511),\n",
       " ('african', 0.9991023540496826),\n",
       " ('american', 0.9991000294685364),\n",
       " ('surrealism', 0.9990928173065186)]"
      ]
     },
     "execution_count": 55,
     "metadata": {},
     "output_type": "execute_result"
    }
   ],
   "source": [
    "artD2V.most_similar(positive=['fine', 'western'], negative = ['eastern'])"
   ]
  },
  {
   "cell_type": "code",
   "execution_count": 56,
   "metadata": {},
   "outputs": [
    {
     "data": {
      "text/plain": [
       "[('shaped', 0.9997824430465698),\n",
       " ('symbols', 0.9997790455818176),\n",
       " ('eyes', 0.9997725486755371),\n",
       " ('coin', 0.9997721910476685),\n",
       " ('arms', 0.999771237373352),\n",
       " ('mask', 0.9997705221176147),\n",
       " ('thick', 0.9997702240943909),\n",
       " ('god', 0.999767005443573),\n",
       " ('evoke', 0.9997649192810059),\n",
       " ('rendered', 0.9997648000717163)]"
      ]
     },
     "execution_count": 56,
     "metadata": {},
     "output_type": "execute_result"
    }
   ],
   "source": [
    "artD2V.most_similar(positive=['fine', 'eastern'], negative = ['western'])"
   ]
  },
  {
   "cell_type": "markdown",
   "metadata": {},
   "source": [
    "No patterns found here..."
   ]
  },
  {
   "cell_type": "markdown",
   "metadata": {},
   "source": [
    "#### b. european to american art"
   ]
  },
  {
   "cell_type": "code",
   "execution_count": 57,
   "metadata": {},
   "outputs": [
    {
     "data": {
      "text/plain": [
       "[('pop', 0.9962180256843567),\n",
       " ('guitarist', 0.995482325553894),\n",
       " ('museum', 0.995245635509491),\n",
       " ('whitney', 0.9947038292884827),\n",
       " ('metropolitan', 0.9945686459541321),\n",
       " ('architects', 0.9941460490226746),\n",
       " ('p.', 0.9940160512924194),\n",
       " ('league', 0.993520975112915),\n",
       " ('surrealist', 0.9927002191543579),\n",
       " ('deco', 0.9925746917724609)]"
      ]
     },
     "execution_count": 57,
     "metadata": {},
     "output_type": "execute_result"
    }
   ],
   "source": [
    "artD2V.most_similar(positive=['modern', 'european'], negative = ['american'])"
   ]
  },
  {
   "cell_type": "code",
   "execution_count": 58,
   "metadata": {},
   "outputs": [
    {
     "data": {
      "text/plain": [
       "[('school', 0.9987308979034424),\n",
       " ('dealer', 0.9986993670463562),\n",
       " ('columbian', 0.9978652596473694),\n",
       " ('studies', 0.9976280331611633),\n",
       " ('exhibited', 0.9976052641868591),\n",
       " ('illinois', 0.9975389838218689),\n",
       " ('gallery', 0.9975173473358154),\n",
       " ('metropolitan', 0.9972501993179321),\n",
       " ('acquired', 0.9971882700920105),\n",
       " ('joseph', 0.9969403147697449)]"
      ]
     },
     "execution_count": 58,
     "metadata": {},
     "output_type": "execute_result"
    }
   ],
   "source": [
    "artD2V.most_similar(positive=['pop', 'european'], negative = ['american'])"
   ]
  },
  {
   "cell_type": "markdown",
   "metadata": {},
   "source": [
    "The results show that american to modern is similar to european to pop, which is actually not the thing that we are expected...And the next result for american to pop and european to what is even less satisfying, which illustrates no explainable patterns. "
   ]
  },
  {
   "cell_type": "markdown",
   "metadata": {},
   "source": [
    "### 2. Most similar words in critical artworks"
   ]
  },
  {
   "cell_type": "code",
   "execution_count": 59,
   "metadata": {},
   "outputs": [
    {
     "data": {
      "text/plain": [
       "[('realism', 0.998552680015564),\n",
       " ('pop', 0.9985290169715881),\n",
       " ('Washbowl', 0.9984998106956482),\n",
       " ('Homage to Tamara Toumanova', 0.9984709024429321),\n",
       " ('Fourth of July', 0.9984201192855835)]"
      ]
     },
     "execution_count": 59,
     "metadata": {},
     "output_type": "execute_result"
    }
   ],
   "source": [
    "artD2V.docvecs.most_similar([artD2V['impressionism'] ], topn=5 )"
   ]
  },
  {
   "cell_type": "markdown",
   "metadata": {},
   "source": [
    "Beside the words appearing here, we can see that the most representative work of impressionism in The Art Institute of Chicago is \"Washbowl\" by Edward Weston, who is a photographer of pictorialism style. Seems not right here. What ranked second is a painting by Joseph Cornell, \"Homage to Tamara Toumanova\". This is a painting, however, belongs to surrealism not impressionism. And the third one, \"Fourth of July\", is a photograph too. "
   ]
  },
  {
   "cell_type": "code",
   "execution_count": 61,
   "metadata": {},
   "outputs": [
    {
     "data": {
      "text/plain": [
       "[('model', 0.9992702603340149),\n",
       " ('said', 0.9992620944976807),\n",
       " ('creating', 0.9992563724517822),\n",
       " ('sound', 0.9992518424987793),\n",
       " ('convey', 0.9992499351501465),\n",
       " ('response', 0.9992477893829346),\n",
       " ('book', 0.9992406964302063),\n",
       " ('production', 0.9992368221282959),\n",
       " ('free', 0.999235987663269),\n",
       " ('having', 0.9992321729660034)]"
      ]
     },
     "execution_count": 61,
     "metadata": {},
     "output_type": "execute_result"
    }
   ],
   "source": [
    "#Now let us look at the most similar words to the famous painting Nighthawks by Edward Hooper\n",
    "artD2V.most_similar([artD2V.docvecs['Nighthawks'] ]) "
   ]
  },
  {
   "cell_type": "markdown",
   "metadata": {},
   "source": [
    "No valuable information revealed here. "
   ]
  },
  {
   "cell_type": "code",
   "execution_count": 62,
   "metadata": {},
   "outputs": [
    {
     "data": {
      "text/plain": [
       "[('Mixed Behavior', 0.9998504519462585),\n",
       " ('Gold Pectoral with Zoomorphic Face', 0.9998139142990112),\n",
       " ('Burden Basket', 0.9998006224632263),\n",
       " ('Self-Portrait', 0.9997994899749756),\n",
       " ('Untitled (Harlequin)', 0.9997949600219727)]"
      ]
     },
     "execution_count": 62,
     "metadata": {},
     "output_type": "execute_result"
    }
   ],
   "source": [
    "#Now look at analogies of additions and substractions of words\n",
    "artD2V.docvecs.most_similar([artD2V['impressionism'] + artD2V['french']], topn=5 )"
   ]
  },
  {
   "cell_type": "markdown",
   "metadata": {},
   "source": [
    "The results shows top five artworks that has the feature of \"impressionism\" and \"french\". What ranked first is a video...But its photographer has her inspirations from Paris, that is really related to French. What ranked second is an ancient sculpture (or ornament) in Peru. What ranked third, \"Burden Basket\" is an actual basket from an Indian Tribe one hundred years old. Generally speaking, the results we found here is far from satisfying.  "
   ]
  },
  {
   "cell_type": "code",
   "execution_count": 63,
   "metadata": {},
   "outputs": [
    {
     "data": {
      "text/plain": [
       "[('From My Window at An American Place', 0.9630231857299805),\n",
       " ('Georgia O’Keeffe', 0.9487521648406982),\n",
       " ('Arthur G. Dove', 0.9443114995956421),\n",
       " ('From the Back-Window “291”', 0.9310410618782043),\n",
       " ('Spring Showers', 0.9296377301216125)]"
      ]
     },
     "execution_count": 63,
     "metadata": {},
     "output_type": "execute_result"
    }
   ],
   "source": [
    "#Now look at analogies of additions and substractions of words\n",
    "artD2V.docvecs.most_similar([artD2V['pop'] + artD2V['american'] - artD2V['sculpture']], topn=5 )"
   ]
  },
  {
   "cell_type": "markdown",
   "metadata": {},
   "source": [
    "Ah ha! There is some patterns shown here. Here we want to look at american pop artworks that is not a sculpture. The first item that appears is \"From My Window at An American Place\", which are a series of photographes that take the view New York, and their photographer is Georigia O'Keeffe, who ranked second in the list."
   ]
  },
  {
   "cell_type": "markdown",
   "metadata": {},
   "source": [
    "### 3. Visualization"
   ]
  },
  {
   "cell_type": "code",
   "execution_count": 64,
   "metadata": {},
   "outputs": [],
   "source": [
    "#Plot the keywords similarities\n",
    "heatmapMatrix = []\n",
    "for tagOuter in keywords:\n",
    "    column = []\n",
    "    tagVec = artD2V.docvecs[tagOuter].reshape(1, -1)\n",
    "    for tagInner in keywords:\n",
    "        column.append(sklearn.metrics.pairwise.cosine_similarity(tagVec, artD2V.docvecs[tagInner].reshape(1, -1))[0][0])\n",
    "    heatmapMatrix.append(column)\n",
    "heatmapMatrix = np.array(heatmapMatrix)"
   ]
  },
  {
   "cell_type": "code",
   "execution_count": 65,
   "metadata": {},
   "outputs": [
    {
     "data": {
      "image/png": "[encoded data removed]",
      "text/plain": [
       "<Figure size 432x288 with 2 Axes>"
      ]
     },
     "metadata": {
      "needs_background": "light"
     },
     "output_type": "display_data"
    }
   ],
   "source": [
    "fig, ax = plt.subplots()\n",
    "hmap = ax.pcolor(heatmapMatrix, cmap='terrain')\n",
    "cbar = plt.colorbar(hmap)\n",
    "\n",
    "cbar.set_label('cosine similarity', rotation=270)\n",
    "a = ax.set_xticks(np.arange(heatmapMatrix.shape[1]) + 0.5, minor=False)\n",
    "a = ax.set_yticks(np.arange(heatmapMatrix.shape[0]) + 0.5, minor=False)\n",
    "\n",
    "a = ax.set_xticklabels(keywords, minor=False, rotation=270)\n",
    "a = ax.set_yticklabels(keywords, minor=False)"
   ]
  },
  {
   "cell_type": "markdown",
   "metadata": {},
   "source": [
    "From the graph above we can see that all these art styles seems to be strongly related to one another except for one genre: modern. It has the least similarities with renaissance and impressionism. What worth mentioning here is that the values of cosine similarity we obtained here are much more larger than expected, which is a good question to be digged into in the future analysis. "
   ]
  },
  {
   "cell_type": "code",
   "execution_count": 73,
   "metadata": {},
   "outputs": [],
   "source": [
    "#Word similarities within artworks\n",
    "targetDocs = art_chicago['title'][20:30]\n",
    "\n",
    "heatmapMatrixC = []\n",
    "\n",
    "for tagOuter in targetDocs:\n",
    "    column = []\n",
    "    tagVec = artD2V.docvecs[tagOuter].reshape(1, -1)\n",
    "    for tagInner in keywords:\n",
    "        column.append(sklearn.metrics.pairwise.cosine_similarity(tagVec, artD2V.docvecs[tagInner].reshape(1, -1))[0][0])\n",
    "    heatmapMatrixC.append(column)\n",
    "heatmapMatrixC = np.array(heatmapMatrixC)"
   ]
  },
  {
   "cell_type": "code",
   "execution_count": 74,
   "metadata": {},
   "outputs": [
    {
     "data": {
      "image/png": "[encoded data removed]",
      "text/plain": [
       "<Figure size 432x288 with 2 Axes>"
      ]
     },
     "metadata": {
      "needs_background": "light"
     },
     "output_type": "display_data"
    }
   ],
   "source": [
    "fig, ax = plt.subplots()\n",
    "hmap = ax.pcolor(heatmapMatrixC, cmap='terrain')\n",
    "cbar = plt.colorbar(hmap)\n",
    "\n",
    "cbar.set_label('cosine similarity', rotation=270)\n",
    "a = ax.set_xticks(np.arange(heatmapMatrixC.shape[1]) + 0.5, minor=False)\n",
    "a = ax.set_yticks(np.arange(heatmapMatrixC.shape[0]) + 0.5, minor=False)\n",
    "\n",
    "a = ax.set_xticklabels(keywords, minor=False, rotation=270)\n",
    "a = ax.set_yticklabels(targetDocs, minor=False)"
   ]
  },
  {
   "cell_type": "markdown",
   "metadata": {},
   "source": [
    "No visible & explainable patterns here. "
   ]
  },
  {
   "cell_type": "markdown",
   "metadata": {},
   "source": [
    "## <span style=\"color:red\">*Exercise 3*</span>\n",
    "\n",
    "<span style=\"color:red\">Construct cells immediately below this that embed documents related to your final project, then generate meaningful semantic dimensions based on your theoretical understanding of the semantic space (i.e., by subtracting semantically opposite word vectors) and project another set of word vectors onto those dimensions. Interpret the meaning of these projections for your analysis. Which of the dimensions you analyze explain the most variation in the projection of your words and why? \n",
    "\n",
    "<span style=\"color:red\">***Stretch***: Average together multiple antonym pairs to create robust semantic dimensions. How do word projections on these robust dimensions differ from single-pair dimensions?"
   ]
  },
  {
   "cell_type": "code",
   "execution_count": 76,
   "metadata": {},
   "outputs": [],
   "source": [
    "def normalize(vector):\n",
    "    normalized_vector = vector / np.linalg.norm(vector)\n",
    "    return normalized_vector\n",
    "\n",
    "def dimension(model, positives, negatives):\n",
    "    diff = sum([normalize(model[x]) for x in positives]) - sum([normalize(model[y]) for y in negatives])\n",
    "    return diff"
   ]
  },
  {
   "cell_type": "code",
   "execution_count": 79,
   "metadata": {},
   "outputs": [],
   "source": [
    "#Define my dimensions of interest\n",
    "Reality = dimension(artChicagoW2V, ['real', 'realistic', 'true'], ['surreal', 'fantasy', 'imagine', 'imaginary'])\n",
    "Pop = dimension(artChicagoW2V, ['modern', 'pop', 'temporary'], ['classic', 'traditional'])"
   ]
  },
  {
   "cell_type": "code",
   "execution_count": 102,
   "metadata": {},
   "outputs": [],
   "source": [
    "#The words category are basically artists and some features\n",
    "Human = ['girl', 'woman', 'man', 'child', 'boy', 'baby', 'lady', 'gentleman']\n",
    "Objects = ['fruit', 'tree', 'bird', 'sea', 'vase', 'house', 'flower', 'water']"
   ]
  },
  {
   "cell_type": "code",
   "execution_count": 103,
   "metadata": {},
   "outputs": [],
   "source": [
    "import pandas\n",
    "\n",
    "def makeDF(model, word_list):\n",
    "    r = []\n",
    "    p = []\n",
    "    for word in word_list:\n",
    "        #a.append(sklearn.metrics.pairwise.cosine_similarity(artD2V.docvecs[word].reshape(1,-1), Artists.reshape(1,-1)[0][0]))\n",
    "        r.append(sklearn.metrics.pairwise.cosine_similarity(artChicagoW2V[word].reshape(1,-1), Reality.reshape(1,-1))[0][0])\n",
    "        p.append(sklearn.metrics.pairwise.cosine_similarity(artChicagoW2V[word].reshape(1,-1), Pop.reshape(1,-1))[0][0])\n",
    "    df = pandas.DataFrame({'reality': r, 'pop': p}, index = word_list)\n",
    "    return df"
   ]
  },
  {
   "cell_type": "code",
   "execution_count": 104,
   "metadata": {},
   "outputs": [],
   "source": [
    "#Get the projections\n",
    "Humandf = makeDF(artChicagoW2V, Human)\n",
    "Objectsdf = makeDF(artChicagoW2V, Objects)"
   ]
  },
  {
   "cell_type": "code",
   "execution_count": 105,
   "metadata": {},
   "outputs": [],
   "source": [
    "def Coloring(Series):\n",
    "    x = Series.values\n",
    "    y = x-x.min()\n",
    "    z = y/y.max()\n",
    "    c = list(plt.cm.rainbow(z))\n",
    "    return c\n",
    "\n",
    "def PlotDimension(ax,df, dim):\n",
    "    ax.set_frame_on(False)\n",
    "    ax.set_title(dim, fontsize = 20)\n",
    "    colors = Coloring(df[dim])\n",
    "    for i, word in enumerate(df.index):\n",
    "        ax.annotate(word, (0, df[dim][i]), color = colors[i], alpha = 0.6, fontsize = 12)\n",
    "    MaxY = df[dim].max()\n",
    "    MinY = df[dim].min()\n",
    "    plt.ylim(MinY,MaxY)\n",
    "    plt.yticks(())\n",
    "    plt.xticks(())"
   ]
  },
  {
   "cell_type": "code",
   "execution_count": 109,
   "metadata": {},
   "outputs": [
    {
     "data": {
      "image/png": "[encoded data removed]",
      "text/plain": [
       "<Figure size 864x288 with 2 Axes>"
      ]
     },
     "metadata": {},
     "output_type": "display_data"
    }
   ],
   "source": [
    "fig = plt.figure(figsize = (12,4))\n",
    "ax1 = fig.add_subplot(121)\n",
    "PlotDimension(ax1, Humandf, 'reality')\n",
    "ax2 = fig.add_subplot(122)\n",
    "PlotDimension(ax2, Humandf, 'pop')\n",
    "plt.show()"
   ]
  },
  {
   "cell_type": "markdown",
   "metadata": {},
   "source": [
    "From the graph above we can see that baby seems to appears more often in realism artworks rather than artworks that are \"surreal\" and \"fantasy\" themes. Also, since the word \"lady\" and \"gentleman\" are a little bit old-fashioned, so they are also more likely to be linked with realism artworks. By in the graph on the right, we can see a similar trend that \"baby\" is of traditional themes. \"Women\" also appears more in modern artworks than any other human figures."
   ]
  },
  {
   "cell_type": "code",
   "execution_count": 110,
   "metadata": {},
   "outputs": [
    {
     "data": {
      "image/png": "[encoded data removed]",
      "text/plain": [
       "<Figure size 864x288 with 2 Axes>"
      ]
     },
     "metadata": {},
     "output_type": "display_data"
    }
   ],
   "source": [
    "fig = plt.figure(figsize = (12,4))\n",
    "ax1 = fig.add_subplot(121)\n",
    "PlotDimension(ax1, Objectsdf, 'reality')\n",
    "ax2 = fig.add_subplot(122)\n",
    "PlotDimension(ax2, Objectsdf, 'pop')\n",
    "plt.show()"
   ]
  },
  {
   "cell_type": "markdown",
   "metadata": {},
   "source": [
    "From the graph above we can see that \"house\" is a common object that oftern appears in traditional and realism artworks, and it is more irrelevant to \"pop\" or \"modern\" or \"surreal\" than any other objects in the set. While water and trees are common features that artists capture to convey surreal meanings. "
   ]
  },
  {
   "cell_type": "markdown",
   "metadata": {},
   "source": [
    "## <span style=\"color:red\">*Exercise 4a*</span>\n",
    "\n",
    "<span style=\"color:red\">**Do only 4a or 4b.** Construct cells immediately below this that calculate the scores for a small sample of documents from outside your corpus to identify which are *closest* to your corpus. Then calculate the scores for a few phrases or sentences to identify the ones most likely to have appeared in your corpus. Interrogate patterns associated with these document/phrase scores (e.g., which companies produced job ads most or least likely to find jobseekers in the resume corpus?) What do these patterns suggest about the boundaries of your corpus?"
   ]
  },
  {
   "cell_type": "markdown",
   "metadata": {},
   "source": [
    "In this question I choose the Wikipedia summary data for 20 famous western museum. The sample dataframe is described as below."
   ]
  },
  {
   "cell_type": "code",
   "execution_count": 111,
   "metadata": {},
   "outputs": [],
   "source": [
    "museum_set = ['Louvre', 'Zeitz_Museum_of_Contemporary_Art_Africa', 'National_Gallery_of_Canada', 'Tate_Modern',\n",
    "             'Metropolitan_Museum_of_Art', 'Mauritshuis', 'National_Palace_Museum', 'Egyptian_Museum', 'Kunsthistorisches_Museum',\n",
    "             'San_Francisco_Museum_of_Modern_Art', 'Museo_Nacional_de_Antropologia', 'Musée_D%27Orsay', 'Hermitage_Museum',\n",
    "             'Museo_Nacional_del_Prado', 'The_National_Gallery', 'Rijksmuseum', 'Vasa_Museum', 'Acropolis_Museum',\n",
    "             'The_British_Museum', 'Galleria_dell%27Accademia', 'Pergamon_Museum']"
   ]
  },
  {
   "cell_type": "code",
   "execution_count": 116,
   "metadata": {},
   "outputs": [
    {
     "name": "stdout",
     "output_type": "stream",
     "text": [
      "\n",
      " The Louvre (English: /ˈluːv(rə)/ LOOV(-rə)), or the Louvre Museum (French: Musée du Louvre [myze dy luvʁ] (listen)), is the world's  largest art museum and a historic monument in Paris, France. A central landmark of the city, it is located on the Right Bank of the Seine in the city's 1st arrondissement (district or ward). Approximately 38,000 objects from prehistory to the 21st century are exhibited over an area of 72,735 square meters (782,910 square feet). In 2019, the Louvre received 9.6 million visitors.\n",
      " The museum is housed in the Louvre Palace, originally built as the Louvre castle in the late 12th to 13th century under Philip II. Remnants of the fortress are visible in the basement of the museum. Due to urban expansion, the fortress eventually lost its defensive function, and in 1546 Francis I converted it into the primary residence of the French Kings. The building was extended many times to form the present Louvre Palace. In 1682, Louis XIV chose the Palace of Versailles for his household, leaving the Louvre primarily as a place to display the royal collection, including, from 1692, a collection of ancient Greek and Roman sculpture. In 1692, the building was occupied by the Académie des Inscriptions et Belles-Lettres and the Académie Royale de Peinture et de Sculpture, which in 1699 held the first of a series of salons. The Académie remained at the Louvre for 100 years. During the French Revolution, the National Assembly decreed that the Louvre should be used as a museum to display the nation's masterpieces.\n",
      " The museum opened on 10 August 1793 with an exhibition of 537 paintings, the majority of the works being royal and confiscated church property. Because of structural problems with the building, the museum was closed in 1796 until 1801. The collection was increased under Napoleon and the museum was renamed Musée Napoléon, but after Napoleon's abdication, many works seized by his armies were returned to their original owners. The collection was further increased during the reigns of Louis XVIII and Charles X, and during the Second French Empire the museum gained 20,000 pieces. Holdings have grown steadily through donations and bequests since the Third Republic. The collection is divided among eight curatorial departments: Egyptian Antiquities; Near Eastern Antiquities; Greek, Etruscan and Roman Antiquities; Islamic Art; Sculpture; Decorative Arts; Paintings; Prints and Drawings.\n",
      " The Louvre Palace, which houses the museum, was begun as a fortress by Philip II in the 12th century to protect the city from English soldiers which were in Normandy. Remnants of this castle are still visible in the crypt. Whether this was the first building on that spot is not known; it is possible that Philip modified an existing tower. According to the authoritative Grand Larousse encyclopédique, the name derives from an association with wolf hunting den (via Latin: lupus, lower Empire: lupara). In the 7th century, St. Fare, an abbess in Meaux, left part of her \"Villa called Luvra situated in the region of Paris\" to a monastery, this territory probably did not correspond exactly to the modern site, however.\n",
      " The Louvre Palace was altered frequently throughout the Middle Ages. In the 14th century, Charles V converted the building into a residence and in 1546, Francis I renovated the site in French Renaissance style. Francis acquired what would become the nucleus of the Louvre's holdings, his acquisitions including Leonardo da Vinci's Mona Lisa. After Louis XIV chose Versailles as his residence in 1682, constructions slowed; however, the move permitted the Louvre to be used as a residence for artists, under Royal patronage. Four generations of Boulle were granted Royal patronage and resided in the Louvre in the following order: Pierre Boulle, Jean Boulle, Andre-Charles Boulle and his four sons (Jean-Philippe, Pierre-Benoît (c. 1683–1741), Charles-André (1685–1749) and Charles-Joseph (1688–1754)), after him. André-Charles Boulle (1642–1732) is the most famous French cabinetmaker and the preeminent artist in the field of marquetry, also known as \"Inlay\".  Boulle was \"the most remarkable of all French cabinetmakers\". He was commended to Louis XIV of France, the \"Sun King\", by Jean-Baptiste Colbert (1619–1683) as being \"the most skilled craftsman in his profession\".  Before the fire of 1720 destroyed them, André-Charles Boulle held priceless works of art in the Louvre, including forty-eight drawings by Raphael'.\n",
      " By the mid-18th century there were an increasing number of proposals to create a public gallery, with the art critic La Font de Saint-Yenne publishing, in 1747, a call for a display of the royal collection. On 14 October 1750, Louis XV agreed and sanctioned a display of 96 pieces from the royal collection, mounted in the Galerie royale de peinture of the Luxembourg Palace. A hall was opened by Le Normant de Tournehem and the Marquis de Marigny for public viewing of the Tableaux du Roy on Wednesdays and Saturdays, and contained Andrea del Sarto's Charity and works by Raphael; Titian; Veronese; Rembrandt; Poussin or Van Dyck, until its closing in 1780 as a result of the gift of the palace to the Count of Provence (the future king, Louis XVIII) by the king in 1778. Under Louis XVI, the royal museum idea became policy. The comte d'Angiviller broadened the collection and in 1776 proposed conversion of the Grande Galerie of the Louvre – which contained maps – into the \"French Museum\". Many proposals were offered for the Louvre's renovation into a museum; however, none was agreed on. Hence the museum remained incomplete until the French Revolution.\n",
      " During the French Revolution the Louvre was transformed into a public museum. In May 1791, the Assembly declared that the Louvre would be \"a place for bringing together monuments of all the sciences and arts\". On 10 August 1792, Louis XVI was imprisoned and the royal collection in the Louvre became national property. Because of fear of vandalism or theft, on 19 August, the National Assembly pronounced the museum's preparation as urgent. In October, a committee to \"preserve the national memory\" began assembling the collection for display.\n",
      " The museum opened on 10 August 1793, the first anniversary of the monarchy's demise. The public was given free accessibility on three days per week, which was \"perceived as a major accomplishment and was generally appreciated\". The collection showcased 537 paintings and 184 objects of art. Three quarters were derived from the royal collections, the remainder from confiscated émigrés and Church property (biens nationaux). To expand and organize the collection, the Republic dedicated 100,000 livres per year. In 1794, France's revolutionary armies began bringing pieces from Northern Europe, augmented after the Treaty of Tolentino (1797) by works from the Vatican, such as Laocoön and His Sons and the Apollo Belvedere, to establish the Louvre as a museum and as a \"sign of popular sovereignty\".\n",
      " The early days were hectic; privileged artists continued to live in residence, and the unlabelled paintings hung \"frame to frame from floor to ceiling\". The structure itself closed in May 1796 due to structural deficiencies. It reopened on 14 July 1801, arranged chronologically and with new lighting and columns.\n",
      " Under Napoleon I, a northern wing paralleling the Grande Galerie was begun, and the collection grew through successful military campaigns. Following the Egyptian campaign of 1798–1801, Napoléon appointed the museum's first director, Dominique Vivant Denon. In tribute, the museum was renamed the \"Musée Napoléon\" in 1803, and acquisitions were made of Spanish, Austrian, Dutch, and Italian works, either as spoils or through treaties such as the Treaty of Tolentino. At the end of Napoleon's First Italian Campaign in 1797, the Treaty of Campo Formio was signed with Count Philipp von Cobenzl of the Austrian Monarchy. This treaty not only marked the completion of Napoleon's conquest of Italy, but also the end of the first phases of the French Revolutionary Wars. Under this treaty, Italian cities were required to contribute pieces of art and patrimony to take part in Napoleon's \"parades of booty\" through Paris before being put into the Louvre Museum. One of the most famous pieces taken under this program was the Horses of Saint Mark. The four antique bronze horses, which had adorned the basilica of San Marco in Venice after the sack of Constantinople in 1204, were brought to Paris to reside atop Napoleon's Arc du Carrousel in Paris in 1797.\n",
      " Several churches and palaces, including Saint Mark's Basilica, were looted by the French, which outraged the Italians and their artistic and cultural sensibilities. In 1797, the Treaty of Tolentino was signed by Napoleon, and two statues, the Nile and Tiber, were taken to Paris. These statues had previously been in the Vatican, and both were housed in the Louvre until 1815. After the defeat of Napoleon, the Nile was returned to Italy. However, the Tiber remained in the Louvre Museum and can be seen in the collections today.\n",
      " The Italian Peninsula was not the only region from which Napoleon took art. Under the Directory government of the 1790s, Napoleon (then a General) led an expedition to Egypt. The campaign was an expansionist effort on the part of the government, but the Directory had another goal to make Paris the center of art, science, and culture. The Directory wanted France to assume responsibility for liberating the works of art they deemed in danger in order to protect and nationalize the heritage and culture of their subjects. As a result, there were teams of artists and scientists who accompanied the armies into battle equipped with lists of paintings, sculptures, and other pieces of patrimony that would be collected, crated, and shipped back to France.\n",
      " Dominique Vivant Denon was Napoleon's art advisor, and accompanied him on the expedition to Egypt. Through his initiative, the Valley of the Kings in Egypt was discovered and studied extensively. As a result, he was later installed by Napoleon as the director of Musée Napoléon, formerly the Louvre, cementing the status of the museum as a center for global patrimony and storehouse for cultural heritage.\n",
      " One of the most important discoveries made during Napoleon's campaign in Egypt was the Rosetta Stone. It was discovered in 1799, and eventually led to the ability to decipher ancient hieroglyphs. Although the Rosetta Stone was discovered by the French, it actually never made it to the Louvre Museum. It was seized by British Forces following the defeat of Napoleon in Egypt and the subsequent signing of the Treaty of Alexandria in 1801. It is now on display at the British Museum.\n",
      " After the French defeat at Waterloo, the works' former owners sought their return. The Louvre's administrators were loath to comply and hid many works in their private collections. In response, foreign states sent emissaries to London to seek help, and many pieces were returned, even some that had been restored by the Louvre. In 1815 Louis XVIII finally concluded agreements with the Austrian government for the keeping of pieces such as Veronese's Wedding at Cana which was exchanged for a large Le Brun or the repurchase of the Albani collection.\n",
      " During the Restoration (1814–1830), Louis XVIII and Charles X between them added 135 pieces at a cost of 720,000 francs and created the department of Egyptian antiquities curated by Champollion, increased by more than 7,000 works with the acquisition of antiquities in the Edme-Antoine Durand, the Egyptian collection of Henry Salt or the second collection former by Bernardino Drovetti. This was less than the amount given for rehabilitation of Versailles, and the Louvre suffered relative to the rest of Paris. After the creation of the French Second Republic in 1848, the new government allocated two million francs for repair work and ordered the completion of the Galerie d'Apollon, the Salon Carré, and the Grande Galérie. In 1861, Napoleon III bought 11,835 artworks including 641 paintings, Greek gold and other antiquities of the Campana collection. Between  1852 and 1870, under Napoleon III, the museum added 20,000 new pieces to its collections, and the Pavillon de Flore and the Grande Galérie were remodelled under architects Louis Visconti and Hector Lefuel.\n",
      " The Louvre was damaged during the suppression of the Paris Commune.  On 23 May 1871, as the French Army advanced into Paris, a force of Communards led by Jules Bergeret set fire to the adjoining Tuileries Palace. The fire burned for forty-eight hours, entirely destroying the interior of the palace and spreading to the museum next to it.  The library of the museum and some of the adjoining halls were destroyed, but the museum was saved by the efforts of Paris firemen and museum employees.\n",
      " During the Third Republic (1870–1940) the Louvre acquired new pieces mainly via donations and gifts. The Société des Amis du Louvre (established in 1897) donated the Pietà of Villeneuve-lès-Avignon, and in 1863 an expedition uncovered the sculpture Winged Victory of Samothrace in the Aegean Sea. This piece, though heavily damaged, has been prominently displayed since 1884. The 583-item Collection La Caze donated in 1869, included works by Chardin; Fragonard; Rembrandt – such as Bathsheba at Her Bath – and Gilles by Watteau.\n",
      " Museum expansion slowed after World War I, and the collection did not acquire many significant new works; exceptions were Georges de La Tour's Saint Thomas and Baron Edmond de Rothschild's (1845–1934) 1935 donation of 4,000 prints, 3,000 drawings, and 500 illustrated books.\n",
      "At the beginning of World War II the museum removed most of the art and hid valuable pieces. When Germany occupied the Sudetenland, many important artworks such as the Mona Lisa were temporarily moved to the Château de Chambord. When war was formally declared a year later, most of the museum's paintings were sent there as well. Select sculptures such as Winged Victory of Samothrace and the Venus de Milo were sent to the Château de Valençay. On 27 August 1939, after two days of packing, truck convoys began to leave Paris. By 28 December, the museum was cleared of most works, except those that were too heavy and \"unimportant paintings [that] were left in the basement\". In early 1945, after the liberation of France, art began returning to the Louvre.\n",
      " By 1874, the Louvre Palace had achieved its present form of an almost rectangular structure with the Sully Wing to the east containing the Cour Carrée (Square Court) and the oldest parts of the Louvre; and two wings which wrap the Cour Napoléon, the Richelieu Wing to the north and the Denon Wing, which borders the Seine to the south. In 1983, French President François Mitterrand proposed, as one of his Grands Projets, the Grand Louvre plan to renovate the building and relocate the Finance Ministry, allowing displays throughout the building. Architect I. M. Pei was awarded the project and proposed a glass pyramid to stand over a new entrance in the main court, the Cour Napoléon. The pyramid and its underground lobby were inaugurated on 15 October 1988 and the Louvre Pyramid was completed in 1989. The second phase of the Grand Louvre plan, the Pyramide Inversée (Inverted Pyramid), was completed in 1993. As of 2002, attendance had doubled since completion.\n",
      " The Louvre Palace and the pyramid (by night)\n",
      " The Louvre Palace and the pyramid (by day)\n",
      " The Musée du Louvre contains more than 380,000 objects and displays 35,000 works of art in eight curatorial departments with more than 60,600 square metres (652,000 sq ft) dedicated to the permanent collection. The Louvre exhibits sculptures, objets d'art, paintings, drawings, and archaeological finds. It is the world's most visited museum, averaging 15,000 visitors per day, 65 percent of whom are foreign tourists.\n",
      " After architects Mario Bellini and Rudy Ricciotti had won an international competition to create its new galleries for Islamic art, the new 3,000 sq m pavilion eventually opened in 2012, consisting of ground- and lower-ground-level interior spaces topped by a golden, undulating roof (fashioned from almost 9,000 steel tubes that form an interior web) that seems to float within the neo-Classical Visconti Courtyard in the middle of the Louvre's south wing. The galleries, which the museum had initially hoped to open by 2009, represent the first major architectural intervention at the Louvre since the addition of I.M. Pei's glass pyramid in 1989.\n",
      " On 5 February 2015, about one hundred archaeologists, protesting against commercial private involvement to protect France's heritage, blocked Louvre's ticket desks to facilitate free access to the museum. At least one announcement reading \"Free entrance offered by the archeologists\" has been attached to the ticket desk and a number of people visited the museum free of charge.\n",
      " The Louvre is owned by the French government; however, since the 1990s it has become more independent. Since 2003, the museum has been required to generate funds for projects. By 2006, government funds had dipped from 75 percent of the total budget to 62 percent. Every year, the Louvre now raises as much as it gets from the state, about €122 million. The government pays for operating costs (salaries, safety and maintenance), while the rest – new wings, refurbishments, acquisitions – is up to the museum to finance. A further €3 million to €5 million a year is raised by the Louvre from exhibitions that it curates for other museums, while the host museum keeps the ticket money. As the Louvre became a point of interest in the book The Da Vinci Code and the 2006 film based on the book, the museum earned $2.5 million by allowing filming in its galleries. In 2008, the French government provided $180 million of the Louvre's yearly $350 million budget; the remainder came from private contributions and ticket sales.\n",
      " The Louvre employs a staff of 2,000 led by Director Jean-Luc Martinez, who reports to the French Ministry of Culture and Communications. Martinez replaced Henri Loyrette in April 2013. Under Loyrette, who replaced Pierre Rosenberg in 2001, the Louvre has undergone policy changes that allow it to lend and borrow more works than before. In 2006, it loaned 1,300 works, which enabled it to borrow more foreign works. From 2006 to 2009, the Louvre lent artwork to the High Museum of Art in Atlanta, Georgia, and received a $6.9 million payment to be used for renovations.\n",
      " In 2012, the Louvre and the Fine Arts Museums of San Francisco announced a five-year collaboration on exhibitions, publications, art conservation and educational programming. The €98.5 million expansion of the Islamic Art galleries in 2012 received state funding of €31 million, as well as €17 million from the Alwaleed Bin Talal Foundation founded by the eponymous Saudi prince. The republic of Azerbaijan, the Emir of Kuwait, the Sultan of Oman and King Mohammed VI of Morocco donated in total €26 million. In addition, the opening of the Louvre Abu Dhabi is supposed to provide €400 million over the course of 30 years for its use of the museum's brand. Loyrette has tried to improve weak parts of the collection through income generated from loans of art and by guaranteeing that \"20% of admissions receipts will be taken annually for acquisitions\". He has more administrative independence for the museum and achieved 90 percent of galleries to be open daily, as opposed to 80 percent previously. He oversaw the creation of extended hours and free admission on Friday nights and an increase in the acquisition budget to $36 million from $4.5 million.\n",
      " On the 500th anniversary of Leonardo Da Vinci's death, the Louvre held the largest ever single exhibit of his work, from 24 October  2019 to 24 February  2020. The event included over a hundred items: paintings, drawings and notebooks. A full 11 of the fewer than 20 paintings that Da Vinci completed in his lifetime were displayed. Five of them are owned by the Louvre, but the Mona Lisa was not included because it is in such great demand among visitors to the Louvre museum; the work remained on display in its gallery. Salvator Mundi was also not included since the Saudi owner did not agree to move the work from its hiding place. Vitruvian Man, however, was on display, after a successful legal battle with its owner, the Galleria dell'Accademia in Venice.\n",
      " In 2004, French officials decided to build a satellite museum on the site of an abandoned coal pit in the former mining town of Lens to relieve the crowded Paris Louvre, increase total museum visits, and improve the industrial north's economy. Six cities were considered for the project: Amiens, Arras, Boulogne-sur-Mer, Calais, Lens, and Valenciennes. In 2004, French Prime Minister Jean-Pierre Raffarin chose Lens to be the site of the new building, the Louvre-Lens. Japanese architects SANAA were selected to design the Lens project in 2005. Museum officials predicted that the new building, capable of receiving about 600 works of art, would attract up to 500,000 visitors a year when it opened in 2012.\n",
      " On 8 November 2017, a direct extension of the Louvre, Louvre Abu Dhabi, opened its doors to the public in the city of Abu Dhabi. A 30-year agreement, signed by French Culture Minister Renaud Donnedieu de Vabres and Sheik Sultan bin Tahnoon Al Nahyan, established the museum on Saadiyat Island in Abu Dhabi in exchange for €832,000,000 (US$1.3 billion). The Louvre Abu Dhabi, designed by the French architect Jean Nouvel and the engineering firm of Buro Happold, occupy 24,000 square metres (260,000 sq ft) and is covered by an iconic metallic roof designed to cast rays of light mimicking sunlight passing through date palm fronds in an oasis. France agreed to rotate between 200 and 300 artworks during a 10-year period; to provide management expertise; and to provide four temporary exhibitions a year for 15 years. The art will come from multiple museums, including the Louvre, the Georges Pompidou Centre, the Musée d'Orsay, Versailles, the Musée Guimet, the Musée Rodin, and the Musée du quai Branly.\n",
      " In March 2018 an exhibition of dozens of artworks and relics belonging to France's Louvre Museum was opened to visitors in Tehran, as a result of an agreement between Iranian and French presidents in 2016. In the Louvre, two departments were allocated to the antiquities of the Iranian civilization, and the managers of the two departments visited Tehran. Relics belonging to Ancient Egypt, Rome and Mesopotamia as well as French royal items were showcased at the Tehran exhibition.\n",
      " Iran's National Museum building was designed and constructed by French architect André Godard. Following its time in Tehran, the exhibition is set to be held in the Khorasan Grand Museum in Mashhad, northeastern Iran in June 2018.\n",
      " In 2009, Minister of Culture Frédéric Mitterrand approved a plan that would have created a storage facility 30 km (19 mi) northwest of Paris to hold objects from the Louvre and two other national museums in Paris's flood zone, the Musée du Quai Branly and the Musée d'Orsay; the plan was later scrapped. In 2013, his successor Aurélie Filippetti announced that the Louvre would move more than 250,000 works of art held in a 20,000 square metres (220,000 sq ft) basement storage area in Liévin; the cost of the project, estimated at €60 million, will be split between the region (49%) and the Louvre (51%). The Louvre will be the sole owner and manager of the store. In July 2015, a team led by British firm Rogers Stirk Harbour + Partners was selected to design the complex, which will have light-filled work spaces under one vast, green roof.\n",
      " The Louvre is involved in controversies that surround cultural property seized under Napoleon I, as well as during World War II by the Nazis. During Nazi occupation, thousands of artworks were stolen. But after the war, 61,233 articles of more than 150,000 seized artworks returned to France and were assigned to the Louvre's Office des Biens Privés. In 1949, it entrusted 2,130 unclaimed pieces (including 1,001 paintings) to the Direction des Musées de France in order to keep them under appropriate conditions of conservation until their restitution and meanwhile classified them as MNRs (Musées Nationaux Recuperation or, in English, the National Museums of Recovered Artwork). Some 10% to 35% of the pieces are believed to come from Jewish spoliations and until the identification of their rightful owners, which declined at the end of the 1960s, they are registered indefinitely on separate inventories from the museum's collections.\n",
      " They were exhibited in 1946 and shown all together to the public during four years (1950–1954) in order to allow rightful claimants to identify their properties, then stored or displayed, according to their interest, in several French museums including the Louvre. From 1951 to 1965, about 37 pieces were restituted. Since November 1996, the partly illustrated catalogue of 1947–1949 has been accessible online and completed. In 1997, Prime Minister Alain Juppé initiated the Mattéoli Commission, headed by Jean Mattéoli, to investigate the matter and according to the government, the Louvre is in charge of 678 pieces of artwork still unclaimed by their rightful owners. During the late 1990s, the comparison of the American war archives, which had not been done before, with the French and German ones as well as two court cases which finally settled some of the heirs' rights (Gentili di Giuseppe and Rosenberg families) allowed more accurate investigations. Since 1996, the restitutions, according sometimes to less formal criteria, concerned 47 more pieces (26 paintings, with 6 from the Louvre including a then displayed Tiepolo), until the last claims of French owners and their heirs ended again in 2006.\n",
      " According to Serge Klarsfeld, since the now complete and constant publicity which the artworks got in 1996, the majority of the French Jewish community is nevertheless in favour of the return to the normal French civil rule of prescription acquisitive of any unclaimed good after another long period of time and consequently to their ultimate integration into the common French heritage instead of their transfer to foreign institutions like during World War II.\n",
      " Napoleon's campaigns acquired Italian pieces by treaties, as war reparations, and Northern European pieces as spoils as well as some antiquities excavated in Egypt, though the vast majority of the latter were seized as war reparations by the British army and are now part of collections of the British Museum. On the other hand, the Dendera zodiac is, like the Rosetta Stone, claimed by Egypt even though it was acquired in 1821, before the Egyptian Anti-export legislation of 1835. The Louvre administration has thus argued in favor of retaining this item despite requests by Egypt for its return. The museum participates too in arbitration sessions held via UNESCO's Committee for Promoting the Return of Cultural Property to Its Countries of Origin. The museum consequently returned in 2009 five Egyptian fragments of frescoes (30 cm x 15 cm each) whose existence of the tomb of origin had only been brought to the authorities attention in 2008, eight to five years after their good-faith acquisition by the museum from two private collections and after the necessary respect of the procedure of déclassement from French public collections before the Commission scientifique nationale des collections des musées de France.\n",
      " The Musée du Louvre contains about 460,000 objects and displays 35,000 works of art in eight curatorial departments.\n",
      " The department, comprising over 50,000 pieces, includes artifacts from the Nile civilizations which date from 4,000 BC to the 4th century AD. The collection, among the world's largest, overviews Egyptian life spanning Ancient Egypt, the Middle Kingdom, the New Kingdom, Coptic art, and the Roman, Ptolemaic, and Byzantine periods.\n",
      " The department's origins lie in the royal collection, but it was augmented by Napoleon's 1798 expeditionary trip with Dominique Vivant, the future director of the Louvre. After Jean-François Champollion translated the Rosetta Stone, Charles X decreed that an Egyptian Antiquities department be created. Champollion advised the purchase of three collections, formed by Edmé-Antoine Durand, Henry Salt and Bernardino Drovet; these additions added 7,000 works. Growth continued via acquisitions by Auguste Mariette, founder of the Egyptian Museum in Cairo. Mariette, after excavations at Memphis, sent back crates of archaeological finds including The Seated Scribe.\n",
      " Guarded by the Large Sphinx (c. 2000 BC), the collection is housed in more than 20 rooms. Holdings include art, papyrus scrolls, mummies, tools, clothing, jewelry, games, musical instruments, and weapons. Pieces from the ancient period include the Gebel el-Arak Knife from 3400 BC, The Seated Scribe, and the Head of King Djedefre. Middle Kingdom art, \"known for its gold work and statues\", moved from realism to idealization; this is exemplified by the schist statue of Amenemhatankh and the wooden Offering Bearer. The New Kingdom and Coptic Egyptian sections are deep, but the statue of the goddess Nephthys and the limestone depiction of the goddess Hathor demonstrate New Kingdom sentiment and wealth.\n",
      " Near Eastern antiquities, the second newest department, dates from 1881 and presents an overview of early Near Eastern civilization and \"first settlements\", before the arrival of Islam. The department is divided into three geographic areas: the Levant, Mesopotamia (Iraq), and Persia (Iran). The collection's development corresponds to archaeological work such as Paul-Émile Botta's 1843 expedition to Khorsabad and the discovery of Sargon II's palace. These finds formed the basis of the Assyrian museum, the precursor to today's department.\n",
      " The museum contains exhibits from Sumer and the city of Akkad, with monuments such as the Prince of Lagash's Stele of the Vultures from 2450 BC and the stele erected by Naram-Sin, King of Akkad, to celebrate a victory over barbarians in the Zagros Mountains. The 2.25-metre (7.38 ft) Code of Hammurabi, discovered in 1901, displays Babylonian Laws prominently, so that no man could plead their ignorance. The 18th-century BC mural of the Investiture of Zimrilim and the 25th-century BC Statue of Ebih-Il found in the ancient city-state of Mari are also on display at the museum.\n",
      " The Persian portion of Louvre contains work from the archaic period, like the Funerary Head and the Persian Archers of Darius I. This section also contains rare objects from Persepolis which were also lent to the British Museum for its Ancient Persia exhibition in 2005.\n",
      " The Greek, Etruscan, and Roman department displays pieces from the Mediterranean Basin dating from the Neolithic to the 6th century. The collection spans from the Cycladic period to the decline of the Roman Empire. This department is one of the museum's oldest; it began with appropriated royal art, some of which was acquired under Francis I. Initially, the collection focused on marble sculptures, such as the Venus de Milo. Works such as the Apollo Belvedere arrived during the Napoleonic Wars, but these pieces were returned after Napoleon I's fall in 1815. In the 19th century, the Louvre acquired works including vases from the Durand collection, bronzes such as the Borghese Vase from the Bibliothèque nationale.\n",
      " The archaic is demonstrated by jewellery and pieces such as the limestone Lady of Auxerre, from 640 BC; and the cylindrical Hera of Samos, c. 570–560 BC. After the 4th century BC, focus on the human form increased, exemplified by the Borghese Gladiator. The Louvre holds masterpieces from the Hellenistic era, including The Winged Victory of Samothrace (190 BC) and the Venus de Milo, symbolic of classical art. The long Galerie Campana displays an outstanding collection of more than one thousand Greek potteries. In the galleries paralleling the Seine, much of the museum's Roman sculpture is displayed. The Roman portraiture is representative of that genre; examples include the portraits of Agrippa and Annius Verus; among the bronzes is the Greek Apollo of Piombino.\n",
      " The Islamic art collection, the museum's newest, spans \"thirteen centuries and three continents\". These exhibits, comprising ceramics, glass, metalware, wood, ivory, carpet, textiles, and miniatures, include more than 5,000 works and 1,000 shards. Originally part of the decorative arts department, the holdings became separate in 2003. Among the works are the Pyxide d'al-Mughira, a 10th century ivory box from Andalusia; the Baptistery of Saint-Louis, an engraved brass basin from the 13th or 14th century Mamluk period; and the 10th century Shroud of Saint-Josse from Iran. The collection contains three pages of the Shahnameh, an epic book of poems by Ferdowsi in Persian, and a Syrian metalwork named the Barberini Vase. In September 2019, a new and improved Islamic art department was opened by Princess Lamia bint Majed Al-Saud. The new department exhibits 3,000 pieces were collected from Spain to India via the Arabian peninsula dating from the 7th to the 19th centuries.\n",
      " The sculpture department comprises work created before 1850 that does not belong in the Etruscan, Greek, and Roman department. The Louvre has been a repository of sculpted material since its time as a palace; however, only ancient architecture was displayed until 1824, except for Michelangelo's Dying Slave and Rebellious Slave. Initially the collection included only 100 pieces, the rest of the royal sculpture collection being at Versailles. It remained small until 1847, when Léon Laborde was given control of the department. Laborde developed the medieval section and purchased the first such statues and sculptures in the collection, King Childebert and stanga door, respectively. The collection was part of the Department of Antiquities but was given autonomy in 1871 under Louis Courajod, a director who organized a wider representation of French works. In 1986, all post-1850 works were relocated to the new Musée d'Orsay. The Grand Louvre project separated the department into two exhibition spaces; the French collection is displayed in the Richelieu wing, and foreign works in the Denon wing.\n",
      " The collection's overview of French sculpture contains Romanesque works such as the 11th-century Daniel in the Lions' Den and the 12th-century Virgin of Auvergne. In the 16th century, Renaissance influence caused French sculpture to become more restrained, as seen in Jean Goujon's bas-reliefs, and Germain Pilon's Descent from the Cross and Resurrection of Christ. The 17th and 18th centuries are represented by Gian Lorenzo Bernini's 1640–1 Bust of Cardinal Richelieu, Étienne Maurice Falconet's Woman Bathing and Amour menaçant, and François Anguier's obelisks. Neoclassical works includes Antonio Canova's Psyche Revived by Cupid's Kiss (1787). The 18th and 19th centuries are represented by the French sculptor Alfred Barye.\n",
      " The Objets d'art collection spans the time from the Middle Ages to the mid-19th century. The department began as a subset of the sculpture department, based on royal property and the transfer of work from the Basilique Saint-Denis, the burial ground of French monarchs that held the Coronation Sword of the Kings of France. Among the budding collection's most prized works were pietre dure vases and bronzes. The Durand collection's 1825 acquisition added \"ceramics, enamels, and stained glass\", and 800 pieces were given by Pierre Révoil. The onset of Romanticism rekindled interest in Renaissance and Medieval artwork, and the Sauvageot donation expanded the department with 1,500 middle-age and faïence works. In 1862, the Campana collection added gold jewelry and maiolicas, mainly from the 15th and 16th centuries.\n",
      " The works are displayed on the Richelieu Wing's first floor and in the Apollo Gallery, named by the painter Charles Le Brun, who was commissioned by Louis XIV (the Sun King) to decorate the space in a solar theme. The medieval collection contains the coronation crown of Louis XIV, Charles V's sceptre, and the 12th century porphyry vase. The Renaissance art holdings include Giambologna's bronze Nessus and Deianira and the tapestry Maximillian's Hunt. From later periods, highlights include Madame de Pompadour's Sèvres vase collection and Napoleon III's apartments.\n",
      " In September 2000, the Louvre Museum dedicated the Gilbert Chagoury and Rose-Marie Chagoury Gallery to display tapestries donated by the Chagourys, including a 16th-century six-part tapestry suite, sewn with gold and silver threads representing sea divinities, which was commissioned in Paris for Colbert de Seignelay, Secretary of State for the Navy.\n",
      " The painting collection has more than 7,500 works from the 13th century to 1848 and is managed by 12 curators who oversee the collection's display. Nearly two-thirds are by French artists, and more than 1,200 are Northern European. The Italian paintings compose most of the remnants of Francis I and Louis XIV's collections, others are unreturned artwork from the Napoleon era, and some were bought. The collection began with Francis, who acquired works from Italian masters such as Raphael and Michelangelo and brought Leonardo da Vinci to his court. After the French Revolution, the Royal Collection formed the nucleus of the Louvre. When the d'Orsay train station was converted into the Musée d'Orsay in 1986, the collection was split, and pieces completed after the 1848 Revolution were moved to the new museum. French and Northern European works are in the Richelieu wing and Cour Carrée; Spanish and Italian paintings are on the first floor of the Denon wing.\n",
      " Exemplifying the French School are the early Avignon Pietà of Enguerrand Quarton; the anonymous painting of King Jean le Bon (c. 1360), possibly the oldest independent portrait in Western painting to survive from the postclassical era; Hyacinthe Rigaud's Louis XIV; Jacques-Louis David's The Coronation of Napoleon; Théodore Géricault's The Raft of the Medusa; and Eugène Delacroix's Liberty Leading the People. Nicolas Poussin, the Le Nain brothers, Philippe de Champaigne, Le Brun, La Tour, Watteau, Fragonard, Ingres, Corot, and Delacroix are well represented.\n",
      " Northern European works include Johannes Vermeer's The Lacemaker and The Astronomer; Caspar David Friedrich's The Tree of Crows; Rembrandt's The Supper at Emmaus, Bathsheba at Her Bath, and The Slaughtered Ox.\n",
      " The Italian holdings are notable, particularly the Renaissance collection. The works include Andrea Mantegna and Giovanni Bellini's Calvarys, which reflect realism and detail \"meant to depict the significant events of a greater spiritual world\". The High Renaissance collection includes Leonardo da Vinci's Mona Lisa, Virgin and Child with St. Anne, St. John the Baptist, and Madonna of the Rocks. Caravaggio is represented by The Fortune Teller and Death of the Virgin. From 16th century Venice, the Louvre displays Titian's Le Concert Champetre, The Entombment and The Crowning with Thorns.\n",
      " The La Caze Collection, a bequest to the Musée du Louvre in 1869 by Louis La Caze, was the largest contribution of a person in the history of the Louvre. La Caze gave 584 paintings of his personal collection to the museum. The bequest included Antoine Watteau's Commedia dell'arte player of Pierrot (\"Gilles\"). In 2007, this bequest was the topic of the exhibition \"1869: Watteau, Chardin... entrent au Louvre. La collection La Caze\".\n",
      " Some of the best known paintings of the museum have been digitized by the French Center for Research and Restoration of the Museums of France.\n",
      " The prints and drawings department encompasses works on paper. The origins of the collection were the 8,600 works in the Royal Collection (Cabinet du Roi), which were increased via state appropriation, purchases such as the 1,200 works from Fillipo Baldinucci's collection in 1806, and donations. The department opened on 5 August 1797, with 415 pieces displayed in the Galerie d'Apollon. The collection is organized into three sections: the core Cabinet du Roi, 14,000 royal copper printing-plates, and the donations of Edmond de Rothschild, which include 40,000 prints, 3,000 drawings, and 5,000 illustrated books. The holdings are displayed in the Pavillon de Flore; due to the fragility of the paper medium, only a portion are displayed at one time.\n",
      " The museum lies in the center of Paris on the Right Bank, in the 1st arrondissement. It was home to the former Tuileries Palace, which closed off the western end of the Louvre entrance courtyard, but was heavily damaged by fire during the Paris Commune of 1871 and later demolished. The adjacent Tuileries Gardens, created in 1564 by Catherine de' Medici, was designed in 1664 by André Le Nôtre. The gardens house the Galerie nationale du Jeu de Paume, a contemporary art exhibition space which was used to store confiscated Jewish cultural property during the 1940 to 1944 German occupation of France. Parallel to the Jeu de Paume is the Orangerie, home to the famous Water Lilies paintings by Claude Monet.\n",
      " The Louvre is slightly askew of the Historic Axis (Axe historique), a roughly eight-kilometre (five-mile) architectural line bisecting the city. It begins on the east in the Louvre courtyard and runs west along the Champs-Élysées. In 1871, the burning of the Tuileries Palace by the Paris Commune revealed that the Louvre was slightly askew of the Axe despite past appearances to the contrary. The Louvre can be reached by the Palais Royal – Musée du Louvre Métro or the Louvre-Rivoli stations.\n",
      " The Louvre has three entrances: the main entrance at the pyramid, an entrance from the Carrousel du Louvre underground shopping mall, and an entrance at the Porte des Lions (near the western end of the Denon wing).\n",
      " Under the main entrance to the museum is the Carrousel du Louvre, a shopping mall operated by Unibail-Rodamco. Among other stores, it has the first Apple Store in France, and a McDonald's restaurant, the presence of which has created controversy.\n",
      " The use of cameras and video recorders is permitted inside, but flash photography is forbidden.\n",
      " Statue, plaster and reed, Ain Ghazal, Jordan, 6050–7050 BC\n",
      " Cycladic, a votive head, 2700–2300 BC\n",
      " Egyptian, stele, Priest burning incense before Ra-Horakhty-Atum, c. 900 BC\n",
      " The Osorkon Bust, inscribed with both Egyptian hieroglyphics and Phoenician script, 900 BC\n",
      " Ancient Persia, the Ibex Rhyton, 600–300 BC\n",
      " Ancient Greek, Athens, The Rampin Rider,\n",
      " Etruscan amphora, Diomedes and Polyxena, c. 540–530 BC\n",
      " Hellenic Near East, The Eros Medallion, c. 250–200 BC\n",
      " Fayum Egyptian, Fayum mummy portrait\n",
      " Roman, portrait of Marcus Agrippa, 25 BC\n",
      " Frankish, ivory, Christ between two apostles, 5th century\n",
      " Islamic art from Iraq, terracotta cup, 9th century\n",
      " Romanesque art from Maastricht, Reliquary, 11th century\n",
      " Romanesque architecture from France, St Michael and the Devil, 12th century\n",
      " Italian Renaissance painting, St Francis receiving the stigmata, Giotto, c.  1300\n",
      " Early Netherlandish painting, The Annunciation, Rogier van der Weyden, 1435\n",
      " Gothic art from France, The Pieta of Villeneuve les Avignon, Enguerrand Quarton, 1460\n",
      " Italian Renaissance painting, Portrait of an old man and his grandson, Ghirlandaio, 1488\n",
      " Flemish painting, The Money Changer and His Wife, Quentin Massys, 1514\n",
      " Italian Renaissance painting, Baltasar de Castiglione, Raphael, c. 1515\n",
      " Italian Renaissance sculpture, Dying Slave, Michelangelo, 1513–1516\n",
      " Venetian Mannerist painting, The Crucifixion, Paolo Veronese, c. 1550\n",
      " Italian Baroque painting, The Fortune Teller, Caravaggio, c. 1600\n",
      " English painting, Charles I at the Hunt, van Dyck, 1635\n",
      " Dutch Baroque, The Lacemaker, Vermeer, 1664\n",
      " Spanish painting, Infanta María Margarita, Velázquez, 1655\n",
      " French Classicism, The Shepherds of Arcadia, Poussin, c. 1640\n",
      " French Rococo, Diana bathing, Boucher, 1742\n",
      " French Classical painting, The Bather, Ingres, 1808\n",
      " French Romantic art, Liberty Leading the People, Delacroix, 1830\n",
      " André-Charles Boulle Cabinet sur piètement, 1690–1710\n",
      " André-Charles Boulle Cabinet sur piètement\n",
      " André-Charles Boulle\n",
      " André-Charles Boulle, 1700–1720\n",
      " André-Charles Boulle\n",
      " André-Charles Boulle 1714–1719\n",
      " \n",
      "\n"
     ]
    },
    {
     "name": "stdout",
     "output_type": "stream",
     "text": [
      "The Zeitz Museum of Contemporary Art Africa (Zeitz MOCAA) is a contemporary art museum located at the V&A Waterfront in Cape Town, South Africa. It is the largest museum of contemporary African art in the world.\n",
      " The museum opened on September 22, 2017.\n",
      " The public not-for-profit museum was commissioned through a public/private partnership between the V&A Waterfront and German businessman, Jochen Zeitz. The Waterfront invested over R500-million towards its construction and infrastructure development, and although not a shareholder, Zeitz has loaned his extensive art collection for his lifetime. Considered by many to be one of the world's leading collections of contemporary art from Africa and its Diaspora, Zeitz's collection includes works by such eminent artists as Chris Ofili, Kudzanai Chiurai, Kehinde Wiley, Glenn Ligon, Marlene Dumas, Wangechi Mutu, and Julie Mehretu.\n",
      " The Waterfront had been investigating a number of proposals regarding what to do with the historic Grain Silo since it was decommissioned in 2001. According to their CEO, David Green, the decision to transform and renovate the building for the new museum would \"breathe life into the Silo district and act as a draw card to a venture that is non-commercial in nature ... specifically for the enjoyment of all the continent’s citizens\". While others have noted that the strategic partnership with Zeitz also serves to connect the existing properties of the Waterfronts's owners (Growthpoint Properties and the Government Employees Pension Fund) with the developing financial district in Cape Town's lower CBD. The conversion of the Silo building began in 2014 under the direction of London-based designer, Thomas Heatherwick.\n",
      " The museum is located in the V&A Waterfront, on the banks of Table Bay overlooking the Atlantic Ocean. The Waterfront is considered a prestigious retail and hospitality property, and already receives around 24-million visitors per year. The museum's immediate surroundings, the Silo District, is also scheduled for further development.\n",
      " The museum building was constructed from the conversion of the 57m tall historic Grain Silo, originally built in 1921 and decommissioned in 2001. The architects, Heatherwick Studio, aimed to conserve and celebrate the original structure's industrial heritage, while simultaneously excavating large open spaces from the 42 densely-packed concrete cylinders from which it was comprised. Using a variety of concrete-cutting techniques, the interior of the building was carved out to create a number of galleries and a large central atrium. Disagreements between the architects and director Mark Coetzee over the number of galleries that the museum had to contain ended in what South African art critic Sean O'Toole has described as \"poky, low-ceilinged galleries, which often struggle to hold or reflect the ambition of the exhibiting artists\". The remaining concrete shafts were capped with strengthened glass in order to allow natural light to enter and create a \"cathedral-like\" interior. From the exterior, the most noticeable change to the original structure was the addition of pillowed glass panels in the building's upper floors.\n",
      " Overall the 9,500sqm complex consists of nine floors with 6,000sqm of dedicated white cube exhibition space. Additionally there are 18 educational areas included on one floor, a sculpture garden on the lower part of the roof, as well as a restaurant and shop. The higher part of the building operates as The Silo Hotel, which opened its doors in March 2017.\n",
      " The building made it onto the Royal Institute of British Architects (RIBA) International List 2018.\n",
      " Zeitz MOCAA is a registered public benefit organization. \n",
      " The museum's founding Executive Director and Chief Curator was Mark Coetzee. Coetzee resigned from the post in May 2018 following an inquiry into his professional conduct.\n",
      " As of 2018, the Board of Trustees includes Zeitz, Jody Allen, Roger Ross Williams and Albie Sachs as well as artist members Isaac Julien, Wangechi Mutu.\n",
      " In March 2019, it was announced that independent curator Koyo Kouoh would be the next Executive Director and Chief Curator of Zeitz MOCAA.\n",
      "\n",
      "The National Gallery of Canada (French: Musée des beaux-arts du Canada), located in the capital city of Ottawa, Ontario, is Canada's national art museum. The museum's building takes up 46,621 square metres (501,820 sq ft), with 12,400 square metres (133,000 sq ft) of space used for exhibiting art; making the museum one of the largest art museums in North America by exhibition space.\n",
      " The institution was established in 1880 at the Second Supreme Court of Canada building, and moved to the Victoria Memorial Museum building in 1911. In 1913, the Government of Canada passed the National Gallery Act, formally outlined the institution's mandate as a national art museum. The museum was moved to the Lorne building in 1960. In 1988, the museum was relocated to its present location. The National Gallery of Canada is presently situated in a glass and granite building on Sussex Drive with a notable view of the Canadian Parliament buildings on Parliament Hill. The building was designed by Moshe Safdie and opened in 1988.\n",
      " The museum permanent collection includes over 93,000 works from European, American, and Asian, Canadian, and indigenous Canadian artists. In addition to exhibiting works from its permanent collection, the museum also organizes, and hosts a number of travelling exhibitions.\n",
      " The Gallery was first formed in 1880 by Canada's Governor General, John Campbell, 9th Duke of Argyll in conjunction with the establishment of the Royal Canadian Academy of Arts. In 1882, moved into its first home on Parliament Hill, housed in the Second Supreme Court of Canada building.\n",
      " In 1911, the Gallery moved to the Victoria Memorial Museum building, sharing it with the National Museum of Natural Sciences. In 1913, the first National Gallery Act was passed, outlining the Gallery's mandate and resources. During the 1920s, the building was expanded, which saw the art gallery expand to four floors, and the creation of a separate entrance for the art museum, and a firewall between the natural sciences museum, and the National Gallery. However, as with the Supreme Court building, its location in the Victoria Memorial Museum building was viewed as a \"temporary space,\" with plans to eventually move to a new permanent location, with spaces dedicated to the viewing of art.\n",
      " By the 1950s, the space in the Victoria Memorial Museum building had grown inadequate for the museum's collections. In 1952, the museum launched a design contest for architects to design a permanent home for the gallery. However, the museum failed to garner support from the government of Louis St. Laurent, resulting in the winning bid to eventually be abandoned by the museum. In an effort to provide a workable compromise for the National Gallery, St. Laurent's government offered the National Gallery the eight-storey Lorne office building for use. The National Gallery moved into the nondescript office building on Elgin Street. The building has since been demolished for a 17-storey office building that is to house the Federal Finance Department.\n",
      " In 1962, the museum's director, Charles Comfort, drew criticism after half of the works on display at an exhibition for Walter Chrysler's European works were exposed as forgeries by American journalists. Comfort allowed for the exhibition to be hosted at the museum in spite of receiving advanced warning from the director of the Montreal Museum of Fine Arts.\n",
      " The National Museums of Canada (NMC) absorbed the National Gallery of Canada in 1968. During the 1970s, the National Gallery saw its funds diverted by the NMC to form regional galleries. The museum completed renovations to the Lorne building in 1976. However by 1980, it had become apparent that the National Gallery would need to relocate from the building, given the poor condition of the building, use of asbestos in the building, and inadequate exhibition areas that only provided the museum enough space to only exhibit two per cent of its collection at any given time.\n",
      " After the Canadian constitution was patriated in 1982, Prime Minister Pierre Trudeau announced a shift in policy focus towards the \"creation of a nation,\" with priority given towards the arts in an effort to enrich Canadian identity. In same year, Minister of Communications Francis Fox declared the government's commitment to erect a new permanent buildings for its national museums, including the National Gallery, and the Museum of Man within five years. The director of the National Gallery, Jean Sutherland Boggs, was chosen by Trudeau to oversee construction of the national gallery and museums. The museum began construction for its permanent museum building on Sussex Drive in 1985, and was opened in May 1988.\n",
      " The diversion of funds by the NMC to help fund regional museums was ended in 1982, and the National Museums of Canada formally dissolved in 1987. As a result of the dissolution, the National Gallery reacquired its institutional independence, and its mandate and powers outlined by its formative legislative act prior to 1968.\n",
      " In 1985, the newly created Canadian Museum of Contemporary Photography (CMCP), formerly the Stills Photography Division of the National Film Board of Canada, was affiliated to the National Gallery. The CMCP's mandate, collection and staff moved to its new location in 1992, at 1 Rideau Canal, next to the Château Laurier. In 1988, the CMCP's administration was amalgamated to that of the National Gallery's. The museum operated until 2006, with its collection was absorbed into the National Gallery's in 2009.\n",
      " In December 2009, the National Gallery of Canada and the Art Gallery of Alberta issued a joint press release announcing a three-year partnership, which saw the use of the Art Gallery of Alberta's galleries to exhibit works from the National Gallery's collection. The program was the first \"satellite program\" between the National Gallery of Canada, and another institution, with similar initiatives launched in other Canadian art galleries in the following years.\n",
      " Marc Mayer was named the museum's director, succeeding Pierre Théberge, on 19 January 2009. On 19 April 2019, he was succeeded by Alexandra Suda, who was appointed the 11th Director and Chief Executive Officer of the National Gallery of Canada.\n",
      " The National Gallery of Canada is presently housed in a building on Sussex Drive, adjacent to the ByWard Market district. The building is the fourth edifice to house the art museum. The museum's present building was designed by Moshe Safdie & Associates, with construction beginning in 1985, and the building opening in 1988. The building has a total floor area of 46,621 square metres (501,820 sq ft). In 2000, the Royal Architectural Institute of Canada chose the National Gallery as one of the top 500 buildings produced in Canada during the last millennium.\n",
      " An independent crown corporation, the Canadian Museums Construction Corporation was established to build the museum with a budget of C$185 million. Following the 1984 Canadian federal election, Prime Minister Brian Mulroney dissolved the corporation. However, because the groundwork for the building was already completed, Mulroney chose to continue funding construction for the museum, albeit at a reduced total budget of C$162 million.\n",
      " The building's northern, eastern, and western exterior facade is made up of pink-granite walls, or glass-windows. The southern exterior facade features an elongated glass wall, supported by concrete pylons grouped in fours. The profile of the southern facade was designed to mimic a cathedral, with the concrete pylons being used in a similar manner to the flying buttresses found on Gothic cathedrals. The eastern portion of the building's southern facade transitions into a low-leveled crystalline glass-cupola, which holds the museum's main entrance; and its western portion, which features a three-tiered glass-cupola.\n",
      " The three tiered glass-cupola is formed out of rectangular glass and narrow steel supports.  The second tier of the cupola is formed out of rectangles and equilateral triangles that are further subdivided into eight or twelve smaller equilateral triangles. All these glass pieces are joined together by steel struts. The third tier of the cupola is formed with similar designs, although the triangular glass panes are isosceles triangles. The isosceles triangles converge upwards, with its apexes towards the centre. The building's three-tiered cupola is positioned in a manner in which the cupola would be flanked by the Peace Tower and the Library of Parliament to the west, when approaching the museum from the east.\n",
      " The interior entrance lobby is floored with pink-granite, and included a straight four metres (13 ft) wide ramp which slopes upward towards the west. Safdie noted the importance of the ramp in his design, stating that one should \"go through some kind of procession to make your way into something s important as the National Gallery,\" and that it gave the visitor the feeling of making an ascent to a ritual, a ceremony. The walls of the entrance lobby is lined with rectangular cut pink granite, excluding the southern wall, which part of the glass-walled exterior facade. A glass and steel ceiling reminiscent of Gothic cathedral architecture, extends the entire way of the ramp. However, as opposed to most Gothic cathedrals, the ceiling has a number of concrete columns spaced out to support the roof. The summit of the ramp leads towards the Great Hall of the building, situated in the three-storey glass cupola.\n",
      " The interior courtyard of the building includes the Taiga Garden. The garden was designed by Cornelia Oberlander, who modelled it the painting Terre Sauvage by A. Y. Jackson; a painting in the National Gallery's permanent collection. The garden attempts to mimic the landscape depicted in the painting, the Canadian shield; although substitutes limestone is substituted in place of the granite typically found at the Canadian shield.\n",
      " As of October 2018, the National Gallery of Canada permanent collection holds over 93,625 works, representing a number of artistic movements and eras in art history. The Gallery has a large and varied collection of paintings, drawings, sculpture and photographs. The earliest works acquired by the museum were from Canadian artists, with Canadian art remaining the focus for the institution. However, its collection also includes a number of works from artists around the world. The museum's collection has been built up through purchase and donations. The museum organizes its own travelling exhibitions to exhibit its collection, travelling across Canada and abroad. The National Gallery is the largest lender of artwork in Canada, sending out approximately 800 pieces a year.\n",
      " The museum's prints and drawings collection includes 27,000 works on paper dating from the 15th century to the present. The prints and drawing collection includes 10,000 works on paper by Canadian artists; more than 800 of these prints and drawings being crafted by Inuit artists. The prints and drawing collection also includes 2,500 drawings and 10,000 prints by American, Asian, and European artists.\n",
      " The museum also has approximately 400 works from Asian artists, dating from the 200 CE to 19th century. The museum's Asian collection began in the early 20th century, with a number of works originating from the collection of Nasli Heeramaneck. The museum's also has a collection of photographs, maintained as the Canadian Photography Institute. A number of the photographs in the collection originated from the defunct Canadian Museum of Contemporary Photography. \n",
      " The largest work in the Gallery is the entire interior of the Rideau Street Chapel, which formed part of the Convent of Our Lady Sacred Heart, The interior decorations of the Rideau Street Chapel were designed by Georges Couillon in 1887. The chapel interior was acquired by the musum in 1972, when the convent was slated for demolished. The interior's 1,123 pieces was dismantled, stored and reconstructed within the gallery as a work of art in 1988.\n",
      " The museum's Canadian collection includes works dating from 18th century New France, to the 1990s. The collection includes paintings from pre-Confederation; abstract paintings and other postwar art; and the Henry Birks Collection of Canadian Silver. Early pre-Confederation paintings were among the first items in the Canadian collections, with the National Gallery's earliest works originating from Canadian artists at the Royal Canadian Academy of Arts.\n",
      " The museum's Canadian collection holds a large number of works by the Group of Seven. The museum also holds a large collection of Tom Thomson works, with the museum adding The Jack Pine to its collection in 1918. The museum also holds the largest collection of works by Alex Colville. Other artists featured in the collections includes William Berczy, Jack Bush, Paul-Émile Borduas, Emily Carr, Robert Field, Vera Frenkel, Theophile Hamel, Joseph Légaré, Cornelius Krieghoff, Fernand Leduc, Alexandra Luke, Ken Lum, James Wilson Morrice, John O'Brien, Antoine Plamondon, William Raphael, Jean-Paul Riopelle, William Ronald, Michael Snow, Lisa Steele, Jeff Wall, Joyce Wieland, Paul Wong, and members of the Regina Five.\n",
      " In commemoration of the 150th anniversary of Canada in 2017, the museum of undertook a C$7.4 million renovation to open the Canadian and Indigenous Art: From Time Immemorial to 1967 gallery. The gallery exhibits the progression of Canadian art and history, exhibiting Canadian and indigenous Canadian works side-by-side. These works are exhibited in a manner which examines the intertwined relations between the two groups of people.\n",
      " The indigenous collection includes works by indigenous artists around the world, although it has an emphasis on works by the indigenous peoples of Canada. The museum collection acquired its first works by First Nations and Metis artists in the early 20th century. The museum acquired its first Inuit works in 1956, crafted by artists in Nunavik. In 1979, Henry Birks bequeathed a number of works from indigenous Canadian artists to National Gallery. In 1989 and 1992, the Department of Indian Affairs and Northern Development bequeathed 570 works by Inuit artists.\n",
      " A number of Indigenous Canadian artists whose works are featured in the collection include Kenojuak Ashevak, Kiawak Ashoona, Qaqaq Ashoona, Carl Beam, Faye HeavyShield, Osuitok Ipeelee, Rita Letendre, Norval Morrisseau, Shelley Niro, David Ruben Piqtoukun, Abraham Anghik Ruben, Lucy Tasseor Tutsweetok, Jeffrey Thomas, John Tiktak, and Lawrence Paul Yuxweluptun.\n",
      " The museum's contemporary collection includes 1,500 works from artists since the 1990s. The contemporary collection features a number of works from Canadian, and indigenous Canadian artists. The first indigenous Canadian contemporary artwork acquired by the National Gallery was in 1987, a piece by Anishinaabe artist Carl Beam. In 2017, Bob Rennie donated a contemporary art collection to the National Gallery in honour of Canada' 150th anniversary. The collection includes 197 paintings, sculptures, and mixed-media pieces with most of it originating from Vancouver-based artists including Geoffrey Farmer, Rodney Graham, Brian Jungen, Ian Wallace. However, the Rennie collection does include some international contemporary works, including from Doris Salcedo.\n",
      " In 1990 the Gallery bought Barnett Newman's Voice of Fire for $1.8 million, igniting a storm of controversy. However, since that time its value has appreciated to approximately C$40 million as of 2014.  In 1999, the museum acquired a sculpture a giant spider, Maman, by Louise Bourgeois for a cost of C$3.2 million. The sculpture was installed in the plaza in front of the Gallery. In 2011 the gallery installed Canadian sculptor Joe Fafard's Running Horses next to the Sussex Drive entrance, and American artist Roxy Paine's stainless steel sculpture One Hundred Foot Line in Nepean Point behind the gallery. Other contemporary artists whose works are featured in the National Gallery's collection includes David Altmejd, Lee Bul, Janet Cardiff, Bharti Kher, Christian Marclay, Elizabeth McIntosh, Chris Ofili, Roxy Paine, Ugo Rondinone, and Joanne Tod.\n",
      " The European, American, and Asian collection area includes most of the museum's works by non-Canadian artists. The museum acquired its first European work in 1907, the painting \"Ignatius Sancho\" by Thomas Gainsborough. Conversely, the museum did not begin to develop its collection of American art until the 1970s. The museum's collection presently includes American and European works dating from the Renaissance through to the 20th century. In addition to Western art, the collection area also has 400 works from India, Nepal, and Tibet.\n",
      " The museum European collection has since expanded either through acquisitions or gifts. Works acquired through acquisitions include La Tour Eiffel by Marc Chagall, acquired by the museum in 1956 for $C16,000. In 2018, the museum planned to sell the piece to fund acquisitions of other works, but abandoned those plans after it was found to be unpopular with the public. In 2005, the Gallery acquired a painting by Italian Renaissance painter Francesco Salviati for $4.5 million. In 2018, the museum acquired The Partie Carée by James Tissot from the collection of David R. Graham, putting it on display in December 2018. It is the third work by Tissot to be acquired by the museum since 1921. Other works from the collection include The Death of General Wolfe by Anglo-American artist Benjamin West. Other artists featured in the museum's European collection includes Alejo Fernández, Vilhelm Hammershøi, Gustav Klimt, Élisabeth Vigée Le Brun, Henri Matisse, Charles Meynier, Claude Monet, Rembrandt, and Vincent van Gogh.\n",
      " The library and archives of the National Gallery of Canada holds an extensive collection of art literature on Canadian art. The library and archives was established alongside the museum in 1880, and contains documents on western art from the Late Middle Ages to the present. The collection includes 275,000 books, catalogues, and periodicals; 76,000 documentation files; and 95,000 microforms. The archives serves as the institutional archive for the museum.\n",
      " The library and archives special collections includes over 50,000 auction catalogues, in addition to 182,000 slides, and over 360,000 research photographs. The library and archives Exceptional Materials and Notable Subject Collections contains a number of rare imprints, books, bookplates, on Canadian artists, as well as items relating to historians of Canadian art.\n",
      " The museum is affiliated with several associations, including the Canadian Museums Association, the Ontario Association of Art Galleries, the Canadian Heritage Information Network, and the Virtual Museum of Canada.\n",
      " Tom Thomson, Northern River, 1914–15\n",
      " Tom Thomson, Spring Ice, 1915–16\n",
      " Tom Thomson, The Jack Pine, 1916–17\n",
      " J. E. H. MacDonald, The Tangled Garden, 1916\n",
      " Edward Wadsworth, Dazzle-ships in Drydock at Liverpool, 1919\n",
      " David Milne, Vimy Ridge from Souchez, Estaminet among the Ruins, 1919\n",
      " Franklin Carmichael,  The Upper Ottawa, near Mattawa, 1924\n",
      " Bill Vazan, Black Nest, 1989–91\n",
      " Hieronymus Bosch, The Temptation of St. Anthony, 1501–50\n",
      " Hans Baldung, Eve, the Serpent, and Death, c. 1510–15\n",
      " Lorenzo Lotto, Madonna and Child with Saint Roch and Saint Sebastian, c. 1518\n",
      " Titian, Daniele Barbaro, 1545\n",
      " Paolo Veronese, Fragment of the Petrobelli Altarpiece: The Dead Christ with Angels, c. 1563\n",
      " El Greco, St. Francis and Brother Leo Meditating on Death, c. 1600–05\n",
      " Peter Paul Rubens, The Entombment, c. 1612–15\n",
      " Rembrandt, Heroine from the Old Testament, 1632–33\n",
      " J. M. W. Turner, Shoeburyness Fishermen Hailing a Whitstable Hoy, c. 1809\n",
      " Honoré Daumier, The Third-Class Carriage, 1863–65\n",
      " Paul Gauguin, The Quarries of Le Chou near Pontoise, 1882\n",
      " Vincent van Gogh, Iris, 1890\n",
      " Camille Pissarro, Hay Harvest at Éragny, 1901\n",
      " Paul Cézanne, Forest, c. 1902–04\n",
      " Gustav Klimt, Hope I, 1903\n",
      " Arshile Gorky, Charred Beloved II, 1946\n",
      " Giorgio Vasari, Abraham and the Three Angels, c. 16th century\n",
      " Caspar David Friedrich, Boy Sleeping on a Grave, c. 1801–03\n",
      " Eugène Delacroix, The Barque of Dante, c. 1820\n",
      " Francisco Goya, Holy Week in Spain in Times Past, c. 1825\n",
      " Ford Madox Brown, Portrait of Emma Madox Brown, 1853\n",
      " John Everett Millais, Portrait of Effie Ruskin, c. 1853\n",
      " Odilon Redon, The Raven, 1882\n",
      " Mary Cassatt, Woman Bathing, c. 1890–1891\n",
      "\n"
     ]
    },
    {
     "name": "stdout",
     "output_type": "stream",
     "text": [
      "Tate Modern is a modern art gallery located in London. It is Britain's national gallery of international modern art and forms part of the Tate group (together with Tate Britain, Tate Liverpool, Tate St Ives and Tate Online). It is based in the former Bankside Power Station, in the Bankside area of the London Borough of Southwark. Tate holds the national collection of British art from 1900 to the present day and international modern and contemporary art. Tate Modern is one of the largest museums of modern and contemporary art in the world. As with the UK's other national galleries and museums, there is no admission charge for access to the collection displays, which take up the majority of the gallery space, while tickets must be purchased for the major temporary exhibitions. The gallery is a highly visited museum, pulling in approximately 5.8 million visitors in 2018.\n",
      " Tate Modern is housed in the former Bankside Power Station, which was originally designed by Sir Giles Gilbert Scott, the architect of Battersea Power Station, and built in two stages between 1947 and 1963. It is directly across the river from St Paul's Cathedral. The power station closed in 1981.\n",
      " Prior to redevelopment, the power station was a 200 m (660 ft) long, steel framed, brick clad building with a substantial central chimney standing 99 m (325 ft). The structure was roughly divided into three main areas each running east–west – the huge main Turbine Hall in the centre, with the boiler house to the north and the switch house to the south.\n",
      " For many years after closure Bankside Power station was at risk of being demolished by developers. Many people campaigned for the building to be saved and put forward suggestions for possible new uses. An application to list the building was refused. In April 1994 the Tate Gallery announced that Bankside would be the home for the new Tate Modern. In July of the same year, an international competition was launched to select an architect for the new gallery. Jacques Herzog and Pierre de Meuron of Herzog & de Meuron were announced as the winning architects in January 1995. The £134 million conversion to the Tate Modern started in June 1995 and completed in January 2000.\n",
      " The most obvious external change was the two-story glass extension on one half of the roof. Much of the original internal structure remained, including the cavernous main turbine hall, which retained the overhead travelling crane. An electrical substation, taking up the Switch House in the southern third of the building, remained on-site and owned by the French power company EDF Energy while Tate took over the northern Boiler House for Tate Modern's main exhibition spaces.\n",
      " The history of the site as well as information about the conversion was the basis for a 2008 documentary Architects Herzog and de Meuron: Alchemy of Building & Tate Modern. This challenging conversion work was carried by Carillion.\n",
      " Tate Modern was opened by the Queen on 11 May 2000.\n",
      " Tate Modern received 5.25 million visitors in its first year. The previous year the three existing Tate galleries had received 2.5 million visitors combined.\n",
      " Tate Modern had attracted more visitors than originally expected and plans to expand it had been in preparation since 2004. These plans focused on the south west of the building with the intention of providing 5,000 m2 of new display space, almost doubling the amount of display space.\n",
      " The southern third of the building was retained by the French State owned power company EDF Energy as an electrical substation. In 2006, the company released the western half of this holding and plans were made to replace the structure with a tower extension to the museum, initially planned to be completed in 2015. The tower was to be built over the old oil storage tanks, which would be converted to a performance art space. Structural, geotechnical, civil, and façade engineering and environmental consultancy was undertaken by Ramboll between 2008 and 2016.\n",
      " This project was initially costed at £215 million. Of the money raised, £50 million came from the UK government; £7 million from the London Development Agency; £6 million from philanthropist John Studzinski; and donations from, among others, the Sultanate of Oman and Elisabeth Murdoch.\n",
      " In June 2013, international shipping and property magnate Eyal Ofer pledged £10m to the extension project, making it to 85% of the required funds. Eyal Ofer, chairman of London-based Zodiac Maritime Agencies, said the donation made through his family foundation would enable \"an iconic institution to enhance the experience and accessibility of contemporary art\". The Tate director, Nicholas Serota, praised the donation saying it would help to make Tate Modern a \"truly twenty-first-century museum\".\n",
      " The first phase of the expansion involved the conversion of three large, circular, underground oil tanks originally used by the power station into accessible display spaces and facilities areas. These opened on 18 July 2012 and closed on 28 October 2012 as work on the tower building continued directly above. They reopened following the completion of the Switch House extension on 17 June 2016.\n",
      " Two of the Tanks are used to show live performance art and installations while the third provides utility space. Tate describes them as \"the world's first museum galleries permanently dedicated to live art\".\n",
      " A ten-storey tower, 65 metres high from ground level, was built above the oil tanks.\n",
      " The original western half of the Switch House was demolished to make room for the tower and then rebuilt around it with large gallery spaces and access routes between the main building and the new tower on level 1 (ground level) and level 4. The new galleries on level 4 have natural top lighting. A bridge built across the turbine hall on level 4 provides an upper access route.\n",
      " The new building opened to the public on 17 June 2016.\n",
      " The design, again by Herzog & de Meuron, has been controversial. It was originally designed with a glass stepped pyramid, but this was amended to incorporate a sloping façade in brick latticework (to match the original power-station building) despite planning consent to the original design having been previously granted by the supervising authority.\n",
      " The extension provides 22,492 square metres of additional gross internal area for display and exhibition spaces, performance spaces, education facilities, offices, catering and retail facilities as well as a car parking and a new external public space.\n",
      " In May 2017, the Switch House was formally renamed the Blavatnik Building, after Anglo-Ukrainian billionaire Sir Leonard Blavatnik, who contributed a \"substantial\" amount of the £260m cost of the extension. Sir Nicholas Serota commented \"Len Blavatnik's enthusiastic support ensured the successful realisation of the project and I am delighted that the new building now bears his name\".\n",
      " The collections in Tate Modern consist of works of international modern and contemporary art dating from 1900 until today.\n",
      " Levels 2, 3 and 4 contain gallery space. Each of those floors is split into a large east and west wing with at least 11 rooms in each. Space between these wings is also used for smaller galleries on levels 2 and 4. The Boiler House shows art from 1900 to the present day.\n",
      " The Switch House has eleven floors, numbered 0 to 10. Levels 0, 2, 3 and 4 contain gallery space. Level 0 consists of the Tanks, spaces converted from the power station's original fuel oil tanks, while all other levels are housed in the tower extension building constructed above them. The Switch House shows art from 1960 to the present day.\n",
      " The Turbine Hall is a single large space running the whole length of the building between the Boiler House and the Switch House. At six stories tall it represents the full height of the original power station building. It is cut by bridges between the Boiler House and the Switch House on levels 1 and 4 but the space is otherwise undivided. The western end consists of a gentle ramp down from the entrance and provides access to both sides on level 0. The eastern end provides a very large space that can be used to show exceptionally large artworks due its unusual height.\n",
      " The main collection displays consist of 8 areas with a named theme or subject. Within each area there are some rooms that change periodically showing different works in keeping with the overall theme or subject. The themes are changed less frequently. There is no admission charge for these areas.\n",
      " As of June 2016 the themed areas were:\n",
      " There is also an area dedicated to displaying works from the Artist Rooms collection.\n",
      " Since the Tate Modern first opened in 2000, the collections have not been displayed in chronological order but have been arranged thematically into broad groups. Prior to the opening of the Switch House there were four of these groupings at a time, each allocated a wing on levels 3 and 5 (now levels 2 and 4).\n",
      " The initial hanging from 2000 to 2006:\n",
      " The first rehang at Tate Modern opened in May 2006. It eschewed the thematic groupings in favour of focusing on pivotal moments of twentieth-century art. It also introduced spaces for shorter exhibitions in between the wings. The layout was:\n",
      " In 2012, there was a partial third rehang. The arrangement was:\n",
      " The Turbine hall, which once housed the electricity generators of the old power station, is five storeys tall with 3,400 square metres of floorspace. It is used to display large specially-commissioned works by contemporary artists, between October and March each year.\n",
      " From 2000 until 2012, the series was named after its corporate sponsor, Unilever. In this time the company provided £4.4m sponsorship in total including a renewal deal of £2.2m for a period of five years agreed in 2008.\n",
      "This series was planned to last the gallery's first five years, but the popularity of the series led to its extension until 2012.\n",
      " The artists who have exhibited commissioned work in the Turbine Hall as part of the Unilever series are:\n",
      " In 2013, Tate Modern signed a sponsorship deal worth around £5 million with Hyundai to cover a ten-year program of commissions, then considered the largest amount of money ever provided to an individual gallery or museum in the United Kingdom. The first commission for the Hyundai series is Mexican artist, Abraham Cruzvillegas.\n",
      " The artists who have exhibited commissioned work in the Turbine Hall as part of the Hyundai series thus far are:\n",
      " When there is no series running, the Turbine Hall is used for occasional events and exhibitions. In 2011 it was used to display Damien Hirst's For The Love of God. A sell-out show by Kraftwerk in February 2013 crashed the ticket hotline and website, causing a backlash from the band's fans. In 2018 the Turbine Hall was used for two performances of Messiaen's Et exspecto resurrectionem mortuorum and Stockhausen's Gruppen.\n",
      " Two wings of the Boiler House are used to stage the major temporary exhibitions for which an entry fee is charged. These exhibitions normally run for three or four months. When they were located on a single floor, the two exhibition areas could be combined to host a single exhibition. This was done for the Gilbert and George retrospective due to the size and number of the works. Currently the two wings used are on level 3. It is not known if this arrangement is permanent. Each major exhibition has a dedicated mini-shop selling books and merchandise relevant to the exhibition.\n",
      " A 2014 show of Henri Matisse provided Tate Modern with London's best-attended charging exhibition, and with a record 562,622 visitors overall, helped by a nearly five-month-long run. In 2018, Joan Jonas had a retrospective exhibition.\n",
      " The Tanks, located on level 0, are three large underground oil tanks, connecting spaces and side rooms originally used by the power station and refurbished for use by the gallery. One tank is used to display installation and video art specially commissioned for the space while smaller areas are used to show installation and video art from the collection. The Tanks have also been used as a venue for live music.\n",
      " The Project Space (formerly known as the Level 2 Gallery) was a smaller gallery located on the north side of the Boiler House on level 1 which housed exhibitions of contemporary art in collaboration with other international art organisations. Its exhibitions typically ran for 2–3 months and then travelled to the collaborating institution for display there. The space was only accessible by leaving the building and re-entering using a dedicated entrance. It is no longer used as gallery space.\n",
      " Works are also sometimes shown in the restaurants and members' rooms. Other locations that have been used in the past include the mezzanine on Level 1 and the north facing exterior of the Boiler House building.\n",
      " In addition to exhibition space there are a number of other facilities:\n",
      " The closest station is Blackfriars via its new south entrance. Other nearby stations include Southwark, as well as St Paul's and Mansion House north of the river which can be reached via the Millennium Bridge. The lampposts between Southwark tube station and Tate Modern are painted orange to show pedestrian visitors the route.\n",
      " There is also a riverboat pier just outside the gallery called Bankside Pier, with connections to the Docklands and Greenwich via regular passenger boat services (commuter service) and the Tate to Tate service, which connects Tate Modern with Tate Britain.\n",
      " To the west of Tate Modern lie the sleek stone and glass Ludgate House, the former headquarters of Express Newspapers and Sampson House, a massive late Brutalist office building.\n",
      " Frances Morris' appointment as director was announced in January 2016.\n",
      " Since 2010 there have been 14 protest art performances by the art collective Liberate Tate demanding the Tate to \"disengage from BP as a sponsor, and stop allowing Tate to be used to deflect attention away from the devastating impacts that BP has around the world.\" BP is criticised for operations in relation with Petroleum exploration in the Arctic, the Deepwater Horizon oil spill, Oil sands and climate change. The artists involved in the protests are referring to a deal between BP and the Tate: BP pays £224,000 a year to the Tate. The Tate presents the brand BP in return. In June 2015 a group of artists occupied Tate Modern for 25 hours.\n",
      " Albert Gleizes, 1911, Portrait de Jacques Nayral, oil on canvas, 161.9 x 114 cm. This painting was reproduced in Fantasio: published 15 October 1911, for the occasion of the Salon d'Automne where it was exhibited the same year.\n",
      " Georges Braque, 1909–10, La guitare (Mandora, La Mandore), oil on canvas, 71.1 x 55.9 cm\n",
      " Pablo Picasso, 1909–10, Figure dans un Fauteuil (Seated Nude, Femme nue assise), oil on canvas, 92.1 x 73 cm. This painting from the collection of Wilhelm Uhde was confiscated by the French state and sold at the Hôtel Drouot in 1921\n",
      " Robert Delaunay, 1912, Windows Open Simultaneously (First Part, Third Motif), oil on canvas, 45.7 x 37.5 cm\n",
      " Juan Gris, 1914, The Sunblind, collage and oil on canvas, 92 × 72.5 cm\n",
      " Ernst Ludwig Kirchner, 1909/1926, Badende bei Moritzburg (Bathers at Moritzburg)\n",
      " Paul Klee, 1921, Abenteuer eines Fräuleins (A Young Lady's Adventure), watercolor on paper, 43.8 × 30.8 cm\n",
      " Paul Klee, 1935, Walpurgisnacht (Walpurgian Night)\n",
      " Robert Delaunay, 1934, Endless Rhythm\n",
      " \n",
      "\n"
     ]
    },
    {
     "name": "stdout",
     "output_type": "stream",
     "text": [
      "\n",
      " The Metropolitan Museum of Art of New York City, colloquially \"the Met\",[a] is the largest art museum in the United States. With 6,953,927 visitors to its three locations in 2018, it was the third most visited art museum in the world. Its permanent collection contains over two million works, divided among 17 curatorial departments. The main building at 1000 Fifth Avenue, along the Museum Mile on the eastern edge of Central Park in Manhattan's Upper East Side, is by area one of the world's largest art galleries. A much smaller second location, The Cloisters at Fort Tryon Park in Upper Manhattan, contains an extensive collection of art, architecture, and artifacts from medieval Europe. On March 18, 2016, the museum opened the Met Breuer museum along Madison Avenue on the Upper East Side; it extends the museum's modern and contemporary art program.\n",
      " The permanent collection consists of works of art from classical antiquity and ancient Egypt, paintings, and sculptures from nearly all the European masters, and an extensive collection of American and modern art. The Met maintains extensive holdings of African, Asian, Oceanian, Byzantine, and Islamic art. The museum is home to encyclopedic collections of musical instruments, costumes, and accessories, as well as antique weapons and armor from around the world. Several notable interiors, ranging from 1st-century Rome through modern American design, are installed in its galleries.\n",
      " The Metropolitan Museum of Art was founded in 1870 for the purposes of opening a museum to bring art and art education to the American people. The Fifth Avenue building opened on February 20, 1872, at 681 Fifth Avenue.\n",
      " The Met's permanent collection is curated by seventeen separate departments, each with a specialized staff of curators and scholars, as well as six dedicated conservation departments and a Department of Scientific Research. The permanent collection includes works of art from classical antiquity and ancient Egypt, paintings and sculptures from nearly all the European masters, and an extensive collection of American and modern art. The Met maintains extensive holdings of African, Asian, Oceanian, Byzantine, and Islamic art. The museum is also home to encyclopedic collections of musical instruments, costumes and accessories, and antique weapons and armor from around the world. A great number of period rooms, ranging from first-century Rome through modern American design, are permanently installed in the Met's galleries. In addition to its permanent exhibitions, the Met organizes and hosts large traveling shows throughout the year.\n",
      " The current chairman of the board, Daniel Brodsky, was elected in 2011 and became chairman three years after director Philippe de Montebello retired at the end of 2008.\n",
      " On March 1, 2017, the BBC reported that Daniel Weiss, the Met's president and COO, would also temporarily act as CEO for the museum. Following the departure of Thomas P. Campbell as the Met's director and CEO on June 30, 2017, the search for a new director of the museum was assigned to the human resources firm Phillips Oppenheim to present a new candidate for the position \"by the end of the fiscal year in June\" of 2018. The next director would report to Weiss as the current president of the museum. In April 2018, Max Hollein was named director.\n",
      " Beginning in the late 19th century, the Met started acquiring ancient art and artifacts from the Near East. From a few cuneiform tablets and seals, the Met's collection of Near Eastern art has grown to more than 7,000 pieces. Representing a history of the region beginning in the Neolithic Period and encompassing the fall of the Sasanian Empire and the end of Late Antiquity, the collection includes works from the Sumerian, Hittite, Sasanian, Assyrian, Babylonian, and Elamite cultures (among others), as well as an extensive collection of unique Bronze Age objects. The highlights of the collection include a set of monumental stone lamassu, or guardian figures, from the Northwest Palace of the Assyrian king Ashurnasirpal II.\n",
      " Though the Met first acquired a group of Peruvian antiquities in 1882, the museum did not begin a concerted effort to collect works from Africa, Oceania, and the Americas until 1969, when American businessman and philanthropist Nelson A. Rockefeller donated his more than 3,000-piece collection to the museum. Today, the Met's collection contains more than 11,000 pieces from sub-Saharan Africa, the Pacific Islands, and the Americas and is housed in the 40,000-square-foot (4,000 m2) Rockefeller Wing on the south end of the museum.\n",
      " The collection ranges from 40,000-year-old indigenous Australian rock paintings, to a group of 15-foot-tall (4.6 m) memorial poles carved by the Asmat people of New Guinea, to a priceless collection of ceremonial and personal objects from the Nigerian Court of Benin donated by Klaus Perls. The range of materials represented in the Africa, Oceania, and Americas collection is undoubtedly the widest of any department at the Met, including everything from precious metals to porcupine quills.[citation needed]\n",
      " The Met's Asian department holds a collection of Asian art, of more than 35,000 pieces, that is arguably the most comprehensive in the US. The collection dates back almost to the founding of the museum: many of the philanthropists who made the earliest gifts to the museum included Asian art in their collections. Today, an entire wing of the museum is dedicated to the Asian collection, and spans 4,000 years of Asian art. Every Asian civilization is represented in the Met's Asian department, and the pieces on display include every type of decorative art, from painting and printmaking to sculpture and metalworking. The department is well known for its comprehensive collection of Chinese calligraphy and painting, as well as for its Indian sculptures, Nepalese and Tibetan works, and the arts of Burma (Myanmar), Cambodia and Thailand. All three ancient religions of India – Hinduism, Buddhism and Jainism – are well represented in these sculptures. However, not only \"art\" and ritual objects are represented in the collection; many of the best-known pieces are functional objects. The Asian wing also contains a complete Ming Dynasty-style garden court, modeled on a courtyard in the Master of the Nets Garden in Suzhou. Maxwell K. Hearn has been the current department chairman of Asian Art since 2011.\n",
      " Though the majority of the Met's initial holdings of Egyptian art came from private collections, items uncovered during the museum's own archeological excavations, carried out between 1906 and 1941, constitute almost half of the current collection. More than 26,000 separate pieces of Egyptian art from the Paleolithic era through the Ptolemaic era constitute the Met's Egyptian collection, and almost all of them are on display in the museum's massive wing of 40 Egyptian galleries. Among the most valuable pieces in the Met's Egyptian collection are 13 wooden models (of the total 24 models found together, 12 models and 1 offering bearer figure is at the Met, while the remaining 10 models and 1 offering bearer figure are in the Egyptian Museum in Cairo), discovered in a tomb in the Southern Asasif in western Thebes in 1920. These models depict, in unparalleled detail, a cross-section of Egyptian life in the early Middle Kingdom: boats, gardens, and scenes of daily life are represented in miniature. William the Faience Hippopotamus is a miniature shown at right.\n",
      " However, the popular centerpiece of the Egyptian Art department continues to be the Temple of Dendur. Dismantled by the Egyptian government to save it from rising waters caused by the building of the Aswan High Dam, the large sandstone temple was given to the United States in 1965 and assembled in the Met's Sackler Wing in 1978. Situated in a large room and partially surrounded by a reflecting pool and illuminated by a wall of windows opening onto Central Park, the Temple of Dendur has been one of the Met's most enduring attractions. The oldest items at the Met, a set of Archeulian flints from Deir el-Bahri which date from the Lower Paleolithic period (between 300,000 and 75,000 BC), are part of the Egyptian collection. The curator is Diana Craig Patch.\n",
      " In 2018, the museum built an exhibition around the golden-sheathed 1st-century BC coffin of Nedjemankh, a high-ranking priest of the ram-headed god Heryshaf of Heracleopolis. Investigators determined that the artifact had been stolen in 2011 from Egypt, to which the museum has agreed to return it.\n",
      " The Met's collection of European paintings numbers around 1,700 pieces. The current chairman of the European Paintings is Keith Christiansen who has been at the museum since 1977.\n",
      " The European Sculpture and Decorative Arts collection is one of the largest departments at the Met, holding in excess of 50,000 separate pieces from the 15th through the early 20th centuries. Although the collection is particularly concentrated in Renaissance sculpture—much of which can be seen in situ surrounded by contemporary furnishings and decoration—it also contains comprehensive holdings of furniture, jewelry, glass and ceramic pieces, tapestries, textiles, and timepieces and mathematical instruments. In addition to its outstanding collections of English and French furniture, visitors can enter dozens of completely furnished period rooms, transplanted in their entirety into the Met's galleries. The collection even includes an entire 16th-century patio from the Spanish castle of Vélez Blanco, reconstructed in a two-story gallery, and the intarsia studiolo from the ducal palace at Gubbio. Sculptural highlights of the sprawling department include Bernini's Bacchanal, a cast of Rodin's The Burghers of Calais, and several unique pieces by Houdon, including his Bust of Voltaire and his famous portrait of his daughter Sabine.[citation needed]\n",
      " The museum's collection of American art returned to view in new galleries on January 16, 2012. The new installation provides visitors with the history of American art from the 18th through the early 20th century. The new galleries encompasses 30,000 square feet (2,800 m2) for the display of the museum's collection. The curator in charge of the American Wing since September 2014 is Sylvia Yount.\n",
      " The Met's collection of Greek and Roman art contains more than 17,000 objects. The Greek and Roman collection dates back to the founding of the museum—in fact, the museum's first accessioned object was a Roman sarcophagus, still currently on display. Though the collection naturally concentrates on items from ancient Greece and the Roman Empire, these historical regions represent a wide range of cultures and artistic styles, from classic Greek black-figure and red-figure vases to carved Roman tunic pins.[citation needed]\n",
      " Highlights of the collection include the monumental Amathus sarcophagus and a magnificently detailed Etruscan chariot known as the \"Monteleone chariot\". The collection also contains many pieces from far earlier than the Greek or Roman empires—among the most remarkable are a collection of early Cycladic sculptures from the mid-third millennium BC, many so abstract as to seem almost modern. The Greek and Roman galleries also contain several large classical wall paintings and reliefs from different periods, including an entire reconstructed bedroom from a noble villa in Boscoreale, excavated after its entombment by the eruption of Vesuvius in AD 79. In 2007, the Met's Greek and Roman galleries were expanded to approximately 60,000 square feet (6,000 m2), allowing the majority of the collection to be on permanent display.\n",
      " The Metropolitan Museum owns one of the world's largest collection of works of art of the Islamic world. The collection also includes artifacts and works of art of cultural and secular origin from the time period indicated by the rise of Islam predominantly from the Near East and in contrast to the Ancient Near Eastern collections. The biggest number of miniatures from the \"Shahnama\" list prepared under the reign of Shah Tahmasp I, the most luxurious of all the existing Islamic manuscripts, also belongs to this museum. Other rarities include the works of Sultan Muhammad and his associates from the Tabriz school \"The Sade Holiday\", \"Tahmiras kills divs\", \"Bijan and Manizhe\", and many others.\n",
      " The Met's collection of Islamic art is not confined strictly to religious art, though a significant number of the objects in the Islamic collection were originally created for religious use or as decorative elements in mosques. Much of the 12,000 strong collection consists of secular items, including ceramics and textiles, from Islamic cultures ranging from Spain to North Africa to Central Asia. The Islamic Art department's collection of miniature paintings from Iran and Mughal India are a highlight of the collection. Calligraphy both religious and secular is well represented in the Islamic Art department, from the official decrees of Suleiman the Magnificent to a number of Qur'an manuscripts reflecting different periods and styles of calligraphy. Modern calligraphic artists also used a word or phrase to convey a direct message, or they created compositions from the shapes of Arabic words. Others incorporated indecipherable cursive writing within the body of the work to evoke the illusion of writing.\n",
      " Islamic Arts galleries had been undergoing refurbishment since 2001 and were reopened on November 1, 2011, as the New Galleries for the Art of the Arab Lands, Turkey, Iran, Central Asia, and Later South Asia. Until that time, a narrow selection of items from the collection had been on temporary display throughout the museum. As with many other departments at the Met, the Islamic Art galleries contain many interior pieces, including the entire reconstructed Nur Al-Din Room from an early 18th-century house in Damascus. However, the museum has confirmed to the New York Post that it has withdrawn from public display all paintings depicting Muhammad and may not rehang those that were displayed in the Islamic gallery before the renovation.\n",
      " The Met's Department of Arms and Armor is one of the museum's most popular collections. The distinctive \"parade\" of armored figures on horseback installed in the first-floor Arms and Armor gallery is one of the most recognizable images of the museum, which was organized in 1975 with the help of the Russian immigrant and arms and armors' scholar, Leonid Tarassuk (1925–90). The department's focus on \"outstanding craftsmanship and decoration,\" including pieces intended solely for display, means that the collection is strongest in late medieval European pieces and Japanese pieces from the 5th through the 19th centuries. However, these are not the only cultures represented in Arms and Armor; the collection spans more geographic regions than almost any other department, including weapons and armor from dynastic Egypt, ancient Greece, the Roman Empire, the ancient Near East, Africa, Oceania, and the Americas, as well as American firearms (especially Colt firearms) from the 19th and 20th centuries. Among the collection's 14,000 objects are many pieces made for and used by kings and princes, including armor belonging to Henry VIII of England, Henry II of France, and Ferdinand I, Holy Roman Emperor.[citation needed]\n",
      " The Museum of Costume Art was founded by Aline Bernstein and Irene Lewisohn. In 1946, with the financial support of the fashion industry, the Museum of Costume Art merged with The Metropolitan Museum of Art as The Costume Institute, and in 1959 became a curatorial department. Today, its collection contains more than 35,000 costumes and accessories. The Costume Institute used to have a permanent gallery space in what was known as the \"Basement\" area of the Met because it was downstairs at the bottom of the Met facility. However, due to the fragile nature of the items in the collection, the Costume Institute does not maintain a permanent installation. Instead, every year it holds two separate shows in the Met's galleries using costumes from its collection, with each show centering on a specific designer or theme. The Costume Institute is known for hosting the annual Met Gala and in the past has presented summer exhibitions such as Savage Beauty and China: Through the Looking Glass.\n",
      " In past years, Costume Institute shows organized around famous designers such as Cristóbal Balenciaga, Chanel, Yves Saint Laurent, and Gianni Versace; and style doyenne like Diana Vreeland, Mona von Bismarck, Babe Paley, Jayne Wrightsman, Jacqueline Kennedy Onassis, Nan Kempner, and Iris Apfel have drawn significant crowds to the Met. The Costume Institute's annual Benefit Gala, co-chaired by Vogue editor-in-chief Anna Wintour, is an extremely popular, if exclusive, event in the fashion world; in 2007, the 700 available tickets started at $6,500 per person.\n",
      "Exhibits displayed over the past decade in the Costume Institute include: Rock Style, in 1999, representing the style of more than 40 rock musicians, including Madonna, David Bowie, and The Beatles; Extreme Beauty: The Body Transformed, in 2001, which exposes the transforming ideas of physical beauty over time and the bodily contortion necessary to accommodate such ideals and fashion; The Chanel Exhibit, displayed in 2005, acknowledging the skilled work of designer Coco Chanel as one of the leading fashion names in history; Superheroes: Fashion and Fantasy, exhibited in 2008, suggesting the metaphorical vision of superheroes as ultimate fashion icons; the 2010 exhibit on the American Woman: Fashioning a National Identity, which exposes the revolutionary styles of the American woman from the years 1890 to 1940, and how such styles reflect the political and social sentiments of the time. The theme of the 2011 event was \"Alexander McQueen: Savage Beauty\". Each of these exhibits explores fashion as a mirror of cultural values and offers a glimpse into historical styles, emphasizing their evolution into today's own fashion world. On January 14, 2014, the Met named the Costume Institute complex after Anna Wintour. The curator is Andrew Bolton.[citation needed]\n",
      " Though other departments contain significant numbers of drawings and prints, the Drawings and Prints department specifically concentrates on North American pieces and western European works produced after the Middle Ages. The first Old Master drawings, comprising 670 sheets, were presented as a single group in 1880 by Cornelius Vanderbilt II and in effect launched the department, though it was not formally constituted as a department until later. Other early donors to the department include Junius Spencer Morgan II who presented a broad range of material, but mainly dated from the 16th century, including two woodblocks and many prints by Albrecht Dürer in 1919. Currently, the Drawings and Prints collection contains more than 17,000 drawings, 1.5 million prints, and 12,000 illustrated books. The great masters of European painting, who produced many more sketches and drawings than actual paintings, are extensively represented in the Drawing and Prints collection. The department's holdings contain major drawings by Michelangelo, Leonardo da Vinci and Rembrandt, as well as prints and etchings by Van Dyck, Dürer, and Degas among many others. The curator is Nadine Orenstein.[citation needed]\n",
      " On the death of banker Robert Lehman in 1969, his Foundation donated 2,600 works of art to the museum. Housed in the \"Robert Lehman Wing,\" the museum refers to the collection as \"one of the most extraordinary private art collections ever assembled in the United States\". To emphasize the personal nature of the Robert Lehman Collection, the Met housed the collection in a special set of galleries which evoked the interior of Lehman's richly decorated townhouse; this intentional separation of the Collection as a \"museum within the museum\" met with mixed criticism and approval at the time, though the acquisition of the collection was seen as a coup for the Met. Unlike other departments at the Met, the Robert Lehman collection does not concentrate on a specific style or period of art; rather, it reflects Lehman's personal interests. Lehman the collector concentrated heavily on paintings of the Italian Renaissance, particularly the Sienese school. Paintings in the collection include masterpieces by Botticelli and Domenico Veneziano, as well as works by a significant number of Spanish painters, El Greco and Goya among them. Lehman's collection of drawings by the Old Masters, featuring works by Rembrandt and Dürer, is particularly valuable for its breadth and quality. Princeton University Press has documented the massive collection in a multi-volume book series published as The Robert Lehman Collection Catalogues.[citation needed]\n",
      " The Met's collection of medieval art consists of a comprehensive range of Western art from the 4th through the early 16th centuries, as well as Byzantine and pre-medieval European antiquities not included in the Ancient Greek and Roman collection. Like the Islamic collection, the Medieval collection contains a broad range of two- and three-dimensional art, with religious objects heavily represented. In total, the Medieval Art department's permanent collection numbers over 10,000 separate objects, divided between the main museum building on Fifth Avenue and The Cloisters.\n",
      " The medieval collection in the main Metropolitan building, centered on the first-floor medieval gallery, contains about 6,000 separate objects. While a great deal of European medieval art is on display in these galleries, most of the European pieces are concentrated at the Cloisters (see below). However, this allows the main galleries to display much of the Met's Byzantine art side-by-side with European pieces. The main gallery is host to a wide range of tapestries and church and funerary statuary, while side galleries display smaller works of precious metals and ivory, including reliquary pieces and secular items. The main gallery, with its high arched ceiling, also serves double duty as the annual site of the Met's elaborately decorated Christmas tree.[citation needed]\n",
      " The Cloisters was a principal project of John D. Rockefeller, Jr., a major benefactor of the Met. Located in Fort Tryon Park and completed in 1938, it is a separate building dedicated solely to medieval art. The Cloisters collection was originally that of a separate museum, assembled by George Grey Barnard and acquired in toto by Rockefeller in 1925 as a gift to the Met.\n",
      " The Cloisters are so named on account of the five medieval French cloisters whose salvaged structures were incorporated into the modern building, and the five thousand objects at the Cloisters are strictly limited to medieval European works. The collection features items of outstanding beauty and historical importance; including the Belles Heures of Jean de France, Duc de Berry illustrated by the Limbourg Brothers in 1409, the Romanesque altar cross known as the \"Cloisters Cross\" or \"Bury Cross\", and the seven tapestries depicting the Hunt of the Unicorn.\n",
      " With some 13,000 artworks, primarily by European and American artists, the modern art collection occupies 60,000 square feet (6,000 m2), of gallery space and contains many iconic modern works. Cornerstones of the collection include Picasso's portrait of Gertrude Stein, Jasper Johns's White Flag, Jackson Pollock's Autumn Rhythm (Number 30), and Max Beckmann's triptych Beginning. Certain artists are represented in remarkable depth, for a museum whose focus is not exclusively on modern art: for example, ninety works constitute the museum's Paul Klee collection, donated by Heinz Berggruen, spanning the entirety of the artist's life. Due to the Met's long history, \"contemporary\" paintings acquired in years past have often migrated to other collections at the museum, particularly to the American and European Paintings departments.[citation needed]\n",
      " In April 2013, it was reported that the museum was to receive a collection worth $1 billion from cosmetics tycoon Leonard Lauder. The collection of Cubist art includes work by Pablo Picasso, Georges Braque and Juan Gris and went on display in 2014. The Met has since added to the collection, for example spending $31.8 million for Gris' The musician's table in 2018.\n",
      " The Met's collection of musical instruments, with about 5,000 examples of musical instruments from all over the world, is virtually unique among major museums. The collection began in 1889 with a donation of 270 instruments by Mary Elizabeth Adams Brown, who joined her collection to become the museum's first curator of musical instruments, named in honor of her husband, John Crosby Brown. By the time she died, the collection had 3,600 instruments that she had donated and the collection was housed in five galleries. Instruments were (and continue to be) included in the collection not only on aesthetic grounds, but also insofar as they embodied technical and social aspects of their cultures of origin. The modern Musical Instruments collection is encyclopedic in scope; every continent is represented at virtually every stage of its musical life. Highlights of the department's collection include several Stradivari violins, a collection of Asian instruments made from precious metals, and the oldest surviving piano, a 1720 model by Bartolomeo Cristofori. Many of the instruments in the collection are playable, and the department encourages their use by holding concerts and demonstrations by guest musicians.[citation needed]\n",
      " The Met's collection of photographs, numbering more than 25,000 in total, is centered on five major collections plus additional acquisitions by the museum. Alfred Stieglitz, a famous photographer himself, donated the first major collection of photographs to the museum, which included a comprehensive survey of Photo-Secessionist works, a rich set of master prints by Edward Steichen, and an outstanding collection of Stieglitz's photographs from his own studio. The Met supplemented Stieglitz's gift with the 8,500-piece Gilman Paper Company Collection, the Rubel Collection, and the Ford Motor Company Collection, which respectively provided the collection with early French and American photography, early British photography, and post-WWI American and European photography. The museum also acquired Walker Evans's personal collection of photographs, a particular coup considering the high demand for his works. The department of photography was founded in 1992. Though the department gained a permanent gallery in 1997, not all of the department's holdings are on display at any given time, due to the sensitive materials represented in the photography collection. However, the Photographs department has produced some of the best-received temporary exhibits in the Met's recent past, including a Diane Arbus retrospective and an extensive show devoted to spirit photography. In 2007, the museum designated a gallery exclusively for the exhibition of photographs made after 1960.\n",
      " On March 18, 2016, the museum opened a new venue in the Marcel Breuer-designed building at Madison Avenue and 75th Street in Manhattan's Upper East Side, the former Whitney Museum of American Art. It extends the museum's modern and contemporary art program. In September 2018, it was announced that the Met intends to vacate the Met Breuer three years early, in 2020—in which case the Frick Collection will likely temporarily occupy the space as its main building undergoes renovations.\n",
      " The Met has an extensive archive consisting of 1,500 films made and collected by the museum since the 1920s. As part of the museum's 150 anniversary commemoration, since January 2020, the museum uploads a film from its archive weekly onto YouTube. \n",
      " Beginning in 2013, the Met organized the Digital Media Department for the purpose of increasing access of the museum's collections and resources using digital media and expanded website services. The first Chief Digital Officer Sree Sreenivasan from 2013 departed in 2016 and was replaced by Loic Tallon at the time that the department became known by its simplified designation as the Digital Department. At the start of 2017, the department began its Open Access initiative summarized on the Met's website titled \"Digital Underground\" stating: \"It's been six months since The Met launched its Open Access initiative, which made available all 375,000+ images of public-domain works in The Met collection under Creative Commons Zero (CC0). During what is just the dawn of this new initiative, the responses so far have been incredible.\" At that time, more than 375,000 photographic images from the museum's archival collection were released for public domain reproduction and use both by the general public and by large public access websites such as those available at Google BigQuery.\n",
      " Each Department maintains a library, most of the material of which can be requested online through the libraries' catalog. Two of the libraries may be accessed without an appointment:\n",
      " The Thomas J. Watson Library is the central library of The Metropolitan Museum of Art, and supports the activities of staff and researchers. Watson Library's collection contains approximately 900,000 volumes, including monographs and exhibition catalogs; over 11,000 periodical titles; and more than 125,000 auction and sale catalogs. The Library includes a reference collection, auction and sale catalogs, a rare book collection, manuscript items, and vertical file collections. The Library is accessible to anyone 18 years of age or older simply by registering online and providing a valid photo ID.\n",
      " The Nolen Library is open to the general public. The collection of some 8,000 items, arranged in open shelves, includes books, picture books, DVDs, and videos. The Nolen Library includes a children's reading room and materials for teachers.\n",
      " The museum regularly hosts notable special exhibitions, often focusing on the works of one artist that have been loaned out from a variety of other museums and sources for the duration of the exhibition. These exhibitions are part of the attraction that draw people both within and outside Manhattan to explore the Met. Such exhibitions include displays especially designed for the Costume Institute, paintings from artists from across the world, works of art related to specific art movements, and collections of historical artifacts. Exhibitions are commonly located within their specific departments, ranging from American decorative arts, arms and armor, drawings and prints, Egyptian art, Medieval art, musical instruments, and photographs. Typical exhibitions run for months at a time and are open to the general public. Each exhibition provides insight into the world of art as a transformative, cultural experience and often includes a historical analysis to demonstrate the profound impact that art has on society and its dramatic transformation over the years.\n",
      " In 1969, a special exhibition, titled \"Harlem on My Mind\" was criticized for failing to exhibit work by Harlem artists. The museum defended its decision to portray Harlem itself as a work of art. Norman Lewis, Benny Andrews, Romare Bearden, Clifford Joseph, Roy DeCarava, Reginald Gammon, Henri Ghent, Raymond Saunders, and Alice Neel were among the artists who picketed the show.\n",
      " The New York State Legislature granted the Metropolitan Museum of Art an Act of Incorporation on April 13, 1870, \"for the purpose of establishing and maintaining in said City a Museum and Library of Art, of encouraging and developing the Study of the Fine Arts, and the application of Art to manufacture and natural life, of advancing the general knowledge of kindred subjects, and to that end of furnishing popular instruction and recreations.\" This legislation was supplemented later by the 1893 Act, Chapter 476, which required that its collections \"shall be kept open and accessible to the public free of all charge throughout the year.\" The founders included businessmen and financiers, as well as leading artists and thinkers of the day, who wanted to open a museum to bring art and art education to the American people.\n",
      " The museum first opened on February 20, 1872, housed in a building located at 681 Fifth Avenue. John Taylor Johnston, a railroad executive whose personal art collection seeded the museum, served as its first president, and the publisher George Palmer Putnam came on board as its founding superintendent. The artist Eastman Johnson acted as co-founder of the museum. Various other industrialists of the age served as co-founders, including Howard Potter. The former Civil War officer, Luigi Palma di Cesnola, was named as its first director. He served from 1879 to 1904. Under their guidance, the Met's holdings, initially consisting of a Roman stone sarcophagus and 174 mostly European paintings, quickly outgrew the available space. In 1873, occasioned by the Met's purchase of the Cesnola Collection of Cypriot antiquities, the museum decamped from Fifth Avenue and took up residence at the Mrs. Nicholas Cruger Mansion also known as the Douglas Mansion (James Renwick, 1853–54, demolished 1928) at 128 West 14th Street. However, these new accommodations proved temporary, as the growing collection required more space than the mansion could provide. Between 1879 and 1895, the museum created and operated a series of educational programs, known as the Metropolitan Museum of Art Schools, intended to provide vocational training and classes on fine arts.\n",
      " In 1954, to mark the opening of its Grace Rainey Rogers concert hall, the museum inaugurated a series of concerts, adding art lectures in 1956. This \"Concerts & Lectures program\" grew over the years into 200 events each season. The program presented such performers as Marian Anderson, Cecilia Bartoli, Judy Collins, Marilyn Horne, Burl Ives, Juilliard String Quartet, Yo-Yo Ma, Itzhak Perlman, Artur Rubinstein, András Schiff, Nina Simone, Joan Sutherland and André Watts, as well as lectures on art history, music, dance, theater and social history. The program was directed, from its inception to 1968, by William Kolodney, and from 1969 to 2010, by Hilde Limondjian.\n",
      " In the 1960s, the governance of the Met was expanded to include, for the first time, a chairman of the board of trustees in contemplation of a large bequest from the estate of Robert Lehman. For six decades Lehman built upon an art collection begun by his father in 1911 and devoted a great deal of time the Met, before finally becoming the first chairman of the board at the Metropolitan in the 1960s. After his death in 1969, the Robert Lehman Foundation donated close to 3,000 works of art to the Metropolitan Museum of Art. Housed in the Robert Lehman Wing, which opened to the public in 1975 and largely financed by the Lehman Foundation, the museum has called it \"one of the most extraordinary private art collections ever assembled in the United States\".\n",
      " The Metropolitan Museum of Art Centennial was celebrated with exhibitions, symposia, concerts, lectures, the reopening of refurbished galleries, special tours, social events, and other programming for eighteen months from October 1969 through the spring of 1971. The centennial's events (including an open house, Centennial Ball, year-long art history course for the public, and various educational programming and traveling exhibitions) and publications drew on support from prominent New Yorkers, artists, writers, composers, interior designers, and art historians. In 2009 Michael Gross published The Secret History of the Moguls and the Money That Made the Metropolitan Museum, an unauthorized social history, and the museum bookstore declined to sell it.\n",
      " In 2012, following the earlier appointment of Daniel Brodsky as chairman of the board at the Met, the by-laws of the museum were formally amended to recognize the office of the chairman as having authority over the assignment and review of the both the offices of president and director of the museum. The office of chairman was first introduced relatively late in the museum's history in the 1960s in contemplation of the anticipated donation of the Lehman collection to the museum and has since that time, under Brodsky, become the most senior administrative position at the museum. In January 2018, Daniel Weiss as president of the museum announced that the century-old policy of free admission to the museum would be replaced by a new admission policy which would require a charge of $25 to out-of-state and foreign visitors to the museum effective March 2018.\n",
      " After negotiations with the City of New York in 1871, the Met was granted the land between the East Park Drive, Fifth Avenue, and the 79th and 85th Street transverse roads in Central Park. A red-brick and stone \"mausoleum\" was designed by American architect Calvert Vaux and his collaborator Jacob Wrey Mould. Vaux's ambitious building was not well received; the building's High Victorian Gothic style being considered already dated prior to completion, and the president of the Met termed the project \"a mistake\".\n",
      " Within 20 years, a new architectural plan engulfing the Vaux building was already being executed. Since that time, many additions have been made, including the distinctive Beaux-Arts Fifth Avenue facade, Great Hall, and Grand Stairway. These were designed by architect and Met trustee Richard Morris Hunt, but completed by his son, Richard Howland Hunt in 1902 after his father's death. The architectural sculpture on the facade is by Karl Bitter.\n",
      " The wings that completed the Fifth Avenue facade in the 1910s were designed by the firm of McKim, Mead & White. The modernistic glass sides and rear of the museum are the work of Roche-Dinkeloo. Kevin Roche has been the architect for the master plan and expansion of the museum for the past 42 years. He is responsible for designing all of its new wings and renovations including but not limited to the American Wing, Greek and Roman Court, and recently opened Islamic Wing.\n",
      " The Met measures almost 1⁄4-mile (400 m) long and with more than 2 million square feet (190,000 m2) of floor space, more than 20 times the size of the original 1880 building. The museum building is an accretion of over 20 structures, most of which are not visible from the exterior. The City of New York owns the museum building and contributes utilities, heat, and some of the cost of guardianship. The Charles Engelhard Court of the American Wing features the facade of the Branch Bank of the United States, a Wall Street bank that was facing demolition in 1913.\n",
      " The Iris and B. Gerald Cantor Roof Garden is located on the roof near the southwestern corner of the museum. The garden's cafe and bar is a popular museum spot during the mild-weathered months, especially on Friday and Saturday evenings when large crowds can lead to long lines at the elevators. The roof garden offers views of Central Park and the Manhattan skyline. The garden is the gift of philanthropists Iris and B. Gerald Cantor, founder and chairman of securities firm Cantor Fitzgerald. The garden was opened to the public on August 1, 1987.\n",
      " Every summer since 1998 the roof garden has hosted a single-artist exhibition. The artists have been: Ellsworth Kelly (1998), Magdalena Abakanowicz (1999), David Smith (2000), Joel Shapiro (2001), Claes Oldenburg and Coosje van Bruggen (2002), Roy Lichtenstein (2003), Andy Goldsworthy (2004), Sol LeWitt (2005), Cai Guo-Qiang (2006), Frank Stella (2007), Jeff Koons (2008), Roxy Paine (2009), Big Bambú by Doug and Mike Starn (2010), We Come in Peace by Huma Bhabha (2018), and Parapivot by Alicja Kwade.\n",
      " The roof garden has views of the Manhattan skyline from a vantage point high above Central Park. The views have been described as \"the best in Manhattan.\" Art critics have been known to complain that the view \"distracts\" from the art on exhibition. New York Times art critic Ken Johnson complains that the \"breathtaking, panoramic views of Central Park and the Manhattan skyline\" creates \"an inhospitable site for sculpture\" that \"discourages careful, contemplative looking.\" Writer Mindy Aloff describes the roof garden as \"the loveliest airborne space I know of in New York.\" The cafe and bar in this garden are considered romantic by many.\n",
      " The museum's main building was designated a city landmark by the New York City Landmarks Preservation Commission in 1967, and its interior was separately recognized by the Landmarks Preservation Commission in 1977. The Met's main building was designated a National Historic Landmark in 1986, recognizing both its monumental architecture, and its importance as a cultural institution.\n",
      " Although the City of New York owns the museum building and contributes utilities, heat, and some of the cost of guardianship, the collections are owned by a private corporation of fellows and benefactors which totals about 950 persons. The museum is governed by a board of trustees of 41 elected members, several officials of the City of New York, and persons honored as trustees by the museum. The current chairman of the board, Daniel Brodsky was elected in 2011. Other notable trustees include Anna Wintour, Richard Chilton, Candace Beinecke, Alejandro Santo Domingo as well as Mayor Bill de Blasio and his appointee Ken Sunshine. On March 10, 2015, the board of trustees chose Daniel Weiss, then president of Haverford College, to be the current president and chief operating officer of the Met, replacing Emily K. Rafferty, who served in that role for a decade. The search for a new director and CEO for the museum was announced on February 28, 2017, and assigned to be conducted by the human resources firm Phillips Oppenheim following the departure of Thomas Campbell as the Met's director and previous CEO on June 30, 2017. The activities of board of trustees is organized and based upon the activities of the individual trustees and their various committees as of 2016. The several committees of the board of trustees include the committees listed as Nominating, Executive, Acquisitions, Finance, Investment, Legal, Education, Audit, Employee Benefits, External Affairs, Merchandising, Membership, Building, Technology and The Fund for the Met.\n",
      " The list of elective trustees of the Met for 2016–2017 included Jeffrey W. Greenberg, Bonnie B. Himmelman, and Andrew Solomon.\n",
      " As of 2017, the museum's endowment as administered by the museum's new investment officer Lauren Meserve is US$3.1 billion which provides much of the income for operations while admissions account for only 13 percent of revenue as of fiscal 2016. The 2009–10 operating budget was $221 million. The museum admission price as of March 2018 is $25 for out-of-state and foreign visitors, while New York state residents can pay what they wish to enter. Although subject to re-assessment, a 1970 agreement between the museum and the city of New York requires New York state visitors to pay at least a nominal amount; a penny is acceptable. The Met's finance committee is led by Hamilton E. James of The Blackstone Group, who is also one of the board members at the Met. The Met is reported to have an Aaa credit rating, the highest such rating possible. This was last affirmed by Moody's in 2015.\n",
      " In 2019, museum President Daniel Weiss announced that the institution would review its policy for receiving financial donations, under pressure from activist group P.A.I.N. for the role that cultural institutions have played in whitewashing the Sackler family by receiving their donations.\n",
      " In September 2016, the Wall Street Journal first reported financial set-backs at the museum related to servicing its outstanding debts and associated cut-backs in staffing at the museum, with the goal of trying to balance its budget by fiscal year 2018. According to the Met's annual tax filing for fiscal year 2016, several top executives had received disproportionately high compensation, often exceeding $1 million per annum with over $100,000 bonuses per annum.\n",
      " In April 2017, The New York Times reported that the Met's annual debt was approaching $40 million, in addition to an outstanding museum bond for $250 million. This resulted in the indefinite postponement of a planned $600 million architectural expansion of the exhibition space for the museum's modern art collection as well as started a general discussion over the Met's human resources management. The current chairman of the board at the Met elected in 2011, Daniel Brodsky, stated in response to the Times reports that he \"looked forward to working with my administrative and board colleagues to support a climate of candor, transparency, accountability and mutual respect.\" In January 2018, Daniel Weiss as president of the museum stated that a downsized version of the original $600 million architectural expansion might be reconsidered as early as 2020 at a reduction to the $450 million level.\n",
      " Brodsky, the chairman of the Met, stated that after the 2017 financial setbacks, the director position would be appointed separately from the position of CEO. Following a commissioned report from the Boston Consulting Group, the current interim CEO, president, and COO of the Met, Daniel Weiss, said that the Met's 2015–2017 financial setbacks were caused by \"slowing revenue, rising costs, and too many projects at once.\" Weiss was further reported as having hired Will Manzer, formerly an executive at Perry Ellis, to help re-invigorate recently declining revenues at the museum. On April 26, Weiss stated that the budget shortfall of $15 million might require a re-assessment and increase in the museum's current admission payment policy. Weiss added that there remained concerns for a sustainable fiscal model for the Met in which city officials \"have a right to a clear understanding of how we would be engaging the public, how we balance access with sustainability.\" In May 2017, the Met filed formal proposal to attempt to charge admission fees to out-of-state visitors. Robin Pogrebin, writing for the Times, reported that the request for out-of-state admissions would call for the re-legislation of the New York State 1893 Act which requires that the museum's collections \"shall be kept open and accessible to the public free of all charge throughout the year,\" and any unlegislated changes would be subject to challenge by the New York State attorney general, Eric Schneiderman, or one of the tristate counselors, Christopher Porrino or George Jepsen.\n",
      " In January 2018, Pogrebin writing for The New York Times reported that amid-continuing reverbations from \"a period of financial turbulence and leadership turmoil\" that the museum president Daniel Weiss had announced that the museum would rescind its century-old policy of free admission to the museum and begin charging $25 for out-of-state visitors starting in March 2018. Pogrebin stated that although the museum had made progress in decreasing its deficit from $40 million to $10 million, that an adverse decision from the City of New York to curtail funding for the Met's operating costs by as much as $8 million \"for security and building staff\" caused Weiss to announce the change in admissions policy. Weiss indicated that the new policy would be estimated to increase revue from the current $43 million it receives from admissions to an enhanced revenue stream as high as US$49 million.\n",
      " For the fiscal year 2017 which ended on June 30, the museum was reported as having 7 million visitors during the past year, where \"37 percent of these were international visitors, while 30 percent came from New York's five boroughs.\" Previously in 2016, the museum set a record for attendance, attracting 6.7 million visitors—the highest number since the museum began tracking admissions. Forty percent of the Met's visitors in fiscal year 2016 came from New York City and the tristate area; 41 percent from 190 countries besides the United States. In 2017, the attendance figures indicated seven million annual visitors with 63% of the visitors arriving from outside of New York State.\n",
      " Roberta Smith writing for The New York Times in September 2017 voiced growing public concern that proposed increases in admissions costs would have an adverse effect upon attendance statistics at the museum. Smith referred to the public perception that such costs would appear \"greedy and inapproriate\" because \"The museum already gets around $39 million a year from its gate – equal to the entire annual budget of the Brooklyn Museum.\" Smith's article continued to report the negative response of local communities in the tristate area surrounding the museum which was previously introduced in a series of articles by Robin Pogrebin written during the 2016–2017 fiscal year at the museum which criticized speculative suggestions among current administrators at the museum that an added revenue stream could be pursued by the museum by rescinding existing museum policy since 1893 allowing for free public access to the museum. In January 2018, museum president Daniel Weiss announced that the century-old policy of free museum admission would be replaced. Effective March 2018, most visitors who do not live in New York state or are not a student from New York, New Jersey, or Connecticut have to pay $25 to enter the museum. The City of New York has reduced funding at the Metropolitan as part of Mayor De Blasio's political effort to increase artistic diversity. They made an agreement to allow the fees in exchange for less funding which the city pledged to use at alternate facilities and promote diversity.\n",
      " Both Holland Carter and Roberta Smith of The New York Times have argued in response to Weiss's decision to rescind the previous free admission policy as lacking in responsible fiscal planning. They stated that a recent $65 million expenditure for renovating fountains seemed to be a poor allocation of the limited available funding. Smith added, \"Those new awful Darth Vaderish fountains take huge chunks out of the plaza and disrupt movement,\" as an indication of the misuse of funds. Further criticism of Weiss's proposal was voiced internationally when The Guardian summarized the backlash from the Weiss proposal for raising the admissions fees. It stated, \"Some critics are outraged. The past week has seen a New York Times piece titled \"The New Pay Policy Is a Mistake\", while Jezebel's Aimée Lutkin claimed \"The Met Should Be Fucking Free\". The New York Post writes that the museum has never had the right to charge admission and Alexandra Schwartz in the New Yorker says the new policy diminishes New York City\".\n",
      " The Metropolitan Museum of Art spent $39 million to acquire art for the fiscal year ending in June 2012. At the same time, the museum is required to list in its annual report the total cash proceeds from art sales each year and to itemize any deaccessioned objects valued at more than $50,000 each. It must also sell those pieces at auction and provide advance public notice of a work being sold if it has been on view in the last ten years. These rules were imposed by the New York State Attorney General in 1972.\n",
      " During the 1970s, under the directorship of Thomas Hoving, the Met revised its deaccessioning policy. Under the new policy, the Met set its sights on acquiring \"world-class\" pieces, regularly funding the purchases by selling mid- to high-value items from its collection. Though the Met had always sold duplicate or minor items from its collection to fund the acquisition of new pieces, the Met's new policy was significantly more aggressive and wide-ranging than before, and allowed the deaccessioning of items with higher values which would normally have precluded their sale. The new policy provoked a great deal of criticism (in particular, from The New York Times) but had its intended effect.\n",
      " Many of the items then purchased with funds generated by the more liberal deaccessioning policy are now considered the \"stars\" of the Met's collection, including Diego Velázquez's Portrait of Juan de Pareja and the Euphronios krater depicting the death of Sarpedon (which has since been repatriated to the Republic of Italy). In the years since the Met began its new deaccessioning policy, other museums have begun to emulate it with aggressive deaccessioning programs of their own. The Met has continued the policy in recent years, selling such valuable pieces as Edward Steichen's 1904 photograph The Pond-Moonlight (of which another copy was already in the Met's collection) for a record price of $2.9 million.\n",
      " One of the most serious challenges to the Metropolitan Museum's reputation has been a series of allegations and lawsuits about its status as an institutional buyer of looted and stolen antiquities. Since the 1990s the Met has been the subject of numerous investigative reports and books critical of the Met's laissez-faire attitude to acquisition. The Met has lost several major lawsuits, notably against the governments of Italy and Turkey, which successfully sought the repatriation of hundreds of ancient Mediterranean and Middle Eastern antiquities, with a total value in the hundreds of millions of dollars.\n",
      " Standing male worshiper, Mesopotamian, 2750-2600 BC(?)\n",
      " Sphinx, c. 530 BC\n",
      " Busto de Anicia Iuliana, Roman\n",
      " Roman c. 430\n",
      " Book Cover with Byzantine Icon of the Crucifixion, before 1085\n",
      " Tabernacle of Cherves, c. 1220–1230\n",
      " Spanish Processional Cross, late 11th – early 12th century, Asturias\n",
      " Khatchkar. Basalt\n",
      " Alpan carpet, 1800s\n",
      " Scuola di biduino, portale da san leonardo al frigido, vicino massa carrara, c. 1170-80\n",
      " Tomb of Ermengol IX of Urgell (died 1243)\n",
      " The Crucified Christ, c. 1300, Northern Europe\n",
      " Serpent labret with articulated tongue, c. 1300–1521, Aztec\n",
      " Attributed to Jean de Touyl (French, died 1349), Reliquary Shrine from the convent of the Poor Clares at Buda\n",
      " Attributed to Jean Le Noir or follower, Psalter of Bonne de Luxembourg, 14th-c illuminated manuscript\n",
      " Doorway in granite, in oak, France, Limousin, 15th c, Aixe sur Vienne\n",
      " Andrea da Giona, Altarpiece with Christ in Majesty, c. 1434\n",
      " Schwaben, c. 1489\n",
      " Aldobrandini Tazza of the Roman emperor Vitellius, c.1590s\n",
      " Neminatha, Akota Bronzes (7th century CE)\n",
      " Muisca tunjo on stool, c. 10th-16th century, Lake Guatavita region, Altiplano Cundiboyacense\n",
      " Andre-Charles Boulle (November 11, 1642 – February 29, 1732) – Commode\n",
      " Interior of the early colonial home of John Wentworth, lieutenant governor of New Hampshire\n",
      " Robert Campin, Triptych with the Annunciation, known as the Mérode Altarpiece, c. 1425–1428\n",
      " Jan van Eyck, Crucifixion and Last Judgement diptych, c. 1430–40\n",
      " Rogier van der Weyden, Polyptych with the Nativity, c. 1450\n",
      " Paolo Uccello, Portrait of a Lady, c. 1450, Florence\n",
      " Pieter Bruegel the Elder, The Harvesters, 1565\n",
      " Caravaggio, The Musicians, 1595\n",
      " El Greco, Opening of the Fifth Seal 1608–1614\n",
      " Georges de La Tour, The Fortune Teller, c.1630\n",
      " Diego Velázquez, Portrait of Juan de Pareja, 1650\n",
      " Rembrandt, Aristotle Contemplating the Bust of Homer, 1653\n",
      " Johannes Vermeer, Woman with a Lute, 1662\n",
      " Francisco Goya, Don Manuel Osorio Manrique de Zúñiga, 1777-1778\n",
      " Jacques-Louis David, The Death of Socrates, 1787\n",
      " J.M.W. Turner, The Grand Canal, 1835\n",
      " Thomas Cole, The Oxbow, 1836\n",
      " Eugène Delacroix, Christ Asleep during the Tempest, 1853\n",
      " Rosa Bonheur, The Horse Fair, 1853–1855\n",
      " Édouard Manet, The Dead Christ with Angels, 1864\n",
      " Edgar Degas, The Dancing Class, 1872\n",
      " Édouard Manet, Boating 1874\n",
      " Pierre-Auguste Renoir, Mme. Charpentier and Her Children, 1878\n",
      " Jules Bastien-Lepage, Jeanne d'Arc (Joan of Arc), 1879\n",
      " John Singer Sargent, Portrait of Madame X, 1884\n",
      " Vincent van Gogh, Self-Portrait with Straw Hat, 1887\n",
      " Paul Cézanne, Madame Cézanne (Hortense Fiquet, 1850–1922) in a Red Dress, 1888–90\n",
      " Paul Cézanne, The Card Players, 1890–1892\n",
      " Claude Monet, The Four Trees, (Four Poplars on the Banks of the Epte River near Giverny), 1891\n",
      " Paul Gauguin, The Midday Nap, 1894\n",
      " Winslow Homer, The Gulf Stream, 1899\n",
      " Claude Monet, The Houses of Parliament (Effect of Fog), 1903–1904\n",
      " Pablo Picasso, l'Acteur (The Actor), 1904–05\n",
      " Henri Matisse, The Young Sailor II, 1906\n",
      " Henri Rousseau, The Repast of the Lion, c. 1907\n",
      " Georges Braque, Still Life with Mandola and Metronome, late 1909\n",
      " Pablo Picasso, The Oil Mill (Moulin à huile), 1909\n",
      " Pablo Picasso, Still Life with a Bottle of Rum, 1911\n",
      " Wassily Kandinsky, Improvisation 27, Garden of Love II, 1912 (exhibited at the 1913 Armory Show)\n",
      " Arthur Dove, Cow, 1914\n",
      " Amedeo Modigliani, Jeanne Hébuterne, 1919\n",
      "\n"
     ]
    },
    {
     "name": "stdout",
     "output_type": "stream",
     "text": [
      "The Mauritshuis (Dutch pronunciation: [ˈmʌurɪtsɦœys]; English: Maurice House) is an art museum in The Hague, Netherlands. The museum houses the Royal Cabinet of Paintings which consists of 854 objects, mostly Dutch Golden Age paintings. The collections contains works by Johannes Vermeer, Rembrandt van Rijn, Jan Steen, Paulus Potter, Frans Hals, Jacob van Ruisdael, Hans Holbein the Younger, and others. Originally, the 17th century building was the residence of count John Maurice of Nassau. It is now the property of the government of the Netherlands and is listed in the top 100 Dutch heritage sites.\n",
      " In 1631, John Maurice, Prince of Nassau-Siegen, a cousin of stadtholder Frederick Henry, bought a plot bordering the Binnenhof and the adjacent Hofvijver pond in The Hague, at that time the political centre of the Dutch Republic. On the plot, the Mauritshuis was built as a home between 1636 and 1641, during John Maurice's governorship of Dutch Brazil. The Dutch Classicist building was designed by the Dutch architects Jacob van Campen and Pieter Post. The two-storey building is strictly symmetrical and contained four apartments and a great hall. Each apartment was designed with an antechamber, a chamber, a cabinet, and a cloakroom. Originally, the building had a cupola, which was destroyed in a fire in 1704.\n",
      " After the death of Prince John Maurice in 1679, the house was owned by the Maes family, who leased the house to the Dutch government. In 1704, most of the interior of the Mauritshuis was destroyed by fire. The building was restored between 1708 and 1718.\n",
      " In 1774, an art gallery open to the public was formed in what is now the Prince William V Gallery. That collection was seized by the French in 1795 and only partially recovered in 1808. The small gallery space soon proved to be too small, however, and in 1820, the Mauritshuis was bought by the Dutch state for the purpose of housing the Royal Cabinet of Paintings. In 1822, the Mauritshuis was opened to the public and housed the Royal Cabinet of Paintings and the Royal Cabinet of Rarities. In 1875, the entire museum became available for paintings.\n",
      " The Mauritshuis was privatised in 1995. The foundation set up at that time took charge of both the building and the collection, which it was given on long-term loan. This building, which is the property of the state, is rented by the museum. In 2007, the museum announced its desire to expand. In 2010, the definitive design was presented. The museum would occupy a part of the nearby Sociëteit de Witte building. The two buildings would be connected via a tunnel, running underneath the Korte Vijverberg. The renovation started in 2012 and finished in 2014. During the renovation, about 100 of the museum's paintings were displayed in the Gemeentemuseum in the Highlights Mauritshuis exhibition. About 50 other paintings, including the Girl With the Pearl Earring, were on loan to exhibitions in the United States and Japan. The museum was reopened on 27 June 2014 by King Willem-Alexander.\n",
      " The collection of paintings of stadtholder William V, Prince of Orange was presented to the Dutch state by his son, King William I. This collection formed the basis of the Royal Cabinet of Paintings of around 200 paintings. The collection is currently called the Royal Picture Gallery. The current collection consists of almost 800 paintings and focusses on Dutch and Flemish artists, such as Pieter Brueghel, Paulus Potter, Peter Paul Rubens, Rembrandt van Rijn, Jacob van Ruisdael, Johannes Vermeer, and Rogier van der Weyden. There are also works of Hans Holbein in the collection in the Mauritshuis.\n",
      " Prince John Maurice portrayed by Jan de Baen.\n",
      " Johannes VermeerGirl with a Pearl Earring (ca. 1665)\n",
      " Rembrandt van RijnThe Anatomy Lesson of Dr. Nicolaes Tulp (ca. 1632)\n",
      " Johannes VermeerView of Delft (ca. 1660)\n",
      " Paulus PotterThe Young Bull (1647)\n",
      " Frans HalsLaughing Boy (ca. 1625)\n",
      " Rembrandt van RijnSelf-portrait (1669)\n",
      " Peter Paul RubensNight scene (c. 1616/17)\n",
      " Hendrick AvercampOn the ice (c. 1610)\n",
      " Carel FabritiusThe Goldfinch (1654)\n",
      " Jacob van RuisdaelView of the Dam and Damrak at Amsterdam (1670s)\n",
      " The Mauritshuis was a state museum until 1995, when it became independent. The Prince William V Gallery is also managed by the organization.\n",
      " The museum has a staff of around 50 people. Emilie E. S. Gordenker has been the museum director since 2008, and Victor Moussault has been the deputy director since 2007.\n",
      " In the period 2005–2011, the Mauritshuis had between 205,000 and 262,000 visitors per year. In 2011, the museum was the 13th most visited museum in the Netherlands. In 2012, when the museum closed for renovation on 1 April, it received 45,981 visitors. The museum was closed all of 2013 and was reopened on 27 June 2014.\n",
      "\n",
      "\n",
      " The National Palace Museum,[note 1] located in Taipei and Taibao, Chiayi County, Taiwan, has a permanent collection of nearly 700,000 pieces of ancient Chinese imperial artifacts and artworks, making it one of the largest of its type in the world. The collection encompasses 8,000 years of history of Chinese art from the Neolithic age to the modern. Most of the collection are high quality pieces collected by China's emperors. The National Palace Museum shares its roots with the Palace Museum in the Forbidden City, whose extensive collection of artwork and artifacts were built upon the imperial collections of the Ming and Qing dynasties.\n",
      " The National Palace Museum was originally established as the Palace Museum in the Forbidden City on 10 October 1925, shortly after the expulsion of Puyi, the last emperor of China, from the Forbidden City by warlord Feng Yuxiang. The articles in the museum consisted of the valuables of the former Imperial family.\n",
      " In 1931, shortly after the Mukden Incident Generalissimo Chiang Kai-shek's Nationalist Government ordered the museum to make preparations to evacuate its most valuable pieces out of the city to prevent them from falling into the hands of the Imperial Japanese Army. As a result, from 6 February to 15 May 1933, the Palace Museum's 13,491 crates and 6,066 crates of objects from the Exhibition Office of Ancient Artifacts, the Summer Palace and the Imperial Hanlin Academy were moved in five groups to Shanghai. In 1936, the collection was moved to Nanking after the construction of the storage in the Taoist monastery Chaotian Palace was complete. As the Imperial Japanese Army advanced farther inland during the Second Sino-Japanese War, which merged into the greater conflict of World War II, the collection was moved westward via three routes to several places including Anshun and Leshan until the surrender of Japan in 1945. In 1947, it was shipped back to the Nanjing warehouse.\n",
      " The Chinese Civil War resumed following the surrender of the Japanese, ultimately resulting in Generalissimo Chiang Kai-shek's decision to evacuate the arts to Taiwan, which had been handed over to the ROC in 1945. When the fighting worsened in 1948 between the Communist and Nationalist armies, the National Beijing Palace Museum and other five institutions made the decision to send some of the most prized items to Taiwan. Hang Li-wu, later director of the museum, supervised the transport of some of the collection in three groups from Nanking to the harbor in Keelung, Taiwan between December 1948 and February 1949. By the time the items arrived in Taiwan, the Communist army had already seized control of the National Beijing Palace Museum collection so not all of the collection could be sent to Taiwan. A total of 2,972 crates of artifacts from the Forbidden City moved to Taiwan only accounted for 22% of the crates originally transported south, although the pieces represented some of the very best of the collection.\n",
      " The collection from the National Beijing Palace Museum, the Preparatory Office of the National Central Museum, the National Central Library, and the National Beiping Library was stored in a railway warehouse in Yangmei following transport across the Taiwan Strait and was later moved to the storage in cane sugar mill near Taichung. In 1949, the Executive Yuan created the Joint Managerial Office, for the National Beijing Palace Museum, the Preparatory Office of the National Central Museum and the National Central Library to oversee the organization of the collection. For security reasons, the Joint Managerial Office chose the mountain village of Beigou, located in Wufeng, Taichung as the new storage site for the collection in the same year. In the following year, the collection stored in cane sugar mill was transported to the new site in Beigou.\n",
      " \n",
      "With the National Central Library's reinstatement in 1955, the collection from the National Beijing Library was simultaneously incorporated into the National Central Library. The Joint Managerial Office of the National Beijing Palace Museum and the Preparatory Office of the National Central Museum stayed in Beigou for another ten years. During the decade, the Office obtained a grant from the Asia Foundation to construct a small-scale exhibition hall in the spring of 1956. The exhibition hall, opened in March 1957, was divided into four galleries in which it was possible to exhibit more than 200 items. In the autumn of 1960, the Office received a grant of NT$32 million from AID. The Republic of China (ROC) government also contributed more than NT$30 million to establish a special fund for the construction of a museum in the Taipei suburb of Waishuanxi. The construction of the museum in Waishuanxi was completed in August 1965. The new museum site was christened the \"Chung-Shan Museum\" in honor of the founding father of the ROC, Sun Yat-sen, and first opened to the public on the centenary of Sun Yat-sen's birthday. Since then, the museum in Taipei has managed, conserved and exhibited the collections of the National Beiping Palace Museum and the Preparatory Office of the National Central Museum.\n",
      " During the 1960s and 1970s, the National Palace Museum was used by the Kuomintang to support its claim that the Republic of China was the sole legitimate government of all China, in that it was the sole preserver of traditional Chinese culture amid social change and the Cultural Revolution in mainland China, and tended to emphasize Chinese nationalism.\n",
      " The People's Republic of China (PRC) government has long said that the collection was stolen and that it legitimately belongs in China, but Taiwan has defended its collection as a necessary act to protect the pieces from destruction, especially during the Cultural Revolution. However, relations regarding this treasure have warmed in recent years and the Palace Museum in Beijing has agreed to lend relics to the National Palace Museum for exhibitions since 2009. The Palace Museum curator Zheng Xinmiao has said that the artifacts in both mainland and Taiwan museums are \"China's cultural heritage jointly owned by people across the Taiwan Strait.\"\n",
      " A number of Chinese artifacts dating from the Tang dynasty and Song dynasty, some of which had been owned by Emperor Zhenzong, were excavated and then came into the hands of the Kuomintang General Ma Hongkui, who refused to publicize the findings. Among the artifacts were a white marble tablet from the Tang Dynasty, gold nails, and bands made out of metal. It was not until after Ma died that his wife went to Taiwan in 1971 from America to bring the artifacts to Chiang Kai-shek, who turned them over to the National Palace Museum.\n",
      " The National Palace Museum's main building in Taipei was designed by Huang Baoyu and constructed from March 1964 to August 1965. Due to the insufficient space to put on display over 600,000 artifacts, the museum underwent expansions in 1967, 1970, 1984 and 1996. In 2002, the museum underwent a major NT$21 million renovation revamping the museum to make it more spacious and modern. The renovation closed about two-thirds of the museum section and the museum officially reopened in February 2007.\n",
      " Permanent exhibitions of painting and calligraphy are rotated once every three months. Approximately 3,000 pieces of the museum's collection can be viewed at a given time. Although brief, these exhibitions are extremely popular. In 2014, the museum organized the top three best-attended exhibitions worldwide, including paintings and calligraphic works by Tang Yin, as well as depictions of the Qing dynasty's Qianlong Emperor reinterpreted by contemporary artists.\n",
      " The Southern Branch of the National Palace Museum is located in Taibao, Chiayi County, Taiwan and set on 70 hectares (700,000 m2) of land. There is also a lake and Asian style garden on the grounds. Planning for the southern branch began in 2000. The building was to be designed by architect Antoine Predock and began construction in 2005. However, due to serious construction delays and disputes between the contractors and the museum, the firm pulled out in 2008. Museum director Chou Kung-shin stated in August 2010 that new architects Kris Yao for the project would commence, with construction expected to be completed in 2015. The project cost NT$7.9 billion (US$268 million) and spread over 70 hectares (700,000 m2). The museum itself, 9,000 square meters in total, was designed by the Taiwan-based firm Artech Inc. and is both earthquake resistant and flood resistant.\n",
      " Complete inventory inspection has been taken three times in 1951–1954, 1989–1991 and 2008–2012 since the museum started to bring collections to Taiwan in 1948. According to official report, the museum house Chinese calligraphy, porcelain, bronzes, paintings, jades and many other artifacts, with 22% (2,972 out of 13,491 crates) of the boxes originally transported south from the Forbidden City. Other additions include transfers from other institutions, donations, and purchases made by the museum. A lot of these artifacts were brought by Chiang Kai-shek before his Kuomintang forces fled the mainland in 1949. The museum has accumulated nearly 700,000 artifacts of significant historical or artistic values. With a collection of this size, only 1% of the collection is exhibited at any given time. The rest of the collection is stored in temperature controlled vaults.\n",
      " The museum houses several treasured items that are the pride of their collection and famous worldwide. The antiquities in the National Palace Museum span over thousands of years with a variety of genres.\n",
      " Among the collections of bronzes, Zong Zhou Zhong (Bell of Zhou), commissioned by King Li of Zhou, is the most important musical instrument cast under his royal decree. Mao Gong Ding (Cauldron of Duke of Mao) of the late Western Zhou Dynasty (1046–771 BCE) carries the longest Chinese bronze inscriptions so far extent.\n",
      " With 21 pieces out of fewer than 80 surviving, the museum has the world's largest collection of Ru ware, one of the rarest Chinese ceramics, made exclusively for the court and one of the Five Great Kilns of the Song Dynasty (960–1279), along with Ding porcelain, Jun ware, Guan and Ge; the museum has major collections of all of these. Those from the official kilns of the Ming (1368–1644) and Qing (1644–1912) dynasties, such as the doucai porcelains of the Chenghua reign in the Ming Dynasty and painted enamel porcelains from the early Qing, are also of excellent quality.\n",
      " One of the most popular pieces of jade carvings in the museum is the Jadeite Cabbage. It's a piece of jadeite carved into the shape of a cabbage head, and with a large and a small grasshopper camouflaged in the leaves. The ruffled semi-translucent leaves attached is due to the masterful combination of various natural color of the jade to recreate the color variations of a real cabbage. The Meat-shaped Stone is often exhibited together with the Jadeite Cabbage. A piece of jasper, a form of agate, the strata of which are cleverly used to create a likeness of a piece of pork cooked in soy sauce. The dyed and textured surface makes the layers of skin, lean meat, and fat materialized incredibly lifelike.\n",
      " Other various carvings of materials such as bamboo, wood, ivory, rhinoceros horn, and fruit pits are exhibited. The Carved Olive-stone Boat is a tiny boat carved from an olive stone. The incredibly fully equipped skilled piece is carved with a covered deck and moveable windows. The interior has chairs, dishes on a table and eight figures representing the characters of Su Shih's Latter Ode on the Red Cliff. The bottom is carved in minute character the entire 300+ character text with the date and the artist's name.\n",
      " The paintings in the National Palace Museum date from the Tang Dynasty (618–907) to the modern era. The collection covers over one thousand years of Chinese painting, and encompasses a wide range of genres, including landscape, flower and bird, figure painting, boundary painting, etc. Among the most popular paintings in the collection is the Qing Palace Version of Along the River During the Qingming Festival by five Qing dynasty court painters (Chen Mu, Sun Hu, Jin Kun, Dai Hong and Cheng Zhidao). Dwelling in the Fuchun Mountains (Wu-yung version) by Huang Gongwang of Yuan Dynasty is one of the rarest and most dramatic works. Walking on a Mountain Path in Spring is another significant work. The museum has a vast collection of calligraphy works from the hands of major calligraphers, scholars and important courtiers in history. The calligraphy works date from the Jin (265–420) and Tang (618–907) dynasties, with a variety of styles.\n",
      " Rare books in the National Palace Museum range from the Song (960–1279) and Yuan (1271–1368) dynasties to the Ming (1368–1644) and Qing (1644–1912) dynasties, amounting to over 200,000 volumes. Yongle Encyclopedia and Siku Quanshu (Complete Library of the Four Treasuries) are among the examples.\n",
      " Historical documents in the museum include Jiu Manzhou Dang, a set of Manchu archives that are the sourcebook of Manwen Laodang and a primary source of early Manchu history. Other official documents such as the court archives are available for research in the history of the Qing Dynasty.\n",
      " The Pan water vessel with coiling dragon pattern, c.14th - Mid 11th century BC\n",
      " The Zong-zhou Zhong (Bell of Zhou), 9th century BC\n",
      " The Mao Gong Ding, 9th century BC\n",
      " The San Family Plate, 9th century BC\n",
      " The Warming Bowl in the Shape of a Flower with Light Bluish-green Glaze, Ru ware, c. 1086 - c. 1106.\n",
      " The Narcissus Basin with Light Bluish-green Glaze, Ru ware, c. 1086 - c. 1106.\n",
      " The Jadeite Cabbage, 19th century.\n",
      " The Meat-shaped Stone, 17th century.\n",
      " The Seated Portrait of Emperor Taizu of Song, c. 960-76.\n",
      " The Travelers Among Mountains and Streams, by Fan Kuan, c. 1000.\n",
      " The Early Spring, by Guo Xi, 1072.\n",
      " The Wind in Pines Among a Myriad Valleys, by Li Tang, 1124.\n",
      " The Immortal in Splashed Ink, by Liang Kai, c. 1200.\n",
      " The Walking on a Mountain Path in Spring, by Ma Yuan, 13th century.\n",
      " A palace concert, c. 836 - c. 907.\n",
      " The Seated Portrait of Xuande Emperor, c. 1425-35.\n",
      " The Herd of Deer in a Maple Grove, c. 1031-48.\n",
      " The Portrait of Kublai Khan, by Liu Guandao, c. 1271-94.\n",
      " The Portrait of Empress Chabi, c. 1271-81.\n",
      " The Magpies and Hare, by Cui Bai, 1061.\n",
      " The Listening Quietly to Soughing Pines, by Ma Lin, 13th century.\n",
      " The Man Herding Horses, c. 12th century.\n",
      " The Homeward Oxherds in Wind and Rain, by Li Di, 12th century.\n",
      " The Lofty Mt.Lu, by Shen Zhou, 1467.\n",
      " Due to fears that the artifacts may be impounded and be claimed by China due to the controversial political status of Taiwan, the museum does not conduct exhibitions in mainland China. Since the museum's 1965 establishment in Taipei, the National Palace Museum has only made six large overseas exhibitions in countries which have passed laws to prevent judicial seizure of the treasures: the United States in 1996, France in 1998, Germany in 2003, Austria in 2008, Japan in 2014 and Australia in 2019.\n",
      " The past overseas exhibitions are as follows:\n",
      " Housed within the compound of the National Palace Museum, this classical Chinese Song and Ming style garden covers 1.88 hectares (18,800 m2). It incorporates the principles of such diverse fields as feng shui, Chinese architecture, water management, landscape design, and Chinese folklore and metaphor. It contains numerous ponds, waterworks, and wooden Chinese pavilions. It was completed and opened in 1985. There is also another Chinese Style Garden nearby called the Shuangxi Park and Chinese Garden.\n",
      " The National Palace Museum also maintains the residence of renowned Chinese painter Chang Dai-chien. The residence, known as the Chang Dai-chien Residence or the Abode of Maya, was constructed in 1976 and completed in 1978. It is a two-story Siheyuan building with Chinese-style gardens occupying approximately 1,911 m². After Chang's death in 1983, the house and gardens were donated to the National Palace Museum and turned into a museum and memorial.\n",
      " The Grand Palace Museum Project, officially launched in 2011, is a plan to expand the exhibition area in Taipei and improve the environment. The total budget for renovation should be around NT$10 to 12 billion.\n",
      "\n"
     ]
    },
    {
     "name": "stdout",
     "output_type": "stream",
     "text": [
      "The Museum of Egyptian Antiquities, known commonly as the Egyptian Museum or Museum of Cairo, in Cairo, Egypt, is home to an extensive collection of ancient Egyptian antiquities. It has 120,000 items, with a representative amount on display, the remainder in storerooms. Built in 1901 by the Italian construction company Garozzo-Zaffarani to a design by the French architect Marcel Dourgnon, the edifice is one of the largest museums in the region. As of March 2019, the museum is open to the public. In 2020 the museum is due to be superseded by the new Grand Egyptian Museum at Giza.\n",
      " The Egyptian Museum of Antiquities contains many important pieces of ancient Egyptian history. It houses the world's largest collection of Pharaonic antiquities. The Egyptian government established the museum built in 1835 near the Ezbekeyah Garden and later moved to the Cairo Citadel. In 1855, Archduke Maximilian of Austria was given all of the artifacts by the Egyptian government; these are now in the Kunsthistorisches Museum, Vienna.\n",
      " A new museum was established at Boulaq in 1858 in a former warehouse, following the foundation of the new Antiquities Department under the direction of Auguste Mariette. The building lay on the bank of the Nile River, and in 1878 it suffered significant damage in a flood of the Nile River. In 1891, the collections were moved to a former royal palace, in the Giza district of Cairo. They remained there until 1902 when they were moved, for the last time, to the current museum in Tahrir Square, built by the Italian company of Giuseppe Garozzo and Francesco Zaffrani to a design by the French architect Marcel Dourgnon.\n",
      " In 2004, the museum appointed Wafaa El Saddik as the first female director general.\n",
      "During the Egyptian Revolution of 2011, the museum was broken into, and two mummies were  destroyed. Several artifacts were also shown to have been damaged. Around 50 objects were lost. Since then 25 objects have been found.  Those that were restored were put on display in September 2013 in an exhibition entitled Damaged and Restored. Among the displayed artifacts are two statues of King Tutankhamun made of cedar wood and covered with gold, a statue of King Akhenaten, ushabti statues that belonged to the Nubian kings, a mummy of a child and a small polychrome glass vase.\n",
      " There are two main floors in the museum, the ground floor and the first floor. On the ground floor there is an extensive collection of papyrus and coins used in the Ancient world. The numerous pieces of papyrus are generally small fragments, due to their decay over the past two millennia. Several languages are found on these pieces, including Greek, Latin, Arabic, and ancient Egyptian. The coins found on this floor are made of many different metals, including gold, silver, and bronze. The coins are not only Egyptian, but also Greek, Roman, and Islamic. This has helped historians research the history of Ancient Egyptian trade.\n",
      " Also on the ground floor are artifacts from the New Kingdom, the time period between 1550 and 1069 BC. These artifacts are generally larger than items created in earlier centuries. Those items include statues, tables, and coffins (sarcophagi), it also contains 42 rooms, upon entering through the security check in the building, one looks toward the atrium and the rear of the building with many items on view from sarcophagi and boats to enormous statues.\n",
      " On the first floor there are artifacts from the final two dynasties of Egypt, including items from the tombs of the Pharaohs Thutmosis III, Thutmosis IV, Amenophis II, Hatshepsut, and the courtier Maiherpri, as well as many artifacts from the Valley of the Kings, in particular the material from the intact tombs of Tutankhamun and Psusennes I. Two special rooms contain a number of mummies of kings and other royal family members of the New Kingdom.\n",
      " In the garden adjacent to the building of the museum a memorial to famous egyptologists of the world is located. It features a monument to Auguste Mariette, surrounded by 23 busts of the following egyptologists: François Chabas, Johannes Dümichen, Conradus Leemans, Charles Wycliffe Goodwin, Emmanuel de Rougé, Samuel Birch, Edward Hincks, Luigi Vassalli, Émile Brugsch, Karl Richard Lepsius, Théodule Devéria, Vladimir Golenishchev, Ippolito Rosellini, Labib Habachi, Sami Gabra, Selim Hassan, Ahmed Kamal, Zakaria Goneim, Jean-François Champollion, Amedeo Peyron, Willem Pleyte, Gaston Maspero, Peter le Page Renouf.\n",
      " The Gold Mask of Tutankhamun, composed of 11 kg of solid gold\n",
      " The Grave Mask of king Amenemope of the 21st dynasty\n",
      " Mummy mask of Psusennes I\n",
      " Ramesses III prisoner tiles\n",
      " Colossal statue of Amenhotep III and Tiye\n",
      " Figurine of Khufu\n",
      " Statue of Khafre\n",
      " Statue of Menkaure\n",
      " Bust of Akhenaten\n",
      " Statue of Hatshepsut\n",
      " Narmer Palette\n",
      " Merneptah Stele\n",
      " Mummy mask of Wendjebauendjed\n",
      " \n",
      "\n",
      "The Kunsthistorisches Museum (lit. \"Museum of Art History\", also often referred to as the \"Museum of Fine Arts\") is an art museum in Vienna, Austria. Housed in its festive palatial building on Ringstraße, it is crowned with an octagonal dome. The term Kunsthistorisches Museum applies to both the institution and the main building. It is the largest art museum in the country and one of the most important museums worldwide.\n",
      " It was opened around 1891 at the same time as the Natural History Museum, Vienna, by Emperor Franz Joseph I of Austria-Hungary. The two museums have similar exteriors and face each other across Maria-Theresien-Platz. Both buildings were built between 1871 and 1891 according to plans drawn up by Gottfried Semper and Baron Karl von Hasenauer. The two Ringstraße museums were commissioned by the emperor in order to find a suitable shelter for the Habsburgs' formidable art collection and to make it accessible to the general public. The buildings are rectangular in shape, and topped with a dome that is 60 meters high. The façade was built of sandstone. The inside of the museums is lavishly decorated with marble, stucco ornamentations, gold-leaf and paintings. The staircase of the Kunsthistorisches Museum is equipped with paintings by Gustav Klimt, Ernst Klimt, Franz Matsch, Hans Makart and Mihály Munkácsy.\n",
      " The museum's primary collections are those of the Habsburgs, particularly from the portrait and armour collections of Ferdinand of Tirol, the collections of Emperor Rudolph II (the largest part of which is, however, scattered), and the collection of paintings of Archduke Leopold Wilhelm, of which his Italian paintings were first documented in the Theatrum Pictorium.\n",
      " Notable works in the picture gallery include: \n",
      " The collections of the Kunsthistorisches Museum:\n",
      " Also affiliated are the: \n",
      " One of the museum's most important objects, the Cellini Salt Cellar sculpture by Benvenuto Cellini, was stolen on May 11, 2003 and recovered on January 21, 2006, in a box buried in a forest near the town of Zwettl, Austria. It was featured in an episode of Museum Secrets on the History Channel. It had been the biggest art theft in Austrian history.\n",
      " The museum is the subject of Johannes Holzhausen's documentary film The Great Museum (2014), filmed over two years in the run up to the re-opening of the newly renovated and expanded Kunstkammer rooms in 2013.\n",
      " From from October 2018 through January 2019 was shown the world’s largest-ever exhibition of works by Pieter Bruegel the Elder called Bruegel – Once in a Lifetime”.\n",
      " Johannes Vermeer's The Art of Painting\n",
      " The Hunters in the Snow by Pieter Bruegel the Elder\n",
      " Caravaggio's The Crowning with Thorns\n",
      " Cellini Salt Cellar\n",
      " Pieter Bruegel the Elder's The Peasant Wedding\n",
      " Portrait of Isabella d'Este by Titian\n",
      " One of the galleries\n",
      " Cupola of museum\n",
      " Statue of Thutmosis III\n",
      " Cupid the Honey Thief, drawing by Albrecht Dürer\n",
      " Statue outside the Kunsthistorisches Museum\n",
      " A loving cup of King Ladislaus IV of Poland\n",
      "  Media related to Kunsthistorisches Museum at Wikimedia Commons\n",
      " Coordinates: 48°12′13″N 16°21′42″E﻿ / ﻿48.2037°N 16.3618°E﻿ / 48.2037; 16.3618\n",
      "\n",
      "Coordinates: 37°47′09″N 122°24′03″W﻿ / ﻿37.7858°N 122.4008°W﻿ / 37.7858; -122.4008\n",
      " The San Francisco Museum of Modern Art (SFMOMA) is a modern art museum located in San Francisco, California. A nonprofit organization, SFMOMA holds an internationally recognized collection of modern and contemporary art, and was the first museum on the West Coast devoted solely to 20th-century art. The museum's current collection includes over 33,000 works of painting, sculpture, photography, architecture, design, and media arts. They are displayed in 170,000 square feet (16,000 m2) of exhibition space, making the museum one of the largest in the United States overall, and one of the largest in the world for modern and contemporary art.\n",
      " SFMOMA reopened on May 14, 2016, following a major three-year-long expansion project. The expansion more than doubles the museum's gallery spaces and provides almost six times as much public space as the previous building, allowing SFMOMA to showcase an expanded collection along with the Doris and Donald Fisher Collection of contemporary art.\n",
      " \n",
      " SFMOMA was founded in 1935 under director Grace L. McCann Morley as the San Francisco Museum of Art. For its first sixty years, the museum occupied the fourth floor of the War Memorial Veterans Building on Van Ness Avenue in the Civic Center. A gift of 36 artworks from Albert M. Bender, including The Flower Carrier (1935) by Diego Rivera, established the basis of the permanent collection. Bender donated more than 1,100 objects to SFMOMA during his lifetime and endowed the museum's first purchase fund.\n",
      "The museum began its second year with an exhibition of works by Henri Matisse. In this same year the museum established its photography collection, becoming one of the first museums to recognize photography as a fine art.[citation needed] San Francisco Museum of Modern Arts held its first architecture exhibition, entitled Telesis: Space for Living, in 1940. SFMOMA was obliged to move to a temporary facility on Post Street in March 1945 to make way for the United Nations Conference on International Organization. The museum returned to its original Van Ness location in July, upon the signing of the United Nations Charter. Later that year SFMOMA hosted Jackson Pollock's first solo museum exhibition.\n",
      " Founding director Grace Morley held film screenings at the museum beginning in 1937, just two years after the institution opened. In 1946 Morley brought in filmmaker Frank Stauffacher to found SFMOMA's influential[citation needed] Art in Cinema film series, which ran for nine years. SFMOMA continued its expansion into new media with the 1951 launch of a biweekly television program entitled Art in Your Life. The series, later renamed Discovery, ran for three years. Morley ended her 23-year tenure as museum director in 1958 and was succeeded by George D. Culler (1958–65) and Gerald Nordland (1966–72). The museum rose to international prominence under director Henry T. Hopkins (1974–86), adding \"Modern\" to its title in 1975. Since 1967, SFMOMA has honored San Francisco Bay Area artists with its biennial SECA Art Award.\n",
      " In the 1980s, under Hopkins and his successor John R. Lane (1987–1997), SFMOMA established three new curatorial posts: curator of painting and sculpture, curator of architecture and design, and curator of media arts. The positions of director of education and director of photography were elevated to full curatorial roles. At this time SFMOMA took on an active special exhibitions program, both organizing and hosting traveling exhibitions., including major presentations of the work of Jeff Koons, Sigmar Polke, and Willem de Kooning.\n",
      " Until the opening of the Museum of Contemporary Art, Los Angeles in 1987 and the modern and contemporary wing of the Los Angeles County Museum of Art, San Francisco's museum tended to function as the state's flagship for modern and contemporary art. In January 1995 the museum opened its current location at 151 Third Street, adjacent to Yerba Buena Gardens in the SOMA district. Mario Botta, a Swiss architect from Canton Ticino, designed the new US$60 million facility. Art patron Phyllis Wattis helped the museum acquire key works by Magritte, Mondrian, Andy Warhol, Eva Hesse and Wayne Thiebaud.\n",
      " SFMOMA made a number of important acquisitions under the direction of David A. Ross (1998–2001), who had been recruited from the Whitney Museum in New York, including works by Ellsworth Kelly, Robert Rauschenberg, René Magritte, and Piet Mondrian, as well as Marcel Duchamp’s iconic Fountain (1917/1964). Those and acquisitions of works by Jasper Johns, Mark Rothko, Francis Bacon, Alexander Calder, Chuck Close and Frank Stella put the institution in the top ranks of American museums of modern art. After three years and $140 million building up the collection, Ross resigned when a slow economy forced the museum to keep a tighter rein on its resources.\n",
      " Under current director Neal Benezra, who had been recruited from the Art Institute of Chicago in 2002, SFMOMA achieved an increase in both visitor numbers and membership while continuing to build its collection. In 2005 the museum announced the promised gift of nearly 800 photographs to the Prentice and Paul Sack Photographic Trust at SFMOMA from the Sacks' private collection. The museum saw record attendance in 2008 with the exhibition Frida Kahlo, which drew more than 400,000 visitors during its three-month run.\n",
      " In 2009, SFMOMA announced plans for a major expansion to accommodate its growing audiences, programs, and collections and to showcase the Doris and Donald Fisher collection of contemporary art. In 2010—the museum's 75th anniversary year—architecture firm Snøhetta was selected to design the expanded building. SFMOMA broke ground for its expansion in May 2013.\n",
      " \n",
      " Jackson Pollock had his first museum show at SFMOMA, as did Clyfford Still and Arshile Gorky. The museum has in its collection important works by Henri Matisse, Jean Metzinger, Paul Klee, Marcel Duchamp, Andy Warhol, Jackson Pollock, Richard Diebenkorn, Clyfford Still and Ansel Adams, among others. Annually, the museum hosts more than twenty exhibitions and over three hundred educational programs. While the museum's building was closed for expansion, from summer 2013 through early 2016, SFMOMA presented its exhibitions and programs at off-site locations around the Bay Area as part of SFMOMA On the Go.\n",
      " In 2009, the museum gained a custodial relationship for the contemporary art collection of Doris and Donald Fisher of Gap Inc.. The Fisher Collection includes some 1,100 works from artists such as Alexander Calder, Chuck Close, Willem de Kooning, Richard Diebenkorn, Anselm Kiefer, Ellsworth Kelly, Roy Lichtenstein, Brice Marden, Agnes Martin, Gerhard Richter, Richard Serra, Cy Twombly, and Andy Warhol, among many others. The collection will be on loan to SFMOMA for a period of 100 years.\n",
      " In February 2011, the museum publicly launched its Collections Campaign, announcing the acquisition of 195 works including paintings from Jackson Pollock, Willem de Kooning, Jasper Johns, Robert Rauschenberg and Francis Bacon. Also under the auspices of the Collections Campaign, promised gifts of 473 photographs were announced in 2012, including 26 works by Diane Arbus and significant gifts of Japanese photography. Works acquired through the Collections Campaign are displayed along with the Fisher Collection in the museum's expanded building, completed in 2016.\n",
      " SFMOMA's website allows users to browse the museum's permanent collection. The SFMOMA App allows visitors to use their mobile phones to follow guided visit of the museum at their own pace while the App tracks their location.\n",
      " SFMOMA's Research Library was established in 1935 and contains extensive resources pertaining to modern and contemporary art, including books, periodicals, artists’ files,photographs and media collections.\n",
      " Franz Marc. Gebirge (Mountains), 1911-1912\n",
      " Anna Atkins. Asplenium radicans (Jamaica), ca. 1850\n",
      " Lewis Wickes Hine. Woman with Folded Headdress, Ellis Island, NY, 1905\n",
      " Carleton E. Watkins. Mt. Broderick, Nevada Fall, 700 ft., Yo Semite, 1861\n",
      " Paul Klee. A Spirit Serves a Small Breakfast, Angel Brings the Desired, 1920\n",
      " Sargent Johnson. Forever Free, 1933\n",
      " Georges Braque. Violin and Candlestick, 1910\n",
      " Plans to expand the museum at its old site, on upper floors of the Veterans' Memorial Building in San Francisco's Civic Center, were thwarted in the late 1980s. In the summer of 1988, architects Mario Botta, Thomas Beeby and Frank Gehry were announced as finalists in a competition to design the San Francisco Museum of Modern Art's new structure in Downtown. Semifinalists had included Charles Moore and Tadao Ando. The three finalists were to present site-specific design proposals later that year, but the museum canceled its architectural competition after only a month and went with the 45-year-old architect Botta.\n",
      " The new museum, planned in association with architects Hellmuth, Obata and Kassabaum, was built on a 59,000-square-foot (5,500 m2) parking lot on Third Street between Mission and Howard streets. The south-of-Market site, an area near the Moscone Convention Center mainly consisting of parking lots, was targeted through an agreement between the museum, the redevelopment agency and the development firm of Olympia & York. Land was provided by the agency and developer, but the rest of the museum was privately funded. Construction of the new museum began in early 1992, with an opening in 1995, the institution's 60th anniversary.\n",
      " At the time of the new building's opening, SFMOMA touted itself as the largest new American art museum of the decade and, with its 50,000 square feet (4,600 m2) of exhibition space, the second-largest single structure in the United States devoted to modern art. (New York's Museum of Modern Art, with 100,000 square feet of gallery space, was then the largest single structure, while the nearly 80,000 combined square feet of Museum of Contemporary Art, Los Angeles put it in second place).\n",
      " The museum consisted of galleries rising around a central, skylighted atrium, above an iconic staircase. Its external structure featured a central 130-foot (40 m) tall cylinder, and a stepped-back stone facade. Botta's interior design was marked by alternating bands of polished and flame-finished black granite on the floor, ground-level walls, and column bases; and bands of natural and black-stained wood on the reception desks and coat-check desk.\n",
      " In 2009, SFMOMA opened its 14,400 sq ft (1,340 m2) rooftop garden. Following an invitational competition held in 2006, the garden was designed by Jensen Architects in collaboration with Conger Moss Guillard Landscape Architecture, and featured two open-air spaces and a glass pavilion that provided views of the museum's sculpture collection as well as the San Francisco skyline. It also served as a year-round indoor/outdoor gallery.\n",
      " In 2009, in response to significant growth in the museum's audiences and collections since the opening of the 1995 building, SFMOMA announced plans to expand. A shortlist released in May 2010 included four architecture firms officially under consideration for the project: Adjaye Associates; Diller Scofidio + Renfro; Foster + Partners; and Snøhetta. In July 2010 the museum selected Norwegian architecture firm Snøhetta to design the expansion.\n",
      " Opened in May 2016, the approximately 235,000-square-foot (21,800 m2) expansion joined the existing building with a new addition spanning from Minna to Howard Streets. The expanded building includes seven levels dedicated to art and public programming, and three housing enhanced support space for the museum's operations. It offers approximately 142,000 square feet of indoor and outdoor gallery space, as well as nearly 15,000 square feet of art-filled free-access public space, more than doubling SFMOMA's current capacity for the presentation of art and providing almost six times as much public space as the current building.\n",
      " The designs for the expanded building include such new features as a large-scale vertical garden on the third floor, slated to be the biggest public living wall of native plants in San Francisco; a free ground-floor gallery facing Howard Street with 25-foot (7.6 m) tall glass walls that will place art on view to passersby; a double-height \"white box\" space on the fourth floor with sophisticated lighting and sound systems; and state-of-the-art conservation studios on the seventh and eighth floors. The expansion facades will be clad with lightweight panels made of Fibre-Reinforced Plastic; when completed, this will be the largest application of composites technology to architecture in the United States. The building is on track to achieve LEED Gold certification, with 15% energy-cost reduction, 30% water-use reduction, and 20% reduction in wastewater generation. The Botta staircase was removed.\n",
      " The museum expected attendance to jump from 650,000 a year in 2011 to more than one million visitors annually once the new wing opened.\n",
      " The SFMOMA board is chaired by Charles R. Schwab, its president is Robert J. Fisher. SFMOMA reserves one seat on its board for a working artist who serves for a three-year period; the special board position comes with no financial obligations to the museum but includes the right to vote and participate in committees.\n",
      " By 2010, the San Francisco Museum of Modern Art raised $250 million, allowing it to double the size of its endowment and put $150 million toward its expansion.\n",
      " The current director of SFMOMA is Neal Benezra, who was appointed in 2002.\n",
      " Previous directors include:\n",
      " \n",
      " \n",
      " The museum also operates the Artists Gallery at Fort Mason, a nonprofit gallery located at Fort Mason Center in San Francisco's Marina district. The Artists Gallery was founded in 1978 as an outlet for emerging and established Northern California artists. The gallery holds eight exhibitions each year, including solo, group, and thematic shows. Works cover a range of styles and media, from traditional to experimental, and all works are available for rent or purchase.\n",
      " In Situ is a fine-dining restaurant located inside the SFMOMA.  It is managed by Corey Lee, the owner-chef of award-winning San Francisco restaurant Benu.  In Situ offers a curated menu that highlights signature dishes from other restaurants around the world.\n",
      "\n"
     ]
    },
    {
     "name": "stdout",
     "output_type": "stream",
     "text": [
      "The National Museum of Anthropology (Spanish: Museo Nacional de Antropología, MNA) is a national museum of Mexico. It is the largest and most visited museum in Mexico. Located in the area between Paseo de la Reforma and Mahatma Gandhi Street within Chapultepec Park in Mexico City, the museum contains significant archaeological and anthropological artifacts from Mexico's pre-Columbian heritage, such as the Stone of the Sun (or the Aztec calendar stone) and the Aztec Xochipilli statue.\n",
      " The museum (along with many other Mexican national and regional museums) is managed by the Instituto Nacional de Antropología e Historia (National Institute of Anthropology and History), or INAH. It was one of several museums opened by Mexican President Adolfo López Mateos in 1964..\n",
      " Assessments of the museum vary, with one considering it \"a national treasure and a symbol of identity. The museum is the synthesis of an ideological, scientific, and political feat.\" Octavio Paz criticized the museum's making the Mexica (Aztec) hall central, saying the \"exaltation and glorification of Mexico-Tenochtitlan transforms the Museum of Anthropology into a temple.\"\n",
      " Designed in 1964 by Pedro Ramírez Vázquez, Jorge Campuzano, and Rafael Mijares Alcérreca, the monumental building contains exhibition halls surrounding a courtyard with a huge pond and a vast square concrete umbrella supported by a single slender pillar (known as \"el paraguas\", Spanish for \"the umbrella\"). The halls are ringed by gardens, many of which contain outdoor exhibits. The museum has 23 rooms for exhibits and covers an area of 79,700 square meters (almost 8 hectares) or 857,890 square feet (almost 20 acres).\n",
      " At the end of the 18th century, by order of the viceroy of Bucareli, the items that formed part of the collection by Lorenzo Boturini — including the sculptures of Coatlicue and the Sun Stone — were placed in the Royal and Pontifical University of Mexico, forming the core of the collection that would become the National Museum of Anthropology.\n",
      " On August 25, 1790, the Cabinet of Curiosities of Mexico (Gabinete de Historia Natural de México)[note 1] was established by botanist José Longinos Martínez. During the 19th century, the museum was visited by internationally renowned scholars such as Alexander von Humboldt. In 1825, the first Mexican president, Guadalupe Victoria, advised by the historian Lucas Alamán, established the National Mexican Museum as an autonomous institution. In 1865, the Emperor Maximilian moved the museum to Calle de Moneda 13, to the former location of the Casa de Moneda.\n",
      " In 1906, due to the growth of the museum's collections, Justo Sierra divided the stock of the National Museum. The natural history collections were moved to the Chopo building, which was constructed specifically to shelter permanent expositions. The museum was renamed the National Museum of Archaeology, History and Ethnography, and was re-opened September 9, 1910, in the presence of President Porfirio Díaz.  By 1924 the stock of the museum had increased to 52,000 objects and had received more than 250,000 visitors.\n",
      " In December 1940, the museum was divided again, with its historical collections being moved to the Chapultepec Castle, where they formed the Museo Nacional de Historia, focusing on the Viceroyalty of the New Spain and its progress towards modern Mexico. The remaining collection was renamed the National Museum of Anthropology, focusing on pre-Columbian Mexico and modern day Mexican ethnography.\n",
      " The construction of the contemporary museum building began in February 1963 in the Chapultepec park. The project was coordinated by architect Pedro Ramírez Vázquez, with assistance by Rafael Mijares Alcérreca and Jorge Campuzano. The construction of the building lasted 19 months, and was inaugurated on September 17, 1964, President Adolfo López Mateos, who declared:\n",
      " The Mexican people lift this monument in honor of the admirable cultures that flourished during the Pre-Columbian period in regions that are now territory of the Republic. In front of the testimonies of those cultures, the Mexico of today pays tribute to the indigenous people of Mexico, in whose example we recognize characteristics of our national originality. The film Museo tells the story of the famous robbery to the National Museum of Anthropology on December 25, 1985, in Mexico City.\n",
      " The museum's collections include the Stone of the Sun, giant stone heads of the Olmec civilization that were found in the jungles of Tabasco and Veracruz, treasures recovered from the Maya civilization, at the Sacred Cenote at Chichen Itza, a replica of the sarcophagal lid from Pacal's tomb at Palenque and ethnological displays of contemporary rural Mexican life. It also has a model of the location and layout of the former Aztec capital Tenochtitlan, the site of which is now occupied by the central area of modern-day Mexico City.\n",
      " The permanent exhibitions on the ground floor cover all pre-Columbian civilizations located on the current territory of Mexico as well as in former Mexican territory in what is today the southwestern United States. They are classified as North, West, Maya, Gulf of Mexico, Oaxaca, Mexico, Toltec, and Teotihuacan. The permanent expositions at the first floor show the culture of Native American population of Mexico since the Spanish colonization.\n",
      " The museum also hosts visiting exhibits, generally focusing on other of the world's great cultures. Past exhibits have focused on ancient Iran, Greece, China, Egypt, Russia, and Spain.\n",
      " Reproduction of the Temple of the feathered serpent in Teotihuacan\n",
      " Disc of Mictlantecuhtli\n",
      " Statue of Chalchiuhtlicue\n",
      " Olmeca-Xicalanca - Cacaxtla bird man mural\n",
      " Mural and model of Tenochtitlan, looking east\n",
      " Ocelotl-Cuauhxicalli\n",
      " Teocalli of the sacred war\n",
      " Statue of Xiuhcoatl\n",
      " Statue of Aztec goddess Coatlicue\n",
      " Xochipilli\n",
      " Skull covered with turquoise\n",
      " Replic of Codex Borbonicus\n",
      " Feather headdress replic of Moctezuma II\n",
      " Relief of Toniná\n",
      " Lintel 26, Yaxchilan\n",
      " Ceramic of the Jaina Island\n",
      " Reproduction of the mausoleum of the Palenque ruler, K'inich Janaab' Pakal\n",
      " Mortuary mask of K'inich Janaab' Pakal\n",
      " Frieze of Placeres\n",
      " Mask of Chaac\n",
      " Zapotec mask of the Bat God\n",
      " Reproduction of the Tomb 105 of Monte Albán\n",
      " Mixtec ceramic\n",
      " Mixtec pectoral of gold and turquoise, Shield of Yanhuitlán\n",
      " Olmec colossal head\n",
      " Olmec wrestler\n",
      " Tuxtla statuette\n",
      " Reproduction of the sculpture of Mictlantecuhtli in El Zapotal\n",
      " Mask of Malinaltepec\n",
      " Figure of a pelota player.\n",
      " Ball Game Goal, Chichen Itza.\n",
      " Coordinates: 19°25′34″N 99°11′10″W﻿ / ﻿19.426°N 99.186°W﻿ / 19.426; -99.186\n",
      "\n",
      "\n",
      " The Musée d'Orsay (UK: /ˌmjuːzeɪ dɔːrˈseɪ/ MEW-zay dor-SAY, US: /mjuːˈzeɪ -/ mew-ZAY -⁠, French: [myze dɔʁsɛ]) is a museum in Paris, France, on the Left Bank of the Seine.  It is housed in the former Gare d'Orsay, a Beaux-Arts railway station built between 1898 and 1900. The museum holds mainly French art dating from 1848 to 1914, including paintings, sculptures, furniture, and photography. It houses the largest collection of impressionist and post-Impressionist masterpieces in the world, by painters including Monet, Manet, Degas, Renoir, Cézanne, Seurat, Sisley, Gauguin, and Van Gogh.  Many of these works were held at the Galerie nationale du Jeu de Paume prior to the museum's opening in 1986. It is one of the largest art museums in Europe. Musée d'Orsay had 3.177 million visitors in 2017.\n",
      " The museum building was originally a railway station, Gare d'Orsay, constructed for the Chemin de Fer de Paris à Orléans and finished in time for the 1900 Exposition Universelle to the design of three architects: Lucien Magne, Émile Bénard and Victor Laloux. It was the terminus for the railways of southwestern France until 1939.\n",
      " By 1939 the station's short platforms had become unsuitable for the longer trains that had come to be used for mainline services. After 1939 it was used for suburban services and part of it became a mailing centre during World War II. It was then used as a set for several films, such as Kafka's The Trial adapted by Orson Welles, and as a haven for the Renaud–Barrault Theatre Company and for auctioneers, while the Hôtel Drouot was being rebuilt.\n",
      " In 1970, permission was granted to demolish the station but Jacques Duhamel, Minister for Cultural Affairs, ruled against plans to build a new hotel in its stead. The station was put on the supplementary list of Historic Monuments and finally listed in 1978. The suggestion to turn the station into a museum came from the Directorate of the Museum of France. The idea was to build a museum that would bridge the gap between the Louvre and the National Museum of Modern Art at the Georges Pompidou Centre. The plan was accepted by Georges Pompidou and a study was commissioned in 1974. In 1978, a competition was organized to design the new museum.  ACT Architecture, a team of three young architects (Pierre Colboc, Renaud Bardon and Jean-Paul Philippon), were awarded the contract which involved creating 20,000 square metres (220,000 sq ft) of new floorspace on four floors. The construction work was carried out by Bouygues. In 1981, the Italian architect Gae Aulenti was chosen to design the interior including the internal arrangement, decoration, furniture and fittings of the museum. Finally in July 1986, the museum was ready to receive its exhibits. It took 6 months to install the 2000 or so paintings, 600 sculptures and other works. The museum officially opened in December 1986 by then-president François Mitterrand. nevvero\n",
      " \n",
      " The square next to the museum displays six bronze allegorical sculptural groups in a row, originally produced for the Exposition Universelle:\n",
      " Major sculptors represented in the collection include Alfred Barye, François Rude, Jules Cavelier, Jean-Baptiste Carpeaux, Émile-Coriolan Guillemin, Auguste Rodin, Paul Gauguin, Camille Claudel, Sarah Bernhardt and Honoré Daumier.\n",
      " It also holds collections of:\n",
      " Eugène Delacroix, The Lion Hunt, c. 1854\n",
      " Gustave Courbet, The Artist's Studio (L'Atelier du peintre): A Real Allegory of a Seven Year Phase in my Artistic and Moral Life, 1855\n",
      " Jean Auguste Dominique Ingres, The Source, 1856\n",
      " Jean-François Millet, The Gleaners, 1857\n",
      " Édouard Manet, Olympia, 1863\n",
      " Claude Monet, Le déjeuner sur l'herbe, (right section), with Gustave Courbet, 1865-1866\n",
      " Paul Cézanne, Portrait of Achille Emperaire, 1868\n",
      " Eugène Boudin, Bathers on the Beach at Trouville, 1869\n",
      " James McNeill Whistler, Whistler's Mother, 1871\n",
      " Gustave Caillebotte, Les raboteurs de parquet (The Floor Scrapers), 1875\n",
      " Edgar Degas, L'Absinthe, 1876\n",
      " Pierre-Auguste Renoir, Dance in the Country (Aline Charigot and Paul Lhote), 1883\n",
      " Paul Sérusier, The Talisman/Le Talisman, 1888\n",
      " Self-portrait (1889) by Vincent van Gogh\n",
      " Vincent van Gogh, The Church at Auvers, 1890\n",
      " Paul Gauguin, Tahitian Women on the Beach, 1891\n",
      " Georges Seurat, The Circus, 1891\n",
      " Paul Gauguin, Oviri (Sauvage), 1894\n",
      " Georges Lacombe, L'Existence, 1894–96\n",
      " Albert Lebourg, Paris, l'écluse de la Monnaie. Soleil d'hiver\n",
      " József Rippl-Rónai,  Female with Flower, 1891\n",
      " Louise Catherine Breslau, Portrait of Henry Davison, 1880.\n",
      " The Directors have been:\n",
      "\n"
     ]
    },
    {
     "name": "stdout",
     "output_type": "stream",
     "text": [
      "\n",
      " The State Hermitage Museum (Russian: Госуда́рственный Эрмита́ж, tr. Gosudárstvennyj Ermitáž, IPA: [ɡəsʊˈdarstvʲɪnɨj ɪrmʲɪˈtaʂ]) is a museum of art and culture in Saint Petersburg, Russia. The second-largest art museum in the world, it was founded in 1764 when Empress Catherine the Great acquired an impressive collection of paintings from the Berlin merchant Johann Ernst Gotzkowsky. The museum celebrates the anniversary of its founding each year on 7 December, Saint Catherine's Day. It has been open to the public since 1852.\n",
      " Its collections, of which only a small part is on permanent display, comprise over three million items (the numismatic collection accounts for about one-third of them), including the largest collection of paintings in the world.[citation needed] The collections occupy a large complex of six historic buildings along Palace Embankment, including the Winter Palace, a former residence of Russian emperors. Apart from them, the Menshikov Palace, Museum of Porcelain, Storage Facility at Staraya Derevnya, and the eastern wing of the General Staff Building are also part of the museum. The museum has several exhibition centers abroad. The Hermitage is a federal state property. Since July 1992, the director of the museum has been Mikhail Piotrovsky.\n",
      " Of the six buildings in the main museum complex, five—namely the Winter Palace, Small Hermitage, Old Hermitage, New Hermitage, and Hermitage Theatre—are open to the public. The entrance ticket for foreign tourists costs more than the fee paid by citizens of Russia and Belarus. However, entrance is free of charge the third Thursday of every month for all visitors, and free daily for students and children. The museum is closed on Mondays. The entrance for individual visitors is located in the Winter Palace, accessible from the Courtyard.\n",
      " A hermitage is the dwelling of a hermit or recluse. The word derives from Old French hermit, ermit \"hermit, recluse\", from Late Latin eremita, from Greek eremites, literally \"people who live alone\", which is in turn derived from ἐρημός (erēmos), \"desert\". The building was initially given this name because of its exclusivity - in its early days, only very few people were allowed to visit.\n",
      " Originally, the only building housing the collection was the \"Small Hermitage\". Today, the Hermitage Museum encompasses many buildings on the Palace Embankment and its neighbourhoods. Apart from the Small Hermitage, the museum now also includes the \"Old Hermitage\" (also called \"Large Hermitage\"), the \"New Hermitage\", the \"Hermitage Theatre\", and the \"Winter Palace\", the former main residence of the Russian tsars. In recent years, the Hermitage has expanded to the General Staff Building on the Palace Square facing the Winter Palace, and the Menshikov Palace.\n",
      " The Western European Art collection includes European paintings, sculpture, and applied art from the 13th to the 20th centuries. It is displayed, in about 120 rooms, on the first and second floor of the four main buildings. Drawings and prints are displayed in temporary exhibitions.\n",
      " Since 1940, the Egyptian collection, dating back to 1852 and including the former Castiglione Collection, has occupied a large hall on the ground floor in the eastern part of the Winter Palace. It serves as a passage to the exhibition of Classical Antiquities. A modest collection of the culture of Ancient Mesopotamia, including a number of Assyrian reliefs from Babylon, Dur-Sharrukin and Nimrud, is located in the same part of the building.\n",
      " The collection of classical antiquities occupies most of the ground floor of the Old and New Hermitage buildings. The interiors of the ground floor were designed by German architect Leo von Klenze in the Greek revival style in the early 1850s, using painted polished stucco and columns of natural marble and granite. One of the largest and most notable interiors of the first floor is the Hall of Twenty Columns, divided into three parts by two rows of grey monolithic columns of Serdobol granite, intended for the display of Graeco-Etruscan vases. Its floor is made of a modern marble mosaic imitating ancient tradition, while the stucco walls and ceiling are covered in painting.\n",
      " The Room of the Great Vase in the western wing features the 2.57 m (8.4 ft) high Kolyvan Vase, weighing 19 t (42,000 lb), made of jasper in 1843 and installed before the walls were erected. While the western wing was designed for exhibitions, the rooms on the ground floor in the eastern wing of the New Hermitage, now also hosting exhibitions, were originally intended for libraries. The floor of the Athena Room in the south-eastern corner of the building, one of the original libraries, is decorated with an authentic 4th-century mosaic excavated in an early Christian basilica in Chersonesos in 1854.\n",
      " The collection of classical antiquities features Greek artifacts from the third millennium – fifth century BC, ancient Greek pottery, items from the Greek cities of the North Pontic Greek colonies, Hellenistic sculpture and jewellery, including engraved gems and cameos, such as the famous Gonzaga Cameo, Italic art from the 9th to second century BC, Roman marble and bronze sculpture and applied art from the first century BC - fourth century AD, including copies of Classical and Hellenistic Greek sculptures. One of the highlights of the collection is the Tauride Venus, which, according to latest research, is an original Hellenistic Greek sculpture rather than a Roman copy as it was thought before. There are, however, only a few pieces of authentic Classical Greek sculpture and sepulchral monuments.\n",
      " On the ground floor in the western wing of the Winter Palace the collections of prehistoric artifacts and the culture and art of the Caucasus are located, as well as the second treasure gallery. The prehistoric artifacts date from the Paleolithic to the Iron Age and were excavated all over Russia and other parts of the former Soviet Union and Russian Empire. Among them is a renowned collection of the art and culture of nomadic tribes of the Altai from Pazyryk and Bashadar sites, including the world's oldest surviving knotted-pile carpet and a well-preserved wooden chariot, both from the 4th–3rd centuries BC. The Caucasian exhibition includes a collection of Urartu artifacts from Armenia and Western Armenia. Many of them were excavated at Teishebaini under the supervision of Boris Piotrovsky, former director of the Hermitage Museum.\n",
      " Four small rooms on the ground floor, enclosed in the middle of the New Hermitage between the room displaying Classical Antiquities, comprise the first treasure gallery, featuring western jewellery from the 4th millennium BC to the early 20th century AD. The second treasure gallery, located on the ground floor in the southwest corner of the Winter Palace, features jewellery from the Pontic steppes, Caucasus and Asia, in particular Scythian and Sarmatian gold. Visitors may only visit the treasure galleries as part of a guided tour.\n",
      " Pavilion Hall, designed by Andrei Stackenschneider in 1858, occupies the first floor of the Northern Pavilion in the Small Hermitage. It features the 18th-century golden Peacock Clock by James Cox and a collection of mosaics. The floor of the hall is adorned with a 19th-century imitation of an ancient Roman mosaic.\n",
      " Two galleries spanning the west side of the Small Hermitage from the Northern to Southern Pavilion house an exhibition of Western European decorative and applied art from the 12th to 15th century and the fine art of the Low Countries from the 15th and 16th centuries.\n",
      " The rooms on the first floor of the Old Hermitage were designed by Andrei Stakenschneider in revival styles in between 1851 and 1860, although the design survives only in some of them. They feature works of Italian Renaissance artists, including Giorgione, Titian, Veronese, as well as Benois Madonna and Madonna Litta attributed to Leonardo da Vinci or his school.\n",
      " The Italian Renaissance galleries continues in the eastern wing of the New Hermitage with paintings, sculpture, majolica and tapestry from Italy of the 15th–16th centuries, including Conestabile Madonna and Madonna with Beardless St. Joseph by Raphael. The gallery known as the Raphael Loggias, designed by Giacomo Quarenghi and painted by Cristopher Unterberger and his workshop in the 1780s as a replication of the loggia in the Apostolic Palace in Rome frescoed by Raphael, runs along the eastern facade.\n",
      " The first floor of New Hermitage contains three large interior spaces in the center of the museum complex with red walls and lit from above by skylights. These are adorned with 19th-century Russian lapidary works and feature Italian and Spanish canvases of the 16th-18th centuries, including Veronese, Giambattista Pittoni, Tintoretto, Velázquez and Murillo. In the enfilade of smaller rooms alongside the skylight rooms the Italian and Spanish fine art of the 15th-17th centuries, including Michelangelo's Crouching Boy and paintings by El Greco.\n",
      " The museum also houses paintings by Luis Tristán, Francisco de Zurbarán, Alonso Cano, José de Ribera and Goya.\n",
      " The Knights' Hall, a large room in the eastern part of the New Hermitage originally designed in the Greek revival style for the display of coins, now hosts a collection of Western European arms and armour from the 15th-17th centuries, part of the Hermitage Arsenal collection. The Hall of Twelve Columns, in the southeast corner of the New Hermitage, is adorned with columns of grey Serdobol granite and was also designed in the Greek revival style for the display of coins, is now used for temporary exhibitions.\n",
      " The Gallery of the History of Ancient Painting adjoins the Knights' Hall and also flanks the skylight rooms. It was designed by Leo von Klenze in the Greek revival style as a prelude to the museum and features neoclassical marble sculptures by Antonio Canova and his followers. In the middle, the gallery opens to the main staircase of the New Hermitage, which served as the entrance to the museum before the October Revolution of 1917, but is now closed. The upper gallery of the staircase is adorned with twenty grey Serdobol granite columns and feature 19th-century European sculpture and Russian lapidary works.\n",
      " The rooms and galleries along the southern facade and in the western wing of the New Hermitage are now entirely devoted to Dutch Golden Age and Flemish Baroque painting of the 17th century, including the large collections of Van Dyck, Rubens and Rembrandt. They also contain several paintings by Jan Brueghel the Elder (Velvet period), Frans Snyders (for example, The Fish Market), Gerard ter Borch, Paulus Potter, Jacob van Ruisdael, Jan van Goyen, Ferdinand Bol and Gerard van Honthorst.\n",
      " The first floor rooms on the southern facade of the Winter Palace are occupied by the collections of German fine art of the 16th century and French fine art of the 15th–18th centuries, including paintings by Poussin, Lorrain, Watteau.\n",
      " The collections of French decorative and applied art from the 17th–18th centuries and British applied and fine art from the 16th–19th century, including Thomas Gainsborough and Joshua Reynolds, are on display in nearby rooms facing the courtyard. This area also holds paintings by German artists, including Hans Wertinger, Lucas Cranach the Elder, Barthel Bruyn the Elder, Caspar David Friedrich (Moonrise by the Sea), Anton Mengs, Hans Thoma, Anselm Feuerbach, Franz Stuck (Two Men Fighting Over a Woman) and Heinrich Campendonk as well as paintings by Swiss painters Angelica Kauffman, Alexandre Calame, Arnold Böcklin and Ferdinand Hodler.\n",
      " The richly decorated interiors of the first floor of the Winter Palace on its eastern, northern and western sides are part of the Russian culture collection and host the exhibitions of Russian art from the 11th-19th centuries. Temporary exhibitions are usually held in the Nicholas Hall.\n",
      " The only portion of the second floor open to the public is in the Winter Palace. French Neoclassical, Impressionist and post-Impressionist art, including works by Renoir, Monet, Van Gogh and Gauguin, is displayed there in the southeastern corner. It also displays paintings by Camille Pissarro (Boulevard Montmartre, Paris), Paul Cézanne (Mount Sainte-Victoire), Alfred Sisley, Henri Morel, and Degas.\n",
      " Modern art is displayed in the General Staff Building (Saint Petersburg). It features Matisse, Derain and other fauvists, Picasso, Malevich, Petrocelli, Kandinsky, Giacomo Manzù, Giorgio Morandi  and Rockwell Kent. A large room is devoted to the German Romantic art of the 19th century, including several paintings by Caspar David Friedrich. The second floor of the Western wing features collections of the Oriental art (from China, India, Mongolia, Tibet, Central Asia, Byzantium and Near East).\n",
      " Catherine the Great started her art collection in 1764 by purchasing paintings from Berlin merchant Johann Ernst Gotzkowsky. He assembled the collection for Frederick II of Prussia, who ultimately refused to purchase it. Thus, Gotzkowsky provided 225 or 317 paintings (conflicting accounts list both numbers), mainly Flemish and Dutch, as well as others, including 90 not precisely identified, to the Russian crown. The collection consisted of Rembrandt (13 paintings), Rubens (11 paintings), Jacob Jordaens (7 paintings), Anthony van Dyck (5 paintings), Paolo Veronese (5 paintings), Frans Hals (3 paintings, including Portrait of a Young Man with a Glove), Raphael (2 paintings), Holbein (2 paintings), Titian (1 painting), Jan Steen (The Idlers), Hendrik Goltzius, Dirck van Baburen, Hendrick van Balen and Gerrit van Honthorst. Perhaps some of the most famous and notable artworks that were a part of Catherine's original purchase from Gotzkowsky were Danae, painted by Rembrandt in 1636; Descent from the Cross, painted by Rembrandt in 1624; and Portrait of a Young Man Holding a Glove, painted by Frans Hals in 1650. These paintings remain in the Hermitage collection today.\n",
      " In 1764, Catherine commissioned Yury Felten to build an extension on the east of the Winter Palace which he completed in 1766.  Later it became the Southern Pavilion of the Small Hermitage. In 1767–1769, French architect Jean-Baptiste Vallin de la Mothe built the Northern Pavilion on the Neva embankment. Between 1767 and 1775, the extensions were connected by galleries, where Catherine put her collections. The entire neoclassical building is now known as the Small Hermitage. During the time of Catherine, the Hermitage was not a public museum and few people were allowed to view its holdings. Jean-Baptiste Vallin de la Mothe also rebuilt rooms in the second story of the south-east corner block that was originally built for Elizabeth and later occupied by Peter III. The largest room in this particular apartment was the Audience Chamber (also called the Throne Hall) which consisted of 227 square meters.\n",
      " The Hermitage buildings served as a home and workplace for nearly a thousand people, including the Imperial family. In addition to this, they also served as an extravagant showplace for all kinds of Russian relics and displays of wealth prior to the art collections. Many events were held in these buildings including masquerades for the nobility, grand receptions and ceremonies for state and government officials. The \"Hermitage complex\" was a creation of Catherine's that allowed all kinds of festivities to take place in the palace, the theatre and even the museum of the Hermitage. This helped solidify the Hermitage as not only a dwelling place for the Imperial family, but also as an important symbol and memorial to the imperial Russian state. Today, the palace and the museum are one and the same. In Catherine's day, the Winter Palace served as a central part of what was called the Palace Square. The Palace Square served as St. Petersburg's nerve center by linking it to all the city's most important buildings. The presence of the Palace Square was extremely significant to the urban development of St. Petersburg, and while it became less of a nerve center later into the 20th century, its symbolic value was still very much preserved.\n",
      " Catherine acquired the best collections offered for sale by the heirs of prominent collectors. In 1769, she purchased Brühl's collection, consisting of over 600 paintings and a vast number of prints and drawings, in Saxony. Three years later, she bought Crozat's collection of paintings in France with the assistance of Denis Diderot. Next, in 1779, she acquired the collection of 198 paintings that once belonged to Robert Walpole in London followed by a collection of 119 paintings in Paris from Count Baudouin in 1781. Catherine's favorite items to collect were believed to be engraved gems and cameos. At the inaugural exhibit of the Hermitage, opened by the Prince of Wales in November 2000, there was an entire gallery devoted to representing and displaying Catherine's favorite items. In this gallery her cameos are displayed along with cabinet made by David Roentgen, which holds her engraved gems. As the symbol of Minerva was frequently used and favored by Catherine to represent her patronage of the arts, a cameo of Catherine as Minerva is also displayed here. This particular cameo was created for her by her daughter-in-law, the Grand Duchess Maria Fyodorovna. This is only a small representation of Catherine's vast collection of many antique and contemporary engraved gems and cameos.\n",
      " The collection soon overgrew the building. In her lifetime, Catherine acquired 4,000 paintings from the old masters, 38,000 books, 10,000 engraved gems, 10,000 drawings, 16,000 coins and medals and a natural history collection filling two galleries, so in 1771 she commissioned Yury Felten to build another major extension. The neoclassical building was completed in 1787 and has come to be known as the Large Hermitage or Old Hermitage. Catherine also gave the name of the Hermitage to her private theatre, built nearby between 1783 and 1787 by the Italian architect Giacomo Quarenghi. In London in 1787, Catherine acquired the collection of sculpture that belonged to Lyde Browne, mostly Ancient Roman marbles. Catherine used them to adorn the Catherine Palace and park in Tsarskoye Selo, but later they became the core of the Classical Antiquities collection of the Hermitage. From 1787 to 1792, Quarenghi designed and built a wing along the Winter Canal with the Raphael Loggias to replicate the loggia in the Apostolic Palace in Rome designed by Donato Bramante and frescoed by Raphael. The loggias in Saint Petersburg were adorned with copies of Vatican frescoes painted by Cristopher Unterberger and his workshop in the 1780s.\n",
      " Catherine's collection of at least 4,000 paintings came to rival the older and more prestigious museums of Western Europe. Catherine took great pride in her collection and actively participated in extensive competitive art gathering and collecting that was prevalent in European royal court culture. Through her art collection she gained European acknowledgment and acceptance and portrayed Russia as an enlightened society. Catherine went on to invest much of her identity in being a patron of the arts. She was particularly fond of the Roman deity Minerva, whose characteristics according to classical tradition are military prowess, wisdom, and patronage of the arts. Using the title Catherine the Minerva, she created new institutions of literature and culture and also participated in many projects of her own, mostly play writing. The representation of Catherine alongside Minerva would come to be a tradition of enlightened patronage in Russia.\n",
      " In 1815, Alexander I of Russia purchased 38 pictures from the heirs of Joséphine de Beauharnais, most of which had been looted by the French in Kassel during the war. The Hermitage collection of Rembrandts was then considered the largest in the world. Also among Alexander's purchases from Josephine's estate were the first four sculptures by the neoclassical Italian sculptor Antonio Canova to enter the Hermitage collection.\n",
      " Eventually the imperial collections were enriched by Greek and Scythian artifacts excavated within the Russian Empire.\n",
      " Between 1840 and 1843, Vasily Stasov redesigned the interiors of the Southern Pavilion of the Small Hermitage. In 1838, Nicholas I commissioned the neoclassical German architect Leo von Klenze to design a building for the public museum. Space for the museum was made next to the Small Hermitage by the demolition of the Shepelev Palace and royal stables. The construction was overseen by the Russian architects Vasily Stasov and Nikolai Yefimov in 1842–1851 and incorporated Quarenghi's wing with the Raphael Loggias.\n",
      " In 1851, in Venice the museum acquired the collection of Cristoforo Barbarigo, including five more canvases by Titian. Today, all of the paintings but one (Danaë) by Titian in the Hermitage Museum came to St. Petersburg from the Barbarigo collection.\n",
      " The New Hermitage was opened to the public on 5 February 1852. In the same year the Egyptian Collection of the Hermitage Museum emerged and was particularly enriched by items given by the Duke of Leuchtenberg, Nicholas I's son-in-law. Meanwhile, in 1851–1860, the interiors of the Old Hermitage were redesigned by Andrei Stackensneider to accommodate the State Assembly, Cabinet of Ministers and state apartments. Stakenschneider created the Pavilion Hall in the Northern Pavilion of the Small Hermitage in 1851–1858.\n",
      " Until the 1920s, the museum's entrance was under the portico supported by five-metre high atlantes of grey Serdobol granite from Finland in the middle of the southern facade of the New Hermitage building.\n",
      " In 1861, the Hermitage purchased from the Papal government part of the Giampietro Campana collection, which consisted mostly classical antiquities. These included over 500 vases, 200 bronzes and a number of marble statues. The Hermitage acquired Madonna Litta, which was then attributed to Leonardo, in 1865, and Raphael's Connestabile Madonna in 1870. In 1884 in Paris, Alexander III of Russia acquired the collection of Alexander Basilewski, featuring European medieval and Renaissance artifacts. In 1885, the Arsenal collection of arms and armour, founded by Alexander I of Russia, was transferred from the Catherine Palace in Tsarskoye Selo to the Hermitage. In 1914, Leonardo's Benois Madonna was added to the collection.\n",
      " Immediately after the Revolution of 1917 the Imperial Hermitage and the Winter Palace, the former Imperial residence, were proclaimed state museums and eventually merged.\n",
      " The range of the Hermitage's exhibits was further expanded when private art collections from several palaces of the Russian Tsars and numerous private mansions were nationalized and redistributed among major Soviet state museums. Particularly notable was the influx of old masters from the Catherine Palace, the Alexander Palace, the Stroganov Palace and the Yusupov Palace as well as from other palaces of Saint Petersburg and suburbs.\n",
      " In 1922, an important collection of 19th-century European paintings was transferred to the Hermitage from the Academy of Arts. In turn, in 1927 about 500 important paintings were transferred to the Central Museum of old Western art in Moscow at the insistence of the Soviet authorities. In the early 1930s, 70 more paintings were sent there. After 1932, a number of less significant works of art were transferred to new museums all over the Soviet Union.\n",
      " In 1928, the Soviet government ordered the Hermitage to compile a list of valuable works of art for export. In 1930–1934, over two thousand works of art from the Hermitage collection were clandestinely sold at auctions abroad or directly to foreign officials and businesspeople. The sold items included Raphael's Alba Madonna, Titian's Venus with a Mirror, and Jan van Eyck's Annunciation, among other world known masterpieces by Botticelli, Rembrandt, Van Dyck, and others. In 1931, after a series of negotiations, Andrew W. Mellon acquired 21 works of art from the Hermitage and later donated them to form a nucleus of the National Gallery of Art in Washington, D.C. (see also Soviet sale of Hermitage paintings).\n",
      " With the German invasion of the Soviet Union in 1941, before the Siege of Leningrad started, two trains with a considerable part of the collections were evacuated to Sverdlovsk. Two bombs and a number of shells hit the museum buildings during the siege. The museum opened an exhibition in November 1944. In October 1945 the evacuated collections were brought back, and in November 1945 the museum reopened.\n",
      " In 1948, 316 works of Impressionist, post-Impressionist, and modern art from the collection of the Museum of New Western Art in Moscow, originating mostly from the nationalized collections of Sergei Shchukin and Ivan Morozov and disestablished[clarification needed] before the war, were transferred to the Hermitage, including works by Matisse and Picasso. Beginning in 1967, a number of works by Matisse were donated to the museum by his muse Lydia Delectorskaya.\n",
      " In 1981, the restored Menshikov Palace became a new branch of the Hermitage museum, displaying Russian culture of the early 18th century.\n",
      " On 15 June 1985, a man later judged insane attacked Rembrandt's painting Danaë, displayed in the museum. He threw sulfuric acid on the canvas and cut it twice with a knife. The restoration of the painting had been accomplished by Hermitage conservationists by 1997, and Danaë is now on display behind armoured glass.\n",
      " In 1991, it became known that some paintings looted by the Red Army in Germany in 1945 were held in the Hermitage. But only in October 1994 did the Hermitage officially announce that it had secretly been holding a major trove of French Impressionist and Post-Impressionist paintings from German private collections. The exhibition \"Hidden Treasures Revealed\", where 74 of the paintings were displayed for the first time, was opened on 30 March 1995 in the Nicholas Hall of the Winter Palace and lasted a year. Of the paintings, all but one originated from private rather than state German collections, including 56 paintings from the Otto Krebs collection, as well as the collection of Bernhard Koehler and paintings previously belonging to Otto Gerstenberg and his daughter Margarete Scharf, including the world-famous Place de la Concorde by Degas, In the Garden by Renoir, and White House at Night by Van Gogh. Some of the paintings are now on permanent display in several small rooms in the northeastern corner of the Winter Palace on the first floor.\n",
      " In 1993, the Russian government gave the eastern wing of the nearby General Staff Building across the Palace Square to the Hermitage and the new exhibition rooms in 1999. Since 2003, the Great Courtyard of the Winter Palace has been open to the public providing another entrance to the museum. Also in 2003, the Museum of Porcelain opened as a part of the Hermitage on the grounds of the Imperial Porcelain Factory.\n",
      " In December 2004, the museum discovered another looted work of art: Venus Disarming Mars by Rubens was once in the collection of the Rheinsberg Palace near Berlin, and was apparently looted by Soviet troops from the Königsberg Castle in East Prussia in 1945. At the time, Mikhail Piotrovsky said the painting would be cleaned and displayed.\n",
      " The museum announced in July 2006 that 221 minor items, including jewelry, Orthodox icons, silverware and richly enameled objects, had been stolen.  The value of the stolen items was estimated to be approximately $543,000. By the end of 2006 several of the stolen items had been recovered.\n",
      " In recent years, the Hermitage launched several dependencies abroad and domestically.\n",
      " The dependency of the Hermitage Museum in Amsterdam is known as the Hermitage Amsterdam, and is located in the former Amstelhof building. It opened on 24 February 2004 in a small building on the Nieuwe Herengracht in Amsterdam, awaiting the closing of the retirement home which still occupied the Amstelhof building until 2007. Between 2007 and 2009, the Amstelhof was renovated and made suitable for the housing of the Amsterdam Hermitage. The Amsterdam Hermitage was opened on 19 June 2009 by President Dmitry Medvedev and Queen Beatrix of the Netherlands.\n",
      " The Hermitage dependency in Kazan (Tatarstan, Russia), opened in 2005. It was created with support from President of the Republic of Tatarstan Mintimer Shaimiev and is a subdivision of the Kazan Kremlin State Historical and Architectural Museum-Park. The museum is situated in the Kazan Kremlin in an edifice previously occupied by the Junker School built in the beginning of the 19th century.\n",
      " Following the prior experiences in London, Las Vegas, Amsterdam and Kazan, the Hermitage foundation decided to create a further branch in Italy with the launch of a national bid. Several northern Italian cities expressed interest such as Verona, Mantua, Ferrara and Turin. In 2007, the honor was awarded to the city of Ferrara which proposed its Castle Estense as the base. Since then, the new institution called Ermitage Italia started a research and scientific collaboration with the Hermitage foundation.\n",
      " Hermitage-Vyborg Center was opened in June 2010 in Vyborg, Leningrad Oblast.\n",
      " A Hermitage branch is due to open in Vladivostok by 2016, and the regional government has allocated more than Rb17.7 million ($558,000) for preliminary reconstruction work on a mansion in Vladivostok's historic downtown district to house the satellite.\n",
      " The Hermitage-Siberia is due to open in Omsk in 2016.\n",
      " In recent years, there have been proposals to open a Vilnius Guggenheim Hermitage Museum in the capital city of Lithuania. Like the former Las Vegas dependency, the museum is to combine artworks from the Saint Petersburg Hermitage with works from the New York Guggenheim Museum.\n",
      " The Guggenheim Hermitage Museum in Las Vegas opened on 7 October 2001 and closed on 11 May 2008. The Hermitage Rooms in London's Somerset House opened on 25 November 2000. The exhibition was closed permanently in November 2007 due to poor visitor numbers.\n",
      " \n",
      " \n",
      " The Hermitage Volunteer Service offers all those interested a unique opportunity to involve themselves in running this world-renowned museum. The program not only aids the Hermitage with its external and internal activities but also serves as an informal link between the museum staff and the public, bringing the specific knowledge of the museum's experts to the community. Volunteers may also develop projects reflecting their own personal goals and interests: communicate a feeling of responsibility to the youth so as to help them understand the value of tradition and the necessity of its preservation.\n",
      " A population of cats lives on the museum grounds and serves as an attraction.\n",
      " Russia-K, a Russian national television channel, has been presenting the various art collections of the Hermitage to the general public for years. There are a series of programs that have aired entitled ‘My Hermitage’ that have been particularly successful. All of these programs are organized by the Director of the Hermitage, Professor Mikhail Piotrovsky, and are quite similar to the broadcasts created by Academician Boris Piotrovsky, who is Mikhail's father. These programs were first broadcast through the Soviet Union's ‘First’ channel, airing at the height of the museum's boom. During this time, this channel recorded more than three million visitors every year, mostly from the Soviet Union. Another program created by the Hermitage was called ‘The Treasures of St. Petersburg,’ and was broadcast on the St. Petersburg regional television. This program gave insight into what exhibitions were being displayed at the Hermitage.\n",
      " Treasures of St Petersburg & The Hermitage, (2003) a three-part documentary series for Channel 5 in the UK, directed by Graham Addicott and produced by Pille Runk. An Anglo-Estonian co-production by First Freedom Productions and Allfilm. DVD Cat No BDV057\n",
      " 'Hermitage Revealed' (2014) is a BBC documentary from Margy Kinmonth. The film tells the story of its journey from imperial palace to state museum, investigating remarkable tales of dedication, devotion, ownership and ultimate sacrifice, showing how the collection came about, how it survived tumultuous revolutionary times and what makes the Hermitage unique today.\n",
      " Ancient Egyptian: Limestone stele of a chief potter (18th century BC)\n",
      " Ancient Near East: Urartu deity (7th–5th century BC)\n",
      " Ancient Greek: Red-figure vase (5th century BC)\n",
      " Ancient Steppes: Pazyryk horseman (3rd century BC)\n",
      " Hellenistic: Gonzaga Cameo (3rd century BC)\n",
      " Ancient Roman: Bust of Lucius Verus (160–170)\n",
      " Indian: statue of Buddha (2nd–3rd century)\n",
      " Gothic: Anjou Legendarium (1330)\n",
      " Early Renaissance: Madonna Litta by Leonardo da Vinci (c. 1490)\n",
      " High Renaissance: Penitent Magdalene by Titian (1565)\n",
      " Mannerism: Saint Peter and Saint Paul by El Greco (1592)\n",
      " Italian Baroque: The Lute Player by Caravaggio (1596)\n",
      " Spanish Baroque: The Lunch by Diego Velázquez (1617)\n",
      " Flemish Baroque: Self-Portrait by Anthony van Dyck (1622-1623)\n",
      " Dutch Baroque: Danaë by Rembrandt (1636)\n",
      " Classicism: Tancred and Herminia by Nicolas Poussin (1649)\n",
      " English: Woman in Blue by Thomas Gainsborough (c. 1770s)\n",
      " Rococo: The Stolen Kiss by Jean-Honoré Fragonard (c. 1780)\n",
      " Neoclassicism: Psyche Revived by Cupid's Kiss by Antonio Canova (1800–1803)\n",
      " Romanticism: Portrait of Antonia Zarate by Francisco Goya (1810)\n",
      " Persian: Portrait of Fath Ali Shah (1813–1814)\n",
      " Impressionism: Woman in the Garden by Claude Monet (1867)\n",
      " Post-Impressionism: White House at Night by Vincent van Gogh (1890)\n",
      " Post-Impressionism: The Overture to Tannhauser: The Artist's Mother and Sister by Paul Cézanne (1868)\n",
      " Picasso's Rose Period: Femme au café (Absinthe Drinker) by Pablo Picasso (1901–02)\n",
      " Proto-Cubism: Dryad, by Pablo Picasso (1908)\n",
      " Fauvism: The Dance by Henri Matisse (1910)\n",
      " Maratha India: A Maratha Armor and Helmet\n",
      " Abstract: Composition VI by Wassily Kandinsky (1913)\n",
      " Coordinates: 59°56′28″N 30°18′54″E﻿ / ﻿59.941°N 30.3151°E﻿ / 59.941; 30.3151\n",
      "\n"
     ]
    },
    {
     "name": "stdout",
     "output_type": "stream",
     "text": [
      "\n",
      " The Prado Museum (/ˈprɑːdoʊ/ PRAH-doh; Spanish: Museo del Prado [muˈseo ðel ˈpɾaðo]), officially known as Museo Nacional del Prado, is the main Spanish national art museum, located in central Madrid. It is widely considered to have one of the world's finest collections of European art, dating from the 12th century to the early 20th century, based on the former Spanish Royal Collection, and the single best collection of Spanish art. Founded as a museum of paintings and sculpture in 1819, it also contains important collections of other types of works. The Prado Museum is one of the most visited sites in the world, and it is considered one of the greatest art museums in the world. The numerous works by Francisco Goya, the single most extensively represented artist, as well as by Hieronymus Bosch, El Greco, Peter Paul Rubens, Titian, and Diego Velázquez, are some of the highlights of the collection.\n",
      " The collection currently comprises around 8,200 drawings, 7,600 paintings, 4,800 prints, and 1,000 sculptures, in addition to many other works of art and historic documents. As of 2012, the museum displayed about 1,300 works in the main buildings, while around 3,100 works were on temporary loan to various museums and official institutions. The remainder were in storage. The museum received 2.8 million visitors in 2012. It is one of the largest museums in Spain.\n",
      " The best-known work on display at the museum is Las Meninas by Velázquez. Velázquez and his keen eye and sensibility were also responsible for bringing much of the museum's fine collection of Italian masters to Spain, now the largest outside Italy.\n",
      " The building that is now the home of the Museo Nacional del Prado was designed in 1785 by architect of the Enlightenment in Spain Juan de Villanueva on the orders of Charles III to house the Natural History Cabinet. Nonetheless, the building's final function was not decided until the monarch's grandson, Ferdinand VII, encouraged by his wife, Queen María Isabel de Braganza, decided to use it as a new Royal Museum of Paintings and Sculptures. The Royal Museum, which would soon become known as the National Museum of Painting and Sculpture, and subsequently the Museo Nacional del Prado, opened to the public for the first time in November 1819. It was created with the double aim of showing the works of art belonging to the Spanish Crown and to demonstrate to the rest of Europe that Spanish art was of equal merit to any other national school.\n",
      " The first catalogue of the Museum, published in 1819 and solely devoted to Spanish painting, included 311 paintings, although at that time the Museum housed 1,510 from the various royal residences, the Reales Sitios, including works from other schools. The exceptionally important royal collection, which forms the nucleus of the present-day Museo del Prado, started to increase significantly in the 16th century during the time of Charles V and continued under the succeeding Habsburg and Bourbon monarchs. Their efforts and determination led to the Royal Collection being enriched by some of the masterpieces now to be seen in the Prado. These include The Descent from the Cross by Rogier van der Weyden, The Garden of Earthly Delights by Hieronymous Bosch, Knight with his Hand on his Breast by El Greco, The Death of the Virgin by Mantegna, The Holy Family, known as \"La Perla\", by Raphael, Charles V at Mülhberg by Titian, Christ Washing the Disciples’ Feet by Tintoretto, Dürer's Self-portrait, Las Meninas by Velázquez, The Three Graces by Rubens, and The Family of Charles IV by Goya.\n",
      " In addition to works from the Spanish royal collection, other holdings increased and enriched the Museum with further masterpieces, such as the two Majas by Goya. Among the now closed museums whose collections have been added to that of the Prado were the Museo de la Trinidad in 1872, and the Museo de Arte Moderno in 1971. In addition, numerous legacies, donations and purchases have been of crucial importance for the growth of the collection. Various works entered the Prado from the Museo de la Trinidad, including The Fountain of Grace by the School of Van Eyck, the Santo Domingo and San Pedro Martír altarpieces painted for the monastery of Santo Tomás in Ávila by Pedro Berruguete, and the five canvases by El Greco executed for the Colegio de doña María de Aragón. Most of the Museum's 19th-century paintings come from the former Museo de Arte Moderno, including works by the Madrazos, José de Madrazo y Agudo and Federico de Madrazo, Vicente López, Carlos de Haes, Eduardo Rosales and Sorolla.\n",
      " Upon the deposition of Isabella II in 1868, the museum was nationalized and acquired the new name of \"Museo del Prado\". The building housed the royal collection of arts, and it rapidly proved too small. The first enlargement to the museum took place in 1918. Since the creation of the Museo del Prado more than 2,300 paintings have been incorporated into its collection, as well as numerous sculptures, prints, drawings and works of art through bequests, donations and purchases, which account for most of the New Acquisitions. Numerous bequests have enriched the Museum's holdings, such as the outstanding collection of medals left to the Museum by Pablo Bosch; the drawings and items of decorative art left by Pedro Fernández Durán as well as Van der Weyden's masterpiece, The Virgin and Child; and the Ramón de Errazu bequest of 19th-century paintings. Particularly important donations include Barón Emile d'Erlanger's gift of Goya's Black Paintings in 1881. Among the numerous works that have entered the collection through purchase are some outstanding ones acquired in recent years including two works by El Greco, The Fable and The Flight into Egypt acquired in 1993 and 2001, Goya's The Countess of Chinchon bought in 2000, Velázquez's portrait of The Pope's Barber, acquired in 2003 and Fra Angelico's Madonna of the Pomegranate purchased in 2016.\n",
      " Between 1873 and 1900, the Prado helped decorate city halls, new universities, and churches. During the Second Spanish Republic from 1931 to 1936, the focus was on developing provincial museums. During the Spanish Civil War, upon the recommendation of the League of Nations, the museum staff removed 353 paintings, 168 drawings and the Dauphin's Treasure and sent the art to Valencia, then later to Girona, and finally to Geneva. The art had to be returned across French territory in night trains to the museum upon the commencement of World War II. During the early years of the dictatorship of Francisco Franco, many paintings were sent to embassies.\n",
      " The main building was enlarged with short pavilions in the rear between 1900 and 1960. The next enlargement was the incorporation of two buildings (nearby but not adjacent) into the institutional structure of the museum: the Casón del Buen Retiro, which is equipped to display up to 400 paintings and  which housed the bulk of the 20th-century art from 1971 to 1997, and the Salón de Reinos (Throne building), formerly the Army Museum.\n",
      " In 1993, an extension proposed by the Prado's director at the time, Felipe Garin, was quickly abandoned after a wave of criticism. In the late 1990s, a $14 million roof work forced the Velázquez masterpiece Las Meninas to change galleries twice. In 1998, the Prado annex in the nearby Casón del Buen Retiro closed for a $10 million two-year overhaul that included three new underground levels. In 2007, the museum finally executed Rafael Moneo's project to expand its exposition room to 16,000 square meters, hoping to increase the yearly number of visitors from 1.8 million to 2.5 million. \n",
      " A glass-roofed and wedge-shaped foyer now contains the museum's shops and cafeteria, removing them from the main building to make more room for galleries. The 16th-century Cloister of Jerónimo has been removed stone by stone to make foundations for increased stability of surrounding buildings and will be re-assembled in the new museum's extension. Hydraulic jacks had to be used to prevent the basement walls from falling during construction.\n",
      " The enlargement is an underground building which connects the main building to another one entirely reconstructed.\n",
      " In November 2016, it was announced that British architect Norman Foster, in a joint project with Carlos Rubio Carvajal, is to renovate the Hall of Realms, which once formed part of the Buen Retiro palace and transform it into a $32 million extension of the Prado. The museum announced the selection of Foster and Rubio after a jury reviewed the proposals of the eight competition finalists – including David Chipperfield, Rem Koolhaas and Eduardo Souto de Moura –, who had already been shortlisted from an initial list of 47 international teams of architects. The building was acquired by the Prado in 2015, after having served as an army museum until 2005. The project is designed to give the Prado about 61,500 square feet of additional available space, of which about 27,000 square feet will be used to exhibit works.\n",
      " The Museo del Prado is one of the buildings constructed during the reign of Charles III (Carlos III) as part of a grandiose building scheme designed to bestow upon Madrid a monumental urban space. The building that lodges the Museum of the Prado was initially conceived by José Moñino y Redondo, count of Floridablanca and was commissioned in 1785 by Charles III for the reurbanización of the Paseo del Prado. To this end, Charles III called on one of his favorite architects, Juan de Villanueva, author also of the nearby Botanical Garden and the City Hall of Madrid.\n",
      " The prado (\"meadow\") that was where the museum now stands gave its name to the area, the Salón del Prado (later Paseo del Prado), and to the museum itself upon nationalisation. Work on the building stopped at the conclusion of Charles III's reign and throughout the Peninsular War and was only initiated again during the reign of Charles III's grandson, Ferdinand VII. The premises had been used as headquarters for the cavalry and a gunpowder-store for the Napoleonic troops based in Madrid during the war.\n",
      " Between 8 November 2011 and 25 March 2012, a group of 179 works of art were brought to the Museo del Prado from the Hermitage Museum in St. Petersburg. Notable works included:\n",
      " Conversely, for the first time in its 200-year history, the Museo del Prado has toured an exhibition of its renowned collection of Italian masterpieces at the National Gallery of Victoria in Melbourne, Australia, from 16 May 2014 until 31 August 2014. Many of the works have never before left Spain.\n",
      " The Prado, with the nearby Thyssen-Bornemisza Museum and the Museo Reina Sofía, forms Madrid's Golden Triangle of Art.\n",
      " Nearby is the Real Academia de Bellas Artes de San Fernando. The Museo Arqueológico houses some art of Ancient Egypt, Mesopotamia, Greece, and Rome formerly in the collection of the Prado.\n",
      " The Naval Museum, managed by the Ministry of Defence, is also nearby.\n",
      " Until the early 2000s, the Prado's annual income was approximately $18 million, $15 million of which came from the government and the remainder from private contributions, publications, and admissions. In 2001, the conservative government of José María Aznar decided to change the museum's financing platform, ushering in a public-private partnership. Under its new bylaws, which the Cortes Generales approved in 2003, the Prado must gradually reduce its level of state support to 50 percent from 80 percent. In exchange, the museum gained control of the budget — now roughly €35 million — and the power to raise money from corporate donations and merchandising. However, its recent €150 million expansion was paid for by the Spanish state.\n",
      " In 1991, Manuel Villaescusa bequeathed his fortune of nearly $40 million in Madrid real estate to the Prado, to be used solely for the acquisition of paintings. The museum subsequently sold Villaescusa's buildings to realize income from them. The bequest suddenly made the Prado one of the most formidable bidders for paintings in the world.\n",
      " The first four directors were drawn from nobility. From 1838 to 1960, the directors were mostly artists. Since then, most of them have been art historians.\n",
      " Rogier van der Weyden, The Descent from the Cross, c. 1435\n",
      " Andrea Mantegna, Death of the Virgin, c. 1461\n",
      " Antonello da Messina, The Dead Christ Supported by an Angel, c. 1475\n",
      " Albrecht Dürer Adam and Eve, 1507\n",
      " Raphael, Portrait of a Cardinal, c. 1510–11\n",
      " Tintoretto, Christ Washing the Disciples' Feet, c. 1518\n",
      " Correggio, Noli me tangere, c. 1525\n",
      " Titian, Bacchanal of the Andrians, c. 1523–1526\n",
      " Titian, Equestrian Portrait of Charles V, c. 1548\n",
      " Titian, The Fall of Man, c. 1570\n",
      " El Greco, The Holy Trinity, 1577–1579\n",
      " El Greco, The Knight with His Hand on His Breast, c. 1580\n",
      " Paolo Veronese, Venus and Adonis, c. 1580\n",
      " Caravaggio, David and Goliath, 1600\n",
      " Georges de La Tour, Ciego tocando la zanfonía, 1610–1630\n",
      " Guido Reni, Hipómenes y Atalanta, 1618–19\n",
      " Nicolas Poussin, Parnassus, c. 1630–31\n",
      " Rembrandt, Artemisia, c. 1634\n",
      " Anthony van Dyck, Self-portrait with Endymion Porter, c. 1635\n",
      " Diego Velázquez, The Surrender of Breda, 1634–35\n",
      " Diego Velázquez, Mars Resting, 1639–1641\n",
      " José de Ribera, Jacob's dream, 1639\n",
      " Peter Paul Rubens, The Judgement of Paris, 1638–39\n",
      " Claude Lorrain El embarque de santa Paula, 1639–40\n",
      " Francisco de Zurbarán, Agnus Dei, 1635–1640\n",
      " Bartolomé Esteban Murillo, La Inmaculada de Soult, 1678\n",
      " Giovanni Battista Tiepolo, The Immaculate Conception, 1767\n",
      " Francisco Goya, The Third of May 1808, 1814\n",
      " Francisco Goya, The Dog, 1819–1823\n",
      " Francisco Goya, Saturn Devouring His Son, 1819–1823\n",
      " In 2009, the Prado Museum selected 14 of its most important paintings to be displayed in Google Earth and Google Maps at extremely high resolution, with the largest displayed at 14,000 megapixels. The images' zoom capability allows for close-up views of paint texture and fine detail.\n",
      " On November 19, 2019, Google celebrated the 200th anniversary of Museo del Prado with a Google Doodle.\n",
      "\n"
     ]
    },
    {
     "name": "stdout",
     "output_type": "stream",
     "text": [
      "\n",
      " The National Gallery is an art museum in Trafalgar Square in the City of Westminster, in Central London. Founded in 1824, it houses a collection of over 2,300 paintings dating from the mid-13th century to 1900.[note 1]\n",
      " The Gallery is an exempt charity, and a non-departmental public body of the Department for Digital, Culture, Media and Sport. Its collection belongs to the government on behalf of the British public, and entry to the main collection is free of charge. It is among the most visited art museums in the world, after the Louvre, the British Museum, and the Metropolitan Museum of Art.\n",
      " Unlike comparable museums in continental Europe, the National Gallery was not formed by nationalising an existing royal or princely art collection. It came into being when the British government bought 38 paintings from the heirs of John Julius Angerstein in 1824. After that initial purchase the Gallery was shaped mainly by its early directors, notably Sir Charles Lock Eastlake, and by private donations, which today account for two-thirds of the collection. The collection is small compared with many European national galleries, but encyclopaedic in scope; most major developments in Western painting \"from Giotto to Cézanne\" are represented with important works. It used to be claimed that this was one of the few national galleries that had all its works on permanent exhibition, but this is no longer the case.\n",
      " The present building, the third to house the National Gallery, was designed by William Wilkins from 1832 to 1838. Only the façade onto Trafalgar Square remains essentially unchanged from this time, as the building has been expanded piecemeal throughout its history. Wilkins's building was often criticised for the perceived weaknesses of its design and for its lack of space; the latter problem led to the establishment of the Tate Gallery for British art in 1897.\n",
      " The Sainsbury Wing, a 1991 extension to the west by Robert Venturi and Denise Scott Brown, is a notable example of Postmodernist architecture in Britain. The current Director of the National Gallery is Gabriele Finaldi.\n",
      " The late 18th century saw the nationalisation of royal or princely art collections across mainland Europe. The Bavarian royal collection (now in the Alte Pinakothek, Munich) opened to the public in 1779, that of the Medici in Florence around 1789 (as the Uffizi Gallery), and the Museum Français at the Louvre was formed out of the former French royal collection in 1793. Great Britain, however, did not emulate the continental model, and the British Royal Collection remains in the sovereign's possession today. In 1777 the British government had the opportunity to buy an art collection of international stature, when the descendants of Sir Robert Walpole put his collection up for sale. The MP John Wilkes argued for the government to buy this \"invaluable treasure\" and suggested that it be housed in \"a noble gallery... to be built in the spacious garden of the British Museum\" Nothing came of Wilkes's appeal and 20 years later the collection was bought in its entirety by Catherine the Great; it is now to be found in the State Hermitage Museum in St Petersburg.\n",
      " A plan to acquire 150 paintings from the Orléans collection, which had been brought to London for sale in 1798, also failed, despite the interest of both the King and the Prime Minister, Pitt the Younger. The twenty-five paintings from that collection now in the Gallery, including \"NG1\", arrived later by a variety of routes. In 1799 the dealer Noel Desenfans offered a ready-made national collection to the British government; he and his partner Sir Francis Bourgeois had assembled it for the king of Poland, before the Third Partition in 1795 abolished Polish independence. This offer was declined and Bourgeois bequeathed the collection to his old school, Dulwich College, on his death. The collection opened in 1814 in Britain's first purpose-built public gallery, the Dulwich Picture Gallery. The Scottish dealer William Buchanan and the collector Joseph Count Truchsess, both formed art collections expressly as the basis for a future national collection, but their respective offers (both made in 1803) were also declined.\n",
      " Following the Walpole sale many artists, including James Barry and John Flaxman, had made renewed calls for the establishment of a National Gallery, arguing that a British school of painting could only flourish if it had access to the canon of European painting. The British Institution, founded in 1805 by a group of aristocratic connoisseurs, attempted to address this situation. The members lent works to exhibitions that changed annually, while an art school was held in the summer months. However, as the paintings that were lent were often mediocre, some artists resented the Institution and saw it as a racket for the gentry to increase the sale prices of their Old Master paintings. One of the Institution's founding members, Sir George Beaumont, Bt, would eventually play a major role in the National Gallery's foundation by offering a gift of 16 paintings.\n",
      " In 1823 another major art collection came on the market, which had been assembled by the recently deceased John Julius Angerstein. Angerstein was a Russian-born émigré banker based in London; his collection numbered 38 paintings, including works by Raphael and Hogarth's Marriage à-la-mode series. On 1 July 1823 George Agar Ellis, a Whig politician, proposed to the House of Commons that it purchase the collection. The appeal was given added impetus by Beaumont's offer, which came with two conditions: that the government buy Angerstein's collection, and that a suitable building was to be found. The unexpected repayment of a war debt by Austria finally moved the government to buy Angerstein's collection, for £57,000.\n",
      " The National Gallery opened to the public on 10 May 1824, housed in Angerstein's former townhouse at No. 100 Pall Mall. Angerstein's paintings were joined in 1826 by those from Beaumont's collection, and in 1831 by the Reverend William Holwell Carr's bequest of 35 paintings. Initially the Keeper of Paintings, William Seguier, bore the burden of managing the Gallery, but in July 1824 some of this responsibility fell to the newly formed board of trustees.\n",
      " The National Gallery at Pall Mall was frequently overcrowded and hot and its diminutive size in comparison with the Louvre in Paris was a cause of national embarrassment. But Agar Ellis, by then a trustee of the Gallery, appraised the site for being \"in the very gangway of London\"; this was seen as necessary for the Gallery to fulfil its social purpose. Subsidence in No. 100 caused the Gallery to move briefly to No. 105 Pall Mall, which the novelist Anthony Trollope described as a \"dingy, dull, narrow house, ill-adapted for the exhibition of the treasures it held\". This in turn had to be demolished for the opening of a road to Carlton House Terrace.\n",
      " In 1832 construction began on a new building by William Wilkins on the site of the King's Mews in Charing Cross, in an area that had been transformed over the 1820s into Trafalgar Square. The location was a significant one, between the wealthy West End and poorer areas to the east. The argument that the collection could be accessed by people of all social classes outstripped other concerns, such as the pollution of central London or the failings of Wilkins's building, when the prospect of a move to South Kensington was mooted in the 1850s. According to the Parliamentary Commission of 1857, \"The existence of the pictures is not the end purpose of the collection, but the means only to give the people an ennobling enjoyment\".\n",
      " From 1837 until 1868 the Royal Academy was housed in the east wing of the building.\n",
      " 15th- and 16th-century Italian paintings were at the core of the National Gallery and for the first 30 years of its existence the Trustees' independent acquisitions were mainly limited to works by High Renaissance masters. Their conservative tastes resulted in several missed opportunities and the management of the Gallery later fell into complete disarray, with no acquisitions being made between 1847 and 1850. A critical House of Commons report in 1851 called for the appointment of a director, whose authority would surpass that of the trustees. Many thought the position would go to the German art historian Gustav Friedrich Waagen, whom the Gallery had consulted on previous occasions about the lighting and display of the collections. However, the man preferred for the job by Queen Victoria, Prince Albert and the Prime Minister, Lord Russell, was the Keeper of Paintings at the Gallery, Sir Charles Lock Eastlake. Eastlake, who was President of the Royal Academy, played an essential role in the foundation of the Arundel Society and knew most of London's leading art experts.\n",
      " The new director's taste was for the Northern and Early Italian Renaissance masters or \"primitives\", who had been neglected by the Gallery's acquisitions policy but were slowly gaining recognition from connoisseurs. He made annual tours to the continent and to Italy in particular, seeking out appropriate paintings to buy for the Gallery. In all, he bought 148 pictures abroad and 46 in Britain, among the former such seminal works as Paolo Uccello’s Battle of San Romano. Eastlake also amassed a private art collection during this period, consisting of paintings that he knew did not interest the trustees. His ultimate aim, however, was for them to enter the National Gallery; this was duly arranged upon his death by his friend and successor as director, William Boxall, and his widow Lady Eastlake.\n",
      " The Gallery's lack of space remained acute in this period. In 1845 a large bequest of British paintings was made by Robert Vernon; there was insufficient room in the Wilkins building so they were displayed first in Vernon's town house at No. 50 Pall Mall and then at Marlborough House. The Gallery was even less well equipped for its next major bequest, as J. M. W. Turner was to bequeath the entire contents of his studio, excepting unfinished works, to the nation upon his death in 1851. The first 20 of these were displayed off-site in Marlborough House in 1856. Ralph Nicholson Wornum, the Gallery's Keeper and Secretary, worked with John Ruskin to bring the bequest together. The stipulation in Turner's will that two of his paintings be displayed alongside works by Claude is still honoured in Room 15 of the Gallery, but his bequest has never been adequately displayed in its entirety; today the works are divided between Trafalgar Square and the Clore Gallery, a small purpose-built extension to Tate Britain completed in 1985.\n",
      " The third director, Sir Frederick William Burton, laid the foundations of the collection of 18th-century art and made several outstanding purchases from English private collections. The acquisition in 1885 of two paintings from Blenheim Palace, Raphael's Ansidei Madonna and Van Dyck's Equestrian Portrait of Charles I, with a record-setting grant of £87,500 from the Treasury, brought the Gallery's \"golden age of collecting\" to an end, as its annual purchase grant was suspended for several years thereafter. When the Gallery purchased Holbein's Ambassadors from the Earl of Radnor in 1890, it did so with the aid of private individuals for the first time in its history. In 1897 the formation of the National Gallery of British Art, known unofficially from early in its history as the Tate Gallery, allowed some British works to be moved off-site, following the precedent set by the Vernon collection and the Turner Bequest. Works by artists born after 1790 were moved to the new gallery on Millbank, which allowed Hogarth, Turner and Constable to remain in Trafalgar Square.\n",
      " The agricultural crisis at the turn of the 20th century caused many aristocratic families to sell their paintings, but the British national collections were priced out of the market by American plutocrats. This prompted the foundation of the National Art Collections Fund, a society of subscribers dedicated to stemming the flow of artworks to the United States. Their first acquisition for the National Gallery was Velázquez's Rokeby Venus in 1906, followed by Holbein's Portrait of Christina of Denmark in 1909. However, despite the crisis in aristocratic fortunes, the following decade was one of several great bequests from private collectors. In 1909 the industrialist Dr Ludwig Mond gave 42 Italian renaissance paintings, including the Mond Crucifixion by Raphael, to the Gallery. Other bequests of note were those of George Salting in 1910, Austen Henry Layard in 1916 and Sir Hugh Lane in 1917; the last of these was one of the Gallery's more controversial bequests.\n",
      " In a rare example of the political protest for which Trafalgar Square is famous occurring in the National Gallery, the Rokeby Venus was damaged on 10 March 1914 by Mary Richardson, a campaigner for women's suffrage, in protest against the arrest of Emmeline Pankhurst the previous day. Later that month another suffragette attacked five Bellinis, causing the Gallery to close until the start of the First World War, when the Women's Social and Political Union called for an end to violent acts drawing attention to their plight.\n",
      " The reception of Impressionist art at the Gallery got off to an exceptionally stormy start. In 1906, Sir Hugh Lane promised 39 paintings, including Renoir's Umbrellas, to the National Gallery on his death, unless a suitable building could be built in Dublin. Although eagerly accepted by the director Charles Holroyd, they were received with extreme hostility by the Trustees; Lord Redesdale wrote that \"I would as soon expect to hear of a Mormon service being conducted in St. Paul's Cathedral as to see the exhibition of the works of the modern French Art-rebels in the sacred precincts of Trafalgar Square\". Perhaps as a result of such attitudes, Lane amended his will with a codicil that the works should only go to Ireland, but crucially this was never witnessed. Lane died on board the RMS Lusitania in 1915, and a dispute began which was not resolved until 1959. Part of the collection is now on permanent loan to Dublin City Gallery (\"The Hugh Lane\") and other works rotate between London and Dublin every few years.\n",
      " A fund for the purchase of modern paintings established by Samuel Courtauld in 1923 bought Seurat's Bathers at Asnières and other notable modern works for the nation; in 1934 these transferred to the National Gallery from the Tate.\n",
      " Shortly before the outbreak of World War II the paintings were evacuated to various locations in Wales, including Penrhyn Castle, the university colleges of Bangor and Aberystwyth. In 1940, during the Battle of France, a more secure home was sought, and there were discussions about moving the paintings to Canada. This idea was firmly rejected by Winston Churchill, who wrote in a telegram to the director Kenneth Clark, \"bury them in caves or in cellars, but not a picture shall leave these islands\". Instead a slate quarry at Manod, near Blaenau Ffestiniog in North Wales, was requisitioned for the Gallery's use. In the seclusion afforded by the paintings' new location, the Keeper (and future director) Martin Davies began to compile scholarly catalogues on the collection, helped by the fact that the Gallery's library was also stored in the quarry. The move to Manod confirmed the importance of storing paintings at a constant temperature and humidity, something the Gallery's conservators had long suspected but had hitherto been unable to prove. This eventually resulted in the first air-conditioned gallery opening in 1949.\n",
      " For the course of the war Myra Hess, and other musicians, such as Moura Lympany, gave daily lunch-time recitals in the empty building, to raise public morale at a time when every concert hall in London was closed. A number of art exhibitions were held at the Gallery as a complement to the recitals. The first of these was British Painting since Whistler in 1940, organised by Lillian Browse, who also mounted the major joint retrospective Exhibition of Paintings by Sir William Nicholson and Jack B. Yeats held from 1 January – 15 March 1942, which was seen by 10,518 visitors. Exhibitions of work by war artists, including Paul Nash, Henry Moore and Stanley Spencer, were also held; the War Artists' Advisory Committee had been set up by Clark in order \"to keep artists at work on any pretext\". In 1941 a request from an artist to see Rembrandt's Portrait of Margaretha de Geer (a new acquisition) resulted in the \"Picture of the Month\" scheme, in which a single painting was removed from Manod and exhibited to the general public in the National Gallery each month. The art critic Herbert Read, writing that year, called the National Gallery \"a defiant outpost of culture right in the middle of a bombed and shattered metropolis\". The paintings returned to Trafalgar Square in 1945.\n",
      " In the post-war years, acquisitions have become increasingly difficult for the National Gallery as the prices for Old Masters – and even more so for the Impressionists and Post-impressionists – have risen beyond its means. Some of the Gallery's most significant purchases in this period would have been impossible without the major public appeals backing them, including The Virgin and Child with St. Anne and St. John the Baptist by Leonardo da Vinci (bought in 1962) and Titian’s Death of Actaeon (1972). The Gallery's purchase grant from the government was frozen in 1985, but later that year it received an endowment of £50 million from Sir Paul Getty, enabling many major purchases to be made. In April 1985 Lord Sainsbury of Preston Candover and his brothers, the Hon. Simon Sainsbury and Sir Timothy Sainsbury, had made a donation that would enable the construction of the Sainsbury Wing.\n",
      " The directorship of Neil MacGregor saw a major rehang at the Gallery, dispensing with the classification of paintings by national school that had been introduced by Eastlake. The new chronological hang sought to emphasise the interaction between cultures rather than fixed national characteristics, reflecting the change in art historical values since the 19th century. In other respects, however, Victorian tastes were rehabilitated: the building's interiors were no longer considered an embarrassment and were restored, and in 1999 the Gallery accepted a bequest of 26 Italian Baroque paintings from Sir Denis Mahon. Earlier in the 20th century many considered the Baroque to be beyond the pale: in 1945 the Gallery's trustees declined to buy a Guercino from Mahon's collection for £200. The same painting was valued at £4 million in 2003. Mahon's bequest was made on the condition that the Gallery would never deaccession any of its paintings or charge for admission.\n",
      " Since 1989, the gallery has run a scheme that gives a studio to contemporary artists to create work based on the permanent collection. They usually hold the position of associate artist for two years and are given an exhibition in the National Gallery at the end of their tenure.\n",
      " The respective remits of the National and Tate Galleries, which had long been contested by the two institutions, were more clearly defined in 1996. 1900 was established as the cut-off point for paintings in the National Gallery, and in 1997 more than 60 post-1900 paintings from the collection were given to the Tate on a long-term loan, in return for works by Gauguin and others. However, future expansion of the National Gallery may yet see the return of 20th-century paintings to its walls.\n",
      " In the 21st century there have been three large fundraising campaigns at the Gallery: in 2004, to buy Raphael's Madonna of the Pinks, in 2008, for Titian's Diana and Actaeon, and in 2012, Titian's Diana and Callisto. Both Titians were bought in tandem with the National Gallery of Scotland for £95 m. Both of these major works were sold from the famous collection of the Duke of Sutherland. The National Gallery is now largely priced out of the market for Old Master paintings and can only make such acquisitions with the backing of major public appeals; the departing director Charles Saumarez Smith expressed his frustration at this situation in 2007.\n",
      " In 2014 the National Gallery was the subject of a documentary film by Frederick Wiseman. The film shows the gallery administration and staff at work, the conservation laboratory, guided tours and the mounting of exhibitions on Leonardo da Vinci, J. M. W. Turner and Titian in 2011–12.\n",
      "\n",
      " The first suggestion for a National Gallery on Trafalgar Square came from John Nash, who envisaged it on the site of the King's Mews, while a Parthenon-like building for the Royal Academy would occupy the centre of the square. Economic recession prevented this scheme from being built, but a competition for the Mews site was eventually held in 1831, for which Nash submitted a design with C. R. Cockerell as his co-architect. Nash's popularity was waning by this time, however, and the commission was awarded to William Wilkins, who was involved in the selection of the site and submitted some drawings at the last moment. Wilkins had hoped to build a \"Temple of the Arts, nurturing contemporary art through historical example\", but the commission was blighted by parsimony and compromise, and the resulting building was deemed a failure on almost all counts.\n",
      " The site only allowed for the building to be one room deep, as a workhouse and a barracks lay immediately behind.[note 2] To exacerbate matters, there was a public right of way through the site to these buildings, which accounts for the access porticoes on the eastern and western sides of the façade. These had to incorporate columns from the demolished Carlton House and their relative shortness result in an elevation that was deemed excessively low, and a far cry from the commanding focal point that was desired for the northern end of the Square. Also recycled are the sculptures on the façade, originally intended for Nash's Marble Arch but abandoned due to his financial problems.[note 3] The eastern half of the building housed the Royal Academy until 1868, which further diminished the space afforded to the Gallery.\n",
      " The building was the object of public ridicule before it had even been completed, as a version of the design had been leaked to the Literary Gazette in 1833.\n",
      "Two years before completion, its infamous \"pepperpot\" elevation appeared on the frontispiece of Contrasts (1836), an influential tract by the Gothicist A. W. N. Pugin, as an example of the degeneracy of the classical style. Even William IV (in his last recorded utterance) thought the building a \"nasty little pokey hole\", while William Makepeace Thackeray called it \"a little gin shop of a building\". The twentieth-century architectural historian Sir John Summerson echoed these early criticisms when he compared the arrangement of a dome and two diminutive turrets on the roofline to \"the clock and vases on a mantelpiece, only less useful\". Sir Charles Barry's landscaping of Trafalgar Square, from 1840, included a north terrace so that the building would appear to be raised, thus addressing one of the points of complaint. Opinion on the building had mellowed considerably by 1984, when Prince Charles called the Wilkins façade a \"much-loved and elegant friend\", in contrast to a proposed extension. (See below)\n",
      " The elevation onto Trafalgar Square in 2013\n",
      " The piano nobile and ground floor of Wilkins's building, before expansion. Note the passageways behind the east and west porticoes. Areas shaded in pink were used by the Royal Academy until 1868.\n",
      " Plan of the first floor of the National Gallery in 2013\n",
      " The first significant alteration made to the building was the single, long gallery added by Sir James Pennethorne in 1860–61. Ornately decorated in comparison with the rooms by Wilkins, it nonetheless worsened the cramped conditions inside the building as it was built over the original entrance hall. Unsurprisingly, several attempts were made either to completely remodel the National Gallery (as suggested by Sir Charles Barry in 1853), or to move it to more capacious premises in Kensington, where the air was also cleaner. In 1867 Barry's son Edward Middleton Barry proposed to replace the Wilkins building with a massive classical building with four domes. The scheme was a failure and contemporary critics denounced the exterior as \"a strong plagiarism upon St Paul's Cathedral\".\n",
      " With the demolition of the workhouse, however, Barry was able to build the Gallery's first sequence of grand architectural spaces, from 1872 to 1876. Built to a polychrome Neo-Renaissance design, the Barry Rooms were arranged on a Greek cross-plan around a huge central octagon. Though it compensated for the underwhelming architecture of the Wilkins building, Barry's new wing was disliked by Gallery staff, who considered its monumental aspect to be in conflict with its function as exhibition space. Also, the decorative programme of the rooms did not take their intended contents into account; the ceiling of the 15th- and 16th-century Italian gallery, for instance, was inscribed with the names of British artists of the 19th century. However, despite these failures, the Barry Rooms provided the Gallery with a strong axial groundplan; this was to be followed by all subsequent additions to the Gallery for a century, resulting in a building of clear symmetry.\n",
      " Pennethorne's gallery was demolished for the next phase of building, a scheme by Sir John Taylor extending northwards of the main entrance. Its glass-domed entrance vestibule had painted ceiling decorations by the Crace family firm, who had also worked on the Barry Rooms. A fresco intended for the south wall was never realised, and that space is now taken up by Frederic, Lord Leighton’s painting of Cimabue's Celebrated Madonna carried in Procession through the Streets of Florence (1853–1855), lent by the Royal Collection in the 1990s.\n",
      " The Barry Rooms (1872–1876), designed by E. M. Barry\n",
      " The dome of Room 34, the central octagon of the Barry Rooms\n",
      " The Staircase Hall (1884–1887), designed by John Taylor, in a photograph of 2007. Cimabue's Celebrated Madonna by Frederic, Lord Leighton is visible to the left.\n",
      " The dome of the Staircase Hall\n",
      " Later additions to the west came more steadily but maintained the coherence of the building by mirroring Barry's cross-axis plan to the east. The use of dark marble for doorcases was also continued, giving the extensions a degree of internal consistency with the older rooms. The classical style was still in use at the National Gallery in 1929, when a Beaux-Arts style gallery was built, funded by the art dealer and Trustee Lord Duveen. However, it was not long before the 20th-century reaction against Victorian attitudes became manifest at the Gallery. From 1928 to 1952 the landing floors of Taylor's entrance hall were relaid with a new series of mosaics by Boris Anrep, who was friendly with the Bloomsbury Group. These mosaics can be read as a satire on 19th-century conventions for the decoration of public buildings, as typified by the Albert Memorial's Frieze of Parnassus. The central mosaic depicting The Awakening of the Muses includes portraits of Virginia Woolf and Greta Garbo, subverting the high moral tone of its Victorian forebears. In place of Christianity's seven virtues, Anrep offered his own set of Modern Virtues, including \"Humour\" and \"Open Mind\"; the allegorical figures are again portraits of his contemporaries, including Winston Churchill, Bertrand Russell and T. S. Eliot.\n",
      " In the 20th century the Gallery's late Victorian interiors fell out of fashion. The Crace ceiling decorations in the entrance hall were not to the taste of the director Charles Holmes, and were obliterated by white paint.\n",
      "The North Galleries, which opened to the public in 1975, marked the arrival of modernist architecture at the National Gallery. In the older rooms, the original classical details were effaced by partitions, daises and suspended ceilings, the aim being to create neutral settings which did not distract from contemplation of the paintings. But the Gallery's commitment to modernism was short-lived: by the 1980s Victorian style was no longer considered anathema, and a restoration programme began to restore the 19th- and early-20th-century interiors to their purported original appearance. This began with the refurbishment of the Barry Rooms in 1985–6. From 1996 to 1999 even the North Galleries, by then considered to \"lack a positive architectural character\" were remodelled in a classical style, albeit a simplified one.\n",
      " The most important addition to the building in recent years has been the Sainsbury Wing, designed by the postmodernist architects Robert Venturi and Denise Scott Brown to house the collection of Renaissance paintings, and built in 1991. The building occupies the \"Hampton's site\" to the west of the main building, where a department store of the same name had stood until its destruction in the Blitz. The Gallery had long sought expansion into this space[citation needed] and in 1982 a competition was held to find a suitable architect; the shortlist included a radical high-tech proposal by Richard Rogers, among others. The design that won the most votes was by the firm Ahrends, Burton and Koralek, who then modified their proposal to include a tower, similar to that of the Rogers scheme. The proposal was dropped after the Prince of Wales compared the design to a \"monstrous carbuncle on the face of a much-loved and elegant friend\", The term \"monstrous carbuncle\", for a modern building that clashes with its surroundings, has since become commonplace.\n",
      " One of the conditions of the 1982 competition was that the new wing had to include commercial offices as well as public gallery space. However, in 1985 it became possible to devote the extension entirely to the Gallery's uses, due to a donation of almost £50 million from Lord Sainsbury and his brothers Simon and Sir Tim Sainsbury. A closed competition was held, and the schemes produced were noticeably more restrained than in the earlier competition.\n",
      " In contrast with the rich ornamentation of the main building, the galleries in the Sainsbury Wing are pared-down and intimate, to suit the smaller scale of many of the paintings[citation needed]. The main inspirations for these rooms are Sir John Soane's toplit galleries for the Dulwich Picture Gallery and the church interiors of Filippo Brunelleschi (the stone dressing is in pietra serena, the grey stone local to Florence)[citation needed]. The northernmost galleries align with Barry's central axis, so that there is a single vista down the whole length of the Gallery. This axis is exaggerated by the use of false perspective, as the columns flanking each opening gradually diminish in size until the visitor reaches the focal point (as of 2009), an altarpiece by Cima of The Incredulity of St Thomas. Venturi's postmodernist approach to architecture is in full evidence at the Sainsbury Wing, with its stylistic quotations from buildings as disparate as the clubhouses on Pall Mall, the Scala Regia in the Vatican, Victorian warehouses and Ancient Egyptian temples.\n",
      " Following the pedestrianisation of Trafalgar Square, the Gallery is currently engaged in a masterplan to convert the vacated office space on the ground floor into public space. The plan will also fill in disused courtyards and make use of land acquired from the adjoining National Portrait Gallery in St Martin's Place, which it gave to the National Gallery in exchange for land for its 2000 extension. The first phase, the East Wing Project designed by Jeremy Dixon and Edward Jones, opened to the public in 2004. This provided a new ground level entrance from Trafalgar Square, named in honour of Sir Paul Getty. The main entrance was also refurbished, and reopened in September 2005. Possible future projects include a \"West Wing Project\" roughly symmetrical with the East Wing Project, which would provide a future ground level entrance, and the public opening of some small rooms at the far eastern end of the building acquired as part of the swap with the National Portrait Gallery. This might include a new public staircase in the bow on the eastern façade. No timetable has been announced for these additional projects.\n",
      " One of the most persistent criticisms of the National Gallery, apart from those who criticise inadequacies of the building, has been of its conservation policy. The Gallery's detractors accused it of having had an over-zealous approach to restoration. The first cleaning operation at the National Gallery began in 1844 after Eastlake's appointment as Keeper, and was the subject of attacks in the press after the first three paintings to receive the treatment – a Rubens, a Cuyp and a Velázquez – were unveiled to the public in 1846. The Gallery's most virulent critic was J. Morris Moore, who wrote a series of letters to The Times under the pseudonym \"Verax\" savaging the institution's cleanings. While an 1853 Parliamentary Select committee set up to investigate the matter cleared the Gallery of any wrongdoing, criticism of its methods has been erupting sporadically ever since from some in the art establishment.\n",
      " The last major outcry against the use of radical conservation techniques at the National Gallery was seventy-one years ago in the immediate post-war years, following a restoration campaign by Chief Restorer Helmut Ruhemann while the paintings were in Manod Quarry. When the cleaned pictures were exhibited to the public in 1946 there followed a furore with parallels to that of a century earlier. The principal criticism was that the extensive removal of varnish, which was used in the 19th century to protect the surface of paintings but which darkened and discoloured them with time, may have resulted in the loss of \"harmonising\" glazes added to the paintings by the artists themselves. The opposition to Ruhemann's techniques was led by Ernst Gombrich, a professor at the Warburg Institute who in later correspondence with a restorer described being treated with \"offensive superciliousness\" by the National Gallery. A 1947 commission concluded that no damage had been done in the recent cleanings.\n",
      " The National Gallery has also been criticised for misattributing paintings. Kenneth Clark's decision in 1939 to relabel a group of paintings by anonymous artists of the Venetian school as works by Giorgione (a crowd-pulling artist due to the rarity of his paintings) made him unpopular with his staff. More recently, the attribution of a 17th-century painting of Samson and Delilah (bought in 1980) to Rubens has been contested by a group of art historians, who believe that the National Gallery has not admitted the mistake to avoid embarrassing those who were involved in the purchase, many of whom still work for the Gallery.\n",
      " The National Gallery was sponsored by the Italian arms manufacturer Finmeccanica between October 2011 and October 2012. The sponsorship deal allowed the company to use gallery spaces for gatherings and they used it to host delegates during the DSEI arms fair and the Farnborough international air show. The sponsorship deal was ended a year early after protests.\n",
      " In February 2014, Men of the Docks, by U.S. artist George Bellows, was bought by the National Gallery for $25.5 million (£15.6 million). It was the first major American painting to be purchased by the Gallery. Director Nicholas Penny termed the painting a new direction for the Gallery, a non-European painting in a European style. Its sale was controversial in the U.S.\n",
      " The Gallery was caught in controversy in 2018 over having some of the most expensive exhibition prices ever seen in London.\n",
      " In February 2019 an Employment Tribunal ruled that the Gallery had incorrectly classed its team of educators as self-employed contractors. The educators were awarded 'worker' status following legal action brought by twenty-seven claimants. The case received considerable press and media coverage.\n",
      " \n",
      "\n"
     ]
    },
    {
     "name": "stdout",
     "output_type": "stream",
     "text": [
      "\n",
      " The Rijksmuseum (Dutch: [ˈrɛiksmyˌzeːjʏm] (listen); English: National Museum) is a Dutch national museum dedicated to arts and history in Amsterdam. The museum is located at the Museum Square in the borough Amsterdam South, close to the Van Gogh Museum, the Stedelijk Museum Amsterdam, and the Concertgebouw.\n",
      " The Rijksmuseum was founded in The Hague on 19 November 1798 and moved to Amsterdam in 1808, where it was first located in the Royal Palace and later in the Trippenhuis. The current main building was designed by Pierre Cuypers and first opened in 1885. On 13 April 2013, after a ten-year renovation which cost € 375 million, the main building was reopened by Queen Beatrix. In 2013 and 2014, it was the most visited museum in the Netherlands with record numbers of 2.2 million and 2.47 million visitors. It is also the largest art museum in the country.\n",
      " The museum has on display 8,000 objects of art and history, from their total collection of 1 million objects from the years 1200–2000, among which are some masterpieces by Rembrandt, Frans Hals, and Johannes Vermeer. The museum also has a small Asian collection, which is on display in the Asian pavilion.\n",
      " In 1795, the Batavian Republic was proclaimed. The Minister of Finance Isaac Gogel argued that a national museum, following the French example of  The Louvre, would serve the national interest. On 19 November 1798, the government decided to found the museum.\n",
      " On 31 May 1800, the National Art Gallery (Dutch: Nationale Kunst-Galerij), precursor of the Rijksmuseum, opened in Huis ten Bosch in The Hague. The museum exhibited around 200 paintings and historic objects from the collections of the Dutch stadtholders.\n",
      " In 1805, the National Art Gallery moved within The Hague to the Prince William V Gallery, on the Buitenhof.\n",
      " In 1806, the Kingdom of Holland was established by Napoleon Bonaparte. On the orders of king Louis Bonaparte, brother of Napoleon, the museum moved to Amsterdam in 1808. The paintings owned by that city, such as The Night Watch by Rembrandt, became part of the collection. In 1809, the museum opened in the Royal Palace in Amsterdam.\n",
      " In 1817, the museum moved to the Trippenhuis. The Trippenhuis turned out to be unsuitable as a museum. In 1820, the historical objects were moved to the Mauritshuis in The Hague and in 1838, the 19th-century paintings \"of living masters\" were moved to King Louis Bonaparte's former summer palace Paviljoen Welgelegen in Haarlem.\n",
      "  – Vincent van Gogh in a letter to his brother Theo in 1873. Vincent himself would later become a painter and some of his works would be hanging on the museum.\n",
      " In 1863, there was a design contest for a new building for the Rijksmuseum, but none of the submissions was considered to be of sufficient quality. Pierre Cuypers also participated in the contest and his submission reached the second place.\n",
      " In 1876, a new contest was held and this time Pierre Cuypers won. The design was a combination of gothic and renaissance elements. The construction began on 1 October 1876. On both the inside and the outside, the building was richly decorated with references to Dutch art history. Another contest was held for these decorations. The winners were B. van Hove and J.F. Vermeylen for the sculptures, G. Sturm for the tile tableaus and painting and W.F. Dixon for the stained glass. The museum was opened at its new location on 13 July 1885.[dead link]\n",
      " In 1890, a new building was added a short distance to the south-west of the Rijksmuseum. As the building was made out of fragments of demolished buildings, the building offers an overview of the history of Dutch architecture and has come to be known informally as the 'fragment building'. It is also known as the 'south wing' and is currently (in 2013) branded the Philips Wing.\n",
      " In 1906, the hall for the Night Watch was rebuilt. In the interior more changes were made between the 1920s and 1950s - most multi-coloured wall decorations were painted over. In the 1960s exposition rooms and several floors were built into the two courtyards. The building had some minor renovations and restorations in 1984, 1995–1996 and 2000.\n",
      " A renovation of the south wing of the museum, also known as the 'fragment building' or 'Philips Wing', was completed in 1996, the same year that the museum held its first major photography exhibition featuring its extensive collection of 19th-century photos.\n",
      " In December 2003, the main building of the museum closed for a major renovation. During this renovation, about 400 objects from the collection were on display in the 'fragment building', including Rembrandt's The Night Watch and other 17th-century masterpieces.\n",
      " The restoration and renovation of the Rijksmuseum are based on a design by Spanish architects Antonio Cruz and Antonio Ortiz. Many of the old interior decorations were restored and the floors in the courtyards were removed. The renovation would have initially taken five years, but was delayed and eventually took almost ten years to complete. The renovation cost € 375 million.\n",
      " The reconstruction of the building was completed on 16 July 2012. In March 2013, the museum's main pieces of art were moved back from the 'fragment building' (Philips Wing) to the main building. The Night Watch returned to the Night Watch Room, at the end of the Hall of Fame. On 13 April 2013, the main building was reopened by Queen Beatrix. On 1 November 2014, the Philips Wing reopened with the exhibition Modern Times: Photography in the 20th Century.\n",
      " The building of the Rijksmuseum was designed by Pierre Cuypers and opened in 1885. It consists of two squares with an atrium in each centre. In the central axis is a tunnel with the entrances at ground level and the Gallery of Honour at the first floor. The building also contains a library. The fragment building, branded Philips wing, contains building fragments that show the history of architecture in the Netherlands. The Rijksmuseum is a rijksmonument (national heritage site) since 1970 and was listed in the Top 100 Dutch heritage sites in 1990. The Asian pavilion was designed by Cruz y Ortiz and opened in 2013.\n",
      " According to Muriel Huisman, Project Architect for the Rijksmuseum's renovation, \"Cruz y Ortiz always like to look for synergy between old and new, and we try not to explain things with our architecture.” With the Rijks, “there’s no cut between old and new; we’ve tried to merge it. We did this by looking for materials that were true to the original building, resulting in a kind of silent architecture.\"\n",
      " The Rijksmuseum was located in the Trippenhuis between 1817 and 1885.\n",
      " Drawing of the design by Pierre Cuypers in 1876.\n",
      " Front of Cuypers' building, circa 1895.\n",
      " View of the facade by night.\n",
      " Video of the Rijksmuseum (2016).\n",
      " The collection of the Rijksmuseum consists of 1 million objects and is dedicated to arts, crafts, and history from the years 1200 to 2000. Around 8,000 objects are currently on display in the museum.\n",
      " The collection contains more than 2,000 paintings from the Dutch Golden Age by notable painters such as Jacob van Ruisdael, Frans Hals, Johannes Vermeer, Jan Steen, Rembrandt, and Rembrandt's pupils.\n",
      " The museum also has a small Asian collection which is on display in the Asian pavilion.\n",
      " It also displays the stern of HMS Royal Charles which was captured in the Raid on the Medway, and the Hartog plate.\n",
      " In 2012, the museum took the unusual step of making some 125,000 high-resolution images available for download via its Rijksstudio webplatform, with plans to add another 40,000 images per year until the entire collection of one million works is available, according to Taco Dibbits, director of collections.\n",
      " Portrait of a Young Couple (1622) by Frans Hals\n",
      " Jeremiah Lamenting the Destruction of Jerusalem (1630) by Rembrandt\n",
      " The Meagre Company (1633–37) by Frans Hals and Pieter Codde\n",
      " The Night Watch (1642) by Rembrandt\n",
      " Banquet at the Crossbowmen’s Guild in Celebration of the Treaty of Münster (1648) by Bartholomeus van der Helst\n",
      " The Threatened Swan (c. 1650) by Jan Asselijn\n",
      " The Milkmaid (c. 1657–58) by Johannes Vermeer\n",
      " The Jewish Bride (c. 1667) by Rembrandt\n",
      " Girl in a Blue Dress (1641) by Johannes Cornelisz Verspronck\n",
      " Landscape with Waterfall (1660s) by Jacob van Ruisdael\n",
      " Shivaji's portrait (1680s) in the Rijksmuseum (1630-80)\n",
      " The 20th-century visitor record of 1,412,000 was reached in the year 1975.\n",
      " In the 1990s and early 2000s, the Rijksmuseum was annually visited by 0.9 to 1.3 million people. On 7 December 2003, the main building of the museum was closed for a renovation until 13 April 2013. In the preceding decade, the number of visitors had slightly decreased to 0.8 to 1.1 million people. The museum says after the renovation, the museum's capacity is 1.5 to 2.0 million visitors annually. Within eight months since the reopening in 2013, the museum was visited by 2 million people.\n",
      " The museum had 2.2 million visitors in 2013 and reached an all-time record of 2.47 million visitors in 2014. The museum was the most visited museum in the Netherlands and the 19th most visited art museum in the world in 2013 and 2014.\n",
      " The Rijksmuseum Research Library is part of the Rijksmuseum, and is the best and the largest public art history research library in The Netherlands.\n",
      " Rijks, stylized as RIJKS®, is a restaurant with 140 seats in the Philips Wing. Joris Bijdendijk has been the chef de cuisine since the opening in 2014. The restaurant was awarded a Michelin star in 2017.\n",
      "\n"
     ]
    },
    {
     "name": "stdout",
     "output_type": "stream",
     "text": [
      "The Vasa Museum (Swedish: Vasamuseet) is a maritime museum in Stockholm, Sweden. Located on the island of Djurgården, the museum displays the only almost fully intact 17th century ship that has ever been salvaged, the 64-gun warship Vasa that sank on her maiden voyage in 1628. The Vasa Museum opened in 1990 and, according to the official web site, is the most visited museum in Scandinavia. Together with other museums such as the Stockholm Maritime Museum, it belongs to the Swedish National Maritime Museums (SNMM).\n",
      " From the beginning of 1961 to 1988, Vasa was housed in a temporary structure called Wasavarvet (\"The Vasa Shipyard\") where she was treated with polyethylene glycol. Visitors could only view the ship from two levels and the maximum distance was only 5 m (17 ft). In 1981, the Swedish government decided that a permanent Vasa museum was to be constructed and a competition for the design of the museum building was organized. A total of 384 architects sent in models of their ideas and the final winners were Marianne Jakobbäck and Göran Månsson with Ask (\"box\"). The construction of the new building began on and around the dry dock of the old naval yard with an inauguration ceremony hosted by Prince Bertil on 2 November 1987. Vasa was towed into the flooded dry dock under the new building in December 1987, and during the summer of 1989, when visitors were allowed onto the construction site, 228,000 people visited the half-finished museum. The museum was officially opened on 15 June 1990. So far, Vasa has been seen by over 25 million people. In 2017, the museum had a total of 1,495,760 visitors.\n",
      " The main hall contains the ship itself, and various exhibits related to the archaeological findings of the ships and early 17th-century Sweden. Vasa has been fitted with the lower sections of all three masts, a new bowsprit, winter rigging, and has had certain parts that were missing or heavily damaged replaced. The replacement parts have not been treated or painted and are therefore clearly visible against the original material that has been darkened after three centuries under water.\n",
      " The new museum is dominated by a large copper roof with stylized masts that represent the actual height of Vasa when she was fully rigged. Parts of the building are covered in wooden panels painted in dark red, blue, tar black, ochre yellow and dark green. The interior is similarly decorated, with large sections of bare, unpainted concrete, including the entire ceiling. Inside the museum the ship can be seen from six levels, from her keel to the very top of the sterncastle. Around the ship are numerous exhibits and models portraying the construction, sinking, location and recovery of the ship. There are also exhibits that expand on the history of Sweden in the 17th century, providing background information for why the ship was built. A movie theatre shows a film in alternating languages on the recovery of the Vasa.\n",
      " The museum is in the process of publishing an 8-volume archaeological report to commemorate the 50th anniversary of the salvage. Vasa I: The Archaeology of a Swedish Warship of 1628 was published at the end of 2006. Subsequent volumes will be published annually.\n",
      " The museum also features four other museum ships moored in the harbour outside: the ice breaker Sankt Erik (launched 1915), the lightvessel Finngrundet (1903), the torpedo boat Spica (1966) and the rescue boat Bernhard Ingelsson (1944).\n",
      " The main hall of the museum with a model of Vasa to the left and the ship itself to the right.\n",
      " The four floating museum ships moored outside the Vasa Museum.\n",
      " Exterior detail.\n",
      " The Warship Vasa, bow side\n",
      " The warship Vasa, aft view\n",
      " Vasa museum Vasamuset Stockholm Sweden\n",
      " Video of the Vasa ship inside the museum\n",
      " Vasa museum Vasamuset\n",
      " Coordinates: 59°19′41″N 18°05′29″E﻿ / ﻿59.32794°N 18.09139°E﻿ / 59.32794; 18.09139\n",
      "\n",
      "The Acropolis Museum (Greek: Μουσείο Ακρόπολης, Mouseio Akropolis) is an archaeological museum focused on the findings of the archaeological site of the Acropolis of Athens. The museum was built to house every artifact found on the rock and on the surrounding slopes, from the Greek Bronze Age to Roman and Byzantine Greece. It also lies over the ruins of a part of Roman and early Byzantine Athens.\n",
      " The museum was founded in 2003, while the Organization of the Museum was established in 2008. It opened to the public on 20 June 2009. More than 4,250 objects are exhibited over an area of 14,000 square metres. The Organization for the Construction of the new museum is chaired by Aristotle University of Thessaloniki Professor Emeritus of Archaeology, Dimitrios Pandermalis.\n",
      " The first museum was on the Acropolis; it was completed in 1874 and underwent a moderate expansion in the 1950s. However, successive excavations on the Acropolis uncovered many new artifacts which significantly exceeded its original capacity.\n",
      " An additional motivation for the construction of a new museum was that in the past, when Greece made requests for the return of the Parthenon Marbles from the United Kingdom, which acquired the items in a controversial manner, it was suggested by some British officials that Greece had no suitable location where they could be displayed. Creation of a gallery for the display of the Parthenon Marbles has been key to all recent proposals for the design of a new museum.\n",
      " The first architectural competition to design a new museum was held in 1976 and was limited to participants from Greece. Both the 1976 competition and one that followed it in 1979 failed to produce any results mainly because the plots of land selected for the proposed constructions were deemed unsuitable.\n",
      " In 1989, a third competition for the design of the new Acropolis Museum was announced that would be international. A choice of three possible sites was provided. This competition was won by the Italian architects, Manfredi Nicoletti and Lucio Passarelli. After delays throughout the 1990s, work on the construction of the museum based on this third design progressed to the stage of excavations for the foundations, but these were stopped due to apparently sensitive archaeological remains on the site, leading to annulment of the competition in 1999.  In retrospect, the location of the new museum was rather straightforward: the large lot of the unused \"Camp Makrygianni\" gendarmerie barracks, opposite the Theater of Dionysus.  The barracks were built on public land and a limited number of expropriations of surrounding private houses were needed to free up the necessary space.  The main building of the old barracks, the neoclassical \"Weiler Building\", has been renovated and houses the Museum of the Center for the Acropolis Studies.\n",
      " The fourth competition had made no provision for the preservation of the ancient site. These were met to a degree only after local and international (ICOMOS) campaigners exposed this oversight and it became the final competition. The new plans were adjusted so that the building was elevated above ground, on pillars. Competition was open only to architectural practices by invitation and it was won by New York–based architect, Bernard Tschumi, in collaboration with the Greek architect Michael Photiadis.  Excavation has revealed two layers of modest, private roadside houses and workshops, one from the early Byzantine era and another from the classical era.  Once the layout and stratigraphy of the findings were established, suitable locations for the foundation pillars were identified.  These traverse the soil to the underlying bedrock and float on roller bearings able to withstand a Richter scale magnitude 10 earthquake.\n",
      " As construction work neared completion, the operation to move the historic artifacts the 280-meter (310 yd) distance from the Acropolis rock to the new museum started in October 2007, took four months, and required the use of three tower cranes to move the sculptures across the distance without mishap. Greek officials expressed their hope that the new museum will help in the campaign for the return of the Parthenon Marbles.\n",
      " The museum is located by the southeastern slope of the Acropolis hill, on the ancient road that led up to the \"sacred rock\" in classical times. Set only 280 meters (310 yd),  away from the Parthenon, and a mere 400 meters (440 yd) walking distance from it, the museum is the largest modern building erected so close to the ancient site,[citation needed] although many other buildings from the last 150 years are located closer to the Acropolis. The entrance to the building is on Dionysiou Areopagitou Street and directly adjacent to the Akropoli metro station the red line of the Athens Metro.\n",
      " The design by Bernard Tschumi was selected as the winning project in the fourth competition. Tschumi's design revolves around three concepts: light, movement, and a tectonic and programmatic element. Together these characteristics \"turn the constraints of the site into an architectural opportunity, offering a simple and precise museum\" with the mathematical and conceptual clarity of ancient Greek buildings.\n",
      " The collections of the museum are exhibited on three levels while a fourth middle level houses the auxiliary spaces such as the museum shop, the café and the offices. On the first level of the museum there are the findings of the slopes of the Acropolis. The long and rectangular hall whose floor is sloping, resembles the ascension to the rock. Then, the visitor is found at the large trapezoidal hall which accommodates the archaic findings. On the same floor there are also the artifacts and sculptures from the other Acropolis buildings such as the Erechtheum, the Temple of Athena Nike and the Propylaea and findings from Roman and early Christian Athens. Visitors are intended to see the latter during descent in order to keep the chronological order: they will first be directed to the top level, which displays the Parthenon marbles.\n",
      " The top level of the Museum sits askew on the lower levels to achieve the same cardinal orientation of the ancient temple on the Acropolis.  The spacing of the columns of the Parthenon hall is the same as that of the ancient temple, and the use of glass walls on all four exterior walls allows the natural light to illumine the Parthenon marbles as they do on the ancient temple.  The 48 columns in the Parthenon hall mark the outline of the ancient temple and form a colonnade for the display of the Parthenon marbles. For ease of viewing, the pediment marbles are displayed at eye level in front of the end columns; the metopes are displayed on the columns, two per column, but not as high as in the ancient temple; and the frieze are displayed behind the metopes, forming a continuous band around the walls of a rectangular space set inside the columns, as in the ancient temple but not as high, again for ease of viewing.  From the north side of the Parthenon hall, one can see the ancient temple above on the Acropolis.\n",
      " As the museum is built over an extensive archaeological site, the floor, outside and inside, is often transparent using glass and thus the visitor can see the excavations below. The museum also provides an amphitheatre, a virtual theatre and a hall for temporary exhibitions.\n",
      " A controversy erupted over the plans of the new museum and whether it was appropriate to build it on the archaeological site in Makrygianni neighborhood. Another concern was whether a large modern building would fit well into the landscape.\n",
      " In 2007, another controversy erupted over the proposed demolition of two historic buildings. These are in front of the museum, numbers 17 and 19, Dionysiou Areopagitou Street, facing the Acropolis (see picture, left).  Bernard Tschumi has been showing photographic images of the space in front of the museum edited to remove the two buildings and nearby four-story-tall trees. The Greek Government has had the two buildings de-listed historically  although one is Neo-Classical and the other an example of Art Deco architecture. Protests against the proposed demolition came from international agencies such as INTBAU and ICOMOS.\n",
      " Horse (6th BC)\n",
      " Moschophoros (560 BC)\n",
      " Peplos Kore (c.530 BC)\n",
      " Acropolis Kore (510 BC)\n",
      " Detail of a Kore (530-520 BC)\n",
      " Kritios boy (c.480 BC)\n",
      " Caryatids of Erechtheum\n",
      " Goddess Nike (1st to 3rd century AD)\n",
      " Bust of Tiberius Julius Sauromates II\n",
      " Archaeological site below the main entrance to the museum\n",
      "\n"
     ]
    },
    {
     "name": "stdout",
     "output_type": "stream",
     "text": [
      "\n",
      " The British Museum, in the Bloomsbury area of London, United Kingdom, is a public institution dedicated to human history, art and culture. Its permanent collection of some eight million works is among the largest and most comprehensive in existence, having been widely sourced during the era of the British Empire. It documents the story of human culture from its beginnings to the present.[a] It was the first public national museum in the world.\n",
      " The British Museum was established in 1753, largely based on the collections of the Irish physician and scientist Sir Hans Sloane. It first opened to the public in 1759, in Montagu House, on the site of the current building. Its expansion over the following 250 years was largely a result of expanding British colonisation and has resulted in the creation of several branch institutions, the first being the Natural History Museum in 1881.\n",
      " In 1973, the British Library Act 1972 detached the library department from the British Museum, but it continued to host the now separated British Library in the same Reading Room and building as the museum until 1997. The museum is a non-departmental public body sponsored by the Department for Digital, Culture, Media and Sport, and as with all national museums in the UK it charges no admission fee, except for loan exhibitions.\n",
      " Its ownership of some of its most famous objects originating in other countries is disputed and remains the subject of international controversy, most notably in the case of the Parthenon Marbles.\n",
      " Although today principally a museum of cultural art objects and antiquities, the British Museum was founded as a \"universal museum\". Its foundations lie in the will of the Irish physician and naturalist Sir Hans Sloane (1660–1753), a London-based doctor and scientist from Ulster. During the course of his lifetime, and particularly after he married the widow of a wealthy Jamaican planter, Sloane gathered a large collection of curiosities and, not wishing to see his collection broken up after death, he bequeathed it to King George II, for the nation, for a sum of £20,000.\n",
      " At that time, Sloane's collection consisted of around 71,000 objects of all kinds including some 40,000 printed books, 7,000 manuscripts, extensive natural history specimens including 337 volumes of dried plants, prints and drawings including those by Albrecht Dürer and antiquities from Sudan, Egypt, Greece, Rome, the Ancient Near and Far East and the Americas.\n",
      " On 7 June 1753, King George II gave his Royal Assent to the Act of Parliament which established the British Museum.[b] The British Museum Act 1753 also added two other libraries to the Sloane collection, namely the Cottonian Library, assembled by Sir Robert Cotton, dating back to Elizabethan times, and the Harleian Library, the collection of the Earls of Oxford. They were joined in 1757 by the \"Old Royal Library\", now the Royal manuscripts, assembled by various British monarchs. Together these four \"foundation collections\" included many of the most treasured books now in the British Library including the Lindisfarne Gospels and the sole surviving manuscript of Beowulf.[c]\n",
      " The British Museum was the first of a new kind of museum – national, belonging to neither church nor king, freely open to the public and aiming to collect everything. Sloane's collection, while including a vast miscellany of objects, tended to reflect his scientific interests. The addition of the Cotton and Harley manuscripts introduced a literary and antiquarian element and meant that the British Museum now became both National Museum and library.\n",
      " The body of trustees decided on a converted 17th-century mansion, Montagu House, as a location for the museum, which it bought from the Montagu family for £20,000. The trustees rejected Buckingham House, on the site now occupied by Buckingham Palace, on the grounds of cost and the unsuitability of its location.[d]\n",
      " With the acquisition of Montagu House, the first exhibition galleries and reading room for scholars opened on 15 January 1759. At this time, the largest parts of collection were the library, which took up the majority of the rooms on the ground floor of Montagu House and the natural history objects, which took up an entire wing on the second state storey of the building. In 1763, the trustees of the British Museum, under the influence of Peter Collinson and William Watson, employed the former student of Carl Linnaeus, Daniel Solander to reclassify the natural history collection according to the Linnaean system, thereby making the Museum a public centre of learning accessible to the full range of European natural historians. In 1823, King George IV gave the King's Library assembled by George III, and Parliament gave the right to a copy of every book published in the country, thereby ensuring that the museum's library would expand indefinitely. During the few years after its foundation the British Museum received several further gifts, including the Thomason Collection of Civil War Tracts and David Garrick's library of 1,000 printed plays. The predominance of natural history, books and manuscripts began to lessen when in 1772 the museum acquired for £8,410 its first significant antiquities in Sir William Hamilton's \"first\" collection of Greek vases.\n",
      " From 1778, a display of objects from the South Seas brought back from the round-the-world voyages of Captain James Cook and the travels of other explorers fascinated visitors with a glimpse of previously unknown lands. The bequest of a collection of books, engraved gems, coins, prints and drawings by Clayton Mordaunt Cracherode in 1800 did much to raise the museum's reputation; but Montagu House became increasingly crowded and decrepit and it was apparent that it would be unable to cope with further expansion.\n",
      " The museum's first notable addition towards its collection of antiquities, since its foundation, was by Sir William Hamilton (1730–1803), British Ambassador to Naples, who sold his collection of Greek and Roman artefacts to the museum in 1784 together with a number of other antiquities and natural history specimens. A list of donations to the museum, dated 31 January 1784, refers to the Hamilton bequest of a \"Colossal Foot of an Apollo in Marble\". It was one of two antiquities of Hamilton's collection drawn for him by Francesco Progenie, a pupil of Pietro Fabris, who also contributed a number of drawings of Mount Vesuvius sent by Hamilton to the Royal Society in London.\n",
      " In the early 19th century the foundations for the extensive collection of sculpture began to be laid and Greek, Roman and Egyptian artefacts dominated the antiquities displays. After the defeat of the French campaign in the Battle of the Nile, in 1801, the British Museum acquired more Egyptian sculptures and in 1802 King George III presented the Rosetta Stone – key to the deciphering of hieroglyphs. Gifts and purchases from Henry Salt, British consul general in Egypt, beginning with the Colossal bust of Ramesses II in 1818, laid the foundations of the collection of Egyptian Monumental Sculpture. Many Greek sculptures followed, notably the first purpose-built exhibition space, the Charles Towneley collection, much of it Roman Sculpture, in 1805. In 1806, Thomas Bruce, 7th Earl of Elgin, ambassador to the Ottoman Empire from 1799 to 1803 removed the large collection of marble sculptures from the Parthenon, on the Acropolis in Athens and transferred them to the UK. In 1816 these masterpieces of western art, were acquired by The British Museum by Act of Parliament and deposited in the museum thereafter. The collections were supplemented by the Bassae frieze from Phigaleia, Greece in 1815. The Ancient Near Eastern collection also had its beginnings in 1825 with the purchase of Assyrian and Babylonian antiquities from the widow of Claudius James Rich.\n",
      " In 1802 a buildings committee was set up to plan for expansion of the museum, and further highlighted by the donation in 1822 of the King's Library, personal library of King George III's, comprising 65,000 volumes, 19,000 pamphlets, maps, charts and topographical drawings. The neoclassical architect, Sir Robert Smirke, was asked to draw up plans for an eastern extension to the museum \"... for the reception of the Royal Library, and a Picture Gallery over it ...\" and put forward plans for today's quadrangular building, much of which can be seen today. The dilapidated Old Montagu House was demolished and work on the King's Library Gallery began in 1823. The extension, the East Wing, was completed by 1831. However, following the founding of the National Gallery, London in 1824,[e] the proposed Picture Gallery was no longer needed, and the space on the upper floor was given over to the Natural history collections.\n",
      " The museum became a construction site as Sir Robert Smirke's grand neo-classical building gradually arose. The King's Library, on the ground floor of the East Wing, was handed over in 1827, and was described as one of the finest rooms in London. Although it was not fully open to the general public until 1857, special openings were arranged during The Great Exhibition of 1851. In spite of dirt and disruption the collections grew, outpacing the new building.[citation needed]\n",
      " In 1840, the museum became involved in its first overseas excavations, Charles Fellows's expedition to Xanthos, in Asia Minor, whence came remains of the tombs of the rulers of ancient Lycia, among them the Nereid and Payava monuments. In 1857, Charles Newton was to discover the 4th-century BC Mausoleum of Halikarnassos, one of the Seven Wonders of the Ancient World. In the 1840s and 1850s the museum supported excavations in Assyria by A.H. Layard and others at sites such as Nimrud and Nineveh. Of particular interest to curators was the eventual discovery of Ashurbanipal's great library of cuneiform tablets, which helped to make the museum a focus for Assyrian studies.\n",
      " Sir Thomas Grenville (1755–1846), a trustee of the British Museum from 1830, assembled a library of 20,240 volumes, which he left to the museum in his will. The books arrived in January 1847 in twenty-one horse-drawn vans. The only vacant space for this large library was a room originally intended for manuscripts, between the Front Entrance Hall and the Manuscript Saloon. The books remained here until the British Library moved to St Pancras in 1998.\n",
      " The opening of the forecourt in 1852 marked the completion of Robert Smirke's 1823 plan, but already adjustments were having to be made to cope with the unforeseen growth of the collections. Infill galleries were constructed for Assyrian sculptures and Sydney Smirke's Round Reading Room, with space for a million books, opened in 1857. Because of continued pressure on space the decision was taken to move natural history to a new building in South Kensington, which would later become the British Museum of Natural History.\n",
      " Roughly contemporary with the construction of the new building was the career of a man sometimes called the \"second founder\" of the British Museum, the Italian librarian Anthony Panizzi. Under his supervision, the British Museum Library (now part of the British Library) quintupled in size and became a well-organised institution worthy of being called a national library, the largest library in the world after the National Library of Paris. The quadrangle at the centre of Smirke's design proved to be a waste of valuable space and was filled at Panizzi's request by a circular Reading Room of cast iron, designed by Smirke's brother, Sydney Smirke.\n",
      " Until the mid-19th century, the museum's collections were relatively circumscribed but, in 1851, with the appointment to the staff of Augustus Wollaston Franks to curate the collections, the museum began for the first time to collect British and European medieval antiquities, prehistory, branching out into Asia and diversifying its holdings of ethnography. A real coup for the museum was the purchase in 1867, over French objections, of the Duke of Blacas's wide-ranging and valuable collection of antiquities. Overseas excavations continued and John Turtle Wood discovered the remains of the 4th century BC Temple of Artemis at Ephesos, another Wonder of the Ancient World.\n",
      " The natural history collections were an integral part of the British Museum until their removal to the new British Museum of Natural History in 1887, nowadays the Natural History Museum. With the departure and the completion of the new White Wing (fronting Montague Street) in 1884, more space was available for antiquities and ethnography and the library could further expand. This was a time of innovation as electric lighting was introduced in the Reading Room and exhibition galleries.\n",
      " The William Burges collection of armoury was bequeathed to the museum in 1881. In 1882, the museum was involved in the establishment of the independent Egypt Exploration Fund (now Society) the first British body to carry out research in Egypt. A bequest from Miss Emma Turner in 1892 financed excavations in Cyprus. In 1897 the death of the great collector and curator, A. W. Franks, was followed by an immense bequest of 3,300 finger rings, 153 drinking vessels, 512 pieces of continental porcelain, 1,500 netsuke, 850 inro, over 30,000 bookplates and miscellaneous items of jewellery and plate, among them the Oxus Treasure.\n",
      " In 1898 Baron Ferdinand de Rothschild bequeathed the Waddesdon Bequest, the glittering contents from his New Smoking Room at Waddesdon Manor. This consisted of almost 300 pieces of objets d'art et de vertu which included exquisite examples of jewellery, plate, enamel, carvings, glass and maiolica, among them the Holy Thorn Reliquary, probably created in the 1390s in Paris for John, Duke of Berry. The collection was in the tradition of a schatzkammer or treasure house such as those formed by the Renaissance princes of Europe. Baron Ferdinand's will was most specific, and failure to observe the terms would make it void, the collection should be\n",
      " placed in a special room to be called the Waddesdon Bequest Room separate and apart from the other contents of the Museum and thenceforth for ever thereafter, keep the same in such room or in some other room to be substituted for it.\n",
      "   These terms are still observed, and the collection occupies room 2a.\n",
      " By the last years of the 19th century, The British Museum's collections had increased to the extent that its building was no longer large enough. In 1895 the trustees purchased the 69 houses surrounding the museum with the intention of demolishing them and building around the west, north and east sides of the museum. The first stage was the construction of the northern wing beginning 1906.\n",
      " All the while, the collections kept growing. Emil Torday collected in Central Africa, Aurel Stein in Central Asia, D.G. Hogarth, Leonard Woolley and T. E. Lawrence excavated at Carchemish. Around this time, the American collector and philanthropist J Pierpont Morgan donated a substantial number of objects to the museum, including William Greenwell's collection of prehistoric artefacts from across Europe which he had purchased for £10,000 in 1908. Morgan had also acquired a major part of Sir John Evans's coin collection, which was later sold to the museum by his son John Pierpont Morgan Junior in 1915. In 1918, because of the threat of wartime bombing, some objects were evacuated via the London Post Office Railway to Holborn, the National Library of Wales (Aberystwyth) and a country house near Malvern. On the return of antiquities from wartime storage in 1919 some objects were found to have deteriorated. A conservation laboratory was set up in May 1920 and became a permanent department in 1931. It is today the oldest in continuous existence. In 1923, the British Museum welcomed over one million visitors.\n",
      " New mezzanine floors were constructed and book stacks rebuilt in an attempt to cope with the flood of books. In 1931, the art dealer Sir Joseph Duveen offered funds to build a gallery for the Parthenon sculptures. Designed by the American architect John Russell Pope, it was completed in 1938. The appearance of the exhibition galleries began to change as dark Victorian reds gave way to modern pastel shades.[f] However, in August 1939, due to the imminence of war and the likelihood of air-raids, the Parthenon Sculptures, along with the museum's most valued collections, were dispersed to secure basements, country houses, Aldwych Underground station, the National Library of Wales and a quarry. The evacuation was timely, for in 1940 the Duveen Gallery was severely damaged by bombing. Meanwhile, prior to the war, the Nazis had sent a researcher to the British Museum for several years with the aim of \"compiling an anti-Semitic history of Anglo-Jewry\". After the war, the museum continued to collect from all countries and all centuries: among the most spectacular additions were the 2600 BC Mesopotamian treasure from Ur, discovered during Leonard Woolley's 1922–34 excavations. Gold, silver and garnet grave goods from the Anglo-Saxon ship burial at Sutton Hoo (1939) and late Roman silver tableware from Mildenhall, Suffolk (1946). The immediate post-war years were taken up with the return of the collections from protection and the restoration of the museum after the Blitz. Work also began on restoring the damaged Duveen Gallery.\n",
      " In 1953, the museum celebrated its bicentenary. Many changes followed: the first full-time in house designer and publications officer were appointed in 1964, the Friends organisation was set up in 1968, an Education Service established in 1970 and publishing house in 1973. In 1963, a new Act of Parliament introduced administrative reforms. It became easier to lend objects, the constitution of the board of trustees changed and the Natural History Museum became fully independent. By 1959 the Coins and Medals office suite, completely destroyed during the war, was rebuilt and re-opened, attention turned towards the gallery work with new tastes in design leading to the remodelling of Robert Smirke's Classical and Near Eastern galleries. In 1962 the Duveen Gallery was finally restored and the Parthenon Sculptures were moved back into it, once again at the heart of the museum.[g]\n",
      " By the 1970s the museum was again expanding. More services for the public were introduced; visitor numbers soared, with the temporary exhibition \"Treasures of Tutankhamun\" in 1972, attracting 1,694,117 visitors, the most successful in British history. In the same year the Act of Parliament establishing the British Library was passed, separating the collection of manuscripts and printed books from the British Museum. This left the museum with antiquities; coins, medals and paper money; prints & drawings; and ethnography. A pressing problem was finding space for additions to the library which now required an extra 1 1⁄4 miles (2.0 km) of shelving each year. The Government suggested a site at St Pancras for the new British Library but the books did not leave the museum until 1997.\n",
      " The departure of the British Library to a new site at St Pancras, finally achieved in 1998, provided the space needed for the books. It also created the opportunity to redevelop the vacant space in Robert Smirke's 19th-century central quadrangle into the Queen Elizabeth II Great Court – the largest covered square in Europe – which opened in 2000. The ethnography collections, which had been housed in the short-lived Museum of Mankind at 6 Burlington Gardens from 1970, were returned to new purpose-built galleries in the museum in 2000.\n",
      " The museum again readjusted its collecting policies as interest in \"modern\" objects: prints, drawings, medals and the decorative arts reawakened. Ethnographical fieldwork was carried out in places as diverse as New Guinea, Madagascar, Romania, Guatemala and Indonesia and there were excavations in the Near East, Egypt, Sudan and the UK. The Weston Gallery of Roman Britain, opened in 1997, displayed a number of recently discovered hoards which demonstrated the richness of what had been considered an unimportant part of the Roman Empire. The museum turned increasingly towards private funds for buildings, acquisitions and other purposes.\n",
      " Today the museum no longer houses collections of natural history, and the books and manuscripts it once held now form part of the independent British Library. The museum nevertheless preserves its universality in its collections of artefacts representing the cultures of the world, ancient and modern. The original 1753 collection has grown to over 13 million objects at the British Museum, 70 million at the Natural History Museum and 150 million at the British Library.\n",
      " The Round Reading Room, which was designed by the architect Sydney Smirke, opened in 1857. For almost 150 years researchers came here to consult the museum's vast library. The Reading Room closed in 1997 when the national library (the British Library) moved to a new building at St Pancras. Today it has been transformed into the Walter and Leonore Annenberg Centre.\n",
      " With the bookstacks in the central courtyard of the museum empty, the demolition for Lord Foster's glass-roofed Great Court could begin. The Great Court, opened in 2000, while undoubtedly improving circulation around the museum, was criticised for having a lack of exhibition space at a time when the museum was in serious financial difficulties and many galleries were closed to the public. At the same time the African collections that had been temporarily housed in 6 Burlington Gardens were given a new gallery in the North Wing funded by the Sainsbury family – with the donation valued at £25 million.\n",
      " As part of its very large website, the museum has the largest online database of objects in the collection of any museum in the world, with 2,000,000 individual object entries, 650,000 of them illustrated, online at the start of 2012. There is also a \"Highlights\" database with longer entries on over 4,000 objects, and several specialised online research catalogues and online journals (all free to access). In 2013 the museum's website received 19.5 millions visits, an increase of 47% from the previous year.\n",
      " In 2013 the museum received a record 6.7 million visitors, an increase of 20% from the previous year. Popular exhibitions including \"Life and Death in Pompeii and Herculaneum\" and \"Ice Age Art\" are credited with helping fuel the increase in visitors. Plans were announced in September 2014 to recreate the entire building along with all exhibits in the video game Minecraft in conjunction with members of the public.\n",
      " The British Museum is a non-departmental public body sponsored by the Department for Digital, Culture, Media and Sport through a three-year funding agreement. Its head is the Director of the British Museum. The British Museum was run from its inception by a 'principal librarian' (when the book collections were still part of the museum), a role that was renamed 'director and principal librarian' in 1898, and 'director' in 1973 (on the separation of the British Library).\n",
      " A board of 25 trustees (with the director as their accounting officer for the purposes of reporting to Government) is responsible for the general management and control of the museum, in accordance with the British Museum Act 1963 and the Museums and Galleries Act 1992. Prior to the 1963 Act, it was chaired by the Archbishop of Canterbury, the Lord Chancellor and the Speaker of the House of Commons. The board was formed on the museum's inception to hold its collections in trust for the nation without actually owning them themselves, and now fulfil a mainly advisory role. Trustee appointments are governed by the regulatory framework set out in the code of practice on public appointments issued by the Office of the Commissioner for Public Appointments.\n",
      " The Greek Revival façade facing Great Russell Street is a characteristic building of Sir Robert Smirke, with 44 columns in the Ionic order 45 ft (14 m) high, closely based on those of the temple of Athena Polias at Priene in Asia Minor. The pediment over the main entrance is decorated by sculptures by Sir Richard Westmacott depicting The Progress of Civilisation, consisting of fifteen allegorical figures, installed in 1852.\n",
      " The construction commenced around the courtyard with the East Wing (The King's Library) in 1823–1828, followed by the North Wing in 1833–1838, which originally housed among other galleries a reading room, now the Wellcome Gallery. Work was also progressing on the northern half of the West Wing (The Egyptian Sculpture Gallery) 1826–1831, with Montagu House demolished in 1842 to make room for the final part of the West Wing, completed in 1846, and the South Wing with its great colonnade, initiated in 1843 and completed in 1847, when the Front Hall and Great Staircase were opened to the public. The museum is faced with Portland stone, but the perimeter walls and other parts of the building were built using Haytor granite from Dartmoor in South Devon, transported via the unique Haytor Granite Tramway.\n",
      " In 1846 Robert Smirke was replaced as the museum's architect by his brother Sydney Smirke, whose major addition was the Round Reading Room 1854–1857; at 140 feet (43 m) in diameter it was then the second widest dome in the world, the Pantheon in Rome being slightly wider.\n",
      " The next major addition was the White Wing 1882–1884 added behind the eastern end of the South Front, the architect being Sir John Taylor.\n",
      " In 1895, Parliament gave the museum trustees a loan of £200,000 to purchase from the Duke of Bedford all 69 houses which backed onto the museum building in the five surrounding streets – Great Russell Street, Montague Street, Montague Place, Bedford Square and Bloomsbury Street. The trustees planned to demolish these houses and to build around the west, north and east sides of the museum new galleries that would completely fill the block on which the museum stands. The architect Sir John James Burnet was petitioned to put forward ambitious long-term plans to extend the building on all three sides. Most of the houses in Montague Place were knocked down a few years after the sale. Of this grand plan only the Edward VII galleries in the centre of the North Front were ever constructed, these were built 1906–14 to the design by J.J. Burnet, and opened by King George V and Queen Mary in 1914. They now house the museum's collections of Prints and Drawings and Oriental Antiquities. There was not enough money to put up more new buildings, and so the houses in the other streets are nearly all still standing.\n",
      " The Duveen Gallery, sited to the west of the Egyptian, Greek & Assyrian sculpture galleries, was designed to house the Elgin Marbles by the American Beaux-Arts architect John Russell Pope. Although completed in 1938, it was hit by a bomb in 1940 and remained semi-derelict for 22 years, before reopening in 1962. Other areas damaged during World War II bombing included: in September 1940 two unexploded bombs hit the Edward VII galleries, the King's Library received a direct hit from a high explosive bomb, incendiaries fell on the dome of the Round Reading Room but did little damage; on the night of 10 to 11 May 1941 several incendiaries fell on the south-west corner of the museum, destroying the book stack and 150,000 books in the courtyard and the galleries around the top of the Great Staircase – this damage was not fully repaired until the early 1960s.\n",
      " The Queen Elizabeth II Great Court is a covered square at the centre of the British Museum designed by the engineers Buro Happold and the architects Foster and Partners. The Great Court opened in December 2000 and is the largest covered square in Europe. The roof is a glass and steel construction, built by an Austrian steelwork company, with 1,656 uniquely shaped panes of glass. At the centre of the Great Court is the Reading Room vacated by the British Library, its functions now moved to St Pancras. The Reading Room is open to any member of the public who wishes to read there.\n",
      " Today, the British Museum has grown to become one of the largest museums in the world, covering an area of over 92,000 m2 (990,000 sq. ft).[failed verification] In addition to 21,600 m2 (232,000 sq. ft) of on-site storage space, and 9,400 m2 (101,000 sq. ft) of external storage space. Altogether the British Museum showcases on public display less than 1% of its entire collection, approximately 50,000 items. There are nearly one hundred galleries open to the public, representing 2 miles (3.2 km) of exhibition space, although the less popular ones have restricted opening times. However, the lack of a large temporary exhibition space has led to the £135 million World Conservation and Exhibition Centre to provide one and to concentrate all the museum's conservation facilities into one Conservation Centre. This project was announced in July 2007, with the architects Rogers Stirk Harbour and Partners. It was granted planning permission in December 2009 and was completed in time for the Viking exhibition in March 2014.\n",
      " Blythe House in West Kensington is used by the museum for off-site storage of small and medium-sized artefacts, and Franks House in East London is used for storage and work on the \"Early Prehistory\" – Palaeolithic and Mesolithic – and some other collections.\n",
      " The British Museum houses the world's largest[h] and most comprehensive collection of Egyptian antiquities (with over 100,000 pieces) outside the Egyptian Museum in Cairo. A collection of immense importance for its range and quality, it includes objects of all periods from virtually every site of importance in Egypt and the Sudan. Together, they illustrate every aspect of the cultures of the Nile Valley (including Nubia), from the Predynastic Neolithic period (c. 10,000 BC) through Coptic (Christian) times (12th century AD), and up to the present day, a time-span over 11,000 years.\n",
      " Egyptian antiquities have formed part of the British Museum collection ever since its foundation in 1753 after receiving 160 Egyptian objects from Sir Hans Sloane. After the defeat of the French forces under Napoleon at the Battle of the Nile in 1801, the Egyptian antiquities collected were confiscated by the British army and presented to the British Museum in 1803. These works, which included the famed Rosetta Stone, were the first important group of large sculptures to be acquired by the museum. Thereafter, the UK appointed Henry Salt as consul in Egypt who amassed a huge collection of antiquities, some of which were assembled and transported with great ingenuity by the famous Italian explorer Giovanni Belzoni. Most of the antiquities Salt collected were purchased by the British Museum and the Musée du Louvre.\n",
      " By 1866 the collection consisted of some 10,000 objects. Antiquities from excavations started to come to the museum in the latter part of the 19th century as a result of the work of the Egypt Exploration Fund under the efforts of E.A. Wallis Budge. Over the years more than 11,000 objects came from this source, including pieces from Amarna, Bubastis and Deir el-Bahari. Other organisations and individuals also excavated and donated objects to the British Museum, including Flinders Petrie's Egypt Research Account and the British School of Archaeology in Egypt, as well as the Oxford University Expedition to Kawa and Faras in Sudan.\n",
      " Active support by the museum for excavations in Egypt continued to result in important acquisitions throughout the 20th century until changes in antiquities laws in Egypt led to the suspension of policies allowing finds to be exported, although divisions still continue in Sudan. The British Museum conducted its own excavations in Egypt where it received divisions of finds, including Asyut (1907), Mostagedda and Matmar (1920s), Ashmunein (1980s) and sites in Sudan such as Soba, Kawa and the Northern Dongola Reach (1990s). The size of the Egyptian collections now stand at over 110,000 objects.\n",
      " In autumn 2001 the eight million objects forming the museum's permanent collection were further expanded by the addition of six million objects from the Wendorf Collection of Egyptian and Sudanese Prehistory. These were donated by Professor Fred Wendorf of Southern Methodist University in Texas, and comprise the entire collection of artefacts and environmental remains from his excavations at Prehistoric sites in the Sahara Desert between 1963 and 1997. Other fieldwork collections have recently come from Dietrich and Rosemarie Klemm (University of Munich) and William Adams (University of Kentucky).\n",
      " The seven permanent Egyptian galleries at the British Museum, which include its largest exhibition space (Room 4, for monumental sculpture), can display only 4% of its Egyptian holdings. The second-floor galleries have a selection of the museum's collection of 140 mummies and coffins, the largest outside Cairo. A high proportion of the collection comes from tombs or contexts associated with the cult of the dead, and it is these pieces, in particular the mummies, that remain among the most eagerly sought-after exhibits by visitors to the museum.\n",
      " Key highlights of the collections include:\n",
      " Predynastic and Early Dynastic period (c. 6000 BC – c. 2690 BC)\n",
      " Old Kingdom (2690–2181 BC)\n",
      " Middle Kingdom (2134–1690 BC)\n",
      " New Kingdom (1549–1069 BC)\n",
      " Third Intermediate Period (1069–664 BC)\n",
      " Late Period (664–332 BC)\n",
      " Ptolemaic dynasty (305–30 BC)\n",
      " Roman Period (30 BC-641 AD)\n",
      " Room 64 - Egyptian grave containing a Gebelein predynastic mummy, late predynastic, 3400 BC\n",
      " Room 4 – Three black granite statues of the pharaoh Senusret III, c. 1850 BC\n",
      " Room 4 – Three black granite statues of the goddess Sakhmet, c. 1400 BC\n",
      " Room 4 – Colossal statue of Amenhotep III, c. 1370 BC\n",
      " Great Court – Colossal quartzite statue of Amenhotep III, c. 1350 BC\n",
      " Room 4 - Limestone statue of a husband and wife, 1300-1250 BC\n",
      " Room 63 - Gilded outer coffins from the tomb of Henutmehyt, Thebes, Egypt, 19th Dynasty, 1250 BC\n",
      " Book of the Dead of Hunefer, sheet 5, 19th Dynasty, 1250 BC\n",
      " Room 4 - Ancient Egyptian bronze statue of a cat from the Late Period, about 664–332 BC\n",
      " Room 4 - Green siltstone head of a Pharaoh, 26th-30th Dynasty, 600-340 BC\n",
      " Great Court - Black siltstone obelisk of King Nectanebo II of Egypt, Thirtieth dynasty, about 350 BC\n",
      " Room 62 - Detail from the mummy case of Artemidorus the Younger, a Greek who had settled in Thebes, Egypt, during Roman times, 100-200 AD\n",
      " The British Museum has one of the world's largest and most comprehensive collections of antiquities from the Classical world, with over 100,000 objects. These mostly range in date from the beginning of the Greek Bronze Age (about 3200 BC) to the establishment of Christianity as the official religion of the Roman Empire, with the Edict of Milan under the reign of the Roman Emperor Constantine I in 313 AD. Archaeology was in its infancy during the nineteenth century and many pioneering individuals began excavating sites across the Classical world, chief among them for the museum were Charles Newton, John Turtle Wood, Robert Murdoch Smith and Charles Fellows.\n",
      " The Greek objects originate from across the Ancient Greek world, from the mainland of Greece and the Aegean Islands, to neighbouring lands in Asia Minor and Egypt in the eastern Mediterranean and as far as the western lands of Magna Graecia that include Sicily and southern Italy. The Cycladic, Minoan and Mycenaean cultures are represented, and the Greek collection includes important sculpture from the Parthenon in Athens, as well as elements of two of the Seven Wonders of the Ancient World, the Mausoleum at Halicarnassus and the Temple of Artemis at Ephesos.\n",
      " Beginning from the early Bronze Age, the department also houses one of the widest-ranging collections of Italic and Etruscan antiquities outside Italy, as well as extensive groups of material from Cyprus and non-Greek colonies in Lycia and Caria on Asia Minor. There is some material from the Roman Republic, but the collection's strength is in its comprehensive array of objects from across the Roman Empire, with the exception of Britain (which is the mainstay of the Department of Prehistory and Europe).\n",
      " The collections of ancient jewellery and bronzes, Greek vases (many from graves in southern Italy that were once part of Sir William Hamilton's and Chevalier Durand's collections), Roman glass including the famous Cameo glass Portland Vase, Roman mosaics from Carthage and Utica in North Africa that were excavated by Nathan Davis, and silver hoards from Roman Gaul (some of which were bequeathed by the philanthropist and museum trustee Richard Payne Knight), are particularly important. Cypriot antiquities are strong too and have benefited from the purchase of Sir Robert Hamilton Lang's collection as well as the bequest of Emma Turner in 1892, which funded many excavations on the island. Roman sculptures (many of which are copies of Greek originals) are particularly well represented by the Townley collection as well as residual sculptures from the famous Farnese collection.\n",
      " Objects from the Department of Greece and Rome are located throughout the museum, although many of the architectural monuments are to be found on the ground floor, with connecting galleries from Gallery 5 to Gallery 23. On the upper floor, there are galleries devoted to smaller material from ancient Italy, Greece, Cyprus and the Roman Empire.\n",
      " Key highlights of the collections include:\n",
      " Parthenon\n",
      " Erechtheion\n",
      " Temple of Athena Nike\n",
      " Temple of Bassae\n",
      " Mausoleum at Halicarnassus\n",
      " Temple of Artemis in Ephesus\n",
      " Knidos in Asia Minor\n",
      " Xanthos in Asia Minor\n",
      " Wider collection\n",
      " Prehistoric Greece and Italy (3300 BC – 8th century BC)\n",
      " Etruscan (8th century BC – 1st century BC)\n",
      " Ancient Greece (8th century BC – 4th century AD)\n",
      " Ancient Rome (1st century BC – 4th century AD)\n",
      " Room 12 – A gold earring from the Aegina Treasure, Greece, 1700-1500 BC\n",
      " Room 18 – Parthenon statuary from the east pediment and Metopes from the south wall, Athens, Greece, 447-438 BC\n",
      " Room 19 – Caryatid and Ionian column from the Erechtheion, Acropolis of Athens, Greece, 420-415 BC\n",
      " Room 20 – Tomb of Payava, Lycia, Turkey, 360 BC\n",
      " Room 21 – Fragmentary horse from the colossal chariot group which topped the podium of the Mausoleum at Halicarnassus, one of the Seven Wonders of the Ancient World, Turkey, c. 350 BC\n",
      " Room 22 - Gold oak wreath with a bee and two cicadas, western Turkey, c. 350-300 BC\n",
      " Room 22 – Column from the Temple of Artemis in Ephesus, one of the Seven Wonders of the Ancient World, Turkey, early 4th century BC\n",
      " Room 22 - Colossal head of Asclepius wearing a metal crown (now lost), from a cult statue on Melos, Greece, 325-300 BC\n",
      " Room 1 - Farnese Hermes in the Enlightenment Gallery, Italy, 1st century AD\n",
      " Room 69 - Roman gladiator helmet from Pompeii, Italy, 1st century AD\n",
      " Room 23 - The famous version of the 'Crouching Venus', Roman, c. 1st century AD\n",
      " Room 22 – Roman marble copy of the famous 'Spinario (Boy with Thorn)', Italy, c. 1st century AD\n",
      " Room 22 – Apollo of Cyrene (holding a lyre), Libya, c. 2nd century AD\n",
      " \n",
      " With a collection numbering some 330,000 works, the British Museum possesses the world's largest and most important collection of Mesopotamian antiquities outside Iraq.  A collection of immense importance, the holdings of Assyrian sculpture, Babylonian and Sumerian antiquities are among the most comprehensive in the world with entire suites of rooms panelled in alabaster Assyrian palace reliefs from Nimrud, Nineveh and Khorsabad.\n",
      " The collections represent the civilisations of the ancient Near East and its adjacent areas. These cover Mesopotamia, Persia, the Arabian Peninsula, Anatolia, the Caucasus, parts of Central Asia, Syria, the Holy Land and Phoenician settlements in the western Mediterranean from the prehistoric period and include objects from the beginning of Islam in the 7th century.\n",
      " The first significant addition of Mesopotamian objects was from the collection of Claudius James Rich in 1825. The collection was later dramatically enlarged by the excavations of A. H. Layard at the Assyrian sites of Nimrud and Nineveh between 1845 and 1851. At Nimrud, Layard discovered the North-West Palace of Ashurnasirpal II, as well as three other palaces and various temples. He later uncovered the Palace of Sennacherib at Nineveh with 'no less than seventy-one halls'. As a result, a large numbers of Lamassu's, palace reliefs, stelae, including the Black Obelisk of Shalmaneser III, were brought to the British Museum.\n",
      " Layard's work was continued by his assistant, Hormuzd Rassam and in 1852–1854 he went on to discover the North Palace of Ashurbanipal at Nineveh with many magnificent reliefs, including the famous Lion Hunt of Ashurbanipal and Lachish reliefs. He also discovered the Royal Library of Ashurbanipal, a large collection of cuneiform tablets of enormous importance that today number around 130,000 pieces. W. K. Loftus excavated in Nimrud between 1850 and 1855 and found a remarkable hoard of ivories in the Burnt Palace. Between 1878 and 1882 Rassam greatly improved the museum's holdings with exquisite objects including the Cyrus Cylinder from Babylon, the bronze gates from Balawat, important objects from Sippar, and a fine collection of Urartian bronzes from Toprakkale.\n",
      " In the early 20th century excavations were carried out at Carchemish, Turkey by D. G. Hogarth and Leonard Woolley, the latter assisted by T. E. Lawrence. The Mesopotamian collections were greatly augmented by excavations in southern Iraq after the First World War. From Tell al-Ubaid came the bronze furnishings of a Sumerian temple, including life-sized lions and a panel featuring the lion-headed eagle Indugud found by H. R. Hall in 1919–24. Woolley went on to excavate Ur between 1922 and 1934, discovering the 'Royal Cemeteries' of the 3rd millennium BC. Some of the masterpieces include the 'Standard of Ur', the 'Ram in a Thicket', the 'Royal Game of Ur', and two bull-headed lyres. The department also has three diorite statues of the ruler Gudea from the ancient state of Lagash and a series of limestone kudurru or boundary stones from different locations across ancient Mesopotamia.\n",
      " Although the collections centre on Mesopotamia, most of the surrounding areas are well represented. The Achaemenid collection was enhanced with the addition of the Oxus Treasure in 1897 and objects excavated by the German scholar Ernst Herzfeld and the Hungarian-British explorer Sir Aurel Stein. Reliefs and sculptures from the site of Persepolis were donated by Sir Gore Ouseley in 1825 and the 5th Earl of Aberdeen in 1861. Moreover, the museum has been able to acquire one of the greatest assemblages of Achaemenid silverware in the world. The later Sasanian Empire is also well represented by ornate silver plates and cups, many representing ruling monarchs hunting lions and deer. Phoenician antiquities come from across the region, but the Tharros collection from Sardinia and the large number of Phoenician stelae from Carthage are outstanding. Another often overlooked highlight is Yemeni antiquities, the finest collection outside that country. Furthermore, the museum has a representative collection of Dilmun and Parthian material excavated from various burial mounds at the ancient sites of A'ali and Shakhura in Bahrain.\n",
      " From the modern state of Syria come almost forty funerary busts from Palmyra and a group of stone reliefs from the excavations of Max von Oppenheim at Tell Halaf that was purchased in 1920. More material followed from the excavations of Max Mallowan at Chagar Bazar and Tell Brak in 1935–1938 and from Woolley at Alalakh in the years just before and after the Second World War. Mallowan returned with his wife Agatha Christie to carry out further digs at Nimrud in the postwar period which secured many important artefacts for the museum. The collection of Palestinian material was strengthened by the work of Kathleen Kenyon at Tell es-Sultan (Jericho) in the 1950s and the acquisition in 1980 of around 17,000 objects found at Lachish by the Wellcome-Marston expedition of 1932–1938.  Archaeological digs are still taking place where permitted in the Middle East, and, depending on the country, the museum continues to receive a share of the finds from sites such as Tell es Sa'idiyeh in Jordan.\n",
      " The museum's collection of Islamic art, including archaeological material, numbers about 40,000 objects, one of the largest of its kind in the world. As such, it contains a broad range of pottery, paintings, tiles, metalwork, glass, seals, and inscriptions from across the Islamic world, from Spain in the west to India in the east. It is particularly famous for its collection of Iznik ceramics (the largest in the world), a highlight of which is the mosque lamp from the Dome of the Rock, mediaeval metalwork such as the Vaso Vescovali with its depictions of the Zodiac, a fine selection of astrolabes, and Mughal paintings and precious artwork including a large jade terrapin made for the Emperor Jahangir. Thousands of objects were excavated after the war by professional archaeologists at Iranian sites such as Siraf by David Whitehouse and Alamut Castle by Peter Willey. The collection was augmented in 1983 by the Godman bequest of Iznik, Hispano-Moresque and early Iranian pottery. Artefacts from the Islamic world are on display in Gallery 34 of the museum.\n",
      " A representative selection from the Department of Middle East, including the most important pieces, are on display in 13 galleries throughout the museum and total some 4,500 objects. A whole suite of rooms on the ground floor display the sculptured reliefs from the Assyrian palaces at Nineveh, Nimrud and Khorsabad, while 8 galleries on the upper floor hold smaller material from ancient sites across the Middle East. The remainder form the study collection which ranges in size from beads to large sculptures. They include approximately 130,000 cuneiform tablets from Mesopotamia.\n",
      " Key highlights of the collections include:\n",
      " Nimrud:\n",
      " Assyrian palace reliefs from:\n",
      " \n",
      " Sculptures:\n",
      " \n",
      " Assyrian palace reliefs and sculptures from:\n",
      " \n",
      " Royal Library of Ashurbanipal:\n",
      " \n",
      " \n",
      " \n",
      " Room 56 – The 'Ram in a Thicket' figure, one of a pair, from Ur, Southern Iraq, c. 2600 BC\n",
      " Room 56 – The famous 'Standard of Ur', a hollow wooden box with scenes of war and peace, from Ur, c. 2600 BC\n",
      " Room 56 - Sculpture of the god Imdugud, lion-headed eagle surmounting a lintel made from sheets of copper, Temple of Ninhursag at Tell al-'Ubaid, Iraq, c. 2500 BC\n",
      " Room 56 - Statue of Kurlil, from the Temple of Ninhursag in Tell al-'Ubaid, southern Iraq, c. 2500 BC\n",
      " Room 56 – The famous Babylonian 'Queen of the Night relief' of the goddess Ishtar, Iraq, c. 1790 BC\n",
      " Room 57 - Carved ivory object from the Nimrud Ivories, Phoenician, Nimrud, Iraq, 9th–8th century BC\n",
      " Room 6 – Depiction of the hypocrite, Jehu, King of Israel on the Black Obelisk of Shalmaneser III, Nimrud, c. 827 BC\n",
      " Room 10 – Human Headed Winged Bulls from Khorsabad, companion pieces in the Musée du Louvre, Iraq, 710–705 BC\n",
      " Room 55 – Cuneiform Collection, including the Epic of Gilgamesh, Iraq, c. 669-631 BC\n",
      " Room 55 – Lion Hunt of Ashurbanipal (detail), Nineveh, Neo-Assyrian, Iraq, c. 645 BC\n",
      " Room 55 - Panel with striding lion made from glazed bricks, Neo-Babylonian, Nebuchadnezzar II, Southern Iraq, 604–562 BC\n",
      " Room 52 – A chariot from the Oxus Treasure, the most important surviving collection of Achaemenid Persian metalwork, c. 5th to 4th centuries BC\n",
      " Room 53 - Stela said to come from Tamma' cemetery, Yemen, 1st century AD\n",
      " Room 53 - Alabaster statue of a standing female figure, Yemen, 1st-2nd centuries AD\n",
      " Room 34 - Cylindrical lidded box with an Arabic inscription recording its manufacture for the ruler of Mosul, Badr al-Din Lu'lu', Iraq, c. 1233 – 1259 AD\n",
      " The Department of Prints and Drawings holds the national collection of Western prints and drawings. It ranks as one of the largest and best print room collections in existence alongside the Albertina in Vienna, the Paris collections and the Hermitage. The holdings are easily accessible to the general public in the Study Room, unlike many such collections. The department also has its own exhibition gallery in Room 90, where the displays and exhibitions change several times a year.\n",
      " Since its foundation in 1808, the prints and drawings collection has grown to international renown as one of the richest and most representative collections in the world. There are approximately 50,000 drawings and over two million prints. The collection of drawings covers the period from the 14th century to the present, and includes many works of the highest quality by the leading artists of the European schools. The collection of prints covers the tradition of fine printmaking from its beginnings in the 15th century up to the present, with near complete holdings of most of the great names before the 19th century. Key benefactors to the department have been Clayton Mordaunt Cracherode, Richard Payne Knight, John Malcolm, Campbell Dodgson, César Mange de Hauke and Tomás Harris.\n",
      " There are groups of drawings by Leonardo da Vinci, Raphael, Michelangelo, (including his only surviving full-scale cartoon), Dürer (a collection of 138 drawings is one of the finest in existence), Peter Paul Rubens, Rembrandt, Claude and Watteau, and largely complete collections of the works of all the great printmakers including Dürer (99 engravings, 6 etchings and most of his 346 woodcuts), Rembrandt and Goya. More than 30,000 British drawings and watercolours include important examples of work by Hogarth, Sandby, Turner, Girtin, Constable, Cotman, Cox, Gillray, Rowlandson and Cruikshank, as well as all the great Victorians. There are about a million British prints including more than 20,000 satires and outstanding collections of works by William Blake and Thomas Bewick.[citation needed]. The great eleven volume Catalogue of Political and Personal Satires Preserved in the Department of Prints and Drawings in the British Museum compiled between 1870 and 1954 is the definitive reference work for the study of British Satirical prints. Over 500,000 objects from the department are now on the online collection database, many with high-quality images. A 2011 donation of £1 million enabled the museum to acquire a complete set of Pablo Picasso's Vollard Suite.\n",
      " Rogier van der Weyden - Portrait of a Young Woman, c. 1440\n",
      " Hieronymus Bosch - A comical barber scene, c. 1477-1516\n",
      " Sandro Botticelli - Allegory of Abundance, 1480-1485\n",
      " Leonardo da Vinci – The Virgin and Child with Saint Anne and the Infant Saint John the Baptist (prep for 'The Burlington House Cartoon'), c. 1499–1500\n",
      " Michelangelo – Studies of a reclining male nude: Adam in the fresco 'The Creation of Man' on the vault of the Sistine Chapel, c. 1511\n",
      " Raphael – Study of Heads, Mother and Child, c. 1509-11\n",
      " Titian – Drowning of the Pharaoh's Host in the Red Sea, 1515–17\n",
      " Albrecht Dürer - Drawing of a walrus, 1521\n",
      " Hans Holbein the Younger - Portrait of Anne Boleyn, 1536\n",
      " Peter Paul Rubens - Drawing of a lioness, c. 1614-1615\n",
      " Francisco de Zurbarán - Head of a monk, 1625–64\n",
      " Claude Lorrain - Drawing of mules, including one full-length, 1630-1640\n",
      " Rembrandt – The Lamentation at the Foot of the Cross, 1634–35\n",
      " Thomas Gainsborough - Drawing of a woman with a rose, 1763-1765\n",
      " JMW Turner - Watercolour of Newport Castle, 1796\n",
      " Isaac Cruikshank - 'The happy effects of that grand system of shutting ports against the English!!', 1808\n",
      " John Constable - London from Hampstead Heath in a Storm, (watercolour), 1831\n",
      " James McNeill Whistler - View of the Battersea side of Chelsea Reach, London, (lithograph), 1878\n",
      " Vincent Van Gogh - Man Digging in the Orchard (print), 1883\n",
      " Peter van Dievoet - Studies for a statue of a figure in Roman dress, most likely for the statue of James II.\n",
      " The Department of Britain, Europe and Prehistory is responsible for collections that cover a vast expanse of time and geography. It includes some of the earliest objects made by humans in east Africa over 2 million years ago, as well as Prehistoric and neolithic objects from other parts of the world; and the art and archaeology of Europe from the earliest times to the present day. Archeological excavation of prehistoric material took off and expanded considerably in the twentieth century and the department now has literally millions of objects from the Paleolithic and Mesolithic periods throughout the world, as well as from the Neolithic, Bronze Age and Iron age in Europe. Stone Age material from Africa has been donated by famous archaeologists such as Louis and Mary Leakey, and Gertrude Caton–Thompson. Paleolithic objects from the Sturge, Christy and Lartet collections include some of the earliest works of art from Europe. Many Bronze Age objects from across Europe were added during the nineteenth century, often from large collections built up by excavators and scholars such as Greenwell in Britain, Tobin and Cooke in Ireland, Lukis and de la Grancière in Brittany, Worsaae in Denmark, Siret at El Argar in Spain, and Klemm and Edelmann in Germany. A representative selection of Iron Age artefacts from Hallstatt were acquired as a result of the Evans/Lubbock excavations and from Giubiasco in Ticino through the Swiss National Museum.\n",
      " In addition, the British Museum's collections covering the period AD 300 to 1100 are among the largest and most comprehensive in the world, extending from Spain to the Black Sea and from North Africa to Scandinavia; a representative selection of these has recently been redisplayed in a newly refurbished gallery. Important collections include Latvian, Norwegian, Gotlandic and Merovingian material from Johann Karl Bähr, Alfred Heneage Cocks, Sir James Curle and Philippe Delamain respectively. However, the undoubted highlight from the early mediaeval period are the magnificent items from the Sutton Hoo royal grave, generously donated to the nation by the landowner Edith Pretty. The department includes the national collection of horology with one of the most wide-ranging assemblage of clocks, watches and other timepieces in Europe, with masterpieces from every period in the development of time-keeping. Choice horological pieces came from the Morgan and Ilbert collections. The department is also responsible for the curation of Romano-British objects – the museum has by far the most extensive such collection in Britain and one of the most representative regional collections in Europe outside Italy. It is particularly famous for the large number of late Roman silver treasures, many of which were found in East Anglia, the most important of which is the Mildenhall Treasure. The museum purchased many Roman-British objects from the antiquarian Charles Roach Smith in 1856.  These quickly formed the nucleus of the collection.\n",
      " Objects from the Department of Prehistory and Europe are mostly found on the upper floor of the museum, with a suite of galleries numbered from 38 to 51. Most of the collection is stored in its archive facilities, where it is available for research and study.\n",
      " Key highlights of the collections include:\n",
      " Stone Age (c. 3.4 million years BC – c. 2000 BC)\n",
      " Bronze Age (c. 3300 BC – c. 600 BC)\n",
      " Iron Age (c. 600 BC – c. 1st century AD)\n",
      " Romano-British (43 AD – 410 AD)\n",
      " Early Mediaeval (c. 4th century AD – c. 1000 AD)\n",
      " Mediaeval (c. 1000 AD – c. 1500 AD)\n",
      " Renaissance to Modern (c. 1500 AD – present)\n",
      " The many hoards of treasure include those of Mildenhall, Esquiline, Carthage, First Cyprus, Lampsacus, Water Newton, Hoxne, and Vale of York (4th–10th centuries AD).\n",
      " Room 2 – Handaxe, Lower Palaeolithic, Olduvai Gorge, Tanzania, c. 1.2 million years BC\n",
      " Room 3 – Swimming Reindeer carving, France, c. 13,000 years BC\n",
      " Room 2 – Ain Sakhri lovers, from the cave of Ain Sakhri, near Bethlehem, c. 9000 BC\n",
      " Room 51 – Mold gold cape, North Wales, Bronze Age, c. 1900–1600 BC\n",
      " Room 50 - Wandsworth Shield, Iron Age shield boss in La Tène style, England, 2nd century BC\n",
      " Room 50 - Gold torc found in Needwood Forest, central England, 75 BC\n",
      " Room 49 - Bronze head of a Roman Emperor Claudius, from Rendham in Suffolk, eastern England, 1st century AD\n",
      " Room 49 – Hinton St Mary Mosaic with face of Christ in the centre, from Dorset, southern England, 4th century AD\n",
      " Room 49 - Corbridge Lanx, silver tray depicting a shrine to Apollo, northern England, 4th century AD\n",
      " Room 41 - Silver objects from the Roman Coleraine Hoard, Northern Ireland, 4th-5th centuries AD\n",
      " Room 41 – Sutton Hoo helmet, Anglo-Saxon, England, early 7th century AD\n",
      " Room 40 - Ivory statue of Virgin and Child, who is crushing a dragon under her left foot from Paris, France, 1310-1330 AD\n",
      " Room 40 - Chaucer Astrolabe, the oldest dated in Europe, 1326 AD\n",
      " Room 40 – Royal Gold Cup or Saint Agnes Cup, made in Paris, France, 1370–80 AD\n",
      " Room 2a – Holy Thorn Reliquary, made in Paris, c. 1390s AD\n",
      " Room 38 – Mechanical Galleon clock, Augsburg, Germany, around 1585 AD\n",
      " Room 38 - Carillon clock with automata by Isaac Habrecht, Switzerland, 1589 AD\n",
      " Room 39 - Ornate clock made by Thomas Tompion, England, 1690 AD\n",
      " The scope of the Department of Asia is extremely broad; its collections of over 75,000 objects cover the material culture of the whole Asian continent (from East, South, Central and South-East Asia) and from the Neolithic up to the present day. Until recently, this department concentrated on collecting Oriental antiquities from urban or semi-urban societies across the Asian continent. Many of those objects were collected by colonial officers and explorers in former parts of the British Empire, especially the Indian subcontinent. Examples include the collections made by individuals such as Charles Stuart, James Prinsep, Charles Masson, Sir Alexander Cunningham, Sir Harold Deane and Sir John Marshall. A large number of Chinese antiquities were purchased from the Anglo-Greek banker George Eumorfopoulos in the 1930s. In the second half of the twentieth century, the museum greatly benefited from the bequest of the philanthropist PT Brooke Sewell, which allowed the department to purchase many objects and fill in gaps in the collection.\n",
      " In 2004, the ethnographic collections from Asia were transferred to the department. These reflect the diverse environment of the largest continent in the world and range from India to China, the Middle East to Japan. Much of the ethnographic material comes from objects originally owned by tribal cultures and hunter-gatherers, many of whose way of life has disappeared in the last century. Particularly valuable collections are from the Andaman and Nicobar Islands (much assembled by the British naval officer Maurice Portman), Sri Lanka (especially through the colonial administrator Hugh Nevill), Northern Thailand, south-west China, the Ainu of Hokaidu in Japan (chief among them the collection of the Scottish zoologist John Anderson), Siberia and the islands of South-East Asia, especially Borneo. The latter benefited from the purchase in 1905 of the Sarawak collection put together by Dr Charles Hose, as well as from other colonial officers such as Edward A Jeffreys. In addition, a unique and valuable group of objects from Java, including shadow puppets and a gamelan musical set, was assembled by Sir Stamford Raffles.\n",
      " The principal gallery devoted to Asian art in the museum is Gallery 33 with its comprehensive display of Chinese, Indian subcontinent and Southeast Asian objects. An adjacent gallery showcases the Amaravati sculptures and monuments. Other galleries on the upper floors are devoted to its Japanese, Korean, painting and calligraphy, and Chinese ceramics collections.\n",
      " Key highlights of the collections include:\n",
      " East Asia\n",
      " South Asia\n",
      " South-east Asia\n",
      " Room 33 - One of the hu from Huixian, China, 5th century BC\n",
      " Room 33 - A hamsa sacred goose vessel made of crystal from Stupa 32, Taxila, Pakistan, 1st century AD\n",
      " Room 33 - Stone sculpture of the death of Buddha, Gandhara, Pakistan, 1st-3rd centuries AD\n",
      " Room 33a - Amaravati Sculptures, southern India, 1st century BC and 3rd century AD\n",
      " Room 91a - Section of the Admonitions Scroll by Chinese artist Gu Kaizhi, China, c. 380 AD\n",
      " Room 33 - Gilded bronze statue of the Buddha, Dhaneswar Khera, India, 5th century AD\n",
      " The Amitābha Buddha from Hancui on display in the museum's stairwell, China, 6th century AD\n",
      " Room 33 - The luohan from Yixian made of glazed stoneware, China, 907-1125 AD\n",
      " Sculpture of Goddess Ambika found at Dhar, India, 1034 AD\n",
      " Sculpture of the two Jain tirthankaras Rishabhanatha and Mahavira, Orissa, India, 11th-12th century AD\n",
      " Room 33 - Western Zhou bronze ritual vessel known as the \"Kang Hou Gui\", China, 11th century BC\n",
      " Room 33 - A crowned figure of the Bodhisattva Khasarpana Avalokiteśvara, India, 12th century AD\n",
      " Room 33 - Covered hanging jar with underglaze decoration, Si Satchanalai (Sawankalok), north-central Thailand, 14th-16th centuries AD\n",
      " Room 33 - Hu-shaped altar flower vessel, Ming dynasty, China, 15th -16th centuries AD\n",
      " Room 33 - An assistant to the Judge of Hell, figure from a judgement group, Ming dynasty, China, 16th century AD\n",
      " Room 33 - Statue of Bodhisattva Avalokiteshvara, gilded bronze. Nepal, 16th century AD\n",
      " Portrait of Ibrâhîm 'Âdil Shâh II (1580–1626), Mughal Empire of India, 1615 AD\n",
      " Room 90 - Courtesans of the Tamaya House, attributed to Utagawa Toyoharu, screen painting; Japan, Edo period, late 1770s or early 1780s AD\n",
      " Room 33 - Statue of Buddha from Burma, 18th-19th century AD\n",
      " Room 33 - Figure of seated Lama; of painted and varnished papier-mâché, Ladakh, Tibet, 19th century AD\n",
      " The British Museum houses one of the world's most comprehensive collections of Ethnographic material from Africa, Oceania and the Americas, representing the cultures of indigenous peoples throughout the world. Over 350,000 objects spanning thousands of years tells the history of mankind from three major continents and many rich and diverse cultures; the collecting of modern artefacts is ongoing. Many individuals have added to the department's collection over the years but those assembled by Henry Christy, Harry Beasley and William Oldman are outstanding. Objects from this department are mostly on display in several galleries on the ground and lower floors. Gallery 24 displays ethnographic from every continent while adjacent galleries focus on North America and Mexico. A long suite of rooms (Gallery 25) on the lower floor display African art. There are plans in place to develop permanent galleries for showcasing art from Oceania and South America.\n",
      " Africa\n",
      " The Sainsbury African Galleries display 600 objects from the greatest permanent collection of African arts and culture in the world. The three permanent galleries provide a substantial exhibition space for the museum's African collection comprising over 200,000 objects. A curatorial scope that encompasses both archaeological and contemporary material, including both unique masterpieces of artistry and objects of everyday life. A great addition was material amassed by Sir Henry Wellcome, which was donated by the Wellcome Historical Medical Museum in 1954. Highlights of the African collection include objects found at megalithic circles in The Gambia, a dozen exquisite Afro-Portuguese ivories, a series of soapstone figures from the Kissi people in Sierra Leone and Liberia, Asante goldwork and regalia from Ghana including the Bowdich collection, the rare Akan Drum from the same region in west Africa, the Benin and Igbo-Ukwu bronze sculptures, the beautiful Bronze Head of Queen Idia, a magnificent brass head of a Yoruba ruler and quartz throne from Ife, a similar terracotta head from Iwinrin Grove near Ife, the Apapa Hoard from Lagos, southern Nigeria, an Ikom monolith from Cross River State, the Torday collection of central African sculpture, textiles and weaponry from the Kuba Kingdom including three royal figures, the unique Luzira Head from Uganda, processional crosses and other ecclesiastical and royal material from Gondar and Magdala, Ethiopia following the British Expedition to Abyssinia, excavated objects from Great Zimbabwe (that includes a unique soapstone, anthropomorphic figure) and satellite towns such as Mutare including a large hoard of Iron Age soapstone figures, a rare divining bowl from the Venda peoples and cave paintings and petroglyphs from South Africa.\n",
      " Oceania\n",
      " The British Museum's Oceanic collections originate from the vast area of the Pacific Ocean, stretching from Papua New Guinea to Easter Island, from New Zealand to Hawaii. The three main anthropological groups represented in the collection are Polynesia, Melanesia and Micronesia – Aboriginal art from Australia is considered separately in its own right.  Metal working was not indigenous to Oceania before Europeans arrived, so many of the artefacts from the collection are made from stone, shell, bone and bamboo. Prehistoric objects from the region include a bird-shaped pestle and a group of stone mortars from Papua New Guinea. The British Museum is fortunate in having some of the earliest Oceanic and Pacific collections, many of which were put together by members of Cook's and Vancouver's expeditions or by colonial administrators such as Sir George Grey, Sir Frederick Broome and Arthur Gordon, before Western culture significantly impacted on indigenous cultures. A poignant artefact is the wooden shield found near Botany Bay during Cook's first voyage in 1770. The Wilson cabinet of curiosities from Palau is another example of pre-contact ware. The department has also benefited greatly from the legacy of pioneering anthropologists such as Bronisław Malinowski and Katherine Routledge.\n",
      " In addition, the Māori collection is the finest outside New Zealand with many intricately carved wooden and jade objects and the Aboriginal art collection is distinguished by its wide range of bark paintings, including two very early bark etchings collected by John Hunter Kerr. A particularly important group of objects was purchased from the London Missionary Society in 1911, that includes the unique statue of A'a from Rurutu Island, the rare idol from the isle of Mangareva and the Cook Islands deity figure.  Other highlights include the huge Hawaiian statue of Kū-ka-ili-moku or god of war (one of three extant in the world) and the famous Easter Island statues Hoa Hakananai'a and Moai Hava.\n",
      " Americas\n",
      "The Americas collection mainly consists of 19th and 20th century items although the Paracas, Moche, Inca, Maya, Aztec, Taino and other early cultures are well represented. The Kayung totem pole, which was made in the late nineteenth century in the Queen Charlotte Islands, dominates the Great Court and provides a fitting introduction to this very wide-ranging collections that stretches from the very north of the North American continent where the Inuit population has lived for centuries, to the tip of South America where indigenous tribes have long thrived in Patagonia. Highlights of the collection include Aboriginal Canadian objects from Alaska and Canada collected by the 5th Earl of Lonsdale and the Marquis of Lorne, the Squier and Davis collection of prehistoric mound relics from North America, a selection of pottery vessels found in cliff-dwellings at Mesa Verde, a collection of turquoise Aztec mosaics from Mexico (the largest in Europe), important artefacts from Teotihuacan and Isla de Sacrificios, several rare pre-Columbian manuscripts including the Codex Zouche-Nuttall and Codex Waecker-Gotter, a spectacular series of Mayan lintels from Yaxchilan excavated by the British Mayanist Alfred Maudslay, a very high quality Mayan collection that includes sculptures from Copan, Tikal, Tulum, Pusilha, Naranjo and Nebaj (including the celebrated Fenton Vase), a group of Zemi Figures from Vere, Jamaica, a number of prestigious pre-Columbian gold and votive objects from Colombia, ethnographic objects from across the Amazon region including the Schomburgk collection, two rare Tiwanaku pottery vessels from Lake Titicaca and important items from Tierra del Fuego donated by Commander Phillip Parker King.\n",
      " Room 26 - Stone pipe representing an otter from Mound City, Ohio, USA, 200 BC - 400 AD\n",
      " Room 2 - Stone tomb guardian, part human part jaguar, from San Agustín, Colombia, c. 300-600 AD\n",
      " Room 1 - Maya maize god statue from Copán, Honduras, 600-800 AD\n",
      " Room 24 - Gold Lime Flasks (poporos), Quimbaya Culture, Colombia, 600-1100 AD\n",
      " Room 27 - Lintel 25 from Yaxchilan, Late Classic, Mexico, 600-900 AD\n",
      " Room 24 - Bird pectoral made from gold alloy, Popayán, Colombia, 900-1600 AD\n",
      " Room 24 – Rapa Nui statue Hoa Hakananai'a, 1000 AD, Wellcome Trust Gallery\n",
      " Room 27 - Double-headed serpent turquoise mosaic, Aztec, Mexico, 1400-1500 AD\n",
      " Room 27 - Turquoise Mosaic Mask, Mixtec-Aztec, Mexico, 1400-1500 AD\n",
      " Room 2 - Miniature gold llama figurine, Inca, Peru, about 1500 AD\n",
      " Room 25 - Part of the famous collection of Benin brass plaques, Nigeria, 1500-1600 AD\n",
      " Room 25 - Detail of one of the Benin brass plaques in the museum, Nigeria, 1500-1600 AD\n",
      " Room 25 - Benin ivory mask of Queen Idia, Nigeria, 16th century AD\n",
      " Room 24 - Hawaiian feather helmet or mahiole, late 1700s AD\n",
      " Great Court - Two house frontal totem poles, Haida, British Columbia, Canada, about 1850 AD\n",
      " Room 25 - Mask (wood and pigment); Punu people, Gabon, 19th century AD\n",
      " Room 25 - Otobo masquerade in the Africa Gallery, Nigeria, 20th century AD\n",
      " Room 25 - Modern interpretation of kente cloth from Ghana, late 20th century AD\n",
      " The British Museum is home to one of the world's finest numismatic collections, comprising about a million objects, including coins, medals, tokens and paper money. The collection spans the entire history of coinage from its origins in the 7th century BC to the present day and is representative of both the East and West. The Department of Coins and Medals was created in 1861 and celebrated its 150th anniversary in 2011.\n",
      " This department was founded in 1920. Conservation has six specialist areas: ceramics & glass; metals; organic material (including textiles); stone, wall paintings and mosaics; Eastern pictorial art and Western pictorial art. The science department has and continues to develop techniques to date artefacts, analyse and identify the materials used in their manufacture, to identify the place an artefact originated and the techniques used in their creation. The department also publishes its findings and discoveries.\n",
      " This department covers all levels of education, from casual visitors, schools, degree level and beyond. The museum's various libraries hold in excess of 350,000 books, journals and pamphlets covering all areas of the museum's collection. Also the general museum archives which date from its foundation in 1753 are overseen by this department; the individual departments have their own separate archives and libraries covering their various areas of responsibility, which can be consulted by the public on application.  The Anthropology Library is especially large, with 120,000 volumes. However, the Paul Hamlyn Library, which had become the central reference library of the British Museum and the only library there freely open to the general public, closed permanently in August 2011. The website and online database of the collection also provide increasing amounts of information.\n",
      " The British Museum Press (BMP) is the publishing business and a division of the British Museum Company Ltd., a company and a charity (established in 1973) wholly owned by the trustees of the British Museum.\n",
      " The BMP publishes both popular and scholarly illustrated books to accompany the exhibition programme and explore aspects of the general collection. Profits from their sales goes to support the British Museum.\n",
      " Scholarly titles are published in the Research Publications series, all of which are peer-reviewed. This series was started in 1978 and was originally called Occasional Papers. The series is designed to disseminate research on items in the collection. Between six and eight titles are published each year in this series.\n",
      " It is a point of controversy whether museums should be allowed to possess artefacts taken from other countries, and the British Museum is a notable target for criticism. The Elgin Marbles, Benin Bronzes, Ethiopian Tabots and the Rosetta Stone are among the most disputed objects in its collections, and organisations have been formed demanding the return of these artefacts to their native countries of Greece, Nigeria, Ethiopia, and Egypt respectively.  Parthenon Marbles claimed by Greece were also claimed by UNESCO among others for restitution. From 1801 to 1812, Elgin's agents took about half of the surviving sculptures of the Parthenon, as well as sculptures from the Propylaea and Erechtheum.\n",
      " In recent years, controversies pertaining to reparation of artefacts taken from the Old Summer Palace in Beijing during the Anglo-French invasion of China in 1860 have also begun to surface. Victor Hugo condemned the French and British for their plundering. The British Museum and the Victoria and Albert Museum, among others, have been asked since 2009 to open their archives for investigation by a team of Chinese investigators as a part of an international mission to document lost national treasures. However, there have been fears that the United Kingdom may be asked to return these treasures. As of 2010[update], Neil MacGregor, the Director of the British Museum, said he hoped that both British and Chinese investigators would work together on the controversial collection, which continues to result in resentment in China.\n",
      " The British Museum has refused to return these artefacts, stating that the \"restitutionist premise, that whatever was made in a country must return to an original geographical site, would empty both the British Museum and the other great museums of the world\". The museum has also argued that the British Museum Act of 1963 legally prevents any object from leaving its collection once it has entered it. Nevertheless, it has returned items such as the Tasmanian Ashes after a 20-year-long battle with Australia.\n",
      " The British Museum continues to assert that it is an appropriate custodian and has an inalienable right to its disputed artefacts under British law[citation needed].\n",
      " In 2016, the British Museum moved its bag searches to marquees in the front courtyard and beside the rear entrance. This has been criticised by heritage groups as out-of-character with the historic building. The British Museum clarified that the change was purely logistical to save space in the main museum entrance and did not reflect any escalation in threat.\n",
      " The British Museum's relationship with the oil company BP, which has been a longstanding sponsor of the Museum, has been a source of controversy.\n",
      " In May 2016, the British Museum was temporarily closed after Greenpeace climbers unfurled eight banners down the front columns of the British Museum in protest at BP's sponsorship of an exhibition about ancient Egypt.\n",
      " In February 2019, hundreds of people occupied the British Museum in protest against BP's longstanding sponsorship of the Museum. Protestors also drew attention to the fact that BP lobbied the UK government to help it gain access to Iraq's oil reserves prior to Britain's invasion in 2003.\n",
      " In July 2019, Ahdaf Soueif resigned from the British Museum's board of trustees in response to its \"immovable\" position on its sponsorship deal with BP. Soueif claimed that the money BP provided to support British Museum exhibitions could be obtained elsewhere.\n",
      " Main Staircase, Discobolus of Myron (the Discus-Thrower)\n",
      " British Museum Reading Room\n",
      " Ceiling of the Great Court and the black siltstone obelisks of Nectanebo II, c. 350 BC\n",
      " Detail of an Ionic capital on a pilaster in the Great Court\n",
      " African Garden – created by BBC TV programme Ground Force\n",
      " Department of Ancient Egypt and Sudan\n",
      " Room 4 – Egyptian Sculpture, view towards the Assyrian Transept\n",
      " Room 4\n",
      " Room 4\n",
      " Department of the Middle East\n",
      " The British Museum, Room 6 – Assyrian Sculpture\n",
      " Room 8 – Pair of Lamassu from Nimrud & reliefs from the palace of Tiglath-Pileser III\n",
      " Room 7 – Reliefs from the North-west palace of Ashurnasirpal II, Nimrud\n",
      " Room 89 – Nimrud & Nineveh Palace Reliefs\n",
      " Room 10 – Nineveh, The Royal Lion Hunt\n",
      " Department of Greece and Rome\n",
      " Room 18 – Ancient Greece\n",
      " Room 20a – Tomb of Merehi & Greek Vases, Lycia, 360 BC\n",
      " Room 85 – Portrait Sculpture, Roman\n",
      " Room 83 – Roman Sculpture\n",
      " Room 84 – Towneley Roman Sculptures\n",
      " Main Staircase – Discobolus, Roman\n",
      " Main Staircase – Townley Caryatid, Roman, 140–160 AD\n",
      " The museum has a collaboration with the Google Cultural Institute to bring the collection online.\n",
      " Forgotten Empire Exhibition (October 2005 – January 2006)\n",
      " Room 5 – Exhibitions Panorama\n",
      " Room 5 – The Persepolis Casts\n",
      " Room 5 – Exhibitions Relics\n",
      " Room 5 – The Cyrus Cylinder\n",
      " The old Elgin Gallery was painted a deep terracotta red, which, though in some ways satisfactory, diminished its apparent size, and was apt to produce a depressing effect on the visitor. It was decided to experiment with lighter colours, and the walls of the large room were painted with what was, at its first application, a pure cold white, but which after a year's exposure had unfortunately yellowed. The small Elgin Room was painted with pure white tinted with prussian blue, and the Room of the metopes was painted with pure white tinted with cobalt blue and black; it was necessary, for practical reasons, to colour all the dadoes a darker colour It is, I suppose, not positively bad, but it could have been infinitely better. It is pretentious, in that it uses the ancient Marbles to decorate itself. This is a long outmoded idea, and the exact opposite of what a sculpture gallery should do. And, although it incorporates them, it is out of scale, and tends to dwarf them with its bogus Doric features, including those columns, supporting almost nothing which would have made an ancient Greek artist architect wince. The source of daylight is too high above the sculptures, a fault that is only concealed by the amount of reflection from the pinkish marble walls. These are too similar in colour to the marbles...These half-dozen elementary errors were pointed out by everyone in the Museum, and by many scholars outside, when the building was projected.\n"
     ]
    },
    {
     "name": "stdout",
     "output_type": "stream",
     "text": [
      "\n",
      " The Galleria dell'Accademia di Firenze, or \"Gallery of the Academy of Florence\", is an art museum in Florence, Italy. It is best known as the home of Michelangelo's sculpture David. It also has other sculptures by Michelangelo and a large collection of paintings by Florentine artists, mostly from the period 1300–1600, the Trecento to the Late Renaissance.  It is smaller and more specialized than the Uffizi, the main art museum in Florence.  It adjoins the Accademia di Belle Arti or academy of fine arts of Florence, but despite the name has no other connection with it.\n",
      " In 2016, it had 1.46 million visitors, making it the second most visited art museum in Italy, after the Uffizi (2.02 million).\n",
      " The Galleria dell'Accademia was founded in 1784 by Pietro Leopoldo, Grand Duke of Tuscany.\n",
      " In 2001 the \"Museo degli strumenti musicali\" collection opened. It includes musical instruments made by Stradivarius, Niccolò Amati and Bartolomeo Cristofori.\n",
      " The Galleria dell'Accademia has housed the original David by Michelangelo since 1873. The sculpture was allegedly brought to the Accademia for reasons of conservation, although other factors were involved in its move from its previous outdoor location on Piazza della Signoria. The original intention was to create a \"Michelangelo museum\", with original sculptures and drawings, to celebrate the fourth centenary of the artist's birth. Today, the gallery's small collection of Michelangelo's work includes his four unfinished Prisoners, intended for the tomb of Pope Julius II, and a statue of Saint Matthew, also unfinished. In 1939, these were joined by the Palestrina Pietà, discovered in the Barberini chapel in Palestrina, though experts now consider its attribution to Michelangelo to be dubious.\n",
      " Other works on display are Florentine paintings from the 13th and 16th centuries, including works by Paolo Uccello, Domenico Ghirlandaio, Sandro Botticelli and Andrea del Sarto; and, from the High Renaissance, Giambologna's original full-size plaster modello for the Rape of the Sabine Women. As well as a number of Florentine Gothic paintings, the gallery houses the collection of Russian icons assembled by the Grand Dukes of the House of Lorraine, of which Leopoldo was one.\n",
      "\n",
      "Coordinates: 52°31′16″N 13°23′46″E﻿ / ﻿52.521°N 13.396°E﻿ / 52.521; 13.396\n",
      " The Pergamon Museum (German: Pergamonmuseum) is situated on the Museum Island in Berlin. The building was designed by Alfred Messel and Ludwig Hoffmann and was constructed over a period of twenty years, from 1910 to 1930. The Pergamon Museum houses monumental buildings such as the Pergamon Altar, the Ishtar Gate of Babylon, the Market Gate of Miletus reconstructed from the ruins found in Anatolia, as well as the Mshatta Facade.\n",
      " The museum is subdivided into the antiquity collection, the Middle East museum, and the museum of Islamic art. It is visited by approximately 1,135,000 people every year[citation needed], making it the most visited art museum in Germany (2007), and is one of the  largest in the country.[needs update]\n",
      " By the time the Kaiser-Friedrich-Museum on Museum Island (today the Bodemuseum) had opened in 1904, it was clear that the edifice was not large enough to host all of the art and archaeological treasures being excavated under German supervision. Excavations were underway in the areas of ancient Babylon, Uruk, Assur, Miletus, Priene and ancient Egypt, and objects from these sites could not be properly displayed within the existing German museum system. Wilhelm von Bode, director of the Kaiser-Friedrich-Museum, initiated plans to build a new museum nearby to accommodate ancient architecture, German post-antiquity art, and Middle Eastern and Islamic art.\n",
      " Alfred Messel began a design for the large three-wing building in 1906. After his death in 1909 his friend Ludwig Hoffman took charge of the project and construction began in 1910, continuing during the First World War (1918) and the great inflation of the 1920s. The completed building was opened In 1930.\n",
      " The Pergamon Museum was severely damaged during the air attacks on Berlin at the end of the Second World War. Many of the display objects had been stored in safe places, and some of the large exhibits were walled in for protection. In 1945, the Red Army collected all of the loose museum items, either as war booty or, ostensibly, to rescue them from looting and fires then raging in Berlin. Not until 1958 were most of the objects returned to East Germany. Significant parts of the collection remain in Russia.  Some are currently stored in the Pushkin Museum in Moscow and the Hermitage Museum in Saint Petersburg. The return of these items has been arranged in a treaty between Germany and Russia but, as of June 2003, is blocked by Russian restitution laws.\n",
      " Among the pieces the museum displays are:\n",
      " The collection goes back to the prince-electors, or Kurfürsten, of Brandenburg, who collected objects from antiquity; the collection began with an acquisition to the collection by a Roman archaeologist in 1698. It first became accessible (in part) to the public in 1830, when the Altes Museum was opened. The collection expanded greatly with the excavations in Olympia, Samos, Pergamon, Miletus, Priene, Magnesia, Cyprus and Didyma.\n",
      " This collection is divided between the Pergamon Museum and the Altes Museum.\n",
      " The collection contains sculpture from the archaic to Hellenistic ages as well as artwork from Greek and Roman antiquity: architecture, sculptures, inscriptions, mosaics, bronzes, jewelry and pottery.\n",
      " The main exhibits are the Pergamon Altar from the 2nd century BC, with a 113 meters (371 ft) long sculptural frieze depicting the struggle of the gods and the giants, and the Gate of Miletus from Roman antiquity.\n",
      " As Germany was divided following the Second World War, so was the collection. The Pergamon Museum was reopened in 1959 in East Berlin, while what remained in West Berlin was displayed in Schloss Charlottenburg.\n",
      " \n",
      " When the Bode Museum was opened in 1904, a section for Islamic art was created and later included in the Pergamon Museum (1950).\n",
      " Besides Islamic artwork from the 8th to the 19th century ranging from Spain to India, the main attraction is the Mshatta facade, which originates from an unfinished early Islamic desert palace located south of Amman in present-day Jordan. It was a gift from the Ottoman Sultan Abdul Hamid II to Emperor Wilhelm II of Germany. Parts of the eastern portion of the facade and the ruins of the structure of which it formed a part remain in Jordan.\n",
      " Another unique exhibition is the Aleppo room.  This area of the museum features a reception room from a broker's home in Aleppo, Syria, that was commissioned during the Ottoman Period.\n",
      " The Islamic Art Museum also regularly hosts temporary exhibitions of modern art from the Islamic world, such as the 2008 Turkish Delight (contemporary Turkish design) and Naqsh (Gender in Iranian Art and Society).\n",
      " In 2008 part of the Keir Collection of Edmund de Unger, formerly housed in his home in Ham, Surrey, was placed on long-term loan to the Museum for an initial period of 15 years. One of the most important post-war private collections of Islamic art, it covers the entire Islamic world from medieval times to the eighteenth century and includes carpets, textiles, illuminated manuscripts, bookbindings, ceramics, metalware and rock crystal objects.\n",
      " The Middle East Museum exhibition displays objects found by German archeologists and others from the areas of Assyrian, Sumerian and Babylonian culture. Additionally there are historical buildings, reliefs and lesser cultural objects and jewelry.\n",
      " The main display is the Ishtar Gate and the Processional Way of Babylon together with the throne room facade of Nebuchadnezzar II.\n",
      " The Vorderasiatisches Museum also displays the Meissner fragment from the Epic of Gilgamesh.\n",
      " The comprehensive plan for Museum Island includes an expansion of the Pergamon Museum, with connections to the Neues Museum, Bodemuseum, Alte Nationalgalerie and a new visitor centre, the James Simon Gallery. \n",
      " An architectural competition in 2000 was won by Oswald Mathias Ungers from Cologne. The Pergamon Museum will be redeveloped according to his plan, which controversially proposes large alterations to buildings unchanged since 1930. The current entrance building in the Court of Honor will be replaced with a fourth wing, and an underground walk (Archäologische Promenade, archeologic walk) will connect four of the five museums. \n",
      " Since the end of September 2014 the museum is partially closed for renovation. The hall containing Pergamon Altar will remain closed to the general public. Initially the reopening was scheduled for 2019.  In November 2016 it was revealed that the renovation would not be finished before 2023 and estimated project costs would almost double to 477 million euros. Two pump houses built in the ground during the initial construction between 1910 and 1930 had been discovered causing rising costs and delays. At least 60 million euros of the increased costs are directly due to the fact that construction costs had risen since the original estimate 10 years ago. Also it was announced that a temporary exhibition space will be built opposite Museum Island, a short distance from Pergamon Museum. It will house a panorama of the ancient city by the Berlin-based artist Yadegar Asisi, a 3D reconstruction of the famous Pergamon altar by the Fraunhofer Institute for Computer Graphics Research and parts of the altar including the Telephos Frieze. The temporary building is scheduled to open in the spring of 2018.  \n",
      " \n",
      "\n"
     ]
    }
   ],
   "source": [
    "import requests\n",
    "import bs4\n",
    "import re\n",
    "\n",
    "museum_dict = {}\n",
    "\n",
    "for museum in museum_set:\n",
    "    url = 'https://en.wikipedia.org/wiki/' + museum\n",
    "    museumRequest = requests.get(url)\n",
    "    museumContentSoup = bs4.BeautifulSoup(museumRequest.text, 'html.parser')\n",
    "    PTags = museumContentSoup.body.findAll('p')\n",
    "    paras = []\n",
    "    for ptag in PTags:\n",
    "        paras.append(re.sub(r'\\[\\d+\\]', '', ptag.text))\n",
    "    para_str = ' '.join(paras)\n",
    "    print(para_str)\n",
    "    museum_dict[museum] = para_str"
   ]
  },
  {
   "cell_type": "code",
   "execution_count": 118,
   "metadata": {},
   "outputs": [],
   "source": [
    "museum_df = pandas.DataFrame(museum_dict.items(), columns=['museum_name', 'museum_description'])"
   ]
  },
  {
   "cell_type": "code",
   "execution_count": 120,
   "metadata": {},
   "outputs": [
    {
     "data": {
      "text/html": [
       "<div>\n",
       "<style scoped>\n",
       "    .dataframe tbody tr th:only-of-type {\n",
       "        vertical-align: middle;\n",
       "    }\n",
       "\n",
       "    .dataframe tbody tr th {\n",
       "        vertical-align: top;\n",
       "    }\n",
       "\n",
       "    .dataframe thead th {\n",
       "        text-align: right;\n",
       "    }\n",
       "</style>\n",
       "<table border=\"1\" class=\"dataframe\">\n",
       "  <thead>\n",
       "    <tr style=\"text-align: right;\">\n",
       "      <th></th>\n",
       "      <th>museum_name</th>\n",
       "      <th>museum_description</th>\n",
       "    </tr>\n",
       "  </thead>\n",
       "  <tbody>\n",
       "    <tr>\n",
       "      <td>0</td>\n",
       "      <td>Louvre</td>\n",
       "      <td>The Louvre (English: /ˈluːv(rə)/ LOOV(-rə)),...</td>\n",
       "    </tr>\n",
       "    <tr>\n",
       "      <td>1</td>\n",
       "      <td>Zeitz_Museum_of_Contemporary_Art_Africa</td>\n",
       "      <td>The Zeitz Museum of Contemporary Art Africa (Z...</td>\n",
       "    </tr>\n",
       "    <tr>\n",
       "      <td>2</td>\n",
       "      <td>National_Gallery_of_Canada</td>\n",
       "      <td>The National Gallery of Canada (French: Musée ...</td>\n",
       "    </tr>\n",
       "    <tr>\n",
       "      <td>3</td>\n",
       "      <td>Tate_Modern</td>\n",
       "      <td>Tate Modern is a modern art gallery located in...</td>\n",
       "    </tr>\n",
       "    <tr>\n",
       "      <td>4</td>\n",
       "      <td>Metropolitan_Museum_of_Art</td>\n",
       "      <td>The Metropolitan Museum of Art of New York C...</td>\n",
       "    </tr>\n",
       "    <tr>\n",
       "      <td>5</td>\n",
       "      <td>Mauritshuis</td>\n",
       "      <td>The Mauritshuis (Dutch pronunciation: [ˈmʌurɪt...</td>\n",
       "    </tr>\n",
       "    <tr>\n",
       "      <td>6</td>\n",
       "      <td>National_Palace_Museum</td>\n",
       "      <td>The National Palace Museum,[note 1] located ...</td>\n",
       "    </tr>\n",
       "    <tr>\n",
       "      <td>7</td>\n",
       "      <td>Egyptian_Museum</td>\n",
       "      <td>The Museum of Egyptian Antiquities, known comm...</td>\n",
       "    </tr>\n",
       "    <tr>\n",
       "      <td>8</td>\n",
       "      <td>Kunsthistorisches_Museum</td>\n",
       "      <td>The Kunsthistorisches Museum (lit. \"Museum of ...</td>\n",
       "    </tr>\n",
       "    <tr>\n",
       "      <td>9</td>\n",
       "      <td>San_Francisco_Museum_of_Modern_Art</td>\n",
       "      <td>Coordinates: 37°47′09″N 122°24′03″W﻿ / ﻿37.785...</td>\n",
       "    </tr>\n",
       "    <tr>\n",
       "      <td>10</td>\n",
       "      <td>Museo_Nacional_de_Antropologia</td>\n",
       "      <td>The National Museum of Anthropology (Spanish: ...</td>\n",
       "    </tr>\n",
       "    <tr>\n",
       "      <td>11</td>\n",
       "      <td>Musée_D%27Orsay</td>\n",
       "      <td>The Musée d'Orsay (UK: /ˌmjuːzeɪ dɔːrˈseɪ/ M...</td>\n",
       "    </tr>\n",
       "    <tr>\n",
       "      <td>12</td>\n",
       "      <td>Hermitage_Museum</td>\n",
       "      <td>The State Hermitage Museum (Russian: Госуда́...</td>\n",
       "    </tr>\n",
       "    <tr>\n",
       "      <td>13</td>\n",
       "      <td>Museo_Nacional_del_Prado</td>\n",
       "      <td>The Prado Museum (/ˈprɑːdoʊ/ PRAH-doh; Spani...</td>\n",
       "    </tr>\n",
       "    <tr>\n",
       "      <td>14</td>\n",
       "      <td>The_National_Gallery</td>\n",
       "      <td>The National Gallery is an art museum in Tra...</td>\n",
       "    </tr>\n",
       "    <tr>\n",
       "      <td>15</td>\n",
       "      <td>Rijksmuseum</td>\n",
       "      <td>The Rijksmuseum (Dutch: [ˈrɛiksmyˌzeːjʏm] (l...</td>\n",
       "    </tr>\n",
       "    <tr>\n",
       "      <td>16</td>\n",
       "      <td>Vasa_Museum</td>\n",
       "      <td>The Vasa Museum (Swedish: Vasamuseet) is a mar...</td>\n",
       "    </tr>\n",
       "    <tr>\n",
       "      <td>17</td>\n",
       "      <td>Acropolis_Museum</td>\n",
       "      <td>The Acropolis Museum (Greek: Μουσείο Ακρόπολης...</td>\n",
       "    </tr>\n",
       "    <tr>\n",
       "      <td>18</td>\n",
       "      <td>The_British_Museum</td>\n",
       "      <td>The British Museum, in the Bloomsbury area o...</td>\n",
       "    </tr>\n",
       "    <tr>\n",
       "      <td>19</td>\n",
       "      <td>Galleria_dell%27Accademia</td>\n",
       "      <td>The Galleria dell'Accademia di Firenze, or \"...</td>\n",
       "    </tr>\n",
       "    <tr>\n",
       "      <td>20</td>\n",
       "      <td>Pergamon_Museum</td>\n",
       "      <td>Coordinates: 52°31′16″N 13°23′46″E﻿ / ﻿52.521°...</td>\n",
       "    </tr>\n",
       "  </tbody>\n",
       "</table>\n",
       "</div>"
      ],
      "text/plain": [
       "                                museum_name  \\\n",
       "0                                    Louvre   \n",
       "1   Zeitz_Museum_of_Contemporary_Art_Africa   \n",
       "2                National_Gallery_of_Canada   \n",
       "3                               Tate_Modern   \n",
       "4                Metropolitan_Museum_of_Art   \n",
       "5                               Mauritshuis   \n",
       "6                    National_Palace_Museum   \n",
       "7                           Egyptian_Museum   \n",
       "8                  Kunsthistorisches_Museum   \n",
       "9        San_Francisco_Museum_of_Modern_Art   \n",
       "10           Museo_Nacional_de_Antropologia   \n",
       "11                          Musée_D%27Orsay   \n",
       "12                         Hermitage_Museum   \n",
       "13                 Museo_Nacional_del_Prado   \n",
       "14                     The_National_Gallery   \n",
       "15                              Rijksmuseum   \n",
       "16                              Vasa_Museum   \n",
       "17                         Acropolis_Museum   \n",
       "18                       The_British_Museum   \n",
       "19                Galleria_dell%27Accademia   \n",
       "20                          Pergamon_Museum   \n",
       "\n",
       "                                   museum_description  \n",
       "0     The Louvre (English: /ˈluːv(rə)/ LOOV(-rə)),...  \n",
       "1   The Zeitz Museum of Contemporary Art Africa (Z...  \n",
       "2   The National Gallery of Canada (French: Musée ...  \n",
       "3   Tate Modern is a modern art gallery located in...  \n",
       "4     The Metropolitan Museum of Art of New York C...  \n",
       "5   The Mauritshuis (Dutch pronunciation: [ˈmʌurɪt...  \n",
       "6     The National Palace Museum,[note 1] located ...  \n",
       "7   The Museum of Egyptian Antiquities, known comm...  \n",
       "8   The Kunsthistorisches Museum (lit. \"Museum of ...  \n",
       "9   Coordinates: 37°47′09″N 122°24′03″W﻿ / ﻿37.785...  \n",
       "10  The National Museum of Anthropology (Spanish: ...  \n",
       "11    The Musée d'Orsay (UK: /ˌmjuːzeɪ dɔːrˈseɪ/ M...  \n",
       "12    The State Hermitage Museum (Russian: Госуда́...  \n",
       "13    The Prado Museum (/ˈprɑːdoʊ/ PRAH-doh; Spani...  \n",
       "14    The National Gallery is an art museum in Tra...  \n",
       "15    The Rijksmuseum (Dutch: [ˈrɛiksmyˌzeːjʏm] (l...  \n",
       "16  The Vasa Museum (Swedish: Vasamuseet) is a mar...  \n",
       "17  The Acropolis Museum (Greek: Μουσείο Ακρόπολης...  \n",
       "18    The British Museum, in the Bloomsbury area o...  \n",
       "19    The Galleria dell'Accademia di Firenze, or \"...  \n",
       "20  Coordinates: 52°31′16″N 13°23′46″E﻿ / ﻿52.521°...  "
      ]
     },
     "execution_count": 120,
     "metadata": {},
     "output_type": "execute_result"
    }
   ],
   "source": [
    "for index, row in museum_df.iterrows():\n",
    "    des = row['museum_description']\n",
    "    row['museum_description'] = des.replace('\\n', ' ')\n",
    "    \n",
    "museum_df\n",
    "\n",
    "#Now handcode the location of each musuem to the dataframe\n",
    "location = ['France', 'South Africa', 'Canada', 'UK', 'US', 'Netherlands', 'China', 'Egypt', 'Austria', 'US',\n",
    "           '']"
   ]
  },
  {
   "cell_type": "code",
   "execution_count": 121,
   "metadata": {},
   "outputs": [],
   "source": [
    "location = ['France', 'South Africa', 'Canada', 'UK', 'US', 'Netherlands', 'China', 'Egypt', 'Austria', 'US', 'Mexico',\n",
    "           'France', 'Russia', 'Spain', 'UK', 'Netherlands', 'Sweden', 'Greece', 'UK', 'Italy', 'Germany']\n",
    "museum_df['location'] = location"
   ]
  },
  {
   "cell_type": "code",
   "execution_count": 123,
   "metadata": {},
   "outputs": [],
   "source": [
    "#Now tokenize and normalize this dataframe\n",
    "museum_df['tokenized_sents'] = museum_df['museum_description'].apply(lambda x: [lucem_illud_2020.word_tokenize(s) for s in lucem_illud_2020.sent_tokenize(x)])\n",
    "museum_df['normalized_sents'] = museum_df['tokenized_sents'].apply(lambda x: [lucem_illud_2020.normalizeTokens(s, lemma=False) for s in x])"
   ]
  },
  {
   "cell_type": "code",
   "execution_count": 124,
   "metadata": {},
   "outputs": [],
   "source": [
    "def adprob(ad, model):\n",
    "    sen_scores = model.score(ad, len(ad))\n",
    "    ad_score = sen_scores.mean()\n",
    "    return ad_score"
   ]
  },
  {
   "cell_type": "code",
   "execution_count": 127,
   "metadata": {},
   "outputs": [],
   "source": [
    "#Change the specification of artChicago Word2Vec for the following function to work\n",
    "artChicagoW2V3 = gensim.models.word2vec.Word2Vec(art_chicago['normalized_sents'].sum(), hs=1, negative=0)"
   ]
  },
  {
   "cell_type": "code",
   "execution_count": 128,
   "metadata": {},
   "outputs": [],
   "source": [
    "#Now apply the function to every museum description\n",
    "museum_df['likelihood'] = museum_df['normalized_sents'].apply(lambda x: adprob(x, artChicagoW2V3))"
   ]
  },
  {
   "cell_type": "code",
   "execution_count": 129,
   "metadata": {},
   "outputs": [
    {
     "name": "stdout",
     "output_type": "stream",
     "text": [
      "Mauritshuis\n",
      "\n",
      "\n",
      "Rijksmuseum\n",
      "\n",
      "\n",
      "Vasa_Museum\n",
      "\n",
      "\n",
      "Kunsthistorisches_Museum\n",
      "\n",
      "\n",
      "Musée_D%27Orsay\n",
      "\n",
      "\n"
     ]
    }
   ],
   "source": [
    "#The top 5 museum that is similar to The Art Institute of Chicago\n",
    "for ad in museum_df.sort_values(by = 'likelihood', ascending = False)['museum_name'][:5]:\n",
    "    print (ad + '\\n\\n')"
   ]
  },
  {
   "cell_type": "markdown",
   "metadata": {},
   "source": [
    "We can see that the top five museums that are similar to The Art Institute of Chicago are Mauritshuis Museum in France, Rijkmuseum in Netherlands, Vasa Museum in Sweden, Kunsthistorisches Museum in Austria, and Musee D'Orsay in France."
   ]
  },
  {
   "cell_type": "code",
   "execution_count": 130,
   "metadata": {},
   "outputs": [
    {
     "name": "stdout",
     "output_type": "stream",
     "text": [
      "Metropolitan_Museum_of_Art\n",
      "\n",
      "\n",
      "The_British_Museum\n",
      "\n",
      "\n",
      "Museo_Nacional_del_Prado\n",
      "\n",
      "\n",
      "San_Francisco_Museum_of_Modern_Art\n",
      "\n",
      "\n",
      "The_National_Gallery\n",
      "\n",
      "\n"
     ]
    }
   ],
   "source": [
    "#The last 5 museum that is similar to The Art Institute of Chicago\n",
    "for ad in museum_df.sort_values(by = 'likelihood')['museum_name'][:5]:\n",
    "    print (ad + '\\n\\n')"
   ]
  },
  {
   "cell_type": "markdown",
   "metadata": {},
   "source": [
    "We can see from the results that the least similar museum in our sample. Interestingly, three of the five museums are in North America."
   ]
  },
  {
   "cell_type": "code",
   "execution_count": 131,
   "metadata": {},
   "outputs": [
    {
     "data": {
      "text/html": [
       "<div>\n",
       "<style scoped>\n",
       "    .dataframe tbody tr th:only-of-type {\n",
       "        vertical-align: middle;\n",
       "    }\n",
       "\n",
       "    .dataframe tbody tr th {\n",
       "        vertical-align: top;\n",
       "    }\n",
       "\n",
       "    .dataframe thead th {\n",
       "        text-align: right;\n",
       "    }\n",
       "</style>\n",
       "<table border=\"1\" class=\"dataframe\">\n",
       "  <thead>\n",
       "    <tr style=\"text-align: right;\">\n",
       "      <th></th>\n",
       "      <th>likelihood</th>\n",
       "    </tr>\n",
       "    <tr>\n",
       "      <th>location</th>\n",
       "      <th></th>\n",
       "    </tr>\n",
       "  </thead>\n",
       "  <tbody>\n",
       "    <tr>\n",
       "      <td>Netherlands</td>\n",
       "      <td>-47.586950</td>\n",
       "    </tr>\n",
       "    <tr>\n",
       "      <td>Sweden</td>\n",
       "      <td>-49.968277</td>\n",
       "    </tr>\n",
       "    <tr>\n",
       "      <td>Austria</td>\n",
       "      <td>-54.541698</td>\n",
       "    </tr>\n",
       "    <tr>\n",
       "      <td>China</td>\n",
       "      <td>-61.832558</td>\n",
       "    </tr>\n",
       "    <tr>\n",
       "      <td>Egypt</td>\n",
       "      <td>-64.187233</td>\n",
       "    </tr>\n",
       "    <tr>\n",
       "      <td>Greece</td>\n",
       "      <td>-64.900955</td>\n",
       "    </tr>\n",
       "    <tr>\n",
       "      <td>France</td>\n",
       "      <td>-65.114323</td>\n",
       "    </tr>\n",
       "    <tr>\n",
       "      <td>South Africa</td>\n",
       "      <td>-66.631729</td>\n",
       "    </tr>\n",
       "    <tr>\n",
       "      <td>Canada</td>\n",
       "      <td>-68.499519</td>\n",
       "    </tr>\n",
       "    <tr>\n",
       "      <td>Germany</td>\n",
       "      <td>-68.957664</td>\n",
       "    </tr>\n",
       "    <tr>\n",
       "      <td>Mexico</td>\n",
       "      <td>-70.945068</td>\n",
       "    </tr>\n",
       "    <tr>\n",
       "      <td>Italy</td>\n",
       "      <td>-71.039452</td>\n",
       "    </tr>\n",
       "    <tr>\n",
       "      <td>UK</td>\n",
       "      <td>-72.573800</td>\n",
       "    </tr>\n",
       "    <tr>\n",
       "      <td>Russia</td>\n",
       "      <td>-73.395050</td>\n",
       "    </tr>\n",
       "    <tr>\n",
       "      <td>Spain</td>\n",
       "      <td>-80.404594</td>\n",
       "    </tr>\n",
       "    <tr>\n",
       "      <td>US</td>\n",
       "      <td>-82.152153</td>\n",
       "    </tr>\n",
       "  </tbody>\n",
       "</table>\n",
       "</div>"
      ],
      "text/plain": [
       "              likelihood\n",
       "location                \n",
       "Netherlands   -47.586950\n",
       "Sweden        -49.968277\n",
       "Austria       -54.541698\n",
       "China         -61.832558\n",
       "Egypt         -64.187233\n",
       "Greece        -64.900955\n",
       "France        -65.114323\n",
       "South Africa  -66.631729\n",
       "Canada        -68.499519\n",
       "Germany       -68.957664\n",
       "Mexico        -70.945068\n",
       "Italy         -71.039452\n",
       "UK            -72.573800\n",
       "Russia        -73.395050\n",
       "Spain         -80.404594\n",
       "US            -82.152153"
      ]
     },
     "execution_count": 131,
     "metadata": {},
     "output_type": "execute_result"
    }
   ],
   "source": [
    "#Now group by the country these museums are in:\n",
    "museum_df.groupby(\"location\")[['likelihood']].mean().sort_values('likelihood', ascending = False)"
   ]
  },
  {
   "cell_type": "markdown",
   "metadata": {},
   "source": [
    "Similar results is found in the table above. The Art Institute of Chicago seems to be different from other U.S. museums selected in our sample, which is an interesting result. "
   ]
  },
  {
   "cell_type": "code",
   "execution_count": null,
   "metadata": {},
   "outputs": [],
   "source": []
  }
 ],
 "metadata": {
  "kernelspec": {
   "display_name": "Python 3",
   "language": "python",
   "name": "python3"
  },
  "language_info": {
   "codemirror_mode": {
    "name": "ipython",
    "version": 3
   },
   "file_extension": ".py",
   "mimetype": "text/x-python",
   "name": "python",
   "nbconvert_exporter": "python",
   "pygments_lexer": "ipython3",
   "version": "3.7.1"
  }
 },
 "nbformat": 4,
 "nbformat_minor": 2
}
