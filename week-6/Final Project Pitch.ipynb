{
 "cells": [
  {
   "cell_type": "markdown",
   "metadata": {},
   "source": [
    "# Final Project Pitch"
   ]
  },
  {
   "cell_type": "markdown",
   "metadata": {},
   "source": [
    "1. **WHAT** are you planning to analyze for your final project?"
   ]
  },
  {
   "cell_type": "markdown",
   "metadata": {},
   "source": [
    "My partner Luxin Tian and I plan to investigate through the self-made corpus scrapped from the offical website of The Art Institute of Chicago. The corpus is mainly the descriptions of the artworks collected in the museum. Our corpus contains the following information: The name of the artwork, its approximate time, its author or origin country, and its detailed description. We mainly want to look at what the museum texts reveals about throughout the time of human history. For example, is there any patterns in the evolution of art styles? As globalization went on to influence the world, does the trend of global assimilation have its illustration in art? These are all the possible questions that we aim at answering. "
   ]
  },
  {
   "cell_type": "markdown",
   "metadata": {},
   "source": [
    "2. **WHY** you are going to do it?"
   ]
  },
  {
   "cell_type": "markdown",
   "metadata": {},
   "source": [
    "Museum texts contains a lot of valuable information that has long been ignored by the academy. They have quite a few valuable features worth investigating such as preciseness, objectiveness, as well as inclusiveness. By far museum researches have mostly focused on the qualitative analysis of museum texts. For example, quite a few researches emphasized on how museum texts can sucessfully convey its meanings to vistors of different cultural and linguistic backgrounds. However, the texts (or the artwork descriptions to be precise) contains much more information that can be further digged into. The artworks are mirrors of human cultural and aesthetic evolution. Therefore, by looking at and analyzing the texts that describes these artworks, we might take a look at these trends by the artists' perspectives. "
   ]
  },
  {
   "cell_type": "markdown",
   "metadata": {},
   "source": [
    "3. **HOW** you plan to investigate it?"
   ]
  },
  {
   "cell_type": "markdown",
   "metadata": {},
   "source": [
    "We will mainly conduct our analysis based on the results of word embeddings. Through approximating an artwork by a vector, we may construct a projection of a single artwork on certain categories, for example, eastern and western, or best and worst. Then by projections we may go on analyzing clusters and time trends. Other techniques and approaches that we might utilize are: <br>\n",
    "* Scrapping The Art institute of Chicago official website to obtain the corpus\n",
    "* Examine the complexity/richness of the vocabulary of the museum language corpus using word/phrase frequency statistics.\n",
    "* Perform classification of the artworks in terms of cultural backgrounds, school of arts, etc, based on labelled samples. Examine the existence of patterns embeded in the museum language that can reveal the category of the artworks.\n",
    "* Perform network analysis to reveal the relationship embedded among the artworks, artists, cultures, etc.\n",
    "* Perform clustering analysis and topic modeling to reveal the topics of the artworks. Based on the date label, perform dynamic topic modeling to reveal the evolvement of the arts in the history.\n",
    "* Other analysis that uses further techniques in the next few weeks."
   ]
  },
  {
   "cell_type": "markdown",
   "metadata": {},
   "source": [
    "4. Proposed sample design for my final project"
   ]
  },
  {
   "cell_type": "markdown",
   "metadata": {},
   "source": [
    "My analysis will mainly foucsed on investigating the patterns behind museum texts and the relationships it reveals between different art categories. Furthermore, we will go on to look at the features that artwork descriptions illustrates about the evolution of art and cultural history. <br><br>\n",
    "Museum texts contains the most precise and informative knowledge about a single artwork. Therefore, if we want to look at how cultural changes through the perspective of artworks, studying the contexts of museum texts might be the best choice. However, there are still limitations regarding using museum texts to investigate into cultural and artistic changes. For example, the description of an artwork is restricted to several paragraphs, thus is not rich in expressions and context like those of Wikipedia. <br><br>\n",
    "Another way to conduct similar analysis is downloading the description of these artworks in Wikipedia. However, some of the artworks may not be that famous so that we cannot obtain detailed introduction about it. Also, Wikipedia is contributed by unprofessional volunteers, so its content cannot been given full credit to. <br><br>\n",
    "If we want to scale up the project some day in the future, we may try to scrape texts from more museums, which is a simple way to extend our current sample and scale up our project. "
   ]
  },
  {
   "cell_type": "code",
   "execution_count": null,
   "metadata": {},
   "outputs": [],
   "source": []
  }
 ],
 "metadata": {
  "kernelspec": {
   "display_name": "Python 3",
   "language": "python",
   "name": "python3"
  },
  "language_info": {
   "codemirror_mode": {
    "name": "ipython",
    "version": 3
   },
   "file_extension": ".py",
   "mimetype": "text/x-python",
   "name": "python",
   "nbconvert_exporter": "python",
   "pygments_lexer": "ipython3",
   "version": "3.7.4"
  }
 },
 "nbformat": 4,
 "nbformat_minor": 2
}
