{
 "cells": [
  {
   "cell_type": "code",
   "execution_count": 61,
   "metadata": {},
   "outputs": [],
   "source": [
    "#Special module written for this class\n",
    "#This provides access to data and to helper functions from previous weeks\n",
    "#Make sure you update it before starting this notebook\n",
    "import lucem_illud_2020 #pip install -U git+git://github.com/Computational-Content-Analysis-2020/lucem_illud_2020.git\n",
    "\n",
    "#All these packages need to be installed from pip\n",
    "#For ML\n",
    "import sklearn\n",
    "import sklearn.naive_bayes\n",
    "import sklearn.tree\n",
    "import sklearn.ensemble\n",
    "import sklearn.neural_network\n",
    "import sklearn.decomposition\n",
    "from sklearn import datasets\n",
    "\n",
    "import numpy as np #arrays\n",
    "import matplotlib.pyplot as plt #Plots\n",
    "import matplotlib.colors # For nice colours\n",
    "import seaborn #Makes plots look nice, also heatmaps\n",
    "import scipy as sp #for interp\n",
    "\n",
    "#These are from the standard library\n",
    "import collections\n",
    "import os\n",
    "import os.path\n",
    "import random\n",
    "import re\n",
    "import glob\n",
    "import pandas\n",
    "import requests\n",
    "import json\n",
    "import math\n",
    "\n",
    "#This 'magic' command makes the plots work better\n",
    "#in the notebook, don't use it outside of a notebook.\n",
    "#Also you can ignore the warning\n",
    "%matplotlib inline"
   ]
  },
  {
   "cell_type": "markdown",
   "metadata": {},
   "source": [
    "## <span style=\"color:red\">*Exercise 1*</span>\n",
    "\n",
    "<span style=\"color:red\">Go back through all of the cells above and generate 10 distinct artificial datasets and classify them with all of the available methods. Add a cell immediately below and describe which classifier(s) worked best with which artificially constructed data source and why. Then go through all of the empirical datasets (i.e., Newsgroups, Senate Small, Senate Large, Email Spam) and classify them with all available methods. Add a second cell immediately below and describe which classifier(s) worked best with which data set and why.\n",
    "\n",
    "<span style=\"color:red\">***Stretch*** (but also required) Wander through the SKLearn documentation available [here](http://scikit-learn.org/stable/), particularly perusing the classifiers. In cells following, identify and implement a new classifier that we have not yet used (e.g., AdaBoost, CART) on one artificial dataset and one real dataset (used above). Then, in the next cell describe the classifier, detail how it compares with the approaches above, and why it performed better or worse than others."
   ]
  },
  {
   "cell_type": "markdown",
   "metadata": {},
   "source": [
    "noise = .2\n",
    "\n",
    "noise2 = .5\n",
    "\n",
    "\n",
    "Data set 1: dfTrain, dfTest = lucem_illud_2020.trainTestSplit(lucem_illud_2020.random())\n",
    "\n",
    "Pretty much none of the classifiers worked particularly well with this dataset. Since it is completely random, there isn't much of a pattern to pick up. The best was the DecisionTreeClassifier(). The classifiers that rely on rely on separating the dataset on an axis, or by proximity simply did not work in this case. As a result, the decision tree came out on top.\n",
    "\n",
    "Data set 2: dfTrain, dfTest = lucem_illud_2020.trainTestSplit(lucem_illud_2020.andSplit())\n",
    "\n",
    "All of the models performed well on this simple data set. The data were very easily distinguishable. The Decision tree and the Ensemble Gradient Booster came out on top, but only very marginally. Classifiers that classified based on neighboring classes worked well, as did those that attempted to divide the dataset along an axis.\n",
    "\n",
    "Dataset 3: dfTrain, dfTest = lucem_illud_2020.trainTestSplit(lucem_illud_2020.andSplit(noise))\n",
    "\n",
    "Adding some noise to the dataset decreased the accuracy of some of the classifiers. The K Nearest Neighbors AUC decreased significantly, for example, once the nearest datapoints got muddled together. The Best performers were the Naive Bayes, the SVMs, the nueral network, and the logistic regression. Again, this was a pretty simple dataset, with minor overlap. The classifiers that were not reliant on proximity to other datapoints worked well.\n",
    "\n",
    "Dataset 4: dfTrain, dfTest = lucem_illud_2020.trainTestSplit(lucem_illud_2020.andSplit(noise2))\n",
    "\n",
    "This time I introduced even more noise, to see if the the classifiers would continue to hold up. The accuracy dropped significanlty across the board, but the Random Forest and the Nueral Network MLP classifiers came out on top. Because the random forest aggregates a lot of decision trees, and tries to balance out variance, the increased noise of this dataset does not affect it as much as the other classifiers. The Nueral Network MLP classifier is better capable of learning non linear models, which this is, with all of the noise introduced.\n",
    "\n",
    "Dataset 5: dfTrain, dfTest = lucem_illud_2020.trainTestSplit(lucem_illud_2020.xorSplit())\n",
    "\n",
    "For this dataset, which essentailly separates the data into oppisite corners, the classifiers that attempted to separate the data cleanly along one axis failed. Instead, the K Nearest Neighbors, Decision Tree, Random Forest, Nueral Network MLP, and ensemble.GradientBoostingClassifier worked best. K Nearest worked best because the data was grouped together and separated from unlike data. Once again, we see that the classifiers that work best with non linear data perform better.\n",
    "\n",
    "Dataset 6: dfTrain, dfTest = lucem_illud_2020.trainTestSplit(lucem_illud_2020.xorSplit(noise))\n",
    "\n",
    "By introducing some noise into the dataset, we again see that some classifiers perform worse. Both the K Nearest Neighbors and Random Forest performs worse, while the Nueral Network MLP classifier, with its ability to learn non linear models emerges on top.\n",
    "\n",
    "Dataset 7: dfTrain, dfTest = lucem_illud_2020.trainTestSplit(lucem_illud_2020.targetSplit())\n",
    "\n",
    "So this dataset nests one category within another. For this clean version, many classifiers performed well. Notably the SVM and logistic regression performed poorly, which was unspurising. This data is quite hard to seperate neatly. \n",
    "\n",
    "Dataset 8: dfTrain, dfTest = lucem_illud_2020.trainTestSplit(lucem_illud_2020.targetSplit(noise))\n",
    "\n",
    "Introducing some noise again, and once again the Nueral Network MLP classifier performed best. There seems to be a pattern emerging, where non linear datasets are best modelled by the MLP.\n",
    "\n",
    "Dataset 9: dfTrain, dfTest = lucem_illud_2020.trainTestSplit(lucem_illud_2020.multiBlobs(noise))\n",
    "\n",
    "For this dataset, all of the classifiers performed well. The majority of the categories were clearly grouped together, and separated, the only noise existed on the boundary of two of them. And this is the area where the classifiers struggled. The Random Forest classifier and the K Nearest Neighbors emerged as the strongest. The K Nearest because there just wasn't enough noise to throw it off and the Random Forest because it was able, like in previous datasets, to reduce variance by combining multiple decision trees. \n",
    "\n",
    "Dataset 10: dfTrain, dfTest = lucem_illud_2020.trainTestSplit(lucem_illud_2020.multiBlobs(noise2))\n",
    "\n",
    "Increasing the noise greatly decreased the accuracy of the K Nearest Neighbors classifiers. Suprisingly, a lot of the other classifiers seemed to do well. What was happening was they were easily classifiying the categories that were not intermingled with any others, and had difficulty classifying the noisy data. "
   ]
  },
  {
   "cell_type": "markdown",
   "metadata": {},
   "source": [
    "Empirical Datasets:\n",
    "\n",
    "Reddit:\n",
    "\n",
    "A lot of classifiers seemed to do well with this one. Only the Naive Bayes and svm.SVC(kernel = 'poly' did poorly. There seems to be a lot over overlap between different categories, but perhaps there is enough distinction at the smaller scales, that the decision trees are able to figure things out. The Random Forest classifier, which is capable of using this overfitting to achieve better results, performed better than the simple decision tree.\n",
    "\n",
    "News groups:\n",
    "\n",
    "SVM SVC with a linear kernel performed best in this case, alongside Nueral Network MLP classifier. This is a bit suprising. However, it seems that there was enough distinction between the news groups to be able to seperate them linearly, and enough spread for the MLP classifier to work as well.\n",
    "\n",
    "Senate Small:\n",
    "\n",
    "SVM SVC with a linear kernel performed best in this case as well. Looking at the data it seems that though there is a small overlap between the Obama and Clinton data, most of it can be accurately divided along a linear axis.\n",
    "\n",
    "Senate Large:\n",
    "\n",
    "Many of the classifiers did well with this one. It seems that sharing the first letter of your last name does not guarantee similarity in political views or speeches. Looking at the data there does seem to be a lot of overlap, but the decision tree and random forest classifiers were able to classify the data with a high degree of accuracy, likely becuase they were finding those minute differences.\n",
    "\n",
    "Spam:\n",
    "\n",
    "Suprisingly a lot of the classifiers struggled to clasify spam vs ham. The best turned out to be the Naive Bayes and the Neural Network MLP classifiers. This is not too suprising. The Naive Bayes outright states that it is good at classifying spam, and the NN MLP works well with non linear data, which this seems to be.\n"
   ]
  },
  {
   "cell_type": "code",
   "execution_count": 222,
   "metadata": {},
   "outputs": [],
   "source": [
    "# new classifier\n",
    "clf = sklearn.ensemble.BaggingClassifier()"
   ]
  },
  {
   "cell_type": "code",
   "execution_count": 223,
   "metadata": {},
   "outputs": [],
   "source": [
    "noise = .2\n",
    "dfTrain, dfTest = lucem_illud_2020.trainTestSplit(lucem_illud_2020.andSplit(noise))"
   ]
  },
  {
   "cell_type": "code",
   "execution_count": 224,
   "metadata": {},
   "outputs": [
    {
     "data": {
      "text/plain": [
       "BaggingClassifier(base_estimator=None, bootstrap=True, bootstrap_features=False,\n",
       "                  max_features=1.0, max_samples=1.0, n_estimators=10,\n",
       "                  n_jobs=None, oob_score=False, random_state=None, verbose=0,\n",
       "                  warm_start=False)"
      ]
     },
     "execution_count": 224,
     "metadata": {},
     "output_type": "execute_result"
    }
   ],
   "source": [
    "clf.fit(np.stack(dfTrain['vect'], axis=0), dfTrain['category'])"
   ]
  },
  {
   "cell_type": "code",
   "execution_count": 225,
   "metadata": {},
   "outputs": [
    {
     "data": {
      "text/html": [
       "<div>\n",
       "<style scoped>\n",
       "    .dataframe tbody tr th:only-of-type {\n",
       "        vertical-align: middle;\n",
       "    }\n",
       "\n",
       "    .dataframe tbody tr th {\n",
       "        vertical-align: top;\n",
       "    }\n",
       "\n",
       "    .dataframe thead th {\n",
       "        text-align: right;\n",
       "    }\n",
       "</style>\n",
       "<table border=\"1\" class=\"dataframe\">\n",
       "  <thead>\n",
       "    <tr style=\"text-align: right;\">\n",
       "      <th></th>\n",
       "      <th>Error_Rate</th>\n",
       "      <th>AUC</th>\n",
       "      <th>Precision</th>\n",
       "      <th>Average_Precision</th>\n",
       "      <th>Recall</th>\n",
       "    </tr>\n",
       "    <tr>\n",
       "      <th>Category</th>\n",
       "      <th></th>\n",
       "      <th></th>\n",
       "      <th></th>\n",
       "      <th></th>\n",
       "      <th></th>\n",
       "    </tr>\n",
       "  </thead>\n",
       "  <tbody>\n",
       "    <tr>\n",
       "      <td>0</td>\n",
       "      <td>0.105</td>\n",
       "      <td>0.894726</td>\n",
       "      <td>0.906542</td>\n",
       "      <td>0.869209</td>\n",
       "      <td>0.898148</td>\n",
       "    </tr>\n",
       "    <tr>\n",
       "      <td>1</td>\n",
       "      <td>0.105</td>\n",
       "      <td>0.894726</td>\n",
       "      <td>0.881720</td>\n",
       "      <td>0.835881</td>\n",
       "      <td>0.891304</td>\n",
       "    </tr>\n",
       "  </tbody>\n",
       "</table>\n",
       "</div>"
      ],
      "text/plain": [
       "          Error_Rate       AUC  Precision  Average_Precision    Recall\n",
       "Category                                                              \n",
       "0              0.105  0.894726   0.906542           0.869209  0.898148\n",
       "1              0.105  0.894726   0.881720           0.835881  0.891304"
      ]
     },
     "execution_count": 225,
     "metadata": {},
     "output_type": "execute_result"
    }
   ],
   "source": [
    "lucem_illud_2020.evaluateClassifier(clf, dfTest)"
   ]
  },
  {
   "cell_type": "code",
   "execution_count": 226,
   "metadata": {},
   "outputs": [
    {
     "data": {
      "image/png": "[encoded data removed]",
      "text/plain": [
       "<Figure size 432x288 with 1 Axes>"
      ]
     },
     "metadata": {
      "needs_background": "light"
     },
     "output_type": "display_data"
    }
   ],
   "source": [
    "lucem_illud_2020.plotConfusionMatrix(clf, dfTest)"
   ]
  },
  {
   "cell_type": "code",
   "execution_count": 227,
   "metadata": {},
   "outputs": [
    {
     "data": {
      "image/png": "[encoded data removed]",
      "text/plain": [
       "<Figure size 720x720 with 1 Axes>"
      ]
     },
     "metadata": {
      "needs_background": "light"
     },
     "output_type": "display_data"
    }
   ],
   "source": [
    "lucem_illud_2020.plotMultiROC(clf, dfTest)"
   ]
  },
  {
   "cell_type": "code",
   "execution_count": 228,
   "metadata": {},
   "outputs": [
    {
     "name": "stderr",
     "output_type": "stream",
     "text": [
      "'c' argument looks like a single numeric RGB or RGBA sequence, which should be avoided as value-mapping will have precedence in case its length matches with 'x' & 'y'.  Please use a 2-D array with a single row if you really want to specify the same RGB or RGBA value for all points.\n",
      "'c' argument looks like a single numeric RGB or RGBA sequence, which should be avoided as value-mapping will have precedence in case its length matches with 'x' & 'y'.  Please use a 2-D array with a single row if you really want to specify the same RGB or RGBA value for all points.\n"
     ]
    },
    {
     "data": {
      "image/png": "[encoded data removed]",
      "text/plain": [
       "<Figure size 720x720 with 1 Axes>"
      ]
     },
     "metadata": {
      "needs_background": "light"
     },
     "output_type": "display_data"
    }
   ],
   "source": [
    "lucem_illud_2020.plotregions(clf, dfTrain)"
   ]
  },
  {
   "cell_type": "code",
   "execution_count": 229,
   "metadata": {},
   "outputs": [
    {
     "name": "stdout",
     "output_type": "stream",
     "text": [
      "Loading senator: Klobuchar\n",
      "Loading senator: Kyl\n",
      "Loading senator: Kerry\n",
      "Loading senator: Kohl\n",
      "Loading senator: Kennedy\n",
      "Converting to vectors\n"
     ]
    }
   ],
   "source": [
    "dfTrain, dfTest = lucem_illud_2020.trainTestSplit(lucem_illud_2020.loadSenateLarge())"
   ]
  },
  {
   "cell_type": "code",
   "execution_count": 230,
   "metadata": {},
   "outputs": [
    {
     "data": {
      "text/plain": [
       "BaggingClassifier(base_estimator=None, bootstrap=True, bootstrap_features=False,\n",
       "                  max_features=1.0, max_samples=1.0, n_estimators=10,\n",
       "                  n_jobs=None, oob_score=False, random_state=None, verbose=0,\n",
       "                  warm_start=False)"
      ]
     },
     "execution_count": 230,
     "metadata": {},
     "output_type": "execute_result"
    }
   ],
   "source": [
    "clf.fit(np.stack(dfTrain['vect'], axis=0), dfTrain['category'])"
   ]
  },
  {
   "cell_type": "code",
   "execution_count": 231,
   "metadata": {},
   "outputs": [
    {
     "data": {
      "text/html": [
       "<div>\n",
       "<style scoped>\n",
       "    .dataframe tbody tr th:only-of-type {\n",
       "        vertical-align: middle;\n",
       "    }\n",
       "\n",
       "    .dataframe tbody tr th {\n",
       "        vertical-align: top;\n",
       "    }\n",
       "\n",
       "    .dataframe thead th {\n",
       "        text-align: right;\n",
       "    }\n",
       "</style>\n",
       "<table border=\"1\" class=\"dataframe\">\n",
       "  <thead>\n",
       "    <tr style=\"text-align: right;\">\n",
       "      <th></th>\n",
       "      <th>Error_Rate</th>\n",
       "      <th>AUC</th>\n",
       "      <th>Precision</th>\n",
       "      <th>Average_Precision</th>\n",
       "      <th>Recall</th>\n",
       "    </tr>\n",
       "    <tr>\n",
       "      <th>Category</th>\n",
       "      <th></th>\n",
       "      <th></th>\n",
       "      <th></th>\n",
       "      <th></th>\n",
       "      <th></th>\n",
       "    </tr>\n",
       "  </thead>\n",
       "  <tbody>\n",
       "    <tr>\n",
       "      <td>Kerry</td>\n",
       "      <td>0.000000</td>\n",
       "      <td>1.000000</td>\n",
       "      <td>1.000000</td>\n",
       "      <td>1.000000</td>\n",
       "      <td>1.000000</td>\n",
       "    </tr>\n",
       "    <tr>\n",
       "      <td>Kyl</td>\n",
       "      <td>0.001282</td>\n",
       "      <td>0.995763</td>\n",
       "      <td>1.000000</td>\n",
       "      <td>0.992807</td>\n",
       "      <td>0.991525</td>\n",
       "    </tr>\n",
       "    <tr>\n",
       "      <td>Kohl</td>\n",
       "      <td>0.001282</td>\n",
       "      <td>0.999291</td>\n",
       "      <td>0.986842</td>\n",
       "      <td>0.986842</td>\n",
       "      <td>1.000000</td>\n",
       "    </tr>\n",
       "    <tr>\n",
       "      <td>Klobuchar</td>\n",
       "      <td>0.001282</td>\n",
       "      <td>0.991379</td>\n",
       "      <td>1.000000</td>\n",
       "      <td>0.984041</td>\n",
       "      <td>0.982759</td>\n",
       "    </tr>\n",
       "    <tr>\n",
       "      <td>Kennedy</td>\n",
       "      <td>0.003846</td>\n",
       "      <td>0.996263</td>\n",
       "      <td>0.993902</td>\n",
       "      <td>0.992145</td>\n",
       "      <td>0.996942</td>\n",
       "    </tr>\n",
       "  </tbody>\n",
       "</table>\n",
       "</div>"
      ],
      "text/plain": [
       "           Error_Rate       AUC  Precision  Average_Precision    Recall\n",
       "Category                                                               \n",
       "Kerry        0.000000  1.000000   1.000000           1.000000  1.000000\n",
       "Kyl          0.001282  0.995763   1.000000           0.992807  0.991525\n",
       "Kohl         0.001282  0.999291   0.986842           0.986842  1.000000\n",
       "Klobuchar    0.001282  0.991379   1.000000           0.984041  0.982759\n",
       "Kennedy      0.003846  0.996263   0.993902           0.992145  0.996942"
      ]
     },
     "execution_count": 231,
     "metadata": {},
     "output_type": "execute_result"
    }
   ],
   "source": [
    "lucem_illud_2020.evaluateClassifier(clf, dfTest)"
   ]
  },
  {
   "cell_type": "code",
   "execution_count": 232,
   "metadata": {},
   "outputs": [
    {
     "data": {
      "image/png": "[encoded data removed]",
      "text/plain": [
       "<Figure size 432x288 with 1 Axes>"
      ]
     },
     "metadata": {
      "needs_background": "light"
     },
     "output_type": "display_data"
    }
   ],
   "source": [
    "lucem_illud_2020.plotConfusionMatrix(clf, dfTest)"
   ]
  },
  {
   "cell_type": "code",
   "execution_count": 233,
   "metadata": {},
   "outputs": [
    {
     "data": {
      "image/png": "[encoded data removed]",
      "text/plain": [
       "<Figure size 720x720 with 1 Axes>"
      ]
     },
     "metadata": {
      "needs_background": "light"
     },
     "output_type": "display_data"
    }
   ],
   "source": [
    "lucem_illud_2020.plotMultiROC(clf, dfTest)"
   ]
  },
  {
   "cell_type": "code",
   "execution_count": 234,
   "metadata": {},
   "outputs": [
    {
     "name": "stderr",
     "output_type": "stream",
     "text": [
      "'c' argument looks like a single numeric RGB or RGBA sequence, which should be avoided as value-mapping will have precedence in case its length matches with 'x' & 'y'.  Please use a 2-D array with a single row if you really want to specify the same RGB or RGBA value for all points.\n",
      "'c' argument looks like a single numeric RGB or RGBA sequence, which should be avoided as value-mapping will have precedence in case its length matches with 'x' & 'y'.  Please use a 2-D array with a single row if you really want to specify the same RGB or RGBA value for all points.\n",
      "'c' argument looks like a single numeric RGB or RGBA sequence, which should be avoided as value-mapping will have precedence in case its length matches with 'x' & 'y'.  Please use a 2-D array with a single row if you really want to specify the same RGB or RGBA value for all points.\n",
      "'c' argument looks like a single numeric RGB or RGBA sequence, which should be avoided as value-mapping will have precedence in case its length matches with 'x' & 'y'.  Please use a 2-D array with a single row if you really want to specify the same RGB or RGBA value for all points.\n",
      "'c' argument looks like a single numeric RGB or RGBA sequence, which should be avoided as value-mapping will have precedence in case its length matches with 'x' & 'y'.  Please use a 2-D array with a single row if you really want to specify the same RGB or RGBA value for all points.\n"
     ]
    },
    {
     "data": {
      "image/png": "[encoded data removed]",
      "text/plain": [
       "<Figure size 720x720 with 1 Axes>"
      ]
     },
     "metadata": {
      "needs_background": "light"
     },
     "output_type": "display_data"
    }
   ],
   "source": [
    "lucem_illud_2020.plotregions(clf, dfTrain)"
   ]
  },
  {
   "cell_type": "markdown",
   "metadata": {},
   "source": [
    "A bagging classifier essentailly aggregates the predictions of a lot of other classifiers to make a better final prediction. It runs base classifiers on subsets of the data and then takes all of their predictions and that is its final prediction. It can be used to reduce the variance of some black box models, such as the decision trees we used. In both cases, it seemed to perform on par with the best classifiers for each dataset."
   ]
  },
  {
   "cell_type": "markdown",
   "metadata": {},
   "source": [
    "## <span style=\"color:red\">*Exercise 2*</span>\n",
    "\n",
    "<span style=\"color:red\">In the cells immediately following, perform Logistic and Naïve Bayes classification (binary or multinomial) using training, testing and extrapolation (uncoded) data from texts and hand-classifications associated with your final project (e.g., these could be crowd-sourced codes gathered through Amazon Mechanical Turk last week). Visualize the confusion matrix for training and testing sets. Calculate precision, recall, the F-measure, and AUC, then perform an ROC visualization. \n",
    "    \n",
    "<span style=\"color:red\">How do these classifiers perform? Exrapolate codes from these models to all uncoded data.\n"
   ]
  },
  {
   "cell_type": "code",
   "execution_count": 40,
   "metadata": {},
   "outputs": [],
   "source": [
    "targetDir = '/Users/Leha/Desktop/Izvestia/Abby_Fine_Reader_Extracted_Text/1997_txt' #Change this to your own directory of texts\n",
    "izvestiiaText = []\n",
    "izvestiiaFileName = []\n",
    "IzvestiiaYear = []\n",
    "Izvestiiatype = []\n",
    "t = \"Democratic\"\n",
    "year = \"1997\"\n",
    "\n",
    "\n",
    "for file in (file for file in os.scandir(targetDir) if file.is_file() and not file.name.startswith('.')):\n",
    "    with open(file.path, encoding=\"utf-8\") as f:\n",
    "        izvestiiaText.append(f.read())\n",
    "    izvestiiaFileName.append(file.name)\n",
    "    IzvestiiaYear.append(year)\n",
    "    Izvestiiatype.append(t)"
   ]
  },
  {
   "cell_type": "code",
   "execution_count": 41,
   "metadata": {},
   "outputs": [
    {
     "data": {
      "text/html": [
       "<div>\n",
       "<style scoped>\n",
       "    .dataframe tbody tr th:only-of-type {\n",
       "        vertical-align: middle;\n",
       "    }\n",
       "\n",
       "    .dataframe tbody tr th {\n",
       "        vertical-align: top;\n",
       "    }\n",
       "\n",
       "    .dataframe thead th {\n",
       "        text-align: right;\n",
       "    }\n",
       "</style>\n",
       "<table border=\"1\" class=\"dataframe\">\n",
       "  <thead>\n",
       "    <tr style=\"text-align: right;\">\n",
       "      <th></th>\n",
       "      <th>text</th>\n",
       "      <th>year</th>\n",
       "      <th>filename</th>\n",
       "      <th>type</th>\n",
       "    </tr>\n",
       "  </thead>\n",
       "  <tbody>\n",
       "    <tr>\n",
       "      <td>0</td>\n",
       "      <td>﻿ФИНАНСОВЫЕ ИЗВЕСТИЯ Ко 99 &lt;459)\\nБАНКИ И ФИНА...</td>\n",
       "      <td>1997</td>\n",
       "      <td>1997 Issue 246 December 30 Page 9.txt</td>\n",
       "      <td>Democratic</td>\n",
       "    </tr>\n",
       "    <tr>\n",
       "      <td>1</td>\n",
       "      <td>﻿№ 75 О\\nИЗВЕСТИЯ\\n22 апреля 1997 года •\\n3\\nП...</td>\n",
       "      <td>1997</td>\n",
       "      <td>1997 Issue 75 April 22 Page 3.txt</td>\n",
       "      <td>Democratic</td>\n",
       "    </tr>\n",
       "    <tr>\n",
       "      <td>2</td>\n",
       "      <td>﻿№ 94 •\\nИЗВЕСТИЯ\\nБОЛЬШИЕ\\nОЗМОЖНОСТИ\\nРОСТА\\...</td>\n",
       "      <td>1997</td>\n",
       "      <td>1997 Issue 94 May 22 Page 6.txt</td>\n",
       "      <td>Democratic</td>\n",
       "    </tr>\n",
       "    <tr>\n",
       "      <td>3</td>\n",
       "      <td>﻿№ 133 •\\nИЗВЕСТИЯ\\n18 июля 1997 года *\\nВерса...</td>\n",
       "      <td>1997</td>\n",
       "      <td>1997 Issue 133 July 18 Page 3.txt</td>\n",
       "      <td>Democratic</td>\n",
       "    </tr>\n",
       "    <tr>\n",
       "      <td>4</td>\n",
       "      <td>﻿1\\nI\\nI\\nС0-7МЮ5 ®\\n•\\tПроигрыватель СО для 2...</td>\n",
       "      <td>1997</td>\n",
       "      <td>1997 Issue 37 February 26 Page 4.txt</td>\n",
       "      <td>Democratic</td>\n",
       "    </tr>\n",
       "    <tr>\n",
       "      <td>...</td>\n",
       "      <td>...</td>\n",
       "      <td>...</td>\n",
       "      <td>...</td>\n",
       "      <td>...</td>\n",
       "    </tr>\n",
       "    <tr>\n",
       "      <td>110</td>\n",
       "      <td>﻿№56 •\\nИЗВЕСТИЯ\\n26 марта 1°|&gt;7 ’&lt;&gt;'&lt;\\t•\\nНаш...</td>\n",
       "      <td>1997</td>\n",
       "      <td>1997 Issue 56 March 26 Page 6.txt</td>\n",
       "      <td>Democratic</td>\n",
       "    </tr>\n",
       "    <tr>\n",
       "      <td>111</td>\n",
       "      <td>﻿№ 18 3\\nИЗВЕСТИЯ\\n30 января 1997 года •\\nВ со...</td>\n",
       "      <td>1997</td>\n",
       "      <td>1997 Issue 18 January 30 Page 6.txt</td>\n",
       "      <td>Democratic</td>\n",
       "    </tr>\n",
       "    <tr>\n",
       "      <td>112</td>\n",
       "      <td>﻿№ 56 •\\nИЗВЕСТИЯ\\n26 марта 1997 года •\\n' Таб...</td>\n",
       "      <td>1997</td>\n",
       "      <td>1997 Issue 56 March 26 Page 7.txt</td>\n",
       "      <td>Democratic</td>\n",
       "    </tr>\n",
       "    <tr>\n",
       "      <td>113</td>\n",
       "      <td>﻿№ 227 •\\nИЗВЕСТИЯ\\n29 ноября 1997 года •\\n3\\n...</td>\n",
       "      <td>1997</td>\n",
       "      <td>1997 Issue 227 November 29 Page 3.txt</td>\n",
       "      <td>Democratic</td>\n",
       "    </tr>\n",
       "    <tr>\n",
       "      <td>114</td>\n",
       "      <td>﻿№ 246 •\\nИЗВЕСТИЯ\\n30 декабря 1997 года •\\nВз...</td>\n",
       "      <td>1997</td>\n",
       "      <td>1997 Issue 246 December 30 Page 4.txt</td>\n",
       "      <td>Democratic</td>\n",
       "    </tr>\n",
       "  </tbody>\n",
       "</table>\n",
       "<p>115 rows × 4 columns</p>\n",
       "</div>"
      ],
      "text/plain": [
       "                                                  text  year  \\\n",
       "0    ﻿ФИНАНСОВЫЕ ИЗВЕСТИЯ Ко 99 <459)\\nБАНКИ И ФИНА...  1997   \n",
       "1    ﻿№ 75 О\\nИЗВЕСТИЯ\\n22 апреля 1997 года •\\n3\\nП...  1997   \n",
       "2    ﻿№ 94 •\\nИЗВЕСТИЯ\\nБОЛЬШИЕ\\nОЗМОЖНОСТИ\\nРОСТА\\...  1997   \n",
       "3    ﻿№ 133 •\\nИЗВЕСТИЯ\\n18 июля 1997 года *\\nВерса...  1997   \n",
       "4    ﻿1\\nI\\nI\\nС0-7МЮ5 ®\\n•\\tПроигрыватель СО для 2...  1997   \n",
       "..                                                 ...   ...   \n",
       "110  ﻿№56 •\\nИЗВЕСТИЯ\\n26 марта 1°|>7 ’<>'<\\t•\\nНаш...  1997   \n",
       "111  ﻿№ 18 3\\nИЗВЕСТИЯ\\n30 января 1997 года •\\nВ со...  1997   \n",
       "112  ﻿№ 56 •\\nИЗВЕСТИЯ\\n26 марта 1997 года •\\n' Таб...  1997   \n",
       "113  ﻿№ 227 •\\nИЗВЕСТИЯ\\n29 ноября 1997 года •\\n3\\n...  1997   \n",
       "114  ﻿№ 246 •\\nИЗВЕСТИЯ\\n30 декабря 1997 года •\\nВз...  1997   \n",
       "\n",
       "                                  filename        type  \n",
       "0    1997 Issue 246 December 30 Page 9.txt  Democratic  \n",
       "1        1997 Issue 75 April 22 Page 3.txt  Democratic  \n",
       "2          1997 Issue 94 May 22 Page 6.txt  Democratic  \n",
       "3        1997 Issue 133 July 18 Page 3.txt  Democratic  \n",
       "4     1997 Issue 37 February 26 Page 4.txt  Democratic  \n",
       "..                                     ...         ...  \n",
       "110      1997 Issue 56 March 26 Page 6.txt  Democratic  \n",
       "111    1997 Issue 18 January 30 Page 6.txt  Democratic  \n",
       "112      1997 Issue 56 March 26 Page 7.txt  Democratic  \n",
       "113  1997 Issue 227 November 29 Page 3.txt  Democratic  \n",
       "114  1997 Issue 246 December 30 Page 4.txt  Democratic  \n",
       "\n",
       "[115 rows x 4 columns]"
      ]
     },
     "execution_count": 41,
     "metadata": {},
     "output_type": "execute_result"
    }
   ],
   "source": [
    "izvestiia_df1997 = pandas.DataFrame({'text' : izvestiiaText, 'year':IzvestiiaYear, 'filename':izvestiiaFileName, 'type':Izvestiiatype})\n",
    "izvestiia_df1997"
   ]
  },
  {
   "cell_type": "code",
   "execution_count": 42,
   "metadata": {},
   "outputs": [],
   "source": [
    "targetDir = '/Users/Leha/Desktop/Izvestia/Abby_Fine_Reader_Extracted_Text/1996_txt' #Change this to your own directory of texts\n",
    "izvestiiaText = []\n",
    "izvestiiaFileName = []\n",
    "IzvestiiaYear = []\n",
    "year = \"1996\"\n",
    "Izvestiiatype = []\n",
    "t = \"Democratic\"\n",
    "\n",
    "for file in (file for file in os.scandir(targetDir) if file.is_file() and not file.name.startswith('.')):\n",
    "    with open(file.path, encoding=\"utf-8\") as f:\n",
    "        izvestiiaText.append(f.read())\n",
    "    izvestiiaFileName.append(file.name)\n",
    "    IzvestiiaYear.append(year)\n",
    "    Izvestiiatype.append(t)"
   ]
  },
  {
   "cell_type": "code",
   "execution_count": 43,
   "metadata": {},
   "outputs": [],
   "source": [
    "izvestiia_df1996 = pandas.DataFrame({'text' : izvestiiaText, 'year':IzvestiiaYear, 'filename':izvestiiaFileName, 'type':Izvestiiatype})"
   ]
  },
  {
   "cell_type": "code",
   "execution_count": 44,
   "metadata": {},
   "outputs": [],
   "source": [
    "targetDir = '/Users/Leha/Desktop/Izvestia/Abby_Fine_Reader_Extracted_Text/1995_txt' #Change this to your own directory of texts\n",
    "izvestiiaText = []\n",
    "izvestiiaFileName = []\n",
    "IzvestiiaYear = []\n",
    "year = \"1995\"\n",
    "Izvestiiatype = []\n",
    "t = \"Democratic\"\n",
    "\n",
    "for file in (file for file in os.scandir(targetDir) if file.is_file() and not file.name.startswith('.')):\n",
    "    with open(file.path, encoding=\"utf-8\") as f:\n",
    "        izvestiiaText.append(f.read())\n",
    "    izvestiiaFileName.append(file.name)\n",
    "    IzvestiiaYear.append(year)\n",
    "    Izvestiiatype.append(t)"
   ]
  },
  {
   "cell_type": "code",
   "execution_count": 45,
   "metadata": {},
   "outputs": [],
   "source": [
    "izvestiia_df1995 = pandas.DataFrame({'text' : izvestiiaText, 'year':IzvestiiaYear, 'filename':izvestiiaFileName, 'type':Izvestiiatype})"
   ]
  },
  {
   "cell_type": "code",
   "execution_count": 46,
   "metadata": {},
   "outputs": [],
   "source": [
    "targetDir = '/Users/Leha/Content-Analysis-2020/data/1984_txt' #Change this to your own directory of texts\n",
    "izvestiiaText = []\n",
    "izvestiiaFileName = []\n",
    "IzvestiiaYear = []\n",
    "year = \"1984\"\n",
    "Izvestiiatype = []\n",
    "t = \"Communist\"\n",
    "\n",
    "for file in (file for file in os.scandir(targetDir) if file.is_file() and not file.name.startswith('.')):\n",
    "    with open(file.path, encoding=\"utf-8\") as f:\n",
    "        izvestiiaText.append(f.read())\n",
    "    izvestiiaFileName.append(file.name)\n",
    "    IzvestiiaYear.append(year)\n",
    "    Izvestiiatype.append(t)"
   ]
  },
  {
   "cell_type": "code",
   "execution_count": 47,
   "metadata": {},
   "outputs": [],
   "source": [
    "izvestiia_df1984 = pandas.DataFrame({'text' : izvestiiaText, 'year':IzvestiiaYear, 'filename':izvestiiaFileName, 'type':Izvestiiatype})"
   ]
  },
  {
   "cell_type": "code",
   "execution_count": 48,
   "metadata": {},
   "outputs": [],
   "source": [
    "targetDir = '/Users/Leha/Content-Analysis-2020/data/1985_txt' #Change this to your own directory of texts\n",
    "izvestiiaText = []\n",
    "izvestiiaFileName = []\n",
    "IzvestiiaYear = []\n",
    "year = \"1985\"\n",
    "Izvestiiatype = []\n",
    "t = \"Communist\"\n",
    "\n",
    "for file in (file for file in os.scandir(targetDir) if file.is_file() and not file.name.startswith('.')):\n",
    "    with open(file.path, encoding=\"utf-8\") as f:\n",
    "        izvestiiaText.append(f.read())\n",
    "    izvestiiaFileName.append(file.name)\n",
    "    IzvestiiaYear.append(year)\n",
    "    Izvestiiatype.append(t)"
   ]
  },
  {
   "cell_type": "code",
   "execution_count": 49,
   "metadata": {},
   "outputs": [],
   "source": [
    "izvestiia_df1985 = pandas.DataFrame({'text' : izvestiiaText, 'year':IzvestiiaYear, 'filename':izvestiiaFileName, 'type':Izvestiiatype})"
   ]
  },
  {
   "cell_type": "code",
   "execution_count": 50,
   "metadata": {},
   "outputs": [],
   "source": [
    "targetDir = '/Users/Leha/Content-Analysis-2020/data/1986_txt' #Change this to your own directory of texts\n",
    "izvestiiaText = []\n",
    "izvestiiaFileName = []\n",
    "IzvestiiaYear = []\n",
    "year = \"1986\"\n",
    "Izvestiiatype = []\n",
    "t = \"Communist\"\n",
    "\n",
    "for file in (file for file in os.scandir(targetDir) if file.is_file() and not file.name.startswith('.')):\n",
    "    with open(file.path, encoding=\"utf-8\") as f:\n",
    "        izvestiiaText.append(f.read())\n",
    "    izvestiiaFileName.append(file.name)\n",
    "    IzvestiiaYear.append(year)\n",
    "    Izvestiiatype.append(t)"
   ]
  },
  {
   "cell_type": "code",
   "execution_count": 51,
   "metadata": {},
   "outputs": [],
   "source": [
    "izvestiia_df1986 = pandas.DataFrame({'text' : izvestiiaText, 'year':IzvestiiaYear, 'filename':izvestiiaFileName, 'type':Izvestiiatype})"
   ]
  },
  {
   "cell_type": "code",
   "execution_count": 52,
   "metadata": {},
   "outputs": [
    {
     "data": {
      "text/html": [
       "<div>\n",
       "<style scoped>\n",
       "    .dataframe tbody tr th:only-of-type {\n",
       "        vertical-align: middle;\n",
       "    }\n",
       "\n",
       "    .dataframe tbody tr th {\n",
       "        vertical-align: top;\n",
       "    }\n",
       "\n",
       "    .dataframe thead th {\n",
       "        text-align: right;\n",
       "    }\n",
       "</style>\n",
       "<table border=\"1\" class=\"dataframe\">\n",
       "  <thead>\n",
       "    <tr style=\"text-align: right;\">\n",
       "      <th></th>\n",
       "      <th>text</th>\n",
       "      <th>year</th>\n",
       "      <th>filename</th>\n",
       "      <th>type</th>\n",
       "    </tr>\n",
       "  </thead>\n",
       "  <tbody>\n",
       "    <tr>\n",
       "      <td>0</td>\n",
       "      <td>ПРОЛЕТАРИИ ВСЕХ СТРАН. С О1ДИНЯЙТЕСБ! ПРОЛЕТАМ...</td>\n",
       "      <td>1986</td>\n",
       "      <td>1986 Issue 080 Page 1.txt</td>\n",
       "      <td>Communist</td>\n",
       "    </tr>\n",
       "    <tr>\n",
       "      <td>1</td>\n",
       "      <td>ИЗВЕСТИЯ\\t■■\\t\\t\\n\\n\\t\\t№ 360\\t♦\\t26 декабря\\n...</td>\n",
       "      <td>1986</td>\n",
       "      <td>1986 Issue 360 Page 6.txt</td>\n",
       "      <td>Communist</td>\n",
       "    </tr>\n",
       "    <tr>\n",
       "      <td>2</td>\n",
       "      <td>ИЗВЕСТИЯ\\n\\nНА БУЕРАХ — ЗА ПОЛЯРНЫМ КРУГОМ\\n\\n...</td>\n",
       "      <td>1986</td>\n",
       "      <td>1986 Issue 136 Page 6.txt</td>\n",
       "      <td>Communist</td>\n",
       "    </tr>\n",
       "    <tr>\n",
       "      <td>3</td>\n",
       "      <td>ИЗВЕСТИЯ\\n\\nПО СТРАНАМ 1/1 НСНТИНЕНТАМ = -\\n\\n...</td>\n",
       "      <td>1986</td>\n",
       "      <td>1986 Issue 136 Page 4.txt</td>\n",
       "      <td>Communist</td>\n",
       "    </tr>\n",
       "    <tr>\n",
       "      <td>4</td>\n",
       "      <td>№80\\t♦\\t21 марта 1986 года\\n\\nУказ Президиума\\...</td>\n",
       "      <td>1986</td>\n",
       "      <td>1986 Issue 080 Page 2.txt</td>\n",
       "      <td>Communist</td>\n",
       "    </tr>\n",
       "    <tr>\n",
       "      <td>...</td>\n",
       "      <td>...</td>\n",
       "      <td>...</td>\n",
       "      <td>...</td>\n",
       "      <td>...</td>\n",
       "    </tr>\n",
       "    <tr>\n",
       "      <td>73</td>\n",
       "      <td>№ 192\\t♦\\t11 июля 1986 года ♦\\t^5\\n\\nИГРЫ добр...</td>\n",
       "      <td>1986</td>\n",
       "      <td>1986 Issue 192 Page 6.txt</td>\n",
       "      <td>Communist</td>\n",
       "    </tr>\n",
       "    <tr>\n",
       "      <td>74</td>\n",
       "      <td>№ 248\\t♦\\t5 сентября 1986 года ♦\\n\\nПО СЛЕДАМ ...</td>\n",
       "      <td>1986</td>\n",
       "      <td>1986 Issue 248 Page 2.txt</td>\n",
       "      <td>Communist</td>\n",
       "    </tr>\n",
       "    <tr>\n",
       "      <td>75</td>\n",
       "      <td>СООБЩЕНИЯ ИЗ-ЗА РУБЕЖА\\n\\nЦЕНТРАЛЬНАЯ АМЕРИКА ...</td>\n",
       "      <td>1986</td>\n",
       "      <td>1986 Issue 024 Page 1.txt</td>\n",
       "      <td>Communist</td>\n",
       "    </tr>\n",
       "    <tr>\n",
       "      <td>76</td>\n",
       "      <td>№ 248 ♦\\t5 сентября 1986 года ♦\\t3\\n\\nПРИГЛАША...</td>\n",
       "      <td>1986</td>\n",
       "      <td>1986 Issue 248 Page 3.txt</td>\n",
       "      <td>Communist</td>\n",
       "    </tr>\n",
       "    <tr>\n",
       "      <td>77</td>\n",
       "      <td>№ 52\\t♦\\t21 февраля 1986 года ♦\\n\\nОРБИТА\\n\\n«...</td>\n",
       "      <td>1986</td>\n",
       "      <td>1986 Issue 052 Page 6.txt</td>\n",
       "      <td>Communist</td>\n",
       "    </tr>\n",
       "  </tbody>\n",
       "</table>\n",
       "<p>78 rows × 4 columns</p>\n",
       "</div>"
      ],
      "text/plain": [
       "                                                 text  year  \\\n",
       "0   ПРОЛЕТАРИИ ВСЕХ СТРАН. С О1ДИНЯЙТЕСБ! ПРОЛЕТАМ...  1986   \n",
       "1   ИЗВЕСТИЯ\\t■■\\t\\t\\n\\n\\t\\t№ 360\\t♦\\t26 декабря\\n...  1986   \n",
       "2   ИЗВЕСТИЯ\\n\\nНА БУЕРАХ — ЗА ПОЛЯРНЫМ КРУГОМ\\n\\n...  1986   \n",
       "3   ИЗВЕСТИЯ\\n\\nПО СТРАНАМ 1/1 НСНТИНЕНТАМ = -\\n\\n...  1986   \n",
       "4   №80\\t♦\\t21 марта 1986 года\\n\\nУказ Президиума\\...  1986   \n",
       "..                                                ...   ...   \n",
       "73  № 192\\t♦\\t11 июля 1986 года ♦\\t^5\\n\\nИГРЫ добр...  1986   \n",
       "74  № 248\\t♦\\t5 сентября 1986 года ♦\\n\\nПО СЛЕДАМ ...  1986   \n",
       "75  СООБЩЕНИЯ ИЗ-ЗА РУБЕЖА\\n\\nЦЕНТРАЛЬНАЯ АМЕРИКА ...  1986   \n",
       "76  № 248 ♦\\t5 сентября 1986 года ♦\\t3\\n\\nПРИГЛАША...  1986   \n",
       "77  № 52\\t♦\\t21 февраля 1986 года ♦\\n\\nОРБИТА\\n\\n«...  1986   \n",
       "\n",
       "                     filename       type  \n",
       "0   1986 Issue 080 Page 1.txt  Communist  \n",
       "1   1986 Issue 360 Page 6.txt  Communist  \n",
       "2   1986 Issue 136 Page 6.txt  Communist  \n",
       "3   1986 Issue 136 Page 4.txt  Communist  \n",
       "4   1986 Issue 080 Page 2.txt  Communist  \n",
       "..                        ...        ...  \n",
       "73  1986 Issue 192 Page 6.txt  Communist  \n",
       "74  1986 Issue 248 Page 2.txt  Communist  \n",
       "75  1986 Issue 024 Page 1.txt  Communist  \n",
       "76  1986 Issue 248 Page 3.txt  Communist  \n",
       "77  1986 Issue 052 Page 6.txt  Communist  \n",
       "\n",
       "[78 rows x 4 columns]"
      ]
     },
     "execution_count": 52,
     "metadata": {},
     "output_type": "execute_result"
    }
   ],
   "source": [
    "izvestiia_df1986"
   ]
  },
  {
   "cell_type": "code",
   "execution_count": 57,
   "metadata": {},
   "outputs": [
    {
     "data": {
      "text/html": [
       "<div>\n",
       "<style scoped>\n",
       "    .dataframe tbody tr th:only-of-type {\n",
       "        vertical-align: middle;\n",
       "    }\n",
       "\n",
       "    .dataframe tbody tr th {\n",
       "        vertical-align: top;\n",
       "    }\n",
       "\n",
       "    .dataframe thead th {\n",
       "        text-align: right;\n",
       "    }\n",
       "</style>\n",
       "<table border=\"1\" class=\"dataframe\">\n",
       "  <thead>\n",
       "    <tr style=\"text-align: right;\">\n",
       "      <th></th>\n",
       "      <th>text</th>\n",
       "      <th>year</th>\n",
       "      <th>filename</th>\n",
       "      <th>type</th>\n",
       "    </tr>\n",
       "  </thead>\n",
       "  <tbody>\n",
       "    <tr>\n",
       "      <td>0</td>\n",
       "      <td>ИЗВЕСТИЯ\\n\\nПСЭ СТРАНАМ И НОНТИНЕНТАМ\\n\\n\\t• б...</td>\n",
       "      <td>1984</td>\n",
       "      <td>1984 Issue 278 Page 4.txt</td>\n",
       "      <td>Communist</td>\n",
       "    </tr>\n",
       "    <tr>\n",
       "      <td>1</td>\n",
       "      <td>• 1 ноября 1984 года О 2\\n\\nний период. Смонти...</td>\n",
       "      <td>1984</td>\n",
       "      <td>1984 Issue 306 Page 2.txt</td>\n",
       "      <td>Communist</td>\n",
       "    </tr>\n",
       "    <tr>\n",
       "      <td>2</td>\n",
       "      <td>•\\t1 ноября 1984 года О «3\\n\\n\\n\\nК 40-летмю в...</td>\n",
       "      <td>1984</td>\n",
       "      <td>1984 Issue 306 Page 3.txt</td>\n",
       "      <td>Communist</td>\n",
       "    </tr>\n",
       "    <tr>\n",
       "      <td>3</td>\n",
       "      <td>ИЗВЕСТИЯ\\n\\nПО СТРАНАМ И КСНТИНЕНТАМ\\n\\n\\t•\\t5...</td>\n",
       "      <td>1984</td>\n",
       "      <td>1984 Issue 278 Page 5.txt</td>\n",
       "      <td>Communist</td>\n",
       "    </tr>\n",
       "    <tr>\n",
       "      <td>4</td>\n",
       "      <td>•\\t29 ноября 1984 года •\\t6\\n\\nновости\\n\\nоон\\...</td>\n",
       "      <td>1984</td>\n",
       "      <td>1984 Issue 334 Page 6.txt</td>\n",
       "      <td>Communist</td>\n",
       "    </tr>\n",
       "    <tr>\n",
       "      <td>...</td>\n",
       "      <td>...</td>\n",
       "      <td>...</td>\n",
       "      <td>...</td>\n",
       "      <td>...</td>\n",
       "    </tr>\n",
       "    <tr>\n",
       "      <td>110</td>\n",
       "      <td>﻿№56 •\\nИЗВЕСТИЯ\\n26 марта 1°|&gt;7 ’&lt;&gt;'&lt;\\t•\\nНаш...</td>\n",
       "      <td>1997</td>\n",
       "      <td>1997 Issue 56 March 26 Page 6.txt</td>\n",
       "      <td>Democratic</td>\n",
       "    </tr>\n",
       "    <tr>\n",
       "      <td>111</td>\n",
       "      <td>﻿№ 18 3\\nИЗВЕСТИЯ\\n30 января 1997 года •\\nВ со...</td>\n",
       "      <td>1997</td>\n",
       "      <td>1997 Issue 18 January 30 Page 6.txt</td>\n",
       "      <td>Democratic</td>\n",
       "    </tr>\n",
       "    <tr>\n",
       "      <td>112</td>\n",
       "      <td>﻿№ 56 •\\nИЗВЕСТИЯ\\n26 марта 1997 года •\\n' Таб...</td>\n",
       "      <td>1997</td>\n",
       "      <td>1997 Issue 56 March 26 Page 7.txt</td>\n",
       "      <td>Democratic</td>\n",
       "    </tr>\n",
       "    <tr>\n",
       "      <td>113</td>\n",
       "      <td>﻿№ 227 •\\nИЗВЕСТИЯ\\n29 ноября 1997 года •\\n3\\n...</td>\n",
       "      <td>1997</td>\n",
       "      <td>1997 Issue 227 November 29 Page 3.txt</td>\n",
       "      <td>Democratic</td>\n",
       "    </tr>\n",
       "    <tr>\n",
       "      <td>114</td>\n",
       "      <td>﻿№ 246 •\\nИЗВЕСТИЯ\\n30 декабря 1997 года •\\nВз...</td>\n",
       "      <td>1997</td>\n",
       "      <td>1997 Issue 246 December 30 Page 4.txt</td>\n",
       "      <td>Democratic</td>\n",
       "    </tr>\n",
       "  </tbody>\n",
       "</table>\n",
       "<p>657 rows × 4 columns</p>\n",
       "</div>"
      ],
      "text/plain": [
       "                                                  text  year  \\\n",
       "0    ИЗВЕСТИЯ\\n\\nПСЭ СТРАНАМ И НОНТИНЕНТАМ\\n\\n\\t• б...  1984   \n",
       "1    • 1 ноября 1984 года О 2\\n\\nний период. Смонти...  1984   \n",
       "2    •\\t1 ноября 1984 года О «3\\n\\n\\n\\nК 40-летмю в...  1984   \n",
       "3    ИЗВЕСТИЯ\\n\\nПО СТРАНАМ И КСНТИНЕНТАМ\\n\\n\\t•\\t5...  1984   \n",
       "4    •\\t29 ноября 1984 года •\\t6\\n\\nновости\\n\\nоон\\...  1984   \n",
       "..                                                 ...   ...   \n",
       "110  ﻿№56 •\\nИЗВЕСТИЯ\\n26 марта 1°|>7 ’<>'<\\t•\\nНаш...  1997   \n",
       "111  ﻿№ 18 3\\nИЗВЕСТИЯ\\n30 января 1997 года •\\nВ со...  1997   \n",
       "112  ﻿№ 56 •\\nИЗВЕСТИЯ\\n26 марта 1997 года •\\n' Таб...  1997   \n",
       "113  ﻿№ 227 •\\nИЗВЕСТИЯ\\n29 ноября 1997 года •\\n3\\n...  1997   \n",
       "114  ﻿№ 246 •\\nИЗВЕСТИЯ\\n30 декабря 1997 года •\\nВз...  1997   \n",
       "\n",
       "                                  filename        type  \n",
       "0                1984 Issue 278 Page 4.txt   Communist  \n",
       "1                1984 Issue 306 Page 2.txt   Communist  \n",
       "2                1984 Issue 306 Page 3.txt   Communist  \n",
       "3                1984 Issue 278 Page 5.txt   Communist  \n",
       "4                1984 Issue 334 Page 6.txt   Communist  \n",
       "..                                     ...         ...  \n",
       "110      1997 Issue 56 March 26 Page 6.txt  Democratic  \n",
       "111    1997 Issue 18 January 30 Page 6.txt  Democratic  \n",
       "112      1997 Issue 56 March 26 Page 7.txt  Democratic  \n",
       "113  1997 Issue 227 November 29 Page 3.txt  Democratic  \n",
       "114  1997 Issue 246 December 30 Page 4.txt  Democratic  \n",
       "\n",
       "[657 rows x 4 columns]"
      ]
     },
     "execution_count": 57,
     "metadata": {},
     "output_type": "execute_result"
    }
   ],
   "source": [
    "df = pd.concat([izvestiia_df1984, izvestiia_df1985, izvestiia_df1986, izvestiia_df1995, izvestiia_df1996, izvestiia_df1997])\n",
    "df"
   ]
  },
  {
   "cell_type": "code",
   "execution_count": 58,
   "metadata": {},
   "outputs": [
    {
     "data": {
      "text/html": [
       "<div>\n",
       "<style scoped>\n",
       "    .dataframe tbody tr th:only-of-type {\n",
       "        vertical-align: middle;\n",
       "    }\n",
       "\n",
       "    .dataframe tbody tr th {\n",
       "        vertical-align: top;\n",
       "    }\n",
       "\n",
       "    .dataframe thead th {\n",
       "        text-align: right;\n",
       "    }\n",
       "</style>\n",
       "<table border=\"1\" class=\"dataframe\">\n",
       "  <thead>\n",
       "    <tr style=\"text-align: right;\">\n",
       "      <th></th>\n",
       "      <th>index</th>\n",
       "      <th>text</th>\n",
       "      <th>year</th>\n",
       "      <th>filename</th>\n",
       "      <th>type</th>\n",
       "    </tr>\n",
       "  </thead>\n",
       "  <tbody>\n",
       "    <tr>\n",
       "      <td>0</td>\n",
       "      <td>0</td>\n",
       "      <td>ИЗВЕСТИЯ\\n\\nПСЭ СТРАНАМ И НОНТИНЕНТАМ\\n\\n\\t• б...</td>\n",
       "      <td>1984</td>\n",
       "      <td>1984 Issue 278 Page 4.txt</td>\n",
       "      <td>Communist</td>\n",
       "    </tr>\n",
       "    <tr>\n",
       "      <td>1</td>\n",
       "      <td>1</td>\n",
       "      <td>• 1 ноября 1984 года О 2\\n\\nний период. Смонти...</td>\n",
       "      <td>1984</td>\n",
       "      <td>1984 Issue 306 Page 2.txt</td>\n",
       "      <td>Communist</td>\n",
       "    </tr>\n",
       "    <tr>\n",
       "      <td>2</td>\n",
       "      <td>2</td>\n",
       "      <td>•\\t1 ноября 1984 года О «3\\n\\n\\n\\nК 40-летмю в...</td>\n",
       "      <td>1984</td>\n",
       "      <td>1984 Issue 306 Page 3.txt</td>\n",
       "      <td>Communist</td>\n",
       "    </tr>\n",
       "    <tr>\n",
       "      <td>3</td>\n",
       "      <td>3</td>\n",
       "      <td>ИЗВЕСТИЯ\\n\\nПО СТРАНАМ И КСНТИНЕНТАМ\\n\\n\\t•\\t5...</td>\n",
       "      <td>1984</td>\n",
       "      <td>1984 Issue 278 Page 5.txt</td>\n",
       "      <td>Communist</td>\n",
       "    </tr>\n",
       "    <tr>\n",
       "      <td>4</td>\n",
       "      <td>4</td>\n",
       "      <td>•\\t29 ноября 1984 года •\\t6\\n\\nновости\\n\\nоон\\...</td>\n",
       "      <td>1984</td>\n",
       "      <td>1984 Issue 334 Page 6.txt</td>\n",
       "      <td>Communist</td>\n",
       "    </tr>\n",
       "    <tr>\n",
       "      <td>...</td>\n",
       "      <td>...</td>\n",
       "      <td>...</td>\n",
       "      <td>...</td>\n",
       "      <td>...</td>\n",
       "      <td>...</td>\n",
       "    </tr>\n",
       "    <tr>\n",
       "      <td>652</td>\n",
       "      <td>110</td>\n",
       "      <td>﻿№56 •\\nИЗВЕСТИЯ\\n26 марта 1°|&gt;7 ’&lt;&gt;'&lt;\\t•\\nНаш...</td>\n",
       "      <td>1997</td>\n",
       "      <td>1997 Issue 56 March 26 Page 6.txt</td>\n",
       "      <td>Democratic</td>\n",
       "    </tr>\n",
       "    <tr>\n",
       "      <td>653</td>\n",
       "      <td>111</td>\n",
       "      <td>﻿№ 18 3\\nИЗВЕСТИЯ\\n30 января 1997 года •\\nВ со...</td>\n",
       "      <td>1997</td>\n",
       "      <td>1997 Issue 18 January 30 Page 6.txt</td>\n",
       "      <td>Democratic</td>\n",
       "    </tr>\n",
       "    <tr>\n",
       "      <td>654</td>\n",
       "      <td>112</td>\n",
       "      <td>﻿№ 56 •\\nИЗВЕСТИЯ\\n26 марта 1997 года •\\n' Таб...</td>\n",
       "      <td>1997</td>\n",
       "      <td>1997 Issue 56 March 26 Page 7.txt</td>\n",
       "      <td>Democratic</td>\n",
       "    </tr>\n",
       "    <tr>\n",
       "      <td>655</td>\n",
       "      <td>113</td>\n",
       "      <td>﻿№ 227 •\\nИЗВЕСТИЯ\\n29 ноября 1997 года •\\n3\\n...</td>\n",
       "      <td>1997</td>\n",
       "      <td>1997 Issue 227 November 29 Page 3.txt</td>\n",
       "      <td>Democratic</td>\n",
       "    </tr>\n",
       "    <tr>\n",
       "      <td>656</td>\n",
       "      <td>114</td>\n",
       "      <td>﻿№ 246 •\\nИЗВЕСТИЯ\\n30 декабря 1997 года •\\nВз...</td>\n",
       "      <td>1997</td>\n",
       "      <td>1997 Issue 246 December 30 Page 4.txt</td>\n",
       "      <td>Democratic</td>\n",
       "    </tr>\n",
       "  </tbody>\n",
       "</table>\n",
       "<p>657 rows × 5 columns</p>\n",
       "</div>"
      ],
      "text/plain": [
       "     index                                               text  year  \\\n",
       "0        0  ИЗВЕСТИЯ\\n\\nПСЭ СТРАНАМ И НОНТИНЕНТАМ\\n\\n\\t• б...  1984   \n",
       "1        1  • 1 ноября 1984 года О 2\\n\\nний период. Смонти...  1984   \n",
       "2        2  •\\t1 ноября 1984 года О «3\\n\\n\\n\\nК 40-летмю в...  1984   \n",
       "3        3  ИЗВЕСТИЯ\\n\\nПО СТРАНАМ И КСНТИНЕНТАМ\\n\\n\\t•\\t5...  1984   \n",
       "4        4  •\\t29 ноября 1984 года •\\t6\\n\\nновости\\n\\nоон\\...  1984   \n",
       "..     ...                                                ...   ...   \n",
       "652    110  ﻿№56 •\\nИЗВЕСТИЯ\\n26 марта 1°|>7 ’<>'<\\t•\\nНаш...  1997   \n",
       "653    111  ﻿№ 18 3\\nИЗВЕСТИЯ\\n30 января 1997 года •\\nВ со...  1997   \n",
       "654    112  ﻿№ 56 •\\nИЗВЕСТИЯ\\n26 марта 1997 года •\\n' Таб...  1997   \n",
       "655    113  ﻿№ 227 •\\nИЗВЕСТИЯ\\n29 ноября 1997 года •\\n3\\n...  1997   \n",
       "656    114  ﻿№ 246 •\\nИЗВЕСТИЯ\\n30 декабря 1997 года •\\nВз...  1997   \n",
       "\n",
       "                                  filename        type  \n",
       "0                1984 Issue 278 Page 4.txt   Communist  \n",
       "1                1984 Issue 306 Page 2.txt   Communist  \n",
       "2                1984 Issue 306 Page 3.txt   Communist  \n",
       "3                1984 Issue 278 Page 5.txt   Communist  \n",
       "4                1984 Issue 334 Page 6.txt   Communist  \n",
       "..                                     ...         ...  \n",
       "652      1997 Issue 56 March 26 Page 6.txt  Democratic  \n",
       "653    1997 Issue 18 January 30 Page 6.txt  Democratic  \n",
       "654      1997 Issue 56 March 26 Page 7.txt  Democratic  \n",
       "655  1997 Issue 227 November 29 Page 3.txt  Democratic  \n",
       "656  1997 Issue 246 December 30 Page 4.txt  Democratic  \n",
       "\n",
       "[657 rows x 5 columns]"
      ]
     },
     "execution_count": 58,
     "metadata": {},
     "output_type": "execute_result"
    }
   ],
   "source": [
    "df.reset_index(inplace=True)\n",
    "df"
   ]
  },
  {
   "cell_type": "code",
   "execution_count": 59,
   "metadata": {},
   "outputs": [
    {
     "data": {
      "text/html": [
       "<div>\n",
       "<style scoped>\n",
       "    .dataframe tbody tr th:only-of-type {\n",
       "        vertical-align: middle;\n",
       "    }\n",
       "\n",
       "    .dataframe tbody tr th {\n",
       "        vertical-align: top;\n",
       "    }\n",
       "\n",
       "    .dataframe thead th {\n",
       "        text-align: right;\n",
       "    }\n",
       "</style>\n",
       "<table border=\"1\" class=\"dataframe\">\n",
       "  <thead>\n",
       "    <tr style=\"text-align: right;\">\n",
       "      <th></th>\n",
       "      <th>text</th>\n",
       "      <th>year</th>\n",
       "      <th>filename</th>\n",
       "      <th>type</th>\n",
       "    </tr>\n",
       "  </thead>\n",
       "  <tbody>\n",
       "    <tr>\n",
       "      <td>0</td>\n",
       "      <td>ИЗВЕСТИЯ\\n\\nПСЭ СТРАНАМ И НОНТИНЕНТАМ\\n\\n\\t• б...</td>\n",
       "      <td>1984</td>\n",
       "      <td>1984 Issue 278 Page 4.txt</td>\n",
       "      <td>Communist</td>\n",
       "    </tr>\n",
       "    <tr>\n",
       "      <td>1</td>\n",
       "      <td>• 1 ноября 1984 года О 2\\n\\nний период. Смонти...</td>\n",
       "      <td>1984</td>\n",
       "      <td>1984 Issue 306 Page 2.txt</td>\n",
       "      <td>Communist</td>\n",
       "    </tr>\n",
       "    <tr>\n",
       "      <td>2</td>\n",
       "      <td>•\\t1 ноября 1984 года О «3\\n\\n\\n\\nК 40-летмю в...</td>\n",
       "      <td>1984</td>\n",
       "      <td>1984 Issue 306 Page 3.txt</td>\n",
       "      <td>Communist</td>\n",
       "    </tr>\n",
       "    <tr>\n",
       "      <td>3</td>\n",
       "      <td>ИЗВЕСТИЯ\\n\\nПО СТРАНАМ И КСНТИНЕНТАМ\\n\\n\\t•\\t5...</td>\n",
       "      <td>1984</td>\n",
       "      <td>1984 Issue 278 Page 5.txt</td>\n",
       "      <td>Communist</td>\n",
       "    </tr>\n",
       "    <tr>\n",
       "      <td>4</td>\n",
       "      <td>•\\t29 ноября 1984 года •\\t6\\n\\nновости\\n\\nоон\\...</td>\n",
       "      <td>1984</td>\n",
       "      <td>1984 Issue 334 Page 6.txt</td>\n",
       "      <td>Communist</td>\n",
       "    </tr>\n",
       "    <tr>\n",
       "      <td>...</td>\n",
       "      <td>...</td>\n",
       "      <td>...</td>\n",
       "      <td>...</td>\n",
       "      <td>...</td>\n",
       "    </tr>\n",
       "    <tr>\n",
       "      <td>652</td>\n",
       "      <td>﻿№56 •\\nИЗВЕСТИЯ\\n26 марта 1°|&gt;7 ’&lt;&gt;'&lt;\\t•\\nНаш...</td>\n",
       "      <td>1997</td>\n",
       "      <td>1997 Issue 56 March 26 Page 6.txt</td>\n",
       "      <td>Democratic</td>\n",
       "    </tr>\n",
       "    <tr>\n",
       "      <td>653</td>\n",
       "      <td>﻿№ 18 3\\nИЗВЕСТИЯ\\n30 января 1997 года •\\nВ со...</td>\n",
       "      <td>1997</td>\n",
       "      <td>1997 Issue 18 January 30 Page 6.txt</td>\n",
       "      <td>Democratic</td>\n",
       "    </tr>\n",
       "    <tr>\n",
       "      <td>654</td>\n",
       "      <td>﻿№ 56 •\\nИЗВЕСТИЯ\\n26 марта 1997 года •\\n' Таб...</td>\n",
       "      <td>1997</td>\n",
       "      <td>1997 Issue 56 March 26 Page 7.txt</td>\n",
       "      <td>Democratic</td>\n",
       "    </tr>\n",
       "    <tr>\n",
       "      <td>655</td>\n",
       "      <td>﻿№ 227 •\\nИЗВЕСТИЯ\\n29 ноября 1997 года •\\n3\\n...</td>\n",
       "      <td>1997</td>\n",
       "      <td>1997 Issue 227 November 29 Page 3.txt</td>\n",
       "      <td>Democratic</td>\n",
       "    </tr>\n",
       "    <tr>\n",
       "      <td>656</td>\n",
       "      <td>﻿№ 246 •\\nИЗВЕСТИЯ\\n30 декабря 1997 года •\\nВз...</td>\n",
       "      <td>1997</td>\n",
       "      <td>1997 Issue 246 December 30 Page 4.txt</td>\n",
       "      <td>Democratic</td>\n",
       "    </tr>\n",
       "  </tbody>\n",
       "</table>\n",
       "<p>657 rows × 4 columns</p>\n",
       "</div>"
      ],
      "text/plain": [
       "                                                  text  year  \\\n",
       "0    ИЗВЕСТИЯ\\n\\nПСЭ СТРАНАМ И НОНТИНЕНТАМ\\n\\n\\t• б...  1984   \n",
       "1    • 1 ноября 1984 года О 2\\n\\nний период. Смонти...  1984   \n",
       "2    •\\t1 ноября 1984 года О «3\\n\\n\\n\\nК 40-летмю в...  1984   \n",
       "3    ИЗВЕСТИЯ\\n\\nПО СТРАНАМ И КСНТИНЕНТАМ\\n\\n\\t•\\t5...  1984   \n",
       "4    •\\t29 ноября 1984 года •\\t6\\n\\nновости\\n\\nоон\\...  1984   \n",
       "..                                                 ...   ...   \n",
       "652  ﻿№56 •\\nИЗВЕСТИЯ\\n26 марта 1°|>7 ’<>'<\\t•\\nНаш...  1997   \n",
       "653  ﻿№ 18 3\\nИЗВЕСТИЯ\\n30 января 1997 года •\\nВ со...  1997   \n",
       "654  ﻿№ 56 •\\nИЗВЕСТИЯ\\n26 марта 1997 года •\\n' Таб...  1997   \n",
       "655  ﻿№ 227 •\\nИЗВЕСТИЯ\\n29 ноября 1997 года •\\n3\\n...  1997   \n",
       "656  ﻿№ 246 •\\nИЗВЕСТИЯ\\n30 декабря 1997 года •\\nВз...  1997   \n",
       "\n",
       "                                  filename        type  \n",
       "0                1984 Issue 278 Page 4.txt   Communist  \n",
       "1                1984 Issue 306 Page 2.txt   Communist  \n",
       "2                1984 Issue 306 Page 3.txt   Communist  \n",
       "3                1984 Issue 278 Page 5.txt   Communist  \n",
       "4                1984 Issue 334 Page 6.txt   Communist  \n",
       "..                                     ...         ...  \n",
       "652      1997 Issue 56 March 26 Page 6.txt  Democratic  \n",
       "653    1997 Issue 18 January 30 Page 6.txt  Democratic  \n",
       "654      1997 Issue 56 March 26 Page 7.txt  Democratic  \n",
       "655  1997 Issue 227 November 29 Page 3.txt  Democratic  \n",
       "656  1997 Issue 246 December 30 Page 4.txt  Democratic  \n",
       "\n",
       "[657 rows x 4 columns]"
      ]
     },
     "execution_count": 59,
     "metadata": {},
     "output_type": "execute_result"
    }
   ],
   "source": [
    "df = df.drop(\"index\", axis = 1)\n",
    "df"
   ]
  },
  {
   "cell_type": "code",
   "execution_count": 60,
   "metadata": {},
   "outputs": [],
   "source": [
    "export_json = df.to_json('izvestiia_type.json')"
   ]
  },
  {
   "cell_type": "code",
   "execution_count": 62,
   "metadata": {},
   "outputs": [
    {
     "data": {
      "text/html": [
       "<div>\n",
       "<style scoped>\n",
       "    .dataframe tbody tr th:only-of-type {\n",
       "        vertical-align: middle;\n",
       "    }\n",
       "\n",
       "    .dataframe tbody tr th {\n",
       "        vertical-align: top;\n",
       "    }\n",
       "\n",
       "    .dataframe thead th {\n",
       "        text-align: right;\n",
       "    }\n",
       "</style>\n",
       "<table border=\"1\" class=\"dataframe\">\n",
       "  <thead>\n",
       "    <tr style=\"text-align: right;\">\n",
       "      <th></th>\n",
       "      <th>text</th>\n",
       "      <th>year</th>\n",
       "      <th>filename</th>\n",
       "      <th>type</th>\n",
       "      <th>category</th>\n",
       "    </tr>\n",
       "  </thead>\n",
       "  <tbody>\n",
       "    <tr>\n",
       "      <td>0</td>\n",
       "      <td>ИЗВЕСТИЯ\\n\\nПСЭ СТРАНАМ И НОНТИНЕНТАМ\\n\\n\\t• б...</td>\n",
       "      <td>1984</td>\n",
       "      <td>1984 Issue 278 Page 4.txt</td>\n",
       "      <td>Communist</td>\n",
       "      <td>True</td>\n",
       "    </tr>\n",
       "    <tr>\n",
       "      <td>1</td>\n",
       "      <td>• 1 ноября 1984 года О 2\\n\\nний период. Смонти...</td>\n",
       "      <td>1984</td>\n",
       "      <td>1984 Issue 306 Page 2.txt</td>\n",
       "      <td>Communist</td>\n",
       "      <td>True</td>\n",
       "    </tr>\n",
       "    <tr>\n",
       "      <td>2</td>\n",
       "      <td>•\\t1 ноября 1984 года О «3\\n\\n\\n\\nК 40-летмю в...</td>\n",
       "      <td>1984</td>\n",
       "      <td>1984 Issue 306 Page 3.txt</td>\n",
       "      <td>Communist</td>\n",
       "      <td>True</td>\n",
       "    </tr>\n",
       "    <tr>\n",
       "      <td>3</td>\n",
       "      <td>ИЗВЕСТИЯ\\n\\nПО СТРАНАМ И КСНТИНЕНТАМ\\n\\n\\t•\\t5...</td>\n",
       "      <td>1984</td>\n",
       "      <td>1984 Issue 278 Page 5.txt</td>\n",
       "      <td>Communist</td>\n",
       "      <td>True</td>\n",
       "    </tr>\n",
       "    <tr>\n",
       "      <td>4</td>\n",
       "      <td>•\\t29 ноября 1984 года •\\t6\\n\\nновости\\n\\nоон\\...</td>\n",
       "      <td>1984</td>\n",
       "      <td>1984 Issue 334 Page 6.txt</td>\n",
       "      <td>Communist</td>\n",
       "      <td>True</td>\n",
       "    </tr>\n",
       "    <tr>\n",
       "      <td>...</td>\n",
       "      <td>...</td>\n",
       "      <td>...</td>\n",
       "      <td>...</td>\n",
       "      <td>...</td>\n",
       "      <td>...</td>\n",
       "    </tr>\n",
       "    <tr>\n",
       "      <td>652</td>\n",
       "      <td>﻿№56 •\\nИЗВЕСТИЯ\\n26 марта 1°|&gt;7 ’&lt;&gt;'&lt;\\t•\\nНаш...</td>\n",
       "      <td>1997</td>\n",
       "      <td>1997 Issue 56 March 26 Page 6.txt</td>\n",
       "      <td>Democratic</td>\n",
       "      <td>False</td>\n",
       "    </tr>\n",
       "    <tr>\n",
       "      <td>653</td>\n",
       "      <td>﻿№ 18 3\\nИЗВЕСТИЯ\\n30 января 1997 года •\\nВ со...</td>\n",
       "      <td>1997</td>\n",
       "      <td>1997 Issue 18 January 30 Page 6.txt</td>\n",
       "      <td>Democratic</td>\n",
       "      <td>False</td>\n",
       "    </tr>\n",
       "    <tr>\n",
       "      <td>654</td>\n",
       "      <td>﻿№ 56 •\\nИЗВЕСТИЯ\\n26 марта 1997 года •\\n' Таб...</td>\n",
       "      <td>1997</td>\n",
       "      <td>1997 Issue 56 March 26 Page 7.txt</td>\n",
       "      <td>Democratic</td>\n",
       "      <td>False</td>\n",
       "    </tr>\n",
       "    <tr>\n",
       "      <td>655</td>\n",
       "      <td>﻿№ 227 •\\nИЗВЕСТИЯ\\n29 ноября 1997 года •\\n3\\n...</td>\n",
       "      <td>1997</td>\n",
       "      <td>1997 Issue 227 November 29 Page 3.txt</td>\n",
       "      <td>Democratic</td>\n",
       "      <td>False</td>\n",
       "    </tr>\n",
       "    <tr>\n",
       "      <td>656</td>\n",
       "      <td>﻿№ 246 •\\nИЗВЕСТИЯ\\n30 декабря 1997 года •\\nВз...</td>\n",
       "      <td>1997</td>\n",
       "      <td>1997 Issue 246 December 30 Page 4.txt</td>\n",
       "      <td>Democratic</td>\n",
       "      <td>False</td>\n",
       "    </tr>\n",
       "  </tbody>\n",
       "</table>\n",
       "<p>657 rows × 5 columns</p>\n",
       "</div>"
      ],
      "text/plain": [
       "                                                  text  year  \\\n",
       "0    ИЗВЕСТИЯ\\n\\nПСЭ СТРАНАМ И НОНТИНЕНТАМ\\n\\n\\t• б...  1984   \n",
       "1    • 1 ноября 1984 года О 2\\n\\nний период. Смонти...  1984   \n",
       "2    •\\t1 ноября 1984 года О «3\\n\\n\\n\\nК 40-летмю в...  1984   \n",
       "3    ИЗВЕСТИЯ\\n\\nПО СТРАНАМ И КСНТИНЕНТАМ\\n\\n\\t•\\t5...  1984   \n",
       "4    •\\t29 ноября 1984 года •\\t6\\n\\nновости\\n\\nоон\\...  1984   \n",
       "..                                                 ...   ...   \n",
       "652  ﻿№56 •\\nИЗВЕСТИЯ\\n26 марта 1°|>7 ’<>'<\\t•\\nНаш...  1997   \n",
       "653  ﻿№ 18 3\\nИЗВЕСТИЯ\\n30 января 1997 года •\\nВ со...  1997   \n",
       "654  ﻿№ 56 •\\nИЗВЕСТИЯ\\n26 марта 1997 года •\\n' Таб...  1997   \n",
       "655  ﻿№ 227 •\\nИЗВЕСТИЯ\\n29 ноября 1997 года •\\n3\\n...  1997   \n",
       "656  ﻿№ 246 •\\nИЗВЕСТИЯ\\n30 декабря 1997 года •\\nВз...  1997   \n",
       "\n",
       "                                  filename        type  category  \n",
       "0                1984 Issue 278 Page 4.txt   Communist      True  \n",
       "1                1984 Issue 306 Page 2.txt   Communist      True  \n",
       "2                1984 Issue 306 Page 3.txt   Communist      True  \n",
       "3                1984 Issue 278 Page 5.txt   Communist      True  \n",
       "4                1984 Issue 334 Page 6.txt   Communist      True  \n",
       "..                                     ...         ...       ...  \n",
       "652      1997 Issue 56 March 26 Page 6.txt  Democratic     False  \n",
       "653    1997 Issue 18 January 30 Page 6.txt  Democratic     False  \n",
       "654      1997 Issue 56 March 26 Page 7.txt  Democratic     False  \n",
       "655  1997 Issue 227 November 29 Page 3.txt  Democratic     False  \n",
       "656  1997 Issue 246 December 30 Page 4.txt  Democratic     False  \n",
       "\n",
       "[657 rows x 5 columns]"
      ]
     },
     "execution_count": 62,
     "metadata": {},
     "output_type": "execute_result"
    }
   ],
   "source": [
    "df['category'] = [s == 'Communist' for s in df['type']]\n",
    "df"
   ]
  },
  {
   "cell_type": "code",
   "execution_count": 63,
   "metadata": {},
   "outputs": [],
   "source": [
    "import stanfordnlp\n",
    "from spacy_stanfordnlp import StanfordNLPLanguage\n",
    "import spacy"
   ]
  },
  {
   "cell_type": "code",
   "execution_count": 68,
   "metadata": {},
   "outputs": [
    {
     "name": "stdout",
     "output_type": "stream",
     "text": [
      "Use device: cpu\n",
      "---\n",
      "Loading: tokenize\n",
      "With settings: \n",
      "{'model_path': '/Users/Leha/stanfordnlp_resources/ru_syntagrus_models/ru_syntagrus_tokenizer.pt', 'lang': 'ru', 'shorthand': 'ru_syntagrus', 'mode': 'predict'}\n",
      "---\n",
      "Loading: lemma\n",
      "With settings: \n",
      "{'model_path': '/Users/Leha/stanfordnlp_resources/ru_syntagrus_models/ru_syntagrus_lemmatizer.pt', 'lang': 'ru', 'shorthand': 'ru_syntagrus', 'mode': 'predict'}\n",
      "Building an attentional Seq2Seq model...\n",
      "Using a Bi-LSTM encoder\n",
      "Using soft attention for LSTM.\n",
      "Finetune all embeddings.\n",
      "[Running seq2seq lemmatizer with edit classifier]\n",
      "Done loading processors!\n",
      "---\n"
     ]
    }
   ],
   "source": [
    "snlp = stanfordnlp.Pipeline(lang=\"ru\", processors='tokenize,lemma') \n",
    "nlp = StanfordNLPLanguage(snlp)"
   ]
  },
  {
   "cell_type": "code",
   "execution_count": 93,
   "metadata": {},
   "outputs": [],
   "source": [
    "def text_cleaner(text):\n",
    "    return re.sub('[^а-яА-Я\\s]', '', text)"
   ]
  },
  {
   "cell_type": "code",
   "execution_count": 94,
   "metadata": {},
   "outputs": [],
   "source": [
    "df['clean_text'] = df['text'].apply(lambda x: text_cleaner(x))"
   ]
  },
  {
   "cell_type": "code",
   "execution_count": 95,
   "metadata": {},
   "outputs": [
    {
     "data": {
      "text/html": [
       "<div>\n",
       "<style scoped>\n",
       "    .dataframe tbody tr th:only-of-type {\n",
       "        vertical-align: middle;\n",
       "    }\n",
       "\n",
       "    .dataframe tbody tr th {\n",
       "        vertical-align: top;\n",
       "    }\n",
       "\n",
       "    .dataframe thead th {\n",
       "        text-align: right;\n",
       "    }\n",
       "</style>\n",
       "<table border=\"1\" class=\"dataframe\">\n",
       "  <thead>\n",
       "    <tr style=\"text-align: right;\">\n",
       "      <th></th>\n",
       "      <th>text</th>\n",
       "      <th>year</th>\n",
       "      <th>filename</th>\n",
       "      <th>type</th>\n",
       "      <th>category</th>\n",
       "      <th>clean_text</th>\n",
       "    </tr>\n",
       "  </thead>\n",
       "  <tbody>\n",
       "    <tr>\n",
       "      <td>0</td>\n",
       "      <td>ИЗВЕСТИЯ\\n\\nПСЭ СТРАНАМ И НОНТИНЕНТАМ\\n\\n\\t• б...</td>\n",
       "      <td>1984</td>\n",
       "      <td>1984 Issue 278 Page 4.txt</td>\n",
       "      <td>Communist</td>\n",
       "      <td>True</td>\n",
       "      <td>ИЗВЕСТИЯ\\n\\nПСЭ СТРАНАМ И НОНТИНЕНТАМ\\n\\n\\t б ...</td>\n",
       "    </tr>\n",
       "    <tr>\n",
       "      <td>1</td>\n",
       "      <td>• 1 ноября 1984 года О 2\\n\\nний период. Смонти...</td>\n",
       "      <td>1984</td>\n",
       "      <td>1984 Issue 306 Page 2.txt</td>\n",
       "      <td>Communist</td>\n",
       "      <td>True</td>\n",
       "      <td>ноября  года О \\n\\nний период Смонтированы у...</td>\n",
       "    </tr>\n",
       "    <tr>\n",
       "      <td>2</td>\n",
       "      <td>•\\t1 ноября 1984 года О «3\\n\\n\\n\\nК 40-летмю в...</td>\n",
       "      <td>1984</td>\n",
       "      <td>1984 Issue 306 Page 3.txt</td>\n",
       "      <td>Communist</td>\n",
       "      <td>True</td>\n",
       "      <td>\\t ноября  года О \\n\\n\\n\\nК летмю восстаиомеш ...</td>\n",
       "    </tr>\n",
       "    <tr>\n",
       "      <td>3</td>\n",
       "      <td>ИЗВЕСТИЯ\\n\\nПО СТРАНАМ И КСНТИНЕНТАМ\\n\\n\\t•\\t5...</td>\n",
       "      <td>1984</td>\n",
       "      <td>1984 Issue 278 Page 5.txt</td>\n",
       "      <td>Communist</td>\n",
       "      <td>True</td>\n",
       "      <td>ИЗВЕСТИЯ\\n\\nПО СТРАНАМ И КСНТИНЕНТАМ\\n\\n\\t\\t о...</td>\n",
       "    </tr>\n",
       "    <tr>\n",
       "      <td>4</td>\n",
       "      <td>•\\t29 ноября 1984 года •\\t6\\n\\nновости\\n\\nоон\\...</td>\n",
       "      <td>1984</td>\n",
       "      <td>1984 Issue 334 Page 6.txt</td>\n",
       "      <td>Communist</td>\n",
       "      <td>True</td>\n",
       "      <td>\\t ноября  года \\t\\n\\nновости\\n\\nоон\\n\\n по СТ...</td>\n",
       "    </tr>\n",
       "    <tr>\n",
       "      <td>...</td>\n",
       "      <td>...</td>\n",
       "      <td>...</td>\n",
       "      <td>...</td>\n",
       "      <td>...</td>\n",
       "      <td>...</td>\n",
       "      <td>...</td>\n",
       "    </tr>\n",
       "    <tr>\n",
       "      <td>652</td>\n",
       "      <td>﻿№56 •\\nИЗВЕСТИЯ\\n26 марта 1°|&gt;7 ’&lt;&gt;'&lt;\\t•\\nНаш...</td>\n",
       "      <td>1997</td>\n",
       "      <td>1997 Issue 56 March 26 Page 6.txt</td>\n",
       "      <td>Democratic</td>\n",
       "      <td>False</td>\n",
       "      <td>\\nИЗВЕСТИЯ\\n марта  \\t\\nНаш рейтинг\\n  \\n Дач...</td>\n",
       "    </tr>\n",
       "    <tr>\n",
       "      <td>653</td>\n",
       "      <td>﻿№ 18 3\\nИЗВЕСТИЯ\\n30 января 1997 года •\\nВ со...</td>\n",
       "      <td>1997</td>\n",
       "      <td>1997 Issue 18 January 30 Page 6.txt</td>\n",
       "      <td>Democratic</td>\n",
       "      <td>False</td>\n",
       "      <td>\\nИЗВЕСТИЯ\\n января  года \\nВ соответствии с...</td>\n",
       "    </tr>\n",
       "    <tr>\n",
       "      <td>654</td>\n",
       "      <td>﻿№ 56 •\\nИЗВЕСТИЯ\\n26 марта 1997 года •\\n' Таб...</td>\n",
       "      <td>1997</td>\n",
       "      <td>1997 Issue 56 March 26 Page 7.txt</td>\n",
       "      <td>Democratic</td>\n",
       "      <td>False</td>\n",
       "      <td>\\nИЗВЕСТИЯ\\n марта  года \\n Таблетки\\nБромел...</td>\n",
       "    </tr>\n",
       "    <tr>\n",
       "      <td>655</td>\n",
       "      <td>﻿№ 227 •\\nИЗВЕСТИЯ\\n29 ноября 1997 года •\\n3\\n...</td>\n",
       "      <td>1997</td>\n",
       "      <td>1997 Issue 227 November 29 Page 3.txt</td>\n",
       "      <td>Democratic</td>\n",
       "      <td>False</td>\n",
       "      <td>\\nИЗВЕСТИЯ\\n ноября  года \\n\\n Так считает п...</td>\n",
       "    </tr>\n",
       "    <tr>\n",
       "      <td>656</td>\n",
       "      <td>﻿№ 246 •\\nИЗВЕСТИЯ\\n30 декабря 1997 года •\\nВз...</td>\n",
       "      <td>1997</td>\n",
       "      <td>1997 Issue 246 December 30 Page 4.txt</td>\n",
       "      <td>Democratic</td>\n",
       "      <td>False</td>\n",
       "      <td>\\nИЗВЕСТИЯ\\n декабря  года \\nВзятки на дорог...</td>\n",
       "    </tr>\n",
       "  </tbody>\n",
       "</table>\n",
       "<p>657 rows × 6 columns</p>\n",
       "</div>"
      ],
      "text/plain": [
       "                                                  text  year  \\\n",
       "0    ИЗВЕСТИЯ\\n\\nПСЭ СТРАНАМ И НОНТИНЕНТАМ\\n\\n\\t• б...  1984   \n",
       "1    • 1 ноября 1984 года О 2\\n\\nний период. Смонти...  1984   \n",
       "2    •\\t1 ноября 1984 года О «3\\n\\n\\n\\nК 40-летмю в...  1984   \n",
       "3    ИЗВЕСТИЯ\\n\\nПО СТРАНАМ И КСНТИНЕНТАМ\\n\\n\\t•\\t5...  1984   \n",
       "4    •\\t29 ноября 1984 года •\\t6\\n\\nновости\\n\\nоон\\...  1984   \n",
       "..                                                 ...   ...   \n",
       "652  ﻿№56 •\\nИЗВЕСТИЯ\\n26 марта 1°|>7 ’<>'<\\t•\\nНаш...  1997   \n",
       "653  ﻿№ 18 3\\nИЗВЕСТИЯ\\n30 января 1997 года •\\nВ со...  1997   \n",
       "654  ﻿№ 56 •\\nИЗВЕСТИЯ\\n26 марта 1997 года •\\n' Таб...  1997   \n",
       "655  ﻿№ 227 •\\nИЗВЕСТИЯ\\n29 ноября 1997 года •\\n3\\n...  1997   \n",
       "656  ﻿№ 246 •\\nИЗВЕСТИЯ\\n30 декабря 1997 года •\\nВз...  1997   \n",
       "\n",
       "                                  filename        type  category  \\\n",
       "0                1984 Issue 278 Page 4.txt   Communist      True   \n",
       "1                1984 Issue 306 Page 2.txt   Communist      True   \n",
       "2                1984 Issue 306 Page 3.txt   Communist      True   \n",
       "3                1984 Issue 278 Page 5.txt   Communist      True   \n",
       "4                1984 Issue 334 Page 6.txt   Communist      True   \n",
       "..                                     ...         ...       ...   \n",
       "652      1997 Issue 56 March 26 Page 6.txt  Democratic     False   \n",
       "653    1997 Issue 18 January 30 Page 6.txt  Democratic     False   \n",
       "654      1997 Issue 56 March 26 Page 7.txt  Democratic     False   \n",
       "655  1997 Issue 227 November 29 Page 3.txt  Democratic     False   \n",
       "656  1997 Issue 246 December 30 Page 4.txt  Democratic     False   \n",
       "\n",
       "                                            clean_text  \n",
       "0    ИЗВЕСТИЯ\\n\\nПСЭ СТРАНАМ И НОНТИНЕНТАМ\\n\\n\\t б ...  \n",
       "1      ноября  года О \\n\\nний период Смонтированы у...  \n",
       "2    \\t ноября  года О \\n\\n\\n\\nК летмю восстаиомеш ...  \n",
       "3    ИЗВЕСТИЯ\\n\\nПО СТРАНАМ И КСНТИНЕНТАМ\\n\\n\\t\\t о...  \n",
       "4    \\t ноября  года \\t\\n\\nновости\\n\\nоон\\n\\n по СТ...  \n",
       "..                                                 ...  \n",
       "652   \\nИЗВЕСТИЯ\\n марта  \\t\\nНаш рейтинг\\n  \\n Дач...  \n",
       "653    \\nИЗВЕСТИЯ\\n января  года \\nВ соответствии с...  \n",
       "654    \\nИЗВЕСТИЯ\\n марта  года \\n Таблетки\\nБромел...  \n",
       "655    \\nИЗВЕСТИЯ\\n ноября  года \\n\\n Так считает п...  \n",
       "656    \\nИЗВЕСТИЯ\\n декабря  года \\nВзятки на дорог...  \n",
       "\n",
       "[657 rows x 6 columns]"
      ]
     },
     "execution_count": 95,
     "metadata": {},
     "output_type": "execute_result"
    }
   ],
   "source": [
    "df"
   ]
  },
  {
   "cell_type": "code",
   "execution_count": 100,
   "metadata": {},
   "outputs": [],
   "source": [
    "def text_cleaner2(text):\n",
    "    clean_text = text.replace(\"Росии\", \"России\").replace(\"\\n\", \"\").replace(\"/t\", \"\").replace(\"\\t\", \"\")\n",
    "    return clean_text"
   ]
  },
  {
   "cell_type": "code",
   "execution_count": 101,
   "metadata": {},
   "outputs": [
    {
     "data": {
      "text/html": [
       "<div>\n",
       "<style scoped>\n",
       "    .dataframe tbody tr th:only-of-type {\n",
       "        vertical-align: middle;\n",
       "    }\n",
       "\n",
       "    .dataframe tbody tr th {\n",
       "        vertical-align: top;\n",
       "    }\n",
       "\n",
       "    .dataframe thead th {\n",
       "        text-align: right;\n",
       "    }\n",
       "</style>\n",
       "<table border=\"1\" class=\"dataframe\">\n",
       "  <thead>\n",
       "    <tr style=\"text-align: right;\">\n",
       "      <th></th>\n",
       "      <th>text</th>\n",
       "      <th>year</th>\n",
       "      <th>filename</th>\n",
       "      <th>type</th>\n",
       "      <th>category</th>\n",
       "      <th>clean_text</th>\n",
       "      <th>clean_text2</th>\n",
       "    </tr>\n",
       "  </thead>\n",
       "  <tbody>\n",
       "    <tr>\n",
       "      <td>0</td>\n",
       "      <td>ИЗВЕСТИЯ\\n\\nПСЭ СТРАНАМ И НОНТИНЕНТАМ\\n\\n\\t• б...</td>\n",
       "      <td>1984</td>\n",
       "      <td>1984 Issue 278 Page 4.txt</td>\n",
       "      <td>Communist</td>\n",
       "      <td>True</td>\n",
       "      <td>ИЗВЕСТИЯ\\n\\nПСЭ СТРАНАМ И НОНТИНЕНТАМ\\n\\n\\t б ...</td>\n",
       "      <td>ИЗВЕСТИЯПСЭ СТРАНАМ И НОНТИНЕНТАМ б октября  г...</td>\n",
       "    </tr>\n",
       "    <tr>\n",
       "      <td>1</td>\n",
       "      <td>• 1 ноября 1984 года О 2\\n\\nний период. Смонти...</td>\n",
       "      <td>1984</td>\n",
       "      <td>1984 Issue 306 Page 2.txt</td>\n",
       "      <td>Communist</td>\n",
       "      <td>True</td>\n",
       "      <td>ноября  года О \\n\\nний период Смонтированы у...</td>\n",
       "      <td>ноября  года О ний период Смонтированы устан...</td>\n",
       "    </tr>\n",
       "    <tr>\n",
       "      <td>2</td>\n",
       "      <td>•\\t1 ноября 1984 года О «3\\n\\n\\n\\nК 40-летмю в...</td>\n",
       "      <td>1984</td>\n",
       "      <td>1984 Issue 306 Page 3.txt</td>\n",
       "      <td>Communist</td>\n",
       "      <td>True</td>\n",
       "      <td>\\t ноября  года О \\n\\n\\n\\nК летмю восстаиомеш ...</td>\n",
       "      <td>ноября  года О К летмю восстаиомеш Государстм...</td>\n",
       "    </tr>\n",
       "    <tr>\n",
       "      <td>3</td>\n",
       "      <td>ИЗВЕСТИЯ\\n\\nПО СТРАНАМ И КСНТИНЕНТАМ\\n\\n\\t•\\t5...</td>\n",
       "      <td>1984</td>\n",
       "      <td>1984 Issue 278 Page 5.txt</td>\n",
       "      <td>Communist</td>\n",
       "      <td>True</td>\n",
       "      <td>ИЗВЕСТИЯ\\n\\nПО СТРАНАМ И КСНТИНЕНТАМ\\n\\n\\t\\t о...</td>\n",
       "      <td>ИЗВЕСТИЯПО СТРАНАМ И КСНТИНЕНТАМ октября  года...</td>\n",
       "    </tr>\n",
       "    <tr>\n",
       "      <td>4</td>\n",
       "      <td>•\\t29 ноября 1984 года •\\t6\\n\\nновости\\n\\nоон\\...</td>\n",
       "      <td>1984</td>\n",
       "      <td>1984 Issue 334 Page 6.txt</td>\n",
       "      <td>Communist</td>\n",
       "      <td>True</td>\n",
       "      <td>\\t ноября  года \\t\\n\\nновости\\n\\nоон\\n\\n по СТ...</td>\n",
       "      <td>ноября  года новостиоон по СТРАНАМ И КОНТИНЕН...</td>\n",
       "    </tr>\n",
       "    <tr>\n",
       "      <td>...</td>\n",
       "      <td>...</td>\n",
       "      <td>...</td>\n",
       "      <td>...</td>\n",
       "      <td>...</td>\n",
       "      <td>...</td>\n",
       "      <td>...</td>\n",
       "      <td>...</td>\n",
       "    </tr>\n",
       "    <tr>\n",
       "      <td>652</td>\n",
       "      <td>﻿№56 •\\nИЗВЕСТИЯ\\n26 марта 1°|&gt;7 ’&lt;&gt;'&lt;\\t•\\nНаш...</td>\n",
       "      <td>1997</td>\n",
       "      <td>1997 Issue 56 March 26 Page 6.txt</td>\n",
       "      <td>Democratic</td>\n",
       "      <td>False</td>\n",
       "      <td>\\nИЗВЕСТИЯ\\n марта  \\t\\nНаш рейтинг\\n  \\n Дач...</td>\n",
       "      <td>ИЗВЕСТИЯ марта  Наш рейтинг   ДачаЭкологическ...</td>\n",
       "    </tr>\n",
       "    <tr>\n",
       "      <td>653</td>\n",
       "      <td>﻿№ 18 3\\nИЗВЕСТИЯ\\n30 января 1997 года •\\nВ со...</td>\n",
       "      <td>1997</td>\n",
       "      <td>1997 Issue 18 January 30 Page 6.txt</td>\n",
       "      <td>Democratic</td>\n",
       "      <td>False</td>\n",
       "      <td>\\nИЗВЕСТИЯ\\n января  года \\nВ соответствии с...</td>\n",
       "      <td>ИЗВЕСТИЯ января  года В соответствии с утвер...</td>\n",
       "    </tr>\n",
       "    <tr>\n",
       "      <td>654</td>\n",
       "      <td>﻿№ 56 •\\nИЗВЕСТИЯ\\n26 марта 1997 года •\\n' Таб...</td>\n",
       "      <td>1997</td>\n",
       "      <td>1997 Issue 56 March 26 Page 7.txt</td>\n",
       "      <td>Democratic</td>\n",
       "      <td>False</td>\n",
       "      <td>\\nИЗВЕСТИЯ\\n марта  года \\n Таблетки\\nБромел...</td>\n",
       "      <td>ИЗВЕСТИЯ марта  года  ТаблеткиБромелайнПЦИЫЖ...</td>\n",
       "    </tr>\n",
       "    <tr>\n",
       "      <td>655</td>\n",
       "      <td>﻿№ 227 •\\nИЗВЕСТИЯ\\n29 ноября 1997 года •\\n3\\n...</td>\n",
       "      <td>1997</td>\n",
       "      <td>1997 Issue 227 November 29 Page 3.txt</td>\n",
       "      <td>Democratic</td>\n",
       "      <td>False</td>\n",
       "      <td>\\nИЗВЕСТИЯ\\n ноября  года \\n\\n Так считает п...</td>\n",
       "      <td>ИЗВЕСТИЯ ноября  года  Так считает председат...</td>\n",
       "    </tr>\n",
       "    <tr>\n",
       "      <td>656</td>\n",
       "      <td>﻿№ 246 •\\nИЗВЕСТИЯ\\n30 декабря 1997 года •\\nВз...</td>\n",
       "      <td>1997</td>\n",
       "      <td>1997 Issue 246 December 30 Page 4.txt</td>\n",
       "      <td>Democratic</td>\n",
       "      <td>False</td>\n",
       "      <td>\\nИЗВЕСТИЯ\\n декабря  года \\nВзятки на дорог...</td>\n",
       "      <td>ИЗВЕСТИЯ декабря  года Взятки на дорогахИз в...</td>\n",
       "    </tr>\n",
       "  </tbody>\n",
       "</table>\n",
       "<p>657 rows × 7 columns</p>\n",
       "</div>"
      ],
      "text/plain": [
       "                                                  text  year  \\\n",
       "0    ИЗВЕСТИЯ\\n\\nПСЭ СТРАНАМ И НОНТИНЕНТАМ\\n\\n\\t• б...  1984   \n",
       "1    • 1 ноября 1984 года О 2\\n\\nний период. Смонти...  1984   \n",
       "2    •\\t1 ноября 1984 года О «3\\n\\n\\n\\nК 40-летмю в...  1984   \n",
       "3    ИЗВЕСТИЯ\\n\\nПО СТРАНАМ И КСНТИНЕНТАМ\\n\\n\\t•\\t5...  1984   \n",
       "4    •\\t29 ноября 1984 года •\\t6\\n\\nновости\\n\\nоон\\...  1984   \n",
       "..                                                 ...   ...   \n",
       "652  ﻿№56 •\\nИЗВЕСТИЯ\\n26 марта 1°|>7 ’<>'<\\t•\\nНаш...  1997   \n",
       "653  ﻿№ 18 3\\nИЗВЕСТИЯ\\n30 января 1997 года •\\nВ со...  1997   \n",
       "654  ﻿№ 56 •\\nИЗВЕСТИЯ\\n26 марта 1997 года •\\n' Таб...  1997   \n",
       "655  ﻿№ 227 •\\nИЗВЕСТИЯ\\n29 ноября 1997 года •\\n3\\n...  1997   \n",
       "656  ﻿№ 246 •\\nИЗВЕСТИЯ\\n30 декабря 1997 года •\\nВз...  1997   \n",
       "\n",
       "                                  filename        type  category  \\\n",
       "0                1984 Issue 278 Page 4.txt   Communist      True   \n",
       "1                1984 Issue 306 Page 2.txt   Communist      True   \n",
       "2                1984 Issue 306 Page 3.txt   Communist      True   \n",
       "3                1984 Issue 278 Page 5.txt   Communist      True   \n",
       "4                1984 Issue 334 Page 6.txt   Communist      True   \n",
       "..                                     ...         ...       ...   \n",
       "652      1997 Issue 56 March 26 Page 6.txt  Democratic     False   \n",
       "653    1997 Issue 18 January 30 Page 6.txt  Democratic     False   \n",
       "654      1997 Issue 56 March 26 Page 7.txt  Democratic     False   \n",
       "655  1997 Issue 227 November 29 Page 3.txt  Democratic     False   \n",
       "656  1997 Issue 246 December 30 Page 4.txt  Democratic     False   \n",
       "\n",
       "                                            clean_text  \\\n",
       "0    ИЗВЕСТИЯ\\n\\nПСЭ СТРАНАМ И НОНТИНЕНТАМ\\n\\n\\t б ...   \n",
       "1      ноября  года О \\n\\nний период Смонтированы у...   \n",
       "2    \\t ноября  года О \\n\\n\\n\\nК летмю восстаиомеш ...   \n",
       "3    ИЗВЕСТИЯ\\n\\nПО СТРАНАМ И КСНТИНЕНТАМ\\n\\n\\t\\t о...   \n",
       "4    \\t ноября  года \\t\\n\\nновости\\n\\nоон\\n\\n по СТ...   \n",
       "..                                                 ...   \n",
       "652   \\nИЗВЕСТИЯ\\n марта  \\t\\nНаш рейтинг\\n  \\n Дач...   \n",
       "653    \\nИЗВЕСТИЯ\\n января  года \\nВ соответствии с...   \n",
       "654    \\nИЗВЕСТИЯ\\n марта  года \\n Таблетки\\nБромел...   \n",
       "655    \\nИЗВЕСТИЯ\\n ноября  года \\n\\n Так считает п...   \n",
       "656    \\nИЗВЕСТИЯ\\n декабря  года \\nВзятки на дорог...   \n",
       "\n",
       "                                           clean_text2  \n",
       "0    ИЗВЕСТИЯПСЭ СТРАНАМ И НОНТИНЕНТАМ б октября  г...  \n",
       "1      ноября  года О ний период Смонтированы устан...  \n",
       "2     ноября  года О К летмю восстаиомеш Государстм...  \n",
       "3    ИЗВЕСТИЯПО СТРАНАМ И КСНТИНЕНТАМ октября  года...  \n",
       "4     ноября  года новостиоон по СТРАНАМ И КОНТИНЕН...  \n",
       "..                                                 ...  \n",
       "652   ИЗВЕСТИЯ марта  Наш рейтинг   ДачаЭкологическ...  \n",
       "653    ИЗВЕСТИЯ января  года В соответствии с утвер...  \n",
       "654    ИЗВЕСТИЯ марта  года  ТаблеткиБромелайнПЦИЫЖ...  \n",
       "655    ИЗВЕСТИЯ ноября  года  Так считает председат...  \n",
       "656    ИЗВЕСТИЯ декабря  года Взятки на дорогахИз в...  \n",
       "\n",
       "[657 rows x 7 columns]"
      ]
     },
     "execution_count": 101,
     "metadata": {},
     "output_type": "execute_result"
    }
   ],
   "source": [
    "df['clean_text2'] = df['clean_text'].apply(lambda x: text_cleaner2(x))\n",
    "df"
   ]
  },
  {
   "cell_type": "code",
   "execution_count": 102,
   "metadata": {},
   "outputs": [],
   "source": [
    "def word_tokenize(word_list):\n",
    "    tokenized = []\n",
    "    # pass word list through language model.\n",
    "    doc = nlp(word_list)\n",
    "    for token in doc:\n",
    "        if not token.is_punct and len(token.text.strip()) > 0:\n",
    "            tokenized.append(token.text)\n",
    "    return tokenized"
   ]
  },
  {
   "cell_type": "code",
   "execution_count": 103,
   "metadata": {},
   "outputs": [
    {
     "data": {
      "text/html": [
       "<div>\n",
       "<style scoped>\n",
       "    .dataframe tbody tr th:only-of-type {\n",
       "        vertical-align: middle;\n",
       "    }\n",
       "\n",
       "    .dataframe tbody tr th {\n",
       "        vertical-align: top;\n",
       "    }\n",
       "\n",
       "    .dataframe thead th {\n",
       "        text-align: right;\n",
       "    }\n",
       "</style>\n",
       "<table border=\"1\" class=\"dataframe\">\n",
       "  <thead>\n",
       "    <tr style=\"text-align: right;\">\n",
       "      <th></th>\n",
       "      <th>text</th>\n",
       "      <th>year</th>\n",
       "      <th>filename</th>\n",
       "      <th>type</th>\n",
       "      <th>category</th>\n",
       "      <th>clean_text</th>\n",
       "      <th>clean_text2</th>\n",
       "      <th>tokenized</th>\n",
       "    </tr>\n",
       "  </thead>\n",
       "  <tbody>\n",
       "    <tr>\n",
       "      <td>0</td>\n",
       "      <td>ИЗВЕСТИЯ\\n\\nПСЭ СТРАНАМ И НОНТИНЕНТАМ\\n\\n\\t• б...</td>\n",
       "      <td>1984</td>\n",
       "      <td>1984 Issue 278 Page 4.txt</td>\n",
       "      <td>Communist</td>\n",
       "      <td>True</td>\n",
       "      <td>ИЗВЕСТИЯ\\n\\nПСЭ СТРАНАМ И НОНТИНЕНТАМ\\n\\n\\t б ...</td>\n",
       "      <td>ИЗВЕСТИЯПСЭ СТРАНАМ И НОНТИНЕНТАМ б октября  г...</td>\n",
       "      <td>[ИЗВЕСТИЯПСЭ, СТРАНАМ, И, НОНТИНЕНТАМ, б, октя...</td>\n",
       "    </tr>\n",
       "    <tr>\n",
       "      <td>1</td>\n",
       "      <td>• 1 ноября 1984 года О 2\\n\\nний период. Смонти...</td>\n",
       "      <td>1984</td>\n",
       "      <td>1984 Issue 306 Page 2.txt</td>\n",
       "      <td>Communist</td>\n",
       "      <td>True</td>\n",
       "      <td>ноября  года О \\n\\nний период Смонтированы у...</td>\n",
       "      <td>ноября  года О ний период Смонтированы устан...</td>\n",
       "      <td>[ноября, года, О, ний, период, Смонтированы, у...</td>\n",
       "    </tr>\n",
       "    <tr>\n",
       "      <td>2</td>\n",
       "      <td>•\\t1 ноября 1984 года О «3\\n\\n\\n\\nК 40-летмю в...</td>\n",
       "      <td>1984</td>\n",
       "      <td>1984 Issue 306 Page 3.txt</td>\n",
       "      <td>Communist</td>\n",
       "      <td>True</td>\n",
       "      <td>\\t ноября  года О \\n\\n\\n\\nК летмю восстаиомеш ...</td>\n",
       "      <td>ноября  года О К летмю восстаиомеш Государстм...</td>\n",
       "      <td>[ноября, года, О, К, летмю, восстаиомеш, Госуд...</td>\n",
       "    </tr>\n",
       "    <tr>\n",
       "      <td>3</td>\n",
       "      <td>ИЗВЕСТИЯ\\n\\nПО СТРАНАМ И КСНТИНЕНТАМ\\n\\n\\t•\\t5...</td>\n",
       "      <td>1984</td>\n",
       "      <td>1984 Issue 278 Page 5.txt</td>\n",
       "      <td>Communist</td>\n",
       "      <td>True</td>\n",
       "      <td>ИЗВЕСТИЯ\\n\\nПО СТРАНАМ И КСНТИНЕНТАМ\\n\\n\\t\\t о...</td>\n",
       "      <td>ИЗВЕСТИЯПО СТРАНАМ И КСНТИНЕНТАМ октября  года...</td>\n",
       "      <td>[ИЗВЕСТИЯПО, СТРАНАМ, И, КСНТИНЕНТАМ, октября,...</td>\n",
       "    </tr>\n",
       "    <tr>\n",
       "      <td>4</td>\n",
       "      <td>•\\t29 ноября 1984 года •\\t6\\n\\nновости\\n\\nоон\\...</td>\n",
       "      <td>1984</td>\n",
       "      <td>1984 Issue 334 Page 6.txt</td>\n",
       "      <td>Communist</td>\n",
       "      <td>True</td>\n",
       "      <td>\\t ноября  года \\t\\n\\nновости\\n\\nоон\\n\\n по СТ...</td>\n",
       "      <td>ноября  года новостиоон по СТРАНАМ И КОНТИНЕН...</td>\n",
       "      <td>[ноября, года, новостиоон, по, СТРАНАМ, И, КОН...</td>\n",
       "    </tr>\n",
       "    <tr>\n",
       "      <td>...</td>\n",
       "      <td>...</td>\n",
       "      <td>...</td>\n",
       "      <td>...</td>\n",
       "      <td>...</td>\n",
       "      <td>...</td>\n",
       "      <td>...</td>\n",
       "      <td>...</td>\n",
       "      <td>...</td>\n",
       "    </tr>\n",
       "    <tr>\n",
       "      <td>652</td>\n",
       "      <td>﻿№56 •\\nИЗВЕСТИЯ\\n26 марта 1°|&gt;7 ’&lt;&gt;'&lt;\\t•\\nНаш...</td>\n",
       "      <td>1997</td>\n",
       "      <td>1997 Issue 56 March 26 Page 6.txt</td>\n",
       "      <td>Democratic</td>\n",
       "      <td>False</td>\n",
       "      <td>\\nИЗВЕСТИЯ\\n марта  \\t\\nНаш рейтинг\\n  \\n Дач...</td>\n",
       "      <td>ИЗВЕСТИЯ марта  Наш рейтинг   ДачаЭкологическ...</td>\n",
       "      <td>[ИЗВЕСТИЯ, марта, Наш, рейтинг, ДачаЭкологичес...</td>\n",
       "    </tr>\n",
       "    <tr>\n",
       "      <td>653</td>\n",
       "      <td>﻿№ 18 3\\nИЗВЕСТИЯ\\n30 января 1997 года •\\nВ со...</td>\n",
       "      <td>1997</td>\n",
       "      <td>1997 Issue 18 January 30 Page 6.txt</td>\n",
       "      <td>Democratic</td>\n",
       "      <td>False</td>\n",
       "      <td>\\nИЗВЕСТИЯ\\n января  года \\nВ соответствии с...</td>\n",
       "      <td>ИЗВЕСТИЯ января  года В соответствии с утвер...</td>\n",
       "      <td>[ИЗВЕСТИЯ, января, года, В, соответствии, с, у...</td>\n",
       "    </tr>\n",
       "    <tr>\n",
       "      <td>654</td>\n",
       "      <td>﻿№ 56 •\\nИЗВЕСТИЯ\\n26 марта 1997 года •\\n' Таб...</td>\n",
       "      <td>1997</td>\n",
       "      <td>1997 Issue 56 March 26 Page 7.txt</td>\n",
       "      <td>Democratic</td>\n",
       "      <td>False</td>\n",
       "      <td>\\nИЗВЕСТИЯ\\n марта  года \\n Таблетки\\nБромел...</td>\n",
       "      <td>ИЗВЕСТИЯ марта  года  ТаблеткиБромелайнПЦИЫЖ...</td>\n",
       "      <td>[ИЗВЕСТИЯ, марта, года, ТаблеткиБромелайнПЦИЫЖ...</td>\n",
       "    </tr>\n",
       "    <tr>\n",
       "      <td>655</td>\n",
       "      <td>﻿№ 227 •\\nИЗВЕСТИЯ\\n29 ноября 1997 года •\\n3\\n...</td>\n",
       "      <td>1997</td>\n",
       "      <td>1997 Issue 227 November 29 Page 3.txt</td>\n",
       "      <td>Democratic</td>\n",
       "      <td>False</td>\n",
       "      <td>\\nИЗВЕСТИЯ\\n ноября  года \\n\\n Так считает п...</td>\n",
       "      <td>ИЗВЕСТИЯ ноября  года  Так считает председат...</td>\n",
       "      <td>[ИЗВЕСТИЯ, ноября, года, Так, считает, председ...</td>\n",
       "    </tr>\n",
       "    <tr>\n",
       "      <td>656</td>\n",
       "      <td>﻿№ 246 •\\nИЗВЕСТИЯ\\n30 декабря 1997 года •\\nВз...</td>\n",
       "      <td>1997</td>\n",
       "      <td>1997 Issue 246 December 30 Page 4.txt</td>\n",
       "      <td>Democratic</td>\n",
       "      <td>False</td>\n",
       "      <td>\\nИЗВЕСТИЯ\\n декабря  года \\nВзятки на дорог...</td>\n",
       "      <td>ИЗВЕСТИЯ декабря  года Взятки на дорогахИз в...</td>\n",
       "      <td>[ИЗВЕСТИЯ, декабря, года, Взятки, на, дорогахИ...</td>\n",
       "    </tr>\n",
       "  </tbody>\n",
       "</table>\n",
       "<p>657 rows × 8 columns</p>\n",
       "</div>"
      ],
      "text/plain": [
       "                                                  text  year  \\\n",
       "0    ИЗВЕСТИЯ\\n\\nПСЭ СТРАНАМ И НОНТИНЕНТАМ\\n\\n\\t• б...  1984   \n",
       "1    • 1 ноября 1984 года О 2\\n\\nний период. Смонти...  1984   \n",
       "2    •\\t1 ноября 1984 года О «3\\n\\n\\n\\nК 40-летмю в...  1984   \n",
       "3    ИЗВЕСТИЯ\\n\\nПО СТРАНАМ И КСНТИНЕНТАМ\\n\\n\\t•\\t5...  1984   \n",
       "4    •\\t29 ноября 1984 года •\\t6\\n\\nновости\\n\\nоон\\...  1984   \n",
       "..                                                 ...   ...   \n",
       "652  ﻿№56 •\\nИЗВЕСТИЯ\\n26 марта 1°|>7 ’<>'<\\t•\\nНаш...  1997   \n",
       "653  ﻿№ 18 3\\nИЗВЕСТИЯ\\n30 января 1997 года •\\nВ со...  1997   \n",
       "654  ﻿№ 56 •\\nИЗВЕСТИЯ\\n26 марта 1997 года •\\n' Таб...  1997   \n",
       "655  ﻿№ 227 •\\nИЗВЕСТИЯ\\n29 ноября 1997 года •\\n3\\n...  1997   \n",
       "656  ﻿№ 246 •\\nИЗВЕСТИЯ\\n30 декабря 1997 года •\\nВз...  1997   \n",
       "\n",
       "                                  filename        type  category  \\\n",
       "0                1984 Issue 278 Page 4.txt   Communist      True   \n",
       "1                1984 Issue 306 Page 2.txt   Communist      True   \n",
       "2                1984 Issue 306 Page 3.txt   Communist      True   \n",
       "3                1984 Issue 278 Page 5.txt   Communist      True   \n",
       "4                1984 Issue 334 Page 6.txt   Communist      True   \n",
       "..                                     ...         ...       ...   \n",
       "652      1997 Issue 56 March 26 Page 6.txt  Democratic     False   \n",
       "653    1997 Issue 18 January 30 Page 6.txt  Democratic     False   \n",
       "654      1997 Issue 56 March 26 Page 7.txt  Democratic     False   \n",
       "655  1997 Issue 227 November 29 Page 3.txt  Democratic     False   \n",
       "656  1997 Issue 246 December 30 Page 4.txt  Democratic     False   \n",
       "\n",
       "                                            clean_text  \\\n",
       "0    ИЗВЕСТИЯ\\n\\nПСЭ СТРАНАМ И НОНТИНЕНТАМ\\n\\n\\t б ...   \n",
       "1      ноября  года О \\n\\nний период Смонтированы у...   \n",
       "2    \\t ноября  года О \\n\\n\\n\\nК летмю восстаиомеш ...   \n",
       "3    ИЗВЕСТИЯ\\n\\nПО СТРАНАМ И КСНТИНЕНТАМ\\n\\n\\t\\t о...   \n",
       "4    \\t ноября  года \\t\\n\\nновости\\n\\nоон\\n\\n по СТ...   \n",
       "..                                                 ...   \n",
       "652   \\nИЗВЕСТИЯ\\n марта  \\t\\nНаш рейтинг\\n  \\n Дач...   \n",
       "653    \\nИЗВЕСТИЯ\\n января  года \\nВ соответствии с...   \n",
       "654    \\nИЗВЕСТИЯ\\n марта  года \\n Таблетки\\nБромел...   \n",
       "655    \\nИЗВЕСТИЯ\\n ноября  года \\n\\n Так считает п...   \n",
       "656    \\nИЗВЕСТИЯ\\n декабря  года \\nВзятки на дорог...   \n",
       "\n",
       "                                           clean_text2  \\\n",
       "0    ИЗВЕСТИЯПСЭ СТРАНАМ И НОНТИНЕНТАМ б октября  г...   \n",
       "1      ноября  года О ний период Смонтированы устан...   \n",
       "2     ноября  года О К летмю восстаиомеш Государстм...   \n",
       "3    ИЗВЕСТИЯПО СТРАНАМ И КСНТИНЕНТАМ октября  года...   \n",
       "4     ноября  года новостиоон по СТРАНАМ И КОНТИНЕН...   \n",
       "..                                                 ...   \n",
       "652   ИЗВЕСТИЯ марта  Наш рейтинг   ДачаЭкологическ...   \n",
       "653    ИЗВЕСТИЯ января  года В соответствии с утвер...   \n",
       "654    ИЗВЕСТИЯ марта  года  ТаблеткиБромелайнПЦИЫЖ...   \n",
       "655    ИЗВЕСТИЯ ноября  года  Так считает председат...   \n",
       "656    ИЗВЕСТИЯ декабря  года Взятки на дорогахИз в...   \n",
       "\n",
       "                                             tokenized  \n",
       "0    [ИЗВЕСТИЯПСЭ, СТРАНАМ, И, НОНТИНЕНТАМ, б, октя...  \n",
       "1    [ноября, года, О, ний, период, Смонтированы, у...  \n",
       "2    [ноября, года, О, К, летмю, восстаиомеш, Госуд...  \n",
       "3    [ИЗВЕСТИЯПО, СТРАНАМ, И, КСНТИНЕНТАМ, октября,...  \n",
       "4    [ноября, года, новостиоон, по, СТРАНАМ, И, КОН...  \n",
       "..                                                 ...  \n",
       "652  [ИЗВЕСТИЯ, марта, Наш, рейтинг, ДачаЭкологичес...  \n",
       "653  [ИЗВЕСТИЯ, января, года, В, соответствии, с, у...  \n",
       "654  [ИЗВЕСТИЯ, марта, года, ТаблеткиБромелайнПЦИЫЖ...  \n",
       "655  [ИЗВЕСТИЯ, ноября, года, Так, считает, председ...  \n",
       "656  [ИЗВЕСТИЯ, декабря, года, Взятки, на, дорогахИ...  \n",
       "\n",
       "[657 rows x 8 columns]"
      ]
     },
     "execution_count": 103,
     "metadata": {},
     "output_type": "execute_result"
    }
   ],
   "source": [
    "df['tokenized'] = df['clean_text2'].apply(lambda x: word_tokenize(x))\n",
    "df"
   ]
  },
  {
   "cell_type": "code",
   "execution_count": 104,
   "metadata": {},
   "outputs": [],
   "source": [
    "export_json = df.to_json('izvestiia_token.json')"
   ]
  },
  {
   "cell_type": "code",
   "execution_count": 105,
   "metadata": {},
   "outputs": [],
   "source": [
    "export_csv = df.to_csv('izvestiia_token.csv')"
   ]
  },
  {
   "cell_type": "code",
   "execution_count": 107,
   "metadata": {},
   "outputs": [
    {
     "data": {
      "text/plain": [
       "[('в', 57105),\n",
       " ('и', 54306),\n",
       " ('на', 28241),\n",
       " ('с', 18324),\n",
       " ('не', 18113),\n",
       " ('по', 13935),\n",
       " ('что', 13754),\n",
       " ('а', 9078),\n",
       " ('к', 8649),\n",
       " ('В', 8486),\n",
       " ('о', 8180),\n",
       " ('за', 7471),\n",
       " ('из', 7225),\n",
       " ('для', 6934),\n",
       " ('от', 6160),\n",
       " ('как', 5938),\n",
       " ('я', 4925),\n",
       " ('И', 4660),\n",
       " ('его', 4419),\n",
       " ('до', 4203),\n",
       " ('А', 4123),\n",
       " ('это', 3996),\n",
       " ('же', 3853),\n",
       " ('года', 3642),\n",
       " ('но', 3630),\n",
       " ('у', 3573),\n",
       " ('все', 3535),\n",
       " ('их', 3502),\n",
       " ('то', 3340),\n",
       " ('СССР', 3070),\n",
       " ('он', 3019),\n",
       " ('только', 3015),\n",
       " ('уже', 2847),\n",
       " ('бы', 2842),\n",
       " ('Но', 2672),\n",
       " ('России', 2670),\n",
       " ('г', 2551),\n",
       " ('еще', 2426),\n",
       " ('было', 2413),\n",
       " ('том', 2399)]"
      ]
     },
     "execution_count": 107,
     "metadata": {},
     "output_type": "execute_result"
    }
   ],
   "source": [
    "countsDict = {}\n",
    "for word in df['tokenized'].sum():\n",
    "    if word in countsDict:\n",
    "        countsDict[word] += 1\n",
    "    else:\n",
    "        countsDict[word] = 1\n",
    "word_counts = sorted(countsDict.items(), key = lambda x : x[1], reverse = True)\n",
    "word_counts[:40]"
   ]
  },
  {
   "cell_type": "code",
   "execution_count": 108,
   "metadata": {},
   "outputs": [
    {
     "data": {
      "text/plain": [
       "['в',\n",
       " 'и',\n",
       " 'на',\n",
       " 'с',\n",
       " 'не',\n",
       " 'по',\n",
       " 'что',\n",
       " 'а',\n",
       " 'к',\n",
       " 'В',\n",
       " 'о',\n",
       " 'за',\n",
       " 'из',\n",
       " 'для',\n",
       " 'от',\n",
       " 'как',\n",
       " 'я',\n",
       " 'И',\n",
       " 'его',\n",
       " 'до',\n",
       " 'А',\n",
       " 'это',\n",
       " 'же',\n",
       " 'года',\n",
       " 'но',\n",
       " 'у',\n",
       " 'все',\n",
       " 'их',\n",
       " 'то']"
      ]
     },
     "execution_count": 108,
     "metadata": {},
     "output_type": "execute_result"
    }
   ],
   "source": [
    "stop_words_freq = []\n",
    "for word, count in word_counts:\n",
    "    if word == 'СССР':\n",
    "        break\n",
    "    else:\n",
    "        stop_words_freq.append(word)\n",
    "stop_words_freq"
   ]
  },
  {
   "cell_type": "code",
   "execution_count": 109,
   "metadata": {},
   "outputs": [],
   "source": [
    "def normalizeTokens(word_list, extra_stop=[]):\n",
    "    #We can use a generator here as we just need to iterate over it\n",
    "    normalized = []\n",
    "    if type(word_list) == list and len(word_list) == 1:\n",
    "        word_list = word_list[0]\n",
    "\n",
    "    if type(word_list) == list:\n",
    "        word_list = ' '.join([str(elem) for elem in word_list]) \n",
    "\n",
    "    doc = nlp(word_list.lower())\n",
    "    \n",
    "    # add the property of stop word to words considered as stop words\n",
    "    if len(extra_stop) > 0:\n",
    "        for stopword in extra_stop:\n",
    "            lexeme = nlp.vocab[stopword]\n",
    "            lexeme.is_stop = True\n",
    "\n",
    "    for w in doc:\n",
    "        # if it's not a stop word or punctuation mark, add it to our article\n",
    "        if w.text != '\\n' and not w.is_stop and not w.is_punct and not w.like_num and len(w.text.strip()) > 0:\n",
    "            # we add the lematized version of the word\n",
    "            normalized.append(str(w.lemma_))\n",
    "\n",
    "    return normalized"
   ]
  },
  {
   "cell_type": "code",
   "execution_count": 110,
   "metadata": {},
   "outputs": [],
   "source": [
    "df['lemmas'] = df['tokenized'].apply(lambda x: normalizeTokens(x))"
   ]
  },
  {
   "cell_type": "code",
   "execution_count": 111,
   "metadata": {},
   "outputs": [],
   "source": [
    "export_json = df.to_json('izvestiia_lemma.json')"
   ]
  },
  {
   "cell_type": "code",
   "execution_count": 112,
   "metadata": {},
   "outputs": [],
   "source": [
    "export_csv = df.to_csv('izvestiia_lemma.csv')"
   ]
  },
  {
   "cell_type": "code",
   "execution_count": 113,
   "metadata": {},
   "outputs": [
    {
     "data": {
      "text/html": [
       "<div>\n",
       "<style scoped>\n",
       "    .dataframe tbody tr th:only-of-type {\n",
       "        vertical-align: middle;\n",
       "    }\n",
       "\n",
       "    .dataframe tbody tr th {\n",
       "        vertical-align: top;\n",
       "    }\n",
       "\n",
       "    .dataframe thead th {\n",
       "        text-align: right;\n",
       "    }\n",
       "</style>\n",
       "<table border=\"1\" class=\"dataframe\">\n",
       "  <thead>\n",
       "    <tr style=\"text-align: right;\">\n",
       "      <th></th>\n",
       "      <th>text</th>\n",
       "      <th>year</th>\n",
       "      <th>filename</th>\n",
       "      <th>type</th>\n",
       "      <th>category</th>\n",
       "      <th>clean_text</th>\n",
       "      <th>clean_text2</th>\n",
       "      <th>tokenized</th>\n",
       "      <th>lemmas</th>\n",
       "    </tr>\n",
       "  </thead>\n",
       "  <tbody>\n",
       "    <tr>\n",
       "      <td>0</td>\n",
       "      <td>ИЗВЕСТИЯ\\n\\nПСЭ СТРАНАМ И НОНТИНЕНТАМ\\n\\n\\t• б...</td>\n",
       "      <td>1984</td>\n",
       "      <td>1984 Issue 278 Page 4.txt</td>\n",
       "      <td>Communist</td>\n",
       "      <td>True</td>\n",
       "      <td>ИЗВЕСТИЯ\\n\\nПСЭ СТРАНАМ И НОНТИНЕНТАМ\\n\\n\\t б ...</td>\n",
       "      <td>ИЗВЕСТИЯПСЭ СТРАНАМ И НОНТИНЕНТАМ б октября  г...</td>\n",
       "      <td>[ИЗВЕСТИЯПСЭ, СТРАНАМ, И, НОНТИНЕНТАМ, б, октя...</td>\n",
       "      <td>[известияпсэ, страна, нонтинент, бы, октябрь, ...</td>\n",
       "    </tr>\n",
       "    <tr>\n",
       "      <td>1</td>\n",
       "      <td>• 1 ноября 1984 года О 2\\n\\nний период. Смонти...</td>\n",
       "      <td>1984</td>\n",
       "      <td>1984 Issue 306 Page 2.txt</td>\n",
       "      <td>Communist</td>\n",
       "      <td>True</td>\n",
       "      <td>ноября  года О \\n\\nний период Смонтированы у...</td>\n",
       "      <td>ноября  года О ний период Смонтированы устан...</td>\n",
       "      <td>[ноября, года, О, ний, период, Смонтированы, у...</td>\n",
       "      <td>[ноябрь, год, ний, период, бонтировать, устано...</td>\n",
       "    </tr>\n",
       "    <tr>\n",
       "      <td>2</td>\n",
       "      <td>•\\t1 ноября 1984 года О «3\\n\\n\\n\\nК 40-летмю в...</td>\n",
       "      <td>1984</td>\n",
       "      <td>1984 Issue 306 Page 3.txt</td>\n",
       "      <td>Communist</td>\n",
       "      <td>True</td>\n",
       "      <td>\\t ноября  года О \\n\\n\\n\\nК летмю восстаиомеш ...</td>\n",
       "      <td>ноября  года О К летмю восстаиомеш Государстм...</td>\n",
       "      <td>[ноября, года, О, К, летмю, восстаиомеш, Госуд...</td>\n",
       "      <td>[ноябрь, год, летметь, восстаиомеш, государстм...</td>\n",
       "    </tr>\n",
       "    <tr>\n",
       "      <td>3</td>\n",
       "      <td>ИЗВЕСТИЯ\\n\\nПО СТРАНАМ И КСНТИНЕНТАМ\\n\\n\\t•\\t5...</td>\n",
       "      <td>1984</td>\n",
       "      <td>1984 Issue 278 Page 5.txt</td>\n",
       "      <td>Communist</td>\n",
       "      <td>True</td>\n",
       "      <td>ИЗВЕСТИЯ\\n\\nПО СТРАНАМ И КСНТИНЕНТАМ\\n\\n\\t\\t о...</td>\n",
       "      <td>ИЗВЕСТИЯПО СТРАНАМ И КСНТИНЕНТАМ октября  года...</td>\n",
       "      <td>[ИЗВЕСТИЯПО, СТРАНАМ, И, КСНТИНЕНТАМ, октября,...</td>\n",
       "      <td>[известияпо, страна, кснтинент, октябрь, год, ...</td>\n",
       "    </tr>\n",
       "    <tr>\n",
       "      <td>4</td>\n",
       "      <td>•\\t29 ноября 1984 года •\\t6\\n\\nновости\\n\\nоон\\...</td>\n",
       "      <td>1984</td>\n",
       "      <td>1984 Issue 334 Page 6.txt</td>\n",
       "      <td>Communist</td>\n",
       "      <td>True</td>\n",
       "      <td>\\t ноября  года \\t\\n\\nновости\\n\\nоон\\n\\n по СТ...</td>\n",
       "      <td>ноября  года новостиоон по СТРАНАМ И КОНТИНЕН...</td>\n",
       "      <td>[ноября, года, новостиоон, по, СТРАНАМ, И, КОН...</td>\n",
       "      <td>[ноябрь, год, новостиоон, страна, континентама...</td>\n",
       "    </tr>\n",
       "    <tr>\n",
       "      <td>...</td>\n",
       "      <td>...</td>\n",
       "      <td>...</td>\n",
       "      <td>...</td>\n",
       "      <td>...</td>\n",
       "      <td>...</td>\n",
       "      <td>...</td>\n",
       "      <td>...</td>\n",
       "      <td>...</td>\n",
       "      <td>...</td>\n",
       "    </tr>\n",
       "    <tr>\n",
       "      <td>652</td>\n",
       "      <td>﻿№56 •\\nИЗВЕСТИЯ\\n26 марта 1°|&gt;7 ’&lt;&gt;'&lt;\\t•\\nНаш...</td>\n",
       "      <td>1997</td>\n",
       "      <td>1997 Issue 56 March 26 Page 6.txt</td>\n",
       "      <td>Democratic</td>\n",
       "      <td>False</td>\n",
       "      <td>\\nИЗВЕСТИЯ\\n марта  \\t\\nНаш рейтинг\\n  \\n Дач...</td>\n",
       "      <td>ИЗВЕСТИЯ марта  Наш рейтинг   ДачаЭкологическ...</td>\n",
       "      <td>[ИЗВЕСТИЯ, марта, Наш, рейтинг, ДачаЭкологичес...</td>\n",
       "      <td>[известие, март, рейтинг, дачаэкологически, бе...</td>\n",
       "    </tr>\n",
       "    <tr>\n",
       "      <td>653</td>\n",
       "      <td>﻿№ 18 3\\nИЗВЕСТИЯ\\n30 января 1997 года •\\nВ со...</td>\n",
       "      <td>1997</td>\n",
       "      <td>1997 Issue 18 January 30 Page 6.txt</td>\n",
       "      <td>Democratic</td>\n",
       "      <td>False</td>\n",
       "      <td>\\nИЗВЕСТИЯ\\n января  года \\nВ соответствии с...</td>\n",
       "      <td>ИЗВЕСТИЯ января  года В соответствии с утвер...</td>\n",
       "      <td>[ИЗВЕСТИЯ, января, года, В, соответствии, с, у...</td>\n",
       "      <td>[известие, январь, год, соответствие, утвердит...</td>\n",
       "    </tr>\n",
       "    <tr>\n",
       "      <td>654</td>\n",
       "      <td>﻿№ 56 •\\nИЗВЕСТИЯ\\n26 марта 1997 года •\\n' Таб...</td>\n",
       "      <td>1997</td>\n",
       "      <td>1997 Issue 56 March 26 Page 7.txt</td>\n",
       "      <td>Democratic</td>\n",
       "      <td>False</td>\n",
       "      <td>\\nИЗВЕСТИЯ\\n марта  года \\n Таблетки\\nБромел...</td>\n",
       "      <td>ИЗВЕСТИЯ марта  года  ТаблеткиБромелайнПЦИЫЖ...</td>\n",
       "      <td>[ИЗВЕСТИЯ, марта, года, ТаблеткиБромелайнПЦИЫЖ...</td>\n",
       "      <td>[известие, март, год, таблеткибромелайнпциыжнр...</td>\n",
       "    </tr>\n",
       "    <tr>\n",
       "      <td>655</td>\n",
       "      <td>﻿№ 227 •\\nИЗВЕСТИЯ\\n29 ноября 1997 года •\\n3\\n...</td>\n",
       "      <td>1997</td>\n",
       "      <td>1997 Issue 227 November 29 Page 3.txt</td>\n",
       "      <td>Democratic</td>\n",
       "      <td>False</td>\n",
       "      <td>\\nИЗВЕСТИЯ\\n ноября  года \\n\\n Так считает п...</td>\n",
       "      <td>ИЗВЕСТИЯ ноября  года  Так считает председат...</td>\n",
       "      <td>[ИЗВЕСТИЯ, ноября, года, Так, считает, председ...</td>\n",
       "      <td>[известие, ноябрь, год, считать, председатель,...</td>\n",
       "    </tr>\n",
       "    <tr>\n",
       "      <td>656</td>\n",
       "      <td>﻿№ 246 •\\nИЗВЕСТИЯ\\n30 декабря 1997 года •\\nВз...</td>\n",
       "      <td>1997</td>\n",
       "      <td>1997 Issue 246 December 30 Page 4.txt</td>\n",
       "      <td>Democratic</td>\n",
       "      <td>False</td>\n",
       "      <td>\\nИЗВЕСТИЯ\\n декабря  года \\nВзятки на дорог...</td>\n",
       "      <td>ИЗВЕСТИЯ декабря  года Взятки на дорогахИз в...</td>\n",
       "      <td>[ИЗВЕСТИЯ, декабря, года, Взятки, на, дорогахИ...</td>\n",
       "      <td>[известие, декабрь, год, взятка, дорогахиз, во...</td>\n",
       "    </tr>\n",
       "  </tbody>\n",
       "</table>\n",
       "<p>657 rows × 9 columns</p>\n",
       "</div>"
      ],
      "text/plain": [
       "                                                  text  year  \\\n",
       "0    ИЗВЕСТИЯ\\n\\nПСЭ СТРАНАМ И НОНТИНЕНТАМ\\n\\n\\t• б...  1984   \n",
       "1    • 1 ноября 1984 года О 2\\n\\nний период. Смонти...  1984   \n",
       "2    •\\t1 ноября 1984 года О «3\\n\\n\\n\\nК 40-летмю в...  1984   \n",
       "3    ИЗВЕСТИЯ\\n\\nПО СТРАНАМ И КСНТИНЕНТАМ\\n\\n\\t•\\t5...  1984   \n",
       "4    •\\t29 ноября 1984 года •\\t6\\n\\nновости\\n\\nоон\\...  1984   \n",
       "..                                                 ...   ...   \n",
       "652  ﻿№56 •\\nИЗВЕСТИЯ\\n26 марта 1°|>7 ’<>'<\\t•\\nНаш...  1997   \n",
       "653  ﻿№ 18 3\\nИЗВЕСТИЯ\\n30 января 1997 года •\\nВ со...  1997   \n",
       "654  ﻿№ 56 •\\nИЗВЕСТИЯ\\n26 марта 1997 года •\\n' Таб...  1997   \n",
       "655  ﻿№ 227 •\\nИЗВЕСТИЯ\\n29 ноября 1997 года •\\n3\\n...  1997   \n",
       "656  ﻿№ 246 •\\nИЗВЕСТИЯ\\n30 декабря 1997 года •\\nВз...  1997   \n",
       "\n",
       "                                  filename        type  category  \\\n",
       "0                1984 Issue 278 Page 4.txt   Communist      True   \n",
       "1                1984 Issue 306 Page 2.txt   Communist      True   \n",
       "2                1984 Issue 306 Page 3.txt   Communist      True   \n",
       "3                1984 Issue 278 Page 5.txt   Communist      True   \n",
       "4                1984 Issue 334 Page 6.txt   Communist      True   \n",
       "..                                     ...         ...       ...   \n",
       "652      1997 Issue 56 March 26 Page 6.txt  Democratic     False   \n",
       "653    1997 Issue 18 January 30 Page 6.txt  Democratic     False   \n",
       "654      1997 Issue 56 March 26 Page 7.txt  Democratic     False   \n",
       "655  1997 Issue 227 November 29 Page 3.txt  Democratic     False   \n",
       "656  1997 Issue 246 December 30 Page 4.txt  Democratic     False   \n",
       "\n",
       "                                            clean_text  \\\n",
       "0    ИЗВЕСТИЯ\\n\\nПСЭ СТРАНАМ И НОНТИНЕНТАМ\\n\\n\\t б ...   \n",
       "1      ноября  года О \\n\\nний период Смонтированы у...   \n",
       "2    \\t ноября  года О \\n\\n\\n\\nК летмю восстаиомеш ...   \n",
       "3    ИЗВЕСТИЯ\\n\\nПО СТРАНАМ И КСНТИНЕНТАМ\\n\\n\\t\\t о...   \n",
       "4    \\t ноября  года \\t\\n\\nновости\\n\\nоон\\n\\n по СТ...   \n",
       "..                                                 ...   \n",
       "652   \\nИЗВЕСТИЯ\\n марта  \\t\\nНаш рейтинг\\n  \\n Дач...   \n",
       "653    \\nИЗВЕСТИЯ\\n января  года \\nВ соответствии с...   \n",
       "654    \\nИЗВЕСТИЯ\\n марта  года \\n Таблетки\\nБромел...   \n",
       "655    \\nИЗВЕСТИЯ\\n ноября  года \\n\\n Так считает п...   \n",
       "656    \\nИЗВЕСТИЯ\\n декабря  года \\nВзятки на дорог...   \n",
       "\n",
       "                                           clean_text2  \\\n",
       "0    ИЗВЕСТИЯПСЭ СТРАНАМ И НОНТИНЕНТАМ б октября  г...   \n",
       "1      ноября  года О ний период Смонтированы устан...   \n",
       "2     ноября  года О К летмю восстаиомеш Государстм...   \n",
       "3    ИЗВЕСТИЯПО СТРАНАМ И КСНТИНЕНТАМ октября  года...   \n",
       "4     ноября  года новостиоон по СТРАНАМ И КОНТИНЕН...   \n",
       "..                                                 ...   \n",
       "652   ИЗВЕСТИЯ марта  Наш рейтинг   ДачаЭкологическ...   \n",
       "653    ИЗВЕСТИЯ января  года В соответствии с утвер...   \n",
       "654    ИЗВЕСТИЯ марта  года  ТаблеткиБромелайнПЦИЫЖ...   \n",
       "655    ИЗВЕСТИЯ ноября  года  Так считает председат...   \n",
       "656    ИЗВЕСТИЯ декабря  года Взятки на дорогахИз в...   \n",
       "\n",
       "                                             tokenized  \\\n",
       "0    [ИЗВЕСТИЯПСЭ, СТРАНАМ, И, НОНТИНЕНТАМ, б, октя...   \n",
       "1    [ноября, года, О, ний, период, Смонтированы, у...   \n",
       "2    [ноября, года, О, К, летмю, восстаиомеш, Госуд...   \n",
       "3    [ИЗВЕСТИЯПО, СТРАНАМ, И, КСНТИНЕНТАМ, октября,...   \n",
       "4    [ноября, года, новостиоон, по, СТРАНАМ, И, КОН...   \n",
       "..                                                 ...   \n",
       "652  [ИЗВЕСТИЯ, марта, Наш, рейтинг, ДачаЭкологичес...   \n",
       "653  [ИЗВЕСТИЯ, января, года, В, соответствии, с, у...   \n",
       "654  [ИЗВЕСТИЯ, марта, года, ТаблеткиБромелайнПЦИЫЖ...   \n",
       "655  [ИЗВЕСТИЯ, ноября, года, Так, считает, председ...   \n",
       "656  [ИЗВЕСТИЯ, декабря, года, Взятки, на, дорогахИ...   \n",
       "\n",
       "                                                lemmas  \n",
       "0    [известияпсэ, страна, нонтинент, бы, октябрь, ...  \n",
       "1    [ноябрь, год, ний, период, бонтировать, устано...  \n",
       "2    [ноябрь, год, летметь, восстаиомеш, государстм...  \n",
       "3    [известияпо, страна, кснтинент, октябрь, год, ...  \n",
       "4    [ноябрь, год, новостиоон, страна, континентама...  \n",
       "..                                                 ...  \n",
       "652  [известие, март, рейтинг, дачаэкологически, бе...  \n",
       "653  [известие, январь, год, соответствие, утвердит...  \n",
       "654  [известие, март, год, таблеткибромелайнпциыжнр...  \n",
       "655  [известие, ноябрь, год, считать, председатель,...  \n",
       "656  [известие, декабрь, год, взятка, дорогахиз, во...  \n",
       "\n",
       "[657 rows x 9 columns]"
      ]
     },
     "execution_count": 113,
     "metadata": {},
     "output_type": "execute_result"
    }
   ],
   "source": [
    "df"
   ]
  },
  {
   "cell_type": "code",
   "execution_count": 114,
   "metadata": {},
   "outputs": [],
   "source": [
    "izvestiiadf = df"
   ]
  },
  {
   "cell_type": "code",
   "execution_count": 115,
   "metadata": {},
   "outputs": [],
   "source": [
    "holdBackFraction = .2\n",
    "train_data_df, test_data_df = lucem_illud_2020.trainTestSplit(izvestiiadf, holdBackFraction=holdBackFraction)"
   ]
  },
  {
   "cell_type": "code",
   "execution_count": 116,
   "metadata": {},
   "outputs": [
    {
     "name": "stdout",
     "output_type": "stream",
     "text": [
      "526\n",
      "131\n"
     ]
    }
   ],
   "source": [
    "print(len(train_data_df))\n",
    "print(len(test_data_df))"
   ]
  },
  {
   "cell_type": "code",
   "execution_count": 117,
   "metadata": {},
   "outputs": [
    {
     "data": {
      "text/html": [
       "<div>\n",
       "<style scoped>\n",
       "    .dataframe tbody tr th:only-of-type {\n",
       "        vertical-align: middle;\n",
       "    }\n",
       "\n",
       "    .dataframe tbody tr th {\n",
       "        vertical-align: top;\n",
       "    }\n",
       "\n",
       "    .dataframe thead th {\n",
       "        text-align: right;\n",
       "    }\n",
       "</style>\n",
       "<table border=\"1\" class=\"dataframe\">\n",
       "  <thead>\n",
       "    <tr style=\"text-align: right;\">\n",
       "      <th></th>\n",
       "      <th>text</th>\n",
       "      <th>year</th>\n",
       "      <th>filename</th>\n",
       "      <th>type</th>\n",
       "      <th>category</th>\n",
       "      <th>clean_text</th>\n",
       "      <th>clean_text2</th>\n",
       "      <th>tokenized</th>\n",
       "      <th>lemmas</th>\n",
       "    </tr>\n",
       "  </thead>\n",
       "  <tbody>\n",
       "    <tr>\n",
       "      <td>246</td>\n",
       "      <td>﻿Хмм1в11м|1мв1м1вшммм1111м1а1нмм11|!|ша!мн1мя^...</td>\n",
       "      <td>1995</td>\n",
       "      <td>1995 Issue 132 July 19 Page 12.txt</td>\n",
       "      <td>Democratic</td>\n",
       "      <td>False</td>\n",
       "      <td>Хммвммвмвшмммманммшамнмя\\nРапазотс\\nКачество в...</td>\n",
       "      <td>ХммвммвмвшмммманммшамнмяРапазотсКачество вселя...</td>\n",
       "      <td>[ХммвммвмвшмммманммшамнмяРапазотсКачество, все...</td>\n",
       "      <td>[хммвммвмвшмммманммшамнмярапазотскачество, все...</td>\n",
       "    </tr>\n",
       "    <tr>\n",
       "      <td>317</td>\n",
       "      <td>﻿№ 170 •\\nИЗВЕСТИЯ\\n/\\n9 сентября 1995 года •\\...</td>\n",
       "      <td>1995</td>\n",
       "      <td>1995 Issue 170 September 09 Page 4.txt</td>\n",
       "      <td>Democratic</td>\n",
       "      <td>False</td>\n",
       "      <td>\\nИЗВЕСТИЯ\\n\\n сентября  года \\n\\nЧтобы не о...</td>\n",
       "      <td>ИЗВЕСТИЯ сентября  года Чтобы не ошибиться в...</td>\n",
       "      <td>[ИЗВЕСТИЯ, сентября, года, Чтобы, не, ошибитьс...</td>\n",
       "      <td>[известие, сентябрь, год, ошибиться, выбор, ну...</td>\n",
       "    </tr>\n",
       "    <tr>\n",
       "      <td>406</td>\n",
       "      <td>﻿№ 159 •\\nИЗВЕСТИЯ\\n27 августа 1996 года •\\nВы...</td>\n",
       "      <td>1996</td>\n",
       "      <td>1996 Issue 159 August 27 Page 4.txt</td>\n",
       "      <td>Democratic</td>\n",
       "      <td>False</td>\n",
       "      <td>\\nИЗВЕСТИЯ\\n августа  года \\nВыбор провинции...</td>\n",
       "      <td>ИЗВЕСТИЯ августа  года Выбор провинцииСтрана...</td>\n",
       "      <td>[ИЗВЕСТИЯ, августа, года, Выбор, провинцииСтра...</td>\n",
       "      <td>[известие, август, год, выбор, провинциистран,...</td>\n",
       "    </tr>\n",
       "    <tr>\n",
       "      <td>88</td>\n",
       "      <td>ИЗВЕСТИЯ\\n\\n♦ 22 марта\\n\\n1985 года Ж 2\\n\\n\\n\\...</td>\n",
       "      <td>1985</td>\n",
       "      <td>1985 Issue 081 Page 2.txt</td>\n",
       "      <td>Communist</td>\n",
       "      <td>True</td>\n",
       "      <td>ИЗВЕСТИЯ\\n\\n  марта\\n\\n года Ж \\n\\n\\n\\nЫ АК и ...</td>\n",
       "      <td>ИЗВЕСТИЯ  марта года Ж Ы АК и многих читателей...</td>\n",
       "      <td>[ИЗВЕСТИЯ, марта, года, Ж, Ы, АК, и, многих, ч...</td>\n",
       "      <td>[известие, март, год, же, ы, ак, много, читате...</td>\n",
       "    </tr>\n",
       "    <tr>\n",
       "      <td>619</td>\n",
       "      <td>﻿\\nМировой лидер в Новейших сельскохозяй-' ств...</td>\n",
       "      <td>1997</td>\n",
       "      <td>1997 Issue 170 September 09 Page 7.txt</td>\n",
       "      <td>Democratic</td>\n",
       "      <td>False</td>\n",
       "      <td>\\nМировой лидер в Новейших сельскохозяй ственн...</td>\n",
       "      <td>Мировой лидер в Новейших сельскохозяй ственных...</td>\n",
       "      <td>[Мировой, лидер, в, Новейших, сельскохозяй, ст...</td>\n",
       "      <td>[мировой, лидер, новый, сельскохозя, ственный,...</td>\n",
       "    </tr>\n",
       "    <tr>\n",
       "      <td>...</td>\n",
       "      <td>...</td>\n",
       "      <td>...</td>\n",
       "      <td>...</td>\n",
       "      <td>...</td>\n",
       "      <td>...</td>\n",
       "      <td>...</td>\n",
       "      <td>...</td>\n",
       "      <td>...</td>\n",
       "      <td>...</td>\n",
       "    </tr>\n",
       "    <tr>\n",
       "      <td>499</td>\n",
       "      <td>﻿I\\nI\\nI\\n№ 195 •\\nПо воздушному шару - огонь!...</td>\n",
       "      <td>1996</td>\n",
       "      <td>1996 Issue 195 October 16 Page 4.txt</td>\n",
       "      <td>Democratic</td>\n",
       "      <td>False</td>\n",
       "      <td>\\n\\n\\n  \\nПо воздушному шару  огонь\\nУ нас так...</td>\n",
       "      <td>По воздушному шару  огоньУ нас такое может с...</td>\n",
       "      <td>[По, воздушному, шару, огоньУ, нас, такое, мож...</td>\n",
       "      <td>[воздушный, шар, огонь, случиться, любой, моме...</td>\n",
       "    </tr>\n",
       "    <tr>\n",
       "      <td>34</td>\n",
       "      <td>К 114-й годовщине со дня рождения В. И. Ленина...</td>\n",
       "      <td>1984</td>\n",
       "      <td>1984 Issue 110 Page 3.txt</td>\n",
       "      <td>Communist</td>\n",
       "      <td>True</td>\n",
       "      <td>К й годовщине со дня рождения В И Ленина\\n\\n\\n...</td>\n",
       "      <td>К й годовщине со дня рождения В И ЛенинаПоездк...</td>\n",
       "      <td>[К, й, годовщине, со, дня, рождения, В, И, Лен...</td>\n",
       "      <td>[й, годовщина, с, день, рождение, ленинапоездк...</td>\n",
       "    </tr>\n",
       "    <tr>\n",
       "      <td>385</td>\n",
       "      <td>﻿VIII • 22 июня 1995 г., четверг\\nФИНАНСЫ И ОБ...</td>\n",
       "      <td>1995</td>\n",
       "      <td>1995 Issue 113 June 22 Page 16.txt</td>\n",
       "      <td>Democratic</td>\n",
       "      <td>False</td>\n",
       "      <td>июня  г четверг\\nФИНАНСЫ И ОБЩЕСТВО\\nФИНАНС...</td>\n",
       "      <td>июня  г четвергФИНАНСЫ И ОБЩЕСТВОФИНАНСОВЫЕ...</td>\n",
       "      <td>[июня, г, четвергФИНАНСЫ, И, ОБЩЕСТВОФИНАНСОВЫ...</td>\n",
       "      <td>[июнь, год, четвергфинанс, обществофинансовый,...</td>\n",
       "    </tr>\n",
       "    <tr>\n",
       "      <td>70</td>\n",
       "      <td>ИЗВЕСТИЯ\\n\\n\\t№ 277 ♦ 4 октября 1985 года ♦\\t6...</td>\n",
       "      <td>1985</td>\n",
       "      <td>1985 Issue 277 Page 6.txt</td>\n",
       "      <td>Communist</td>\n",
       "      <td>True</td>\n",
       "      <td>ИЗВЕСТИЯ\\n\\n\\t    октября  года \\t\\n\\nтличноен...</td>\n",
       "      <td>ИЗВЕСТИЯ    октября  года тличноениту Динамо С...</td>\n",
       "      <td>[ИЗВЕСТИЯ, октября, года, тличноениту, Динамо,...</td>\n",
       "      <td>[известие, октябрь, год, тличноенит, динамо, с...</td>\n",
       "    </tr>\n",
       "    <tr>\n",
       "      <td>653</td>\n",
       "      <td>﻿№ 18 3\\nИЗВЕСТИЯ\\n30 января 1997 года •\\nВ со...</td>\n",
       "      <td>1997</td>\n",
       "      <td>1997 Issue 18 January 30 Page 6.txt</td>\n",
       "      <td>Democratic</td>\n",
       "      <td>False</td>\n",
       "      <td>\\nИЗВЕСТИЯ\\n января  года \\nВ соответствии с...</td>\n",
       "      <td>ИЗВЕСТИЯ января  года В соответствии с утвер...</td>\n",
       "      <td>[ИЗВЕСТИЯ, января, года, В, соответствии, с, у...</td>\n",
       "      <td>[известие, январь, год, соответствие, утвердит...</td>\n",
       "    </tr>\n",
       "  </tbody>\n",
       "</table>\n",
       "<p>526 rows × 9 columns</p>\n",
       "</div>"
      ],
      "text/plain": [
       "                                                  text  year  \\\n",
       "246  ﻿Хмм1в11м|1мв1м1вшммм1111м1а1нмм11|!|ша!мн1мя^...  1995   \n",
       "317  ﻿№ 170 •\\nИЗВЕСТИЯ\\n/\\n9 сентября 1995 года •\\...  1995   \n",
       "406  ﻿№ 159 •\\nИЗВЕСТИЯ\\n27 августа 1996 года •\\nВы...  1996   \n",
       "88   ИЗВЕСТИЯ\\n\\n♦ 22 марта\\n\\n1985 года Ж 2\\n\\n\\n\\...  1985   \n",
       "619  ﻿\\nМировой лидер в Новейших сельскохозяй-' ств...  1997   \n",
       "..                                                 ...   ...   \n",
       "499  ﻿I\\nI\\nI\\n№ 195 •\\nПо воздушному шару - огонь!...  1996   \n",
       "34   К 114-й годовщине со дня рождения В. И. Ленина...  1984   \n",
       "385  ﻿VIII • 22 июня 1995 г., четверг\\nФИНАНСЫ И ОБ...  1995   \n",
       "70   ИЗВЕСТИЯ\\n\\n\\t№ 277 ♦ 4 октября 1985 года ♦\\t6...  1985   \n",
       "653  ﻿№ 18 3\\nИЗВЕСТИЯ\\n30 января 1997 года •\\nВ со...  1997   \n",
       "\n",
       "                                   filename        type  category  \\\n",
       "246      1995 Issue 132 July 19 Page 12.txt  Democratic     False   \n",
       "317  1995 Issue 170 September 09 Page 4.txt  Democratic     False   \n",
       "406     1996 Issue 159 August 27 Page 4.txt  Democratic     False   \n",
       "88                1985 Issue 081 Page 2.txt   Communist      True   \n",
       "619  1997 Issue 170 September 09 Page 7.txt  Democratic     False   \n",
       "..                                      ...         ...       ...   \n",
       "499    1996 Issue 195 October 16 Page 4.txt  Democratic     False   \n",
       "34                1984 Issue 110 Page 3.txt   Communist      True   \n",
       "385      1995 Issue 113 June 22 Page 16.txt  Democratic     False   \n",
       "70                1985 Issue 277 Page 6.txt   Communist      True   \n",
       "653     1997 Issue 18 January 30 Page 6.txt  Democratic     False   \n",
       "\n",
       "                                            clean_text  \\\n",
       "246  Хммвммвмвшмммманммшамнмя\\nРапазотс\\nКачество в...   \n",
       "317    \\nИЗВЕСТИЯ\\n\\n сентября  года \\n\\nЧтобы не о...   \n",
       "406    \\nИЗВЕСТИЯ\\n августа  года \\nВыбор провинции...   \n",
       "88   ИЗВЕСТИЯ\\n\\n  марта\\n\\n года Ж \\n\\n\\n\\nЫ АК и ...   \n",
       "619  \\nМировой лидер в Новейших сельскохозяй ственн...   \n",
       "..                                                 ...   \n",
       "499  \\n\\n\\n  \\nПо воздушному шару  огонь\\nУ нас так...   \n",
       "34   К й годовщине со дня рождения В И Ленина\\n\\n\\n...   \n",
       "385     июня  г четверг\\nФИНАНСЫ И ОБЩЕСТВО\\nФИНАНС...   \n",
       "70   ИЗВЕСТИЯ\\n\\n\\t    октября  года \\t\\n\\nтличноен...   \n",
       "653    \\nИЗВЕСТИЯ\\n января  года \\nВ соответствии с...   \n",
       "\n",
       "                                           clean_text2  \\\n",
       "246  ХммвммвмвшмммманммшамнмяРапазотсКачество вселя...   \n",
       "317    ИЗВЕСТИЯ сентября  года Чтобы не ошибиться в...   \n",
       "406    ИЗВЕСТИЯ августа  года Выбор провинцииСтрана...   \n",
       "88   ИЗВЕСТИЯ  марта года Ж Ы АК и многих читателей...   \n",
       "619  Мировой лидер в Новейших сельскохозяй ственных...   \n",
       "..                                                 ...   \n",
       "499    По воздушному шару  огоньУ нас такое может с...   \n",
       "34   К й годовщине со дня рождения В И ЛенинаПоездк...   \n",
       "385     июня  г четвергФИНАНСЫ И ОБЩЕСТВОФИНАНСОВЫЕ...   \n",
       "70   ИЗВЕСТИЯ    октября  года тличноениту Динамо С...   \n",
       "653    ИЗВЕСТИЯ января  года В соответствии с утвер...   \n",
       "\n",
       "                                             tokenized  \\\n",
       "246  [ХммвммвмвшмммманммшамнмяРапазотсКачество, все...   \n",
       "317  [ИЗВЕСТИЯ, сентября, года, Чтобы, не, ошибитьс...   \n",
       "406  [ИЗВЕСТИЯ, августа, года, Выбор, провинцииСтра...   \n",
       "88   [ИЗВЕСТИЯ, марта, года, Ж, Ы, АК, и, многих, ч...   \n",
       "619  [Мировой, лидер, в, Новейших, сельскохозяй, ст...   \n",
       "..                                                 ...   \n",
       "499  [По, воздушному, шару, огоньУ, нас, такое, мож...   \n",
       "34   [К, й, годовщине, со, дня, рождения, В, И, Лен...   \n",
       "385  [июня, г, четвергФИНАНСЫ, И, ОБЩЕСТВОФИНАНСОВЫ...   \n",
       "70   [ИЗВЕСТИЯ, октября, года, тличноениту, Динамо,...   \n",
       "653  [ИЗВЕСТИЯ, января, года, В, соответствии, с, у...   \n",
       "\n",
       "                                                lemmas  \n",
       "246  [хммвммвмвшмммманммшамнмярапазотскачество, все...  \n",
       "317  [известие, сентябрь, год, ошибиться, выбор, ну...  \n",
       "406  [известие, август, год, выбор, провинциистран,...  \n",
       "88   [известие, март, год, же, ы, ак, много, читате...  \n",
       "619  [мировой, лидер, новый, сельскохозя, ственный,...  \n",
       "..                                                 ...  \n",
       "499  [воздушный, шар, огонь, случиться, любой, моме...  \n",
       "34   [й, годовщина, с, день, рождение, ленинапоездк...  \n",
       "385  [июнь, год, четвергфинанс, обществофинансовый,...  \n",
       "70   [известие, октябрь, год, тличноенит, динамо, с...  \n",
       "653  [известие, январь, год, соответствие, утвердит...  \n",
       "\n",
       "[526 rows x 9 columns]"
      ]
     },
     "execution_count": 117,
     "metadata": {},
     "output_type": "execute_result"
    }
   ],
   "source": [
    "train_data_df"
   ]
  },
  {
   "cell_type": "code",
   "execution_count": 120,
   "metadata": {},
   "outputs": [],
   "source": [
    "def listToString(s):  \n",
    "    str1 = \" \" \n",
    "    return (str1.join(s)) "
   ]
  },
  {
   "cell_type": "code",
   "execution_count": 121,
   "metadata": {},
   "outputs": [],
   "source": [
    "df['lemmas_string'] = df['lemmas'].apply(lambda x: listToString(x))"
   ]
  },
  {
   "cell_type": "code",
   "execution_count": 123,
   "metadata": {},
   "outputs": [
    {
     "data": {
      "text/html": [
       "<div>\n",
       "<style scoped>\n",
       "    .dataframe tbody tr th:only-of-type {\n",
       "        vertical-align: middle;\n",
       "    }\n",
       "\n",
       "    .dataframe tbody tr th {\n",
       "        vertical-align: top;\n",
       "    }\n",
       "\n",
       "    .dataframe thead th {\n",
       "        text-align: right;\n",
       "    }\n",
       "</style>\n",
       "<table border=\"1\" class=\"dataframe\">\n",
       "  <thead>\n",
       "    <tr style=\"text-align: right;\">\n",
       "      <th></th>\n",
       "      <th>text</th>\n",
       "      <th>year</th>\n",
       "      <th>filename</th>\n",
       "      <th>type</th>\n",
       "      <th>category</th>\n",
       "      <th>clean_text</th>\n",
       "      <th>clean_text2</th>\n",
       "      <th>tokenized</th>\n",
       "      <th>lemmas</th>\n",
       "      <th>lemmas_string</th>\n",
       "    </tr>\n",
       "  </thead>\n",
       "  <tbody>\n",
       "    <tr>\n",
       "      <td>0</td>\n",
       "      <td>ИЗВЕСТИЯ\\n\\nПСЭ СТРАНАМ И НОНТИНЕНТАМ\\n\\n\\t• б...</td>\n",
       "      <td>1984</td>\n",
       "      <td>1984 Issue 278 Page 4.txt</td>\n",
       "      <td>Communist</td>\n",
       "      <td>True</td>\n",
       "      <td>ИЗВЕСТИЯ\\n\\nПСЭ СТРАНАМ И НОНТИНЕНТАМ\\n\\n\\t б ...</td>\n",
       "      <td>ИЗВЕСТИЯПСЭ СТРАНАМ И НОНТИНЕНТАМ б октября  г...</td>\n",
       "      <td>[ИЗВЕСТИЯПСЭ, СТРАНАМ, И, НОНТИНЕНТАМ, б, октя...</td>\n",
       "      <td>[известияпсэ, страна, нонтинент, бы, октябрь, ...</td>\n",
       "      <td>известияпсэ страна нонтинент бы октябрь год фв...</td>\n",
       "    </tr>\n",
       "    <tr>\n",
       "      <td>1</td>\n",
       "      <td>• 1 ноября 1984 года О 2\\n\\nний период. Смонти...</td>\n",
       "      <td>1984</td>\n",
       "      <td>1984 Issue 306 Page 2.txt</td>\n",
       "      <td>Communist</td>\n",
       "      <td>True</td>\n",
       "      <td>ноября  года О \\n\\nний период Смонтированы у...</td>\n",
       "      <td>ноября  года О ний период Смонтированы устан...</td>\n",
       "      <td>[ноября, года, О, ний, период, Смонтированы, у...</td>\n",
       "      <td>[ноябрь, год, ний, период, бонтировать, устано...</td>\n",
       "      <td>ноябрь год ний период бонтировать установка по...</td>\n",
       "    </tr>\n",
       "    <tr>\n",
       "      <td>2</td>\n",
       "      <td>•\\t1 ноября 1984 года О «3\\n\\n\\n\\nК 40-летмю в...</td>\n",
       "      <td>1984</td>\n",
       "      <td>1984 Issue 306 Page 3.txt</td>\n",
       "      <td>Communist</td>\n",
       "      <td>True</td>\n",
       "      <td>\\t ноября  года О \\n\\n\\n\\nК летмю восстаиомеш ...</td>\n",
       "      <td>ноября  года О К летмю восстаиомеш Государстм...</td>\n",
       "      <td>[ноября, года, О, К, летмю, восстаиомеш, Госуд...</td>\n",
       "      <td>[ноябрь, год, летметь, восстаиомеш, государстм...</td>\n",
       "      <td>ноябрь год летметь восстаиомеш государстмииый ...</td>\n",
       "    </tr>\n",
       "    <tr>\n",
       "      <td>3</td>\n",
       "      <td>ИЗВЕСТИЯ\\n\\nПО СТРАНАМ И КСНТИНЕНТАМ\\n\\n\\t•\\t5...</td>\n",
       "      <td>1984</td>\n",
       "      <td>1984 Issue 278 Page 5.txt</td>\n",
       "      <td>Communist</td>\n",
       "      <td>True</td>\n",
       "      <td>ИЗВЕСТИЯ\\n\\nПО СТРАНАМ И КСНТИНЕНТАМ\\n\\n\\t\\t о...</td>\n",
       "      <td>ИЗВЕСТИЯПО СТРАНАМ И КСНТИНЕНТАМ октября  года...</td>\n",
       "      <td>[ИЗВЕСТИЯПО, СТРАНАМ, И, КСНТИНЕНТАМ, октября,...</td>\n",
       "      <td>[известияпо, страна, кснтинент, октябрь, год, ...</td>\n",
       "      <td>известияпо страна кснтинент октябрь год адг фо...</td>\n",
       "    </tr>\n",
       "    <tr>\n",
       "      <td>4</td>\n",
       "      <td>•\\t29 ноября 1984 года •\\t6\\n\\nновости\\n\\nоон\\...</td>\n",
       "      <td>1984</td>\n",
       "      <td>1984 Issue 334 Page 6.txt</td>\n",
       "      <td>Communist</td>\n",
       "      <td>True</td>\n",
       "      <td>\\t ноября  года \\t\\n\\nновости\\n\\nоон\\n\\n по СТ...</td>\n",
       "      <td>ноября  года новостиоон по СТРАНАМ И КОНТИНЕН...</td>\n",
       "      <td>[ноября, года, новостиоон, по, СТРАНАМ, И, КОН...</td>\n",
       "      <td>[ноябрь, год, новостиоон, страна, континентама...</td>\n",
       "      <td>ноябрь год новостиоон страна континентамафгани...</td>\n",
       "    </tr>\n",
       "    <tr>\n",
       "      <td>...</td>\n",
       "      <td>...</td>\n",
       "      <td>...</td>\n",
       "      <td>...</td>\n",
       "      <td>...</td>\n",
       "      <td>...</td>\n",
       "      <td>...</td>\n",
       "      <td>...</td>\n",
       "      <td>...</td>\n",
       "      <td>...</td>\n",
       "      <td>...</td>\n",
       "    </tr>\n",
       "    <tr>\n",
       "      <td>652</td>\n",
       "      <td>﻿№56 •\\nИЗВЕСТИЯ\\n26 марта 1°|&gt;7 ’&lt;&gt;'&lt;\\t•\\nНаш...</td>\n",
       "      <td>1997</td>\n",
       "      <td>1997 Issue 56 March 26 Page 6.txt</td>\n",
       "      <td>Democratic</td>\n",
       "      <td>False</td>\n",
       "      <td>\\nИЗВЕСТИЯ\\n марта  \\t\\nНаш рейтинг\\n  \\n Дач...</td>\n",
       "      <td>ИЗВЕСТИЯ марта  Наш рейтинг   ДачаЭкологическ...</td>\n",
       "      <td>[ИЗВЕСТИЯ, марта, Наш, рейтинг, ДачаЭкологичес...</td>\n",
       "      <td>[известие, март, рейтинг, дачаэкологически, бе...</td>\n",
       "      <td>известие март рейтинг дачаэкологически безупре...</td>\n",
       "    </tr>\n",
       "    <tr>\n",
       "      <td>653</td>\n",
       "      <td>﻿№ 18 3\\nИЗВЕСТИЯ\\n30 января 1997 года •\\nВ со...</td>\n",
       "      <td>1997</td>\n",
       "      <td>1997 Issue 18 January 30 Page 6.txt</td>\n",
       "      <td>Democratic</td>\n",
       "      <td>False</td>\n",
       "      <td>\\nИЗВЕСТИЯ\\n января  года \\nВ соответствии с...</td>\n",
       "      <td>ИЗВЕСТИЯ января  года В соответствии с утвер...</td>\n",
       "      <td>[ИЗВЕСТИЯ, января, года, В, соответствии, с, у...</td>\n",
       "      <td>[известие, январь, год, соответствие, утвердит...</td>\n",
       "      <td>известие январь год соответствие утвердить пол...</td>\n",
       "    </tr>\n",
       "    <tr>\n",
       "      <td>654</td>\n",
       "      <td>﻿№ 56 •\\nИЗВЕСТИЯ\\n26 марта 1997 года •\\n' Таб...</td>\n",
       "      <td>1997</td>\n",
       "      <td>1997 Issue 56 March 26 Page 7.txt</td>\n",
       "      <td>Democratic</td>\n",
       "      <td>False</td>\n",
       "      <td>\\nИЗВЕСТИЯ\\n марта  года \\n Таблетки\\nБромел...</td>\n",
       "      <td>ИЗВЕСТИЯ марта  года  ТаблеткиБромелайнПЦИЫЖ...</td>\n",
       "      <td>[ИЗВЕСТИЯ, марта, года, ТаблеткиБромелайнПЦИЫЖ...</td>\n",
       "      <td>[известие, март, год, таблеткибромелайнпциыжнр...</td>\n",
       "      <td>известие март год таблеткибромелайнпциыжнр сгн...</td>\n",
       "    </tr>\n",
       "    <tr>\n",
       "      <td>655</td>\n",
       "      <td>﻿№ 227 •\\nИЗВЕСТИЯ\\n29 ноября 1997 года •\\n3\\n...</td>\n",
       "      <td>1997</td>\n",
       "      <td>1997 Issue 227 November 29 Page 3.txt</td>\n",
       "      <td>Democratic</td>\n",
       "      <td>False</td>\n",
       "      <td>\\nИЗВЕСТИЯ\\n ноября  года \\n\\n Так считает п...</td>\n",
       "      <td>ИЗВЕСТИЯ ноября  года  Так считает председат...</td>\n",
       "      <td>[ИЗВЕСТИЯ, ноября, года, Так, считает, председ...</td>\n",
       "      <td>[известие, ноябрь, год, считать, председатель,...</td>\n",
       "      <td>известие ноябрь год считать председатель украи...</td>\n",
       "    </tr>\n",
       "    <tr>\n",
       "      <td>656</td>\n",
       "      <td>﻿№ 246 •\\nИЗВЕСТИЯ\\n30 декабря 1997 года •\\nВз...</td>\n",
       "      <td>1997</td>\n",
       "      <td>1997 Issue 246 December 30 Page 4.txt</td>\n",
       "      <td>Democratic</td>\n",
       "      <td>False</td>\n",
       "      <td>\\nИЗВЕСТИЯ\\n декабря  года \\nВзятки на дорог...</td>\n",
       "      <td>ИЗВЕСТИЯ декабря  года Взятки на дорогахИз в...</td>\n",
       "      <td>[ИЗВЕСТИЯ, декабря, года, Взятки, на, дорогахИ...</td>\n",
       "      <td>[известие, декабрь, год, взятка, дорогахиз, во...</td>\n",
       "      <td>известие декабрь год взятка дорогахиз волгогра...</td>\n",
       "    </tr>\n",
       "  </tbody>\n",
       "</table>\n",
       "<p>657 rows × 10 columns</p>\n",
       "</div>"
      ],
      "text/plain": [
       "                                                  text  year  \\\n",
       "0    ИЗВЕСТИЯ\\n\\nПСЭ СТРАНАМ И НОНТИНЕНТАМ\\n\\n\\t• б...  1984   \n",
       "1    • 1 ноября 1984 года О 2\\n\\nний период. Смонти...  1984   \n",
       "2    •\\t1 ноября 1984 года О «3\\n\\n\\n\\nК 40-летмю в...  1984   \n",
       "3    ИЗВЕСТИЯ\\n\\nПО СТРАНАМ И КСНТИНЕНТАМ\\n\\n\\t•\\t5...  1984   \n",
       "4    •\\t29 ноября 1984 года •\\t6\\n\\nновости\\n\\nоон\\...  1984   \n",
       "..                                                 ...   ...   \n",
       "652  ﻿№56 •\\nИЗВЕСТИЯ\\n26 марта 1°|>7 ’<>'<\\t•\\nНаш...  1997   \n",
       "653  ﻿№ 18 3\\nИЗВЕСТИЯ\\n30 января 1997 года •\\nВ со...  1997   \n",
       "654  ﻿№ 56 •\\nИЗВЕСТИЯ\\n26 марта 1997 года •\\n' Таб...  1997   \n",
       "655  ﻿№ 227 •\\nИЗВЕСТИЯ\\n29 ноября 1997 года •\\n3\\n...  1997   \n",
       "656  ﻿№ 246 •\\nИЗВЕСТИЯ\\n30 декабря 1997 года •\\nВз...  1997   \n",
       "\n",
       "                                  filename        type  category  \\\n",
       "0                1984 Issue 278 Page 4.txt   Communist      True   \n",
       "1                1984 Issue 306 Page 2.txt   Communist      True   \n",
       "2                1984 Issue 306 Page 3.txt   Communist      True   \n",
       "3                1984 Issue 278 Page 5.txt   Communist      True   \n",
       "4                1984 Issue 334 Page 6.txt   Communist      True   \n",
       "..                                     ...         ...       ...   \n",
       "652      1997 Issue 56 March 26 Page 6.txt  Democratic     False   \n",
       "653    1997 Issue 18 January 30 Page 6.txt  Democratic     False   \n",
       "654      1997 Issue 56 March 26 Page 7.txt  Democratic     False   \n",
       "655  1997 Issue 227 November 29 Page 3.txt  Democratic     False   \n",
       "656  1997 Issue 246 December 30 Page 4.txt  Democratic     False   \n",
       "\n",
       "                                            clean_text  \\\n",
       "0    ИЗВЕСТИЯ\\n\\nПСЭ СТРАНАМ И НОНТИНЕНТАМ\\n\\n\\t б ...   \n",
       "1      ноября  года О \\n\\nний период Смонтированы у...   \n",
       "2    \\t ноября  года О \\n\\n\\n\\nК летмю восстаиомеш ...   \n",
       "3    ИЗВЕСТИЯ\\n\\nПО СТРАНАМ И КСНТИНЕНТАМ\\n\\n\\t\\t о...   \n",
       "4    \\t ноября  года \\t\\n\\nновости\\n\\nоон\\n\\n по СТ...   \n",
       "..                                                 ...   \n",
       "652   \\nИЗВЕСТИЯ\\n марта  \\t\\nНаш рейтинг\\n  \\n Дач...   \n",
       "653    \\nИЗВЕСТИЯ\\n января  года \\nВ соответствии с...   \n",
       "654    \\nИЗВЕСТИЯ\\n марта  года \\n Таблетки\\nБромел...   \n",
       "655    \\nИЗВЕСТИЯ\\n ноября  года \\n\\n Так считает п...   \n",
       "656    \\nИЗВЕСТИЯ\\n декабря  года \\nВзятки на дорог...   \n",
       "\n",
       "                                           clean_text2  \\\n",
       "0    ИЗВЕСТИЯПСЭ СТРАНАМ И НОНТИНЕНТАМ б октября  г...   \n",
       "1      ноября  года О ний период Смонтированы устан...   \n",
       "2     ноября  года О К летмю восстаиомеш Государстм...   \n",
       "3    ИЗВЕСТИЯПО СТРАНАМ И КСНТИНЕНТАМ октября  года...   \n",
       "4     ноября  года новостиоон по СТРАНАМ И КОНТИНЕН...   \n",
       "..                                                 ...   \n",
       "652   ИЗВЕСТИЯ марта  Наш рейтинг   ДачаЭкологическ...   \n",
       "653    ИЗВЕСТИЯ января  года В соответствии с утвер...   \n",
       "654    ИЗВЕСТИЯ марта  года  ТаблеткиБромелайнПЦИЫЖ...   \n",
       "655    ИЗВЕСТИЯ ноября  года  Так считает председат...   \n",
       "656    ИЗВЕСТИЯ декабря  года Взятки на дорогахИз в...   \n",
       "\n",
       "                                             tokenized  \\\n",
       "0    [ИЗВЕСТИЯПСЭ, СТРАНАМ, И, НОНТИНЕНТАМ, б, октя...   \n",
       "1    [ноября, года, О, ний, период, Смонтированы, у...   \n",
       "2    [ноября, года, О, К, летмю, восстаиомеш, Госуд...   \n",
       "3    [ИЗВЕСТИЯПО, СТРАНАМ, И, КСНТИНЕНТАМ, октября,...   \n",
       "4    [ноября, года, новостиоон, по, СТРАНАМ, И, КОН...   \n",
       "..                                                 ...   \n",
       "652  [ИЗВЕСТИЯ, марта, Наш, рейтинг, ДачаЭкологичес...   \n",
       "653  [ИЗВЕСТИЯ, января, года, В, соответствии, с, у...   \n",
       "654  [ИЗВЕСТИЯ, марта, года, ТаблеткиБромелайнПЦИЫЖ...   \n",
       "655  [ИЗВЕСТИЯ, ноября, года, Так, считает, председ...   \n",
       "656  [ИЗВЕСТИЯ, декабря, года, Взятки, на, дорогахИ...   \n",
       "\n",
       "                                                lemmas  \\\n",
       "0    [известияпсэ, страна, нонтинент, бы, октябрь, ...   \n",
       "1    [ноябрь, год, ний, период, бонтировать, устано...   \n",
       "2    [ноябрь, год, летметь, восстаиомеш, государстм...   \n",
       "3    [известияпо, страна, кснтинент, октябрь, год, ...   \n",
       "4    [ноябрь, год, новостиоон, страна, континентама...   \n",
       "..                                                 ...   \n",
       "652  [известие, март, рейтинг, дачаэкологически, бе...   \n",
       "653  [известие, январь, год, соответствие, утвердит...   \n",
       "654  [известие, март, год, таблеткибромелайнпциыжнр...   \n",
       "655  [известие, ноябрь, год, считать, председатель,...   \n",
       "656  [известие, декабрь, год, взятка, дорогахиз, во...   \n",
       "\n",
       "                                         lemmas_string  \n",
       "0    известияпсэ страна нонтинент бы октябрь год фв...  \n",
       "1    ноябрь год ний период бонтировать установка по...  \n",
       "2    ноябрь год летметь восстаиомеш государстмииый ...  \n",
       "3    известияпо страна кснтинент октябрь год адг фо...  \n",
       "4    ноябрь год новостиоон страна континентамафгани...  \n",
       "..                                                 ...  \n",
       "652  известие март рейтинг дачаэкологически безупре...  \n",
       "653  известие январь год соответствие утвердить пол...  \n",
       "654  известие март год таблеткибромелайнпциыжнр сгн...  \n",
       "655  известие ноябрь год считать председатель украи...  \n",
       "656  известие декабрь год взятка дорогахиз волгогра...  \n",
       "\n",
       "[657 rows x 10 columns]"
      ]
     },
     "execution_count": 123,
     "metadata": {},
     "output_type": "execute_result"
    }
   ],
   "source": [
    "df"
   ]
  },
  {
   "cell_type": "code",
   "execution_count": 124,
   "metadata": {},
   "outputs": [],
   "source": [
    "izvestiia_df = df"
   ]
  },
  {
   "cell_type": "code",
   "execution_count": 235,
   "metadata": {},
   "outputs": [],
   "source": [
    "holdBackFraction = .2\n",
    "train_data_df, test_data_df = lucem_illud_2020.trainTestSplit(izvestiiadf, holdBackFraction=holdBackFraction)"
   ]
  },
  {
   "cell_type": "code",
   "execution_count": 236,
   "metadata": {},
   "outputs": [
    {
     "name": "stdout",
     "output_type": "stream",
     "text": [
      "526\n",
      "131\n"
     ]
    }
   ],
   "source": [
    "print(len(train_data_df))\n",
    "print(len(test_data_df))"
   ]
  },
  {
   "cell_type": "code",
   "execution_count": 237,
   "metadata": {},
   "outputs": [],
   "source": [
    "TFVectorizer = sklearn.feature_extraction.text.TfidfVectorizer(max_df=100, min_df=2, norm='l2')\n",
    "TFVects = TFVectorizer.fit_transform(train_data_df['lemmas_string'])"
   ]
  },
  {
   "cell_type": "code",
   "execution_count": 238,
   "metadata": {},
   "outputs": [
    {
     "data": {
      "text/plain": [
       "(526, 34833)"
      ]
     },
     "execution_count": 238,
     "metadata": {},
     "output_type": "execute_result"
    }
   ],
   "source": [
    "TFVects.shape"
   ]
  },
  {
   "cell_type": "code",
   "execution_count": 239,
   "metadata": {},
   "outputs": [],
   "source": [
    "train_data_df['vect'] = [np.array(v).flatten() for v in TFVects.todense()]"
   ]
  },
  {
   "cell_type": "code",
   "execution_count": 240,
   "metadata": {},
   "outputs": [],
   "source": [
    "pca = sklearn.decomposition.PCA()\n",
    "reduced_data = pca.fit_transform(np.stack(train_data_df['vect'], axis=0))"
   ]
  },
  {
   "cell_type": "code",
   "execution_count": 241,
   "metadata": {},
   "outputs": [],
   "source": [
    "train_data_df['pca'] = [r for r in reduced_data]"
   ]
  },
  {
   "cell_type": "code",
   "execution_count": 242,
   "metadata": {},
   "outputs": [
    {
     "name": "stderr",
     "output_type": "stream",
     "text": [
      "'c' argument looks like a single numeric RGB or RGBA sequence, which should be avoided as value-mapping will have precedence in case its length matches with 'x' & 'y'.  Please use a 2-D array with a single row if you really want to specify the same RGB or RGBA value for all points.\n",
      "'c' argument looks like a single numeric RGB or RGBA sequence, which should be avoided as value-mapping will have precedence in case its length matches with 'x' & 'y'.  Please use a 2-D array with a single row if you really want to specify the same RGB or RGBA value for all points.\n"
     ]
    },
    {
     "data": {
      "image/png": "[encoded data removed]",
      "text/plain": [
       "<Figure size 720x720 with 1 Axes>"
      ]
     },
     "metadata": {
      "needs_background": "light"
     },
     "output_type": "display_data"
    }
   ],
   "source": [
    "fig, ax = plt.subplots(figsize = (10,10))\n",
    "ax.axis('off')\n",
    "pallet = seaborn.color_palette(palette='coolwarm', n_colors = 2)\n",
    "\n",
    "a = np.stack(train_data_df[train_data_df['category']]['pca'])\n",
    "ax.scatter(a[:,0], a[:, 1], c = pallet[0], label = \"True\")\n",
    "\n",
    "a = np.stack(train_data_df[train_data_df['category'].eq(False)]['pca'])\n",
    "ax.scatter(a[:,0], a[:, 1], c = pallet[1], label = \"False\")\n",
    "    \n",
    "ax.legend(loc = 'upper right', title = 'Is Communism')\n",
    "plt.title('True Classes, Training Set')\n",
    "plt.show()"
   ]
  },
  {
   "cell_type": "code",
   "execution_count": 243,
   "metadata": {},
   "outputs": [
    {
     "data": {
      "image/png": "[encoded data removed]",
      "text/plain": [
       "<Figure size 1152x360 with 3 Axes>"
      ]
     },
     "metadata": {
      "needs_background": "light"
     },
     "output_type": "display_data"
    }
   ],
   "source": [
    "n = len(train_data_df)\n",
    "\n",
    "fig, (ax1, ax2, ax3) = plt.subplots(ncols=3, figsize = (16, 5), sharey=True)\n",
    "\n",
    "eigen_vals = np.arange(n) + 1\n",
    "ax1.plot(eigen_vals, pca.explained_variance_ratio_, 'ro-', linewidth=1)\n",
    "ax1.set_title('Scree Plot (Full)')\n",
    "ax1.set_xlabel('Principal Component')\n",
    "ax1.set_ylabel('Proportion of Explained Variance')\n",
    "\n",
    "eigen_vals = np.arange(50) + 1\n",
    "ax2.plot(eigen_vals, pca.explained_variance_ratio_[:50], 'ro-', linewidth=1)\n",
    "ax2.set_title('Scree Plot (First 50 Principal Components)')\n",
    "ax2.set_xlabel('Principal Component')\n",
    "ax2.set_ylabel('Proportion of Explained Variance')\n",
    "\n",
    "\n",
    "eigen_vals = np.arange(20) + 1\n",
    "ax3.plot(eigen_vals, pca.explained_variance_ratio_[:20], 'ro-', linewidth=2)\n",
    "ax3.set_title('Scree Plot (First 50 Principal Components)')\n",
    "ax3.set_xlabel('Principal Component')\n",
    "ax3.set_ylabel('Proportion of Explained Variance')\n",
    "\n",
    "plt.show()"
   ]
  },
  {
   "cell_type": "code",
   "execution_count": 244,
   "metadata": {},
   "outputs": [],
   "source": [
    "train_data_df['pca_reduced_10'] = train_data_df['pca'].apply(lambda x: x[:10])"
   ]
  },
  {
   "cell_type": "code",
   "execution_count": 245,
   "metadata": {},
   "outputs": [
    {
     "data": {
      "text/plain": [
       "LogisticRegression(C=1.0, class_weight=None, dual=False, fit_intercept=True,\n",
       "                   intercept_scaling=1, l1_ratio=None, max_iter=100,\n",
       "                   multi_class='warn', n_jobs=None, penalty='l2',\n",
       "                   random_state=None, solver='warn', tol=0.0001, verbose=0,\n",
       "                   warm_start=False)"
      ]
     },
     "execution_count": 245,
     "metadata": {},
     "output_type": "execute_result"
    }
   ],
   "source": [
    "logistic = sklearn.linear_model.LogisticRegression()\n",
    "logistic.fit(np.stack(train_data_df['pca_reduced_10'], axis=0), train_data_df['category'])"
   ]
  },
  {
   "cell_type": "code",
   "execution_count": 246,
   "metadata": {},
   "outputs": [
    {
     "data": {
      "text/plain": [
       "0.9714828897338403"
      ]
     },
     "execution_count": 246,
     "metadata": {},
     "output_type": "execute_result"
    }
   ],
   "source": [
    "logistic.score(np.stack(train_data_df['pca_reduced_10'], axis=0), train_data_df['category'])"
   ]
  },
  {
   "cell_type": "code",
   "execution_count": 247,
   "metadata": {},
   "outputs": [
    {
     "data": {
      "text/plain": [
       "0.6946564885496184"
      ]
     },
     "execution_count": 247,
     "metadata": {},
     "output_type": "execute_result"
    }
   ],
   "source": [
    "TFVects_test = TFVectorizer.transform(test_data_df['text'])\n",
    "test_data_df['vect'] = [np.array(v).flatten() for v in TFVects_test.todense()]\n",
    "\n",
    "#PCA\n",
    "reduced_data_test = pca.transform(np.stack(test_data_df['vect'], axis=0))\n",
    "test_data_df['pca'] = [r for r in reduced_data_test]\n",
    "test_data_df['pca_reduced_10'] = test_data_df['pca'].apply(lambda x: x[:10])\n",
    "\n",
    "#Test\n",
    "logistic.score(np.stack(test_data_df['pca_reduced_10'], axis=0), test_data_df['category'])"
   ]
  },
  {
   "cell_type": "code",
   "execution_count": 248,
   "metadata": {},
   "outputs": [
    {
     "name": "stdout",
     "output_type": "stream",
     "text": [
      "Training:\n",
      "0.9771863117870723\n",
      "Testing:\n",
      "0.7022900763358778\n"
     ]
    }
   ],
   "source": [
    "train_data_df['pca_reduced_40'] = train_data_df['pca'].apply(lambda x: x[:40])\n",
    "test_data_df['pca_reduced_40'] = test_data_df['pca'].apply(lambda x: x[:40])\n",
    "\n",
    "logistic.fit(np.stack(train_data_df['pca_reduced_40'], axis=0), train_data_df['category'])\n",
    "\n",
    "print(\"Training:\")\n",
    "print(logistic.score(np.stack(train_data_df['pca_reduced_40'], axis=0), train_data_df['category']))\n",
    "print(\"Testing:\")\n",
    "print(logistic.score(np.stack(test_data_df['pca_reduced_40'], axis=0), test_data_df['category']))"
   ]
  },
  {
   "cell_type": "code",
   "execution_count": 249,
   "metadata": {},
   "outputs": [
    {
     "name": "stdout",
     "output_type": "stream",
     "text": [
      "Training:\n",
      "0.9828897338403042\n",
      "Testing:\n",
      "0.7022900763358778\n"
     ]
    }
   ],
   "source": [
    "train_data_df['pca_reduced_100'] = train_data_df['pca'].apply(lambda x: x[:100])\n",
    "test_data_df['pca_reduced_100'] = test_data_df['pca'].apply(lambda x: x[:100])\n",
    "\n",
    "logistic.fit(np.stack(train_data_df['pca_reduced_100'], axis=0), train_data_df['category'])\n",
    "\n",
    "print(\"Training:\")\n",
    "print(logistic.score(np.stack(train_data_df['pca_reduced_100'], axis=0), train_data_df['category']))\n",
    "print(\"Testing:\")\n",
    "print(logistic.score(np.stack(test_data_df['pca_reduced_100'], axis=0), test_data_df['category']))"
   ]
  },
  {
   "cell_type": "code",
   "execution_count": 250,
   "metadata": {},
   "outputs": [
    {
     "name": "stdout",
     "output_type": "stream",
     "text": [
      "Training:\n",
      "0.9904942965779467\n",
      "Testing:\n",
      "0.7022900763358778\n"
     ]
    }
   ],
   "source": [
    "train_data_df['pca_reduced_200'] = train_data_df['pca'].apply(lambda x: x[:200])\n",
    "test_data_df['pca_reduced_200'] = test_data_df['pca'].apply(lambda x: x[:200])\n",
    "\n",
    "logistic.fit(np.stack(train_data_df['pca_reduced_200'], axis=0), train_data_df['category'])\n",
    "\n",
    "print(\"Training:\")\n",
    "print(logistic.score(np.stack(train_data_df['pca_reduced_200'], axis=0), train_data_df['category']))\n",
    "print(\"Testing:\")\n",
    "print(logistic.score(np.stack(test_data_df['pca_reduced_200'], axis=0), test_data_df['category']))"
   ]
  },
  {
   "cell_type": "code",
   "execution_count": 251,
   "metadata": {},
   "outputs": [
    {
     "name": "stdout",
     "output_type": "stream",
     "text": [
      "Training:\n",
      "1.0\n",
      "Testing:\n",
      "0.7022900763358778\n"
     ]
    }
   ],
   "source": [
    "train_data_df['pca_reduced_400'] = train_data_df['pca'].apply(lambda x: x[:400])\n",
    "test_data_df['pca_reduced_400'] = test_data_df['pca'].apply(lambda x: x[:400])\n",
    "\n",
    "logistic.fit(np.stack(train_data_df['pca_reduced_400'], axis=0), train_data_df['category'])\n",
    "\n",
    "print(\"Training:\")\n",
    "print(logistic.score(np.stack(train_data_df['pca_reduced_400'], axis=0), train_data_df['category']))\n",
    "print(\"Testing:\")\n",
    "print(logistic.score(np.stack(test_data_df['pca_reduced_400'], axis=0), test_data_df['category']))"
   ]
  },
  {
   "cell_type": "code",
   "execution_count": 252,
   "metadata": {},
   "outputs": [
    {
     "name": "stdout",
     "output_type": "stream",
     "text": [
      "1.0\n"
     ]
    }
   ],
   "source": [
    "logistic_l1= sklearn.linear_model.LogisticRegression(penalty='l2')\n",
    "logistic_l1.fit(np.stack(train_data_df['vect'], axis=0), train_data_df['category'])\n",
    "print(logistic_l1.score(np.stack(train_data_df['vect'], axis=0), train_data_df['category']))"
   ]
  },
  {
   "cell_type": "code",
   "execution_count": 253,
   "metadata": {},
   "outputs": [
    {
     "name": "stdout",
     "output_type": "stream",
     "text": [
      "0.7022900763358778\n"
     ]
    }
   ],
   "source": [
    "print(logistic_l1.score(np.stack(test_data_df['vect'], axis=0), test_data_df['category']))"
   ]
  },
  {
   "cell_type": "code",
   "execution_count": 254,
   "metadata": {},
   "outputs": [
    {
     "data": {
      "text/plain": [
       "BernoulliNB(alpha=1.0, binarize=0.0, class_prior=None, fit_prior=True)"
      ]
     },
     "execution_count": 254,
     "metadata": {},
     "output_type": "execute_result"
    }
   ],
   "source": [
    "naiveBayes = sklearn.naive_bayes.BernoulliNB()\n",
    "naiveBayes.fit(np.stack(train_data_df['vect'], axis=0), train_data_df['category'])"
   ]
  },
  {
   "cell_type": "code",
   "execution_count": 255,
   "metadata": {},
   "outputs": [
    {
     "name": "stdout",
     "output_type": "stream",
     "text": [
      "Training:\n",
      "1.0\n",
      "Testing:\n",
      "0.9007633587786259\n"
     ]
    }
   ],
   "source": [
    "print(\"Training:\")\n",
    "print(naiveBayes.score(np.stack(train_data_df['vect'], axis=0), train_data_df['category']))\n",
    "print(\"Testing:\")\n",
    "print(naiveBayes.score(np.stack(test_data_df['vect'], axis=0), test_data_df['category']))"
   ]
  },
  {
   "cell_type": "code",
   "execution_count": 256,
   "metadata": {},
   "outputs": [],
   "source": [
    "test_data_df['nb_predict'] = naiveBayes.predict(np.stack(test_data_df['vect'], axis=0))\n",
    "test_data_df['nb_predict_prob_true'] = naiveBayes.predict_proba(np.stack(test_data_df['vect'], axis=0))[:,0] #other is prop false"
   ]
  },
  {
   "cell_type": "code",
   "execution_count": 257,
   "metadata": {},
   "outputs": [
    {
     "data": {
      "text/plain": [
       "1.0"
      ]
     },
     "execution_count": 257,
     "metadata": {},
     "output_type": "execute_result"
    }
   ],
   "source": [
    "sklearn.metrics.precision_score(test_data_df['category'], test_data_df['nb_predict'])"
   ]
  },
  {
   "cell_type": "code",
   "execution_count": 258,
   "metadata": {},
   "outputs": [
    {
     "data": {
      "text/plain": [
       "0.675"
      ]
     },
     "execution_count": 258,
     "metadata": {},
     "output_type": "execute_result"
    }
   ],
   "source": [
    "sklearn.metrics.recall_score(test_data_df['category'], test_data_df['nb_predict'])"
   ]
  },
  {
   "cell_type": "code",
   "execution_count": 259,
   "metadata": {},
   "outputs": [
    {
     "data": {
      "text/plain": [
       "0.8059701492537313"
      ]
     },
     "execution_count": 259,
     "metadata": {},
     "output_type": "execute_result"
    }
   ],
   "source": [
    "sklearn.metrics.f1_score(test_data_df['category'], test_data_df['nb_predict'])"
   ]
  },
  {
   "cell_type": "code",
   "execution_count": 260,
   "metadata": {},
   "outputs": [
    {
     "data": {
      "image/png": "[encoded data removed]",
      "text/plain": [
       "<Figure size 432x288 with 1 Axes>"
      ]
     },
     "metadata": {
      "needs_background": "light"
     },
     "output_type": "display_data"
    }
   ],
   "source": [
    "fig, ax = plt.subplots()\n",
    "ax.grid(False)\n",
    "ax.set_frame_on(False)\n",
    "test_data_df[test_data_df['category'].eq(True)]['nb_predict_prob_true'].hist(alpha = 0.5, ax = ax, bins = 10, label = 'True', color = 'red')\n",
    "test_data_df[test_data_df['category'].eq(False)]['nb_predict_prob_true'].hist(alpha = 0.5, ax = ax, bins = 10, label = 'False', color = 'blue')\n",
    "ax.set_xlim((0,1.1))\n",
    "ax.legend(title = \"Is Communism\")\n",
    "ax.set_xlabel('posterior')\n",
    "ax.set_ylabel('counts')\n",
    "plt.show()"
   ]
  },
  {
   "cell_type": "code",
   "execution_count": 261,
   "metadata": {},
   "outputs": [
    {
     "data": {
      "text/html": [
       "<div>\n",
       "<style scoped>\n",
       "    .dataframe tbody tr th:only-of-type {\n",
       "        vertical-align: middle;\n",
       "    }\n",
       "\n",
       "    .dataframe tbody tr th {\n",
       "        vertical-align: top;\n",
       "    }\n",
       "\n",
       "    .dataframe thead th {\n",
       "        text-align: right;\n",
       "    }\n",
       "</style>\n",
       "<table border=\"1\" class=\"dataframe\">\n",
       "  <thead>\n",
       "    <tr style=\"text-align: right;\">\n",
       "      <th></th>\n",
       "      <th>Communism</th>\n",
       "      <th>Communism_log_prob</th>\n",
       "      <th>Democratic</th>\n",
       "      <th>Democratic_log_prob</th>\n",
       "    </tr>\n",
       "  </thead>\n",
       "  <tbody>\n",
       "    <tr>\n",
       "      <td>0</td>\n",
       "      <td>инвестор</td>\n",
       "      <td>-1.251319</td>\n",
       "      <td>ния</td>\n",
       "      <td>-0.784119</td>\n",
       "    </tr>\n",
       "    <tr>\n",
       "      <td>1</td>\n",
       "      <td>бюджетный</td>\n",
       "      <td>-1.282091</td>\n",
       "      <td>ской</td>\n",
       "      <td>-0.808217</td>\n",
       "    </tr>\n",
       "    <tr>\n",
       "      <td>2</td>\n",
       "      <td>триллион</td>\n",
       "      <td>-1.282091</td>\n",
       "      <td>ся</td>\n",
       "      <td>-0.820487</td>\n",
       "    </tr>\n",
       "    <tr>\n",
       "      <td>3</td>\n",
       "      <td>компьютерный</td>\n",
       "      <td>-1.324650</td>\n",
       "      <td>гонка</td>\n",
       "      <td>-0.845488</td>\n",
       "    </tr>\n",
       "    <tr>\n",
       "      <td>4</td>\n",
       "      <td>телфакс</td>\n",
       "      <td>-1.335579</td>\n",
       "      <td>политбюро</td>\n",
       "      <td>-0.845488</td>\n",
       "    </tr>\n",
       "    <tr>\n",
       "      <td>5</td>\n",
       "      <td>пакет</td>\n",
       "      <td>-1.357802</td>\n",
       "      <td>ной</td>\n",
       "      <td>-0.858227</td>\n",
       "    </tr>\n",
       "    <tr>\n",
       "      <td>6</td>\n",
       "      <td>лицензия</td>\n",
       "      <td>-1.369102</td>\n",
       "      <td>ии</td>\n",
       "      <td>-0.910871</td>\n",
       "    </tr>\n",
       "    <tr>\n",
       "      <td>7</td>\n",
       "      <td>процентный</td>\n",
       "      <td>-1.380531</td>\n",
       "      <td>трудящийся</td>\n",
       "      <td>-0.924476</td>\n",
       "    </tr>\n",
       "    <tr>\n",
       "      <td>8</td>\n",
       "      <td>дума</td>\n",
       "      <td>-1.403788</td>\n",
       "      <td>ленин</td>\n",
       "      <td>-0.938270</td>\n",
       "    </tr>\n",
       "    <tr>\n",
       "      <td>9</td>\n",
       "      <td>оптовый</td>\n",
       "      <td>-1.403788</td>\n",
       "      <td>ма</td>\n",
       "      <td>-0.938270</td>\n",
       "    </tr>\n",
       "    <tr>\n",
       "      <td>10</td>\n",
       "      <td>ельцин</td>\n",
       "      <td>-1.415622</td>\n",
       "      <td>ны</td>\n",
       "      <td>-0.938270</td>\n",
       "    </tr>\n",
       "    <tr>\n",
       "      <td>11</td>\n",
       "      <td>указ</td>\n",
       "      <td>-1.427598</td>\n",
       "      <td>забота</td>\n",
       "      <td>-0.966441</td>\n",
       "    </tr>\n",
       "    <tr>\n",
       "      <td>12</td>\n",
       "      <td>акционерный</td>\n",
       "      <td>-1.439720</td>\n",
       "      <td>обсудить</td>\n",
       "      <td>-0.966441</td>\n",
       "    </tr>\n",
       "    <tr>\n",
       "      <td>13</td>\n",
       "      <td>анализ</td>\n",
       "      <td>-1.439720</td>\n",
       "      <td>ка</td>\n",
       "      <td>-0.980829</td>\n",
       "    </tr>\n",
       "    <tr>\n",
       "      <td>14</td>\n",
       "      <td>скидка</td>\n",
       "      <td>-1.439720</td>\n",
       "      <td>ле</td>\n",
       "      <td>-0.980829</td>\n",
       "    </tr>\n",
       "  </tbody>\n",
       "</table>\n",
       "</div>"
      ],
      "text/plain": [
       "       Communism  Communism_log_prob  Democratic  Democratic_log_prob\n",
       "0       инвестор           -1.251319         ния            -0.784119\n",
       "1      бюджетный           -1.282091        ской            -0.808217\n",
       "2       триллион           -1.282091          ся            -0.820487\n",
       "3   компьютерный           -1.324650       гонка            -0.845488\n",
       "4        телфакс           -1.335579   политбюро            -0.845488\n",
       "5          пакет           -1.357802         ной            -0.858227\n",
       "6       лицензия           -1.369102          ии            -0.910871\n",
       "7     процентный           -1.380531  трудящийся            -0.924476\n",
       "8           дума           -1.403788       ленин            -0.938270\n",
       "9        оптовый           -1.403788          ма            -0.938270\n",
       "10        ельцин           -1.415622          ны            -0.938270\n",
       "11          указ           -1.427598      забота            -0.966441\n",
       "12   акционерный           -1.439720    обсудить            -0.966441\n",
       "13        анализ           -1.439720          ка            -0.980829\n",
       "14        скидка           -1.439720          ле            -0.980829"
      ]
     },
     "execution_count": 261,
     "metadata": {},
     "output_type": "execute_result"
    }
   ],
   "source": [
    "#Top indices\n",
    "trueVals, falseVals = naiveBayes.feature_log_prob_\n",
    "\n",
    "words_dict = {\n",
    "    'Communism' : [],\n",
    "    'Communism_log_prob' : [],\n",
    "    'Democratic' : [],\n",
    "    'Democratic_log_prob' : [],\n",
    "}\n",
    "\n",
    "for i, prob in sorted(enumerate(trueVals), key = lambda x:x[1], reverse=True)[:15]:\n",
    "    words_dict['Communism'].append(TFVectorizer.get_feature_names()[i])\n",
    "    words_dict['Communism_log_prob'].append(prob)\n",
    "\n",
    "for i, prob in sorted(enumerate(falseVals), key = lambda x:x[1], reverse=True)[:15]:\n",
    "    words_dict['Democratic'].append(TFVectorizer.get_feature_names()[i])\n",
    "    words_dict['Democratic_log_prob'].append(prob)\n",
    "    \n",
    "pandas.DataFrame(words_dict)"
   ]
  },
  {
   "cell_type": "markdown",
   "metadata": {},
   "source": [
    "Multinomial Bayes"
   ]
  },
  {
   "cell_type": "code",
   "execution_count": 188,
   "metadata": {},
   "outputs": [],
   "source": [
    "TFVectorizer_ng = sklearn.feature_extraction.text.TfidfVectorizer(max_df=100, min_df=2, norm='l2')\n",
    "TFVects_ng = TFVectorizer_ng.fit_transform(train_data_df['lemmas_string'])\n",
    "train_data_df['vect'] = [np.array(v).flatten() for v in TFVects_ng.todense()]"
   ]
  },
  {
   "cell_type": "code",
   "execution_count": 189,
   "metadata": {},
   "outputs": [
    {
     "data": {
      "text/plain": [
       "MultinomialNB(alpha=1.0, class_prior=None, fit_prior=True)"
      ]
     },
     "execution_count": 189,
     "metadata": {},
     "output_type": "execute_result"
    }
   ],
   "source": [
    "MultinomialNB_ng = sklearn.naive_bayes.MultinomialNB()\n",
    "MultinomialNB_ng.fit(np.stack(train_data_df['vect'], axis = 0), train_data_df['category'])"
   ]
  },
  {
   "cell_type": "code",
   "execution_count": 190,
   "metadata": {},
   "outputs": [
    {
     "name": "stdout",
     "output_type": "stream",
     "text": [
      "Training score:\n",
      "1.0\n"
     ]
    }
   ],
   "source": [
    "train_data_df['nb_predict'] = MultinomialNB_ng.predict(np.stack(train_data_df['vect'], axis=0))\n",
    "print(\"Training score:\")\n",
    "print(MultinomialNB_ng.score(np.stack(train_data_df['vect'], axis=0), train_data_df['category']))"
   ]
  },
  {
   "cell_type": "code",
   "execution_count": 191,
   "metadata": {},
   "outputs": [
    {
     "data": {
      "text/html": [
       "<div>\n",
       "<style scoped>\n",
       "    .dataframe tbody tr th:only-of-type {\n",
       "        vertical-align: middle;\n",
       "    }\n",
       "\n",
       "    .dataframe tbody tr th {\n",
       "        vertical-align: top;\n",
       "    }\n",
       "\n",
       "    .dataframe thead th {\n",
       "        text-align: right;\n",
       "    }\n",
       "</style>\n",
       "<table border=\"1\" class=\"dataframe\">\n",
       "  <thead>\n",
       "    <tr style=\"text-align: right;\">\n",
       "      <th></th>\n",
       "      <th>category</th>\n",
       "      <th>nb_predict</th>\n",
       "    </tr>\n",
       "  </thead>\n",
       "  <tbody>\n",
       "    <tr>\n",
       "      <td>88</td>\n",
       "      <td>True</td>\n",
       "      <td>True</td>\n",
       "    </tr>\n",
       "    <tr>\n",
       "      <td>194</td>\n",
       "      <td>True</td>\n",
       "      <td>True</td>\n",
       "    </tr>\n",
       "    <tr>\n",
       "      <td>451</td>\n",
       "      <td>False</td>\n",
       "      <td>False</td>\n",
       "    </tr>\n",
       "    <tr>\n",
       "      <td>540</td>\n",
       "      <td>False</td>\n",
       "      <td>False</td>\n",
       "    </tr>\n",
       "    <tr>\n",
       "      <td>344</td>\n",
       "      <td>False</td>\n",
       "      <td>False</td>\n",
       "    </tr>\n",
       "    <tr>\n",
       "      <td>58</td>\n",
       "      <td>True</td>\n",
       "      <td>True</td>\n",
       "    </tr>\n",
       "    <tr>\n",
       "      <td>9</td>\n",
       "      <td>True</td>\n",
       "      <td>True</td>\n",
       "    </tr>\n",
       "    <tr>\n",
       "      <td>499</td>\n",
       "      <td>False</td>\n",
       "      <td>False</td>\n",
       "    </tr>\n",
       "    <tr>\n",
       "      <td>572</td>\n",
       "      <td>False</td>\n",
       "      <td>False</td>\n",
       "    </tr>\n",
       "    <tr>\n",
       "      <td>265</td>\n",
       "      <td>False</td>\n",
       "      <td>False</td>\n",
       "    </tr>\n",
       "  </tbody>\n",
       "</table>\n",
       "</div>"
      ],
      "text/plain": [
       "     category  nb_predict\n",
       "88       True        True\n",
       "194      True        True\n",
       "451     False       False\n",
       "540     False       False\n",
       "344     False       False\n",
       "58       True        True\n",
       "9        True        True\n",
       "499     False       False\n",
       "572     False       False\n",
       "265     False       False"
      ]
     },
     "execution_count": 191,
     "metadata": {},
     "output_type": "execute_result"
    }
   ],
   "source": [
    "train_data_df[['category', 'nb_predict']][:10]"
   ]
  },
  {
   "cell_type": "code",
   "execution_count": 192,
   "metadata": {},
   "outputs": [
    {
     "name": "stdout",
     "output_type": "stream",
     "text": [
      "Testing score:\n",
      "1.0\n"
     ]
    }
   ],
   "source": [
    "#Create vectors\n",
    "TFVects_test = TFVectorizer_ng.transform(test_data_df['lemmas_string'])\n",
    "test_data_df['vect'] = [np.array(v).flatten() for v in TFVects_test.todense()]\n",
    "\n",
    "#Add to df\n",
    "test_data_df['nb_predict'] = MultinomialNB_ng.predict(np.stack(test_data_df['vect'], axis=0))\n",
    "\n",
    "#Test\n",
    "print(\"Testing score:\")\n",
    "print(MultinomialNB_ng.score(np.stack(test_data_df['vect'], axis=0), test_data_df['category']))"
   ]
  },
  {
   "cell_type": "code",
   "execution_count": 193,
   "metadata": {},
   "outputs": [
    {
     "data": {
      "image/png": "[encoded data removed]",
      "text/plain": [
       "<Figure size 432x288 with 1 Axes>"
      ]
     },
     "metadata": {
      "needs_background": "light"
     },
     "output_type": "display_data"
    }
   ],
   "source": [
    "lucem_illud_2020.plotConfusionMatrix(MultinomialNB_ng, test_data_df)"
   ]
  },
  {
   "cell_type": "code",
   "execution_count": 194,
   "metadata": {},
   "outputs": [
    {
     "name": "stdout",
     "output_type": "stream",
     "text": [
      "1.0\n",
      "1.0\n"
     ]
    }
   ],
   "source": [
    "print(sklearn.metrics.precision_score(test_data_df['category'], test_data_df['nb_predict'], average = 'weighted')) #precision\n",
    "print(sklearn.metrics.recall_score(test_data_df['category'], test_data_df['nb_predict'], average = 'weighted')) #recall"
   ]
  },
  {
   "cell_type": "code",
   "execution_count": 195,
   "metadata": {},
   "outputs": [
    {
     "data": {
      "text/html": [
       "<div>\n",
       "<style scoped>\n",
       "    .dataframe tbody tr th:only-of-type {\n",
       "        vertical-align: middle;\n",
       "    }\n",
       "\n",
       "    .dataframe tbody tr th {\n",
       "        vertical-align: top;\n",
       "    }\n",
       "\n",
       "    .dataframe thead th {\n",
       "        text-align: right;\n",
       "    }\n",
       "</style>\n",
       "<table border=\"1\" class=\"dataframe\">\n",
       "  <thead>\n",
       "    <tr style=\"text-align: right;\">\n",
       "      <th></th>\n",
       "      <th>Error_Rate</th>\n",
       "      <th>AUC</th>\n",
       "      <th>Precision</th>\n",
       "      <th>Average_Precision</th>\n",
       "      <th>Recall</th>\n",
       "    </tr>\n",
       "    <tr>\n",
       "      <th>Category</th>\n",
       "      <th></th>\n",
       "      <th></th>\n",
       "      <th></th>\n",
       "      <th></th>\n",
       "      <th></th>\n",
       "    </tr>\n",
       "  </thead>\n",
       "  <tbody>\n",
       "    <tr>\n",
       "      <td>False</td>\n",
       "      <td>0.0</td>\n",
       "      <td>1.0</td>\n",
       "      <td>1.0</td>\n",
       "      <td>1.0</td>\n",
       "      <td>1.0</td>\n",
       "    </tr>\n",
       "    <tr>\n",
       "      <td>True</td>\n",
       "      <td>0.0</td>\n",
       "      <td>1.0</td>\n",
       "      <td>1.0</td>\n",
       "      <td>1.0</td>\n",
       "      <td>1.0</td>\n",
       "    </tr>\n",
       "  </tbody>\n",
       "</table>\n",
       "</div>"
      ],
      "text/plain": [
       "          Error_Rate  AUC  Precision  Average_Precision  Recall\n",
       "Category                                                       \n",
       "False            0.0  1.0        1.0                1.0     1.0\n",
       "True             0.0  1.0        1.0                1.0     1.0"
      ]
     },
     "execution_count": 195,
     "metadata": {},
     "output_type": "execute_result"
    }
   ],
   "source": [
    "lucem_illud_2020.metrics.evaluateClassifier(MultinomialNB_ng, test_data_df)"
   ]
  },
  {
   "cell_type": "code",
   "execution_count": 196,
   "metadata": {},
   "outputs": [
    {
     "data": {
      "image/png": "[encoded data removed]",
      "text/plain": [
       "<Figure size 720x720 with 1 Axes>"
      ]
     },
     "metadata": {
      "needs_background": "light"
     },
     "output_type": "display_data"
    }
   ],
   "source": [
    "lucem_illud_2020.plotMultiROC(MultinomialNB_ng, test_data_df)"
   ]
  },
  {
   "cell_type": "code",
   "execution_count": 197,
   "metadata": {},
   "outputs": [
    {
     "name": "stderr",
     "output_type": "stream",
     "text": [
      "'c' argument looks like a single numeric RGB or RGBA sequence, which should be avoided as value-mapping will have precedence in case its length matches with 'x' & 'y'.  Please use a 2-D array with a single row if you really want to specify the same RGB or RGBA value for all points.\n",
      "'c' argument looks like a single numeric RGB or RGBA sequence, which should be avoided as value-mapping will have precedence in case its length matches with 'x' & 'y'.  Please use a 2-D array with a single row if you really want to specify the same RGB or RGBA value for all points.\n"
     ]
    },
    {
     "data": {
      "image/png": "[encoded data removed]",
      "text/plain": [
       "<Figure size 720x720 with 1 Axes>"
      ]
     },
     "metadata": {
      "needs_background": "light"
     },
     "output_type": "display_data"
    }
   ],
   "source": [
    "lucem_illud_2020.plotregions(MultinomialNB_ng, test_data_df)"
   ]
  },
  {
   "cell_type": "markdown",
   "metadata": {},
   "source": [
    "The Naive Bayes seemed to perform best. Whereas other classifiers had trouble with the testing set, the Bayes model assigned the correct category 9 times out of ten."
   ]
  },
  {
   "cell_type": "markdown",
   "metadata": {},
   "source": [
    "## <span style=\"color:red\">*Exercise 3*</span>\n",
    "\n",
    "<span style=\"color:red\">In the cells immediately following, perform decision tree and random forest classification (binary, multinomial or continuous) using training, testing and extrapolation (uncoded) data from texts and hand-classifications associated with your final project. As with ***Exercise 2***, these could be crowd-sourced codes gathered through Amazon Mechanical Turk last week. Visualize the classification of data points. Calculate relevant metrics (e.g., precision, recall, the F-measure, and AUC). Now build an ensemble classifier by bagging trees into a random forest. Visualize the result. How do these classifiers perform? What does ensemble learning do?"
   ]
  },
  {
   "cell_type": "code",
   "execution_count": 198,
   "metadata": {},
   "outputs": [
    {
     "data": {
      "text/plain": [
       "DecisionTreeClassifier(class_weight=None, criterion='gini', max_depth=4,\n",
       "                       max_features=None, max_leaf_nodes=None,\n",
       "                       min_impurity_decrease=0.0, min_impurity_split=None,\n",
       "                       min_samples_leaf=1, min_samples_split=2,\n",
       "                       min_weight_fraction_leaf=0.0, presort=False,\n",
       "                       random_state=0, splitter='best')"
      ]
     },
     "execution_count": 198,
     "metadata": {},
     "output_type": "execute_result"
    }
   ],
   "source": [
    "clf_tree = sklearn.tree.DecisionTreeClassifier(max_depth=4,random_state=0)\n",
    "clf_tree.fit(np.stack(train_data_df['vect'], axis =0), train_data_df['category'])"
   ]
  },
  {
   "cell_type": "code",
   "execution_count": 199,
   "metadata": {},
   "outputs": [
    {
     "name": "stderr",
     "output_type": "stream",
     "text": [
      "'c' argument looks like a single numeric RGB or RGBA sequence, which should be avoided as value-mapping will have precedence in case its length matches with 'x' & 'y'.  Please use a 2-D array with a single row if you really want to specify the same RGB or RGBA value for all points.\n",
      "'c' argument looks like a single numeric RGB or RGBA sequence, which should be avoided as value-mapping will have precedence in case its length matches with 'x' & 'y'.  Please use a 2-D array with a single row if you really want to specify the same RGB or RGBA value for all points.\n"
     ]
    },
    {
     "data": {
      "image/png": "[encoded data removed]",
      "text/plain": [
       "<Figure size 720x720 with 1 Axes>"
      ]
     },
     "metadata": {
      "needs_background": "light"
     },
     "output_type": "display_data"
    }
   ],
   "source": [
    "lucem_illud_2020.plotregions(clf_tree, train_data_df)"
   ]
  },
  {
   "cell_type": "markdown",
   "metadata": {},
   "source": [
    "trees"
   ]
  },
  {
   "cell_type": "code",
   "execution_count": 200,
   "metadata": {},
   "outputs": [
    {
     "data": {
      "text/html": [
       "<div>\n",
       "<style scoped>\n",
       "    .dataframe tbody tr th:only-of-type {\n",
       "        vertical-align: middle;\n",
       "    }\n",
       "\n",
       "    .dataframe tbody tr th {\n",
       "        vertical-align: top;\n",
       "    }\n",
       "\n",
       "    .dataframe thead th {\n",
       "        text-align: right;\n",
       "    }\n",
       "</style>\n",
       "<table border=\"1\" class=\"dataframe\">\n",
       "  <thead>\n",
       "    <tr style=\"text-align: right;\">\n",
       "      <th></th>\n",
       "      <th>Error_Rate</th>\n",
       "      <th>AUC</th>\n",
       "      <th>Precision</th>\n",
       "      <th>Average_Precision</th>\n",
       "      <th>Recall</th>\n",
       "    </tr>\n",
       "    <tr>\n",
       "      <th>Category</th>\n",
       "      <th></th>\n",
       "      <th></th>\n",
       "      <th></th>\n",
       "      <th></th>\n",
       "      <th></th>\n",
       "    </tr>\n",
       "  </thead>\n",
       "  <tbody>\n",
       "    <tr>\n",
       "      <td>False</td>\n",
       "      <td>0.055743</td>\n",
       "      <td>0.921173</td>\n",
       "      <td>0.928401</td>\n",
       "      <td>0.926363</td>\n",
       "      <td>0.992347</td>\n",
       "    </tr>\n",
       "    <tr>\n",
       "      <td>True</td>\n",
       "      <td>0.055743</td>\n",
       "      <td>0.921173</td>\n",
       "      <td>0.982659</td>\n",
       "      <td>0.885936</td>\n",
       "      <td>0.850000</td>\n",
       "    </tr>\n",
       "  </tbody>\n",
       "</table>\n",
       "</div>"
      ],
      "text/plain": [
       "          Error_Rate       AUC  Precision  Average_Precision    Recall\n",
       "Category                                                              \n",
       "False       0.055743  0.921173   0.928401           0.926363  0.992347\n",
       "True        0.055743  0.921173   0.982659           0.885936  0.850000"
      ]
     },
     "execution_count": 200,
     "metadata": {},
     "output_type": "execute_result"
    }
   ],
   "source": [
    "lucem_illud_2020.evaluateClassifier(clf_tree, train_data_df)"
   ]
  },
  {
   "cell_type": "code",
   "execution_count": 201,
   "metadata": {},
   "outputs": [
    {
     "data": {
      "text/html": [
       "<div>\n",
       "<style scoped>\n",
       "    .dataframe tbody tr th:only-of-type {\n",
       "        vertical-align: middle;\n",
       "    }\n",
       "\n",
       "    .dataframe tbody tr th {\n",
       "        vertical-align: top;\n",
       "    }\n",
       "\n",
       "    .dataframe thead th {\n",
       "        text-align: right;\n",
       "    }\n",
       "</style>\n",
       "<table border=\"1\" class=\"dataframe\">\n",
       "  <thead>\n",
       "    <tr style=\"text-align: right;\">\n",
       "      <th></th>\n",
       "      <th>Error_Rate</th>\n",
       "      <th>AUC</th>\n",
       "      <th>Precision</th>\n",
       "      <th>Average_Precision</th>\n",
       "      <th>Recall</th>\n",
       "    </tr>\n",
       "    <tr>\n",
       "      <th>Category</th>\n",
       "      <th></th>\n",
       "      <th></th>\n",
       "      <th></th>\n",
       "      <th></th>\n",
       "      <th></th>\n",
       "    </tr>\n",
       "  </thead>\n",
       "  <tbody>\n",
       "    <tr>\n",
       "      <td>False</td>\n",
       "      <td>0.107692</td>\n",
       "      <td>0.896406</td>\n",
       "      <td>0.95</td>\n",
       "      <td>0.916458</td>\n",
       "      <td>0.883721</td>\n",
       "    </tr>\n",
       "    <tr>\n",
       "      <td>True</td>\n",
       "      <td>0.107692</td>\n",
       "      <td>0.896406</td>\n",
       "      <td>0.80</td>\n",
       "      <td>0.758042</td>\n",
       "      <td>0.909091</td>\n",
       "    </tr>\n",
       "  </tbody>\n",
       "</table>\n",
       "</div>"
      ],
      "text/plain": [
       "          Error_Rate       AUC  Precision  Average_Precision    Recall\n",
       "Category                                                              \n",
       "False       0.107692  0.896406       0.95           0.916458  0.883721\n",
       "True        0.107692  0.896406       0.80           0.758042  0.909091"
      ]
     },
     "execution_count": 201,
     "metadata": {},
     "output_type": "execute_result"
    }
   ],
   "source": [
    "lucem_illud_2020.evaluateClassifier(clf_tree, test_data_df)"
   ]
  },
  {
   "cell_type": "code",
   "execution_count": 202,
   "metadata": {},
   "outputs": [
    {
     "data": {
      "text/plain": [
       "0.8923076923076924"
      ]
     },
     "execution_count": 202,
     "metadata": {},
     "output_type": "execute_result"
    }
   ],
   "source": [
    "sklearn.metrics.accuracy_score(test_data_df['category'],clf_tree.predict(np.stack(test_data_df['vect'], axis = 0)))"
   ]
  },
  {
   "cell_type": "code",
   "execution_count": 203,
   "metadata": {},
   "outputs": [
    {
     "data": {
      "image/png": "[encoded data removed]",
      "text/plain": [
       "<Figure size 432x288 with 1 Axes>"
      ]
     },
     "metadata": {
      "needs_background": "light"
     },
     "output_type": "display_data"
    }
   ],
   "source": [
    "depthvec = []\n",
    "scorevec = []\n",
    "for i in range(1,20):\n",
    "    tree2 = sklearn.tree.DecisionTreeClassifier(max_depth=i,random_state=0)\n",
    "    tree2.fit(np.stack(train_data_df['vect'], axis =0), train_data_df['category'])\n",
    "    score = sklearn.metrics.accuracy_score(test_data_df['category'], tree2.predict(np.stack(test_data_df['vect'], axis = 0)))\n",
    "    depthvec.append(i)\n",
    "    scorevec.append(score)\n",
    "plt.scatter(depthvec,scorevec)\n",
    "plt.show()"
   ]
  },
  {
   "cell_type": "code",
   "execution_count": 204,
   "metadata": {},
   "outputs": [],
   "source": [
    "tree = sklearn.tree.DecisionTreeClassifier(max_depth=10) #Create an instance of our decision tree classifier.\n",
    "\n",
    "bag = sklearn.ensemble.BaggingClassifier(tree, n_estimators=100, max_samples=0.8, random_state=1) #Each tree uses up to 80% of the data"
   ]
  },
  {
   "cell_type": "code",
   "execution_count": 205,
   "metadata": {},
   "outputs": [
    {
     "data": {
      "text/plain": [
       "BaggingClassifier(base_estimator=DecisionTreeClassifier(class_weight=None,\n",
       "                                                        criterion='gini',\n",
       "                                                        max_depth=10,\n",
       "                                                        max_features=None,\n",
       "                                                        max_leaf_nodes=None,\n",
       "                                                        min_impurity_decrease=0.0,\n",
       "                                                        min_impurity_split=None,\n",
       "                                                        min_samples_leaf=1,\n",
       "                                                        min_samples_split=2,\n",
       "                                                        min_weight_fraction_leaf=0.0,\n",
       "                                                        presort=False,\n",
       "                                                        random_state=None,\n",
       "                                                        splitter='best'),\n",
       "                  bootstrap=True, bootstrap_features=False, max_features=1.0,\n",
       "                  max_samples=0.8, n_estimators=100, n_jobs=None,\n",
       "                  oob_score=False, random_state=1, verbose=0, warm_start=False)"
      ]
     },
     "execution_count": 205,
     "metadata": {},
     "output_type": "execute_result"
    }
   ],
   "source": [
    "bag.fit(np.stack(train_data_df['vect'], axis =0), train_data_df['category']) #Fit the bagged classifier"
   ]
  },
  {
   "cell_type": "code",
   "execution_count": 206,
   "metadata": {},
   "outputs": [
    {
     "name": "stderr",
     "output_type": "stream",
     "text": [
      "'c' argument looks like a single numeric RGB or RGBA sequence, which should be avoided as value-mapping will have precedence in case its length matches with 'x' & 'y'.  Please use a 2-D array with a single row if you really want to specify the same RGB or RGBA value for all points.\n",
      "'c' argument looks like a single numeric RGB or RGBA sequence, which should be avoided as value-mapping will have precedence in case its length matches with 'x' & 'y'.  Please use a 2-D array with a single row if you really want to specify the same RGB or RGBA value for all points.\n"
     ]
    },
    {
     "data": {
      "image/png": "[encoded data removed]",
      "text/plain": [
       "<Figure size 720x720 with 1 Axes>"
      ]
     },
     "metadata": {
      "needs_background": "light"
     },
     "output_type": "display_data"
    }
   ],
   "source": [
    "lucem_illud_2020.plotregions(bag, test_data_df)"
   ]
  },
  {
   "cell_type": "code",
   "execution_count": 207,
   "metadata": {},
   "outputs": [
    {
     "data": {
      "text/html": [
       "<div>\n",
       "<style scoped>\n",
       "    .dataframe tbody tr th:only-of-type {\n",
       "        vertical-align: middle;\n",
       "    }\n",
       "\n",
       "    .dataframe tbody tr th {\n",
       "        vertical-align: top;\n",
       "    }\n",
       "\n",
       "    .dataframe thead th {\n",
       "        text-align: right;\n",
       "    }\n",
       "</style>\n",
       "<table border=\"1\" class=\"dataframe\">\n",
       "  <thead>\n",
       "    <tr style=\"text-align: right;\">\n",
       "      <th></th>\n",
       "      <th>Error_Rate</th>\n",
       "      <th>AUC</th>\n",
       "      <th>Precision</th>\n",
       "      <th>Average_Precision</th>\n",
       "      <th>Recall</th>\n",
       "    </tr>\n",
       "    <tr>\n",
       "      <th>Category</th>\n",
       "      <th></th>\n",
       "      <th></th>\n",
       "      <th></th>\n",
       "      <th></th>\n",
       "      <th></th>\n",
       "    </tr>\n",
       "  </thead>\n",
       "  <tbody>\n",
       "    <tr>\n",
       "      <td>False</td>\n",
       "      <td>0.015385</td>\n",
       "      <td>0.988372</td>\n",
       "      <td>1.000000</td>\n",
       "      <td>0.992129</td>\n",
       "      <td>0.976744</td>\n",
       "    </tr>\n",
       "    <tr>\n",
       "      <td>True</td>\n",
       "      <td>0.015385</td>\n",
       "      <td>0.988372</td>\n",
       "      <td>0.956522</td>\n",
       "      <td>0.956522</td>\n",
       "      <td>1.000000</td>\n",
       "    </tr>\n",
       "  </tbody>\n",
       "</table>\n",
       "</div>"
      ],
      "text/plain": [
       "          Error_Rate       AUC  Precision  Average_Precision    Recall\n",
       "Category                                                              \n",
       "False       0.015385  0.988372   1.000000           0.992129  0.976744\n",
       "True        0.015385  0.988372   0.956522           0.956522  1.000000"
      ]
     },
     "execution_count": 207,
     "metadata": {},
     "output_type": "execute_result"
    }
   ],
   "source": [
    "lucem_illud_2020.evaluateClassifier(bag, test_data_df)"
   ]
  },
  {
   "cell_type": "code",
   "execution_count": 209,
   "metadata": {},
   "outputs": [
    {
     "data": {
      "image/png": "[encoded data removed]",
      "text/plain": [
       "<Figure size 432x288 with 1 Axes>"
      ]
     },
     "metadata": {
      "needs_background": "light"
     },
     "output_type": "display_data"
    }
   ],
   "source": [
    "lucem_illud_2020.plotConfusionMatrix(bag, test_data_df)"
   ]
  },
  {
   "cell_type": "markdown",
   "metadata": {},
   "source": [
    "In general these classifiers seem to perform really well on my data. Ensemble learning essentially collates multiple models into a single model, and then returns the final result based on all of the smaller models that it runs. It is a combination, an ensemble, of smaller preditctions aggregated into the final prediction. "
   ]
  },
  {
   "cell_type": "markdown",
   "metadata": {},
   "source": [
    "## <span style=\"color:red\">*Exercise 4*</span>\n",
    "\n",
    "<span style=\"color:red\">In the cells immediately following, perform and visualize k-nearest neighbor classification using training, testing and extrapolation (uncoded) data from texts and hand-classifications associated with your final project. Visualize the classification of data points and calculate relevant metrics (e.g., precision, recall, the F-measure, and AUC). Articulate how the *k*-nearest neighbor approach relates to *k*-means clustering explored in ***week 3***?"
   ]
  },
  {
   "cell_type": "code",
   "execution_count": 263,
   "metadata": {},
   "outputs": [],
   "source": [
    "n_neighbors = 15\n",
    "weights=\"uniform\"\n",
    "clf_knearest = sklearn.neighbors.KNeighborsClassifier(n_neighbors, weights=weights)"
   ]
  },
  {
   "cell_type": "code",
   "execution_count": 264,
   "metadata": {},
   "outputs": [
    {
     "data": {
      "text/plain": [
       "KNeighborsClassifier(algorithm='auto', leaf_size=30, metric='minkowski',\n",
       "                     metric_params=None, n_jobs=None, n_neighbors=15, p=2,\n",
       "                     weights='uniform')"
      ]
     },
     "execution_count": 264,
     "metadata": {},
     "output_type": "execute_result"
    }
   ],
   "source": [
    "clf_knearest.fit(np.stack(train_data_df['vect'], axis = 0), train_data_df['category'])"
   ]
  },
  {
   "cell_type": "code",
   "execution_count": 265,
   "metadata": {},
   "outputs": [
    {
     "data": {
      "text/html": [
       "<div>\n",
       "<style scoped>\n",
       "    .dataframe tbody tr th:only-of-type {\n",
       "        vertical-align: middle;\n",
       "    }\n",
       "\n",
       "    .dataframe tbody tr th {\n",
       "        vertical-align: top;\n",
       "    }\n",
       "\n",
       "    .dataframe thead th {\n",
       "        text-align: right;\n",
       "    }\n",
       "</style>\n",
       "<table border=\"1\" class=\"dataframe\">\n",
       "  <thead>\n",
       "    <tr style=\"text-align: right;\">\n",
       "      <th></th>\n",
       "      <th>Error_Rate</th>\n",
       "      <th>AUC</th>\n",
       "      <th>Precision</th>\n",
       "      <th>Average_Precision</th>\n",
       "      <th>Recall</th>\n",
       "    </tr>\n",
       "    <tr>\n",
       "      <th>Category</th>\n",
       "      <th></th>\n",
       "      <th></th>\n",
       "      <th></th>\n",
       "      <th></th>\n",
       "      <th></th>\n",
       "    </tr>\n",
       "  </thead>\n",
       "  <tbody>\n",
       "    <tr>\n",
       "      <td>False</td>\n",
       "      <td>0.009506</td>\n",
       "      <td>0.991439</td>\n",
       "      <td>0.997067</td>\n",
       "      <td>0.993078</td>\n",
       "      <td>0.988372</td>\n",
       "    </tr>\n",
       "    <tr>\n",
       "      <td>True</td>\n",
       "      <td>0.009506</td>\n",
       "      <td>0.991439</td>\n",
       "      <td>0.978378</td>\n",
       "      <td>0.974904</td>\n",
       "      <td>0.994505</td>\n",
       "    </tr>\n",
       "  </tbody>\n",
       "</table>\n",
       "</div>"
      ],
      "text/plain": [
       "          Error_Rate       AUC  Precision  Average_Precision    Recall\n",
       "Category                                                              \n",
       "False       0.009506  0.991439   0.997067           0.993078  0.988372\n",
       "True        0.009506  0.991439   0.978378           0.974904  0.994505"
      ]
     },
     "execution_count": 265,
     "metadata": {},
     "output_type": "execute_result"
    }
   ],
   "source": [
    "lucem_illud_2020.evaluateClassifier(clf_knearest, train_data_df)"
   ]
  },
  {
   "cell_type": "code",
   "execution_count": 266,
   "metadata": {},
   "outputs": [
    {
     "name": "stdout",
     "output_type": "stream",
     "text": [
      "Testing score:\n",
      "0.8931297709923665\n"
     ]
    }
   ],
   "source": [
    "test_data_df['nb_predict'] = clf_knearest.predict(np.stack(test_data_df['vect'], axis=0))\n",
    "\n",
    "#Test\n",
    "print(\"Testing score:\")\n",
    "print(clf_knearest.score(np.stack(test_data_df['vect'], axis=0), test_data_df['category']))"
   ]
  },
  {
   "cell_type": "code",
   "execution_count": 267,
   "metadata": {},
   "outputs": [
    {
     "data": {
      "image/png": "[encoded data removed]",
      "text/plain": [
       "<Figure size 432x288 with 1 Axes>"
      ]
     },
     "metadata": {
      "needs_background": "light"
     },
     "output_type": "display_data"
    }
   ],
   "source": [
    "lucem_illud_2020.plotConfusionMatrix(clf_knearest, test_data_df)"
   ]
  },
  {
   "cell_type": "code",
   "execution_count": 269,
   "metadata": {},
   "outputs": [
    {
     "name": "stderr",
     "output_type": "stream",
     "text": [
      "'c' argument looks like a single numeric RGB or RGBA sequence, which should be avoided as value-mapping will have precedence in case its length matches with 'x' & 'y'.  Please use a 2-D array with a single row if you really want to specify the same RGB or RGBA value for all points.\n",
      "'c' argument looks like a single numeric RGB or RGBA sequence, which should be avoided as value-mapping will have precedence in case its length matches with 'x' & 'y'.  Please use a 2-D array with a single row if you really want to specify the same RGB or RGBA value for all points.\n"
     ]
    },
    {
     "data": {
      "image/png": "[encoded data removed]",
      "text/plain": [
       "<Figure size 720x720 with 1 Axes>"
      ]
     },
     "metadata": {
      "needs_background": "light"
     },
     "output_type": "display_data"
    }
   ],
   "source": [
    "lucem_illud_2020.plotregions(clf_knearest, test_data_df)"
   ]
  },
  {
   "cell_type": "markdown",
   "metadata": {},
   "source": [
    "## <span style=\"color:red\">*Exercise 5*</span>\n",
    "\n",
    "<span style=\"color:red\">In the cells immediately following, perform a neural network classification and calculate relevant metrics (e.g., precision, recall, the F-measure, and AUC). How does this classify relevant to *k*-nearest neighbor, Naive Bayes, logistic and decision-tree approaches?"
   ]
  },
  {
   "cell_type": "code",
   "execution_count": 216,
   "metadata": {},
   "outputs": [
    {
     "data": {
      "text/plain": [
       "SVC(C=1.0, cache_size=200, class_weight=None, coef0=0.0,\n",
       "    decision_function_shape='ovr', degree=3, gamma='auto_deprecated',\n",
       "    kernel='linear', max_iter=-1, probability=False, random_state=None,\n",
       "    shrinking=True, tol=0.001, verbose=False)"
      ]
     },
     "execution_count": 216,
     "metadata": {},
     "output_type": "execute_result"
    }
   ],
   "source": [
    "clf_svm = sklearn.svm.SVC(kernel='linear', probability = False)\n",
    "#probability = True is slower but  lets you call predict_proba()\n",
    "clf_svm.fit(np.stack(train_data_df['vect'], axis=0), train_data_df['category'])"
   ]
  },
  {
   "cell_type": "code",
   "execution_count": 217,
   "metadata": {},
   "outputs": [
    {
     "data": {
      "text/html": [
       "<div>\n",
       "<style scoped>\n",
       "    .dataframe tbody tr th:only-of-type {\n",
       "        vertical-align: middle;\n",
       "    }\n",
       "\n",
       "    .dataframe tbody tr th {\n",
       "        vertical-align: top;\n",
       "    }\n",
       "\n",
       "    .dataframe thead th {\n",
       "        text-align: right;\n",
       "    }\n",
       "</style>\n",
       "<table border=\"1\" class=\"dataframe\">\n",
       "  <thead>\n",
       "    <tr style=\"text-align: right;\">\n",
       "      <th></th>\n",
       "      <th>Error_Rate</th>\n",
       "      <th>AUC</th>\n",
       "      <th>Precision</th>\n",
       "      <th>Average_Precision</th>\n",
       "      <th>Recall</th>\n",
       "    </tr>\n",
       "    <tr>\n",
       "      <th>Category</th>\n",
       "      <th></th>\n",
       "      <th></th>\n",
       "      <th></th>\n",
       "      <th></th>\n",
       "      <th></th>\n",
       "    </tr>\n",
       "  </thead>\n",
       "  <tbody>\n",
       "    <tr>\n",
       "      <td>False</td>\n",
       "      <td>0.0</td>\n",
       "      <td>1.0</td>\n",
       "      <td>1.0</td>\n",
       "      <td>1.0</td>\n",
       "      <td>1.0</td>\n",
       "    </tr>\n",
       "    <tr>\n",
       "      <td>True</td>\n",
       "      <td>0.0</td>\n",
       "      <td>1.0</td>\n",
       "      <td>1.0</td>\n",
       "      <td>1.0</td>\n",
       "      <td>1.0</td>\n",
       "    </tr>\n",
       "  </tbody>\n",
       "</table>\n",
       "</div>"
      ],
      "text/plain": [
       "          Error_Rate  AUC  Precision  Average_Precision  Recall\n",
       "Category                                                       \n",
       "False            0.0  1.0        1.0                1.0     1.0\n",
       "True             0.0  1.0        1.0                1.0     1.0"
      ]
     },
     "execution_count": 217,
     "metadata": {},
     "output_type": "execute_result"
    }
   ],
   "source": [
    "lucem_illud_2020.evaluateClassifier(clf_svm, test_data_df)"
   ]
  },
  {
   "cell_type": "code",
   "execution_count": 218,
   "metadata": {},
   "outputs": [
    {
     "data": {
      "image/png": "[encoded data removed]",
      "text/plain": [
       "<Figure size 432x288 with 1 Axes>"
      ]
     },
     "metadata": {
      "needs_background": "light"
     },
     "output_type": "display_data"
    }
   ],
   "source": [
    "lucem_illud_2020.plotConfusionMatrix(clf_svm, test_data_df)"
   ]
  },
  {
   "cell_type": "code",
   "execution_count": 219,
   "metadata": {},
   "outputs": [
    {
     "name": "stderr",
     "output_type": "stream",
     "text": [
      "'c' argument looks like a single numeric RGB or RGBA sequence, which should be avoided as value-mapping will have precedence in case its length matches with 'x' & 'y'.  Please use a 2-D array with a single row if you really want to specify the same RGB or RGBA value for all points.\n",
      "'c' argument looks like a single numeric RGB or RGBA sequence, which should be avoided as value-mapping will have precedence in case its length matches with 'x' & 'y'.  Please use a 2-D array with a single row if you really want to specify the same RGB or RGBA value for all points.\n"
     ]
    },
    {
     "data": {
      "image/png": "[encoded data removed]",
      "text/plain": [
       "<Figure size 720x720 with 1 Axes>"
      ]
     },
     "metadata": {
      "needs_background": "light"
     },
     "output_type": "display_data"
    }
   ],
   "source": [
    "lucem_illud_2020.plotregions(clf_svm, test_data_df)"
   ]
  },
  {
   "cell_type": "code",
   "execution_count": 220,
   "metadata": {},
   "outputs": [
    {
     "name": "stderr",
     "output_type": "stream",
     "text": [
      "'c' argument looks like a single numeric RGB or RGBA sequence, which should be avoided as value-mapping will have precedence in case its length matches with 'x' & 'y'.  Please use a 2-D array with a single row if you really want to specify the same RGB or RGBA value for all points.\n",
      "'c' argument looks like a single numeric RGB or RGBA sequence, which should be avoided as value-mapping will have precedence in case its length matches with 'x' & 'y'.  Please use a 2-D array with a single row if you really want to specify the same RGB or RGBA value for all points.\n"
     ]
    },
    {
     "data": {
      "image/png": "[encoded data removed]",
      "text/plain": [
       "<Figure size 720x720 with 1 Axes>"
      ]
     },
     "metadata": {
      "needs_background": "light"
     },
     "output_type": "display_data"
    }
   ],
   "source": [
    "lucem_illud_2020.plotregions(clf_svm, train_data_df)"
   ]
  },
  {
   "cell_type": "markdown",
   "metadata": {},
   "source": [
    "The main difference between a nueral network and other classifiers is that it has hidden layers, which give various weights to different data points, and combine them in different ways to see which gives the best result, and the final ouput, as far as I understand, is the best combination of these weights and combinations to most accurately predict the classes of the data that we desire."
   ]
  },
  {
   "cell_type": "code",
   "execution_count": null,
   "metadata": {},
   "outputs": [],
   "source": []
  }
 ],
 "metadata": {
  "kernelspec": {
   "display_name": "Python 3",
   "language": "python",
   "name": "python3"
  },
  "language_info": {
   "codemirror_mode": {
    "name": "ipython",
    "version": 3
   },
   "file_extension": ".py",
   "mimetype": "text/x-python",
   "name": "python",
   "nbconvert_exporter": "python",
   "pygments_lexer": "ipython3",
   "version": "3.7.4"
  }
 },
 "nbformat": 4,
 "nbformat_minor": 2
}
