{
 "cells": [
  {
   "cell_type": "markdown",
   "metadata": {},
   "source": [
    "# Week 0 - Retreiving and Preparing Text for Machines\n",
    "\n",
    "This week, we begin by \"begging, borrowing and stealing\" text from several\n",
    "contexts of human communication (e.g., PDFs, HTML, Word) and preparing it for\n",
    "machines to \"read\" and analyze. This notebook outlines scraping text from the\n",
    "web, PDF and Word documents. Then we detail \"spidering\" or walking\n",
    "through hyperlinks to build samples of online content, and using APIs,\n",
    "Application Programming Interfaces, provided by webservices to access their\n",
    "content. Along the way, we will use regular expressions, outlined in the\n",
    "reading, to remove unwanted formatting and ornamentation. Finally, we discuss\n",
    "various text encodings, filtering and data structures in which text can be\n",
    "placed for analysis.\n",
    "\n",
    "For this notebook we will be using the following packages:"
   ]
  },
  {
   "cell_type": "code",
   "execution_count": 1,
   "metadata": {},
   "outputs": [],
   "source": [
    "#Special module written for this class\n",
    "#This provides access to data and to helper functions from previous weeks\n",
    "import lucem_illud_2020 #pip install git+git://github.com/Computational-Content-Analysis-2020/lucem_illud_2020.git\n",
    "\n",
    "#All these packages need to be installed from pip\n",
    "import requests #for http requests\n",
    "import bs4 #called `beautifulsoup4`, an html parser\n",
    "import pandas #gives us DataFrames\n",
    "import docx #reading MS doc files, install as `python-docx`\n",
    "\n",
    "#Stuff for pdfs\n",
    "#Install as `pdfminer2`\n",
    "import pdfminer.pdfinterp\n",
    "import pdfminer.converter\n",
    "import pdfminer.layout\n",
    "import pdfminer.pdfpage\n",
    "\n",
    "#These come with Python\n",
    "import re #for regexs\n",
    "import urllib.parse #For joining urls\n",
    "import io #for making http requests look like files\n",
    "import json #For Tumblr API responses\n",
    "import os.path #For checking if files exist\n",
    "import os #For making directories"
   ]
  },
  {
   "cell_type": "markdown",
   "metadata": {},
   "source": [
    "We will also be working on the following files/urls"
   ]
  },
  {
   "cell_type": "code",
   "execution_count": null,
   "metadata": {
    "collapsed": true
   },
   "outputs": [],
   "source": [
    "wikipedia_base_url = 'https://en.wikipedia.org'\n",
    "wikipedia_content_analysis = 'https://en.wikipedia.org/wiki/Content_analysis'\n",
    "content_analysis_save = 'wikipedia_content_analysis.html'\n",
    "example_text_file = 'sometextfile.txt'\n",
    "information_extraction_pdf = 'https://github.com/Computational-Content-Analysis-2018/Data-Files/raw/master/1-intro/Content%20Analysis%2018.pdf'\n",
    "example_docx = 'https://github.com/Computational-Content-Analysis-2018/Data-Files/raw/master/1-intro/macs6000_connecting_to_midway.docx'\n",
    "example_docx_save = 'example.docx'"
   ]
  },
  {
   "cell_type": "markdown",
   "metadata": {},
   "source": [
    "# Scraping\n",
    "\n",
    "Before we can start analyzing content we need to obtain it. Sometimes it will be\n",
    "provided to us from a pre-curated text archive, but sometimes we will need to\n",
    "download it. As a starting example we will attempt to download the wikipedia\n",
    "page on content analysis. The page is located at [https://en.wikipedia.org/wiki/\n",
    "Content_analysis](https://en.wikipedia.org/wiki/Content_analysis) so lets start\n",
    "with that.\n",
    "\n",
    "We can do this by making an HTTP GET request to that url, a GET request is\n",
    "simply a request to the server to provide the contents given by some url. The\n",
    "other request we will be using in this class is called a POST request and\n",
    "requests the server to take some content we provide. While the Python standard\n",
    "library does have the ability do make GET requests we will be using the\n",
    "[_requests_](http://docs.python-requests.org/en/master/) package as it is _'the\n",
    "only Non-GMO HTTP library for Python'_...also it provides a nicer interface."
   ]
  },
  {
   "cell_type": "code",
   "execution_count": null,
   "metadata": {
    "collapsed": true
   },
   "outputs": [],
   "source": [
    "#wikipedia_content_analysis = 'https://en.wikipedia.org/wiki/Content_analysis'\n",
    "requests.get(wikipedia_content_analysis)"
   ]
  },
  {
   "cell_type": "markdown",
   "metadata": {},
   "source": [
    "`'Response [200]'` means the server responded with what we asked for. If you get\n",
    "another number (e.g. 404) it likely means there was some kind of error, these\n",
    "codes are called HTTP response codes and a list of them can be found\n",
    "[here](https://en.wikipedia.org/wiki/List_of_HTTP_status_codes). The response\n",
    "object contains all the data the server sent including the website's contents\n",
    "and the HTTP header. We are interested in the contents which we can access with\n",
    "the `.text` attribute."
   ]
  },
  {
   "cell_type": "code",
   "execution_count": null,
   "metadata": {
    "collapsed": true
   },
   "outputs": [],
   "source": [
    "wikiContentRequest = requests.get(wikipedia_content_analysis)\n",
    "print(wikiContentRequest.text[:1000])"
   ]
  },
  {
   "cell_type": "markdown",
   "metadata": {},
   "source": [
    "This is not what we were looking for, because it is the start of the HTML that\n",
    "makes up the website. This is HTML and is meant to be read by computers. Luckily\n",
    "we have a computer to parse it for us. To do the parsing we will use [_Beautiful\n",
    "Soup_](https://www.crummy.com/software/BeautifulSoup/) which is a better parser\n",
    "than the one in the standard library."
   ]
  },
  {
   "cell_type": "markdown",
   "metadata": {},
   "source": [
    "But before we proceed to Beautiful Soup, a digression about Python syntax, especially about objects and functions.\n",
    "For those who are not familiar with the syntax of python (or, if you're familiar with R programming), you might wonder what requests.get or wikiContentRequest.text mean. To understand this, you need to first understand what objects are. You may have heard that Python is an object oriented programming language (unlike the procedure oriented programming language, an example of which is R). Object is a set of variables (or, data) and functions into which you pass your data. So, in object oriented programming languages, like python, variables and functions are bunleded into objects.\n",
    "\n",
    "For example, let's look at wikiContentRequest. We use dir() function, which returns the list of attributes and functions of objects."
   ]
  },
  {
   "cell_type": "code",
   "execution_count": null,
   "metadata": {
    "collapsed": true
   },
   "outputs": [],
   "source": [
    " dir(wikiContentRequest)"
   ]
  },
  {
   "cell_type": "markdown",
   "metadata": {},
   "source": [
    "There's 'text' here. We used 'wikiContentRequest.text' to access 'text.' In other words, we use .(dot notation) to access functions from objects. wikiContentRequest has a set of functions, as shown above, and we used 'wikiContentRequest.text' to access one of them. By the way, dot notations do not necessarily refer to functions--it refers to anything that the entity contains. \n",
    "\n"
   ]
  },
  {
   "cell_type": "markdown",
   "metadata": {},
   "source": [
    "Moving on to the next step: BeautifulSoup, a Python library which extracts data from HTML and XML, and transforms HTML files into Python objects."
   ]
  },
  {
   "cell_type": "code",
   "execution_count": null,
   "metadata": {
    "collapsed": true
   },
   "outputs": [],
   "source": [
    "wikiContentSoup = bs4.BeautifulSoup(wikiContentRequest.text, 'html.parser')\n",
    "print(wikiContentSoup.text[:200])"
   ]
  },
  {
   "cell_type": "markdown",
   "metadata": {},
   "source": [
    "This is better but there's still random whitespace and we have more than just\n",
    "the text of the article. This is because what we requested is the whole webpage,\n",
    "not just the text for the article.\n",
    "\n",
    "We want to extract only the text we care about, and in order to do this we will\n",
    "need to inspect the html. One way to do this is simply to go to the website with\n",
    "a browser and use its inspection or view source tool. If javascript or other\n",
    "dynamic loading occurs on the page, however, it is likely that what Python\n",
    "receives is not what you will see, so we will need to inspect what Python\n",
    "receives. To do this we can save the html `requests` obtained."
   ]
  },
  {
   "cell_type": "code",
   "execution_count": null,
   "metadata": {
    "collapsed": true
   },
   "outputs": [],
   "source": [
    "#content_analysis_save = 'wikipedia_content_analysis.html'\n",
    "\n",
    "with open(content_analysis_save, mode='w', encoding='utf-8') as f:\n",
    "    f.write(wikiContentRequest.text)"
   ]
  },
  {
   "cell_type": "markdown",
   "metadata": {},
   "source": [
    "open() is a function which literally opens and returns the file. This function has multiple modes, and, here, we used mode as 'w', which means: open a file for writing. And then, we use 'write' function to write on the empty file (content_analysis_save) that we created using open(content_analysis_save, mode='w', encoding='utf-8').} What did we write on this file? The text we got from wikiContentRequest.text"
   ]
  },
  {
   "cell_type": "markdown",
   "metadata": {},
   "source": [
    "Now let's open the file (`wikipedia_content_analysis.html`) we just created with\n",
    "a web browser. It should look sort of like the original but without the images\n",
    "and formatting.\n",
    "\n",
    "As there is very little standardization on structuring webpages, figuring out\n",
    "how best to extract what you want is an art. Looking at this page it looks like\n",
    "all the main textual content is inside `<p>`(paragraph) tags within the `<body>`\n",
    "tag. "
   ]
  },
  {
   "cell_type": "code",
   "execution_count": null,
   "metadata": {
    "collapsed": true,
    "scrolled": true
   },
   "outputs": [],
   "source": [
    "contentPTags = wikiContentSoup.body.findAll('p')\n",
    "for pTag in contentPTags[:3]:\n",
    "    print(pTag.text)"
   ]
  },
  {
   "cell_type": "markdown",
   "metadata": {},
   "source": [
    "Another excursion for those who are not familiar with programming: for loop. For loop is used to iterate over a sequence. \"ContentPTags\" contains multiple paragraphs, each of which starts and ends with `<p>`. What the \"for pTag in contentPtags[:3]\" does here is: find each paragraph in contentPTags, which, here, we limited to the first three using contentPtags[:3], and then print each paragraph. So, we have three paragraphs. By the way, you can insert `<p>` in juputer notebook!"
   ]
  },
  {
   "cell_type": "markdown",
   "metadata": {},
   "source": [
    "We now have all the text from the page, split up by paragraph. If we wanted to\n",
    "get the section headers or references as well it would require a bit more work,\n",
    "but is doable.\n",
    "\n",
    "There is one more thing we might want to do before sending this text to be\n",
    "processed, remove the references indicators (`[2]`, `[3]` , etc). To do this we\n",
    "can use a short regular expression (regex)."
   ]
  },
  {
   "cell_type": "code",
   "execution_count": null,
   "metadata": {
    "collapsed": true
   },
   "outputs": [],
   "source": [
    "contentParagraphs = []\n",
    "for pTag in contentPTags:\n",
    "    #strings starting with r are raw so their \\'s are not modifier characters\n",
    "    #If we didn't start with r the string would be: '\\\\[\\\\d+\\\\]'\n",
    "    contentParagraphs.append(re.sub(r'\\[\\d+\\]', '', pTag.text))\n",
    "\n",
    "#convert to a DataFrame\n",
    "contentParagraphsDF = pandas.DataFrame({'paragraph-text' : contentParagraphs})\n",
    "print(contentParagraphsDF)"
   ]
  },
  {
   "cell_type": "markdown",
   "metadata": {},
   "source": [
    "Since we learned how to do for loop, you might get what we did here: using contentParagraphs = [], we made an empty list; and then, for each paragraph in contentPTags, we substituted every [\\d+\\] with '', i.e., removed every [\\d+\\], and then appended each paragraph (now without [\\d+\\]) to the empty list. As we can see, we have a dataframe, each row of which is each paragraph of contentPTags, without reference indicators. \n",
    "\n",
    "By the way, what does [\\d+\\] mean? If you are not familiar with regex, it is a way of specifying searches in text.\n",
    "A regex engine takes in the search pattern, in the above case `'\\[\\d+\\]'` and\n",
    "some string, the paragraph texts. Then it reads the input string one character\n",
    "at a time checking if it matches the search. Here the regex `'\\d'` matches\n",
    "number characters (while `'\\['` and `'\\]'` capture the braces on either side)."
   ]
  },
  {
   "cell_type": "markdown",
   "metadata": {},
   "source": [
    "Now we have a `DataFrame` containing all relevant text from the page ready to be processed"
   ]
  },
  {
   "cell_type": "code",
   "execution_count": null,
   "metadata": {
    "collapsed": true
   },
   "outputs": [],
   "source": [
    "findNumber = r'\\d'\n",
    "regexResults = re.search(findNumber, 'not a number, not a number, numbers 2134567890, not a number')\n",
    "regexResults"
   ]
  },
  {
   "cell_type": "markdown",
   "metadata": {},
   "source": [
    "In Python the regex package (`re`) usually returns `Match` objects (you can have\n",
    "multiple pattern hits in a a single `Match`), to get the string that matched our\n",
    "pattern we can use the `.group()` method, and as we want the first one we will\n",
    "ask for the 0'th group."
   ]
  },
  {
   "cell_type": "code",
   "execution_count": null,
   "metadata": {
    "collapsed": true
   },
   "outputs": [],
   "source": [
    "print(regexResults.group(0))"
   ]
  },
  {
   "cell_type": "markdown",
   "metadata": {},
   "source": [
    "That gives us the first number, if we wanted the whole block of numbers we can\n",
    "add a wildcard `'+'` which requests 1 or more instances of the preceding\n",
    "character."
   ]
  },
  {
   "cell_type": "code",
   "execution_count": null,
   "metadata": {
    "collapsed": true
   },
   "outputs": [],
   "source": [
    "findNumbers = r'\\d+'\n",
    "regexResults = re.search(findNumbers, 'not a number, not a number, numbers 2134567890, not a number')\n",
    "print(regexResults.group(0))"
   ]
  },
  {
   "cell_type": "markdown",
   "metadata": {},
   "source": [
    "Now we have the whole block of numbers, there are a huge number of special\n",
    "characters in regex, for the full description of Python's implementation look at\n",
    "the [re docs](https://docs.python.org/3/library/re.html) there is also a short\n",
    "[tutorial](https://docs.python.org/3/howto/regex.html#regex-howto)."
   ]
  },
  {
   "cell_type": "markdown",
   "metadata": {},
   "source": [
    "# <span style=\"color:red\">Section 1</span>\n",
    "<span style=\"color:red\">Construct cells immediately below this that describe and download webcontent relating to your anticipated final project. Use beautiful soup and at least five regular expressions to extract relevant, nontrivial *chunks* of that content (e.g., cleaned sentences, paragraphs, etc.) to a pandas `Dataframe`.</span>"
   ]
  },
  {
   "cell_type": "code",
   "execution_count": 2,
   "metadata": {},
   "outputs": [],
   "source": [
    "izvestiia_base_url = 'https://iz.ru/'\n",
    "izvestiia_article = 'https://iz.ru/998837/sevastian-terletckii/iz-nashego-stadiona-sdelali-gospital'\n",
    "izvestiia_article2 = \"https://iz.ru/998981/2020-04-13/sberbank-predupredil-o-novykh-skhemakh-krazhi-deneg-na-fone-koronavirusa\"\n",
    "izvestiia_article_save = \"izvestiia_article.html\""
   ]
  },
  {
   "cell_type": "code",
   "execution_count": 3,
   "metadata": {},
   "outputs": [
    {
     "data": {
      "text/plain": [
       "<Response [200]>"
      ]
     },
     "execution_count": 3,
     "metadata": {},
     "output_type": "execute_result"
    }
   ],
   "source": [
    "requests.get(izvestiia_article)"
   ]
  },
  {
   "cell_type": "code",
   "execution_count": 4,
   "metadata": {},
   "outputs": [
    {
     "name": "stdout",
     "output_type": "stream",
     "text": [
      "<!DOCTYPE html>\n",
      "<html lang=\"ru\" dir=\"ltr\" xmlns:dc=\"http://purl.org/dc/terms/\" xmlns:og=\"http://ogp.me/ns#\" xmlns:article=\"http://ogp.me/ns/article#\" xmlns:book=\"http://ogp.me/ns/book#\" xmlns:product=\"http://ogp.me/ns/product#\" xmlns:profile=\"http://ogp.me/ns/profile#\" xmlns:video=\"http://ogp.me/ns/video#\">\n",
      "  <head prefix=\"og: http://ogp.me/ns# fb: http://ogp.me/ns/fb# article: http://ogp.me/ns/article# ya: http://webmaster.yandex.ru/vocabularies/\">\n",
      "\t\t<meta name=\"msvalidate.01\" content=\"CE4A103B16938EE7C5A0B9F050A334B6\" />\n",
      "    <meta charset=\"utf-8\" />\n",
      "<script>window.iz = {\"title\":\"\\u00ab\\u0418\\u0437 \\u043d\\u0430\\u0448\\u0435\\u0433\\u043e \\u0441\\u0442\\u0430\\u0434\\u0438\\u043e\\u043d\\u0430 \\u0441\\u0434\\u0435\\u043b\\u0430\\u043b\\u0438 \\u0433\\u043e\\u0441\\u043f\\u0438\\u0442\\u0430\\u043b\\u044c\\u00bb\",\"url\":\"https:\\/\\/iz.ru\\/998837\\/sevastian-terletckii\\/iz-nashego-stadiona-sdelali-gospital\",\"special\":false,\"nid\":998837,\"rubric\":14,\"subject\":0,\"author\":760,\"subject_string\":\"\",\"author_string\":\"\\u0421\\\n"
     ]
    }
   ],
   "source": [
    "izvestiiaContentRequest = requests.get(izvestiia_article)\n",
    "print(izvestiiaContentRequest.text[:1000])"
   ]
  },
  {
   "cell_type": "code",
   "execution_count": 5,
   "metadata": {},
   "outputs": [
    {
     "data": {
      "text/plain": [
       "['__attrs__',\n",
       " '__bool__',\n",
       " '__class__',\n",
       " '__delattr__',\n",
       " '__dict__',\n",
       " '__dir__',\n",
       " '__doc__',\n",
       " '__enter__',\n",
       " '__eq__',\n",
       " '__exit__',\n",
       " '__format__',\n",
       " '__ge__',\n",
       " '__getattribute__',\n",
       " '__getstate__',\n",
       " '__gt__',\n",
       " '__hash__',\n",
       " '__init__',\n",
       " '__init_subclass__',\n",
       " '__iter__',\n",
       " '__le__',\n",
       " '__lt__',\n",
       " '__module__',\n",
       " '__ne__',\n",
       " '__new__',\n",
       " '__nonzero__',\n",
       " '__reduce__',\n",
       " '__reduce_ex__',\n",
       " '__repr__',\n",
       " '__setattr__',\n",
       " '__setstate__',\n",
       " '__sizeof__',\n",
       " '__str__',\n",
       " '__subclasshook__',\n",
       " '__weakref__',\n",
       " '_content',\n",
       " '_content_consumed',\n",
       " '_next',\n",
       " 'apparent_encoding',\n",
       " 'close',\n",
       " 'connection',\n",
       " 'content',\n",
       " 'cookies',\n",
       " 'elapsed',\n",
       " 'encoding',\n",
       " 'headers',\n",
       " 'history',\n",
       " 'is_permanent_redirect',\n",
       " 'is_redirect',\n",
       " 'iter_content',\n",
       " 'iter_lines',\n",
       " 'json',\n",
       " 'links',\n",
       " 'next',\n",
       " 'ok',\n",
       " 'raise_for_status',\n",
       " 'raw',\n",
       " 'reason',\n",
       " 'request',\n",
       " 'status_code',\n",
       " 'text',\n",
       " 'url']"
      ]
     },
     "execution_count": 5,
     "metadata": {},
     "output_type": "execute_result"
    }
   ],
   "source": [
    " dir(izvestiiaContentRequest)"
   ]
  },
  {
   "cell_type": "code",
   "execution_count": 6,
   "metadata": {},
   "outputs": [
    {
     "name": "stdout",
     "output_type": "stream",
     "text": [
      "\n",
      "\n",
      "\n",
      "\n",
      "\n",
      "window.iz = {\"title\":\"\\u00ab\\u0418\\u0437 \\u043d\\u0430\\u0448\\u0435\\u0433\\u043e \\u0441\\u0442\\u0430\\u0434\\u0438\\u043e\\u043d\\u0430 \\u0441\\u0434\\u0435\\u043b\\u0430\\u043b\\u0438 \\u0433\\u043e\\u0441\\u043f\\u0438\\u0442\\u0430\\u043b\\u044c\\u00bb\",\"url\":\"https:\\/\\/iz.ru\\/998837\\/sevastian-terletckii\\/iz-nashego-stadiona-sdelali-gospital\",\"special\":false,\"nid\":998837,\"rubric\":14,\"subject\":0,\"author\":760,\"subject_string\":\"\",\"author_string\":\"\\u0421\\u0435\\u0432\\u0430\\u0441\\u0442\\u0438\\u0430\\u043d \\u0422\\u0435\\u0440\\u043b\\u0435\\u0446\\u043a\\u0438\\u0439\"}\n",
      "\n",
      "\n",
      "\n",
      "\n",
      "\n",
      "\n",
      "\n",
      "\n",
      "\n",
      "\n",
      "\n",
      "\n",
      "\n",
      "\n",
      "\n",
      "\n",
      "\n",
      "\n",
      "\n",
      "\n",
      "\n",
      "\n",
      "\n",
      "\n",
      "\n",
      "\r\n",
      "window._io_config = window._io_config || {};\r\n",
      "window._io_config['0.2.0'] = window._io_config['0.2.0'] || [];\r\n",
      "window._io_config['0.2.0'].push({\r\n",
      "    page_url:\"https:\\/\\/iz.ru\\/998837\\/sevastian-terletckii\\/iz-nashego-stadiona-sdelali-gospital\",\n",
      "    page_url_canonical:\"https:\\/\\/iz.ru\\/998837\\/sevastian-terletckii\\/iz-nashego-stadiona-sdelali-gospital\",\n",
      "    page_title:\"\\u00ab\\u0418\\u0437 \\u043d\\u0430\\u0448\\u0435\\u0433\\u043e \\u\n"
     ]
    }
   ],
   "source": [
    "izvestiiaContentSoup = bs4.BeautifulSoup(izvestiiaContentRequest.text, 'html.parser')\n",
    "print(izvestiiaContentSoup.text[:1000])"
   ]
  },
  {
   "cell_type": "code",
   "execution_count": 7,
   "metadata": {},
   "outputs": [],
   "source": [
    "with open(izvestiia_article_save, mode='w') as f:\n",
    "    f.write(izvestiiaContentRequest.text)"
   ]
  },
  {
   "cell_type": "code",
   "execution_count": 8,
   "metadata": {},
   "outputs": [
    {
     "name": "stdout",
     "output_type": "stream",
     "text": [
      "\n",
      "                          Зарегистрировано Федеральной службой по надзору в сфере связи, информационных технологий и массовых коммуникаций.\n",
      "                          Свидетельства о регистрации ЭЛ № ФС 77 - 76208 от 8 июля 2019 года, ЭЛ № ФС 77 - 72003 от 26 декабря 2019 года\n",
      "\n",
      "\n",
      "                          Все права защищены © ООО «МИЦ «Известия», 2020\n",
      "\n",
      "Пандемия серьезно бьет по индустрии развлечений, в том числе и футболу. «Известия» пообщались с российским владельцем португальского клуба «Лейрия» Александром Толстиковым, который рассказал о том, как его команда справляется с кризисом, и оценил вероятность резкого снижения цен на трансферы.\n",
      "— Где вас застала пандемия?\n",
      "— Слава богу, вовремя улетел из Португалии. Еще в тот момент, когда никакой паники не было. Сейчас в Москве, рядом с семьей.\n",
      "— Вы наверняка на связи с клубом. Как там обстоят дела?\n",
      "— Высшая лига собирается доигрывать сезон. А вот в третьей лиге, где мы выступаем, федерация аннулировала чемпионат. Никто не вылетел, насчет команд, которые должны повыситься в классе, пока нет решения. Возможно, сыграют плей-офф для выявления победителей. По этому поводу идут дискуссии. В целом клубам из низших дивизионов сейчас очень тяжело выживать и держать команды на плаву. То же самое, что и в России.\n",
      "— Статистика по количеству зараженных в Португалии в десять раз лучше, чем в соседней Испании. Как это можно объяснить?\n",
      "— Португалия быстро среагировала на эту ситуацию и ввела режим самоизоляции, сейчас вообще объявили чрезвычайный режим до 18 апреля. В стране все очень дисциплинированно относятся к данной необходимой мере. Возможно, это сыграло роль. Пока очень сложно сказать, почему у одних стран всё это протекает одним образом, а у других — совершенно иным.\n"
     ]
    }
   ],
   "source": [
    "contentPTags = izvestiiaContentSoup.body.findAll('p')\n",
    "for pTag in contentPTags[1:10]:\n",
    "    print(pTag.text)"
   ]
  },
  {
   "cell_type": "code",
   "execution_count": 9,
   "metadata": {},
   "outputs": [
    {
     "name": "stdout",
     "output_type": "stream",
     "text": [
      "                                       paragraph-text\n",
      "0                             Сайт функционирует п...\n",
      "1                             Зарегистрировано Фед...\n",
      "2                             Все права защищены ©...\n",
      "3   Пандемия серьезно бьет по индустрии развлечени...\n",
      "4                         — Где вас застала пандемия?\n",
      "5   — Слава богу, вовремя улетел из Португалии. Ещ...\n",
      "6   — Вы наверняка на связи с клубом. Как там обст...\n",
      "7   — Высшая лига собирается доигрывать сезон. А в...\n",
      "8   — Статистика по количеству зараженных в Португ...\n",
      "9   — Португалия быстро среагировала на эту ситуац...\n",
      "10         — Как эта ситуация затронула город Лейрия?\n",
      "11  — Мэрия приняла решение из нашего стадиона «Ма...\n",
      "12  — Насколько сложно переоборудовать стадион в м...\n",
      "13  — Ну у нас достаточно современная арена. Там е...\n",
      "14  — Как настроение у футболистов вашего клуба во...\n",
      "15  — Им очень сложно. Для любого футболиста тяжел...\n",
      "16  — Вы как владелец клуба уже ощутили на себе кр...\n",
      "17  — Конечно, как и все клубы в мире. Но ощутимее...\n",
      "18  — Пришлось как-то урезать зарплаты своим игрокам?\n",
      "19  — Нет, мы заплатили за февраль включительно, а...\n",
      "20  — Вы сказали, что продажа игроков — значимый п...\n",
      "21  — Конечно, может. И, скорее всего, так и будет...\n",
      "22  — Как вы думаете, новые цены на трансферы буду...\n",
      "23  — Сложно сейчас давать какие-то прогнозы. Прос...\n",
      "24  — Легионеры, которые выступают за ваш клуб, ос...\n",
      "25  — Да, все сидят в Португалии. Границы закрыты....\n",
      "26  — У вас есть понимание относительно истекающих...\n",
      "27  — Этот вопрос волнует сейчас всех, но нас в ме...\n",
      "28  — Со следующего сезона ФИФА введет ограничение...\n",
      "29  — Сейчас много чего необходимо отсрочить, и да...\n",
      "30                                                   \n",
      "31                                                   \n",
      "32                Авторское право на систему визуа...\n",
      "33                Частичное цитирование возможно т...\n",
      "34                АО «АБ «РОССИЯ» — партнер рубрик...\n",
      "35                Сайт функционирует при финансово...\n",
      "36                Ответственность за содержание лю...\n",
      "37                Новости, аналитика, прогнозы и д...\n",
      "38                Зарегистрировано Федеральной слу...\n",
      "39                Все права защищены © ООО «МИЦ «И...\n"
     ]
    }
   ],
   "source": [
    "contentParagraphs = []\n",
    "for pTag in contentPTags:\n",
    "    \n",
    "    contentParagraphs.append(re.sub(\"\\n\", '', pTag.text)) # remove line break indicators\n",
    "\n",
    "#convert to a DataFrame\n",
    "contentParagraphsDF = pandas.DataFrame({'paragraph-text' : contentParagraphs})\n",
    "print(contentParagraphsDF)"
   ]
  },
  {
   "cell_type": "code",
   "execution_count": 10,
   "metadata": {},
   "outputs": [],
   "source": [
    "izvestiia_article2 = \"https://iz.ru/998981/2020-04-13/sberbank-predupredil-o-novykh-skhemakh-krazhi-deneg-na-fone-koronavirusa\""
   ]
  },
  {
   "cell_type": "code",
   "execution_count": 11,
   "metadata": {},
   "outputs": [],
   "source": [
    "izvestiiaContentRequest = requests.get(izvestiia_article2)"
   ]
  },
  {
   "cell_type": "code",
   "execution_count": 12,
   "metadata": {},
   "outputs": [],
   "source": [
    "izvestiiaContentSoup = bs4.BeautifulSoup(izvestiiaContentRequest.text, 'html.parser')"
   ]
  },
  {
   "cell_type": "code",
   "execution_count": 13,
   "metadata": {},
   "outputs": [
    {
     "name": "stdout",
     "output_type": "stream",
     "text": [
      "\n",
      "                          Зарегистрировано Федеральной службой по надзору в сфере связи, информационных технологий и массовых коммуникаций.\n",
      "                          Свидетельства о регистрации ЭЛ № ФС 77 - 76208 от 8 июля 2019 года, ЭЛ № ФС 77 - 72003 от 26 декабря 2019 года\n",
      "\n",
      "\n",
      "                          Все права защищены © ООО «МИЦ «Известия», 2020\n",
      "\n",
      "Сбербанк зафиксировал несколько новых мошеннических схем, связанных с коронавирусом, с помощью которых злоумышленникам удается похитить деньги и данные россиян. Об этом в интервью «РИА Новости» рассказал зампред правления банка Станислав Кузнецов.\n",
      "Одной из схем является якобы компенсация за ущерб от вируса. Злоумышленники предлагают получить социальные выплаты и материальную помощь, но таким образом собирают информацию о персональных данных и картах.\n",
      "Также мошенники адаптируются к тому, что большинство российских граждан работает из дома. Так, с начала пандемии было зарегистрировано 1,7 тыс. новых доменов, которые содержат название сервиса популярной видеосвязи Zoom.\n",
      "Еще одной схемой стали звонки преступников от имени работников городских поликлиник. Они сообщают, что человек якобы контактировал с зараженным коронавирусом, и предлагают сделать анализ, который стоит, по их словам, 5 тыс. рублей.\n",
      "Некоторые злоумышленники сообщают о серьезных проблемах по результатам анализов и предлагают купить дорогостоящие лекарства, но после покупки граждане выясняют, что приобрели безвредные пищевые добавки.\n",
      "«В целом могу сказать, что тема распространения коронавируса взята на вооружение киберпреступниками для мошенничества с использованием методов социальной инженерии. Они применяют любую актуальную тематику, но их цель остается неизменной — украсть ваши данные и деньги», — заключил Кузнецов.\n",
      "Ранее, 12 апреля, власти Москвы предупредили жителей о мошенниках, которые предлагают оформить цифровые пропуска для передвижения по городу в социальных сетях.\n"
     ]
    }
   ],
   "source": [
    "contentPTags = izvestiiaContentSoup.body.findAll('p')\n",
    "for pTag in contentPTags[1:10]:\n",
    "    print(pTag.text)"
   ]
  },
  {
   "cell_type": "code",
   "execution_count": 14,
   "metadata": {},
   "outputs": [
    {
     "name": "stdout",
     "output_type": "stream",
     "text": [
      "                                       paragraph-text\n",
      "0                             Сайт функционирует п...\n",
      "1                             Зарегистрировано Фед...\n",
      "2                             Все права защищены ©...\n",
      "3   Сбербанк зафиксировал несколько новых мошеннич...\n",
      "4   Одной из схем является якобы компенсация за ущ...\n",
      "5   Также мошенники адаптируются к тому, что больш...\n",
      "6   Еще одной схемой стали звонки преступников от ...\n",
      "7   Некоторые злоумышленники сообщают о серьезных ...\n",
      "8   «В целом могу сказать, что тема распространени...\n",
      "9   Ранее, 12 апреля, власти Москвы предупредили ж...\n",
      "10  Согласно порталу стопкоронавирус.рф, в России ...\n",
      "11  Вся актуальная информация по ситуации с корона...\n",
      "12                                                   \n",
      "13                                                   \n",
      "14                Авторское право на систему визуа...\n",
      "15                Частичное цитирование возможно т...\n",
      "16                АО «АБ «РОССИЯ» — партнер рубрик...\n",
      "17                Сайт функционирует при финансово...\n",
      "18                Ответственность за содержание лю...\n",
      "19                Новости, аналитика, прогнозы и д...\n",
      "20                Зарегистрировано Федеральной слу...\n",
      "21                Все права защищены © ООО «МИЦ «И...\n"
     ]
    }
   ],
   "source": [
    "contentParagraphs = []\n",
    "for pTag in contentPTags:\n",
    "    \n",
    "    contentParagraphs.append(re.sub(\"\\n\", '', pTag.text)) # remove line break indicators\n",
    "\n",
    "#convert to a DataFrame\n",
    "contentParagraphsDF = pandas.DataFrame({'paragraph-text' : contentParagraphs})\n",
    "print(contentParagraphsDF)"
   ]
  },
  {
   "cell_type": "markdown",
   "metadata": {},
   "source": [
    "\n",
    "# Spidering\n",
    "\n",
    "What if we want to to get a bunch of different pages from wikipedia. We would\n",
    "need to get the url for each of the pages we want. Typically, we want pages that\n",
    "are linked to by other pages and so we will need to parse pages and identify the\n",
    "links. Right now we will be retrieving all links in the body of the content\n",
    "analysis page.\n",
    "\n",
    "To do this we will need to find all the `<a>` (anchor) tags with `href`s\n",
    "(hyperlink references) inside of `<p>` tags. `href` can have many\n",
    "[different](http://stackoverflow.com/questions/4855168/what-is-href-and-why-is-\n",
    "it-used) [forms](https://en.wikipedia.org/wiki/Hyperlink#Hyperlinks_in_HTML) so\n",
    "dealing with them can be tricky, but generally, you will want to extract\n",
    "absolute or relative links. An absolute link is one you can follow without\n",
    "modification, while a relative link requires a base url that you will then\n",
    "append. Wikipedia uses relative urls for its internal links: below is an example\n",
    "for dealing with them."
   ]
  },
  {
   "cell_type": "code",
   "execution_count": null,
   "metadata": {
    "collapsed": true
   },
   "outputs": [],
   "source": [
    "#wikipedia_base_url = 'https://en.wikipedia.org'\n",
    "\n",
    "otherPAgeURLS = []\n",
    "#We also want to know where the links come from so we also will get:\n",
    "#the paragraph number\n",
    "#the word the link is in\n",
    "for paragraphNum, pTag in enumerate(contentPTags):\n",
    "    #we only want hrefs that link to wiki pages\n",
    "    tagLinks = pTag.findAll('a', href=re.compile('/wiki/'), class_=False)\n",
    "    for aTag in tagLinks:\n",
    "        #We need to extract the url from the <a> tag\n",
    "        relurl = aTag.get('href')\n",
    "        linkText = aTag.text\n",
    "        #wikipedia_base_url is the base we can use the urllib joining function to merge them\n",
    "        #Giving a nice structured tupe like this means we can use tuple expansion later\n",
    "        otherPAgeURLS.append((\n",
    "            urllib.parse.urljoin(wikipedia_base_url, relurl),\n",
    "            paragraphNum,\n",
    "            linkText,\n",
    "        ))\n",
    "print(otherPAgeURLS[:10])"
   ]
  },
  {
   "cell_type": "code",
   "execution_count": null,
   "metadata": {
    "collapsed": true
   },
   "outputs": [],
   "source": [
    "print(contentPTags)"
   ]
  },
  {
   "cell_type": "markdown",
   "metadata": {},
   "source": [
    "Another excursion: Why do we use enumerate() here? enumerate() takes a collection, enumerates, and returns an enumate object with both the numbers and the collection. For example, contentPTags (the collection we used here) is comprised of paragraphs. We want the paragraph number of each paragraph. And this is what enumerate() does: it returns the paragraph number and the paragraph. "
   ]
  },
  {
   "cell_type": "markdown",
   "metadata": {},
   "source": [
    "We will be adding these new texts to our DataFrame `contentParagraphsDF` so we\n",
    "will need to add 2 more columns to keep track of paragraph numbers and sources."
   ]
  },
  {
   "cell_type": "code",
   "execution_count": null,
   "metadata": {
    "collapsed": true
   },
   "outputs": [],
   "source": [
    "contentParagraphsDF['source'] = [wikipedia_content_analysis] * len(contentParagraphsDF['paragraph-text'])\n",
    "contentParagraphsDF['paragraph-number'] = range(len(contentParagraphsDF['paragraph-text']))\n",
    "\n",
    "contentParagraphsDF"
   ]
  },
  {
   "cell_type": "markdown",
   "metadata": {},
   "source": [
    "Then we can add two more columns to our `Dataframe` and define a function to\n",
    "parse\n",
    "each linked page and add its text to our DataFrame."
   ]
  },
  {
   "cell_type": "code",
   "execution_count": null,
   "metadata": {
    "collapsed": true
   },
   "outputs": [],
   "source": [
    "contentParagraphsDF['source-paragraph-number'] = [None] * len(contentParagraphsDF['paragraph-text'])\n",
    "contentParagraphsDF['source-paragraph-text'] = [None] * len(contentParagraphsDF['paragraph-text'])\n",
    "\n",
    "def getTextFromWikiPage(targetURL, sourceParNum, sourceText):\n",
    "    #Make a dict to store data before adding it to the DataFrame\n",
    "    parsDict = {'source' : [], 'paragraph-number' : [], 'paragraph-text' : [], 'source-paragraph-number' : [],  'source-paragraph-text' : []}\n",
    "    #Now we get the page\n",
    "    r = requests.get(targetURL)\n",
    "    soup = bs4.BeautifulSoup(r.text, 'html.parser')\n",
    "    #enumerating gives use the paragraph number\n",
    "    for parNum, pTag in enumerate(soup.body.findAll('p')):\n",
    "        #same regex as before\n",
    "        parsDict['paragraph-text'].append(re.sub(r'\\[\\d+\\]', '', pTag.text))\n",
    "        parsDict['paragraph-number'].append(parNum)\n",
    "        parsDict['source'].append(targetURL)\n",
    "        parsDict['source-paragraph-number'].append(sourceParNum)\n",
    "        parsDict['source-paragraph-text'].append(sourceText)\n",
    "    return pandas.DataFrame(parsDict)"
   ]
  },
  {
   "cell_type": "markdown",
   "metadata": {},
   "source": [
    "And run it on our list of link tags"
   ]
  },
  {
   "cell_type": "code",
   "execution_count": null,
   "metadata": {
    "collapsed": true
   },
   "outputs": [],
   "source": [
    "for urlTuple in otherPAgeURLS[:3]:\n",
    "    #ignore_index means the indices will not be reset after each append\n",
    "    contentParagraphsDF = contentParagraphsDF.append(getTextFromWikiPage(*urlTuple),ignore_index=True)\n",
    "contentParagraphsDF"
   ]
  },
  {
   "cell_type": "markdown",
   "metadata": {},
   "source": [
    "\n",
    "# <span style=\"color:red\">Section 2</span>\n",
    "<span style=\"color:red\">Construct cells immediately below this that spider webcontent from another site with content relating to your anticipated final project. Specifically, identify urls on a core page, then follow and extract content from them into a pandas `Dataframe`. In addition, demonstrate a *recursive* spider, which follows more than one level of links (i.e., follows links from a site, then follows links on followed sites to new sites, etc.), making sure to define a reasonable endpoint so that you do not wander the web forever :-).</span>\n",
    "\n"
   ]
  },
  {
   "cell_type": "code",
   "execution_count": 15,
   "metadata": {},
   "outputs": [
    {
     "name": "stdout",
     "output_type": "stream",
     "text": [
      "[('https://iz.ru/998961/2020-04-13/vlasti-moskvy-predupredili-grazhdan-o-moshennichestve-s-propuskami', 9, 'предупредили жителей о мошенниках')]\n"
     ]
    }
   ],
   "source": [
    "#izvestiia_base_url = 'https://iz.ru/'\n",
    "\n",
    "otherPAgeURLS = []\n",
    "#We also want to know where the links come from so we also will get:\n",
    "#the paragraph number\n",
    "#the word the link is in\n",
    "for paragraphNum, pTag in enumerate(contentPTags):\n",
    "    \n",
    "    tagLinks = pTag.findAll('a', href=re.compile('/iz.ru/'), class_=False)\n",
    "    for aTag in tagLinks:\n",
    "        \n",
    "        relurl = aTag.get('href')\n",
    "        linkText = aTag.text\n",
    "        \n",
    "        otherPAgeURLS.append((\n",
    "            urllib.parse.urljoin(izvestiia_base_url, relurl),\n",
    "            paragraphNum,\n",
    "            linkText,\n",
    "        ))\n",
    "print(otherPAgeURLS[:10])"
   ]
  },
  {
   "cell_type": "code",
   "execution_count": 16,
   "metadata": {},
   "outputs": [
    {
     "data": {
      "text/html": [
       "<div>\n",
       "<style scoped>\n",
       "    .dataframe tbody tr th:only-of-type {\n",
       "        vertical-align: middle;\n",
       "    }\n",
       "\n",
       "    .dataframe tbody tr th {\n",
       "        vertical-align: top;\n",
       "    }\n",
       "\n",
       "    .dataframe thead th {\n",
       "        text-align: right;\n",
       "    }\n",
       "</style>\n",
       "<table border=\"1\" class=\"dataframe\">\n",
       "  <thead>\n",
       "    <tr style=\"text-align: right;\">\n",
       "      <th></th>\n",
       "      <th>paragraph-text</th>\n",
       "      <th>source</th>\n",
       "      <th>paragraph-number</th>\n",
       "    </tr>\n",
       "  </thead>\n",
       "  <tbody>\n",
       "    <tr>\n",
       "      <td>0</td>\n",
       "      <td>Сайт функционирует п...</td>\n",
       "      <td>https://iz.ru/998981/2020-04-13/sberbank-predu...</td>\n",
       "      <td>0</td>\n",
       "    </tr>\n",
       "    <tr>\n",
       "      <td>1</td>\n",
       "      <td>Зарегистрировано Фед...</td>\n",
       "      <td>https://iz.ru/998981/2020-04-13/sberbank-predu...</td>\n",
       "      <td>1</td>\n",
       "    </tr>\n",
       "    <tr>\n",
       "      <td>2</td>\n",
       "      <td>Все права защищены ©...</td>\n",
       "      <td>https://iz.ru/998981/2020-04-13/sberbank-predu...</td>\n",
       "      <td>2</td>\n",
       "    </tr>\n",
       "    <tr>\n",
       "      <td>3</td>\n",
       "      <td>Сбербанк зафиксировал несколько новых мошеннич...</td>\n",
       "      <td>https://iz.ru/998981/2020-04-13/sberbank-predu...</td>\n",
       "      <td>3</td>\n",
       "    </tr>\n",
       "    <tr>\n",
       "      <td>4</td>\n",
       "      <td>Одной из схем является якобы компенсация за ущ...</td>\n",
       "      <td>https://iz.ru/998981/2020-04-13/sberbank-predu...</td>\n",
       "      <td>4</td>\n",
       "    </tr>\n",
       "    <tr>\n",
       "      <td>5</td>\n",
       "      <td>Также мошенники адаптируются к тому, что больш...</td>\n",
       "      <td>https://iz.ru/998981/2020-04-13/sberbank-predu...</td>\n",
       "      <td>5</td>\n",
       "    </tr>\n",
       "    <tr>\n",
       "      <td>6</td>\n",
       "      <td>Еще одной схемой стали звонки преступников от ...</td>\n",
       "      <td>https://iz.ru/998981/2020-04-13/sberbank-predu...</td>\n",
       "      <td>6</td>\n",
       "    </tr>\n",
       "    <tr>\n",
       "      <td>7</td>\n",
       "      <td>Некоторые злоумышленники сообщают о серьезных ...</td>\n",
       "      <td>https://iz.ru/998981/2020-04-13/sberbank-predu...</td>\n",
       "      <td>7</td>\n",
       "    </tr>\n",
       "    <tr>\n",
       "      <td>8</td>\n",
       "      <td>«В целом могу сказать, что тема распространени...</td>\n",
       "      <td>https://iz.ru/998981/2020-04-13/sberbank-predu...</td>\n",
       "      <td>8</td>\n",
       "    </tr>\n",
       "    <tr>\n",
       "      <td>9</td>\n",
       "      <td>Ранее, 12 апреля, власти Москвы предупредили ж...</td>\n",
       "      <td>https://iz.ru/998981/2020-04-13/sberbank-predu...</td>\n",
       "      <td>9</td>\n",
       "    </tr>\n",
       "    <tr>\n",
       "      <td>10</td>\n",
       "      <td>Согласно порталу стопкоронавирус.рф, в России ...</td>\n",
       "      <td>https://iz.ru/998981/2020-04-13/sberbank-predu...</td>\n",
       "      <td>10</td>\n",
       "    </tr>\n",
       "    <tr>\n",
       "      <td>11</td>\n",
       "      <td>Вся актуальная информация по ситуации с корона...</td>\n",
       "      <td>https://iz.ru/998981/2020-04-13/sberbank-predu...</td>\n",
       "      <td>11</td>\n",
       "    </tr>\n",
       "    <tr>\n",
       "      <td>12</td>\n",
       "      <td></td>\n",
       "      <td>https://iz.ru/998981/2020-04-13/sberbank-predu...</td>\n",
       "      <td>12</td>\n",
       "    </tr>\n",
       "    <tr>\n",
       "      <td>13</td>\n",
       "      <td></td>\n",
       "      <td>https://iz.ru/998981/2020-04-13/sberbank-predu...</td>\n",
       "      <td>13</td>\n",
       "    </tr>\n",
       "    <tr>\n",
       "      <td>14</td>\n",
       "      <td>Авторское право на систему визуа...</td>\n",
       "      <td>https://iz.ru/998981/2020-04-13/sberbank-predu...</td>\n",
       "      <td>14</td>\n",
       "    </tr>\n",
       "    <tr>\n",
       "      <td>15</td>\n",
       "      <td>Частичное цитирование возможно т...</td>\n",
       "      <td>https://iz.ru/998981/2020-04-13/sberbank-predu...</td>\n",
       "      <td>15</td>\n",
       "    </tr>\n",
       "    <tr>\n",
       "      <td>16</td>\n",
       "      <td>АО «АБ «РОССИЯ» — партнер рубрик...</td>\n",
       "      <td>https://iz.ru/998981/2020-04-13/sberbank-predu...</td>\n",
       "      <td>16</td>\n",
       "    </tr>\n",
       "    <tr>\n",
       "      <td>17</td>\n",
       "      <td>Сайт функционирует при финансово...</td>\n",
       "      <td>https://iz.ru/998981/2020-04-13/sberbank-predu...</td>\n",
       "      <td>17</td>\n",
       "    </tr>\n",
       "    <tr>\n",
       "      <td>18</td>\n",
       "      <td>Ответственность за содержание лю...</td>\n",
       "      <td>https://iz.ru/998981/2020-04-13/sberbank-predu...</td>\n",
       "      <td>18</td>\n",
       "    </tr>\n",
       "    <tr>\n",
       "      <td>19</td>\n",
       "      <td>Новости, аналитика, прогнозы и д...</td>\n",
       "      <td>https://iz.ru/998981/2020-04-13/sberbank-predu...</td>\n",
       "      <td>19</td>\n",
       "    </tr>\n",
       "    <tr>\n",
       "      <td>20</td>\n",
       "      <td>Зарегистрировано Федеральной слу...</td>\n",
       "      <td>https://iz.ru/998981/2020-04-13/sberbank-predu...</td>\n",
       "      <td>20</td>\n",
       "    </tr>\n",
       "    <tr>\n",
       "      <td>21</td>\n",
       "      <td>Все права защищены © ООО «МИЦ «И...</td>\n",
       "      <td>https://iz.ru/998981/2020-04-13/sberbank-predu...</td>\n",
       "      <td>21</td>\n",
       "    </tr>\n",
       "  </tbody>\n",
       "</table>\n",
       "</div>"
      ],
      "text/plain": [
       "                                       paragraph-text  \\\n",
       "0                             Сайт функционирует п...   \n",
       "1                             Зарегистрировано Фед...   \n",
       "2                             Все права защищены ©...   \n",
       "3   Сбербанк зафиксировал несколько новых мошеннич...   \n",
       "4   Одной из схем является якобы компенсация за ущ...   \n",
       "5   Также мошенники адаптируются к тому, что больш...   \n",
       "6   Еще одной схемой стали звонки преступников от ...   \n",
       "7   Некоторые злоумышленники сообщают о серьезных ...   \n",
       "8   «В целом могу сказать, что тема распространени...   \n",
       "9   Ранее, 12 апреля, власти Москвы предупредили ж...   \n",
       "10  Согласно порталу стопкоронавирус.рф, в России ...   \n",
       "11  Вся актуальная информация по ситуации с корона...   \n",
       "12                                                      \n",
       "13                                                      \n",
       "14                Авторское право на систему визуа...   \n",
       "15                Частичное цитирование возможно т...   \n",
       "16                АО «АБ «РОССИЯ» — партнер рубрик...   \n",
       "17                Сайт функционирует при финансово...   \n",
       "18                Ответственность за содержание лю...   \n",
       "19                Новости, аналитика, прогнозы и д...   \n",
       "20                Зарегистрировано Федеральной слу...   \n",
       "21                Все права защищены © ООО «МИЦ «И...   \n",
       "\n",
       "                                               source  paragraph-number  \n",
       "0   https://iz.ru/998981/2020-04-13/sberbank-predu...                 0  \n",
       "1   https://iz.ru/998981/2020-04-13/sberbank-predu...                 1  \n",
       "2   https://iz.ru/998981/2020-04-13/sberbank-predu...                 2  \n",
       "3   https://iz.ru/998981/2020-04-13/sberbank-predu...                 3  \n",
       "4   https://iz.ru/998981/2020-04-13/sberbank-predu...                 4  \n",
       "5   https://iz.ru/998981/2020-04-13/sberbank-predu...                 5  \n",
       "6   https://iz.ru/998981/2020-04-13/sberbank-predu...                 6  \n",
       "7   https://iz.ru/998981/2020-04-13/sberbank-predu...                 7  \n",
       "8   https://iz.ru/998981/2020-04-13/sberbank-predu...                 8  \n",
       "9   https://iz.ru/998981/2020-04-13/sberbank-predu...                 9  \n",
       "10  https://iz.ru/998981/2020-04-13/sberbank-predu...                10  \n",
       "11  https://iz.ru/998981/2020-04-13/sberbank-predu...                11  \n",
       "12  https://iz.ru/998981/2020-04-13/sberbank-predu...                12  \n",
       "13  https://iz.ru/998981/2020-04-13/sberbank-predu...                13  \n",
       "14  https://iz.ru/998981/2020-04-13/sberbank-predu...                14  \n",
       "15  https://iz.ru/998981/2020-04-13/sberbank-predu...                15  \n",
       "16  https://iz.ru/998981/2020-04-13/sberbank-predu...                16  \n",
       "17  https://iz.ru/998981/2020-04-13/sberbank-predu...                17  \n",
       "18  https://iz.ru/998981/2020-04-13/sberbank-predu...                18  \n",
       "19  https://iz.ru/998981/2020-04-13/sberbank-predu...                19  \n",
       "20  https://iz.ru/998981/2020-04-13/sberbank-predu...                20  \n",
       "21  https://iz.ru/998981/2020-04-13/sberbank-predu...                21  "
      ]
     },
     "execution_count": 16,
     "metadata": {},
     "output_type": "execute_result"
    }
   ],
   "source": [
    "contentParagraphsDF['source'] = [izvestiia_article2] * len(contentParagraphsDF['paragraph-text'])\n",
    "contentParagraphsDF['paragraph-number'] = range(len(contentParagraphsDF['paragraph-text']))\n",
    "\n",
    "contentParagraphsDF"
   ]
  },
  {
   "cell_type": "code",
   "execution_count": 17,
   "metadata": {},
   "outputs": [],
   "source": [
    "contentParagraphsDF['source-paragraph-number'] = [None] * len(contentParagraphsDF['paragraph-text'])\n",
    "contentParagraphsDF['source-paragraph-text'] = [None] * len(contentParagraphsDF['paragraph-text'])\n",
    "\n",
    "def getTextFromIzvestiiaPage(targetURL, sourceParNum, sourceText):\n",
    "    #Make a dict to store data before adding it to the DataFrame\n",
    "    parsDict = {'source' : [], 'paragraph-number' : [], 'paragraph-text' : [], 'source-paragraph-number' : [],  'source-paragraph-text' : []}\n",
    "    #Now we get the page\n",
    "    r = requests.get(targetURL)\n",
    "    soup = bs4.BeautifulSoup(r.text, 'html.parser')\n",
    "    #enumerating gives use the paragraph number\n",
    "    for parNum, pTag in enumerate(soup.body.findAll('p')):\n",
    "        #same regex as before\n",
    "        parsDict['paragraph-text'].append(re.sub(r'\\[\\d+\\]', '', pTag.text))\n",
    "        parsDict['paragraph-number'].append(parNum)\n",
    "        parsDict['source'].append(targetURL)\n",
    "        parsDict['source-paragraph-number'].append(sourceParNum)\n",
    "        parsDict['source-paragraph-text'].append(sourceText)\n",
    "    return pandas.DataFrame(parsDict)"
   ]
  },
  {
   "cell_type": "code",
   "execution_count": 18,
   "metadata": {},
   "outputs": [
    {
     "data": {
      "text/html": [
       "<div>\n",
       "<style scoped>\n",
       "    .dataframe tbody tr th:only-of-type {\n",
       "        vertical-align: middle;\n",
       "    }\n",
       "\n",
       "    .dataframe tbody tr th {\n",
       "        vertical-align: top;\n",
       "    }\n",
       "\n",
       "    .dataframe thead th {\n",
       "        text-align: right;\n",
       "    }\n",
       "</style>\n",
       "<table border=\"1\" class=\"dataframe\">\n",
       "  <thead>\n",
       "    <tr style=\"text-align: right;\">\n",
       "      <th></th>\n",
       "      <th>paragraph-number</th>\n",
       "      <th>paragraph-text</th>\n",
       "      <th>source</th>\n",
       "      <th>source-paragraph-number</th>\n",
       "      <th>source-paragraph-text</th>\n",
       "    </tr>\n",
       "  </thead>\n",
       "  <tbody>\n",
       "    <tr>\n",
       "      <td>0</td>\n",
       "      <td>0</td>\n",
       "      <td>Сайт функционирует п...</td>\n",
       "      <td>https://iz.ru/998981/2020-04-13/sberbank-predu...</td>\n",
       "      <td>None</td>\n",
       "      <td>None</td>\n",
       "    </tr>\n",
       "    <tr>\n",
       "      <td>1</td>\n",
       "      <td>1</td>\n",
       "      <td>Зарегистрировано Фед...</td>\n",
       "      <td>https://iz.ru/998981/2020-04-13/sberbank-predu...</td>\n",
       "      <td>None</td>\n",
       "      <td>None</td>\n",
       "    </tr>\n",
       "    <tr>\n",
       "      <td>2</td>\n",
       "      <td>2</td>\n",
       "      <td>Все права защищены ©...</td>\n",
       "      <td>https://iz.ru/998981/2020-04-13/sberbank-predu...</td>\n",
       "      <td>None</td>\n",
       "      <td>None</td>\n",
       "    </tr>\n",
       "    <tr>\n",
       "      <td>3</td>\n",
       "      <td>3</td>\n",
       "      <td>Сбербанк зафиксировал несколько новых мошеннич...</td>\n",
       "      <td>https://iz.ru/998981/2020-04-13/sberbank-predu...</td>\n",
       "      <td>None</td>\n",
       "      <td>None</td>\n",
       "    </tr>\n",
       "    <tr>\n",
       "      <td>4</td>\n",
       "      <td>4</td>\n",
       "      <td>Одной из схем является якобы компенсация за ущ...</td>\n",
       "      <td>https://iz.ru/998981/2020-04-13/sberbank-predu...</td>\n",
       "      <td>None</td>\n",
       "      <td>None</td>\n",
       "    </tr>\n",
       "    <tr>\n",
       "      <td>5</td>\n",
       "      <td>5</td>\n",
       "      <td>Также мошенники адаптируются к тому, что больш...</td>\n",
       "      <td>https://iz.ru/998981/2020-04-13/sberbank-predu...</td>\n",
       "      <td>None</td>\n",
       "      <td>None</td>\n",
       "    </tr>\n",
       "    <tr>\n",
       "      <td>6</td>\n",
       "      <td>6</td>\n",
       "      <td>Еще одной схемой стали звонки преступников от ...</td>\n",
       "      <td>https://iz.ru/998981/2020-04-13/sberbank-predu...</td>\n",
       "      <td>None</td>\n",
       "      <td>None</td>\n",
       "    </tr>\n",
       "    <tr>\n",
       "      <td>7</td>\n",
       "      <td>7</td>\n",
       "      <td>Некоторые злоумышленники сообщают о серьезных ...</td>\n",
       "      <td>https://iz.ru/998981/2020-04-13/sberbank-predu...</td>\n",
       "      <td>None</td>\n",
       "      <td>None</td>\n",
       "    </tr>\n",
       "    <tr>\n",
       "      <td>8</td>\n",
       "      <td>8</td>\n",
       "      <td>«В целом могу сказать, что тема распространени...</td>\n",
       "      <td>https://iz.ru/998981/2020-04-13/sberbank-predu...</td>\n",
       "      <td>None</td>\n",
       "      <td>None</td>\n",
       "    </tr>\n",
       "    <tr>\n",
       "      <td>9</td>\n",
       "      <td>9</td>\n",
       "      <td>Ранее, 12 апреля, власти Москвы предупредили ж...</td>\n",
       "      <td>https://iz.ru/998981/2020-04-13/sberbank-predu...</td>\n",
       "      <td>None</td>\n",
       "      <td>None</td>\n",
       "    </tr>\n",
       "    <tr>\n",
       "      <td>10</td>\n",
       "      <td>10</td>\n",
       "      <td>Согласно порталу стопкоронавирус.рф, в России ...</td>\n",
       "      <td>https://iz.ru/998981/2020-04-13/sberbank-predu...</td>\n",
       "      <td>None</td>\n",
       "      <td>None</td>\n",
       "    </tr>\n",
       "    <tr>\n",
       "      <td>11</td>\n",
       "      <td>11</td>\n",
       "      <td>Вся актуальная информация по ситуации с корона...</td>\n",
       "      <td>https://iz.ru/998981/2020-04-13/sberbank-predu...</td>\n",
       "      <td>None</td>\n",
       "      <td>None</td>\n",
       "    </tr>\n",
       "    <tr>\n",
       "      <td>12</td>\n",
       "      <td>12</td>\n",
       "      <td></td>\n",
       "      <td>https://iz.ru/998981/2020-04-13/sberbank-predu...</td>\n",
       "      <td>None</td>\n",
       "      <td>None</td>\n",
       "    </tr>\n",
       "    <tr>\n",
       "      <td>13</td>\n",
       "      <td>13</td>\n",
       "      <td></td>\n",
       "      <td>https://iz.ru/998981/2020-04-13/sberbank-predu...</td>\n",
       "      <td>None</td>\n",
       "      <td>None</td>\n",
       "    </tr>\n",
       "    <tr>\n",
       "      <td>14</td>\n",
       "      <td>14</td>\n",
       "      <td>Авторское право на систему визуа...</td>\n",
       "      <td>https://iz.ru/998981/2020-04-13/sberbank-predu...</td>\n",
       "      <td>None</td>\n",
       "      <td>None</td>\n",
       "    </tr>\n",
       "    <tr>\n",
       "      <td>15</td>\n",
       "      <td>15</td>\n",
       "      <td>Частичное цитирование возможно т...</td>\n",
       "      <td>https://iz.ru/998981/2020-04-13/sberbank-predu...</td>\n",
       "      <td>None</td>\n",
       "      <td>None</td>\n",
       "    </tr>\n",
       "    <tr>\n",
       "      <td>16</td>\n",
       "      <td>16</td>\n",
       "      <td>АО «АБ «РОССИЯ» — партнер рубрик...</td>\n",
       "      <td>https://iz.ru/998981/2020-04-13/sberbank-predu...</td>\n",
       "      <td>None</td>\n",
       "      <td>None</td>\n",
       "    </tr>\n",
       "    <tr>\n",
       "      <td>17</td>\n",
       "      <td>17</td>\n",
       "      <td>Сайт функционирует при финансово...</td>\n",
       "      <td>https://iz.ru/998981/2020-04-13/sberbank-predu...</td>\n",
       "      <td>None</td>\n",
       "      <td>None</td>\n",
       "    </tr>\n",
       "    <tr>\n",
       "      <td>18</td>\n",
       "      <td>18</td>\n",
       "      <td>Ответственность за содержание лю...</td>\n",
       "      <td>https://iz.ru/998981/2020-04-13/sberbank-predu...</td>\n",
       "      <td>None</td>\n",
       "      <td>None</td>\n",
       "    </tr>\n",
       "    <tr>\n",
       "      <td>19</td>\n",
       "      <td>19</td>\n",
       "      <td>Новости, аналитика, прогнозы и д...</td>\n",
       "      <td>https://iz.ru/998981/2020-04-13/sberbank-predu...</td>\n",
       "      <td>None</td>\n",
       "      <td>None</td>\n",
       "    </tr>\n",
       "    <tr>\n",
       "      <td>20</td>\n",
       "      <td>20</td>\n",
       "      <td>Зарегистрировано Федеральной слу...</td>\n",
       "      <td>https://iz.ru/998981/2020-04-13/sberbank-predu...</td>\n",
       "      <td>None</td>\n",
       "      <td>None</td>\n",
       "    </tr>\n",
       "    <tr>\n",
       "      <td>21</td>\n",
       "      <td>21</td>\n",
       "      <td>Все права защищены © ООО «МИЦ «И...</td>\n",
       "      <td>https://iz.ru/998981/2020-04-13/sberbank-predu...</td>\n",
       "      <td>None</td>\n",
       "      <td>None</td>\n",
       "    </tr>\n",
       "    <tr>\n",
       "      <td>22</td>\n",
       "      <td>0</td>\n",
       "      <td>\\n                          Сайт функционирует...</td>\n",
       "      <td>https://iz.ru/998961/2020-04-13/vlasti-moskvy-...</td>\n",
       "      <td>9</td>\n",
       "      <td>предупредили жителей о мошенниках</td>\n",
       "    </tr>\n",
       "    <tr>\n",
       "      <td>23</td>\n",
       "      <td>1</td>\n",
       "      <td>\\n                          Зарегистрировано Ф...</td>\n",
       "      <td>https://iz.ru/998961/2020-04-13/vlasti-moskvy-...</td>\n",
       "      <td>9</td>\n",
       "      <td>предупредили жителей о мошенниках</td>\n",
       "    </tr>\n",
       "    <tr>\n",
       "      <td>24</td>\n",
       "      <td>2</td>\n",
       "      <td>\\n                          Все права защищены...</td>\n",
       "      <td>https://iz.ru/998961/2020-04-13/vlasti-moskvy-...</td>\n",
       "      <td>9</td>\n",
       "      <td>предупредили жителей о мошенниках</td>\n",
       "    </tr>\n",
       "    <tr>\n",
       "      <td>25</td>\n",
       "      <td>3</td>\n",
       "      <td>Жителей Москвы предупредили о мошенниках, кото...</td>\n",
       "      <td>https://iz.ru/998961/2020-04-13/vlasti-moskvy-...</td>\n",
       "      <td>9</td>\n",
       "      <td>предупредили жителей о мошенниках</td>\n",
       "    </tr>\n",
       "    <tr>\n",
       "      <td>26</td>\n",
       "      <td>4</td>\n",
       "      <td>Отмечается, что они запрашивают персональные д...</td>\n",
       "      <td>https://iz.ru/998961/2020-04-13/vlasti-moskvy-...</td>\n",
       "      <td>9</td>\n",
       "      <td>предупредили жителей о мошенниках</td>\n",
       "    </tr>\n",
       "    <tr>\n",
       "      <td>27</td>\n",
       "      <td>5</td>\n",
       "      <td>Также в ведомстве рассказали, что оформление п...</td>\n",
       "      <td>https://iz.ru/998961/2020-04-13/vlasti-moskvy-...</td>\n",
       "      <td>9</td>\n",
       "      <td>предупредили жителей о мошенниках</td>\n",
       "    </tr>\n",
       "    <tr>\n",
       "      <td>28</td>\n",
       "      <td>6</td>\n",
       "      <td>10 апреля мэр Москвы Сергей Собянин заявил об ...</td>\n",
       "      <td>https://iz.ru/998961/2020-04-13/vlasti-moskvy-...</td>\n",
       "      <td>9</td>\n",
       "      <td>предупредили жителей о мошенниках</td>\n",
       "    </tr>\n",
       "    <tr>\n",
       "      <td>29</td>\n",
       "      <td>7</td>\n",
       "      <td></td>\n",
       "      <td>https://iz.ru/998961/2020-04-13/vlasti-moskvy-...</td>\n",
       "      <td>9</td>\n",
       "      <td>предупредили жителей о мошенниках</td>\n",
       "    </tr>\n",
       "    <tr>\n",
       "      <td>30</td>\n",
       "      <td>8</td>\n",
       "      <td></td>\n",
       "      <td>https://iz.ru/998961/2020-04-13/vlasti-moskvy-...</td>\n",
       "      <td>9</td>\n",
       "      <td>предупредили жителей о мошенниках</td>\n",
       "    </tr>\n",
       "    <tr>\n",
       "      <td>31</td>\n",
       "      <td>9</td>\n",
       "      <td>Согласно порталу стопкоронавирус.рф, в России ...</td>\n",
       "      <td>https://iz.ru/998961/2020-04-13/vlasti-moskvy-...</td>\n",
       "      <td>9</td>\n",
       "      <td>предупредили жителей о мошенниках</td>\n",
       "    </tr>\n",
       "    <tr>\n",
       "      <td>32</td>\n",
       "      <td>10</td>\n",
       "      <td>Вся актуальная информация по ситуации с корона...</td>\n",
       "      <td>https://iz.ru/998961/2020-04-13/vlasti-moskvy-...</td>\n",
       "      <td>9</td>\n",
       "      <td>предупредили жителей о мошенниках</td>\n",
       "    </tr>\n",
       "    <tr>\n",
       "      <td>33</td>\n",
       "      <td>11</td>\n",
       "      <td></td>\n",
       "      <td>https://iz.ru/998961/2020-04-13/vlasti-moskvy-...</td>\n",
       "      <td>9</td>\n",
       "      <td>предупредили жителей о мошенниках</td>\n",
       "    </tr>\n",
       "    <tr>\n",
       "      <td>34</td>\n",
       "      <td>12</td>\n",
       "      <td></td>\n",
       "      <td>https://iz.ru/998961/2020-04-13/vlasti-moskvy-...</td>\n",
       "      <td>9</td>\n",
       "      <td>предупредили жителей о мошенниках</td>\n",
       "    </tr>\n",
       "    <tr>\n",
       "      <td>35</td>\n",
       "      <td>13</td>\n",
       "      <td>\\n              Авторское право на систему виз...</td>\n",
       "      <td>https://iz.ru/998961/2020-04-13/vlasti-moskvy-...</td>\n",
       "      <td>9</td>\n",
       "      <td>предупредили жителей о мошенниках</td>\n",
       "    </tr>\n",
       "    <tr>\n",
       "      <td>36</td>\n",
       "      <td>14</td>\n",
       "      <td>\\n              Частичное цитирование возможно...</td>\n",
       "      <td>https://iz.ru/998961/2020-04-13/vlasti-moskvy-...</td>\n",
       "      <td>9</td>\n",
       "      <td>предупредили жителей о мошенниках</td>\n",
       "    </tr>\n",
       "    <tr>\n",
       "      <td>37</td>\n",
       "      <td>15</td>\n",
       "      <td>\\n              АО «АБ «РОССИЯ» — партнер рубр...</td>\n",
       "      <td>https://iz.ru/998961/2020-04-13/vlasti-moskvy-...</td>\n",
       "      <td>9</td>\n",
       "      <td>предупредили жителей о мошенниках</td>\n",
       "    </tr>\n",
       "    <tr>\n",
       "      <td>38</td>\n",
       "      <td>16</td>\n",
       "      <td>\\n              Сайт функционирует при финансо...</td>\n",
       "      <td>https://iz.ru/998961/2020-04-13/vlasti-moskvy-...</td>\n",
       "      <td>9</td>\n",
       "      <td>предупредили жителей о мошенниках</td>\n",
       "    </tr>\n",
       "    <tr>\n",
       "      <td>39</td>\n",
       "      <td>17</td>\n",
       "      <td>\\n              Ответственность за содержание ...</td>\n",
       "      <td>https://iz.ru/998961/2020-04-13/vlasti-moskvy-...</td>\n",
       "      <td>9</td>\n",
       "      <td>предупредили жителей о мошенниках</td>\n",
       "    </tr>\n",
       "    <tr>\n",
       "      <td>40</td>\n",
       "      <td>18</td>\n",
       "      <td>\\n              Новости, аналитика, прогнозы и...</td>\n",
       "      <td>https://iz.ru/998961/2020-04-13/vlasti-moskvy-...</td>\n",
       "      <td>9</td>\n",
       "      <td>предупредили жителей о мошенниках</td>\n",
       "    </tr>\n",
       "    <tr>\n",
       "      <td>41</td>\n",
       "      <td>19</td>\n",
       "      <td>\\n              Зарегистрировано Федеральной с...</td>\n",
       "      <td>https://iz.ru/998961/2020-04-13/vlasti-moskvy-...</td>\n",
       "      <td>9</td>\n",
       "      <td>предупредили жителей о мошенниках</td>\n",
       "    </tr>\n",
       "    <tr>\n",
       "      <td>42</td>\n",
       "      <td>20</td>\n",
       "      <td>\\n              Все права защищены © ООО «МИЦ ...</td>\n",
       "      <td>https://iz.ru/998961/2020-04-13/vlasti-moskvy-...</td>\n",
       "      <td>9</td>\n",
       "      <td>предупредили жителей о мошенниках</td>\n",
       "    </tr>\n",
       "  </tbody>\n",
       "</table>\n",
       "</div>"
      ],
      "text/plain": [
       "    paragraph-number                                     paragraph-text  \\\n",
       "0                  0                            Сайт функционирует п...   \n",
       "1                  1                            Зарегистрировано Фед...   \n",
       "2                  2                            Все права защищены ©...   \n",
       "3                  3  Сбербанк зафиксировал несколько новых мошеннич...   \n",
       "4                  4  Одной из схем является якобы компенсация за ущ...   \n",
       "5                  5  Также мошенники адаптируются к тому, что больш...   \n",
       "6                  6  Еще одной схемой стали звонки преступников от ...   \n",
       "7                  7  Некоторые злоумышленники сообщают о серьезных ...   \n",
       "8                  8  «В целом могу сказать, что тема распространени...   \n",
       "9                  9  Ранее, 12 апреля, власти Москвы предупредили ж...   \n",
       "10                10  Согласно порталу стопкоронавирус.рф, в России ...   \n",
       "11                11  Вся актуальная информация по ситуации с корона...   \n",
       "12                12                                                      \n",
       "13                13                                                      \n",
       "14                14                Авторское право на систему визуа...   \n",
       "15                15                Частичное цитирование возможно т...   \n",
       "16                16                АО «АБ «РОССИЯ» — партнер рубрик...   \n",
       "17                17                Сайт функционирует при финансово...   \n",
       "18                18                Ответственность за содержание лю...   \n",
       "19                19                Новости, аналитика, прогнозы и д...   \n",
       "20                20                Зарегистрировано Федеральной слу...   \n",
       "21                21                Все права защищены © ООО «МИЦ «И...   \n",
       "22                 0  \\n                          Сайт функционирует...   \n",
       "23                 1  \\n                          Зарегистрировано Ф...   \n",
       "24                 2  \\n                          Все права защищены...   \n",
       "25                 3  Жителей Москвы предупредили о мошенниках, кото...   \n",
       "26                 4  Отмечается, что они запрашивают персональные д...   \n",
       "27                 5  Также в ведомстве рассказали, что оформление п...   \n",
       "28                 6  10 апреля мэр Москвы Сергей Собянин заявил об ...   \n",
       "29                 7                                                      \n",
       "30                 8                                                      \n",
       "31                 9  Согласно порталу стопкоронавирус.рф, в России ...   \n",
       "32                10  Вся актуальная информация по ситуации с корона...   \n",
       "33                11                                                      \n",
       "34                12                                                      \n",
       "35                13  \\n              Авторское право на систему виз...   \n",
       "36                14  \\n              Частичное цитирование возможно...   \n",
       "37                15  \\n              АО «АБ «РОССИЯ» — партнер рубр...   \n",
       "38                16  \\n              Сайт функционирует при финансо...   \n",
       "39                17  \\n              Ответственность за содержание ...   \n",
       "40                18  \\n              Новости, аналитика, прогнозы и...   \n",
       "41                19  \\n              Зарегистрировано Федеральной с...   \n",
       "42                20  \\n              Все права защищены © ООО «МИЦ ...   \n",
       "\n",
       "                                               source source-paragraph-number  \\\n",
       "0   https://iz.ru/998981/2020-04-13/sberbank-predu...                    None   \n",
       "1   https://iz.ru/998981/2020-04-13/sberbank-predu...                    None   \n",
       "2   https://iz.ru/998981/2020-04-13/sberbank-predu...                    None   \n",
       "3   https://iz.ru/998981/2020-04-13/sberbank-predu...                    None   \n",
       "4   https://iz.ru/998981/2020-04-13/sberbank-predu...                    None   \n",
       "5   https://iz.ru/998981/2020-04-13/sberbank-predu...                    None   \n",
       "6   https://iz.ru/998981/2020-04-13/sberbank-predu...                    None   \n",
       "7   https://iz.ru/998981/2020-04-13/sberbank-predu...                    None   \n",
       "8   https://iz.ru/998981/2020-04-13/sberbank-predu...                    None   \n",
       "9   https://iz.ru/998981/2020-04-13/sberbank-predu...                    None   \n",
       "10  https://iz.ru/998981/2020-04-13/sberbank-predu...                    None   \n",
       "11  https://iz.ru/998981/2020-04-13/sberbank-predu...                    None   \n",
       "12  https://iz.ru/998981/2020-04-13/sberbank-predu...                    None   \n",
       "13  https://iz.ru/998981/2020-04-13/sberbank-predu...                    None   \n",
       "14  https://iz.ru/998981/2020-04-13/sberbank-predu...                    None   \n",
       "15  https://iz.ru/998981/2020-04-13/sberbank-predu...                    None   \n",
       "16  https://iz.ru/998981/2020-04-13/sberbank-predu...                    None   \n",
       "17  https://iz.ru/998981/2020-04-13/sberbank-predu...                    None   \n",
       "18  https://iz.ru/998981/2020-04-13/sberbank-predu...                    None   \n",
       "19  https://iz.ru/998981/2020-04-13/sberbank-predu...                    None   \n",
       "20  https://iz.ru/998981/2020-04-13/sberbank-predu...                    None   \n",
       "21  https://iz.ru/998981/2020-04-13/sberbank-predu...                    None   \n",
       "22  https://iz.ru/998961/2020-04-13/vlasti-moskvy-...                       9   \n",
       "23  https://iz.ru/998961/2020-04-13/vlasti-moskvy-...                       9   \n",
       "24  https://iz.ru/998961/2020-04-13/vlasti-moskvy-...                       9   \n",
       "25  https://iz.ru/998961/2020-04-13/vlasti-moskvy-...                       9   \n",
       "26  https://iz.ru/998961/2020-04-13/vlasti-moskvy-...                       9   \n",
       "27  https://iz.ru/998961/2020-04-13/vlasti-moskvy-...                       9   \n",
       "28  https://iz.ru/998961/2020-04-13/vlasti-moskvy-...                       9   \n",
       "29  https://iz.ru/998961/2020-04-13/vlasti-moskvy-...                       9   \n",
       "30  https://iz.ru/998961/2020-04-13/vlasti-moskvy-...                       9   \n",
       "31  https://iz.ru/998961/2020-04-13/vlasti-moskvy-...                       9   \n",
       "32  https://iz.ru/998961/2020-04-13/vlasti-moskvy-...                       9   \n",
       "33  https://iz.ru/998961/2020-04-13/vlasti-moskvy-...                       9   \n",
       "34  https://iz.ru/998961/2020-04-13/vlasti-moskvy-...                       9   \n",
       "35  https://iz.ru/998961/2020-04-13/vlasti-moskvy-...                       9   \n",
       "36  https://iz.ru/998961/2020-04-13/vlasti-moskvy-...                       9   \n",
       "37  https://iz.ru/998961/2020-04-13/vlasti-moskvy-...                       9   \n",
       "38  https://iz.ru/998961/2020-04-13/vlasti-moskvy-...                       9   \n",
       "39  https://iz.ru/998961/2020-04-13/vlasti-moskvy-...                       9   \n",
       "40  https://iz.ru/998961/2020-04-13/vlasti-moskvy-...                       9   \n",
       "41  https://iz.ru/998961/2020-04-13/vlasti-moskvy-...                       9   \n",
       "42  https://iz.ru/998961/2020-04-13/vlasti-moskvy-...                       9   \n",
       "\n",
       "                source-paragraph-text  \n",
       "0                                None  \n",
       "1                                None  \n",
       "2                                None  \n",
       "3                                None  \n",
       "4                                None  \n",
       "5                                None  \n",
       "6                                None  \n",
       "7                                None  \n",
       "8                                None  \n",
       "9                                None  \n",
       "10                               None  \n",
       "11                               None  \n",
       "12                               None  \n",
       "13                               None  \n",
       "14                               None  \n",
       "15                               None  \n",
       "16                               None  \n",
       "17                               None  \n",
       "18                               None  \n",
       "19                               None  \n",
       "20                               None  \n",
       "21                               None  \n",
       "22  предупредили жителей о мошенниках  \n",
       "23  предупредили жителей о мошенниках  \n",
       "24  предупредили жителей о мошенниках  \n",
       "25  предупредили жителей о мошенниках  \n",
       "26  предупредили жителей о мошенниках  \n",
       "27  предупредили жителей о мошенниках  \n",
       "28  предупредили жителей о мошенниках  \n",
       "29  предупредили жителей о мошенниках  \n",
       "30  предупредили жителей о мошенниках  \n",
       "31  предупредили жителей о мошенниках  \n",
       "32  предупредили жителей о мошенниках  \n",
       "33  предупредили жителей о мошенниках  \n",
       "34  предупредили жителей о мошенниках  \n",
       "35  предупредили жителей о мошенниках  \n",
       "36  предупредили жителей о мошенниках  \n",
       "37  предупредили жителей о мошенниках  \n",
       "38  предупредили жителей о мошенниках  \n",
       "39  предупредили жителей о мошенниках  \n",
       "40  предупредили жителей о мошенниках  \n",
       "41  предупредили жителей о мошенниках  \n",
       "42  предупредили жителей о мошенниках  "
      ]
     },
     "execution_count": 18,
     "metadata": {},
     "output_type": "execute_result"
    }
   ],
   "source": [
    "for urlTuple in otherPAgeURLS[:3]:\n",
    "    #ignore_index means the indices will not be reset after each append\n",
    "    contentParagraphsDF = contentParagraphsDF.append(getTextFromIzvestiiaPage(*urlTuple),ignore_index=True)\n",
    "contentParagraphsDF"
   ]
  },
  {
   "cell_type": "markdown",
   "metadata": {},
   "source": [
    "## API (Tumblr)\n",
    "\n",
    "Generally website owners do not like you scraping their sites. If done badly,\n",
    "scarping can act like a DOS attack so you should be careful how often you make\n",
    "calls to a site. Some sites want automated tools to access their data, so they\n",
    "create [application programming interface\n",
    "(APIs)](https://en.wikipedia.org/wiki/Application_programming_interface). An API\n",
    "specifies a procedure for an application (or script) to access their data. Often\n",
    "this is though a [representational state transfer\n",
    "(REST)](https://en.wikipedia.org/wiki/Representational_state_transfer) web\n",
    "service, which just means if you make correctly formatted HTTP requests they\n",
    "will return nicely formatted data.\n",
    "\n",
    "A nice example for us to study is [Tumblr](https://www.tumblr.com), they have a\n",
    "[simple RESTful API](https://www.tumblr.com/docs/en/api/v1) that allows you to\n",
    "read posts without any complicated html parsing.\n",
    "\n",
    "We can get the first 20 posts from a blog by making an http GET request to\n",
    "`'http://{blog}.tumblr.com/api/read/json'`, were `{blog}` is the name of the\n",
    "target blog. Lets try and get the posts from [http://lolcats-lol-\n",
    "cat.tumblr.com/](http://lolcats-lol-cat.tumblr.com/) (Note the blog says at the\n",
    "top 'One hour one pic lolcats', but the canonical name that Tumblr uses is in\n",
    "the URL 'lolcats-lol-cat')."
   ]
  },
  {
   "cell_type": "code",
   "execution_count": null,
   "metadata": {
    "collapsed": true
   },
   "outputs": [],
   "source": [
    "tumblrAPItarget = 'http://{}.tumblr.com/api/read/json'\n",
    "\n",
    "r = requests.get(tumblrAPItarget.format('lolcats-lol-cat'))\n",
    "\n",
    "print(r.text[:1000])"
   ]
  },
  {
   "cell_type": "markdown",
   "metadata": {},
   "source": [
    "This might not look very good on first inspection, but it has far fewer angle\n",
    "braces than html, which makes it easier to parse. What we have is\n",
    "[JSON](https://en.wikipedia.org/wiki/JSON) a 'human readable' text based data\n",
    "transmission format based on javascript. Luckily, we can readily convert it to a\n",
    "python `dict`."
   ]
  },
  {
   "cell_type": "code",
   "execution_count": null,
   "metadata": {
    "collapsed": true
   },
   "outputs": [],
   "source": [
    "#We need to load only the stuff between the curly braces\n",
    "d = json.loads(r.text[len('var tumblr_api_read = '):-2])\n",
    "print(d.keys())\n",
    "print(len(d['posts']))"
   ]
  },
  {
   "cell_type": "markdown",
   "metadata": {},
   "source": [
    "If we read the [API specification](https://www.tumblr.com/docs/en/api/v1), we\n",
    "will see there are a lot of things we can get if we add things to our GET\n",
    "request. First we can retrieve posts by their id number. Let's first get post\n",
    "`146020177084`."
   ]
  },
  {
   "cell_type": "code",
   "execution_count": null,
   "metadata": {
    "collapsed": true
   },
   "outputs": [],
   "source": [
    "r = requests.get(tumblrAPItarget.format('lolcats-lol-cat'), params = {'id' : 146020177084})\n",
    "d = json.loads(r.text[len('var tumblr_api_read = '):-2])\n",
    "d['posts'][0].keys()\n",
    "d['posts'][0]['photo-url-1280']\n",
    "\n",
    "with open('lolcat.gif', 'wb') as f:\n",
    "    gifRequest = requests.get(d['posts'][0]['photo-url-1280'], stream = True)\n",
    "    f.write(gifRequest.content)"
   ]
  },
  {
   "cell_type": "markdown",
   "metadata": {},
   "source": [
    "<img src='lolcat.gif'>\n",
    "\n",
    "Such beauty; such vigor (If you can't see it you have to refresh the page). Now\n",
    "we could retrieve the text from all posts as well\n",
    "as related metadata, like the post date, caption or tags. We could also get\n",
    "links to all the images."
   ]
  },
  {
   "cell_type": "code",
   "execution_count": null,
   "metadata": {
    "collapsed": true
   },
   "outputs": [],
   "source": [
    "#Putting a max in case the blog has millions of images\n",
    "#The given max will be rounded up to the nearest multiple of 50\n",
    "def tumblrImageScrape(blogName, maxImages = 200):\n",
    "    #Restating this here so the function isn't dependent on any external variables\n",
    "    tumblrAPItarget = 'http://{}.tumblr.com/api/read/json'\n",
    "\n",
    "    #There are a bunch of possible locations for the photo url\n",
    "    possiblePhotoSuffixes = [1280, 500, 400, 250, 100]\n",
    "\n",
    "    #These are the pieces of information we will be gathering,\n",
    "    #at the end we will convert this to a DataFrame.\n",
    "    #There are a few other datums we could gather like the captions\n",
    "    #you can read the Tumblr documentation to learn how to get them\n",
    "    #https://www.tumblr.com/docs/en/api/v1\n",
    "    postsData = {\n",
    "        'id' : [],\n",
    "        'photo-url' : [],\n",
    "        'date' : [],\n",
    "        'tags' : [],\n",
    "        'photo-type' : []\n",
    "    }\n",
    "\n",
    "    #Tumblr limits us to a max of 50 posts per request\n",
    "    for requestNum in range(maxImages // 50):\n",
    "        requestParams = {\n",
    "            'start' : requestNum * 50,\n",
    "            'num' : 50,\n",
    "            'type' : 'photo'\n",
    "        }\n",
    "        r = requests.get(tumblrAPItarget.format(blogName), params = requestParams)\n",
    "        requestDict = json.loads(r.text[len('var tumblr_api_read = '):-2])\n",
    "        for postDict in requestDict['posts']:\n",
    "            #We are dealing with uncleaned data, we can't trust it.\n",
    "            #Specifically, not all posts are guaranteed to have the fields we want\n",
    "            try:\n",
    "                postsData['id'].append(postDict['id'])\n",
    "                postsData['date'].append(postDict['date'])\n",
    "                postsData['tags'].append(postDict['tags'])\n",
    "            except KeyError as e:\n",
    "                raise KeyError(\"Post {} from {} is missing: {}\".format(postDict['id'], blogName, e))\n",
    "\n",
    "            foundSuffix = False\n",
    "            for suffix in possiblePhotoSuffixes:\n",
    "                try:\n",
    "                    photoURL = postDict['photo-url-{}'.format(suffix)]\n",
    "                    postsData['photo-url'].append(photoURL)\n",
    "                    postsData['photo-type'].append(photoURL.split('.')[-1])\n",
    "                    foundSuffix = True\n",
    "                    break\n",
    "                except KeyError:\n",
    "                    pass\n",
    "            if not foundSuffix:\n",
    "                #Make sure your error messages are useful\n",
    "                #You will be one of the users\n",
    "                raise KeyError(\"Post {} from {} is missing a photo url\".format(postDict['id'], blogName))\n",
    "\n",
    "    return pandas.DataFrame(postsData)\n",
    "tumblrImageScrape('lolcats-lol-cat', 50)"
   ]
  },
  {
   "cell_type": "markdown",
   "metadata": {},
   "source": [
    "Now we have the urls of a bunch of images and can run OCR on them to gather\n",
    "compelling meme narratives, accompanied by cats.\n",
    "\n",
    "# Files\n",
    "\n",
    "What if the text we want isn't on a webpage? There are a many other sources of\n",
    "text available, typically organized into *files*.\n",
    "\n",
    "## Raw text (and encoding)\n",
    "\n",
    "The most basic form of storing text is as a _raw text_ document. Source code\n",
    "(`.py`, `.r`, etc) is usually raw text as are text files (`.txt`) and those with\n",
    "many other extension (e.g., .csv, .dat, etc.). Opening an unknown file with a\n",
    "text editor is often a great way of learning what the file is.\n",
    "\n",
    "We can create a text file in python with the `open()` function"
   ]
  },
  {
   "cell_type": "code",
   "execution_count": null,
   "metadata": {
    "collapsed": true
   },
   "outputs": [],
   "source": [
    "#example_text_file = 'sometextfile.txt'\n",
    "#stringToWrite = 'A line\\nAnother line\\nA line with a few unusual symbols \\u2421 \\u241B \\u20A0 \\u20A1 \\u20A2 \\u20A3 \\u0D60\\n'\n",
    "stringToWrite = 'A line\\nAnother line\\nA line with a few unusual symbols ␡ ␛ ₠ ₡ ₢ ₣ ൠ\\n'\n",
    "\n",
    "with open(example_text_file, mode = 'w', encoding='utf-8') as f:\n",
    "    f.write(stringToWrite)"
   ]
  },
  {
   "cell_type": "markdown",
   "metadata": {},
   "source": [
    "Notice the `encoding='utf-8'` argument, which specifies how we map the bits from\n",
    "the file to the glyphs (and whitespace characters like tab (`'\\t'`) or newline\n",
    "(`'\\n'`)) on the screen. When dealing only with latin letters, arabic numerals\n",
    "and the other symbols on America keyboards you usually do not have to worry\n",
    "about encodings as the ones used today are backwards compatible with\n",
    "[ASCII](https://en.wikipedia.org/wiki/ASCII), which gives the binary\n",
    "representation of 128 characters.\n",
    "\n",
    "Some of you, however, will want to use other characters (e.g., Chinese\n",
    "characters). To solve this there is\n",
    "[Unicode](https://en.wikipedia.org/wiki/Unicode) which assigns numbers to\n",
    "symbols, e.g., 041 is `'A'` and 03A3 is `'Σ'` (numbers starting with 0 are\n",
    "hexadecimal). Often non/beyond-ASCII characters are called Unicode characters.\n",
    "Unicode contains 1,114,112 characters, about 10\\% of which have been assigned.\n",
    "Unfortunately there are many ways used to map combinations of bits to Unicode\n",
    "symbols. The ones you are likely to encounter are called by Python _utf-8_,\n",
    "_utf-16_ and _latin-1_. _utf-8_ is the standard for Linux and Mac OS while both\n",
    "_utf-16_ and _latin-1_ are used by windows. If you use the wrong encoding,\n",
    "characters can appear wrong, sometimes change in number or Python could raise an\n",
    "exception. Lets see what happens when we open the file we just created with\n",
    "different encodings."
   ]
  },
  {
   "cell_type": "code",
   "execution_count": null,
   "metadata": {
    "collapsed": true
   },
   "outputs": [],
   "source": [
    "with open(example_text_file, encoding='utf-8') as f:\n",
    "    print(\"This is with the correct encoding:\")\n",
    "    print(f.read())\n",
    "\n",
    "with open(example_text_file, encoding='latin-1') as f:\n",
    "    print(\"This is with the wrong encoding:\")\n",
    "    print(f.read())"
   ]
  },
  {
   "cell_type": "markdown",
   "metadata": {},
   "source": [
    "Notice that with _latin-1_ the unicode characters are mixed up and there are too\n",
    "many of them. You need to keep in mind encoding when obtaining text files.\n",
    "Determining the encoding can sometime involve substantial work."
   ]
  },
  {
   "cell_type": "markdown",
   "metadata": {},
   "source": [
    "We can also load many text files at once. LEts tart by looking at the Shakespeare files in the `data` directory "
   ]
  },
  {
   "cell_type": "code",
   "execution_count": null,
   "metadata": {
    "collapsed": true
   },
   "outputs": [],
   "source": [
    "with open('../data/Shakespeare/midsummer_nights_dream.txt') as f:\n",
    "    midsummer = f.read()\n",
    "print(midsummer[-700:])"
   ]
  },
  {
   "cell_type": "markdown",
   "metadata": {},
   "source": [
    "Then to load all the files in `../data/Shakespeare` we can use a for loop with `scandir`:"
   ]
  },
  {
   "cell_type": "code",
   "execution_count": null,
   "metadata": {
    "collapsed": true
   },
   "outputs": [],
   "source": [
    "targetDir = '../data/Shakespeare' #Change this to your own directory of texts\n",
    "shakespearText = []\n",
    "shakespearFileName = []\n",
    "\n",
    "for file in (file for file in os.scandir(targetDir) if file.is_file() and not file.name.startswith('.')):\n",
    "    with open(file.path, encoding=\"utf-8\") as f:\n",
    "        shakespearText.append(f.read())\n",
    "    shakespearFileName.append(file.name)"
   ]
  },
  {
   "cell_type": "markdown",
   "metadata": {},
   "source": [
    "Then we can put them all in pandas DataFrame"
   ]
  },
  {
   "cell_type": "code",
   "execution_count": null,
   "metadata": {
    "collapsed": true
   },
   "outputs": [],
   "source": [
    "shakespear_df = pandas.DataFrame({'text' : shakespearText}, index = shakespearFileName)\n",
    "shakespear_df"
   ]
  },
  {
   "cell_type": "markdown",
   "metadata": {},
   "source": [
    "Getting your text in a format like this is the first step of most analysis"
   ]
  },
  {
   "cell_type": "markdown",
   "metadata": {},
   "source": [
    "## PDF\n",
    "\n",
    "Another common way text will be stored is in a PDF file. First we will download\n",
    "a pdf in Python. To do that lets grab a chapter from\n",
    "_Speech and Language Processing_, chapter 21 is on Information Extraction which\n",
    "seems apt. It is stored as a pdf at [https://web.stanford.edu/~jurafsky/slp3/21.\n",
    "pdf](https://web.stanford.edu/~jurafsky/slp3/21.pdf) although we are downloading\n",
    "from a copy just in case Jurafsky changes their website."
   ]
  },
  {
   "cell_type": "code",
   "execution_count": null,
   "metadata": {
    "collapsed": true
   },
   "outputs": [],
   "source": [
    "#information_extraction_pdf = 'https://github.com/KnowledgeLab/content_analysis/raw/data/21.pdf'\n",
    "\n",
    "infoExtractionRequest = requests.get(information_extraction_pdf, stream=True)\n",
    "print(infoExtractionRequest.text[:1000])"
   ]
  },
  {
   "cell_type": "markdown",
   "metadata": {},
   "source": [
    "It says `'pdf'`, so thats a good sign. The rest though looks like we are having\n",
    "issues with an encoding. The random characters are not caused by our encoding\n",
    "being wrong, however. They are cause by there not being an encoding for those\n",
    "parts at all. PDFs are nominally binary files, meaning there are sections of\n",
    "binary that are specific to pdf and nothing else so you need something that\n",
    "knows about pdf to read them. To do that we will be using\n",
    "[`PyPDF2`](https://github.com/mstamy2/PyPDF2), a PDF processing library for\n",
    "Python 3.\n",
    "\n",
    "\n",
    "Because PDFs are a very complicated file format pdfminer requires a large amount\n",
    "of boilerplate code to extract text, we have written a function that takes in an\n",
    "open PDF file and returns the text so you don't have to."
   ]
  },
  {
   "cell_type": "code",
   "execution_count": null,
   "metadata": {
    "collapsed": true
   },
   "outputs": [],
   "source": [
    "def readPDF(pdfFile):\n",
    "    #Based on code from http://stackoverflow.com/a/20905381/4955164\n",
    "    #Using utf-8, if there are a bunch of random symbols try changing this\n",
    "    codec = 'utf-8'\n",
    "    rsrcmgr = pdfminer.pdfinterp.PDFResourceManager()\n",
    "    retstr = io.StringIO()\n",
    "    layoutParams = pdfminer.layout.LAParams()\n",
    "    device = pdfminer.converter.TextConverter(rsrcmgr, retstr, laparams = layoutParams, codec = codec)\n",
    "    #We need a device and an interpreter\n",
    "    interpreter = pdfminer.pdfinterp.PDFPageInterpreter(rsrcmgr, device)\n",
    "    password = ''\n",
    "    maxpages = 0\n",
    "    caching = True\n",
    "    pagenos=set()\n",
    "    for page in pdfminer.pdfpage.PDFPage.get_pages(pdfFile, pagenos, maxpages=maxpages, password=password,caching=caching, check_extractable=True):\n",
    "        interpreter.process_page(page)\n",
    "    device.close()\n",
    "    returnedString = retstr.getvalue()\n",
    "    retstr.close()\n",
    "    return returnedString"
   ]
  },
  {
   "cell_type": "markdown",
   "metadata": {},
   "source": [
    "First we need to take the response object and convert it into a 'file like'\n",
    "object so that pdfminer can read it. To do this we will use `io`'s `BytesIO`."
   ]
  },
  {
   "cell_type": "code",
   "execution_count": null,
   "metadata": {
    "collapsed": true
   },
   "outputs": [],
   "source": [
    "infoExtractionBytes = io.BytesIO(infoExtractionRequest.content)"
   ]
  },
  {
   "cell_type": "markdown",
   "metadata": {},
   "source": [
    "Now we can give it to pdfminer."
   ]
  },
  {
   "cell_type": "code",
   "execution_count": null,
   "metadata": {
    "collapsed": true
   },
   "outputs": [],
   "source": [
    "print(readPDF(infoExtractionBytes)[:550])"
   ]
  },
  {
   "cell_type": "markdown",
   "metadata": {},
   "source": [
    "From here we can either look at the full text or fiddle with our PDF reader and\n",
    "get more information about individual blocks of text.\n",
    "\n",
    "## Word Docs\n",
    "\n",
    "The other type of document you are likely to encounter is the `.docx`, these are\n",
    "actually a version of [XML](https://en.wikipedia.org/wiki/Office_Open_XML), just\n",
    "like HTML, and like HTML we will use a specialized parser.\n",
    "\n",
    "For this class we will use [`python-docx`](https://python-\n",
    "docx.readthedocs.io/en/latest/) which provides a nice simple interface for\n",
    "reading `.docx` files"
   ]
  },
  {
   "cell_type": "code",
   "execution_count": null,
   "metadata": {
    "collapsed": true
   },
   "outputs": [],
   "source": [
    "#example_docx = 'https://github.com/KnowledgeLab/content_analysis/raw/data/example_doc.docx'\n",
    "\n",
    "r = requests.get(example_docx, stream=True)\n",
    "d = docx.Document(io.BytesIO(r.content))\n",
    "for paragraph in d.paragraphs[:7]:\n",
    "    print(paragraph.text)"
   ]
  },
  {
   "cell_type": "markdown",
   "metadata": {},
   "source": [
    "This procedure uses the `io.BytesIO` class again, since `docx.Document` expects\n",
    "a file. Another way to do it is to save the document to a file and then read it\n",
    "like any other file. If we do this we can either delete the file afterwords, or\n",
    "save it and avoid downloading the following time.\n",
    "\n",
    "This function is useful as a part of many different tasks so it and others like it will be added to the helper package `lucem_illud_2020` so we can use it later without having to retype it."
   ]
  },
  {
   "cell_type": "code",
   "execution_count": null,
   "metadata": {
    "collapsed": true
   },
   "outputs": [],
   "source": [
    "def downloadIfNeeded(targetURL, outputFile, **openkwargs):\n",
    "    if not os.path.isfile(outputFile):\n",
    "        outputDir = os.path.dirname(outputFile)\n",
    "        #This function is a more general os.mkdir()\n",
    "        if len(outputDir) > 0:\n",
    "            os.makedirs(outputDir, exist_ok = True)\n",
    "        r = requests.get(targetURL, stream=True)\n",
    "        #Using a closure like this is generally better than having to\n",
    "        #remember to close the file. There are ways to make this function\n",
    "        #work as a closure too\n",
    "        with open(outputFile, 'wb') as f:\n",
    "            f.write(r.content)\n",
    "    return open(outputFile, **openkwargs)"
   ]
  },
  {
   "cell_type": "markdown",
   "metadata": {},
   "source": [
    "This function will download, save and open `outputFile` as `outputFile` or just\n",
    "open it if `outputFile` exists. By default `open()` will open the file as read\n",
    "only text with the local encoding, which may cause issues if its not a text\n",
    "file."
   ]
  },
  {
   "cell_type": "code",
   "execution_count": null,
   "metadata": {
    "collapsed": true
   },
   "outputs": [],
   "source": [
    "try:\n",
    "    d = docx.Document(downloadIfNeeded(example_docx, example_docx_save))\n",
    "except Exception as e:\n",
    "    print(e)"
   ]
  },
  {
   "cell_type": "markdown",
   "metadata": {},
   "source": [
    "We need to tell `open()` to read in binary mode (`'rb'`), this is why we added\n",
    "`**openkwargs`, this allows us to pass any keyword arguments (kwargs) from\n",
    "`downloadIfNeeded` to `open()`."
   ]
  },
  {
   "cell_type": "code",
   "execution_count": null,
   "metadata": {
    "collapsed": true
   },
   "outputs": [],
   "source": [
    "d = docx.Document(downloadIfNeeded(example_docx, example_docx_save, mode = 'rb'))\n",
    "for paragraph in d.paragraphs[:7]:\n",
    "    print(paragraph.text)"
   ]
  },
  {
   "cell_type": "markdown",
   "metadata": {},
   "source": [
    "Now we can read the file with `docx.Document` and not have to wait for it to be\n",
    "downloaded every time."
   ]
  },
  {
   "cell_type": "markdown",
   "metadata": {},
   "source": [
    "\n",
    "# <span style=\"color:red\">Section 3</span>\n",
    "<span style=\"color:red\">Construct cells immediately below this that extract and organize textual content from text, PDF or Word into a pandas dataframe.</span>\n"
   ]
  },
  {
   "cell_type": "code",
   "execution_count": 19,
   "metadata": {},
   "outputs": [],
   "source": [
    "targetDir = '/Users/Leha/Desktop/Izvestia/Abby_Fine_Reader_Extracted_Text/1997_txt' #Change this to your own directory of texts\n",
    "izvestiiaText = []\n",
    "izvestiiaFileName = []\n",
    "\n",
    "for file in (file for file in os.scandir(targetDir) if file.is_file() and not file.name.startswith('.')):\n",
    "    with open(file.path, encoding=\"utf-8\") as f:\n",
    "        izvestiiaText.append(f.read())\n",
    "    izvestiiaFileName.append(file.name)"
   ]
  },
  {
   "cell_type": "code",
   "execution_count": 20,
   "metadata": {},
   "outputs": [
    {
     "data": {
      "text/html": [
       "<div>\n",
       "<style scoped>\n",
       "    .dataframe tbody tr th:only-of-type {\n",
       "        vertical-align: middle;\n",
       "    }\n",
       "\n",
       "    .dataframe tbody tr th {\n",
       "        vertical-align: top;\n",
       "    }\n",
       "\n",
       "    .dataframe thead th {\n",
       "        text-align: right;\n",
       "    }\n",
       "</style>\n",
       "<table border=\"1\" class=\"dataframe\">\n",
       "  <thead>\n",
       "    <tr style=\"text-align: right;\">\n",
       "      <th></th>\n",
       "      <th>text</th>\n",
       "    </tr>\n",
       "  </thead>\n",
       "  <tbody>\n",
       "    <tr>\n",
       "      <td>1997 Issue 246 December 30 Page 9.txt</td>\n",
       "      <td>﻿ФИНАНСОВЫЕ ИЗВЕСТИЯ Ко 99 &lt;459)\\nБАНКИ И ФИНА...</td>\n",
       "    </tr>\n",
       "    <tr>\n",
       "      <td>1997 Issue 133 July 18 Page 3.txt</td>\n",
       "      <td>﻿№ 133 •\\nИЗВЕСТИЯ\\n18 июля 1997 года *\\nВерса...</td>\n",
       "    </tr>\n",
       "    <tr>\n",
       "      <td>1997 Issue 133 July 18 Page 2.txt</td>\n",
       "      <td>﻿N9 133 •\\nИЗВЕСТИЯ\\n\\nОТ НАШИХ ■ корреспонден...</td>\n",
       "    </tr>\n",
       "    <tr>\n",
       "      <td>1997 Issue 151 August 13 Page 6.txt</td>\n",
       "      <td>﻿N9 151 •\\nИЗВЕСТИЯ\\n13 августа 1997 года •\\n•...</td>\n",
       "    </tr>\n",
       "    <tr>\n",
       "      <td>1997 Issue 246 December 30 Page 8.txt</td>\n",
       "      <td>﻿II • 30 декабря 1997 г., вторник\\nБИЗНЕС И ЭК...</td>\n",
       "    </tr>\n",
       "    <tr>\n",
       "      <td>1997 Issue 151 August 13 Page 4.txt</td>\n",
       "      <td>﻿N6 151 •\\n13 августа 1997 года ♦\\nУГй/№ НЕФТЕ...</td>\n",
       "    </tr>\n",
       "    <tr>\n",
       "      <td>1997 Issue 133 July 18 Page 1.txt</td>\n",
       "      <td>﻿ж\\n«Я НЕ НАСТОЛЬКО ПОДЛ,\\nЧТОБЫ БЫТЬ ПЕССИМИС...</td>\n",
       "    </tr>\n",
       "    <tr>\n",
       "      <td>1997 Issue 151 August 13 Page 5.txt</td>\n",
       "      <td>﻿№ 151 •\\nИЗВЕСТИЯ\\n13 августа 1997 года *\\nНа...</td>\n",
       "    </tr>\n",
       "    <tr>\n",
       "      <td>1997 Issue 151 August 13 Page 1.txt</td>\n",
       "      <td>﻿И5ВГГТИ!\\n№ 151 (25004)\\n13 августа 1997 года...</td>\n",
       "    </tr>\n",
       "    <tr>\n",
       "      <td>1997 Issue 133 July 18 Page 5.txt</td>\n",
       "      <td>﻿N8 133 •\\n18 июля 1997 года • к\\nЗачем нам\\nС...</td>\n",
       "    </tr>\n",
       "    <tr>\n",
       "      <td>1997 Issue 133 July 18 Page 4.txt</td>\n",
       "      <td>﻿№ 133 О\\n1 КАНАЛ\\n\\n1 КАНАЛ\\n16.00,18.00,1.20...</td>\n",
       "    </tr>\n",
       "    <tr>\n",
       "      <td>1997 Issue 151 August 13 Page 2.txt</td>\n",
       "      <td>﻿I\\n№ 151 •\\nОТ НАШИХ ------------------------...</td>\n",
       "    </tr>\n",
       "    <tr>\n",
       "      <td>1997 Issue 133 July 18 Page 6.txt</td>\n",
       "      <td>﻿№ 133 «\\nИЗВЕСТИЯ\\nI июля 1997 года *\\n3\\nРН1...</td>\n",
       "    </tr>\n",
       "    <tr>\n",
       "      <td>1997 Issue 133 July 18 Page 7.txt</td>\n",
       "      <td>﻿№ 133 •\\nИЗВЕСТИЯ\\n18 июля 1997 года •\\nМирон...</td>\n",
       "    </tr>\n",
       "    <tr>\n",
       "      <td>1997 Issue 151 August 13 Page 3.txt</td>\n",
       "      <td>﻿№ 151 •\\nИЗВЕСТИЯ\\n13 августа 1997 года •\\nАм...</td>\n",
       "    </tr>\n",
       "    <tr>\n",
       "      <td>1997 Issue 170 September 09 Page 10.txt</td>\n",
       "      <td>﻿IV • 9 сентября 1997 г., вторник\\nФИНАНСОВЫЕ ...</td>\n",
       "    </tr>\n",
       "    <tr>\n",
       "      <td>1997 Issue 208 October 31 Page 6.txt</td>\n",
       "      <td>﻿№ 208\\nИЗВЕСТИЯ\\n31 октября 1997 года •\\nРН1Ы...</td>\n",
       "    </tr>\n",
       "    <tr>\n",
       "      <td>1997 Issue 208 October 31 Page 7.txt</td>\n",
       "      <td>﻿№ 208 •\\nИЗВЕСТИЯ\\n31 октября 1997 года •\\nПо...</td>\n",
       "    </tr>\n",
       "    <tr>\n",
       "      <td>1997 Issue 170 September 09 Page 11.txt</td>\n",
       "      <td>﻿ФИНАНСОВЫЕ ИЗВЕСТИЯ № 67 (418)\\nМИРОВОЙ бизне...</td>\n",
       "    </tr>\n",
       "    <tr>\n",
       "      <td>1997 Issue 208 October 31 Page 5.txt</td>\n",
       "      <td>﻿№ 208 •\\nИЗВЕСТИЯ\\n31 октября 1997 года • 5\\n...</td>\n",
       "    </tr>\n",
       "    <tr>\n",
       "      <td>1997 Issue 170 September 09 Page 8.txt</td>\n",
       "      <td>﻿II О 9 сентября 1997 г., втирниж\\nБИЗНЕС И ЭК...</td>\n",
       "    </tr>\n",
       "    <tr>\n",
       "      <td>1997 Issue 170 September 09 Page 9.txt</td>\n",
       "      <td>﻿ФИНАНСОВЫЕ ИЗВЕСТИЯ N9 67 (418)\\nБАНКИ И ФИНА...</td>\n",
       "    </tr>\n",
       "    <tr>\n",
       "      <td>1997 Issue 208 October 31 Page 4.txt</td>\n",
       "      <td>﻿№ 208 О\\nИЗВЕСТИЯ • ТВ\\n31 октября 1997 года ...</td>\n",
       "    </tr>\n",
       "    <tr>\n",
       "      <td>1997 Issue 170 September 09 Page 12.txt</td>\n",
       "      <td>﻿VI • 9 сентября 1997 г., вторник\\nФИНАНСЫ И О...</td>\n",
       "    </tr>\n",
       "    <tr>\n",
       "      <td>1997 Issue 208 October 31 Page 1.txt</td>\n",
       "      <td>﻿Газета выходит с марта 1917 года •\\t31 октябр...</td>\n",
       "    </tr>\n",
       "    <tr>\n",
       "      <td>1997 Issue 208 October 31 Page 3.txt</td>\n",
       "      <td>﻿№ 208 *\\nИЗВЕСТИЯ\\n31 октября 1997 года •\\n3\\...</td>\n",
       "    </tr>\n",
       "    <tr>\n",
       "      <td>1997 Issue 208 October 31 Page 2.txt</td>\n",
       "      <td>﻿№ 208 ♦\\n31 октября 1997 года •\\nПенсионная р...</td>\n",
       "    </tr>\n",
       "    <tr>\n",
       "      <td>1997 Issue 246 December 30 Page 14.txt</td>\n",
       "      <td>﻿VIII В 30 декабря 1997 г., вторник\\nФИНАНСЫ И...</td>\n",
       "    </tr>\n",
       "    <tr>\n",
       "      <td>1997 Issue 170 September 09 Page 2.txt</td>\n",
       "      <td>﻿№ 170 •\\nИЗВЕСТИЯ\\n9 сентября 1997 года • 1\\n...</td>\n",
       "    </tr>\n",
       "    <tr>\n",
       "      <td>1997 Issue 170 September 09 Page 3.txt</td>\n",
       "      <td>﻿№ 170 •\\nИЗВЕСТИЯ\\n9 сентября 1997 года •\\nБа...</td>\n",
       "    </tr>\n",
       "    <tr>\n",
       "      <td>1997 Issue 189 October 04 Page 1.txt</td>\n",
       "      <td>﻿Газета выходит с марта 1917 года •\\t4 октября...</td>\n",
       "    </tr>\n",
       "    <tr>\n",
       "      <td>1997 Issue 189 October 04 Page 3.txt</td>\n",
       "      <td>﻿№ 189 •\\nИЗВЕСТИЯ\\n4 октября 1997 года •\\n3\\n...</td>\n",
       "    </tr>\n",
       "    <tr>\n",
       "      <td>1997 Issue 170 September 09 Page 1.txt</td>\n",
       "      <td>﻿Лукашенко не намерен щадить\\nрепутацию Ельцин...</td>\n",
       "    </tr>\n",
       "    <tr>\n",
       "      <td>1997 Issue 189 October 04 Page 2.txt</td>\n",
       "      <td>﻿N8 189 •\\nИЗВЕСТИЯ\\n4 октября 1997 года •\\nВ....</td>\n",
       "    </tr>\n",
       "    <tr>\n",
       "      <td>1997 Issue 189 October 04 Page 6.txt</td>\n",
       "      <td>﻿№ 189 О\\nИЗВЕСТИЯ\\n4 октября 1997 года\\nПубли...</td>\n",
       "    </tr>\n",
       "    <tr>\n",
       "      <td>1997 Issue 246 December 30 Page 12.txt</td>\n",
       "      <td>﻿VI • 30 декабря 1997 г., вторник\\nФИНАНСОВЫЕ ...</td>\n",
       "    </tr>\n",
       "    <tr>\n",
       "      <td>1997 Issue 170 September 09 Page 4.txt</td>\n",
       "      <td>﻿№170 •\\nИЗВЕСТИЯ\\n9 сентября 1997 года •\\n4\\n...</td>\n",
       "    </tr>\n",
       "    <tr>\n",
       "      <td>1997 Issue 170 September 09 Page 5.txt</td>\n",
       "      <td>﻿№170 •\\nПоследний на Запад\\nВалерий ВЫЖУТОВИЧ...</td>\n",
       "    </tr>\n",
       "    <tr>\n",
       "      <td>1997 Issue 208 October 31 Page 8.txt</td>\n",
       "      <td>﻿№ 208 •\\nИЗВЕСТИЯ\\n31 октября 1997 года\\nПриз...</td>\n",
       "    </tr>\n",
       "    <tr>\n",
       "      <td>1997 Issue 246 December 30 Page 13.txt</td>\n",
       "      <td>﻿ФИНАНСОВЫЕ ИЗВЕСТИЯ Н» 99 (450)\\nМИРОВОМ БИЗН...</td>\n",
       "    </tr>\n",
       "    <tr>\n",
       "      <td>1997 Issue 189 October 04 Page 5.txt</td>\n",
       "      <td>﻿N0 189 •\\nИЗВЕСТИЯ\\n4 октября 1997 года\\n5\\nТ...</td>\n",
       "    </tr>\n",
       "    <tr>\n",
       "      <td>1997 Issue 246 December 30 Page 11.txt</td>\n",
       "      <td>﻿ФИНАНСОВЫЕ ИЗВЕС ТИЯ М (450)\\nПРОМЫШЛЕННОСТЬ\\...</td>\n",
       "    </tr>\n",
       "    <tr>\n",
       "      <td>1997 Issue 170 September 09 Page 7.txt</td>\n",
       "      <td>﻿\\nМировой лидер в Новейших сельскохозяй-' ств...</td>\n",
       "    </tr>\n",
       "    <tr>\n",
       "      <td>1997 Issue 170 September 09 Page 6.txt</td>\n",
       "      <td>﻿№170 •\\n9 сентября 1997 года\\nОАЕУУОО Е1.ЕСТА...</td>\n",
       "    </tr>\n",
       "    <tr>\n",
       "      <td>1997 Issue 246 December 30 Page 10.txt</td>\n",
       "      <td>﻿IV * ЛО лесаЛрв 1997 г., вторник\\nПРИВАТИЗАЦИ...</td>\n",
       "    </tr>\n",
       "    <tr>\n",
       "      <td>1997 Issue 189 October 04 Page 4.txt</td>\n",
       "      <td>﻿N9 189 я\\n4 октября 1997 года •\\n• Обманутые ...</td>\n",
       "    </tr>\n",
       "    <tr>\n",
       "      <td>1997 Issue 227 November 29 Page 6.txt</td>\n",
       "      <td>﻿N8 227 •\\n*—\\nИЗВЕСТИЯ\\n29 ноября 1997 года\\n...</td>\n",
       "    </tr>\n",
       "    <tr>\n",
       "      <td>1997 Issue 246 December 30 Page 1.txt</td>\n",
       "      <td>﻿Газета выходит с марта 1017 года •\\t30 декабр...</td>\n",
       "    </tr>\n",
       "    <tr>\n",
       "      <td>1997 Issue 246 December 30 Page 3.txt</td>\n",
       "      <td>﻿N9 246 •\\nИЗВЕСТИЯ\\n30 декабря 1997 года •\\n3...</td>\n",
       "    </tr>\n",
       "    <tr>\n",
       "      <td>1997 Issue 227 November 29 Page 4.txt</td>\n",
       "      <td>﻿№ 227 •\\nИЗВЕСТИЯ\\n29 ноября 1997 года •\\n• С...</td>\n",
       "    </tr>\n",
       "    <tr>\n",
       "      <td>1997 Issue 227 November 29 Page 5.txt</td>\n",
       "      <td>﻿№ 227 •\\nИЗВЕСТИЯ\\n29 ноября 1997 года •\\n5\\n...</td>\n",
       "    </tr>\n",
       "    <tr>\n",
       "      <td>1997 Issue 246 December 30 Page 2.txt</td>\n",
       "      <td>﻿№ 246 •\\nИЗВЕСТИЯ\\n30 декабря 1997 года •\\t*/...</td>\n",
       "    </tr>\n",
       "    <tr>\n",
       "      <td>1997 Issue 246 December 30 Page 6.txt</td>\n",
       "      <td>﻿№ 246 О\\nИЗВЕСТИЯ\\n30 декабря 1997 года\\nКань...</td>\n",
       "    </tr>\n",
       "    <tr>\n",
       "      <td>1997 Issue 227 November 29 Page 1.txt</td>\n",
       "      <td>﻿Г\\n• Субботний гость\\nN\\nк\\nг\\n\\n1\\nГаэета вы...</td>\n",
       "    </tr>\n",
       "    <tr>\n",
       "      <td>1997 Issue 246 December 30 Page 7.txt</td>\n",
       "      <td>﻿Мировой лидер в Текстильных материалах\\n\"ОПТИ...</td>\n",
       "    </tr>\n",
       "    <tr>\n",
       "      <td>1997 Issue 246 December 30 Page 5.txt</td>\n",
       "      <td>﻿N2 246 О\\nИЗВЕСТИЯ\\n30 декабря 1997 года •\\nГ...</td>\n",
       "    </tr>\n",
       "    <tr>\n",
       "      <td>1997 Issue 227 November 29 Page 2.txt</td>\n",
       "      <td>﻿№ 227 •\\nИЗВЕСТИЯ\\n29 ноября 1997 года •\\nИмп...</td>\n",
       "    </tr>\n",
       "    <tr>\n",
       "      <td>1997 Issue 227 November 29 Page 3.txt</td>\n",
       "      <td>﻿№ 227 •\\nИЗВЕСТИЯ\\n29 ноября 1997 года •\\n3\\n...</td>\n",
       "    </tr>\n",
       "    <tr>\n",
       "      <td>1997 Issue 246 December 30 Page 4.txt</td>\n",
       "      <td>﻿№ 246 •\\nИЗВЕСТИЯ\\n30 декабря 1997 года •\\nВз...</td>\n",
       "    </tr>\n",
       "  </tbody>\n",
       "</table>\n",
       "</div>"
      ],
      "text/plain": [
       "                                                                                      text\n",
       "1997 Issue 246 December 30 Page 9.txt    ﻿ФИНАНСОВЫЕ ИЗВЕСТИЯ Ко 99 <459)\\nБАНКИ И ФИНА...\n",
       "1997 Issue 133 July 18 Page 3.txt        ﻿№ 133 •\\nИЗВЕСТИЯ\\n18 июля 1997 года *\\nВерса...\n",
       "1997 Issue 133 July 18 Page 2.txt        ﻿N9 133 •\\nИЗВЕСТИЯ\\n\\nОТ НАШИХ ■ корреспонден...\n",
       "1997 Issue 151 August 13 Page 6.txt      ﻿N9 151 •\\nИЗВЕСТИЯ\\n13 августа 1997 года •\\n•...\n",
       "1997 Issue 246 December 30 Page 8.txt    ﻿II • 30 декабря 1997 г., вторник\\nБИЗНЕС И ЭК...\n",
       "1997 Issue 151 August 13 Page 4.txt      ﻿N6 151 •\\n13 августа 1997 года ♦\\nУГй/№ НЕФТЕ...\n",
       "1997 Issue 133 July 18 Page 1.txt        ﻿ж\\n«Я НЕ НАСТОЛЬКО ПОДЛ,\\nЧТОБЫ БЫТЬ ПЕССИМИС...\n",
       "1997 Issue 151 August 13 Page 5.txt      ﻿№ 151 •\\nИЗВЕСТИЯ\\n13 августа 1997 года *\\nНа...\n",
       "1997 Issue 151 August 13 Page 1.txt      ﻿И5ВГГТИ!\\n№ 151 (25004)\\n13 августа 1997 года...\n",
       "1997 Issue 133 July 18 Page 5.txt        ﻿N8 133 •\\n18 июля 1997 года • к\\nЗачем нам\\nС...\n",
       "1997 Issue 133 July 18 Page 4.txt        ﻿№ 133 О\\n1 КАНАЛ\\n\\n1 КАНАЛ\\n16.00,18.00,1.20...\n",
       "1997 Issue 151 August 13 Page 2.txt      ﻿I\\n№ 151 •\\nОТ НАШИХ ------------------------...\n",
       "1997 Issue 133 July 18 Page 6.txt        ﻿№ 133 «\\nИЗВЕСТИЯ\\nI июля 1997 года *\\n3\\nРН1...\n",
       "1997 Issue 133 July 18 Page 7.txt        ﻿№ 133 •\\nИЗВЕСТИЯ\\n18 июля 1997 года •\\nМирон...\n",
       "1997 Issue 151 August 13 Page 3.txt      ﻿№ 151 •\\nИЗВЕСТИЯ\\n13 августа 1997 года •\\nАм...\n",
       "1997 Issue 170 September 09 Page 10.txt  ﻿IV • 9 сентября 1997 г., вторник\\nФИНАНСОВЫЕ ...\n",
       "1997 Issue 208 October 31 Page 6.txt     ﻿№ 208\\nИЗВЕСТИЯ\\n31 октября 1997 года •\\nРН1Ы...\n",
       "1997 Issue 208 October 31 Page 7.txt     ﻿№ 208 •\\nИЗВЕСТИЯ\\n31 октября 1997 года •\\nПо...\n",
       "1997 Issue 170 September 09 Page 11.txt  ﻿ФИНАНСОВЫЕ ИЗВЕСТИЯ № 67 (418)\\nМИРОВОЙ бизне...\n",
       "1997 Issue 208 October 31 Page 5.txt     ﻿№ 208 •\\nИЗВЕСТИЯ\\n31 октября 1997 года • 5\\n...\n",
       "1997 Issue 170 September 09 Page 8.txt   ﻿II О 9 сентября 1997 г., втирниж\\nБИЗНЕС И ЭК...\n",
       "1997 Issue 170 September 09 Page 9.txt   ﻿ФИНАНСОВЫЕ ИЗВЕСТИЯ N9 67 (418)\\nБАНКИ И ФИНА...\n",
       "1997 Issue 208 October 31 Page 4.txt     ﻿№ 208 О\\nИЗВЕСТИЯ • ТВ\\n31 октября 1997 года ...\n",
       "1997 Issue 170 September 09 Page 12.txt  ﻿VI • 9 сентября 1997 г., вторник\\nФИНАНСЫ И О...\n",
       "1997 Issue 208 October 31 Page 1.txt     ﻿Газета выходит с марта 1917 года •\\t31 октябр...\n",
       "1997 Issue 208 October 31 Page 3.txt     ﻿№ 208 *\\nИЗВЕСТИЯ\\n31 октября 1997 года •\\n3\\...\n",
       "1997 Issue 208 October 31 Page 2.txt     ﻿№ 208 ♦\\n31 октября 1997 года •\\nПенсионная р...\n",
       "1997 Issue 246 December 30 Page 14.txt   ﻿VIII В 30 декабря 1997 г., вторник\\nФИНАНСЫ И...\n",
       "1997 Issue 170 September 09 Page 2.txt   ﻿№ 170 •\\nИЗВЕСТИЯ\\n9 сентября 1997 года • 1\\n...\n",
       "1997 Issue 170 September 09 Page 3.txt   ﻿№ 170 •\\nИЗВЕСТИЯ\\n9 сентября 1997 года •\\nБа...\n",
       "1997 Issue 189 October 04 Page 1.txt     ﻿Газета выходит с марта 1917 года •\\t4 октября...\n",
       "1997 Issue 189 October 04 Page 3.txt     ﻿№ 189 •\\nИЗВЕСТИЯ\\n4 октября 1997 года •\\n3\\n...\n",
       "1997 Issue 170 September 09 Page 1.txt   ﻿Лукашенко не намерен щадить\\nрепутацию Ельцин...\n",
       "1997 Issue 189 October 04 Page 2.txt     ﻿N8 189 •\\nИЗВЕСТИЯ\\n4 октября 1997 года •\\nВ....\n",
       "1997 Issue 189 October 04 Page 6.txt     ﻿№ 189 О\\nИЗВЕСТИЯ\\n4 октября 1997 года\\nПубли...\n",
       "1997 Issue 246 December 30 Page 12.txt   ﻿VI • 30 декабря 1997 г., вторник\\nФИНАНСОВЫЕ ...\n",
       "1997 Issue 170 September 09 Page 4.txt   ﻿№170 •\\nИЗВЕСТИЯ\\n9 сентября 1997 года •\\n4\\n...\n",
       "1997 Issue 170 September 09 Page 5.txt   ﻿№170 •\\nПоследний на Запад\\nВалерий ВЫЖУТОВИЧ...\n",
       "1997 Issue 208 October 31 Page 8.txt     ﻿№ 208 •\\nИЗВЕСТИЯ\\n31 октября 1997 года\\nПриз...\n",
       "1997 Issue 246 December 30 Page 13.txt   ﻿ФИНАНСОВЫЕ ИЗВЕСТИЯ Н» 99 (450)\\nМИРОВОМ БИЗН...\n",
       "1997 Issue 189 October 04 Page 5.txt     ﻿N0 189 •\\nИЗВЕСТИЯ\\n4 октября 1997 года\\n5\\nТ...\n",
       "1997 Issue 246 December 30 Page 11.txt   ﻿ФИНАНСОВЫЕ ИЗВЕС ТИЯ М (450)\\nПРОМЫШЛЕННОСТЬ\\...\n",
       "1997 Issue 170 September 09 Page 7.txt   ﻿\\nМировой лидер в Новейших сельскохозяй-' ств...\n",
       "1997 Issue 170 September 09 Page 6.txt   ﻿№170 •\\n9 сентября 1997 года\\nОАЕУУОО Е1.ЕСТА...\n",
       "1997 Issue 246 December 30 Page 10.txt   ﻿IV * ЛО лесаЛрв 1997 г., вторник\\nПРИВАТИЗАЦИ...\n",
       "1997 Issue 189 October 04 Page 4.txt     ﻿N9 189 я\\n4 октября 1997 года •\\n• Обманутые ...\n",
       "1997 Issue 227 November 29 Page 6.txt    ﻿N8 227 •\\n*—\\nИЗВЕСТИЯ\\n29 ноября 1997 года\\n...\n",
       "1997 Issue 246 December 30 Page 1.txt    ﻿Газета выходит с марта 1017 года •\\t30 декабр...\n",
       "1997 Issue 246 December 30 Page 3.txt    ﻿N9 246 •\\nИЗВЕСТИЯ\\n30 декабря 1997 года •\\n3...\n",
       "1997 Issue 227 November 29 Page 4.txt    ﻿№ 227 •\\nИЗВЕСТИЯ\\n29 ноября 1997 года •\\n• С...\n",
       "1997 Issue 227 November 29 Page 5.txt    ﻿№ 227 •\\nИЗВЕСТИЯ\\n29 ноября 1997 года •\\n5\\n...\n",
       "1997 Issue 246 December 30 Page 2.txt    ﻿№ 246 •\\nИЗВЕСТИЯ\\n30 декабря 1997 года •\\t*/...\n",
       "1997 Issue 246 December 30 Page 6.txt    ﻿№ 246 О\\nИЗВЕСТИЯ\\n30 декабря 1997 года\\nКань...\n",
       "1997 Issue 227 November 29 Page 1.txt    ﻿Г\\n• Субботний гость\\nN\\nк\\nг\\n\\n1\\nГаэета вы...\n",
       "1997 Issue 246 December 30 Page 7.txt    ﻿Мировой лидер в Текстильных материалах\\n\"ОПТИ...\n",
       "1997 Issue 246 December 30 Page 5.txt    ﻿N2 246 О\\nИЗВЕСТИЯ\\n30 декабря 1997 года •\\nГ...\n",
       "1997 Issue 227 November 29 Page 2.txt    ﻿№ 227 •\\nИЗВЕСТИЯ\\n29 ноября 1997 года •\\nИмп...\n",
       "1997 Issue 227 November 29 Page 3.txt    ﻿№ 227 •\\nИЗВЕСТИЯ\\n29 ноября 1997 года •\\n3\\n...\n",
       "1997 Issue 246 December 30 Page 4.txt    ﻿№ 246 •\\nИЗВЕСТИЯ\\n30 декабря 1997 года •\\nВз..."
      ]
     },
     "execution_count": 20,
     "metadata": {},
     "output_type": "execute_result"
    }
   ],
   "source": [
    "izvestiia_df = pandas.DataFrame({'text' : izvestiiaText}, index = izvestiiaFileName)\n",
    "izvestiia_df"
   ]
  },
  {
   "cell_type": "code",
   "execution_count": null,
   "metadata": {},
   "outputs": [],
   "source": []
  },
  {
   "cell_type": "markdown",
   "metadata": {},
   "source": [
    "### Other sources:\n",
    "\n",
    "Other popular sources for internet data:\n",
    "\n",
    "[reddit](https://www.reddit.com/) - https://praw.readthedocs.io/en/v2.1.21/\n",
    "\n",
    "[twitter](https://twitter.com/) - https://pypi.org/project/python-twitter/\n",
    "\n",
    "[project gutenburg](https://www.gutenberg.org/) - https://github.com/ageitgey/Gutenberg \n",
    "\n"
   ]
  },
  {
   "cell_type": "code",
   "execution_count": 21,
   "metadata": {},
   "outputs": [],
   "source": [
    "# unfortunately, I spent so much time trying to make Homework 1 work with Russian, that I did not have time to go back and finish this one\n",
    "# my sincerest apologies"
   ]
  },
  {
   "cell_type": "code",
   "execution_count": null,
   "metadata": {},
   "outputs": [],
   "source": []
  }
 ],
 "metadata": {
  "kernelspec": {
   "display_name": "Python 3",
   "language": "python",
   "name": "python3"
  },
  "language_info": {
   "codemirror_mode": {
    "name": "ipython",
    "version": 3
   },
   "file_extension": ".py",
   "mimetype": "text/x-python",
   "name": "python",
   "nbconvert_exporter": "python",
   "pygments_lexer": "ipython3",
   "version": "3.7.4"
  }
 },
 "nbformat": 4,
 "nbformat_minor": 2
}
