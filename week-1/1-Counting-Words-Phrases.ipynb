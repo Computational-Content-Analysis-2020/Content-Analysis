{
 "cells": [
  {
   "cell_type": "markdown",
   "metadata": {},
   "source": [
    "# Week 1 - Counting Words & Phrases\n",
    "\n",
    "This week, we take text corpora that we have developed, spidered, scraped, and encoded, and we find and count words, simple and parsed phrases and explore the statistical properties of those counts (e.g., word frequency distributions). Initially, we model how to search corpora for keywords or phrases. Next, we examine the distributions of terms and phrases across a corpus, and the correlation between different words and phrase counts. In order to do this effectively, we coarsely disambiguate words based of part-of-speech (POS) tagging, and normalize them through stemming and lemmatization. Next we distinguish *important* words and phrase within the corpus, and image them with Wordls! Then we calculate word frequenceis, conditional frequences (the frequency of word *shock* conditional on the presence of word *awe*), and statistically significant collocations of lengths 2 through $n$. Finally, we calculate and visualize Differences (Divergences and Distances) between the word frequency distributions from two corpora. \n",
    "\n",
    "Then we shift to focus not simply on the *ideas* in a corpus, but also extracting precise *claims*. This process involves a sequential pipeline of classifying and structuring tokens from text, each of which generates potentially useful data for the content analyst. Steps in this process, which we examine in this notebook, include: 1) tagging words by their part of speech (POS) to reveal the linguistic role they play in the sentence (e.g., Verb, Noun, Adjective, etc.); 2) tagging words as named entities (NER) such as places or organizations; 3) structuring or \"parsing\" sentences into nested phrases that are local to, describe or depend on one another; and 4) extracting informational claims from those phrases.\n",
    "\n",
    "We will be introducing spaCy as a package for Computational Linguistics, and also walk you through how to use the Davies Corpora. \n",
    "\n",
    "While we wish to avoid using NLTK for heavy corpus analysis, some of its smaller functions can still be useful.\n",
    "\n",
    "Of course, for final projects that draw on these tools, we encourage you to install the software on your own machines or shared servers at the university (RCC, SSRC) in order to perform these operations on much more text. \n",
    "\n",
    "For this notebook we will be using the following packages:\n"
   ]
  },
  {
   "cell_type": "code",
   "execution_count": null,
   "metadata": {
    "collapsed": true
   },
   "outputs": [],
   "source": [
    "#Special module written for this class\n",
    "#This provides access to data and to helper functions from previous weeks\n",
    "import lucem_illud_2020 #pip install git+git://github.com/Computational-Content-Analysis-2020/lucem_illud_2020.git\n",
    "\n",
    "#All these packages need to be installed from pip\n",
    "import requests #for http requests\n",
    "import pandas #gives us DataFrames\n",
    "import matplotlib.pyplot as plt #For graphics\n",
    "import wordcloud #Makes word clouds\n",
    "import numpy as np #For divergences/distances\n",
    "import scipy #For divergences/distances\n",
    "import seaborn as sns #makes our plots look nicer\n",
    "import sklearn.manifold #For a manifold plot\n",
    "import json #For API responses\n",
    "import urllib.parse #For joining urls\n",
    "\n",
    "# comp-linguistics\n",
    "import spacy\n",
    "\n",
    "#Displays the graphs\n",
    "import graphviz #You also need to install the command line graphviz\n",
    "\n",
    "#These are from the standard library\n",
    "import os.path\n",
    "import zipfile\n",
    "import subprocess\n",
    "import io\n",
    "import tempfile\n",
    "\n",
    "#This 'magic' command makes the plots work better\n",
    "#in the notebook, don't use it outside of a notebook\n",
    "%matplotlib inline"
   ]
  },
  {
   "cell_type": "markdown",
   "metadata": {},
   "source": [
    "# Retrieving exemplary corpora\n",
    "\n",
    "To get started we will need some examples. Let's start by downloading one of the corpuses from the Davies set purchased for this class and developed by a computational linguist at Brigham Young University. We can get a list of works available from the [corpora here](https://www.english-corpora.org/).\n",
    "\n",
    "In this notebook, I will be accessing the data locally - you also have access to this data through the Dropbox download link. The same code can be modified slighlty to access the rest of the corpora on RCC. \n",
    "There is a notebook describing this process in the same repository, as well as in the same directory on RCC."
   ]
  },
  {
   "cell_type": "code",
   "execution_count": null,
   "metadata": {
    "collapsed": true
   },
   "outputs": [],
   "source": [
    "corpus_name = \"/Users/hyunkukwon/Downloads/Movies\"\n",
    "\n",
    "#corpus_name = \"Movies\""
   ]
  },
  {
   "cell_type": "markdown",
   "metadata": {},
   "source": [
    "This method extracts the text from the zip files and stores the raw data."
   ]
  },
  {
   "cell_type": "code",
   "execution_count": null,
   "metadata": {
    "collapsed": true
   },
   "outputs": [],
   "source": [
    "def loadcorpus(corpus_name, corpus_style=\"text\"):\n",
    "    texts_raw = {}\n",
    "    for file in os.listdir(corpus_name + \"/\"):\n",
    "        if corpus_style in file:\n",
    "            print(file)\n",
    "            zfile = zipfile.ZipFile(corpus_name + \"/\" + file)\n",
    "            for file in zfile.namelist():\n",
    "                texts_raw[file] = []\n",
    "                with zfile.open(file) as f:\n",
    "                    for line in f:\n",
    "                        texts_raw[file].append(line)\n",
    "    return texts_raw"
   ]
  },
  {
   "cell_type": "markdown",
   "metadata": {},
   "source": [
    "Let's look at what the code chunk above does. \n",
    "\n",
    "First, \"def\" function literally defines a function. You can call the function that you defined by using the function name, which is, here, loadcorpus. \n",
    "\n",
    "Second, it might be obvious, but, in Python, + operator is used when you combine literal strings or string variables. So, \"corpus_name\" + \"/\" gets you \"corpus_name/\". For example, in my case, the corpus_name is 'Users/hyunkukwon/Downloads/Movies'; so, corpus_name + \"/\" gives me '/Users/hyunkukwon/Downloads/Movies/'. By the way, why do we use \"\" here? This is because / is an operator in itself. Using \"\" makes / a string rather than an operator. Just to let you know, you can use type() to see what's the type of something. For example, if you write type(corpus_name), it'll get you 'string'.\n",
    "\n",
    "Third, the \"os.listdir\" function is used to get the list of files in the specified directory. So, here we're trying to get all the files in the directory. \n",
    "\n",
    "But we have some problems here: \n",
    "\n",
    "(1) first problem is that we do not want to load all the files in this directory; we want to load the files that have 'text' in the file name. So, we use the \"if corpus_style in file:\" to get the files that have the textual characteristics that we specified when we defined the function (corpus_style = \"text\"). Just to clarify, specifying the corpus_style does not get us the txt. files (in other words, it's not about the file extension). \n",
    "\n",
    "(2) second problem is that the files we have are zip files. So, we should unzip it so that we can get them on Python. That's why we use ZipFile, a class of zipfile module. We use ZipFile to read and write zip files. Then we use namelist() function, which returns the list of archive members by name.\n",
    "\n",
    "Finally, append() function adds an item at the end of the list. Here, we make an empty list by doing \"texts_raw[file] = []\"; and then we open the file, get every line in the file, and then append it to the empty list. The for loop does the iteration. \n",
    "\n",
    "By the way, we used something similar above: \"texts_raw = {}\". But they're different: {} is a dictionary, while [] is a list. "
   ]
  },
  {
   "cell_type": "code",
   "execution_count": null,
   "metadata": {},
   "outputs": [],
   "source": [
    "movie_raw = loadcorpus(corpus_name)"
   ]
  },
  {
   "cell_type": "markdown",
   "metadata": {},
   "source": [
    "Why do we get this list of files? Because of the \"print(file)\" in the code chunk above. So, the list here involves all the files that have \"text\" in their file name. \n",
    "\n",
    "Let's look at one of the files:"
   ]
  },
  {
   "cell_type": "code",
   "execution_count": null,
   "metadata": {},
   "outputs": [],
   "source": [
    "movie_raw['11.txt'][0:3]"
   ]
  },
  {
   "cell_type": "markdown",
   "metadata": {},
   "source": [
    "It seems messy, but nothing we can't clean. This basic method replaces some of the issues with the formatting, and prints the errors if any for debugging. Let us clean one of the raw text files.\n",
    "\n",
    "We ignore the non-unicode data for convenience in our first pass."
   ]
  },
  {
   "cell_type": "code",
   "execution_count": null,
   "metadata": {
    "collapsed": true
   },
   "outputs": [],
   "source": [
    "def clean_raw_text(raw_texts):\n",
    "    clean_texts = []\n",
    "    for text in raw_texts:\n",
    "        try:\n",
    "            text = text.decode(\"utf-8\")\n",
    "            clean_text = text.replace(\" \\'m\", \"'m\").replace(\" \\'ll\", \"'ll\").replace(\" \\'re\", \"'re\").replace(\" \\'s\", \"'s\").replace(\" \\'re\", \"'re\").replace(\" n\\'t\", \"n't\").replace(\" \\'ve\", \"'ve\").replace(\" /'d\", \"'d\")\n",
    "            clean_texts.append(clean_text)\n",
    "        except AttributeError:\n",
    "            # print(\"ERROR CLEANING\")\n",
    "            # print(text)\n",
    "            continue\n",
    "        except UnicodeDecodeError:\n",
    "            # print(\"Unicode Error, Skip\")\n",
    "            continue\n",
    "    return clean_texts"
   ]
  },
  {
   "cell_type": "markdown",
   "metadata": {},
   "source": [
    "Now we're familiar with the code structure (such as for loop) as well as some functions (such as append). Let's briefly look at the functions that didn't appear above.\n",
    "\n",
    "replace() is a Python built-in function for strings. What it does is: it replaces the one that comes before with the one that comes later. The syntax of this function is the following: str.replace(old, new[, max]). The [, max] part is optional, and we didn't use it here. For example, text.replace(\" \\'m\", \"'m\") literally replaces /'m with 'm. \n",
    "\n",
    "decode() is a function which literally converts from one encoding scheme to the other one."
   ]
  },
  {
   "cell_type": "code",
   "execution_count": null,
   "metadata": {},
   "outputs": [],
   "source": [
    "clean_11 = clean_raw_text(movie_raw['11.txt'])"
   ]
  },
  {
   "cell_type": "code",
   "execution_count": null,
   "metadata": {},
   "outputs": [],
   "source": [
    "clean_11[1]"
   ]
  },
  {
   "cell_type": "markdown",
   "metadata": {},
   "source": [
    "This method cleaned a few basic formatting errors. You are welcome to experiment and add your own code to expand on cleaning the text. Once it begins to look the way you want it to, we can start using spaCy to do some heavier cleaning. spaCy does this through the use of language models. Make sure you have the spaCy english language model loaded. "
   ]
  },
  {
   "cell_type": "code",
   "execution_count": null,
   "metadata": {
    "collapsed": true
   },
   "outputs": [],
   "source": [
    "nlp = spacy.load(\"en\")"
   ]
  },
  {
   "cell_type": "markdown",
   "metadata": {},
   "source": [
    "This model is going to be the basis of most of the tasks which NLTK (the Natural Language Tool Kit) might have done otherwise. While NLTK uses a bunch of clunky models from multiple places, spacy neatly packs all functionality in one model. This deep trained model will start by doing our word tokenizing and normalising. These methods are already included in lucem illud, and here we will just demonstrate them outside the package so to explain what goes on under the hood.\n",
    "\n",
    "When we run text through a spacy model, it performs a lot of computation on each of the tokens. Each token is given certain attributes, such as a part of speech, information whether it is a number, a stop word, and so on. \n",
    "\n",
    "To perform a tokenization, we check if the string includes punctuation and add this token. "
   ]
  },
  {
   "cell_type": "code",
   "execution_count": null,
   "metadata": {
    "collapsed": true
   },
   "outputs": [],
   "source": [
    "def word_tokenize(word_list):\n",
    "    tokenized = []\n",
    "    # pass word list through language model.\n",
    "    doc = nlp(word_list)\n",
    "    for token in doc:\n",
    "        if not token.is_punct and len(token.text.strip()) > 0:\n",
    "            tokenized.append(token.text)\n",
    "    return tokenized"
   ]
  },
  {
   "cell_type": "markdown",
   "metadata": {},
   "source": [
    "Let's look at the cell above. What are we doing here? We want to tokenize the corpus, i.e. split the text into minimal meaningful units. To do so, we collect tokens in the document that is neither punctuation (e.g. \"?\", \",\", \"!\" etc) nor the ones the length of which is not bigger than 0. is_punct tells you if a token is a punctuation or not; so, we use \"if not\" to weed out punctuations. len(token.text.strip()) gets you the length of each string; so, we remove strings the length of which is not bigger than 0. By the way, strip() function here returns a copy of the wtring with both leading and trailing characters stripped. Since we didn't specify any characters, it merely removes the spaces before and after each string."
   ]
  },
  {
   "cell_type": "code",
   "execution_count": null,
   "metadata": {},
   "outputs": [],
   "source": [
    "word_tokenize(clean_11[1])"
   ]
  },
  {
   "cell_type": "markdown",
   "metadata": {},
   "source": [
    "You can see how the sentence is broken into its constituent words. We can then do some analysis with this. \n",
    "\n",
    "Note: we still don't know which movie this is, just that it is raw movie text data. Maybe in the process of our text cleaning and counting we will come across something!"
   ]
  },
  {
   "cell_type": "markdown",
   "metadata": {},
   "source": [
    "# Counting words\n",
    "\n",
    "If we want to do some analysis we can start by simply counting the number of times each word occurs within the corpus."
   ]
  },
  {
   "cell_type": "code",
   "execution_count": null,
   "metadata": {
    "collapsed": true
   },
   "outputs": [],
   "source": [
    "def wordCounter(wordLst):\n",
    "    wordCounts = {}\n",
    "    for word in wordLst:\n",
    "        #We usually need to normalize the case\n",
    "        wLower = word.lower()\n",
    "        if wLower in wordCounts:\n",
    "            wordCounts[wLower] += 1\n",
    "        else:\n",
    "            wordCounts[wLower] = 1\n",
    "    #convert to DataFrame\n",
    "    countsForFrame = {'word' : [], 'count' : []}\n",
    "    for w, c in wordCounts.items():\n",
    "        countsForFrame['word'].append(w)\n",
    "        countsForFrame['count'].append(c)\n",
    "    return pandas.DataFrame(countsForFrame)"
   ]
  },
  {
   "cell_type": "markdown",
   "metadata": {},
   "source": [
    "What's going on here? We first make an empty dictionary (by the way, if you're not familiar with dictionaries, you should go look it up online.) Then, we go through each word in the word list one by one with the for loop. If the word that the loop is looking at has appeared before, we add one more to the number(\"+=1\"); if it didn't appear before, we assign one to the word (\"= 1\"). \n",
    "\n",
    "And then we convert it to DataFrame. Why do we use wordCounts.items() here? Because the wordCounts that we defined above is a dictionary; and items() returns the list of all dictionary keys with values. And then we use pandas.DataFrame to convert this dictionary to DataFrame."
   ]
  },
  {
   "cell_type": "code",
   "execution_count": null,
   "metadata": {},
   "outputs": [],
   "source": [
    "countedWords = wordCounter(word_tokenize(clean_11[1]))\n",
    "countedWords[:10]"
   ]
  },
  {
   "cell_type": "markdown",
   "metadata": {},
   "source": [
    "Lets sort and plot our counts to investigate the shape of our word frequency distribution.\n",
    "\n",
    "First we need to sort the words by count."
   ]
  },
  {
   "cell_type": "code",
   "execution_count": null,
   "metadata": {},
   "outputs": [],
   "source": [
    "#Doing this in place (changing the original DataFrame) as we don't need the unsorted DataFrame\n",
    "countedWords.sort_values('count', ascending=False, inplace=True)\n",
    "countedWords[:100]"
   ]
  },
  {
   "cell_type": "markdown",
   "metadata": {},
   "source": [
    "Punctuation and very common words (articles 'a' and 'the'; prepositions 'of' and 'to') make up the most common values, but this isn't very interesting and can actually get in the way of our analysis. We may remove these 'function words' by removing according to a stopword list, setting some frequency threshold, or using a weighting scheme (like tf.idf) to decrease their influence - we will look at these methods in more detail as we go through this tutorial. "
   ]
  },
  {
   "cell_type": "code",
   "execution_count": null,
   "metadata": {},
   "outputs": [],
   "source": [
    "#Creating a figure and axis lets us do things like change the scaling or add a title\n",
    "fig = plt.figure()\n",
    "ax = fig.add_subplot(111)\n",
    "plt.plot(range(len(countedWords)), countedWords['count'])\n",
    "plt.show()"
   ]
  },
  {
   "cell_type": "markdown",
   "metadata": {},
   "source": [
    "This shows that likelihood of a word occurring is inversely proportional to its rank. This effect is called [Zipf's Law](https://en.wikipedia.org/wiki/Zipf%27s_law), and suggests that the most frequent word will occur approximately twice as often as the second most frequent word, three times as often as the third most frequent word, etc. Zipf's law is most easily observed by plotting the data on a log-log graph, with the axes being log (rank order) and log (frequency) resulting in a linear relationship."
   ]
  },
  {
   "cell_type": "code",
   "execution_count": null,
   "metadata": {},
   "outputs": [],
   "source": [
    "fig = plt.figure()\n",
    "ax = fig.add_subplot(111)\n",
    "plt.plot(range(len(countedWords)), countedWords['count'])\n",
    "ax.set_yscale('log')\n",
    "ax.set_xscale('log')\n",
    "plt.show()"
   ]
  },
  {
   "cell_type": "markdown",
   "metadata": {},
   "source": [
    "(The same relationship occurs in many other rankings, such as population ranks of cities, corporation sizes, income rankings, etc.) \n",
    "\n",
    "The distribution was imagined by Zipf to be driven by a principle of 'least effort' where speakers did not work any harder than necessary to communicate a given idea, but the basis for this relationship is still not well understood and conforms at least as well to a process of [preferential attachment](https://en.wikipedia.org/wiki/Preferential_attachment) whereby people disproportionately attend to popular words.\n"
   ]
  },
  {
   "cell_type": "markdown",
   "metadata": {},
   "source": [
    "# Getting and working with raw text\n",
    "\n",
    "First, we will retrieve a collection of press releases from a *GitHub API* that archived them, based on a number of analyses by Justin Grimmer, a political scientist whose work we will read in a few weeks!\n",
    "\n",
    "GitHub API requests are made to `'https://api.github.com/'` and responses are in JSON, similar to Tumblr's API.\n",
    "\n",
    "We will get the information on [github.com/lintool/GrimmerSenatePressReleases](https://github.com/lintool/GrimmerSenatePressReleases) as it contains a nice set documents."
   ]
  },
  {
   "cell_type": "code",
   "execution_count": null,
   "metadata": {},
   "outputs": [],
   "source": [
    "r = requests.get('https://api.github.com/repos/lintool/GrimmerSenatePressReleases')\n",
    "senateReleasesData = json.loads(r.text)\n",
    "print(senateReleasesData.keys())\n",
    "print(senateReleasesData['description'])"
   ]
  },
  {
   "cell_type": "markdown",
   "metadata": {},
   "source": [
    "What we are interested in here is the `'contents_url'`"
   ]
  },
  {
   "cell_type": "code",
   "execution_count": null,
   "metadata": {},
   "outputs": [],
   "source": [
    "print(senateReleasesData['contents_url'])"
   ]
  },
  {
   "cell_type": "markdown",
   "metadata": {},
   "source": [
    "We can use this to get any or all of the files from the repo."
   ]
  },
  {
   "cell_type": "code",
   "execution_count": null,
   "metadata": {},
   "outputs": [],
   "source": [
    "r = requests.get('https://api.github.com/repos/lintool/GrimmerSenatePressReleases/contents/raw/Whitehouse')\n",
    "whitehouseLinks = json.loads(r.text)\n",
    "whitehouseLinks[0]"
   ]
  },
  {
   "cell_type": "markdown",
   "metadata": {},
   "source": [
    "Now we have a list of information about Whitehouse press releases. Let's look at one of them."
   ]
  },
  {
   "cell_type": "code",
   "execution_count": null,
   "metadata": {},
   "outputs": [],
   "source": [
    "r = requests.get(whitehouseLinks[0]['download_url'])\n",
    "whitehouseRelease = r.text\n",
    "print(whitehouseRelease[:1000])\n",
    "len(whitehouseRelease)"
   ]
  },
  {
   "cell_type": "markdown",
   "metadata": {},
   "source": [
    "Now we have a string of correctly encoded text. For analysis of its words, next we need to tokenize it, or split it into a sequence of tokens or word instances."
   ]
  },
  {
   "cell_type": "code",
   "execution_count": null,
   "metadata": {},
   "outputs": [],
   "source": [
    "whTokens = word_tokenize(whitehouseRelease)\n",
    "whTokens[10:30]"
   ]
  },
  {
   "cell_type": "markdown",
   "metadata": {},
   "source": [
    "Previous iterations of the course used `nltk`s tokenizer, but as we saw before, we used spaCy's model (https://spacy.io/api/tokenizer). We intend to avoid using NLTK when we can - for production level code, it is a lot faster and cleaner to use spaCy.\n",
    "\n",
    "That being said, `nltk` does have some useful methods for quick analysis of small corpora. We will explore a few here, and encourage you to figure out for yourself which other ones might be useful.\n",
    "\n",
    "To use the list of tokens in `nltk`, and take advantage of functions like `concordance`, shown above, we can convert it into a `Text`."
   ]
  },
  {
   "cell_type": "code",
   "execution_count": null,
   "metadata": {
    "collapsed": true
   },
   "outputs": [],
   "source": [
    "import nltk"
   ]
  },
  {
   "cell_type": "code",
   "execution_count": null,
   "metadata": {},
   "outputs": [],
   "source": [
    "whText = nltk.Text(whTokens)\n",
    "\n",
    "whitehouseIndex = nltk.text.ConcordanceIndex(whText) \n",
    "whitehouseIndex.print_concordance('Whitehouse')"
   ]
  },
  {
   "cell_type": "markdown",
   "metadata": {},
   "source": [
    "*Note* that the `Text` class is for doing rapid, exploratory analysis. It provides an easy interface to many of the operations we want to do, but it does not allow us much control over the particular operations it glosses. When you are doing a more complete analysis, you should be using the module specifically designed for that task instead of the shortcut method `Text` provides, e.g. use  [`collocations` Module](http://www.nltk.org/api/nltk.html#module-nltk.collocations) instead of `.collocations()`.\n",
    "\n",
    "Now that we have gotten this loaded, let's glance at few features we will delve into more deeply later.\n",
    "\n",
    "For example, we can find words that statistically tend to occur together and typically have a composite, idiomatic meaning irreducible to the semantics of its component words. We will do this later with more control over exactly how these are identified."
   ]
  },
  {
   "cell_type": "markdown",
   "metadata": {},
   "source": [
    "Or we can pick a word (or words) and find what words tend to occur around it."
   ]
  },
  {
   "cell_type": "code",
   "execution_count": null,
   "metadata": {},
   "outputs": [],
   "source": [
    "whText.common_contexts(['stem'])"
   ]
  },
  {
   "cell_type": "markdown",
   "metadata": {},
   "source": [
    "We can also just count the number of times the word occurs."
   ]
  },
  {
   "cell_type": "code",
   "execution_count": null,
   "metadata": {},
   "outputs": [],
   "source": [
    "whText.count('cell')"
   ]
  },
  {
   "cell_type": "markdown",
   "metadata": {},
   "source": [
    "\n",
    "We can also plot each time a set of words occurs."
   ]
  },
  {
   "cell_type": "code",
   "execution_count": null,
   "metadata": {},
   "outputs": [],
   "source": [
    "sns.reset_orig() #Seaborn messes with this plot, disabling it\n",
    "whText.dispersion_plot(['Sen.','stem', 'cell', 'federal' ,'Lila', 'Barber', 'Whitehouse'])\n",
    "sns.set() #Re-enabling seaborn"
   ]
  },
  {
   "cell_type": "markdown",
   "metadata": {},
   "source": [
    "If we want to do an analysis of all the Whitehouse press releases we will first need to obtain them. By looking at the API we can see the the URL we want is [https://api.github.com/repos/lintool/GrimmerSenatePressReleases/contents/raw/Whitehouse](https://api.github.com/repos/lintool/GrimmerSenatePressReleases/contents/raw/Whitehouse), so we can create a function to scrape the individual files.\n",
    "\n",
    "If you want to know more about downloading from APIs, refer back to the 1st notebook."
   ]
  },
  {
   "cell_type": "code",
   "execution_count": null,
   "metadata": {},
   "outputs": [],
   "source": [
    "def getGithubFiles(target, maxFiles = 100):\n",
    "    #We are setting a max so our examples don't take too long to run\n",
    "    #For converting to a DataFrame\n",
    "    releasesDict = {\n",
    "        'name' : [], #The name of the file\n",
    "        'text' : [], #The text of the file, watch out for binary files\n",
    "        'path' : [], #The path in the git repo to the file\n",
    "        'html_url' : [], #The url to see the file on Github\n",
    "        'download_url' : [], #The url to download the file\n",
    "    }\n",
    "\n",
    "    #Get the directory information from Github\n",
    "    r = requests.get(target)\n",
    "    filesLst = json.loads(r.text)\n",
    "\n",
    "    for fileDict in filesLst[:maxFiles]:\n",
    "        #These are provided by the directory\n",
    "        releasesDict['name'].append(fileDict['name'])\n",
    "        releasesDict['path'].append(fileDict['path'])\n",
    "        releasesDict['html_url'].append(fileDict['html_url'])\n",
    "        releasesDict['download_url'].append(fileDict['download_url'])\n",
    "\n",
    "        #We need to download the text though\n",
    "        text = requests.get(fileDict['download_url']).text\n",
    "        releasesDict['text'].append(text)\n",
    "\n",
    "    return pandas.DataFrame(releasesDict)\n",
    "\n",
    "whReleases = getGithubFiles('https://api.github.com/repos/lintool/GrimmerSenatePressReleases/contents/raw/Whitehouse', maxFiles = 10)\n",
    "whReleases[:5]"
   ]
  },
  {
   "cell_type": "markdown",
   "metadata": {},
   "source": [
    "If you are having trouble downloading the data uncomment this next cell"
   ]
  },
  {
   "cell_type": "code",
   "execution_count": null,
   "metadata": {
    "collapsed": true
   },
   "outputs": [],
   "source": [
    "#whReleases = pandas.read_csv('../data/whReleases.csv')"
   ]
  },
  {
   "cell_type": "markdown",
   "metadata": {},
   "source": [
    "Now we have all the texts in a DataFrame we can look at a few things.\n",
    "\n",
    "First let's tokenize the texts with the same tokenizer as we used before. We will just save the tokens as a list for now; no need to convert to `Text`s."
   ]
  },
  {
   "cell_type": "code",
   "execution_count": null,
   "metadata": {},
   "outputs": [],
   "source": [
    "whReleases['tokenized_text'] = whReleases['text'].apply(lambda x: word_tokenize(x))"
   ]
  },
  {
   "cell_type": "markdown",
   "metadata": {},
   "source": [
    "Now lets see how long each of the press releases is:"
   ]
  },
  {
   "cell_type": "code",
   "execution_count": null,
   "metadata": {},
   "outputs": [],
   "source": [
    "whReleases['word_counts'] = whReleases['tokenized_text'].apply(lambda x: len(x))\n",
    "whReleases['word_counts']"
   ]
  },
  {
   "cell_type": "markdown",
   "metadata": {},
   "source": [
    "But before we proceed: what is the lambda function here? What the lambda function does here is that it iterates over the list row by row and applies the function, e.g. word_tokenize() or len(), to each list. So, it looks similar to for loop; but, lambda is an expression while for loop is a statement. I won't elaborate on the difference between these two here for space limitations. "
   ]
  },
  {
   "cell_type": "markdown",
   "metadata": {},
   "source": [
    "## <span style=\"color:red\">*Exercise 1*</span>\n",
    "\n",
    "<span style=\"color:red\">Construct cells immediately below this that input and interrogate a corpus relating to your anticipated final project. This could include one of the Davies corpora or some other you have constructed. Turn your text into an nltk `Text` object, and explore all of the features examined above, and others that relate to better understanding your corpus in relation to your research question. </span>"
   ]
  },
  {
   "cell_type": "code",
   "execution_count": 1,
   "metadata": {},
   "outputs": [
    {
     "name": "stdout",
     "output_type": "stream",
     "text": [
      "Use device: cpu\n",
      "---\n",
      "Loading: tokenize\n",
      "With settings: \n",
      "{'model_path': '/Users/Leha/stanfordnlp_resources/ru_syntagrus_models/ru_syntagrus_tokenizer.pt', 'lang': 'ru', 'shorthand': 'ru_syntagrus', 'mode': 'predict'}\n",
      "---\n",
      "Loading: pos\n",
      "With settings: \n",
      "{'model_path': '/Users/Leha/stanfordnlp_resources/ru_syntagrus_models/ru_syntagrus_tagger.pt', 'pretrain_path': '/Users/Leha/stanfordnlp_resources/ru_syntagrus_models/ru_syntagrus.pretrain.pt', 'lang': 'ru', 'shorthand': 'ru_syntagrus', 'mode': 'predict'}\n",
      "---\n",
      "Loading: lemma\n",
      "With settings: \n",
      "{'model_path': '/Users/Leha/stanfordnlp_resources/ru_syntagrus_models/ru_syntagrus_lemmatizer.pt', 'lang': 'ru', 'shorthand': 'ru_syntagrus', 'mode': 'predict'}\n",
      "Building an attentional Seq2Seq model...\n",
      "Using a Bi-LSTM encoder\n",
      "Using soft attention for LSTM.\n",
      "Finetune all embeddings.\n",
      "[Running seq2seq lemmatizer with edit classifier]\n",
      "---\n",
      "Loading: depparse\n",
      "With settings: \n",
      "{'model_path': '/Users/Leha/stanfordnlp_resources/ru_syntagrus_models/ru_syntagrus_parser.pt', 'pretrain_path': '/Users/Leha/stanfordnlp_resources/ru_syntagrus_models/ru_syntagrus.pretrain.pt', 'lang': 'ru', 'shorthand': 'ru_syntagrus', 'mode': 'predict'}\n",
      "Done loading processors!\n",
      "---\n"
     ]
    }
   ],
   "source": [
    "import os\n",
    "import re\n",
    "import uuid\n",
    "import docx\n",
    "import textract\n",
    "import pandas as pd\n",
    "import numpy as np\n",
    "import nltk\n",
    "import matplotlib.pyplot as plt\n",
    "import json\n",
    "import stanfordnlp\n",
    "from spacy_stanfordnlp import StanfordNLPLanguage\n",
    "import spacy\n",
    "import lucem_illud_2020 #pip install git+git://github.com/Computational-Content-Analysis-2020/lucem_illud_2020.git\n",
    "\n",
    "import requests #for http requests\n",
    "import wordcloud #Makes word clouds\n",
    "import scipy #For divergences/distances\n",
    "import seaborn as sns #makes our plots look nicer\n",
    "import sklearn.manifold #For a manifold plot\n",
    "import urllib.parse #For joining urls\n",
    "\n",
    "#Displays the graphs\n",
    "import graphviz #You also need to install the command line graphviz\n",
    "\n",
    "#These are from the standard library\n",
    "import os.path\n",
    "import zipfile\n",
    "import subprocess\n",
    "import io\n",
    "import tempfile\n",
    "\n",
    "snlp = stanfordnlp.Pipeline(lang=\"ru\") \n",
    "nlp = StanfordNLPLanguage(snlp)"
   ]
  },
  {
   "cell_type": "code",
   "execution_count": 2,
   "metadata": {},
   "outputs": [],
   "source": [
    "corpus_name = '/Users/Leha/Desktop/Izvestia/Abby_Fine_Reader_Extracted_Text/zip'\n",
    "\n",
    "def loadcorpus(corpus_name, corpus_style=\"text\"):\n",
    "    texts_raw = {}\n",
    "    for file in os.listdir(corpus_name + \"/\"):\n",
    "        if corpus_style in file:\n",
    "            print(file)\n",
    "            zfile = zipfile.ZipFile(corpus_name + \"/\" + file)\n",
    "            for file in zfile.namelist():\n",
    "                texts_raw[file] = []\n",
    "                with zfile.open(file) as f:\n",
    "                    for line in f:\n",
    "                        texts_raw[file].append(line)\n",
    "    return texts_raw"
   ]
  },
  {
   "cell_type": "code",
   "execution_count": 3,
   "metadata": {},
   "outputs": [
    {
     "name": "stdout",
     "output_type": "stream",
     "text": [
      "text.zip\n"
     ]
    }
   ],
   "source": [
    "izvestiia_raw = loadcorpus(corpus_name) # so what I would want here is a all of my corpus in zip files, by year?"
   ]
  },
  {
   "cell_type": "code",
   "execution_count": 4,
   "metadata": {},
   "outputs": [
    {
     "data": {
      "text/plain": [
       "[b'16 \\xd0\\xb8\\xd1\\x8e\\xd0\\xbb\\xd1\\x8f \\xd0\\xbf\\xd1\\x80\\xd0\\xb5\\xd0\\xb7\\xd0\\xb8\\xd0\\xb4\\xd0\\xb5\\xd0\\xbd\\xd1\\x82 \\xd0\\xa0\\xd0\\xbe\\xd1\\x81\\xd0\\xb8\\xd0\\xb8 \\xd0\\x91\\xd0\\xbe\\xd1\\x80\\xd0\\xb8\\xd1\\x81 \\xd0\\x95\\xd0\\xbb\\xd1\\x8c\\xd1\\x86\\xd0\\xb8\\xd0\\xbd \\xd0\\xb2\\xd0\\xbd\\xd0\\xb5\\xd0\\xb7\\xd0\\xb0\\xd0\\xbf\\xd0\\xbd\\xd0\\xbe \\xd0\\xbf\\xd0\\xbe\\xd0\\xb4\\xd0\\xbf\\xd0\\xb8\\xd1\\x81\\xd0\\xb0\\xd0\\xbb \\xd0\\xb2 \\xd0\\x9a\\xd0\\xb0\\xd1\\x80\\xd0\\xb5\\xd0\\xbb\\xd0\\xb8\\xd0\\xb8 \\xd1\\x80\\xd1\\x8f\\xd0\\xb4 \\xd1\\x83\\xd0\\xba\\xd0\\xb0\\xd0\\xb7\\xd0\\xbe\\xd0\\xb2, \\xd0\\xb7\\xd0\\xb0\\xd0\\xb6\\xd0\\xb8\\xd0\\xb3\\xd0\\xb0\\xd1\\x8e\\xd1\\x89\\xd0\\xb8\\xd1\\x85 \\xc2\\xab\\xd0\\xb7\\xd0\\xb5\\xd0\\xbb\\xd0\\xb5\\xd0\\xbd\\xd1\\x8b\\xd0\\xb9 \\xd1\\x81\\xd0\\xb2\\xd0\\xb5\\xd1\\x82\\xc2\\xbb \\xd1\\x80\\xd0\\xb5\\xd1\\x84\\xd0\\xbe\\xd1\\x80\\xd0\\xbc\\xd0\\xb5 \\xd0\\x92\\xd0\\xbe\\xd0\\xbe\\xd1\\x80\\xd1\\x83\\xd0\\xb6\\xd0\\xb5\\xd0\\xbd\\xd0\\xbd\\xd1\\x8b\\xd1\\x85 \\xd1\\x81\\xd0\\xb8\\xd0\\xbb \\xd0\\xa0\\xd0\\xbe\\xd1\\x81\\xd1\\x81\\xd0\\xb8\\xd0\\xb8. \\xd0\\xa3\\xd1\\x82\\xd0\\xb5\\xd1\\x87\\xd0\\xb5\\xd0\\xba \\xd0\\xbd\\xd0\\xb5 \\xd0\\xb1\\xd1\\x8b\\xd0\\xbb\\xd0\\xbe.\\r\\n',\n",
       " b'\\r\\n',\n",
       " b'18 \\xd0\\xb8\\xd1\\x8e\\xd0\\xbb\\xd1\\x8f 1997 \\xd0\\xb3\\xd0\\xbe\\xd0\\xb4\\xd0\\xb0, \\xd0\\xbf\\xd1\\x8f\\xd1\\x82\\xd0\\xbd\\xd0\\xb8\\xd1\\x86\\xd0\\xb0\\r\\n',\n",
       " b'N8 133 (24988)\\r\\n',\n",
       " b'\\xd0\\x9f\\xd0\\xbe\\xd1\\x8f\\xd0\\xb2\\xd0\\xb8\\xd0\\xbb\\xd0\\xb0\\xd1\\x81\\xd1\\x8c \\xd0\\xbd\\xd0\\xb0\\xd0\\xb4\\xd0\\xb5\\xd0\\xb6\\xd0\\xb4\\xd0\\xb0, \\xd1\\x87\\xd1\\x82\\xd0\\xbe \\xd1\\x83 \\xd0\\xa0\\xd0\\xbe\\xd1\\x81\\xd1\\x81\\xd0\\xb8\\xd0\\xb8 \\xd0\\xb1\\xd1\\x83\\xd0\\xb4\\xd0\\xb5\\xd1\\x82\\r\\n']"
      ]
     },
     "execution_count": 4,
     "metadata": {},
     "output_type": "execute_result"
    }
   ],
   "source": [
    "izvestiia_raw['1997 Issue 133 July 18 Page 1.txt'][9:14]"
   ]
  },
  {
   "cell_type": "code",
   "execution_count": 5,
   "metadata": {},
   "outputs": [],
   "source": [
    "def clean_raw_text(raw_texts):\n",
    "    clean_texts = []\n",
    "    for text in raw_texts:\n",
    "        try:\n",
    "            text = text.decode(\"utf-8\")\n",
    "            clean_text = text.replace(\"Росии\", \"России\").replace(\"\\r\\n\", \"\").replace(\"/t\", \"\").replace(\"\\t\", \"\")\n",
    "            clean_texts.append(clean_text)\n",
    "        except AttributeError:\n",
    "            # print(\"ERROR CLEANING\")\n",
    "            # print(text)\n",
    "            continue\n",
    "        except UnicodeDecodeError:\n",
    "            # print(\"Unicode Error, Skip\")\n",
    "            continue\n",
    "    clean_text = \" \".join(clean_texts)\n",
    "    return clean_text"
   ]
  },
  {
   "cell_type": "code",
   "execution_count": 6,
   "metadata": {},
   "outputs": [],
   "source": [
    "clean = clean_raw_text(izvestiia_raw['1997 Issue 133 July 18 Page 1.txt'])"
   ]
  },
  {
   "cell_type": "code",
   "execution_count": 7,
   "metadata": {},
   "outputs": [],
   "source": [
    "def word_tokenize(word_list):\n",
    "    tokenized = []\n",
    "    # pass word list through language model.\n",
    "    doc = nlp(word_list)\n",
    "    for token in doc:\n",
    "        if not token.is_punct and len(token.text.strip()) > 0:\n",
    "            tokenized.append(token.text)\n",
    "    return tokenized"
   ]
  },
  {
   "cell_type": "code",
   "execution_count": 8,
   "metadata": {},
   "outputs": [
    {
     "name": "stderr",
     "output_type": "stream",
     "text": [
      "../aten/src/ATen/native/LegacyDefinitions.cpp:19: UserWarning: masked_fill_ received a mask with dtype torch.uint8, this behavior is now deprecated,please use a mask with dtype torch.bool instead.\n"
     ]
    },
    {
     "data": {
      "text/plain": [
       "['\\ufeffж',\n",
       " 'Я',\n",
       " 'НЕ',\n",
       " 'НАСТОЛЬКО',\n",
       " 'ПОДЛ',\n",
       " 'ЧТОБЫ',\n",
       " 'БЫТЬ',\n",
       " 'ПЕССИМИСТОМ',\n",
       " 'ПОКУПАЙТЕ',\n",
       " 'СВЕЖИЙ',\n",
       " 'НОМЕР',\n",
       " 'ГАЗЕТЫ',\n",
       " 'НЕДЕЛЯ',\n",
       " 'Евгений',\n",
       " 'ЕВТУШЕНКО',\n",
       " 'Владимир',\n",
       " 'ЗАЙНЕТДИНОВ',\n",
       " 'Известия',\n",
       " 'современная',\n",
       " 'армия',\n",
       " 'Виктор',\n",
       " 'ЛИТОВКИН',\n",
       " 'Известия',\n",
       " '16',\n",
       " 'июля',\n",
       " 'президент',\n",
       " 'России',\n",
       " 'Борис',\n",
       " 'Ельцин',\n",
       " 'внезапно',\n",
       " 'подписал',\n",
       " 'в',\n",
       " 'Карелии',\n",
       " 'ряд',\n",
       " 'указов',\n",
       " 'зажигающих',\n",
       " '«зеленый',\n",
       " 'свет»',\n",
       " 'реформе',\n",
       " 'Вооруженных',\n",
       " 'сил',\n",
       " 'России',\n",
       " 'Утечек',\n",
       " 'не',\n",
       " 'было',\n",
       " '18',\n",
       " 'июля',\n",
       " '1997',\n",
       " 'года',\n",
       " 'пятница',\n",
       " 'N8',\n",
       " '133',\n",
       " '24988',\n",
       " 'Появилась',\n",
       " 'надежда',\n",
       " 'что',\n",
       " 'у',\n",
       " 'России',\n",
       " 'будет',\n",
       " 'Мы',\n",
       " 'еще',\n",
       " 'не',\n",
       " 'забыли',\n",
       " 'ряд',\n",
       " 'трагических',\n",
       " 'происшествий',\n",
       " 'когда',\n",
       " 'обваливались',\n",
       " 'там',\n",
       " 'и',\n",
       " 'сям',\n",
       " 'дома',\n",
       " 'и',\n",
       " 'гибли',\n",
       " 'под',\n",
       " 'обломками',\n",
       " 'граждане',\n",
       " 'Сообщения',\n",
       " 'об',\n",
       " 'этих',\n",
       " 'ЧП',\n",
       " 'стали',\n",
       " 'привычными',\n",
       " 'И',\n",
       " 'все-таки',\n",
       " 'По',\n",
       " 'крайней',\n",
       " 'мере',\n",
       " '7',\n",
       " 'человек',\n",
       " 'погибли',\n",
       " 'и',\n",
       " '43',\n",
       " 'ранены',\n",
       " 'в',\n",
       " 'результате',\n",
       " 'обвала',\n",
       " 'казармы',\n",
       " 'в',\n",
       " 'Томском',\n",
       " 'училище',\n",
       " 'связи',\n",
       " 'Военное',\n",
       " 'учебное',\n",
       " 'заведение',\n",
       " 'готовит',\n",
       " 'офицеров',\n",
       " 'связи',\n",
       " 'для',\n",
       " 'Сухопутных',\n",
       " 'войск',\n",
       " 'Обрушившееся',\n",
       " 'здание',\n",
       " 'представляет',\n",
       " 'собой',\n",
       " 'типовую',\n",
       " 'кирпичную',\n",
       " 'казарму',\n",
       " '1965',\n",
       " 'года',\n",
       " 'постройки',\n",
       " 'По',\n",
       " 'словам',\n",
       " 'оперативного',\n",
       " 'дежурного',\n",
       " 'училища',\n",
       " 'в',\n",
       " 'прошлом',\n",
       " 'году',\n",
       " 'строители',\n",
       " 'провели',\n",
       " 'капитальный',\n",
       " 'ремонт',\n",
       " 'кровли',\n",
       " 'и',\n",
       " 'в',\n",
       " 'этом',\n",
       " 'году',\n",
       " 'серьезных',\n",
       " 'работ',\n",
       " 'в',\n",
       " 'казарме',\n",
       " 'не',\n",
       " 'планировалось',\n",
       " 'Ничто',\n",
       " 'не',\n",
       " 'предвещало',\n",
       " 'беды',\n",
       " 'Трагедия',\n",
       " 'произошла',\n",
       " '17',\n",
       " 'июля',\n",
       " 'в',\n",
       " '5.50',\n",
       " 'по',\n",
       " 'местному',\n",
       " 'времени',\n",
       " 'за',\n",
       " 'час',\n",
       " 'до',\n",
       " 'подъема',\n",
       " 'В',\n",
       " 'здании',\n",
       " 'находились',\n",
       " '120',\n",
       " 'курсантов',\n",
       " '4-го',\n",
       " 'курса',\n",
       " 'Как',\n",
       " 'сообщил',\n",
       " 'оперативный',\n",
       " 'дежурный',\n",
       " 'училища',\n",
       " 'здание',\n",
       " 'начало',\n",
       " 'рушиться',\n",
       " 'с',\n",
       " 'крыши',\n",
       " 'Услышав',\n",
       " 'шум',\n",
       " 'курсанты',\n",
       " 'начали',\n",
       " 'спасаться',\n",
       " 'из',\n",
       " 'обваливающейся',\n",
       " 'казармы',\n",
       " 'Но',\n",
       " 'перекрытия',\n",
       " 'падали',\n",
       " 'быстрее',\n",
       " 'Под',\n",
       " 'обломка',\n",
       " 'ми',\n",
       " 'сразу',\n",
       " 'погибли',\n",
       " '5',\n",
       " 'человек',\n",
       " 'еще',\n",
       " 'один',\n",
       " 'через',\n",
       " 'некоторое',\n",
       " 'время',\n",
       " 'умер',\n",
       " 'в',\n",
       " 'реанимации',\n",
       " 'Тяжело',\n",
       " 'ранено',\n",
       " '10',\n",
       " 'курсантов',\n",
       " 'На',\n",
       " 'месте',\n",
       " 'ЧП',\n",
       " 'спасатели',\n",
       " 'томского',\n",
       " 'штаба',\n",
       " 'ГО',\n",
       " 'расчищают',\n",
       " 'завалы',\n",
       " 'вытаскивают',\n",
       " 'людей',\n",
       " 'По',\n",
       " 'сообщениям',\n",
       " 'агентства',\n",
       " 'Интерфакс',\n",
       " 'под',\n",
       " 'обломками',\n",
       " 'могут',\n",
       " 'находиться',\n",
       " 'до',\n",
       " '10',\n",
       " 'человек',\n",
       " 'В',\n",
       " 'пресс-службе',\n",
       " 'МЧС',\n",
       " 'России',\n",
       " 'рассказали',\n",
       " 'что',\n",
       " 'из',\n",
       " 'Москвы',\n",
       " 'в',\n",
       " 'срочном',\n",
       " 'порядке',\n",
       " 'в',\n",
       " 'Томск',\n",
       " 'вылетела',\n",
       " 'оперативная',\n",
       " 'группа',\n",
       " 'МЧС',\n",
       " 'во',\n",
       " 'главе',\n",
       " 'с',\n",
       " 'министром',\n",
       " 'по',\n",
       " 'чрезвычайным',\n",
       " 'ситуациям',\n",
       " 'Сергеем',\n",
       " 'Шойгу',\n",
       " 'Самолет',\n",
       " 'МЧС',\n",
       " 'поднялся',\n",
       " 'в',\n",
       " 'воздух',\n",
       " 'с',\n",
       " 'подмосковного',\n",
       " 'аэродрома',\n",
       " 'в',\n",
       " 'Жуковском',\n",
       " 'в',\n",
       " '6.00',\n",
       " 'московского',\n",
       " 'времени',\n",
       " 'и',\n",
       " 'на',\n",
       " 'момент',\n",
       " 'подготовки',\n",
       " 'материала',\n",
       " 'еще',\n",
       " 'не',\n",
       " 'приземлился',\n",
       " 'в',\n",
       " 'Томске',\n",
       " 'На',\n",
       " 'борту',\n",
       " 'транспортного',\n",
       " 'самолета',\n",
       " 'подразделение',\n",
       " 'спасателей',\n",
       " 'которые',\n",
       " 'оснащены',\n",
       " 'специальной',\n",
       " 'техникой',\n",
       " 'для',\n",
       " 'поиска',\n",
       " 'людей',\n",
       " 'в',\n",
       " 'завалах',\n",
       " 'Как',\n",
       " 'сообщила',\n",
       " 'пресс-служба',\n",
       " 'Сухопутных',\n",
       " 'войск',\n",
       " 'РФ',\n",
       " 'едва',\n",
       " 'узнав',\n",
       " 'о',\n",
       " 'ЧП',\n",
       " 'на',\n",
       " 'место',\n",
       " 'трагедии',\n",
       " 'также',\n",
       " 'вылетел',\n",
       " 'начальник',\n",
       " 'войск',\n",
       " 'связи',\n",
       " 'генерал-лейтенант',\n",
       " 'Валерий',\n",
       " 'Шарлапов',\n",
       " 'с',\n",
       " 'группой',\n",
       " 'высокопоставленных',\n",
       " 'офицеров',\n",
       " 'Телефон',\n",
       " 'оперативного',\n",
       " 'дежурного',\n",
       " 'Томского',\n",
       " 'училища',\n",
       " 'связи',\n",
       " 'по',\n",
       " 'которому',\n",
       " 'можно',\n",
       " 'узнать',\n",
       " 'о',\n",
       " 'судьбе',\n",
       " 'родственников',\n",
       " '8',\n",
       " '382',\n",
       " '2',\n",
       " '22',\n",
       " '27',\n",
       " '19',\n",
       " 'Справки',\n",
       " 'о',\n",
       " 'подписке',\n",
       " 'по',\n",
       " 'тел',\n",
       " '200',\n",
       " '38*15',\n",
       " 'Программа',\n",
       " 'передач',\n",
       " 'на',\n",
       " 'будущую',\n",
       " 'неделю_',\n",
       " 'стр',\n",
       " '0',\n",
       " 'Таким',\n",
       " 'образом',\n",
       " 'он',\n",
       " 'поддержал',\n",
       " 'идеи',\n",
       " 'министра',\n",
       " 'обороны',\n",
       " 'генерала',\n",
       " 'армии',\n",
       " 'Игоря',\n",
       " 'Сергеева',\n",
       " 'и',\n",
       " 'начальника',\n",
       " 'Генерального',\n",
       " 'штаба',\n",
       " 'генерал-полковника',\n",
       " 'Анатолия',\n",
       " 'Квашнина',\n",
       " 'одобренные',\n",
       " 'Советом',\n",
       " 'обороны',\n",
       " 'и',\n",
       " 'Комиссией',\n",
       " 'по',\n",
       " 'военному',\n",
       " 'строительству',\n",
       " 'об',\n",
       " 'интеграции',\n",
       " 'Ракетных',\n",
       " 'войск',\n",
       " 'стратегического',\n",
       " 'назначения',\n",
       " 'Военно',\n",
       " '-космических',\n",
       " 'сил',\n",
       " 'и',\n",
       " 'Войск',\n",
       " 'противоракетной',\n",
       " 'обороны',\n",
       " 'создании',\n",
       " 'на',\n",
       " 'их',\n",
       " 'основе',\n",
       " 'качественно',\n",
       " 'нового',\n",
       " 'вида',\n",
       " 'вооруженных',\n",
       " 'сил',\n",
       " 'Стратегических',\n",
       " 'сил',\n",
       " 'сдерживания',\n",
       " 'а',\n",
       " 'также',\n",
       " 'слияние',\n",
       " 'войск',\n",
       " 'ПВО',\n",
       " 'и',\n",
       " 'ВВС',\n",
       " 'реорганизацию',\n",
       " 'Главкомата',\n",
       " 'Сухопутных',\n",
       " 'войск',\n",
       " 'которые',\n",
       " 'будут',\n",
       " 'проходить',\n",
       " 'в',\n",
       " 'течение',\n",
       " '1997',\n",
       " '1998',\n",
       " 'годов',\n",
       " 'Но',\n",
       " 'это',\n",
       " 'как',\n",
       " 'нам',\n",
       " 'стало',\n",
       " 'известно',\n",
       " 'только',\n",
       " 'часть',\n",
       " 'военной',\n",
       " 'реформы',\n",
       " 'которая',\n",
       " 'должна',\n",
       " 'повысить',\n",
       " 'боеспособность',\n",
       " 'и',\n",
       " 'боеготовность',\n",
       " 'армии',\n",
       " 'и',\n",
       " 'флота',\n",
       " 'восстановить',\n",
       " 'регулярную',\n",
       " 'боевую',\n",
       " 'учебу',\n",
       " 'солдат',\n",
       " 'сержантов',\n",
       " 'и',\n",
       " 'офицеров',\n",
       " 'поднять',\n",
       " 'социальный',\n",
       " 'статус',\n",
       " 'военнослужащих',\n",
       " 'и',\n",
       " 'привлекательность',\n",
       " 'военной',\n",
       " 'службы',\n",
       " 'Реформа',\n",
       " 'армии',\n",
       " 'и',\n",
       " 'флага',\n",
       " 'которая',\n",
       " 'осуществляется',\n",
       " 'в',\n",
       " 'условиях',\n",
       " 'жестких',\n",
       " 'финансовых',\n",
       " 'ограничений',\n",
       " '3,5',\n",
       " 'процента',\n",
       " 'от',\n",
       " 'всеобщего',\n",
       " 'валового',\n",
       " 'продукта',\n",
       " 'будет',\n",
       " 'проходить',\n",
       " 'в',\n",
       " 'два',\n",
       " 'этапа',\n",
       " 'На',\n",
       " 'первом',\n",
       " '1997',\n",
       " '2000',\n",
       " 'годы',\n",
       " 'основные',\n",
       " 'мероприятия',\n",
       " 'направляются',\n",
       " 'на',\n",
       " 'избавление',\n",
       " 'военных',\n",
       " 'от',\n",
       " 'неоправданных',\n",
       " 'непроизводительных',\n",
       " 'и',\n",
       " 'не',\n",
       " 'отвечающих',\n",
       " 'интересам',\n",
       " 'укрепления',\n",
       " 'обеспечения',\n",
       " 'обороноспособности',\n",
       " 'страны',\n",
       " 'расходов',\n",
       " 'Вооруженные',\n",
       " 'силы',\n",
       " 'избавятся',\n",
       " 'от',\n",
       " 'предприятий',\n",
       " 'организаций',\n",
       " 'объектов',\n",
       " 'и',\n",
       " 'структур',\n",
       " 'без',\n",
       " 'которых',\n",
       " 'они',\n",
       " 'вполне',\n",
       " 'способны',\n",
       " 'существовать',\n",
       " 'это',\n",
       " 'сразу',\n",
       " 'сократит',\n",
       " '300',\n",
       " 'тысяч',\n",
       " 'человек',\n",
       " 'гражданского',\n",
       " 'персонала',\n",
       " 'Среди',\n",
       " 'таких',\n",
       " 'организаций',\n",
       " 'Главное',\n",
       " 'управление',\n",
       " 'торговли',\n",
       " 'десятки',\n",
       " 'военно',\n",
       " 'строительных',\n",
       " 'частей',\n",
       " 'хозрасчетных',\n",
       " 'предприятий',\n",
       " 'и',\n",
       " 'многие',\n",
       " 'другие',\n",
       " 'структуры',\n",
       " 'которые',\n",
       " 'способны',\n",
       " 'самостоятельно',\n",
       " 'зарабатывать',\n",
       " 'средства',\n",
       " 'для',\n",
       " 'своего',\n",
       " 'существования',\n",
       " 'Кроме',\n",
       " 'того',\n",
       " 'местным',\n",
       " 'органам',\n",
       " 'власти',\n",
       " 'будет',\n",
       " 'передана',\n",
       " 'часть',\n",
       " 'жилищно',\n",
       " 'коммунального',\n",
       " 'и',\n",
       " 'социального',\n",
       " 'фонда',\n",
       " 'стоящего',\n",
       " 'на',\n",
       " 'балансе',\n",
       " 'Министерства',\n",
       " 'обороны',\n",
       " 'что',\n",
       " 'даст',\n",
       " 'ежегодно',\n",
       " 'экономию',\n",
       " 'в',\n",
       " '2',\n",
       " '3',\n",
       " 'триллиона',\n",
       " 'рублей',\n",
       " 'которые',\n",
       " 'можно',\n",
       " 'направить',\n",
       " 'на',\n",
       " 'обеспечение',\n",
       " 'социальных',\n",
       " 'гарантий',\n",
       " 'военнослужащих',\n",
       " 'Также',\n",
       " 'в',\n",
       " 'ходе',\n",
       " 'реформирования',\n",
       " 'вооруженных',\n",
       " 'сил',\n",
       " 'планируется',\n",
       " 'пересмотреть',\n",
       " 'структуру',\n",
       " 'расходов',\n",
       " 'на',\n",
       " 'строительство',\n",
       " 'и',\n",
       " 'содер',\n",
       " 'жание',\n",
       " 'войск',\n",
       " 'создание',\n",
       " 'условий',\n",
       " 'для',\n",
       " 'выделения',\n",
       " 'денег',\n",
       " 'на',\n",
       " 'боевую',\n",
       " 'подготовку',\n",
       " 'и',\n",
       " 'создание',\n",
       " 'научно-технического',\n",
       " 'задела',\n",
       " 'для',\n",
       " 'перевооружения',\n",
       " 'армии',\n",
       " 'и',\n",
       " 'флота',\n",
       " 'на',\n",
       " 'новую',\n",
       " 'боевую',\n",
       " 'технику',\n",
       " 'после',\n",
       " '2005',\n",
       " 'года',\n",
       " 'На',\n",
       " 'эти',\n",
       " 'цели',\n",
       " 'необходимо',\n",
       " 'как',\n",
       " 'минимум',\n",
       " '40',\n",
       " 'процентов',\n",
       " 'защищенного',\n",
       " 'законом',\n",
       " 'военного',\n",
       " 'бюджета',\n",
       " 'Сегодня',\n",
       " 'как',\n",
       " 'не',\n",
       " 'раз',\n",
       " 'писали',\n",
       " 'Известия',\n",
       " 'большая',\n",
       " 'часть',\n",
       " 'денег',\n",
       " '70',\n",
       " 'процентов',\n",
       " 'от',\n",
       " 'выделяемых',\n",
       " 'по',\n",
       " 'бюджету',\n",
       " 'идет',\n",
       " 'на',\n",
       " 'содержание',\n",
       " 'армии',\n",
       " 'то',\n",
       " 'есть',\n",
       " 'на',\n",
       " 'денежное',\n",
       " 'довольствие',\n",
       " 'офицерам',\n",
       " 'и',\n",
       " 'заработную',\n",
       " 'плату',\n",
       " 'гражданским',\n",
       " 'лицам',\n",
       " 'Более',\n",
       " 'того',\n",
       " 'в',\n",
       " '1996',\n",
       " 'году',\n",
       " 'на',\n",
       " 'эти',\n",
       " 'цели',\n",
       " 'было',\n",
       " 'затрачено',\n",
       " 'сверхбюджетных',\n",
       " 'средств',\n",
       " 'более',\n",
       " '7',\n",
       " 'триллионов',\n",
       " 'рублей',\n",
       " 'Но',\n",
       " 'зарпалата',\n",
       " 'все',\n",
       " 'равно',\n",
       " 'задерживается',\n",
       " 'на',\n",
       " '3',\n",
       " '4',\n",
       " 'месяца',\n",
       " 'Ее',\n",
       " 'уровень',\n",
       " 'давно',\n",
       " 'не',\n",
       " 'соответствует',\n",
       " 'характеру',\n",
       " 'и',\n",
       " 'сложности',\n",
       " 'воинского',\n",
       " 'труда',\n",
       " 'обеспечению',\n",
       " 'социальных',\n",
       " 'гарантий',\n",
       " 'военнослужащих',\n",
       " '97',\n",
       " 'тысяч',\n",
       " 'семей',\n",
       " 'военных',\n",
       " 'не',\n",
       " 'имеют',\n",
       " 'жилья',\n",
       " 'Количество',\n",
       " 'средств',\n",
       " 'выделяемых',\n",
       " 'государством',\n",
       " 'на',\n",
       " 'каждого',\n",
       " 'солдата',\n",
       " 'и',\n",
       " 'офицера',\n",
       " 'ниже',\n",
       " 'уровня',\n",
       " 'таких',\n",
       " 'расходов',\n",
       " 'в',\n",
       " 'Это',\n",
       " 'один',\n",
       " 'из',\n",
       " 'вариантов',\n",
       " 'сокращения',\n",
       " 'личного',\n",
       " 'состава',\n",
       " 'Вооруженных',\n",
       " 'си',\n",
       " 'л',\n",
       " 'представленный',\n",
       " 'Министерством',\n",
       " 'обороны',\n",
       " 'на',\n",
       " 'заседание',\n",
       " 'Совета',\n",
       " 'Федерации',\n",
       " 'В',\n",
       " 'ходе',\n",
       " 'реформ',\n",
       " 'эти',\n",
       " 'цифры',\n",
       " 'еще',\n",
       " 'могут',\n",
       " 'измениться',\n",
       " '1',\n",
       " '■',\n",
       " 'Цитата',\n",
       " 'на',\n",
       " '1-ю',\n",
       " 'полосу',\n",
       " 'Видим»',\n",
       " 'не',\n",
       " 'все',\n",
       " 'ннутеты',\n",
       " 'у',\n",
       " 'нс',\n",
       " 'честные',\n",
       " 'сокращения',\n",
       " 'штатной',\n",
       " 'численности',\n",
       " 'военнослужащих',\n",
       " 'Вооруженных',\n",
       " 'сил',\n",
       " 'Российской',\n",
       " 'Федерации',\n",
       " 'тыс.',\n",
       " 'чел.',\n",
       " 'Категории',\n",
       " 'военнослужащихШтатная',\n",
       " 'численность',\n",
       " 'На',\n",
       " '7.5.1992',\n",
       " 'г.На',\n",
       " '1.1.1997',\n",
       " 'г.',\n",
       " 'СокращеноНа',\n",
       " '1.1.1998',\n",
       " 'г.',\n",
       " 'Планируется',\n",
       " 'к',\n",
       " 'сокращениюНа',\n",
       " '1.1.1000',\n",
       " 'г.',\n",
       " 'Планируется',\n",
       " 'к',\n",
       " 'сокращениюПерспективаПланируется',\n",
       " 'к',\n",
       " 'сокращению',\n",
       " 'Всего',\n",
       " 'в',\n",
       " 'ВС',\n",
       " 'РФ',\n",
       " 'с',\n",
       " 'учетом',\n",
       " 'воинских',\n",
       " 'формирований',\n",
       " 'выполняющих',\n",
       " 'задачи',\n",
       " '8',\n",
       " 'имподйсях',\n",
       " 'МОи',\n",
       " 'лпугиу',\n",
       " '2822,3',\n",
       " '■',\n",
       " '1824,1998,31800,0824,1',\n",
       " '■',\n",
       " '1200,0300,01000,0200,0',\n",
       " 'министерств',\n",
       " 'и',\n",
       " 'ведомств',\n",
       " 'в',\n",
       " 'т.чл',\n",
       " 'Высшие',\n",
       " 'офицеры2,3031,9250,3781,6300,2951,4000,2301,2000,200',\n",
       " 'Старшие',\n",
       " 'офицеры',\n",
       " 'в',\n",
       " 'т.чл',\n",
       " '351,761290,97060,791251,93939,031196,91155,028164,05932,852',\n",
       " 'полковники',\n",
       " 'и',\n",
       " 'им',\n",
       " 'равные',\n",
       " '48,07048,0924,97837,5345,55829,3368,19824,4474,889',\n",
       " 'подполковники',\n",
       " 'и',\n",
       " 'им',\n",
       " 'равные',\n",
       " '116,25695,24521,01182,57612,66964,54018.03653,78310,757',\n",
       " 'майоры',\n",
       " 'и',\n",
       " 'им',\n",
       " 'равные',\n",
       " '187,435152,63334,802131,82920,804103,03528,79485,82917,206',\n",
       " 'Младшие',\n",
       " 'офицеры346,936263,62183,315227,63435,987177,79149,843148,15929,632',\n",
       " 'Прапорщики',\n",
       " 'мичманы',\n",
       " '362,300248,234114,066198,80049,434149,10049,700124,25024,850',\n",
       " 'Сержанты',\n",
       " 'солдаты',\n",
       " 'старшины',\n",
       " 'матросы',\n",
       " '1630,500911,441719,059731,300180,141586,100145,200488,41797,683',\n",
       " 'Курсанты',\n",
       " 'вузов',\n",
       " '128,500107,85920,64188,69719,16288,6970,00073,91514,782',\n",
       " 'США',\n",
       " 'в',\n",
       " '13,5',\n",
       " 'раза',\n",
       " 'и',\n",
       " 'в',\n",
       " 'три',\n",
       " 'раза',\n",
       " 'ниже',\n",
       " 'чем',\n",
       " 'в',\n",
       " 'Китае',\n",
       " 'Военная',\n",
       " 'реформа',\n",
       " 'планирует',\n",
       " 'поднять',\n",
       " 'этот',\n",
       " 'уровень',\n",
       " 'в',\n",
       " 'российской',\n",
       " 'армии',\n",
       " 'к',\n",
       " '2001',\n",
       " 'году',\n",
       " 'в',\n",
       " 'два',\n",
       " 'раза',\n",
       " 'а',\n",
       " 'к',\n",
       " '2005-му',\n",
       " 'наконец',\n",
       " 'то',\n",
       " 'достичь',\n",
       " 'показателей',\n",
       " 'китайской',\n",
       " 'армии',\n",
       " 'При',\n",
       " 'этом',\n",
       " 'среднемесячный',\n",
       " 'размер',\n",
       " 'денежного',\n",
       " 'довольствия',\n",
       " 'офицера',\n",
       " 'предполагается',\n",
       " 'увеличить',\n",
       " 'к',\n",
       " '2001',\n",
       " 'году',\n",
       " 'в',\n",
       " 'два',\n",
       " 'раза',\n",
       " 'а',\n",
       " 'к',\n",
       " '2005',\n",
       " 'году',\n",
       " 'в',\n",
       " 'два',\n",
       " 'с',\n",
       " 'половиной',\n",
       " 'раза',\n",
       " 'по',\n",
       " 'сравнению',\n",
       " 'с',\n",
       " 'сегодняшним',\n",
       " 'днем',\n",
       " 'среднестатистический',\n",
       " 'капитан-майор',\n",
       " 'российской',\n",
       " 'армии',\n",
       " 'получает',\n",
       " 'сейчас',\n",
       " 'миллион',\n",
       " 'четыреста',\n",
       " 'тысяч',\n",
       " 'рублей',\n",
       " 'Но',\n",
       " 'все',\n",
       " 'это',\n",
       " 'можно',\n",
       " 'сделать',\n",
       " 'как',\n",
       " 'утверждают',\n",
       " 'в',\n",
       " 'руководстве',\n",
       " 'вооруженных',\n",
       " 'сил',\n",
       " 'только',\n",
       " 'за',\n",
       " 'счет',\n",
       " 'энергичных',\n",
       " 'мер',\n",
       " 'по',\n",
       " 'оптимизации',\n",
       " 'численности',\n",
       " 'структуры',\n",
       " 'и',\n",
       " 'состава',\n",
       " 'армии',\n",
       " 'и',\n",
       " 'флота',\n",
       " 'Поэтому',\n",
       " 'главным',\n",
       " 'приоритетом',\n",
       " 'реформирования',\n",
       " 'будет',\n",
       " 'сохранение',\n",
       " 'и',\n",
       " 'развитие',\n",
       " 'всех',\n",
       " 'Маленький',\n",
       " 'Чернобыль',\n",
       " 'Краснодаре',\n",
       " 'обнаружен',\n",
       " 'Местные',\n",
       " 'власти',\n",
       " 'бездействуют',\n",
       " 'и',\n",
       " 'ждут',\n",
       " 'помощи',\n",
       " 'из',\n",
       " 'Москвы',\n",
       " 'Андрей',\n",
       " 'АДЕРЕХИН',\n",
       " 'Известия',\n",
       " 'С',\n",
       " 'трибуны',\n",
       " 'думцы',\n",
       " 'кричат',\n",
       " 'что',\n",
       " 'они',\n",
       " 'за',\n",
       " 'социальную',\n",
       " 'справедливость',\n",
       " 'а',\n",
       " 'сами',\n",
       " 'боятся',\n",
       " 'показать',\n",
       " 'свои',\n",
       " 'доходы',\n",
       " 'У',\n",
       " 'некоторых',\n",
       " 'депутатов',\n",
       " 'по',\n",
       " 'нескольку',\n",
       " ...]"
      ]
     },
     "execution_count": 8,
     "metadata": {},
     "output_type": "execute_result"
    }
   ],
   "source": [
    "word_tokenize(clean)"
   ]
  },
  {
   "cell_type": "code",
   "execution_count": 9,
   "metadata": {},
   "outputs": [],
   "source": [
    "def wordCounter(wordLst):\n",
    "    wordCounts = {}\n",
    "    for word in wordLst:\n",
    "        #We usually need to normalize the case\n",
    "        wLower = word.lower()\n",
    "        if wLower in wordCounts:\n",
    "            wordCounts[wLower] += 1\n",
    "        else:\n",
    "            wordCounts[wLower] = 1\n",
    "    #convert to DataFrame\n",
    "    countsForFrame = {'word' : [], 'count' : []}\n",
    "    for w, c in wordCounts.items():\n",
    "        countsForFrame['word'].append(w)\n",
    "        countsForFrame['count'].append(c)\n",
    "    return pd.DataFrame(countsForFrame)"
   ]
  },
  {
   "cell_type": "code",
   "execution_count": 10,
   "metadata": {},
   "outputs": [
    {
     "name": "stderr",
     "output_type": "stream",
     "text": [
      "../aten/src/ATen/native/LegacyDefinitions.cpp:19: UserWarning: masked_fill_ received a mask with dtype torch.uint8, this behavior is now deprecated,please use a mask with dtype torch.bool instead.\n"
     ]
    },
    {
     "data": {
      "text/html": [
       "<div>\n",
       "<style scoped>\n",
       "    .dataframe tbody tr th:only-of-type {\n",
       "        vertical-align: middle;\n",
       "    }\n",
       "\n",
       "    .dataframe tbody tr th {\n",
       "        vertical-align: top;\n",
       "    }\n",
       "\n",
       "    .dataframe thead th {\n",
       "        text-align: right;\n",
       "    }\n",
       "</style>\n",
       "<table border=\"1\" class=\"dataframe\">\n",
       "  <thead>\n",
       "    <tr style=\"text-align: right;\">\n",
       "      <th></th>\n",
       "      <th>word</th>\n",
       "      <th>count</th>\n",
       "    </tr>\n",
       "  </thead>\n",
       "  <tbody>\n",
       "    <tr>\n",
       "      <td>0</td>\n",
       "      <td>﻿ж</td>\n",
       "      <td>1</td>\n",
       "    </tr>\n",
       "    <tr>\n",
       "      <td>1</td>\n",
       "      <td>я</td>\n",
       "      <td>3</td>\n",
       "    </tr>\n",
       "    <tr>\n",
       "      <td>2</td>\n",
       "      <td>не</td>\n",
       "      <td>19</td>\n",
       "    </tr>\n",
       "    <tr>\n",
       "      <td>3</td>\n",
       "      <td>настолько</td>\n",
       "      <td>1</td>\n",
       "    </tr>\n",
       "    <tr>\n",
       "      <td>4</td>\n",
       "      <td>подл</td>\n",
       "      <td>1</td>\n",
       "    </tr>\n",
       "    <tr>\n",
       "      <td>5</td>\n",
       "      <td>чтобы</td>\n",
       "      <td>2</td>\n",
       "    </tr>\n",
       "    <tr>\n",
       "      <td>6</td>\n",
       "      <td>быть</td>\n",
       "      <td>1</td>\n",
       "    </tr>\n",
       "    <tr>\n",
       "      <td>7</td>\n",
       "      <td>пессимистом</td>\n",
       "      <td>1</td>\n",
       "    </tr>\n",
       "    <tr>\n",
       "      <td>8</td>\n",
       "      <td>покупайте</td>\n",
       "      <td>1</td>\n",
       "    </tr>\n",
       "    <tr>\n",
       "      <td>9</td>\n",
       "      <td>свежий</td>\n",
       "      <td>1</td>\n",
       "    </tr>\n",
       "  </tbody>\n",
       "</table>\n",
       "</div>"
      ],
      "text/plain": [
       "          word  count\n",
       "0           ﻿ж      1\n",
       "1            я      3\n",
       "2           не     19\n",
       "3    настолько      1\n",
       "4         подл      1\n",
       "5        чтобы      2\n",
       "6         быть      1\n",
       "7  пессимистом      1\n",
       "8    покупайте      1\n",
       "9       свежий      1"
      ]
     },
     "execution_count": 10,
     "metadata": {},
     "output_type": "execute_result"
    }
   ],
   "source": [
    "countedWords = wordCounter(word_tokenize(clean))\n",
    "countedWords[:10]"
   ]
  },
  {
   "cell_type": "code",
   "execution_count": 11,
   "metadata": {},
   "outputs": [
    {
     "data": {
      "text/html": [
       "<div>\n",
       "<style scoped>\n",
       "    .dataframe tbody tr th:only-of-type {\n",
       "        vertical-align: middle;\n",
       "    }\n",
       "\n",
       "    .dataframe tbody tr th {\n",
       "        vertical-align: top;\n",
       "    }\n",
       "\n",
       "    .dataframe thead th {\n",
       "        text-align: right;\n",
       "    }\n",
       "</style>\n",
       "<table border=\"1\" class=\"dataframe\">\n",
       "  <thead>\n",
       "    <tr style=\"text-align: right;\">\n",
       "      <th></th>\n",
       "      <th>word</th>\n",
       "      <th>count</th>\n",
       "    </tr>\n",
       "  </thead>\n",
       "  <tbody>\n",
       "    <tr>\n",
       "      <td>30</td>\n",
       "      <td>в</td>\n",
       "      <td>82</td>\n",
       "    </tr>\n",
       "    <tr>\n",
       "      <td>62</td>\n",
       "      <td>и</td>\n",
       "      <td>64</td>\n",
       "    </tr>\n",
       "    <tr>\n",
       "      <td>174</td>\n",
       "      <td>на</td>\n",
       "      <td>38</td>\n",
       "    </tr>\n",
       "    <tr>\n",
       "      <td>76</td>\n",
       "      <td>по</td>\n",
       "      <td>22</td>\n",
       "    </tr>\n",
       "    <tr>\n",
       "      <td>2</td>\n",
       "      <td>не</td>\n",
       "      <td>19</td>\n",
       "    </tr>\n",
       "    <tr>\n",
       "      <td>148</td>\n",
       "      <td>с</td>\n",
       "      <td>17</td>\n",
       "    </tr>\n",
       "    <tr>\n",
       "      <td>305</td>\n",
       "      <td>а</td>\n",
       "      <td>15</td>\n",
       "    </tr>\n",
       "    <tr>\n",
       "      <td>51</td>\n",
       "      <td>что</td>\n",
       "      <td>13</td>\n",
       "    </tr>\n",
       "    <tr>\n",
       "      <td>549</td>\n",
       "      <td>к</td>\n",
       "      <td>12</td>\n",
       "    </tr>\n",
       "    <tr>\n",
       "      <td>758</td>\n",
       "      <td>20</td>\n",
       "      <td>10</td>\n",
       "    </tr>\n",
       "    <tr>\n",
       "      <td>277</td>\n",
       "      <td>армии</td>\n",
       "      <td>9</td>\n",
       "    </tr>\n",
       "    <tr>\n",
       "      <td>157</td>\n",
       "      <td>но</td>\n",
       "      <td>8</td>\n",
       "    </tr>\n",
       "    <tr>\n",
       "      <td>112</td>\n",
       "      <td>году</td>\n",
       "      <td>8</td>\n",
       "    </tr>\n",
       "    <tr>\n",
       "      <td>132</td>\n",
       "      <td>за</td>\n",
       "      <td>8</td>\n",
       "    </tr>\n",
       "    <tr>\n",
       "      <td>97</td>\n",
       "      <td>войск</td>\n",
       "      <td>8</td>\n",
       "    </tr>\n",
       "    <tr>\n",
       "      <td>199</td>\n",
       "      <td>во</td>\n",
       "      <td>8</td>\n",
       "    </tr>\n",
       "    <tr>\n",
       "      <td>95</td>\n",
       "      <td>для</td>\n",
       "      <td>7</td>\n",
       "    </tr>\n",
       "    <tr>\n",
       "      <td>271</td>\n",
       "      <td>он</td>\n",
       "      <td>7</td>\n",
       "    </tr>\n",
       "    <tr>\n",
       "      <td>316</td>\n",
       "      <td>это</td>\n",
       "      <td>7</td>\n",
       "    </tr>\n",
       "    <tr>\n",
       "      <td>39</td>\n",
       "      <td>сил</td>\n",
       "      <td>7</td>\n",
       "    </tr>\n",
       "    <tr>\n",
       "      <td>155</td>\n",
       "      <td>из</td>\n",
       "      <td>7</td>\n",
       "    </tr>\n",
       "    <tr>\n",
       "      <td>25</td>\n",
       "      <td>россии</td>\n",
       "      <td>6</td>\n",
       "    </tr>\n",
       "    <tr>\n",
       "      <td>142</td>\n",
       "      <td>как</td>\n",
       "      <td>6</td>\n",
       "    </tr>\n",
       "    <tr>\n",
       "      <td>53</td>\n",
       "      <td>будет</td>\n",
       "      <td>6</td>\n",
       "    </tr>\n",
       "    <tr>\n",
       "      <td>23</td>\n",
       "      <td>июля</td>\n",
       "      <td>6</td>\n",
       "    </tr>\n",
       "    <tr>\n",
       "      <td>52</td>\n",
       "      <td>у</td>\n",
       "      <td>6</td>\n",
       "    </tr>\n",
       "    <tr>\n",
       "      <td>80</td>\n",
       "      <td>человек</td>\n",
       "      <td>6</td>\n",
       "    </tr>\n",
       "    <tr>\n",
       "      <td>17</td>\n",
       "      <td>известия</td>\n",
       "      <td>6</td>\n",
       "    </tr>\n",
       "    <tr>\n",
       "      <td>759</td>\n",
       "      <td>лет</td>\n",
       "      <td>6</td>\n",
       "    </tr>\n",
       "    <tr>\n",
       "      <td>224</td>\n",
       "      <td>которые</td>\n",
       "      <td>6</td>\n",
       "    </tr>\n",
       "    <tr>\n",
       "      <td>38</td>\n",
       "      <td>вооруженных</td>\n",
       "      <td>6</td>\n",
       "    </tr>\n",
       "    <tr>\n",
       "      <td>321</td>\n",
       "      <td>часть</td>\n",
       "      <td>5</td>\n",
       "    </tr>\n",
       "    <tr>\n",
       "      <td>44</td>\n",
       "      <td>года</td>\n",
       "      <td>5</td>\n",
       "    </tr>\n",
       "    <tr>\n",
       "      <td>55</td>\n",
       "      <td>еще</td>\n",
       "      <td>5</td>\n",
       "    </tr>\n",
       "    <tr>\n",
       "      <td>134</td>\n",
       "      <td>до</td>\n",
       "      <td>5</td>\n",
       "    </tr>\n",
       "    <tr>\n",
       "      <td>597</td>\n",
       "      <td>раза</td>\n",
       "      <td>5</td>\n",
       "    </tr>\n",
       "    <tr>\n",
       "      <td>118</td>\n",
       "      <td>этом</td>\n",
       "      <td>5</td>\n",
       "    </tr>\n",
       "    <tr>\n",
       "      <td>389</td>\n",
       "      <td>тысяч</td>\n",
       "      <td>5</td>\n",
       "    </tr>\n",
       "    <tr>\n",
       "      <td>235</td>\n",
       "      <td>о</td>\n",
       "      <td>5</td>\n",
       "    </tr>\n",
       "    <tr>\n",
       "      <td>238</td>\n",
       "      <td>также</td>\n",
       "      <td>5</td>\n",
       "    </tr>\n",
       "    <tr>\n",
       "      <td>275</td>\n",
       "      <td>обороны</td>\n",
       "      <td>5</td>\n",
       "    </tr>\n",
       "    <tr>\n",
       "      <td>255</td>\n",
       "      <td>22</td>\n",
       "      <td>5</td>\n",
       "    </tr>\n",
       "    <tr>\n",
       "      <td>372</td>\n",
       "      <td>страны</td>\n",
       "      <td>4</td>\n",
       "    </tr>\n",
       "    <tr>\n",
       "      <td>821</td>\n",
       "      <td>где</td>\n",
       "      <td>4</td>\n",
       "    </tr>\n",
       "    <tr>\n",
       "      <td>425</td>\n",
       "      <td>3</td>\n",
       "      <td>4</td>\n",
       "    </tr>\n",
       "    <tr>\n",
       "      <td>427</td>\n",
       "      <td>рублей</td>\n",
       "      <td>4</td>\n",
       "    </tr>\n",
       "    <tr>\n",
       "      <td>480</td>\n",
       "      <td>более</td>\n",
       "      <td>4</td>\n",
       "    </tr>\n",
       "    <tr>\n",
       "      <td>935</td>\n",
       "      <td>потом</td>\n",
       "      <td>4</td>\n",
       "    </tr>\n",
       "    <tr>\n",
       "      <td>329</td>\n",
       "      <td>флота</td>\n",
       "      <td>4</td>\n",
       "    </tr>\n",
       "    <tr>\n",
       "      <td>252</td>\n",
       "      <td>8</td>\n",
       "      <td>4</td>\n",
       "    </tr>\n",
       "  </tbody>\n",
       "</table>\n",
       "</div>"
      ],
      "text/plain": [
       "            word  count\n",
       "30             в     82\n",
       "62             и     64\n",
       "174           на     38\n",
       "76            по     22\n",
       "2             не     19\n",
       "148            с     17\n",
       "305            а     15\n",
       "51           что     13\n",
       "549            к     12\n",
       "758           20     10\n",
       "277        армии      9\n",
       "157           но      8\n",
       "112         году      8\n",
       "132           за      8\n",
       "97         войск      8\n",
       "199           во      8\n",
       "95           для      7\n",
       "271           он      7\n",
       "316          это      7\n",
       "39           сил      7\n",
       "155           из      7\n",
       "25        россии      6\n",
       "142          как      6\n",
       "53         будет      6\n",
       "23          июля      6\n",
       "52             у      6\n",
       "80       человек      6\n",
       "17      известия      6\n",
       "759          лет      6\n",
       "224      которые      6\n",
       "38   вооруженных      6\n",
       "321        часть      5\n",
       "44          года      5\n",
       "55           еще      5\n",
       "134           до      5\n",
       "597         раза      5\n",
       "118         этом      5\n",
       "389        тысяч      5\n",
       "235            о      5\n",
       "238        также      5\n",
       "275      обороны      5\n",
       "255           22      5\n",
       "372       страны      4\n",
       "821          где      4\n",
       "425            3      4\n",
       "427       рублей      4\n",
       "480        более      4\n",
       "935        потом      4\n",
       "329        флота      4\n",
       "252            8      4"
      ]
     },
     "execution_count": 11,
     "metadata": {},
     "output_type": "execute_result"
    }
   ],
   "source": [
    "countedWords.sort_values('count', ascending=False, inplace=True)\n",
    "countedWords[:50]"
   ]
  },
  {
   "cell_type": "code",
   "execution_count": 12,
   "metadata": {},
   "outputs": [
    {
     "data": {
      "image/png": "[encoded data removed]",
      "text/plain": [
       "<Figure size 432x288 with 1 Axes>"
      ]
     },
     "metadata": {
      "needs_background": "light"
     },
     "output_type": "display_data"
    }
   ],
   "source": [
    "fig = plt.figure()\n",
    "ax = fig.add_subplot(111)\n",
    "plt.plot(range(len(countedWords)), countedWords['count'])\n",
    "plt.show()"
   ]
  },
  {
   "cell_type": "code",
   "execution_count": 13,
   "metadata": {},
   "outputs": [
    {
     "data": {
      "image/png": "[encoded data removed]",
      "text/plain": [
       "<Figure size 432x288 with 1 Axes>"
      ]
     },
     "metadata": {
      "needs_background": "light"
     },
     "output_type": "display_data"
    }
   ],
   "source": [
    "fig = plt.figure()\n",
    "ax = fig.add_subplot(111)\n",
    "plt.plot(range(len(countedWords)), countedWords['count'])\n",
    "ax.set_yscale('log')\n",
    "ax.set_xscale('log')\n",
    "plt.show()"
   ]
  },
  {
   "cell_type": "code",
   "execution_count": 14,
   "metadata": {},
   "outputs": [],
   "source": [
    "import nltk"
   ]
  },
  {
   "cell_type": "code",
   "execution_count": 15,
   "metadata": {},
   "outputs": [
    {
     "name": "stderr",
     "output_type": "stream",
     "text": [
      "../aten/src/ATen/native/LegacyDefinitions.cpp:19: UserWarning: masked_fill_ received a mask with dtype torch.uint8, this behavior is now deprecated,please use a mask with dtype torch.bool instead.\n"
     ]
    }
   ],
   "source": [
    "izvestiiaTokens = word_tokenize(clean)"
   ]
  },
  {
   "cell_type": "code",
   "execution_count": 16,
   "metadata": {},
   "outputs": [],
   "source": [
    "izvestiiaText = nltk.Text(izvestiiaTokens)"
   ]
  },
  {
   "cell_type": "code",
   "execution_count": 17,
   "metadata": {},
   "outputs": [
    {
     "name": "stdout",
     "output_type": "stream",
     "text": [
      "Displaying 6 of 6 matches:\n",
      " ЛИТОВКИН Известия 16 июля президент России Борис Ельцин внезапно подписал в Кар\n",
      "еленый свет» реформе Вооруженных сил России Утечек не было 18 июля 1997 года пят\n",
      "N8 133 24988 Появилась надежда что у России будет Мы еще не забыли ряд трагическ\n",
      "ься до 10 человек В пресс-службе МЧС России рассказали что из Москвы в срочном п\n",
      " строят дачи» Борис Ельцин президент России 16 июля в Карелии после встречи с Ви\n",
      " Уфа Харьков Челябинск Гидрометцентр России 133И 0233 Ч35Ь 50.ВЯ1 ОКЯ 2,4 ОМ 3 н\n"
     ]
    }
   ],
   "source": [
    "izvestiiaIndex = nltk.text.ConcordanceIndex(izvestiiaText) \n",
    "izvestiiaIndex.print_concordance('России')"
   ]
  },
  {
   "cell_type": "code",
   "execution_count": 18,
   "metadata": {},
   "outputs": [],
   "source": [
    "targetDir = '/Users/Leha/Desktop/Izvestia/Abby_Fine_Reader_Extracted_Text/1997_txt' #Change this to your own directory of texts\n",
    "izvestiiaText = []\n",
    "izvestiiaFileName = []\n",
    "\n",
    "for file in (file for file in os.scandir(targetDir) if file.is_file() and not file.name.startswith('.')):\n",
    "    with open(file.path, encoding=\"utf-8\") as f:\n",
    "        izvestiiaText.append(f.read())\n",
    "    izvestiiaFileName.append(file.name)"
   ]
  },
  {
   "cell_type": "code",
   "execution_count": 19,
   "metadata": {},
   "outputs": [],
   "source": [
    "izvestiia_df = pd.DataFrame({'text' : izvestiiaText}, index = izvestiiaFileName)"
   ]
  },
  {
   "cell_type": "code",
   "execution_count": null,
   "metadata": {},
   "outputs": [],
   "source": [
    "# I dont want to run this, because it takes a very long time\n",
    "izvestiia_df['tokenized_text'] = izvestiia_df['text'].apply(lambda x: word_tokenize(x))"
   ]
  },
  {
   "cell_type": "code",
   "execution_count": 20,
   "metadata": {},
   "outputs": [],
   "source": [
    "izvestiia_df = pd.read_json('Izvestiia_1997_pages_lemmas')"
   ]
  },
  {
   "cell_type": "code",
   "execution_count": null,
   "metadata": {},
   "outputs": [],
   "source": [
    "izvestiia_df['word_counts'] = izvestiia_df['tokenized_text'].apply(lambda x: len(x))"
   ]
  },
  {
   "cell_type": "code",
   "execution_count": 21,
   "metadata": {},
   "outputs": [
    {
     "data": {
      "text/plain": [
       "1997 Issue 246 December 30 Page 9.txt      3529\n",
       "1997 Issue 133 July 18 Page 3.txt          3922\n",
       "1997 Issue 133 July 18 Page 2.txt          3431\n",
       "1997 Issue 151 August 13 Page 6.txt        2836\n",
       "1997 Issue 246 December 30 Page 8.txt      4076\n",
       "1997 Issue 151 August 13 Page 4.txt        1764\n",
       "1997 Issue 133 July 18 Page 1.txt          2253\n",
       "1997 Issue 151 August 13 Page 5.txt        4756\n",
       "1997 Issue 151 August 13 Page 1.txt        2178\n",
       "1997 Issue 133 July 18 Page 5.txt          4337\n",
       "1997 Issue 133 July 18 Page 4.txt          3658\n",
       "1997 Issue 151 August 13 Page 2.txt        4155\n",
       "1997 Issue 133 July 18 Page 6.txt          3990\n",
       "1997 Issue 133 July 18 Page 7.txt          3064\n",
       "1997 Issue 151 August 13 Page 3.txt        4733\n",
       "1997 Issue 170 September 09 Page 10.txt    2030\n",
       "1997 Issue 208 October 31 Page 6.txt       3929\n",
       "1997 Issue 208 October 31 Page 7.txt       3222\n",
       "1997 Issue 170 September 09 Page 11.txt    2500\n",
       "1997 Issue 208 October 31 Page 5.txt       3040\n",
       "1997 Issue 170 September 09 Page 8.txt     2716\n",
       "1997 Issue 170 September 09 Page 9.txt     3005\n",
       "1997 Issue 208 October 31 Page 4.txt        825\n",
       "1997 Issue 170 September 09 Page 12.txt    2557\n",
       "1997 Issue 208 October 31 Page 1.txt       2576\n",
       "1997 Issue 208 October 31 Page 3.txt       2820\n",
       "1997 Issue 208 October 31 Page 2.txt       4698\n",
       "1997 Issue 246 December 30 Page 14.txt     3749\n",
       "1997 Issue 170 September 09 Page 2.txt     3663\n",
       "1997 Issue 170 September 09 Page 3.txt     3349\n",
       "1997 Issue 189 October 04 Page 1.txt       2223\n",
       "1997 Issue 189 October 04 Page 3.txt       3542\n",
       "1997 Issue 170 September 09 Page 1.txt     2291\n",
       "1997 Issue 189 October 04 Page 2.txt       3863\n",
       "1997 Issue 189 October 04 Page 6.txt       3996\n",
       "1997 Issue 246 December 30 Page 12.txt     3946\n",
       "1997 Issue 170 September 09 Page 4.txt     1554\n",
       "1997 Issue 170 September 09 Page 5.txt     3222\n",
       "1997 Issue 208 October 31 Page 8.txt       3932\n",
       "1997 Issue 246 December 30 Page 13.txt     3538\n",
       "1997 Issue 189 October 04 Page 5.txt       3150\n",
       "1997 Issue 246 December 30 Page 11.txt     3956\n",
       "1997 Issue 170 September 09 Page 7.txt     2229\n",
       "1997 Issue 170 September 09 Page 6.txt     3340\n",
       "1997 Issue 246 December 30 Page 10.txt     1941\n",
       "1997 Issue 189 October 04 Page 4.txt       3246\n",
       "1997 Issue 227 November 29 Page 6.txt      4166\n",
       "1997 Issue 246 December 30 Page 1.txt      2377\n",
       "1997 Issue 246 December 30 Page 3.txt      3865\n",
       "1997 Issue 227 November 29 Page 4.txt      3368\n",
       "1997 Issue 227 November 29 Page 5.txt      2735\n",
       "1997 Issue 246 December 30 Page 2.txt      4201\n",
       "1997 Issue 246 December 30 Page 6.txt      3479\n",
       "1997 Issue 227 November 29 Page 1.txt      2223\n",
       "1997 Issue 246 December 30 Page 7.txt      2104\n",
       "1997 Issue 246 December 30 Page 5.txt      4736\n",
       "1997 Issue 227 November 29 Page 2.txt      4193\n",
       "1997 Issue 227 November 29 Page 3.txt      3369\n",
       "1997 Issue 246 December 30 Page 4.txt      2511\n",
       "Name: word_counts, dtype: int64"
      ]
     },
     "execution_count": 21,
     "metadata": {},
     "output_type": "execute_result"
    }
   ],
   "source": [
    "izvestiia_df['word_counts']"
   ]
  },
  {
   "cell_type": "code",
   "execution_count": null,
   "metadata": {},
   "outputs": [],
   "source": []
  },
  {
   "cell_type": "markdown",
   "metadata": {},
   "source": [
    "# Filtering and normalizing text\n",
    "\n",
    "As we want to start comparing the different releases we may choose to do a bit of filtering and normalizing that will allow us to focus on what we most care about. We can first make all of the words lower case, then drop the non-word tokens. Next, we can remove some 'stop words', stem the remaining words to remove suffixes, prefixes and (in some languages) infixes, or lemmatize tokens by intelligently grouping inflected or variant forms of the same word (e.g., with a stemmer and a dictionary). \n",
    "\n",
    "To begin this process, we will first define a function to work over the tokenized lists, then another to add normalized tokens to a new column."
   ]
  },
  {
   "cell_type": "markdown",
   "metadata": {},
   "source": [
    "We will be using spaCy's built in stop words identifying capacity. When we run text through spaCy's language pipeline, it automatically tags it as a stop word. "
   ]
  },
  {
   "cell_type": "markdown",
   "metadata": {},
   "source": [
    "We can remove these stopwords from the analysis by fiat, but we could also take a more principled approach by looking at the frequency distribution of words and selecting a specific cut-off associated with the preservation of 'meaningful words' identified upon inspection. Alternatively, we could automatically set a cut-off by rule, such as removal of all words more frequent than the most frequent verb, or the most frequent noun (not pronoun), or some term of central interest. "
   ]
  },
  {
   "cell_type": "code",
   "execution_count": null,
   "metadata": {},
   "outputs": [],
   "source": [
    "countsDict = {}\n",
    "for word in whReleases['tokenized_text'].sum():\n",
    "    if word in countsDict:\n",
    "        countsDict[word] += 1\n",
    "    else:\n",
    "        countsDict[word] = 1\n",
    "word_counts = sorted(countsDict.items(), key = lambda x : x[1], reverse = True)\n",
    "word_counts[:20]"
   ]
  },
  {
   "cell_type": "markdown",
   "metadata": {},
   "source": [
    "What are we doing here? We want to get the list of all words in the corpus, and then count how many times each word is used. \"whReleases['tokenized_text'].sum()\" does the the former; and the rest of the codes in the loop does the latter. And then we use sorted function to sort the words in a descending order, i.e., arranged from the largest to the smallest number."
   ]
  },
  {
   "cell_type": "markdown",
   "metadata": {},
   "source": [
    "We can look at this and pick the cutoff, often at the first noun. So we will cut all words before `'Whitehouse'`."
   ]
  },
  {
   "cell_type": "code",
   "execution_count": null,
   "metadata": {},
   "outputs": [],
   "source": [
    "#The stop list is then all words that occur before the first noun\n",
    "stop_words_freq = []\n",
    "for word, count in word_counts:\n",
    "    if word == 'Whitehouse':\n",
    "        break\n",
    "    else:\n",
    "        stop_words_freq.append(word)\n",
    "stop_words_freq"
   ]
  },
  {
   "cell_type": "markdown",
   "metadata": {},
   "source": [
    "We're already familiar with for and if statements. But what does the break statement do here? Let's go back to what we are up to: We are trying to find words that occur more frequently than Whitehouse, which is the cutoff word that we're using here. So, using \"break\", we stopped when we see \"Whitehouse\"; then, we appended the words that appeared before \"Whitehouse\", i.e., the words that occurred more frequently than Whitehouse. As you can see, what the break statement does is: it stops the execution of the loop and move on to the next line of code. "
   ]
  },
  {
   "cell_type": "markdown",
   "metadata": {},
   "source": [
    "If we did have any extra words to add as stop words apart from those normally considered as stop words, we would add it to our stop words by passing it to the normalize tokens method. "
   ]
  },
  {
   "cell_type": "markdown",
   "metadata": {},
   "source": [
    "Now we can create our function to normalize the tokens"
   ]
  },
  {
   "cell_type": "code",
   "execution_count": null,
   "metadata": {
    "collapsed": true
   },
   "outputs": [],
   "source": [
    "def normalizeTokens(word_list, extra_stop=[]):\n",
    "    #We can use a generator here as we just need to iterate over it\n",
    "    normalized = []\n",
    "    if type(word_list) == list and len(word_list) == 1:\n",
    "        word_list = word_list[0]\n",
    "\n",
    "    if type(word_list) == list:\n",
    "        word_list = ' '.join([str(elem) for elem in word_list]) \n",
    "\n",
    "    doc = nlp(word_list.lower())\n",
    "    \n",
    "    # add the property of stop word to words considered as stop words\n",
    "    if len(extra_stop) > 0:\n",
    "        for stopword in extra_stop:\n",
    "            lexeme = nlp.vocab[stopword]\n",
    "            lexeme.is_stop = True\n",
    "\n",
    "    for w in doc:\n",
    "        # if it's not a stop word or punctuation mark, add it to our article\n",
    "        if w.text != '\\n' and not w.is_stop and not w.is_punct and not w.like_num and len(w.text.strip()) > 0:\n",
    "            # we add the lematized version of the word\n",
    "            normalized.append(str(w.lemma_))\n",
    "\n",
    "    return normalized"
   ]
  },
  {
   "cell_type": "code",
   "execution_count": null,
   "metadata": {},
   "outputs": [],
   "source": [
    "whReleases['normalized_tokens'] = whReleases['tokenized_text'].apply(lambda x: normalizeTokens(x))\n",
    "\n",
    "whReleases['normalized_tokens_count'] = whReleases['normalized_tokens'].apply(lambda x: len(x))\n",
    "\n",
    "whReleases"
   ]
  },
  {
   "cell_type": "markdown",
   "metadata": {},
   "source": [
    "You can see that in the final step of normalizing, we add the lemmatized form of the word. spaCy's built in lemmatizer does this (https://spacy.io/api/lemmatizer). Lemmatization can be thought of as finding the root or the base of the word after removing inflections and other variations of words. Another possible way of finding the roots of words is using NLTK's porting or stemming functionalities, but we will not be getting into them.\n",
    "\n",
    "Now that it is cleaned we start analyzing the dataset. We can start by finding frequency distributions for the dataset. Lets start looking at all the press releases together. The [`ConditionalFreqDist`](http://www.nltk.org/api/nltk.html#nltk.probability.ConditionalProbDist) class reads in an iterable of tuples, the first element is the condition and the second the focal word. For starters, we will use word lengths as the conditions, but tags or clusters will provide more useful results."
   ]
  },
  {
   "cell_type": "code",
   "execution_count": null,
   "metadata": {},
   "outputs": [],
   "source": [
    "#.sum() adds together the lists from each row into a single list\n",
    "whcfdist = nltk.ConditionalFreqDist(((len(w), w) for w in whReleases['normalized_tokens'].sum()))\n",
    "\n",
    "#print the number of words\n",
    "print(whcfdist.N())"
   ]
  },
  {
   "cell_type": "markdown",
   "metadata": {},
   "source": [
    "From this we can lookup the distributions of different word lengths"
   ]
  },
  {
   "cell_type": "code",
   "execution_count": null,
   "metadata": {},
   "outputs": [],
   "source": [
    "whcfdist[3].plot()"
   ]
  },
  {
   "cell_type": "markdown",
   "metadata": {},
   "source": [
    "We can also create a Conditional Probability Distribution or [`ConditionalProbDist`](http://www.nltk.org/api/nltk.html#nltk.probability.ConditionalProbDist) from the `ConditionalFreqDist`. To do this, however, we need a model for the probability distribution. A simple model is [`ELEProbDist`](http://www.nltk.org/api/nltk.html#nltk.probability.ELEProbDist) which gives the expected likelihood estimate for the probability distribution of the experiment used to generate the observed frequency distribution. "
   ]
  },
  {
   "cell_type": "code",
   "execution_count": null,
   "metadata": {},
   "outputs": [],
   "source": [
    "whcpdist = nltk.ConditionalProbDist(whcfdist, nltk.ELEProbDist)\n",
    "\n",
    "#print the most common 2 letter word\n",
    "print(whcpdist[2].max())\n",
    "\n",
    "#And its probability\n",
    "print(whcpdist[2].prob(whcpdist[2].max()))"
   ]
  },
  {
   "cell_type": "markdown",
   "metadata": {},
   "source": [
    "Length is one feature of a word, but there are many more important features we care about. Another critical feature is a word's role in the sentence, or its part of speech (POS). \n",
    "\n",
    "The method below works similarly to ```nltk.pos_text```, and can work with the conditional frequency distributions it provides."
   ]
  },
  {
   "cell_type": "code",
   "execution_count": null,
   "metadata": {
    "collapsed": true
   },
   "outputs": [],
   "source": [
    "def spacy_pos(word_list):\n",
    "    tags = []\n",
    "    doc = nlp(word_list.lower())\n",
    "    for w in doc:\n",
    "        tags.append((w.text, w.tag_))\n",
    "    return tags"
   ]
  },
  {
   "cell_type": "code",
   "execution_count": null,
   "metadata": {
    "collapsed": true
   },
   "outputs": [],
   "source": [
    "whReleases['normalized_tokens_POS'] = [spacy_pos(t) for t in whReleases['text']]"
   ]
  },
  {
   "cell_type": "markdown",
   "metadata": {},
   "source": [
    "This gives us a new column with the part of speech as a short initialism and the word in a tuple, exactly how the `nltk.ConditionalFreqDist()` function wants them. We can now construct another conditional frequency distribution."
   ]
  },
  {
   "cell_type": "code",
   "execution_count": null,
   "metadata": {},
   "outputs": [],
   "source": [
    "whcfdist_WordtoPOS = nltk.ConditionalFreqDist(whReleases['normalized_tokens_POS'].sum())\n",
    "list(whcfdist_WordtoPOS.items())[:10]"
   ]
  },
  {
   "cell_type": "markdown",
   "metadata": {},
   "source": [
    "This gives the frequency of each word as each part of speech...which can be uninformative and boring. What we want is the converse; the frequency of each part of speech for each word."
   ]
  },
  {
   "cell_type": "code",
   "execution_count": null,
   "metadata": {
    "collapsed": true
   },
   "outputs": [],
   "source": [
    "whcfdist_POStoWord = nltk.ConditionalFreqDist((p, w) for w, p in whReleases['normalized_tokens_POS'].sum())"
   ]
  },
  {
   "cell_type": "markdown",
   "metadata": {},
   "source": [
    "We can now identify and collect all of the superlative adjectives"
   ]
  },
  {
   "cell_type": "code",
   "execution_count": null,
   "metadata": {},
   "outputs": [],
   "source": [
    "whcfdist_POStoWord['JJ']"
   ]
  },
  {
   "cell_type": "markdown",
   "metadata": {},
   "source": [
    "Or look at the most common nouns"
   ]
  },
  {
   "cell_type": "code",
   "execution_count": null,
   "metadata": {},
   "outputs": [],
   "source": [
    "whcfdist_POStoWord['NN'].most_common(5)"
   ]
  },
  {
   "cell_type": "markdown",
   "metadata": {},
   "source": [
    "Or plot the base form verbs against their number of occurrences"
   ]
  },
  {
   "cell_type": "code",
   "execution_count": null,
   "metadata": {},
   "outputs": [],
   "source": [
    "whcfdist_POStoWord['VB'].plot()"
   ]
  },
  {
   "cell_type": "markdown",
   "metadata": {},
   "source": [
    "We can then do a similar analysis of the word probabilities"
   ]
  },
  {
   "cell_type": "code",
   "execution_count": null,
   "metadata": {
    "collapsed": true
   },
   "outputs": [],
   "source": [
    "whcpdist_POStoWord = nltk.ConditionalProbDist(whcfdist_POStoWord, nltk.ELEProbDist)\n",
    "\n",
    "#print the most common nouns\n",
    "print(whcpdist_POStoWord['NN'].max())\n",
    "\n",
    "#And its probability\n",
    "print(whcpdist_POStoWord['NN'].prob(whcpdist_POStoWord['NN'].max()))"
   ]
  },
  {
   "cell_type": "markdown",
   "metadata": {},
   "source": [
    "We can even create a...wait for it...*WORD CLOUD* or Wordl to gaze at and draw mystical, approximate inferences about important nouns and verbs in our corpus:"
   ]
  },
  {
   "cell_type": "code",
   "execution_count": null,
   "metadata": {
    "collapsed": true
   },
   "outputs": [],
   "source": [
    "wc = wordcloud.WordCloud(background_color=\"white\", max_words=500, width= 1000, height = 1000, mode ='RGBA', scale=.5).generate(' '.join(whReleases['normalized_tokens'].sum()))\n",
    "plt.imshow(wc)\n",
    "plt.axis(\"off\")\n",
    "plt.savefig(\"whitehouse_word_cloud.pdf\", format = 'pdf')"
   ]
  },
  {
   "cell_type": "markdown",
   "metadata": {},
   "source": [
    "## <span style=\"color:red\">*Exercise 2*</span>\n",
    "\n",
    "<span style=\"color:red\">Construct cells immediately below this that filter, stem and lemmatize the tokens in your corpus, and then creates plots (with titles and labels) that map the word frequency distribution, word probability distribution, and at least two conditional probability distributions that help us better understand the social and cultural game underlying the production of your corpus. Create a wordl of words (or normalized words) and add a few vague comments about what mysteries are revealed through it.</span>"
   ]
  },
  {
   "cell_type": "code",
   "execution_count": 24,
   "metadata": {},
   "outputs": [
    {
     "data": {
      "text/plain": [
       "[('в', 5529),\n",
       " ('и', 4644),\n",
       " ('на', 2716),\n",
       " ('не', 2080),\n",
       " ('с', 1641),\n",
       " ('что', 1422),\n",
       " ('по', 1216),\n",
       " ('В', 901),\n",
       " ('а', 858),\n",
       " ('из', 784),\n",
       " ('к', 762),\n",
       " ('о', 704),\n",
       " ('за', 683),\n",
       " ('как', 675),\n",
       " ('для', 648),\n",
       " ('от', 551),\n",
       " ('его', 513),\n",
       " ('1', 474),\n",
       " ('это', 462),\n",
       " ('России', 427)]"
      ]
     },
     "execution_count": 24,
     "metadata": {},
     "output_type": "execute_result"
    }
   ],
   "source": [
    "countsDict = {}\n",
    "for word in izvestiia_df['tokenized_text'].sum():\n",
    "    if word in countsDict:\n",
    "        countsDict[word] += 1\n",
    "    else:\n",
    "        countsDict[word] = 1\n",
    "word_counts = sorted(countsDict.items(), key = lambda x : x[1], reverse = True)\n",
    "word_counts[:20]"
   ]
  },
  {
   "cell_type": "code",
   "execution_count": 25,
   "metadata": {},
   "outputs": [
    {
     "data": {
      "text/plain": [
       "['в',\n",
       " 'и',\n",
       " 'на',\n",
       " 'не',\n",
       " 'с',\n",
       " 'что',\n",
       " 'по',\n",
       " 'В',\n",
       " 'а',\n",
       " 'из',\n",
       " 'к',\n",
       " 'о',\n",
       " 'за',\n",
       " 'как',\n",
       " 'для',\n",
       " 'от',\n",
       " 'его',\n",
       " '1',\n",
       " 'это']"
      ]
     },
     "execution_count": 25,
     "metadata": {},
     "output_type": "execute_result"
    }
   ],
   "source": [
    "stop_words_freq = []\n",
    "for word, count in word_counts:\n",
    "    if word == 'России':\n",
    "        break\n",
    "    else:\n",
    "        stop_words_freq.append(word)\n",
    "stop_words_freq"
   ]
  },
  {
   "cell_type": "code",
   "execution_count": 26,
   "metadata": {},
   "outputs": [],
   "source": [
    "def normalizeTokens(word_list, extra_stop=[]):\n",
    "    #We can use a generator here as we just need to iterate over it\n",
    "    normalized = []\n",
    "    if type(word_list) == list and len(word_list) == 1:\n",
    "        word_list = word_list[0]\n",
    "\n",
    "    if type(word_list) == list:\n",
    "        word_list = ' '.join([str(elem) for elem in word_list]) \n",
    "\n",
    "    doc = nlp(word_list.lower())\n",
    "    \n",
    "    # add the property of stop word to words considered as stop words\n",
    "    if len(extra_stop) > 0:\n",
    "        for stopword in extra_stop:\n",
    "            lexeme = nlp.vocab[stopword]\n",
    "            lexeme.is_stop = True\n",
    "\n",
    "    for w in doc:\n",
    "        # if it's not a stop word or punctuation mark, add it to our article\n",
    "        if w.text != '\\n' and not w.is_stop and not w.is_punct and not w.like_num and len(w.text.strip()) > 0:\n",
    "            # we add the lematized version of the word\n",
    "            normalized.append(str(w.lemma_))\n",
    "\n",
    "    return normalized"
   ]
  },
  {
   "cell_type": "code",
   "execution_count": null,
   "metadata": {},
   "outputs": [],
   "source": [
    "# again, this takes a long time to run, so I will just show the end results\n",
    "snlp = stanfordnlp.Pipeline(lang=\"ru\", processors='tokenize,lemma')\n",
    "nlp = StanfordNLPLanguage(snlp)\n",
    "\n",
    "izvestiia_df['lemma_tokens'] = izvestiia_df['tokenized_text'].apply(lambda x: normalizeTokens(x))\n",
    "\n",
    "izvestiia_df['lemma_tokens_count'] = izvestiia_df['lemma_tokens'].apply(lambda x: len(x))"
   ]
  },
  {
   "cell_type": "code",
   "execution_count": 27,
   "metadata": {},
   "outputs": [
    {
     "data": {
      "text/html": [
       "<div>\n",
       "<style scoped>\n",
       "    .dataframe tbody tr th:only-of-type {\n",
       "        vertical-align: middle;\n",
       "    }\n",
       "\n",
       "    .dataframe tbody tr th {\n",
       "        vertical-align: top;\n",
       "    }\n",
       "\n",
       "    .dataframe thead th {\n",
       "        text-align: right;\n",
       "    }\n",
       "</style>\n",
       "<table border=\"1\" class=\"dataframe\">\n",
       "  <thead>\n",
       "    <tr style=\"text-align: right;\">\n",
       "      <th></th>\n",
       "      <th>text</th>\n",
       "      <th>tokenized_text</th>\n",
       "      <th>word_counts</th>\n",
       "      <th>normalized_tokens</th>\n",
       "      <th>normalized_tokens_count</th>\n",
       "      <th>lemma_tokens</th>\n",
       "      <th>lemma_tokens_count</th>\n",
       "    </tr>\n",
       "  </thead>\n",
       "  <tbody>\n",
       "    <tr>\n",
       "      <td>1997 Issue 246 December 30 Page 9.txt</td>\n",
       "      <td>﻿ФИНАНСОВЫЕ ИЗВЕСТИЯ Ко 99 &lt;459)\\nБАНКИ И ФИНА...</td>\n",
       "      <td>[﻿, ФИНАНСОВЫЕ, ИЗВЕСТИЯ, Ко, 99, &lt;, 459, БАНК...</td>\n",
       "      <td>3529</td>\n",
       "      <td>[﻿, финансовые, известия, &lt;, банки, финансы, л...</td>\n",
       "      <td>2516</td>\n",
       "      <td>[﻿, финансовый, известие, &lt;, банк, финансы, ло...</td>\n",
       "      <td>2516</td>\n",
       "    </tr>\n",
       "    <tr>\n",
       "      <td>1997 Issue 133 July 18 Page 3.txt</td>\n",
       "      <td>﻿№ 133 •\\nИЗВЕСТИЯ\\n18 июля 1997 года *\\nВерса...</td>\n",
       "      <td>[﻿№, 133, ИЗВЕСТИЯ, 18, июля, 1997, года, Верс...</td>\n",
       "      <td>3922</td>\n",
       "      <td>[﻿№, известия, июль, года, версаче, нанимать, ...</td>\n",
       "      <td>2778</td>\n",
       "      <td>[﻿№, известие, июль, год, версача, нанимать, т...</td>\n",
       "      <td>2778</td>\n",
       "    </tr>\n",
       "    <tr>\n",
       "      <td>1997 Issue 133 July 18 Page 2.txt</td>\n",
       "      <td>﻿N9 133 •\\nИЗВЕСТИЯ\\n\\nОТ НАШИХ ■ корреспонден...</td>\n",
       "      <td>[﻿, N9, 133, ИЗВЕСТИЯ, ОТ, НАШИХ, ■, корреспон...</td>\n",
       "      <td>3431</td>\n",
       "      <td>[﻿, n9, известия, ■, корреспондентов, информац...</td>\n",
       "      <td>2415</td>\n",
       "      <td>[﻿, n9, известие, ■, корреспондент, информацио...</td>\n",
       "      <td>2415</td>\n",
       "    </tr>\n",
       "    <tr>\n",
       "      <td>1997 Issue 151 August 13 Page 6.txt</td>\n",
       "      <td>﻿N9 151 •\\nИЗВЕСТИЯ\\n13 августа 1997 года •\\n•...</td>\n",
       "      <td>[﻿, N9, 151, ИЗВЕСТИЯ, 13, августа, 1997, года...</td>\n",
       "      <td>2836</td>\n",
       "      <td>[﻿, n9, известия, августа, года, автомобили, о...</td>\n",
       "      <td>1925</td>\n",
       "      <td>[﻿, n9, известие, август, год, автомобиль, обо...</td>\n",
       "      <td>1925</td>\n",
       "    </tr>\n",
       "    <tr>\n",
       "      <td>1997 Issue 246 December 30 Page 8.txt</td>\n",
       "      <td>﻿II • 30 декабря 1997 г., вторник\\nБИЗНЕС И ЭК...</td>\n",
       "      <td>[﻿II, 30, декабря, 1997, г., вторник, БИЗНЕС, ...</td>\n",
       "      <td>4076</td>\n",
       "      <td>[﻿ii, декабрь, г., вторник, бизнес, экономика,...</td>\n",
       "      <td>3001</td>\n",
       "      <td>[﻿ii, декабрь, год, вторник, бизнес, экономика...</td>\n",
       "      <td>3001</td>\n",
       "    </tr>\n",
       "    <tr>\n",
       "      <td>1997 Issue 151 August 13 Page 4.txt</td>\n",
       "      <td>﻿N6 151 •\\n13 августа 1997 года ♦\\nУГй/№ НЕФТЕ...</td>\n",
       "      <td>[﻿, N6, 151, 13, августа, 1997, года, ♦, УГй, ...</td>\n",
       "      <td>1764</td>\n",
       "      <td>[﻿, n6, августа, года, ♦, угй, №, нефтегазовой...</td>\n",
       "      <td>1180</td>\n",
       "      <td>[﻿, n6, август, год, ♦, угй, №, нефтегазовый, ...</td>\n",
       "      <td>1180</td>\n",
       "    </tr>\n",
       "    <tr>\n",
       "      <td>1997 Issue 133 July 18 Page 1.txt</td>\n",
       "      <td>﻿ж\\n«Я НЕ НАСТОЛЬКО ПОДЛ,\\nЧТОБЫ БЫТЬ ПЕССИМИС...</td>\n",
       "      <td>[﻿ж, Я, НЕ, НАСТОЛЬКО, ПОДЛ, ЧТОБЫ, БЫТЬ, ПЕСС...</td>\n",
       "      <td>2253</td>\n",
       "      <td>[﻿ж, настолько, подлый, пессимист, покупайте, ...</td>\n",
       "      <td>1535</td>\n",
       "      <td>[﻿ж, настолько, подти, пессимист, покупать, св...</td>\n",
       "      <td>1535</td>\n",
       "    </tr>\n",
       "    <tr>\n",
       "      <td>1997 Issue 151 August 13 Page 5.txt</td>\n",
       "      <td>﻿№ 151 •\\nИЗВЕСТИЯ\\n13 августа 1997 года *\\nНа...</td>\n",
       "      <td>[﻿№, 151, ИЗВЕСТИЯ, 13, августа, 1997, года, Н...</td>\n",
       "      <td>4756</td>\n",
       "      <td>[﻿№, известия, августа, года, зерновом, кончал...</td>\n",
       "      <td>3143</td>\n",
       "      <td>[﻿№, известие, август, год, зерновой, кончалов...</td>\n",
       "      <td>3143</td>\n",
       "    </tr>\n",
       "    <tr>\n",
       "      <td>1997 Issue 151 August 13 Page 1.txt</td>\n",
       "      <td>﻿И5ВГГТИ!\\n№ 151 (25004)\\n13 августа 1997 года...</td>\n",
       "      <td>[﻿И5ВГГТИ, №, 151, 25004, 13, августа, 1997, г...</td>\n",
       "      <td>2178</td>\n",
       "      <td>[﻿и5вггти, №, 151 25004, августа, года, среда,...</td>\n",
       "      <td>1591</td>\n",
       "      <td>[иизвггть, №, 151 25004, август, год, среда, г...</td>\n",
       "      <td>1591</td>\n",
       "    </tr>\n",
       "    <tr>\n",
       "      <td>1997 Issue 133 July 18 Page 5.txt</td>\n",
       "      <td>﻿N8 133 •\\n18 июля 1997 года • к\\nЗачем нам\\nС...</td>\n",
       "      <td>[﻿, N8, 133, 18, июля, 1997, года, к, Зачем, н...</td>\n",
       "      <td>4337</td>\n",
       "      <td>[﻿, n8, июль, года, зачем, сын, китайского, па...</td>\n",
       "      <td>3086</td>\n",
       "      <td>[﻿, n8, июль, год, зачем, сын, китайский, патр...</td>\n",
       "      <td>3086</td>\n",
       "    </tr>\n",
       "    <tr>\n",
       "      <td>1997 Issue 133 July 18 Page 4.txt</td>\n",
       "      <td>﻿№ 133 О\\n1 КАНАЛ\\n\\n1 КАНАЛ\\n16.00,18.00,1.20...</td>\n",
       "      <td>[﻿№, 133, О, 1, КАНАЛ, 1, КАНАЛ, 16.00,18.00,1...</td>\n",
       "      <td>3658</td>\n",
       "      <td>[﻿№, канал, канал, новости, супер-дейв, сорвиг...</td>\n",
       "      <td>2227</td>\n",
       "      <td>[﻿№, канал, канал, новость, супер-дейв, сорвиг...</td>\n",
       "      <td>2227</td>\n",
       "    </tr>\n",
       "    <tr>\n",
       "      <td>1997 Issue 151 August 13 Page 2.txt</td>\n",
       "      <td>﻿I\\n№ 151 •\\nОТ НАШИХ ------------------------...</td>\n",
       "      <td>[﻿I, №, 151, ОТ, НАШИХ, КОРРЕСПОНДЕНТОВ, И, ИН...</td>\n",
       "      <td>4155</td>\n",
       "      <td>[﻿i, №, корреспондентов, информационных, агент...</td>\n",
       "      <td>2933</td>\n",
       "      <td>[﻿i, №, корреспондент, информационный, агентст...</td>\n",
       "      <td>2933</td>\n",
       "    </tr>\n",
       "    <tr>\n",
       "      <td>1997 Issue 133 July 18 Page 6.txt</td>\n",
       "      <td>﻿№ 133 «\\nИЗВЕСТИЯ\\nI июля 1997 года *\\n3\\nРН1...</td>\n",
       "      <td>[﻿№, 133, ИЗВЕСТИЯ, I, июля, 1997, года, 3, РН...</td>\n",
       "      <td>3990</td>\n",
       "      <td>[﻿№, известия, i, июль, года, рн1ы1, мокш5, по...</td>\n",
       "      <td>2882</td>\n",
       "      <td>[﻿№, известие, i, июль, год, рн1ы1, мокш5, под...</td>\n",
       "      <td>2882</td>\n",
       "    </tr>\n",
       "    <tr>\n",
       "      <td>1997 Issue 133 July 18 Page 7.txt</td>\n",
       "      <td>﻿№ 133 •\\nИЗВЕСТИЯ\\n18 июля 1997 года •\\nМирон...</td>\n",
       "      <td>[﻿№, 133, ИЗВЕСТИЯ, 18, июля, 1997, года, Миро...</td>\n",
       "      <td>3064</td>\n",
       "      <td>[﻿№, известия, июль, года, мирон, черненко, пр...</td>\n",
       "      <td>2107</td>\n",
       "      <td>[﻿№, известие, июль, год, мирон, черненко, пре...</td>\n",
       "      <td>2107</td>\n",
       "    </tr>\n",
       "    <tr>\n",
       "      <td>1997 Issue 151 August 13 Page 3.txt</td>\n",
       "      <td>﻿№ 151 •\\nИЗВЕСТИЯ\\n13 августа 1997 года •\\nАм...</td>\n",
       "      <td>[﻿№, 151, ИЗВЕСТИЯ, 13, августа, 1997, года, А...</td>\n",
       "      <td>4733</td>\n",
       "      <td>[﻿№, известия, августа, года, американец, хоте...</td>\n",
       "      <td>3344</td>\n",
       "      <td>[﻿№, известие, август, год, американец, хотеть...</td>\n",
       "      <td>3344</td>\n",
       "    </tr>\n",
       "    <tr>\n",
       "      <td>1997 Issue 170 September 09 Page 10.txt</td>\n",
       "      <td>﻿IV • 9 сентября 1997 г., вторник\\nФИНАНСОВЫЕ ...</td>\n",
       "      <td>[﻿IV, 9, сентября, 1997, г., вторник, ФИНАНСОВ...</td>\n",
       "      <td>2030</td>\n",
       "      <td>[﻿iv, сентябрь, г., вторник, финансовые, сырье...</td>\n",
       "      <td>1117</td>\n",
       "      <td>[﻿iv, сентябрь, год, вторник, финансовый, сырь...</td>\n",
       "      <td>1117</td>\n",
       "    </tr>\n",
       "    <tr>\n",
       "      <td>1997 Issue 208 October 31 Page 6.txt</td>\n",
       "      <td>﻿№ 208\\nИЗВЕСТИЯ\\n31 октября 1997 года •\\nРН1Ы...</td>\n",
       "      <td>[﻿№, 208, ИЗВЕСТИЯ, 31, октября, 1997, года, Р...</td>\n",
       "      <td>3929</td>\n",
       "      <td>[﻿№, известия, октябрь, года, рн1ыр, мося15, п...</td>\n",
       "      <td>2685</td>\n",
       "      <td>[﻿№, известие, октябрь, год, рн1ыр, мося15, по...</td>\n",
       "      <td>2685</td>\n",
       "    </tr>\n",
       "    <tr>\n",
       "      <td>1997 Issue 208 October 31 Page 7.txt</td>\n",
       "      <td>﻿№ 208 •\\nИЗВЕСТИЯ\\n31 октября 1997 года •\\nПо...</td>\n",
       "      <td>[﻿№, 208, ИЗВЕСТИЯ, 31, октября, 1997, года, П...</td>\n",
       "      <td>3222</td>\n",
       "      <td>[﻿№, известия, октябрь, года, помочь, ли, коме...</td>\n",
       "      <td>2343</td>\n",
       "      <td>[﻿№, известие, октябрь, год, помочь, ли, комен...</td>\n",
       "      <td>2343</td>\n",
       "    </tr>\n",
       "    <tr>\n",
       "      <td>1997 Issue 170 September 09 Page 11.txt</td>\n",
       "      <td>﻿ФИНАНСОВЫЕ ИЗВЕСТИЯ № 67 (418)\\nМИРОВОЙ бизне...</td>\n",
       "      <td>[﻿, ФИНАНСОВЫЕ, ИЗВЕСТИЯ, №, 67, 418, МИРОВОЙ,...</td>\n",
       "      <td>2500</td>\n",
       "      <td>[﻿, финансовые, известия, №, 67 418, мировой, ...</td>\n",
       "      <td>1812</td>\n",
       "      <td>[﻿, финансовый, известие, №, 67 418, мировой, ...</td>\n",
       "      <td>1812</td>\n",
       "    </tr>\n",
       "    <tr>\n",
       "      <td>1997 Issue 208 October 31 Page 5.txt</td>\n",
       "      <td>﻿№ 208 •\\nИЗВЕСТИЯ\\n31 октября 1997 года • 5\\n...</td>\n",
       "      <td>[﻿№, 208, ИЗВЕСТИЯ, 31, октября, 1997, года, 5...</td>\n",
       "      <td>3040</td>\n",
       "      <td>[﻿№, известия, октябрь, года, октябрь, виталий...</td>\n",
       "      <td>2017</td>\n",
       "      <td>[﻿№, известие, октябрь, год, октябрь, виталий,...</td>\n",
       "      <td>2017</td>\n",
       "    </tr>\n",
       "    <tr>\n",
       "      <td>1997 Issue 170 September 09 Page 8.txt</td>\n",
       "      <td>﻿II О 9 сентября 1997 г., втирниж\\nБИЗНЕС И ЭК...</td>\n",
       "      <td>[﻿II, О, 9, сентября, 1997, г., втирниж, БИЗНЕ...</td>\n",
       "      <td>2716</td>\n",
       "      <td>[﻿ii, сентябрь, г., втирниж, бизнес, экономика...</td>\n",
       "      <td>1936</td>\n",
       "      <td>[﻿ii, сентябрь, год, втирниж, бизнес, экономик...</td>\n",
       "      <td>1936</td>\n",
       "    </tr>\n",
       "    <tr>\n",
       "      <td>1997 Issue 170 September 09 Page 9.txt</td>\n",
       "      <td>﻿ФИНАНСОВЫЕ ИЗВЕСТИЯ N9 67 (418)\\nБАНКИ И ФИНА...</td>\n",
       "      <td>[﻿, ФИНАНСОВЫЕ, ИЗВЕСТИЯ, N9, 67, 418, БАНКИ, ...</td>\n",
       "      <td>3005</td>\n",
       "      <td>[﻿, финансовые, известия, n9, 67 418, банки, ф...</td>\n",
       "      <td>2172</td>\n",
       "      <td>[﻿, финансовый, известие, n9, 67 418, банк, фи...</td>\n",
       "      <td>2172</td>\n",
       "    </tr>\n",
       "    <tr>\n",
       "      <td>1997 Issue 208 October 31 Page 4.txt</td>\n",
       "      <td>﻿№ 208 О\\nИЗВЕСТИЯ • ТВ\\n31 октября 1997 года ...</td>\n",
       "      <td>[﻿№, 208, О, ИЗВЕСТИЯ, ТВ, 31, октября, 1997, ...</td>\n",
       "      <td>825</td>\n",
       "      <td>[﻿№, известия, тв, октябрь, года, ш*’ада, кана...</td>\n",
       "      <td>506</td>\n",
       "      <td>[﻿№, известие, тв, октябрь, год, шелад, канал,...</td>\n",
       "      <td>506</td>\n",
       "    </tr>\n",
       "    <tr>\n",
       "      <td>1997 Issue 170 September 09 Page 12.txt</td>\n",
       "      <td>﻿VI • 9 сентября 1997 г., вторник\\nФИНАНСЫ И О...</td>\n",
       "      <td>[﻿VI, 9, сентября, 1997, г., вторник, ФИНАНСЫ,...</td>\n",
       "      <td>2557</td>\n",
       "      <td>[﻿vi, сентябрь, г., вторник, финансы, общество...</td>\n",
       "      <td>1909</td>\n",
       "      <td>[uvi, сентябрь, год, вторник, финансы, обществ...</td>\n",
       "      <td>1909</td>\n",
       "    </tr>\n",
       "    <tr>\n",
       "      <td>1997 Issue 208 October 31 Page 1.txt</td>\n",
       "      <td>﻿Газета выходит с марта 1917 года •\\t31 октябр...</td>\n",
       "      <td>[﻿, Газета, выходит, с, марта, 1917, года, 31,...</td>\n",
       "      <td>2576</td>\n",
       "      <td>[﻿, газета, выходит, марта, года, октябрь, год...</td>\n",
       "      <td>1893</td>\n",
       "      <td>[﻿, газета, выходить, март, год, октябрь, год,...</td>\n",
       "      <td>1893</td>\n",
       "    </tr>\n",
       "    <tr>\n",
       "      <td>1997 Issue 208 October 31 Page 3.txt</td>\n",
       "      <td>﻿№ 208 *\\nИЗВЕСТИЯ\\n31 октября 1997 года •\\n3\\...</td>\n",
       "      <td>[﻿№, 208, ИЗВЕСТИЯ, 31, октября, 1997, года, 3...</td>\n",
       "      <td>2820</td>\n",
       "      <td>[﻿№, известия, октябрь, года, саддам, хусейн, ...</td>\n",
       "      <td>1957</td>\n",
       "      <td>[﻿№, известие, октябрь, год, садда, хусейн, сл...</td>\n",
       "      <td>1957</td>\n",
       "    </tr>\n",
       "    <tr>\n",
       "      <td>1997 Issue 208 October 31 Page 2.txt</td>\n",
       "      <td>﻿№ 208 ♦\\n31 октября 1997 года •\\nПенсионная р...</td>\n",
       "      <td>[﻿№, 208, ♦, 31, октября, 1997, года, Пенсионн...</td>\n",
       "      <td>4698</td>\n",
       "      <td>[﻿№, ♦, октябрь, года, пенсионный, реформа, вы...</td>\n",
       "      <td>3284</td>\n",
       "      <td>[﻿№, ♦, октябрь, год, пенсионный, реформа, выз...</td>\n",
       "      <td>3284</td>\n",
       "    </tr>\n",
       "    <tr>\n",
       "      <td>1997 Issue 246 December 30 Page 14.txt</td>\n",
       "      <td>﻿VIII В 30 декабря 1997 г., вторник\\nФИНАНСЫ И...</td>\n",
       "      <td>[﻿, VIII, В, 30, декабря, 1997, г., вторник, Ф...</td>\n",
       "      <td>3749</td>\n",
       "      <td>[﻿, viii, декабрь, г., вторник, финансы, общес...</td>\n",
       "      <td>2682</td>\n",
       "      <td>[﻿, viii, декабрь, год, вторник, финансы, обще...</td>\n",
       "      <td>2682</td>\n",
       "    </tr>\n",
       "    <tr>\n",
       "      <td>1997 Issue 170 September 09 Page 2.txt</td>\n",
       "      <td>﻿№ 170 •\\nИЗВЕСТИЯ\\n9 сентября 1997 года • 1\\n...</td>\n",
       "      <td>[﻿№, 170, ИЗВЕСТИЯ, 9, сентября, 1997, года, 1...</td>\n",
       "      <td>3663</td>\n",
       "      <td>[﻿№, известия, сентябрь, года, битва, хлеб, же...</td>\n",
       "      <td>2613</td>\n",
       "      <td>[﻿№, известие, сентябрь, год, битва, хлеб, жер...</td>\n",
       "      <td>2613</td>\n",
       "    </tr>\n",
       "    <tr>\n",
       "      <td>1997 Issue 170 September 09 Page 3.txt</td>\n",
       "      <td>﻿№ 170 •\\nИЗВЕСТИЯ\\n9 сентября 1997 года •\\nБа...</td>\n",
       "      <td>[﻿№, 170, ИЗВЕСТИЯ, 9, сентября, 1997, года, Б...</td>\n",
       "      <td>3349</td>\n",
       "      <td>[﻿№, известия, сентябрь, года, балтийско, черн...</td>\n",
       "      <td>2353</td>\n",
       "      <td>[﻿№, известие, сентябрь, год, балтийский, черн...</td>\n",
       "      <td>2353</td>\n",
       "    </tr>\n",
       "    <tr>\n",
       "      <td>1997 Issue 189 October 04 Page 1.txt</td>\n",
       "      <td>﻿Газета выходит с марта 1917 года •\\t4 октября...</td>\n",
       "      <td>[﻿, Газета, выходит, с, марта, 1917, года, 4, ...</td>\n",
       "      <td>2223</td>\n",
       "      <td>[﻿, газета, выходит, марта, года, октябрь, год...</td>\n",
       "      <td>1597</td>\n",
       "      <td>[﻿, газета, выходить, март, год, октябрь, год,...</td>\n",
       "      <td>1597</td>\n",
       "    </tr>\n",
       "    <tr>\n",
       "      <td>1997 Issue 189 October 04 Page 3.txt</td>\n",
       "      <td>﻿№ 189 •\\nИЗВЕСТИЯ\\n4 октября 1997 года •\\n3\\n...</td>\n",
       "      <td>[﻿№, 189, ИЗВЕСТИЯ, 4, октября, 1997, года, 3,...</td>\n",
       "      <td>3542</td>\n",
       "      <td>[﻿№, известия, октябрь, года, министр, обороны...</td>\n",
       "      <td>2609</td>\n",
       "      <td>[﻿№, известие, октябрь, год, министр, оборона,...</td>\n",
       "      <td>2609</td>\n",
       "    </tr>\n",
       "    <tr>\n",
       "      <td>1997 Issue 170 September 09 Page 1.txt</td>\n",
       "      <td>﻿Лукашенко не намерен щадить\\nрепутацию Ельцин...</td>\n",
       "      <td>[﻿, Лукашенко, не, намерен, щадить, репутацию,...</td>\n",
       "      <td>2291</td>\n",
       "      <td>[﻿, лукашенко, намерен, щадить, репутация, ель...</td>\n",
       "      <td>1636</td>\n",
       "      <td>[﻿, лукашенко, намерен, щадить, репутация, ель...</td>\n",
       "      <td>1636</td>\n",
       "    </tr>\n",
       "    <tr>\n",
       "      <td>1997 Issue 189 October 04 Page 2.txt</td>\n",
       "      <td>﻿N8 189 •\\nИЗВЕСТИЯ\\n4 октября 1997 года •\\nВ....</td>\n",
       "      <td>[﻿, N8, 189, ИЗВЕСТИЯ, 4, октября, 1997, года,...</td>\n",
       "      <td>3863</td>\n",
       "      <td>[﻿, n8, известия, октябрь, года, в., черномырд...</td>\n",
       "      <td>2724</td>\n",
       "      <td>[﻿, n8, известие, октябрь, год, век, черномырд...</td>\n",
       "      <td>2724</td>\n",
       "    </tr>\n",
       "    <tr>\n",
       "      <td>1997 Issue 189 October 04 Page 6.txt</td>\n",
       "      <td>﻿№ 189 О\\nИЗВЕСТИЯ\\n4 октября 1997 года\\nПубли...</td>\n",
       "      <td>[﻿№, 189, О, ИЗВЕСТИЯ, 4, октября, 1997, года,...</td>\n",
       "      <td>3996</td>\n",
       "      <td>[﻿№, известия, октябрь, года, публикуем, фотог...</td>\n",
       "      <td>2679</td>\n",
       "      <td>[﻿№, известие, октябрь, год, публиковать, фото...</td>\n",
       "      <td>2679</td>\n",
       "    </tr>\n",
       "    <tr>\n",
       "      <td>1997 Issue 246 December 30 Page 12.txt</td>\n",
       "      <td>﻿VI • 30 декабря 1997 г., вторник\\nФИНАНСОВЫЕ ...</td>\n",
       "      <td>[﻿VI, 30, декабря, 1997, г., вторник, ФИНАНСОВ...</td>\n",
       "      <td>3946</td>\n",
       "      <td>[﻿vi, декабрь, г., вторник, финансовые, сырьев...</td>\n",
       "      <td>2108</td>\n",
       "      <td>[uvi, декабрь, год, вторник, финансовый, сырье...</td>\n",
       "      <td>2108</td>\n",
       "    </tr>\n",
       "    <tr>\n",
       "      <td>1997 Issue 170 September 09 Page 4.txt</td>\n",
       "      <td>﻿№170 •\\nИЗВЕСТИЯ\\n9 сентября 1997 года •\\n4\\n...</td>\n",
       "      <td>[﻿, №, 170, ИЗВЕСТИЯ, 9, сентября, 1997, года,...</td>\n",
       "      <td>1554</td>\n",
       "      <td>[﻿, №, известия, сентябрь, года, закон, плену,...</td>\n",
       "      <td>1067</td>\n",
       "      <td>[﻿, №, известие, сентябрь, год, закон, плен, а...</td>\n",
       "      <td>1067</td>\n",
       "    </tr>\n",
       "    <tr>\n",
       "      <td>1997 Issue 170 September 09 Page 5.txt</td>\n",
       "      <td>﻿№170 •\\nПоследний на Запад\\nВалерий ВЫЖУТОВИЧ...</td>\n",
       "      <td>[﻿, №, 170, Последний, на, Запад, Валерий, ВЫЖ...</td>\n",
       "      <td>3222</td>\n",
       "      <td>[﻿, №, последний, запад, валерий, выжут, лести...</td>\n",
       "      <td>2341</td>\n",
       "      <td>[﻿, №, последний, запад, валерий, выжутович, л...</td>\n",
       "      <td>2341</td>\n",
       "    </tr>\n",
       "    <tr>\n",
       "      <td>1997 Issue 208 October 31 Page 8.txt</td>\n",
       "      <td>﻿№ 208 •\\nИЗВЕСТИЯ\\n31 октября 1997 года\\nПриз...</td>\n",
       "      <td>[﻿№, 208, ИЗВЕСТИЯ, 31, октября, 1997, года, П...</td>\n",
       "      <td>3932</td>\n",
       "      <td>[﻿№, известия, октябрь, года, признание, франц...</td>\n",
       "      <td>2683</td>\n",
       "      <td>[﻿№, известие, октябрь, год, признание, францу...</td>\n",
       "      <td>2683</td>\n",
       "    </tr>\n",
       "    <tr>\n",
       "      <td>1997 Issue 246 December 30 Page 13.txt</td>\n",
       "      <td>﻿ФИНАНСОВЫЕ ИЗВЕСТИЯ Н» 99 (450)\\nМИРОВОМ БИЗН...</td>\n",
       "      <td>[﻿, ФИНАНСОВЫЕ, ИЗВЕСТИЯ, Н», 99, 450, МИРОВОМ...</td>\n",
       "      <td>3538</td>\n",
       "      <td>[﻿, финансовые, известия, н», 99 450, мировом,...</td>\n",
       "      <td>2599</td>\n",
       "      <td>[﻿, финансовый, известие, н», 99 450, мировой,...</td>\n",
       "      <td>2599</td>\n",
       "    </tr>\n",
       "    <tr>\n",
       "      <td>1997 Issue 189 October 04 Page 5.txt</td>\n",
       "      <td>﻿N0 189 •\\nИЗВЕСТИЯ\\n4 октября 1997 года\\n5\\nТ...</td>\n",
       "      <td>[﻿, N0, 189, ИЗВЕСТИЯ, 4, октября, 1997, года,...</td>\n",
       "      <td>3150</td>\n",
       "      <td>[﻿, n0, известия, октябрь, года, техника, дома...</td>\n",
       "      <td>2228</td>\n",
       "      <td>[﻿, n0, известие, октябрь, год, техника, дом, ...</td>\n",
       "      <td>2228</td>\n",
       "    </tr>\n",
       "    <tr>\n",
       "      <td>1997 Issue 246 December 30 Page 11.txt</td>\n",
       "      <td>﻿ФИНАНСОВЫЕ ИЗВЕС ТИЯ М (450)\\nПРОМЫШЛЕННОСТЬ\\...</td>\n",
       "      <td>[﻿, ФИНАНСОВЫЕ, ИЗВЕС, ТИЯ, М, 450, ПРОМЫШЛЕНН...</td>\n",
       "      <td>3956</td>\n",
       "      <td>[﻿, финансовые, извес, тия, м, промышленность,...</td>\n",
       "      <td>2951</td>\n",
       "      <td>[﻿, финансовый, извес, тия, метр, промышленнос...</td>\n",
       "      <td>2951</td>\n",
       "    </tr>\n",
       "    <tr>\n",
       "      <td>1997 Issue 170 September 09 Page 7.txt</td>\n",
       "      <td>﻿\\nМировой лидер в Новейших сельскохозяй-' ств...</td>\n",
       "      <td>[﻿, Мировой, лидер, в, Новейших, сельскохозяй-...</td>\n",
       "      <td>2229</td>\n",
       "      <td>[﻿, мировой, лидер, новейших, сельскохозяй-', ...</td>\n",
       "      <td>1649</td>\n",
       "      <td>[﻿, мировой, лидер, новый, сельскохозяй-', ств...</td>\n",
       "      <td>1649</td>\n",
       "    </tr>\n",
       "    <tr>\n",
       "      <td>1997 Issue 170 September 09 Page 6.txt</td>\n",
       "      <td>﻿№170 •\\n9 сентября 1997 года\\nОАЕУУОО Е1.ЕСТА...</td>\n",
       "      <td>[﻿, №, 170, 9, сентября, 1997, года, ОАЕУУОО, ...</td>\n",
       "      <td>3340</td>\n",
       "      <td>[﻿, №, сентябрь, года, оаеууоо, е1.естаом1св, ...</td>\n",
       "      <td>2469</td>\n",
       "      <td>[﻿, №, сентябрь, год, оаеуухо, ет.естаомнсво, ...</td>\n",
       "      <td>2469</td>\n",
       "    </tr>\n",
       "    <tr>\n",
       "      <td>1997 Issue 246 December 30 Page 10.txt</td>\n",
       "      <td>﻿IV * ЛО лесаЛрв 1997 г., вторник\\nПРИВАТИЗАЦИ...</td>\n",
       "      <td>[﻿IV, ЛО, лесаЛрв, 1997, г., вторник, ПРИВАТИЗ...</td>\n",
       "      <td>1941</td>\n",
       "      <td>[﻿iv, ло, лесалрв, г., вторник, приватизация, ...</td>\n",
       "      <td>1443</td>\n",
       "      <td>[﻿iv, ло, лесалрв, год, вторник, приватизация,...</td>\n",
       "      <td>1443</td>\n",
       "    </tr>\n",
       "    <tr>\n",
       "      <td>1997 Issue 189 October 04 Page 4.txt</td>\n",
       "      <td>﻿N9 189 я\\n4 октября 1997 года •\\n• Обманутые ...</td>\n",
       "      <td>[﻿, N9, 189, я, 4, октября, 1997, года, Обману...</td>\n",
       "      <td>3246</td>\n",
       "      <td>[﻿, n9, октябрь, года, обманутые, вкладчик, пу...</td>\n",
       "      <td>2258</td>\n",
       "      <td>[﻿, n9, октябрь, год, обмануть, вкладчик, путе...</td>\n",
       "      <td>2258</td>\n",
       "    </tr>\n",
       "    <tr>\n",
       "      <td>1997 Issue 227 November 29 Page 6.txt</td>\n",
       "      <td>﻿N8 227 •\\n*—\\nИЗВЕСТИЯ\\n29 ноября 1997 года\\n...</td>\n",
       "      <td>[﻿, N8, 227, ИЗВЕСТИЯ, 29, ноября, 1997, года,...</td>\n",
       "      <td>4166</td>\n",
       "      <td>[﻿, n8, известия, ноябрь, года, жизнь, прекрас...</td>\n",
       "      <td>2771</td>\n",
       "      <td>[﻿, n8, известие, ноябрь, год, жизнь, прекрасн...</td>\n",
       "      <td>2771</td>\n",
       "    </tr>\n",
       "    <tr>\n",
       "      <td>1997 Issue 246 December 30 Page 1.txt</td>\n",
       "      <td>﻿Газета выходит с марта 1017 года •\\t30 декабр...</td>\n",
       "      <td>[﻿, Газета, выходит, с, марта, 1017, года, 30,...</td>\n",
       "      <td>2377</td>\n",
       "      <td>[﻿, газета, выходит, марта, года, декабрь, год...</td>\n",
       "      <td>1700</td>\n",
       "      <td>[﻿, газета, выходить, март, год, декабрь, год,...</td>\n",
       "      <td>1700</td>\n",
       "    </tr>\n",
       "    <tr>\n",
       "      <td>1997 Issue 246 December 30 Page 3.txt</td>\n",
       "      <td>﻿N9 246 •\\nИЗВЕСТИЯ\\n30 декабря 1997 года •\\n3...</td>\n",
       "      <td>[﻿, N9, 246, ИЗВЕСТИЯ, 30, декабря, 1997, года...</td>\n",
       "      <td>3865</td>\n",
       "      <td>[﻿, n9, известия, декабрь, года, убийство, тюр...</td>\n",
       "      <td>2758</td>\n",
       "      <td>[﻿, n9, известие, декабрь, год, убийство, тюрь...</td>\n",
       "      <td>2758</td>\n",
       "    </tr>\n",
       "    <tr>\n",
       "      <td>1997 Issue 227 November 29 Page 4.txt</td>\n",
       "      <td>﻿№ 227 •\\nИЗВЕСТИЯ\\n29 ноября 1997 года •\\n• С...</td>\n",
       "      <td>[﻿№, 227, ИЗВЕСТИЯ, 29, ноября, 1997, года, С,...</td>\n",
       "      <td>3368</td>\n",
       "      <td>[﻿№, известия, ноябрь, года, экспертиза, магаз...</td>\n",
       "      <td>2138</td>\n",
       "      <td>[﻿№, известие, ноябрь, год, экспертиза, магази...</td>\n",
       "      <td>2138</td>\n",
       "    </tr>\n",
       "    <tr>\n",
       "      <td>1997 Issue 227 November 29 Page 5.txt</td>\n",
       "      <td>﻿№ 227 •\\nИЗВЕСТИЯ\\n29 ноября 1997 года •\\n5\\n...</td>\n",
       "      <td>[﻿№, 227, ИЗВЕСТИЯ, 29, ноября, 1997, года, 5,...</td>\n",
       "      <td>2735</td>\n",
       "      <td>[﻿№, известия, ноябрь, года, новые, минеральны...</td>\n",
       "      <td>1934</td>\n",
       "      <td>[﻿№, известие, ноябрь, год, новый, минеральный...</td>\n",
       "      <td>1934</td>\n",
       "    </tr>\n",
       "    <tr>\n",
       "      <td>1997 Issue 246 December 30 Page 2.txt</td>\n",
       "      <td>﻿№ 246 •\\nИЗВЕСТИЯ\\n30 декабря 1997 года •\\t*/...</td>\n",
       "      <td>[﻿№, 246, ИЗВЕСТИЯ, 30, декабря, 1997, года, О...</td>\n",
       "      <td>4201</td>\n",
       "      <td>[﻿№, известия, декабрь, года, корреспондентов,...</td>\n",
       "      <td>2930</td>\n",
       "      <td>[﻿№, известие, декабрь, год, корреспондент, пр...</td>\n",
       "      <td>2930</td>\n",
       "    </tr>\n",
       "    <tr>\n",
       "      <td>1997 Issue 246 December 30 Page 6.txt</td>\n",
       "      <td>﻿№ 246 О\\nИЗВЕСТИЯ\\n30 декабря 1997 года\\nКань...</td>\n",
       "      <td>[﻿№, 246, О, ИЗВЕСТИЯ, 30, декабря, 1997, года...</td>\n",
       "      <td>3479</td>\n",
       "      <td>[﻿№, известия, декабрь, года, кануть, чан, нор...</td>\n",
       "      <td>2507</td>\n",
       "      <td>[﻿№, известие, декабрь, год, кань, чан, норрис...</td>\n",
       "      <td>2507</td>\n",
       "    </tr>\n",
       "    <tr>\n",
       "      <td>1997 Issue 227 November 29 Page 1.txt</td>\n",
       "      <td>﻿Г\\n• Субботний гость\\nN\\nк\\nг\\n\\n1\\nГаэета вы...</td>\n",
       "      <td>[﻿, Г, Субботний, гость, N, к, г, 1, Гаэета, в...</td>\n",
       "      <td>2223</td>\n",
       "      <td>[﻿, г, субботний, гость, n, г, гаэета, выходит...</td>\n",
       "      <td>1629</td>\n",
       "      <td>[﻿, год, субботний, гость, н-лат, год, гаэета,...</td>\n",
       "      <td>1629</td>\n",
       "    </tr>\n",
       "    <tr>\n",
       "      <td>1997 Issue 246 December 30 Page 7.txt</td>\n",
       "      <td>﻿Мировой лидер в Текстильных материалах\\n\"ОПТИ...</td>\n",
       "      <td>[﻿, Мировой, лидер, в, Текстильных, материалах...</td>\n",
       "      <td>2104</td>\n",
       "      <td>[﻿, мировой, лидер, текстильных, материал, опт...</td>\n",
       "      <td>1527</td>\n",
       "      <td>[﻿, мировой, лидер, текстильный, материал, опт...</td>\n",
       "      <td>1527</td>\n",
       "    </tr>\n",
       "    <tr>\n",
       "      <td>1997 Issue 246 December 30 Page 5.txt</td>\n",
       "      <td>﻿N2 246 О\\nИЗВЕСТИЯ\\n30 декабря 1997 года •\\nГ...</td>\n",
       "      <td>[﻿, N2, 246, О, ИЗВЕСТИЯ, 30, декабря, 1997, г...</td>\n",
       "      <td>4736</td>\n",
       "      <td>[﻿, n, известия, декабрь, года, гениева, боять...</td>\n",
       "      <td>3098</td>\n",
       "      <td>[﻿, н-лат, известие, декабрь, год, гениев, боя...</td>\n",
       "      <td>3098</td>\n",
       "    </tr>\n",
       "    <tr>\n",
       "      <td>1997 Issue 227 November 29 Page 2.txt</td>\n",
       "      <td>﻿№ 227 •\\nИЗВЕСТИЯ\\n29 ноября 1997 года •\\nИмп...</td>\n",
       "      <td>[﻿№, 227, ИЗВЕСТИЯ, 29, ноября, 1997, года, Им...</td>\n",
       "      <td>4193</td>\n",
       "      <td>[﻿№, известия, ноябрь, года, империи, вяхирева...</td>\n",
       "      <td>2935</td>\n",
       "      <td>[﻿№, известие, ноябрь, год, империя, вяхирев, ...</td>\n",
       "      <td>2935</td>\n",
       "    </tr>\n",
       "    <tr>\n",
       "      <td>1997 Issue 227 November 29 Page 3.txt</td>\n",
       "      <td>﻿№ 227 •\\nИЗВЕСТИЯ\\n29 ноября 1997 года •\\n3\\n...</td>\n",
       "      <td>[﻿№, 227, ИЗВЕСТИЯ, 29, ноября, 1997, года, 3,...</td>\n",
       "      <td>3369</td>\n",
       "      <td>[﻿№, известия, ноябрь, года, |, считает, предс...</td>\n",
       "      <td>2355</td>\n",
       "      <td>[﻿№, известие, ноябрь, год, |, считать, предсе...</td>\n",
       "      <td>2355</td>\n",
       "    </tr>\n",
       "    <tr>\n",
       "      <td>1997 Issue 246 December 30 Page 4.txt</td>\n",
       "      <td>﻿№ 246 •\\nИЗВЕСТИЯ\\n30 декабря 1997 года •\\nВз...</td>\n",
       "      <td>[﻿№, 246, ИЗВЕСТИЯ, 30, декабря, 1997, года, В...</td>\n",
       "      <td>2511</td>\n",
       "      <td>[﻿№, известия, декабрь, года, взятки, дорога, ...</td>\n",
       "      <td>1676</td>\n",
       "      <td>[﻿№, известие, декабрь, год, взятка, дорога, в...</td>\n",
       "      <td>1676</td>\n",
       "    </tr>\n",
       "  </tbody>\n",
       "</table>\n",
       "</div>"
      ],
      "text/plain": [
       "                                                                                      text  \\\n",
       "1997 Issue 246 December 30 Page 9.txt    ﻿ФИНАНСОВЫЕ ИЗВЕСТИЯ Ко 99 <459)\\nБАНКИ И ФИНА...   \n",
       "1997 Issue 133 July 18 Page 3.txt        ﻿№ 133 •\\nИЗВЕСТИЯ\\n18 июля 1997 года *\\nВерса...   \n",
       "1997 Issue 133 July 18 Page 2.txt        ﻿N9 133 •\\nИЗВЕСТИЯ\\n\\nОТ НАШИХ ■ корреспонден...   \n",
       "1997 Issue 151 August 13 Page 6.txt      ﻿N9 151 •\\nИЗВЕСТИЯ\\n13 августа 1997 года •\\n•...   \n",
       "1997 Issue 246 December 30 Page 8.txt    ﻿II • 30 декабря 1997 г., вторник\\nБИЗНЕС И ЭК...   \n",
       "1997 Issue 151 August 13 Page 4.txt      ﻿N6 151 •\\n13 августа 1997 года ♦\\nУГй/№ НЕФТЕ...   \n",
       "1997 Issue 133 July 18 Page 1.txt        ﻿ж\\n«Я НЕ НАСТОЛЬКО ПОДЛ,\\nЧТОБЫ БЫТЬ ПЕССИМИС...   \n",
       "1997 Issue 151 August 13 Page 5.txt      ﻿№ 151 •\\nИЗВЕСТИЯ\\n13 августа 1997 года *\\nНа...   \n",
       "1997 Issue 151 August 13 Page 1.txt      ﻿И5ВГГТИ!\\n№ 151 (25004)\\n13 августа 1997 года...   \n",
       "1997 Issue 133 July 18 Page 5.txt        ﻿N8 133 •\\n18 июля 1997 года • к\\nЗачем нам\\nС...   \n",
       "1997 Issue 133 July 18 Page 4.txt        ﻿№ 133 О\\n1 КАНАЛ\\n\\n1 КАНАЛ\\n16.00,18.00,1.20...   \n",
       "1997 Issue 151 August 13 Page 2.txt      ﻿I\\n№ 151 •\\nОТ НАШИХ ------------------------...   \n",
       "1997 Issue 133 July 18 Page 6.txt        ﻿№ 133 «\\nИЗВЕСТИЯ\\nI июля 1997 года *\\n3\\nРН1...   \n",
       "1997 Issue 133 July 18 Page 7.txt        ﻿№ 133 •\\nИЗВЕСТИЯ\\n18 июля 1997 года •\\nМирон...   \n",
       "1997 Issue 151 August 13 Page 3.txt      ﻿№ 151 •\\nИЗВЕСТИЯ\\n13 августа 1997 года •\\nАм...   \n",
       "1997 Issue 170 September 09 Page 10.txt  ﻿IV • 9 сентября 1997 г., вторник\\nФИНАНСОВЫЕ ...   \n",
       "1997 Issue 208 October 31 Page 6.txt     ﻿№ 208\\nИЗВЕСТИЯ\\n31 октября 1997 года •\\nРН1Ы...   \n",
       "1997 Issue 208 October 31 Page 7.txt     ﻿№ 208 •\\nИЗВЕСТИЯ\\n31 октября 1997 года •\\nПо...   \n",
       "1997 Issue 170 September 09 Page 11.txt  ﻿ФИНАНСОВЫЕ ИЗВЕСТИЯ № 67 (418)\\nМИРОВОЙ бизне...   \n",
       "1997 Issue 208 October 31 Page 5.txt     ﻿№ 208 •\\nИЗВЕСТИЯ\\n31 октября 1997 года • 5\\n...   \n",
       "1997 Issue 170 September 09 Page 8.txt   ﻿II О 9 сентября 1997 г., втирниж\\nБИЗНЕС И ЭК...   \n",
       "1997 Issue 170 September 09 Page 9.txt   ﻿ФИНАНСОВЫЕ ИЗВЕСТИЯ N9 67 (418)\\nБАНКИ И ФИНА...   \n",
       "1997 Issue 208 October 31 Page 4.txt     ﻿№ 208 О\\nИЗВЕСТИЯ • ТВ\\n31 октября 1997 года ...   \n",
       "1997 Issue 170 September 09 Page 12.txt  ﻿VI • 9 сентября 1997 г., вторник\\nФИНАНСЫ И О...   \n",
       "1997 Issue 208 October 31 Page 1.txt     ﻿Газета выходит с марта 1917 года •\\t31 октябр...   \n",
       "1997 Issue 208 October 31 Page 3.txt     ﻿№ 208 *\\nИЗВЕСТИЯ\\n31 октября 1997 года •\\n3\\...   \n",
       "1997 Issue 208 October 31 Page 2.txt     ﻿№ 208 ♦\\n31 октября 1997 года •\\nПенсионная р...   \n",
       "1997 Issue 246 December 30 Page 14.txt   ﻿VIII В 30 декабря 1997 г., вторник\\nФИНАНСЫ И...   \n",
       "1997 Issue 170 September 09 Page 2.txt   ﻿№ 170 •\\nИЗВЕСТИЯ\\n9 сентября 1997 года • 1\\n...   \n",
       "1997 Issue 170 September 09 Page 3.txt   ﻿№ 170 •\\nИЗВЕСТИЯ\\n9 сентября 1997 года •\\nБа...   \n",
       "1997 Issue 189 October 04 Page 1.txt     ﻿Газета выходит с марта 1917 года •\\t4 октября...   \n",
       "1997 Issue 189 October 04 Page 3.txt     ﻿№ 189 •\\nИЗВЕСТИЯ\\n4 октября 1997 года •\\n3\\n...   \n",
       "1997 Issue 170 September 09 Page 1.txt   ﻿Лукашенко не намерен щадить\\nрепутацию Ельцин...   \n",
       "1997 Issue 189 October 04 Page 2.txt     ﻿N8 189 •\\nИЗВЕСТИЯ\\n4 октября 1997 года •\\nВ....   \n",
       "1997 Issue 189 October 04 Page 6.txt     ﻿№ 189 О\\nИЗВЕСТИЯ\\n4 октября 1997 года\\nПубли...   \n",
       "1997 Issue 246 December 30 Page 12.txt   ﻿VI • 30 декабря 1997 г., вторник\\nФИНАНСОВЫЕ ...   \n",
       "1997 Issue 170 September 09 Page 4.txt   ﻿№170 •\\nИЗВЕСТИЯ\\n9 сентября 1997 года •\\n4\\n...   \n",
       "1997 Issue 170 September 09 Page 5.txt   ﻿№170 •\\nПоследний на Запад\\nВалерий ВЫЖУТОВИЧ...   \n",
       "1997 Issue 208 October 31 Page 8.txt     ﻿№ 208 •\\nИЗВЕСТИЯ\\n31 октября 1997 года\\nПриз...   \n",
       "1997 Issue 246 December 30 Page 13.txt   ﻿ФИНАНСОВЫЕ ИЗВЕСТИЯ Н» 99 (450)\\nМИРОВОМ БИЗН...   \n",
       "1997 Issue 189 October 04 Page 5.txt     ﻿N0 189 •\\nИЗВЕСТИЯ\\n4 октября 1997 года\\n5\\nТ...   \n",
       "1997 Issue 246 December 30 Page 11.txt   ﻿ФИНАНСОВЫЕ ИЗВЕС ТИЯ М (450)\\nПРОМЫШЛЕННОСТЬ\\...   \n",
       "1997 Issue 170 September 09 Page 7.txt   ﻿\\nМировой лидер в Новейших сельскохозяй-' ств...   \n",
       "1997 Issue 170 September 09 Page 6.txt   ﻿№170 •\\n9 сентября 1997 года\\nОАЕУУОО Е1.ЕСТА...   \n",
       "1997 Issue 246 December 30 Page 10.txt   ﻿IV * ЛО лесаЛрв 1997 г., вторник\\nПРИВАТИЗАЦИ...   \n",
       "1997 Issue 189 October 04 Page 4.txt     ﻿N9 189 я\\n4 октября 1997 года •\\n• Обманутые ...   \n",
       "1997 Issue 227 November 29 Page 6.txt    ﻿N8 227 •\\n*—\\nИЗВЕСТИЯ\\n29 ноября 1997 года\\n...   \n",
       "1997 Issue 246 December 30 Page 1.txt    ﻿Газета выходит с марта 1017 года •\\t30 декабр...   \n",
       "1997 Issue 246 December 30 Page 3.txt    ﻿N9 246 •\\nИЗВЕСТИЯ\\n30 декабря 1997 года •\\n3...   \n",
       "1997 Issue 227 November 29 Page 4.txt    ﻿№ 227 •\\nИЗВЕСТИЯ\\n29 ноября 1997 года •\\n• С...   \n",
       "1997 Issue 227 November 29 Page 5.txt    ﻿№ 227 •\\nИЗВЕСТИЯ\\n29 ноября 1997 года •\\n5\\n...   \n",
       "1997 Issue 246 December 30 Page 2.txt    ﻿№ 246 •\\nИЗВЕСТИЯ\\n30 декабря 1997 года •\\t*/...   \n",
       "1997 Issue 246 December 30 Page 6.txt    ﻿№ 246 О\\nИЗВЕСТИЯ\\n30 декабря 1997 года\\nКань...   \n",
       "1997 Issue 227 November 29 Page 1.txt    ﻿Г\\n• Субботний гость\\nN\\nк\\nг\\n\\n1\\nГаэета вы...   \n",
       "1997 Issue 246 December 30 Page 7.txt    ﻿Мировой лидер в Текстильных материалах\\n\"ОПТИ...   \n",
       "1997 Issue 246 December 30 Page 5.txt    ﻿N2 246 О\\nИЗВЕСТИЯ\\n30 декабря 1997 года •\\nГ...   \n",
       "1997 Issue 227 November 29 Page 2.txt    ﻿№ 227 •\\nИЗВЕСТИЯ\\n29 ноября 1997 года •\\nИмп...   \n",
       "1997 Issue 227 November 29 Page 3.txt    ﻿№ 227 •\\nИЗВЕСТИЯ\\n29 ноября 1997 года •\\n3\\n...   \n",
       "1997 Issue 246 December 30 Page 4.txt    ﻿№ 246 •\\nИЗВЕСТИЯ\\n30 декабря 1997 года •\\nВз...   \n",
       "\n",
       "                                                                            tokenized_text  \\\n",
       "1997 Issue 246 December 30 Page 9.txt    [﻿, ФИНАНСОВЫЕ, ИЗВЕСТИЯ, Ко, 99, <, 459, БАНК...   \n",
       "1997 Issue 133 July 18 Page 3.txt        [﻿№, 133, ИЗВЕСТИЯ, 18, июля, 1997, года, Верс...   \n",
       "1997 Issue 133 July 18 Page 2.txt        [﻿, N9, 133, ИЗВЕСТИЯ, ОТ, НАШИХ, ■, корреспон...   \n",
       "1997 Issue 151 August 13 Page 6.txt      [﻿, N9, 151, ИЗВЕСТИЯ, 13, августа, 1997, года...   \n",
       "1997 Issue 246 December 30 Page 8.txt    [﻿II, 30, декабря, 1997, г., вторник, БИЗНЕС, ...   \n",
       "1997 Issue 151 August 13 Page 4.txt      [﻿, N6, 151, 13, августа, 1997, года, ♦, УГй, ...   \n",
       "1997 Issue 133 July 18 Page 1.txt        [﻿ж, Я, НЕ, НАСТОЛЬКО, ПОДЛ, ЧТОБЫ, БЫТЬ, ПЕСС...   \n",
       "1997 Issue 151 August 13 Page 5.txt      [﻿№, 151, ИЗВЕСТИЯ, 13, августа, 1997, года, Н...   \n",
       "1997 Issue 151 August 13 Page 1.txt      [﻿И5ВГГТИ, №, 151, 25004, 13, августа, 1997, г...   \n",
       "1997 Issue 133 July 18 Page 5.txt        [﻿, N8, 133, 18, июля, 1997, года, к, Зачем, н...   \n",
       "1997 Issue 133 July 18 Page 4.txt        [﻿№, 133, О, 1, КАНАЛ, 1, КАНАЛ, 16.00,18.00,1...   \n",
       "1997 Issue 151 August 13 Page 2.txt      [﻿I, №, 151, ОТ, НАШИХ, КОРРЕСПОНДЕНТОВ, И, ИН...   \n",
       "1997 Issue 133 July 18 Page 6.txt        [﻿№, 133, ИЗВЕСТИЯ, I, июля, 1997, года, 3, РН...   \n",
       "1997 Issue 133 July 18 Page 7.txt        [﻿№, 133, ИЗВЕСТИЯ, 18, июля, 1997, года, Миро...   \n",
       "1997 Issue 151 August 13 Page 3.txt      [﻿№, 151, ИЗВЕСТИЯ, 13, августа, 1997, года, А...   \n",
       "1997 Issue 170 September 09 Page 10.txt  [﻿IV, 9, сентября, 1997, г., вторник, ФИНАНСОВ...   \n",
       "1997 Issue 208 October 31 Page 6.txt     [﻿№, 208, ИЗВЕСТИЯ, 31, октября, 1997, года, Р...   \n",
       "1997 Issue 208 October 31 Page 7.txt     [﻿№, 208, ИЗВЕСТИЯ, 31, октября, 1997, года, П...   \n",
       "1997 Issue 170 September 09 Page 11.txt  [﻿, ФИНАНСОВЫЕ, ИЗВЕСТИЯ, №, 67, 418, МИРОВОЙ,...   \n",
       "1997 Issue 208 October 31 Page 5.txt     [﻿№, 208, ИЗВЕСТИЯ, 31, октября, 1997, года, 5...   \n",
       "1997 Issue 170 September 09 Page 8.txt   [﻿II, О, 9, сентября, 1997, г., втирниж, БИЗНЕ...   \n",
       "1997 Issue 170 September 09 Page 9.txt   [﻿, ФИНАНСОВЫЕ, ИЗВЕСТИЯ, N9, 67, 418, БАНКИ, ...   \n",
       "1997 Issue 208 October 31 Page 4.txt     [﻿№, 208, О, ИЗВЕСТИЯ, ТВ, 31, октября, 1997, ...   \n",
       "1997 Issue 170 September 09 Page 12.txt  [﻿VI, 9, сентября, 1997, г., вторник, ФИНАНСЫ,...   \n",
       "1997 Issue 208 October 31 Page 1.txt     [﻿, Газета, выходит, с, марта, 1917, года, 31,...   \n",
       "1997 Issue 208 October 31 Page 3.txt     [﻿№, 208, ИЗВЕСТИЯ, 31, октября, 1997, года, 3...   \n",
       "1997 Issue 208 October 31 Page 2.txt     [﻿№, 208, ♦, 31, октября, 1997, года, Пенсионн...   \n",
       "1997 Issue 246 December 30 Page 14.txt   [﻿, VIII, В, 30, декабря, 1997, г., вторник, Ф...   \n",
       "1997 Issue 170 September 09 Page 2.txt   [﻿№, 170, ИЗВЕСТИЯ, 9, сентября, 1997, года, 1...   \n",
       "1997 Issue 170 September 09 Page 3.txt   [﻿№, 170, ИЗВЕСТИЯ, 9, сентября, 1997, года, Б...   \n",
       "1997 Issue 189 October 04 Page 1.txt     [﻿, Газета, выходит, с, марта, 1917, года, 4, ...   \n",
       "1997 Issue 189 October 04 Page 3.txt     [﻿№, 189, ИЗВЕСТИЯ, 4, октября, 1997, года, 3,...   \n",
       "1997 Issue 170 September 09 Page 1.txt   [﻿, Лукашенко, не, намерен, щадить, репутацию,...   \n",
       "1997 Issue 189 October 04 Page 2.txt     [﻿, N8, 189, ИЗВЕСТИЯ, 4, октября, 1997, года,...   \n",
       "1997 Issue 189 October 04 Page 6.txt     [﻿№, 189, О, ИЗВЕСТИЯ, 4, октября, 1997, года,...   \n",
       "1997 Issue 246 December 30 Page 12.txt   [﻿VI, 30, декабря, 1997, г., вторник, ФИНАНСОВ...   \n",
       "1997 Issue 170 September 09 Page 4.txt   [﻿, №, 170, ИЗВЕСТИЯ, 9, сентября, 1997, года,...   \n",
       "1997 Issue 170 September 09 Page 5.txt   [﻿, №, 170, Последний, на, Запад, Валерий, ВЫЖ...   \n",
       "1997 Issue 208 October 31 Page 8.txt     [﻿№, 208, ИЗВЕСТИЯ, 31, октября, 1997, года, П...   \n",
       "1997 Issue 246 December 30 Page 13.txt   [﻿, ФИНАНСОВЫЕ, ИЗВЕСТИЯ, Н», 99, 450, МИРОВОМ...   \n",
       "1997 Issue 189 October 04 Page 5.txt     [﻿, N0, 189, ИЗВЕСТИЯ, 4, октября, 1997, года,...   \n",
       "1997 Issue 246 December 30 Page 11.txt   [﻿, ФИНАНСОВЫЕ, ИЗВЕС, ТИЯ, М, 450, ПРОМЫШЛЕНН...   \n",
       "1997 Issue 170 September 09 Page 7.txt   [﻿, Мировой, лидер, в, Новейших, сельскохозяй-...   \n",
       "1997 Issue 170 September 09 Page 6.txt   [﻿, №, 170, 9, сентября, 1997, года, ОАЕУУОО, ...   \n",
       "1997 Issue 246 December 30 Page 10.txt   [﻿IV, ЛО, лесаЛрв, 1997, г., вторник, ПРИВАТИЗ...   \n",
       "1997 Issue 189 October 04 Page 4.txt     [﻿, N9, 189, я, 4, октября, 1997, года, Обману...   \n",
       "1997 Issue 227 November 29 Page 6.txt    [﻿, N8, 227, ИЗВЕСТИЯ, 29, ноября, 1997, года,...   \n",
       "1997 Issue 246 December 30 Page 1.txt    [﻿, Газета, выходит, с, марта, 1017, года, 30,...   \n",
       "1997 Issue 246 December 30 Page 3.txt    [﻿, N9, 246, ИЗВЕСТИЯ, 30, декабря, 1997, года...   \n",
       "1997 Issue 227 November 29 Page 4.txt    [﻿№, 227, ИЗВЕСТИЯ, 29, ноября, 1997, года, С,...   \n",
       "1997 Issue 227 November 29 Page 5.txt    [﻿№, 227, ИЗВЕСТИЯ, 29, ноября, 1997, года, 5,...   \n",
       "1997 Issue 246 December 30 Page 2.txt    [﻿№, 246, ИЗВЕСТИЯ, 30, декабря, 1997, года, О...   \n",
       "1997 Issue 246 December 30 Page 6.txt    [﻿№, 246, О, ИЗВЕСТИЯ, 30, декабря, 1997, года...   \n",
       "1997 Issue 227 November 29 Page 1.txt    [﻿, Г, Субботний, гость, N, к, г, 1, Гаэета, в...   \n",
       "1997 Issue 246 December 30 Page 7.txt    [﻿, Мировой, лидер, в, Текстильных, материалах...   \n",
       "1997 Issue 246 December 30 Page 5.txt    [﻿, N2, 246, О, ИЗВЕСТИЯ, 30, декабря, 1997, г...   \n",
       "1997 Issue 227 November 29 Page 2.txt    [﻿№, 227, ИЗВЕСТИЯ, 29, ноября, 1997, года, Им...   \n",
       "1997 Issue 227 November 29 Page 3.txt    [﻿№, 227, ИЗВЕСТИЯ, 29, ноября, 1997, года, 3,...   \n",
       "1997 Issue 246 December 30 Page 4.txt    [﻿№, 246, ИЗВЕСТИЯ, 30, декабря, 1997, года, В...   \n",
       "\n",
       "                                         word_counts  \\\n",
       "1997 Issue 246 December 30 Page 9.txt           3529   \n",
       "1997 Issue 133 July 18 Page 3.txt               3922   \n",
       "1997 Issue 133 July 18 Page 2.txt               3431   \n",
       "1997 Issue 151 August 13 Page 6.txt             2836   \n",
       "1997 Issue 246 December 30 Page 8.txt           4076   \n",
       "1997 Issue 151 August 13 Page 4.txt             1764   \n",
       "1997 Issue 133 July 18 Page 1.txt               2253   \n",
       "1997 Issue 151 August 13 Page 5.txt             4756   \n",
       "1997 Issue 151 August 13 Page 1.txt             2178   \n",
       "1997 Issue 133 July 18 Page 5.txt               4337   \n",
       "1997 Issue 133 July 18 Page 4.txt               3658   \n",
       "1997 Issue 151 August 13 Page 2.txt             4155   \n",
       "1997 Issue 133 July 18 Page 6.txt               3990   \n",
       "1997 Issue 133 July 18 Page 7.txt               3064   \n",
       "1997 Issue 151 August 13 Page 3.txt             4733   \n",
       "1997 Issue 170 September 09 Page 10.txt         2030   \n",
       "1997 Issue 208 October 31 Page 6.txt            3929   \n",
       "1997 Issue 208 October 31 Page 7.txt            3222   \n",
       "1997 Issue 170 September 09 Page 11.txt         2500   \n",
       "1997 Issue 208 October 31 Page 5.txt            3040   \n",
       "1997 Issue 170 September 09 Page 8.txt          2716   \n",
       "1997 Issue 170 September 09 Page 9.txt          3005   \n",
       "1997 Issue 208 October 31 Page 4.txt             825   \n",
       "1997 Issue 170 September 09 Page 12.txt         2557   \n",
       "1997 Issue 208 October 31 Page 1.txt            2576   \n",
       "1997 Issue 208 October 31 Page 3.txt            2820   \n",
       "1997 Issue 208 October 31 Page 2.txt            4698   \n",
       "1997 Issue 246 December 30 Page 14.txt          3749   \n",
       "1997 Issue 170 September 09 Page 2.txt          3663   \n",
       "1997 Issue 170 September 09 Page 3.txt          3349   \n",
       "1997 Issue 189 October 04 Page 1.txt            2223   \n",
       "1997 Issue 189 October 04 Page 3.txt            3542   \n",
       "1997 Issue 170 September 09 Page 1.txt          2291   \n",
       "1997 Issue 189 October 04 Page 2.txt            3863   \n",
       "1997 Issue 189 October 04 Page 6.txt            3996   \n",
       "1997 Issue 246 December 30 Page 12.txt          3946   \n",
       "1997 Issue 170 September 09 Page 4.txt          1554   \n",
       "1997 Issue 170 September 09 Page 5.txt          3222   \n",
       "1997 Issue 208 October 31 Page 8.txt            3932   \n",
       "1997 Issue 246 December 30 Page 13.txt          3538   \n",
       "1997 Issue 189 October 04 Page 5.txt            3150   \n",
       "1997 Issue 246 December 30 Page 11.txt          3956   \n",
       "1997 Issue 170 September 09 Page 7.txt          2229   \n",
       "1997 Issue 170 September 09 Page 6.txt          3340   \n",
       "1997 Issue 246 December 30 Page 10.txt          1941   \n",
       "1997 Issue 189 October 04 Page 4.txt            3246   \n",
       "1997 Issue 227 November 29 Page 6.txt           4166   \n",
       "1997 Issue 246 December 30 Page 1.txt           2377   \n",
       "1997 Issue 246 December 30 Page 3.txt           3865   \n",
       "1997 Issue 227 November 29 Page 4.txt           3368   \n",
       "1997 Issue 227 November 29 Page 5.txt           2735   \n",
       "1997 Issue 246 December 30 Page 2.txt           4201   \n",
       "1997 Issue 246 December 30 Page 6.txt           3479   \n",
       "1997 Issue 227 November 29 Page 1.txt           2223   \n",
       "1997 Issue 246 December 30 Page 7.txt           2104   \n",
       "1997 Issue 246 December 30 Page 5.txt           4736   \n",
       "1997 Issue 227 November 29 Page 2.txt           4193   \n",
       "1997 Issue 227 November 29 Page 3.txt           3369   \n",
       "1997 Issue 246 December 30 Page 4.txt           2511   \n",
       "\n",
       "                                                                         normalized_tokens  \\\n",
       "1997 Issue 246 December 30 Page 9.txt    [﻿, финансовые, известия, <, банки, финансы, л...   \n",
       "1997 Issue 133 July 18 Page 3.txt        [﻿№, известия, июль, года, версаче, нанимать, ...   \n",
       "1997 Issue 133 July 18 Page 2.txt        [﻿, n9, известия, ■, корреспондентов, информац...   \n",
       "1997 Issue 151 August 13 Page 6.txt      [﻿, n9, известия, августа, года, автомобили, о...   \n",
       "1997 Issue 246 December 30 Page 8.txt    [﻿ii, декабрь, г., вторник, бизнес, экономика,...   \n",
       "1997 Issue 151 August 13 Page 4.txt      [﻿, n6, августа, года, ♦, угй, №, нефтегазовой...   \n",
       "1997 Issue 133 July 18 Page 1.txt        [﻿ж, настолько, подлый, пессимист, покупайте, ...   \n",
       "1997 Issue 151 August 13 Page 5.txt      [﻿№, известия, августа, года, зерновом, кончал...   \n",
       "1997 Issue 151 August 13 Page 1.txt      [﻿и5вггти, №, 151 25004, августа, года, среда,...   \n",
       "1997 Issue 133 July 18 Page 5.txt        [﻿, n8, июль, года, зачем, сын, китайского, па...   \n",
       "1997 Issue 133 July 18 Page 4.txt        [﻿№, канал, канал, новости, супер-дейв, сорвиг...   \n",
       "1997 Issue 151 August 13 Page 2.txt      [﻿i, №, корреспондентов, информационных, агент...   \n",
       "1997 Issue 133 July 18 Page 6.txt        [﻿№, известия, i, июль, года, рн1ы1, мокш5, по...   \n",
       "1997 Issue 133 July 18 Page 7.txt        [﻿№, известия, июль, года, мирон, черненко, пр...   \n",
       "1997 Issue 151 August 13 Page 3.txt      [﻿№, известия, августа, года, американец, хоте...   \n",
       "1997 Issue 170 September 09 Page 10.txt  [﻿iv, сентябрь, г., вторник, финансовые, сырье...   \n",
       "1997 Issue 208 October 31 Page 6.txt     [﻿№, известия, октябрь, года, рн1ыр, мося15, п...   \n",
       "1997 Issue 208 October 31 Page 7.txt     [﻿№, известия, октябрь, года, помочь, ли, коме...   \n",
       "1997 Issue 170 September 09 Page 11.txt  [﻿, финансовые, известия, №, 67 418, мировой, ...   \n",
       "1997 Issue 208 October 31 Page 5.txt     [﻿№, известия, октябрь, года, октябрь, виталий...   \n",
       "1997 Issue 170 September 09 Page 8.txt   [﻿ii, сентябрь, г., втирниж, бизнес, экономика...   \n",
       "1997 Issue 170 September 09 Page 9.txt   [﻿, финансовые, известия, n9, 67 418, банки, ф...   \n",
       "1997 Issue 208 October 31 Page 4.txt     [﻿№, известия, тв, октябрь, года, ш*’ада, кана...   \n",
       "1997 Issue 170 September 09 Page 12.txt  [﻿vi, сентябрь, г., вторник, финансы, общество...   \n",
       "1997 Issue 208 October 31 Page 1.txt     [﻿, газета, выходит, марта, года, октябрь, год...   \n",
       "1997 Issue 208 October 31 Page 3.txt     [﻿№, известия, октябрь, года, саддам, хусейн, ...   \n",
       "1997 Issue 208 October 31 Page 2.txt     [﻿№, ♦, октябрь, года, пенсионный, реформа, вы...   \n",
       "1997 Issue 246 December 30 Page 14.txt   [﻿, viii, декабрь, г., вторник, финансы, общес...   \n",
       "1997 Issue 170 September 09 Page 2.txt   [﻿№, известия, сентябрь, года, битва, хлеб, же...   \n",
       "1997 Issue 170 September 09 Page 3.txt   [﻿№, известия, сентябрь, года, балтийско, черн...   \n",
       "1997 Issue 189 October 04 Page 1.txt     [﻿, газета, выходит, марта, года, октябрь, год...   \n",
       "1997 Issue 189 October 04 Page 3.txt     [﻿№, известия, октябрь, года, министр, обороны...   \n",
       "1997 Issue 170 September 09 Page 1.txt   [﻿, лукашенко, намерен, щадить, репутация, ель...   \n",
       "1997 Issue 189 October 04 Page 2.txt     [﻿, n8, известия, октябрь, года, в., черномырд...   \n",
       "1997 Issue 189 October 04 Page 6.txt     [﻿№, известия, октябрь, года, публикуем, фотог...   \n",
       "1997 Issue 246 December 30 Page 12.txt   [﻿vi, декабрь, г., вторник, финансовые, сырьев...   \n",
       "1997 Issue 170 September 09 Page 4.txt   [﻿, №, известия, сентябрь, года, закон, плену,...   \n",
       "1997 Issue 170 September 09 Page 5.txt   [﻿, №, последний, запад, валерий, выжут, лести...   \n",
       "1997 Issue 208 October 31 Page 8.txt     [﻿№, известия, октябрь, года, признание, франц...   \n",
       "1997 Issue 246 December 30 Page 13.txt   [﻿, финансовые, известия, н», 99 450, мировом,...   \n",
       "1997 Issue 189 October 04 Page 5.txt     [﻿, n0, известия, октябрь, года, техника, дома...   \n",
       "1997 Issue 246 December 30 Page 11.txt   [﻿, финансовые, извес, тия, м, промышленность,...   \n",
       "1997 Issue 170 September 09 Page 7.txt   [﻿, мировой, лидер, новейших, сельскохозяй-', ...   \n",
       "1997 Issue 170 September 09 Page 6.txt   [﻿, №, сентябрь, года, оаеууоо, е1.естаом1св, ...   \n",
       "1997 Issue 246 December 30 Page 10.txt   [﻿iv, ло, лесалрв, г., вторник, приватизация, ...   \n",
       "1997 Issue 189 October 04 Page 4.txt     [﻿, n9, октябрь, года, обманутые, вкладчик, пу...   \n",
       "1997 Issue 227 November 29 Page 6.txt    [﻿, n8, известия, ноябрь, года, жизнь, прекрас...   \n",
       "1997 Issue 246 December 30 Page 1.txt    [﻿, газета, выходит, марта, года, декабрь, год...   \n",
       "1997 Issue 246 December 30 Page 3.txt    [﻿, n9, известия, декабрь, года, убийство, тюр...   \n",
       "1997 Issue 227 November 29 Page 4.txt    [﻿№, известия, ноябрь, года, экспертиза, магаз...   \n",
       "1997 Issue 227 November 29 Page 5.txt    [﻿№, известия, ноябрь, года, новые, минеральны...   \n",
       "1997 Issue 246 December 30 Page 2.txt    [﻿№, известия, декабрь, года, корреспондентов,...   \n",
       "1997 Issue 246 December 30 Page 6.txt    [﻿№, известия, декабрь, года, кануть, чан, нор...   \n",
       "1997 Issue 227 November 29 Page 1.txt    [﻿, г, субботний, гость, n, г, гаэета, выходит...   \n",
       "1997 Issue 246 December 30 Page 7.txt    [﻿, мировой, лидер, текстильных, материал, опт...   \n",
       "1997 Issue 246 December 30 Page 5.txt    [﻿, n, известия, декабрь, года, гениева, боять...   \n",
       "1997 Issue 227 November 29 Page 2.txt    [﻿№, известия, ноябрь, года, империи, вяхирева...   \n",
       "1997 Issue 227 November 29 Page 3.txt    [﻿№, известия, ноябрь, года, |, считает, предс...   \n",
       "1997 Issue 246 December 30 Page 4.txt    [﻿№, известия, декабрь, года, взятки, дорога, ...   \n",
       "\n",
       "                                         normalized_tokens_count  \\\n",
       "1997 Issue 246 December 30 Page 9.txt                       2516   \n",
       "1997 Issue 133 July 18 Page 3.txt                           2778   \n",
       "1997 Issue 133 July 18 Page 2.txt                           2415   \n",
       "1997 Issue 151 August 13 Page 6.txt                         1925   \n",
       "1997 Issue 246 December 30 Page 8.txt                       3001   \n",
       "1997 Issue 151 August 13 Page 4.txt                         1180   \n",
       "1997 Issue 133 July 18 Page 1.txt                           1535   \n",
       "1997 Issue 151 August 13 Page 5.txt                         3143   \n",
       "1997 Issue 151 August 13 Page 1.txt                         1591   \n",
       "1997 Issue 133 July 18 Page 5.txt                           3086   \n",
       "1997 Issue 133 July 18 Page 4.txt                           2227   \n",
       "1997 Issue 151 August 13 Page 2.txt                         2933   \n",
       "1997 Issue 133 July 18 Page 6.txt                           2882   \n",
       "1997 Issue 133 July 18 Page 7.txt                           2107   \n",
       "1997 Issue 151 August 13 Page 3.txt                         3344   \n",
       "1997 Issue 170 September 09 Page 10.txt                     1117   \n",
       "1997 Issue 208 October 31 Page 6.txt                        2685   \n",
       "1997 Issue 208 October 31 Page 7.txt                        2343   \n",
       "1997 Issue 170 September 09 Page 11.txt                     1812   \n",
       "1997 Issue 208 October 31 Page 5.txt                        2017   \n",
       "1997 Issue 170 September 09 Page 8.txt                      1936   \n",
       "1997 Issue 170 September 09 Page 9.txt                      2172   \n",
       "1997 Issue 208 October 31 Page 4.txt                         506   \n",
       "1997 Issue 170 September 09 Page 12.txt                     1909   \n",
       "1997 Issue 208 October 31 Page 1.txt                        1893   \n",
       "1997 Issue 208 October 31 Page 3.txt                        1957   \n",
       "1997 Issue 208 October 31 Page 2.txt                        3284   \n",
       "1997 Issue 246 December 30 Page 14.txt                      2682   \n",
       "1997 Issue 170 September 09 Page 2.txt                      2613   \n",
       "1997 Issue 170 September 09 Page 3.txt                      2353   \n",
       "1997 Issue 189 October 04 Page 1.txt                        1597   \n",
       "1997 Issue 189 October 04 Page 3.txt                        2609   \n",
       "1997 Issue 170 September 09 Page 1.txt                      1636   \n",
       "1997 Issue 189 October 04 Page 2.txt                        2724   \n",
       "1997 Issue 189 October 04 Page 6.txt                        2679   \n",
       "1997 Issue 246 December 30 Page 12.txt                      2108   \n",
       "1997 Issue 170 September 09 Page 4.txt                      1067   \n",
       "1997 Issue 170 September 09 Page 5.txt                      2341   \n",
       "1997 Issue 208 October 31 Page 8.txt                        2683   \n",
       "1997 Issue 246 December 30 Page 13.txt                      2599   \n",
       "1997 Issue 189 October 04 Page 5.txt                        2228   \n",
       "1997 Issue 246 December 30 Page 11.txt                      2951   \n",
       "1997 Issue 170 September 09 Page 7.txt                      1649   \n",
       "1997 Issue 170 September 09 Page 6.txt                      2469   \n",
       "1997 Issue 246 December 30 Page 10.txt                      1443   \n",
       "1997 Issue 189 October 04 Page 4.txt                        2258   \n",
       "1997 Issue 227 November 29 Page 6.txt                       2771   \n",
       "1997 Issue 246 December 30 Page 1.txt                       1700   \n",
       "1997 Issue 246 December 30 Page 3.txt                       2758   \n",
       "1997 Issue 227 November 29 Page 4.txt                       2138   \n",
       "1997 Issue 227 November 29 Page 5.txt                       1934   \n",
       "1997 Issue 246 December 30 Page 2.txt                       2930   \n",
       "1997 Issue 246 December 30 Page 6.txt                       2507   \n",
       "1997 Issue 227 November 29 Page 1.txt                       1629   \n",
       "1997 Issue 246 December 30 Page 7.txt                       1527   \n",
       "1997 Issue 246 December 30 Page 5.txt                       3098   \n",
       "1997 Issue 227 November 29 Page 2.txt                       2935   \n",
       "1997 Issue 227 November 29 Page 3.txt                       2355   \n",
       "1997 Issue 246 December 30 Page 4.txt                       1676   \n",
       "\n",
       "                                                                              lemma_tokens  \\\n",
       "1997 Issue 246 December 30 Page 9.txt    [﻿, финансовый, известие, <, банк, финансы, ло...   \n",
       "1997 Issue 133 July 18 Page 3.txt        [﻿№, известие, июль, год, версача, нанимать, т...   \n",
       "1997 Issue 133 July 18 Page 2.txt        [﻿, n9, известие, ■, корреспондент, информацио...   \n",
       "1997 Issue 151 August 13 Page 6.txt      [﻿, n9, известие, август, год, автомобиль, обо...   \n",
       "1997 Issue 246 December 30 Page 8.txt    [﻿ii, декабрь, год, вторник, бизнес, экономика...   \n",
       "1997 Issue 151 August 13 Page 4.txt      [﻿, n6, август, год, ♦, угй, №, нефтегазовый, ...   \n",
       "1997 Issue 133 July 18 Page 1.txt        [﻿ж, настолько, подти, пессимист, покупать, св...   \n",
       "1997 Issue 151 August 13 Page 5.txt      [﻿№, известие, август, год, зерновой, кончалов...   \n",
       "1997 Issue 151 August 13 Page 1.txt      [иизвггть, №, 151 25004, август, год, среда, г...   \n",
       "1997 Issue 133 July 18 Page 5.txt        [﻿, n8, июль, год, зачем, сын, китайский, патр...   \n",
       "1997 Issue 133 July 18 Page 4.txt        [﻿№, канал, канал, новость, супер-дейв, сорвиг...   \n",
       "1997 Issue 151 August 13 Page 2.txt      [﻿i, №, корреспондент, информационный, агентст...   \n",
       "1997 Issue 133 July 18 Page 6.txt        [﻿№, известие, i, июль, год, рн1ы1, мокш5, под...   \n",
       "1997 Issue 133 July 18 Page 7.txt        [﻿№, известие, июль, год, мирон, черненко, пре...   \n",
       "1997 Issue 151 August 13 Page 3.txt      [﻿№, известие, август, год, американец, хотеть...   \n",
       "1997 Issue 170 September 09 Page 10.txt  [﻿iv, сентябрь, год, вторник, финансовый, сырь...   \n",
       "1997 Issue 208 October 31 Page 6.txt     [﻿№, известие, октябрь, год, рн1ыр, мося15, по...   \n",
       "1997 Issue 208 October 31 Page 7.txt     [﻿№, известие, октябрь, год, помочь, ли, комен...   \n",
       "1997 Issue 170 September 09 Page 11.txt  [﻿, финансовый, известие, №, 67 418, мировой, ...   \n",
       "1997 Issue 208 October 31 Page 5.txt     [﻿№, известие, октябрь, год, октябрь, виталий,...   \n",
       "1997 Issue 170 September 09 Page 8.txt   [﻿ii, сентябрь, год, втирниж, бизнес, экономик...   \n",
       "1997 Issue 170 September 09 Page 9.txt   [﻿, финансовый, известие, n9, 67 418, банк, фи...   \n",
       "1997 Issue 208 October 31 Page 4.txt     [﻿№, известие, тв, октябрь, год, шелад, канал,...   \n",
       "1997 Issue 170 September 09 Page 12.txt  [uvi, сентябрь, год, вторник, финансы, обществ...   \n",
       "1997 Issue 208 October 31 Page 1.txt     [﻿, газета, выходить, март, год, октябрь, год,...   \n",
       "1997 Issue 208 October 31 Page 3.txt     [﻿№, известие, октябрь, год, садда, хусейн, сл...   \n",
       "1997 Issue 208 October 31 Page 2.txt     [﻿№, ♦, октябрь, год, пенсионный, реформа, выз...   \n",
       "1997 Issue 246 December 30 Page 14.txt   [﻿, viii, декабрь, год, вторник, финансы, обще...   \n",
       "1997 Issue 170 September 09 Page 2.txt   [﻿№, известие, сентябрь, год, битва, хлеб, жер...   \n",
       "1997 Issue 170 September 09 Page 3.txt   [﻿№, известие, сентябрь, год, балтийский, черн...   \n",
       "1997 Issue 189 October 04 Page 1.txt     [﻿, газета, выходить, март, год, октябрь, год,...   \n",
       "1997 Issue 189 October 04 Page 3.txt     [﻿№, известие, октябрь, год, министр, оборона,...   \n",
       "1997 Issue 170 September 09 Page 1.txt   [﻿, лукашенко, намерен, щадить, репутация, ель...   \n",
       "1997 Issue 189 October 04 Page 2.txt     [﻿, n8, известие, октябрь, год, век, черномырд...   \n",
       "1997 Issue 189 October 04 Page 6.txt     [﻿№, известие, октябрь, год, публиковать, фото...   \n",
       "1997 Issue 246 December 30 Page 12.txt   [uvi, декабрь, год, вторник, финансовый, сырье...   \n",
       "1997 Issue 170 September 09 Page 4.txt   [﻿, №, известие, сентябрь, год, закон, плен, а...   \n",
       "1997 Issue 170 September 09 Page 5.txt   [﻿, №, последний, запад, валерий, выжутович, л...   \n",
       "1997 Issue 208 October 31 Page 8.txt     [﻿№, известие, октябрь, год, признание, францу...   \n",
       "1997 Issue 246 December 30 Page 13.txt   [﻿, финансовый, известие, н», 99 450, мировой,...   \n",
       "1997 Issue 189 October 04 Page 5.txt     [﻿, n0, известие, октябрь, год, техника, дом, ...   \n",
       "1997 Issue 246 December 30 Page 11.txt   [﻿, финансовый, извес, тия, метр, промышленнос...   \n",
       "1997 Issue 170 September 09 Page 7.txt   [﻿, мировой, лидер, новый, сельскохозяй-', ств...   \n",
       "1997 Issue 170 September 09 Page 6.txt   [﻿, №, сентябрь, год, оаеуухо, ет.естаомнсво, ...   \n",
       "1997 Issue 246 December 30 Page 10.txt   [﻿iv, ло, лесалрв, год, вторник, приватизация,...   \n",
       "1997 Issue 189 October 04 Page 4.txt     [﻿, n9, октябрь, год, обмануть, вкладчик, путе...   \n",
       "1997 Issue 227 November 29 Page 6.txt    [﻿, n8, известие, ноябрь, год, жизнь, прекрасн...   \n",
       "1997 Issue 246 December 30 Page 1.txt    [﻿, газета, выходить, март, год, декабрь, год,...   \n",
       "1997 Issue 246 December 30 Page 3.txt    [﻿, n9, известие, декабрь, год, убийство, тюрь...   \n",
       "1997 Issue 227 November 29 Page 4.txt    [﻿№, известие, ноябрь, год, экспертиза, магази...   \n",
       "1997 Issue 227 November 29 Page 5.txt    [﻿№, известие, ноябрь, год, новый, минеральный...   \n",
       "1997 Issue 246 December 30 Page 2.txt    [﻿№, известие, декабрь, год, корреспондент, пр...   \n",
       "1997 Issue 246 December 30 Page 6.txt    [﻿№, известие, декабрь, год, кань, чан, норрис...   \n",
       "1997 Issue 227 November 29 Page 1.txt    [﻿, год, субботний, гость, н-лат, год, гаэета,...   \n",
       "1997 Issue 246 December 30 Page 7.txt    [﻿, мировой, лидер, текстильный, материал, опт...   \n",
       "1997 Issue 246 December 30 Page 5.txt    [﻿, н-лат, известие, декабрь, год, гениев, боя...   \n",
       "1997 Issue 227 November 29 Page 2.txt    [﻿№, известие, ноябрь, год, империя, вяхирев, ...   \n",
       "1997 Issue 227 November 29 Page 3.txt    [﻿№, известие, ноябрь, год, |, считать, предсе...   \n",
       "1997 Issue 246 December 30 Page 4.txt    [﻿№, известие, декабрь, год, взятка, дорога, в...   \n",
       "\n",
       "                                         lemma_tokens_count  \n",
       "1997 Issue 246 December 30 Page 9.txt                  2516  \n",
       "1997 Issue 133 July 18 Page 3.txt                      2778  \n",
       "1997 Issue 133 July 18 Page 2.txt                      2415  \n",
       "1997 Issue 151 August 13 Page 6.txt                    1925  \n",
       "1997 Issue 246 December 30 Page 8.txt                  3001  \n",
       "1997 Issue 151 August 13 Page 4.txt                    1180  \n",
       "1997 Issue 133 July 18 Page 1.txt                      1535  \n",
       "1997 Issue 151 August 13 Page 5.txt                    3143  \n",
       "1997 Issue 151 August 13 Page 1.txt                    1591  \n",
       "1997 Issue 133 July 18 Page 5.txt                      3086  \n",
       "1997 Issue 133 July 18 Page 4.txt                      2227  \n",
       "1997 Issue 151 August 13 Page 2.txt                    2933  \n",
       "1997 Issue 133 July 18 Page 6.txt                      2882  \n",
       "1997 Issue 133 July 18 Page 7.txt                      2107  \n",
       "1997 Issue 151 August 13 Page 3.txt                    3344  \n",
       "1997 Issue 170 September 09 Page 10.txt                1117  \n",
       "1997 Issue 208 October 31 Page 6.txt                   2685  \n",
       "1997 Issue 208 October 31 Page 7.txt                   2343  \n",
       "1997 Issue 170 September 09 Page 11.txt                1812  \n",
       "1997 Issue 208 October 31 Page 5.txt                   2017  \n",
       "1997 Issue 170 September 09 Page 8.txt                 1936  \n",
       "1997 Issue 170 September 09 Page 9.txt                 2172  \n",
       "1997 Issue 208 October 31 Page 4.txt                    506  \n",
       "1997 Issue 170 September 09 Page 12.txt                1909  \n",
       "1997 Issue 208 October 31 Page 1.txt                   1893  \n",
       "1997 Issue 208 October 31 Page 3.txt                   1957  \n",
       "1997 Issue 208 October 31 Page 2.txt                   3284  \n",
       "1997 Issue 246 December 30 Page 14.txt                 2682  \n",
       "1997 Issue 170 September 09 Page 2.txt                 2613  \n",
       "1997 Issue 170 September 09 Page 3.txt                 2353  \n",
       "1997 Issue 189 October 04 Page 1.txt                   1597  \n",
       "1997 Issue 189 October 04 Page 3.txt                   2609  \n",
       "1997 Issue 170 September 09 Page 1.txt                 1636  \n",
       "1997 Issue 189 October 04 Page 2.txt                   2724  \n",
       "1997 Issue 189 October 04 Page 6.txt                   2679  \n",
       "1997 Issue 246 December 30 Page 12.txt                 2108  \n",
       "1997 Issue 170 September 09 Page 4.txt                 1067  \n",
       "1997 Issue 170 September 09 Page 5.txt                 2341  \n",
       "1997 Issue 208 October 31 Page 8.txt                   2683  \n",
       "1997 Issue 246 December 30 Page 13.txt                 2599  \n",
       "1997 Issue 189 October 04 Page 5.txt                   2228  \n",
       "1997 Issue 246 December 30 Page 11.txt                 2951  \n",
       "1997 Issue 170 September 09 Page 7.txt                 1649  \n",
       "1997 Issue 170 September 09 Page 6.txt                 2469  \n",
       "1997 Issue 246 December 30 Page 10.txt                 1443  \n",
       "1997 Issue 189 October 04 Page 4.txt                   2258  \n",
       "1997 Issue 227 November 29 Page 6.txt                  2771  \n",
       "1997 Issue 246 December 30 Page 1.txt                  1700  \n",
       "1997 Issue 246 December 30 Page 3.txt                  2758  \n",
       "1997 Issue 227 November 29 Page 4.txt                  2138  \n",
       "1997 Issue 227 November 29 Page 5.txt                  1934  \n",
       "1997 Issue 246 December 30 Page 2.txt                  2930  \n",
       "1997 Issue 246 December 30 Page 6.txt                  2507  \n",
       "1997 Issue 227 November 29 Page 1.txt                  1629  \n",
       "1997 Issue 246 December 30 Page 7.txt                  1527  \n",
       "1997 Issue 246 December 30 Page 5.txt                  3098  \n",
       "1997 Issue 227 November 29 Page 2.txt                  2935  \n",
       "1997 Issue 227 November 29 Page 3.txt                  2355  \n",
       "1997 Issue 246 December 30 Page 4.txt                  1676  "
      ]
     },
     "execution_count": 27,
     "metadata": {},
     "output_type": "execute_result"
    }
   ],
   "source": [
    "izvestiia_df"
   ]
  },
  {
   "cell_type": "code",
   "execution_count": 28,
   "metadata": {},
   "outputs": [
    {
     "name": "stdout",
     "output_type": "stream",
     "text": [
      "132941\n"
     ]
    }
   ],
   "source": [
    "izcfdist = nltk.ConditionalFreqDist(((len(w), w) for w in izvestiia_df['lemma_tokens'].sum()))\n",
    "\n",
    "#print the number of words\n",
    "print(izcfdist.N())"
   ]
  },
  {
   "cell_type": "code",
   "execution_count": 29,
   "metadata": {},
   "outputs": [
    {
     "data": {
      "image/png": "[encoded data removed]",
      "text/plain": [
       "<Figure size 432x288 with 1 Axes>"
      ]
     },
     "metadata": {
      "needs_background": "light"
     },
     "output_type": "display_data"
    },
    {
     "data": {
      "text/plain": [
       "<matplotlib.axes._subplots.AxesSubplot at 0x1a44628e10>"
      ]
     },
     "execution_count": 29,
     "metadata": {},
     "output_type": "execute_result"
    }
   ],
   "source": [
    "izcfdist[3].plot()"
   ]
  },
  {
   "cell_type": "code",
   "execution_count": 30,
   "metadata": {},
   "outputs": [
    {
     "name": "stdout",
     "output_type": "stream",
     "text": [
      "ни\n",
      "0.0779299234796617\n"
     ]
    }
   ],
   "source": [
    "izcpdist = nltk.ConditionalProbDist(izcfdist, nltk.ELEProbDist)\n",
    "\n",
    "#print the most common 2 letter word\n",
    "print(izcpdist[2].max())\n",
    "\n",
    "#And its probability\n",
    "print(izcpdist[2].prob(izcpdist[2].max()))"
   ]
  },
  {
   "cell_type": "code",
   "execution_count": 31,
   "metadata": {},
   "outputs": [
    {
     "name": "stdout",
     "output_type": "stream",
     "text": [
      "год\n",
      "0.1824125727310899\n"
     ]
    }
   ],
   "source": [
    "izcpdist = nltk.ConditionalProbDist(izcfdist, nltk.ELEProbDist)\n",
    "\n",
    "#print the most common 2 letter word\n",
    "print(izcpdist[3].max())\n",
    "\n",
    "#And its probability\n",
    "print(izcpdist[3].prob(izcpdist[3].max()))"
   ]
  },
  {
   "cell_type": "code",
   "execution_count": 32,
   "metadata": {},
   "outputs": [
    {
     "name": "stdout",
     "output_type": "stream",
     "text": [
      "банк\n",
      "0.023388451675656556\n"
     ]
    }
   ],
   "source": [
    "izcpdist = nltk.ConditionalProbDist(izcfdist, nltk.ELEProbDist)\n",
    "\n",
    "#print the most common 2 letter word\n",
    "print(izcpdist[4].max())\n",
    "\n",
    "#And its probability\n",
    "print(izcpdist[4].prob(izcpdist[4].max()))"
   ]
  },
  {
   "cell_type": "code",
   "execution_count": 37,
   "metadata": {},
   "outputs": [
    {
     "name": "stdout",
     "output_type": "stream",
     "text": [
      "Use device: cpu\n",
      "---\n",
      "Loading: tokenize\n",
      "With settings: \n",
      "{'model_path': '/Users/Leha/stanfordnlp_resources/ru_syntagrus_models/ru_syntagrus_tokenizer.pt', 'lang': 'ru', 'shorthand': 'ru_syntagrus', 'mode': 'predict'}\n",
      "---\n",
      "Loading: pos\n",
      "With settings: \n",
      "{'model_path': '/Users/Leha/stanfordnlp_resources/ru_syntagrus_models/ru_syntagrus_tagger.pt', 'pretrain_path': '/Users/Leha/stanfordnlp_resources/ru_syntagrus_models/ru_syntagrus.pretrain.pt', 'lang': 'ru', 'shorthand': 'ru_syntagrus', 'mode': 'predict'}\n",
      "Done loading processors!\n",
      "---\n"
     ]
    }
   ],
   "source": [
    "snlp = stanfordnlp.Pipeline(lang=\"ru\", processors='tokenize,pos')\n",
    "nlp = StanfordNLPLanguage(snlp)"
   ]
  },
  {
   "cell_type": "code",
   "execution_count": null,
   "metadata": {},
   "outputs": [],
   "source": [
    "def spacy_pos(word_list):\n",
    "    tags = []\n",
    "    doc = nlp(word_list.lower())\n",
    "    for w in doc:\n",
    "        tags.append((w.text, w.pos_))\n",
    "    return tags"
   ]
  },
  {
   "cell_type": "code",
   "execution_count": null,
   "metadata": {},
   "outputs": [],
   "source": [
    "izvestiia_df['normalized_tokens_POS'] = [spacy_pos(t) for t in izvestiia_df['text']]"
   ]
  },
  {
   "cell_type": "code",
   "execution_count": 33,
   "metadata": {},
   "outputs": [
    {
     "data": {
      "text/html": [
       "<div>\n",
       "<style scoped>\n",
       "    .dataframe tbody tr th:only-of-type {\n",
       "        vertical-align: middle;\n",
       "    }\n",
       "\n",
       "    .dataframe tbody tr th {\n",
       "        vertical-align: top;\n",
       "    }\n",
       "\n",
       "    .dataframe thead th {\n",
       "        text-align: right;\n",
       "    }\n",
       "</style>\n",
       "<table border=\"1\" class=\"dataframe\">\n",
       "  <thead>\n",
       "    <tr style=\"text-align: right;\">\n",
       "      <th></th>\n",
       "      <th>text</th>\n",
       "      <th>tokenized_text</th>\n",
       "      <th>word_counts</th>\n",
       "      <th>normalized_tokens</th>\n",
       "      <th>normalized_tokens_count</th>\n",
       "      <th>lemma_tokens</th>\n",
       "      <th>lemma_tokens_count</th>\n",
       "    </tr>\n",
       "  </thead>\n",
       "  <tbody>\n",
       "    <tr>\n",
       "      <td>1997 Issue 246 December 30 Page 9.txt</td>\n",
       "      <td>﻿ФИНАНСОВЫЕ ИЗВЕСТИЯ Ко 99 &lt;459)\\nБАНКИ И ФИНА...</td>\n",
       "      <td>[﻿, ФИНАНСОВЫЕ, ИЗВЕСТИЯ, Ко, 99, &lt;, 459, БАНК...</td>\n",
       "      <td>3529</td>\n",
       "      <td>[﻿, финансовые, известия, &lt;, банки, финансы, л...</td>\n",
       "      <td>2516</td>\n",
       "      <td>[﻿, финансовый, известие, &lt;, банк, финансы, ло...</td>\n",
       "      <td>2516</td>\n",
       "    </tr>\n",
       "    <tr>\n",
       "      <td>1997 Issue 133 July 18 Page 3.txt</td>\n",
       "      <td>﻿№ 133 •\\nИЗВЕСТИЯ\\n18 июля 1997 года *\\nВерса...</td>\n",
       "      <td>[﻿№, 133, ИЗВЕСТИЯ, 18, июля, 1997, года, Верс...</td>\n",
       "      <td>3922</td>\n",
       "      <td>[﻿№, известия, июль, года, версаче, нанимать, ...</td>\n",
       "      <td>2778</td>\n",
       "      <td>[﻿№, известие, июль, год, версача, нанимать, т...</td>\n",
       "      <td>2778</td>\n",
       "    </tr>\n",
       "    <tr>\n",
       "      <td>1997 Issue 133 July 18 Page 2.txt</td>\n",
       "      <td>﻿N9 133 •\\nИЗВЕСТИЯ\\n\\nОТ НАШИХ ■ корреспонден...</td>\n",
       "      <td>[﻿, N9, 133, ИЗВЕСТИЯ, ОТ, НАШИХ, ■, корреспон...</td>\n",
       "      <td>3431</td>\n",
       "      <td>[﻿, n9, известия, ■, корреспондентов, информац...</td>\n",
       "      <td>2415</td>\n",
       "      <td>[﻿, n9, известие, ■, корреспондент, информацио...</td>\n",
       "      <td>2415</td>\n",
       "    </tr>\n",
       "    <tr>\n",
       "      <td>1997 Issue 151 August 13 Page 6.txt</td>\n",
       "      <td>﻿N9 151 •\\nИЗВЕСТИЯ\\n13 августа 1997 года •\\n•...</td>\n",
       "      <td>[﻿, N9, 151, ИЗВЕСТИЯ, 13, августа, 1997, года...</td>\n",
       "      <td>2836</td>\n",
       "      <td>[﻿, n9, известия, августа, года, автомобили, о...</td>\n",
       "      <td>1925</td>\n",
       "      <td>[﻿, n9, известие, август, год, автомобиль, обо...</td>\n",
       "      <td>1925</td>\n",
       "    </tr>\n",
       "    <tr>\n",
       "      <td>1997 Issue 246 December 30 Page 8.txt</td>\n",
       "      <td>﻿II • 30 декабря 1997 г., вторник\\nБИЗНЕС И ЭК...</td>\n",
       "      <td>[﻿II, 30, декабря, 1997, г., вторник, БИЗНЕС, ...</td>\n",
       "      <td>4076</td>\n",
       "      <td>[﻿ii, декабрь, г., вторник, бизнес, экономика,...</td>\n",
       "      <td>3001</td>\n",
       "      <td>[﻿ii, декабрь, год, вторник, бизнес, экономика...</td>\n",
       "      <td>3001</td>\n",
       "    </tr>\n",
       "    <tr>\n",
       "      <td>1997 Issue 151 August 13 Page 4.txt</td>\n",
       "      <td>﻿N6 151 •\\n13 августа 1997 года ♦\\nУГй/№ НЕФТЕ...</td>\n",
       "      <td>[﻿, N6, 151, 13, августа, 1997, года, ♦, УГй, ...</td>\n",
       "      <td>1764</td>\n",
       "      <td>[﻿, n6, августа, года, ♦, угй, №, нефтегазовой...</td>\n",
       "      <td>1180</td>\n",
       "      <td>[﻿, n6, август, год, ♦, угй, №, нефтегазовый, ...</td>\n",
       "      <td>1180</td>\n",
       "    </tr>\n",
       "    <tr>\n",
       "      <td>1997 Issue 133 July 18 Page 1.txt</td>\n",
       "      <td>﻿ж\\n«Я НЕ НАСТОЛЬКО ПОДЛ,\\nЧТОБЫ БЫТЬ ПЕССИМИС...</td>\n",
       "      <td>[﻿ж, Я, НЕ, НАСТОЛЬКО, ПОДЛ, ЧТОБЫ, БЫТЬ, ПЕСС...</td>\n",
       "      <td>2253</td>\n",
       "      <td>[﻿ж, настолько, подлый, пессимист, покупайте, ...</td>\n",
       "      <td>1535</td>\n",
       "      <td>[﻿ж, настолько, подти, пессимист, покупать, св...</td>\n",
       "      <td>1535</td>\n",
       "    </tr>\n",
       "    <tr>\n",
       "      <td>1997 Issue 151 August 13 Page 5.txt</td>\n",
       "      <td>﻿№ 151 •\\nИЗВЕСТИЯ\\n13 августа 1997 года *\\nНа...</td>\n",
       "      <td>[﻿№, 151, ИЗВЕСТИЯ, 13, августа, 1997, года, Н...</td>\n",
       "      <td>4756</td>\n",
       "      <td>[﻿№, известия, августа, года, зерновом, кончал...</td>\n",
       "      <td>3143</td>\n",
       "      <td>[﻿№, известие, август, год, зерновой, кончалов...</td>\n",
       "      <td>3143</td>\n",
       "    </tr>\n",
       "    <tr>\n",
       "      <td>1997 Issue 151 August 13 Page 1.txt</td>\n",
       "      <td>﻿И5ВГГТИ!\\n№ 151 (25004)\\n13 августа 1997 года...</td>\n",
       "      <td>[﻿И5ВГГТИ, №, 151, 25004, 13, августа, 1997, г...</td>\n",
       "      <td>2178</td>\n",
       "      <td>[﻿и5вггти, №, 151 25004, августа, года, среда,...</td>\n",
       "      <td>1591</td>\n",
       "      <td>[иизвггть, №, 151 25004, август, год, среда, г...</td>\n",
       "      <td>1591</td>\n",
       "    </tr>\n",
       "    <tr>\n",
       "      <td>1997 Issue 133 July 18 Page 5.txt</td>\n",
       "      <td>﻿N8 133 •\\n18 июля 1997 года • к\\nЗачем нам\\nС...</td>\n",
       "      <td>[﻿, N8, 133, 18, июля, 1997, года, к, Зачем, н...</td>\n",
       "      <td>4337</td>\n",
       "      <td>[﻿, n8, июль, года, зачем, сын, китайского, па...</td>\n",
       "      <td>3086</td>\n",
       "      <td>[﻿, n8, июль, год, зачем, сын, китайский, патр...</td>\n",
       "      <td>3086</td>\n",
       "    </tr>\n",
       "    <tr>\n",
       "      <td>1997 Issue 133 July 18 Page 4.txt</td>\n",
       "      <td>﻿№ 133 О\\n1 КАНАЛ\\n\\n1 КАНАЛ\\n16.00,18.00,1.20...</td>\n",
       "      <td>[﻿№, 133, О, 1, КАНАЛ, 1, КАНАЛ, 16.00,18.00,1...</td>\n",
       "      <td>3658</td>\n",
       "      <td>[﻿№, канал, канал, новости, супер-дейв, сорвиг...</td>\n",
       "      <td>2227</td>\n",
       "      <td>[﻿№, канал, канал, новость, супер-дейв, сорвиг...</td>\n",
       "      <td>2227</td>\n",
       "    </tr>\n",
       "    <tr>\n",
       "      <td>1997 Issue 151 August 13 Page 2.txt</td>\n",
       "      <td>﻿I\\n№ 151 •\\nОТ НАШИХ ------------------------...</td>\n",
       "      <td>[﻿I, №, 151, ОТ, НАШИХ, КОРРЕСПОНДЕНТОВ, И, ИН...</td>\n",
       "      <td>4155</td>\n",
       "      <td>[﻿i, №, корреспондентов, информационных, агент...</td>\n",
       "      <td>2933</td>\n",
       "      <td>[﻿i, №, корреспондент, информационный, агентст...</td>\n",
       "      <td>2933</td>\n",
       "    </tr>\n",
       "    <tr>\n",
       "      <td>1997 Issue 133 July 18 Page 6.txt</td>\n",
       "      <td>﻿№ 133 «\\nИЗВЕСТИЯ\\nI июля 1997 года *\\n3\\nРН1...</td>\n",
       "      <td>[﻿№, 133, ИЗВЕСТИЯ, I, июля, 1997, года, 3, РН...</td>\n",
       "      <td>3990</td>\n",
       "      <td>[﻿№, известия, i, июль, года, рн1ы1, мокш5, по...</td>\n",
       "      <td>2882</td>\n",
       "      <td>[﻿№, известие, i, июль, год, рн1ы1, мокш5, под...</td>\n",
       "      <td>2882</td>\n",
       "    </tr>\n",
       "    <tr>\n",
       "      <td>1997 Issue 133 July 18 Page 7.txt</td>\n",
       "      <td>﻿№ 133 •\\nИЗВЕСТИЯ\\n18 июля 1997 года •\\nМирон...</td>\n",
       "      <td>[﻿№, 133, ИЗВЕСТИЯ, 18, июля, 1997, года, Миро...</td>\n",
       "      <td>3064</td>\n",
       "      <td>[﻿№, известия, июль, года, мирон, черненко, пр...</td>\n",
       "      <td>2107</td>\n",
       "      <td>[﻿№, известие, июль, год, мирон, черненко, пре...</td>\n",
       "      <td>2107</td>\n",
       "    </tr>\n",
       "    <tr>\n",
       "      <td>1997 Issue 151 August 13 Page 3.txt</td>\n",
       "      <td>﻿№ 151 •\\nИЗВЕСТИЯ\\n13 августа 1997 года •\\nАм...</td>\n",
       "      <td>[﻿№, 151, ИЗВЕСТИЯ, 13, августа, 1997, года, А...</td>\n",
       "      <td>4733</td>\n",
       "      <td>[﻿№, известия, августа, года, американец, хоте...</td>\n",
       "      <td>3344</td>\n",
       "      <td>[﻿№, известие, август, год, американец, хотеть...</td>\n",
       "      <td>3344</td>\n",
       "    </tr>\n",
       "    <tr>\n",
       "      <td>1997 Issue 170 September 09 Page 10.txt</td>\n",
       "      <td>﻿IV • 9 сентября 1997 г., вторник\\nФИНАНСОВЫЕ ...</td>\n",
       "      <td>[﻿IV, 9, сентября, 1997, г., вторник, ФИНАНСОВ...</td>\n",
       "      <td>2030</td>\n",
       "      <td>[﻿iv, сентябрь, г., вторник, финансовые, сырье...</td>\n",
       "      <td>1117</td>\n",
       "      <td>[﻿iv, сентябрь, год, вторник, финансовый, сырь...</td>\n",
       "      <td>1117</td>\n",
       "    </tr>\n",
       "    <tr>\n",
       "      <td>1997 Issue 208 October 31 Page 6.txt</td>\n",
       "      <td>﻿№ 208\\nИЗВЕСТИЯ\\n31 октября 1997 года •\\nРН1Ы...</td>\n",
       "      <td>[﻿№, 208, ИЗВЕСТИЯ, 31, октября, 1997, года, Р...</td>\n",
       "      <td>3929</td>\n",
       "      <td>[﻿№, известия, октябрь, года, рн1ыр, мося15, п...</td>\n",
       "      <td>2685</td>\n",
       "      <td>[﻿№, известие, октябрь, год, рн1ыр, мося15, по...</td>\n",
       "      <td>2685</td>\n",
       "    </tr>\n",
       "    <tr>\n",
       "      <td>1997 Issue 208 October 31 Page 7.txt</td>\n",
       "      <td>﻿№ 208 •\\nИЗВЕСТИЯ\\n31 октября 1997 года •\\nПо...</td>\n",
       "      <td>[﻿№, 208, ИЗВЕСТИЯ, 31, октября, 1997, года, П...</td>\n",
       "      <td>3222</td>\n",
       "      <td>[﻿№, известия, октябрь, года, помочь, ли, коме...</td>\n",
       "      <td>2343</td>\n",
       "      <td>[﻿№, известие, октябрь, год, помочь, ли, комен...</td>\n",
       "      <td>2343</td>\n",
       "    </tr>\n",
       "    <tr>\n",
       "      <td>1997 Issue 170 September 09 Page 11.txt</td>\n",
       "      <td>﻿ФИНАНСОВЫЕ ИЗВЕСТИЯ № 67 (418)\\nМИРОВОЙ бизне...</td>\n",
       "      <td>[﻿, ФИНАНСОВЫЕ, ИЗВЕСТИЯ, №, 67, 418, МИРОВОЙ,...</td>\n",
       "      <td>2500</td>\n",
       "      <td>[﻿, финансовые, известия, №, 67 418, мировой, ...</td>\n",
       "      <td>1812</td>\n",
       "      <td>[﻿, финансовый, известие, №, 67 418, мировой, ...</td>\n",
       "      <td>1812</td>\n",
       "    </tr>\n",
       "    <tr>\n",
       "      <td>1997 Issue 208 October 31 Page 5.txt</td>\n",
       "      <td>﻿№ 208 •\\nИЗВЕСТИЯ\\n31 октября 1997 года • 5\\n...</td>\n",
       "      <td>[﻿№, 208, ИЗВЕСТИЯ, 31, октября, 1997, года, 5...</td>\n",
       "      <td>3040</td>\n",
       "      <td>[﻿№, известия, октябрь, года, октябрь, виталий...</td>\n",
       "      <td>2017</td>\n",
       "      <td>[﻿№, известие, октябрь, год, октябрь, виталий,...</td>\n",
       "      <td>2017</td>\n",
       "    </tr>\n",
       "    <tr>\n",
       "      <td>1997 Issue 170 September 09 Page 8.txt</td>\n",
       "      <td>﻿II О 9 сентября 1997 г., втирниж\\nБИЗНЕС И ЭК...</td>\n",
       "      <td>[﻿II, О, 9, сентября, 1997, г., втирниж, БИЗНЕ...</td>\n",
       "      <td>2716</td>\n",
       "      <td>[﻿ii, сентябрь, г., втирниж, бизнес, экономика...</td>\n",
       "      <td>1936</td>\n",
       "      <td>[﻿ii, сентябрь, год, втирниж, бизнес, экономик...</td>\n",
       "      <td>1936</td>\n",
       "    </tr>\n",
       "    <tr>\n",
       "      <td>1997 Issue 170 September 09 Page 9.txt</td>\n",
       "      <td>﻿ФИНАНСОВЫЕ ИЗВЕСТИЯ N9 67 (418)\\nБАНКИ И ФИНА...</td>\n",
       "      <td>[﻿, ФИНАНСОВЫЕ, ИЗВЕСТИЯ, N9, 67, 418, БАНКИ, ...</td>\n",
       "      <td>3005</td>\n",
       "      <td>[﻿, финансовые, известия, n9, 67 418, банки, ф...</td>\n",
       "      <td>2172</td>\n",
       "      <td>[﻿, финансовый, известие, n9, 67 418, банк, фи...</td>\n",
       "      <td>2172</td>\n",
       "    </tr>\n",
       "    <tr>\n",
       "      <td>1997 Issue 208 October 31 Page 4.txt</td>\n",
       "      <td>﻿№ 208 О\\nИЗВЕСТИЯ • ТВ\\n31 октября 1997 года ...</td>\n",
       "      <td>[﻿№, 208, О, ИЗВЕСТИЯ, ТВ, 31, октября, 1997, ...</td>\n",
       "      <td>825</td>\n",
       "      <td>[﻿№, известия, тв, октябрь, года, ш*’ада, кана...</td>\n",
       "      <td>506</td>\n",
       "      <td>[﻿№, известие, тв, октябрь, год, шелад, канал,...</td>\n",
       "      <td>506</td>\n",
       "    </tr>\n",
       "    <tr>\n",
       "      <td>1997 Issue 170 September 09 Page 12.txt</td>\n",
       "      <td>﻿VI • 9 сентября 1997 г., вторник\\nФИНАНСЫ И О...</td>\n",
       "      <td>[﻿VI, 9, сентября, 1997, г., вторник, ФИНАНСЫ,...</td>\n",
       "      <td>2557</td>\n",
       "      <td>[﻿vi, сентябрь, г., вторник, финансы, общество...</td>\n",
       "      <td>1909</td>\n",
       "      <td>[uvi, сентябрь, год, вторник, финансы, обществ...</td>\n",
       "      <td>1909</td>\n",
       "    </tr>\n",
       "    <tr>\n",
       "      <td>1997 Issue 208 October 31 Page 1.txt</td>\n",
       "      <td>﻿Газета выходит с марта 1917 года •\\t31 октябр...</td>\n",
       "      <td>[﻿, Газета, выходит, с, марта, 1917, года, 31,...</td>\n",
       "      <td>2576</td>\n",
       "      <td>[﻿, газета, выходит, марта, года, октябрь, год...</td>\n",
       "      <td>1893</td>\n",
       "      <td>[﻿, газета, выходить, март, год, октябрь, год,...</td>\n",
       "      <td>1893</td>\n",
       "    </tr>\n",
       "    <tr>\n",
       "      <td>1997 Issue 208 October 31 Page 3.txt</td>\n",
       "      <td>﻿№ 208 *\\nИЗВЕСТИЯ\\n31 октября 1997 года •\\n3\\...</td>\n",
       "      <td>[﻿№, 208, ИЗВЕСТИЯ, 31, октября, 1997, года, 3...</td>\n",
       "      <td>2820</td>\n",
       "      <td>[﻿№, известия, октябрь, года, саддам, хусейн, ...</td>\n",
       "      <td>1957</td>\n",
       "      <td>[﻿№, известие, октябрь, год, садда, хусейн, сл...</td>\n",
       "      <td>1957</td>\n",
       "    </tr>\n",
       "    <tr>\n",
       "      <td>1997 Issue 208 October 31 Page 2.txt</td>\n",
       "      <td>﻿№ 208 ♦\\n31 октября 1997 года •\\nПенсионная р...</td>\n",
       "      <td>[﻿№, 208, ♦, 31, октября, 1997, года, Пенсионн...</td>\n",
       "      <td>4698</td>\n",
       "      <td>[﻿№, ♦, октябрь, года, пенсионный, реформа, вы...</td>\n",
       "      <td>3284</td>\n",
       "      <td>[﻿№, ♦, октябрь, год, пенсионный, реформа, выз...</td>\n",
       "      <td>3284</td>\n",
       "    </tr>\n",
       "    <tr>\n",
       "      <td>1997 Issue 246 December 30 Page 14.txt</td>\n",
       "      <td>﻿VIII В 30 декабря 1997 г., вторник\\nФИНАНСЫ И...</td>\n",
       "      <td>[﻿, VIII, В, 30, декабря, 1997, г., вторник, Ф...</td>\n",
       "      <td>3749</td>\n",
       "      <td>[﻿, viii, декабрь, г., вторник, финансы, общес...</td>\n",
       "      <td>2682</td>\n",
       "      <td>[﻿, viii, декабрь, год, вторник, финансы, обще...</td>\n",
       "      <td>2682</td>\n",
       "    </tr>\n",
       "    <tr>\n",
       "      <td>1997 Issue 170 September 09 Page 2.txt</td>\n",
       "      <td>﻿№ 170 •\\nИЗВЕСТИЯ\\n9 сентября 1997 года • 1\\n...</td>\n",
       "      <td>[﻿№, 170, ИЗВЕСТИЯ, 9, сентября, 1997, года, 1...</td>\n",
       "      <td>3663</td>\n",
       "      <td>[﻿№, известия, сентябрь, года, битва, хлеб, же...</td>\n",
       "      <td>2613</td>\n",
       "      <td>[﻿№, известие, сентябрь, год, битва, хлеб, жер...</td>\n",
       "      <td>2613</td>\n",
       "    </tr>\n",
       "    <tr>\n",
       "      <td>1997 Issue 170 September 09 Page 3.txt</td>\n",
       "      <td>﻿№ 170 •\\nИЗВЕСТИЯ\\n9 сентября 1997 года •\\nБа...</td>\n",
       "      <td>[﻿№, 170, ИЗВЕСТИЯ, 9, сентября, 1997, года, Б...</td>\n",
       "      <td>3349</td>\n",
       "      <td>[﻿№, известия, сентябрь, года, балтийско, черн...</td>\n",
       "      <td>2353</td>\n",
       "      <td>[﻿№, известие, сентябрь, год, балтийский, черн...</td>\n",
       "      <td>2353</td>\n",
       "    </tr>\n",
       "    <tr>\n",
       "      <td>1997 Issue 189 October 04 Page 1.txt</td>\n",
       "      <td>﻿Газета выходит с марта 1917 года •\\t4 октября...</td>\n",
       "      <td>[﻿, Газета, выходит, с, марта, 1917, года, 4, ...</td>\n",
       "      <td>2223</td>\n",
       "      <td>[﻿, газета, выходит, марта, года, октябрь, год...</td>\n",
       "      <td>1597</td>\n",
       "      <td>[﻿, газета, выходить, март, год, октябрь, год,...</td>\n",
       "      <td>1597</td>\n",
       "    </tr>\n",
       "    <tr>\n",
       "      <td>1997 Issue 189 October 04 Page 3.txt</td>\n",
       "      <td>﻿№ 189 •\\nИЗВЕСТИЯ\\n4 октября 1997 года •\\n3\\n...</td>\n",
       "      <td>[﻿№, 189, ИЗВЕСТИЯ, 4, октября, 1997, года, 3,...</td>\n",
       "      <td>3542</td>\n",
       "      <td>[﻿№, известия, октябрь, года, министр, обороны...</td>\n",
       "      <td>2609</td>\n",
       "      <td>[﻿№, известие, октябрь, год, министр, оборона,...</td>\n",
       "      <td>2609</td>\n",
       "    </tr>\n",
       "    <tr>\n",
       "      <td>1997 Issue 170 September 09 Page 1.txt</td>\n",
       "      <td>﻿Лукашенко не намерен щадить\\nрепутацию Ельцин...</td>\n",
       "      <td>[﻿, Лукашенко, не, намерен, щадить, репутацию,...</td>\n",
       "      <td>2291</td>\n",
       "      <td>[﻿, лукашенко, намерен, щадить, репутация, ель...</td>\n",
       "      <td>1636</td>\n",
       "      <td>[﻿, лукашенко, намерен, щадить, репутация, ель...</td>\n",
       "      <td>1636</td>\n",
       "    </tr>\n",
       "    <tr>\n",
       "      <td>1997 Issue 189 October 04 Page 2.txt</td>\n",
       "      <td>﻿N8 189 •\\nИЗВЕСТИЯ\\n4 октября 1997 года •\\nВ....</td>\n",
       "      <td>[﻿, N8, 189, ИЗВЕСТИЯ, 4, октября, 1997, года,...</td>\n",
       "      <td>3863</td>\n",
       "      <td>[﻿, n8, известия, октябрь, года, в., черномырд...</td>\n",
       "      <td>2724</td>\n",
       "      <td>[﻿, n8, известие, октябрь, год, век, черномырд...</td>\n",
       "      <td>2724</td>\n",
       "    </tr>\n",
       "    <tr>\n",
       "      <td>1997 Issue 189 October 04 Page 6.txt</td>\n",
       "      <td>﻿№ 189 О\\nИЗВЕСТИЯ\\n4 октября 1997 года\\nПубли...</td>\n",
       "      <td>[﻿№, 189, О, ИЗВЕСТИЯ, 4, октября, 1997, года,...</td>\n",
       "      <td>3996</td>\n",
       "      <td>[﻿№, известия, октябрь, года, публикуем, фотог...</td>\n",
       "      <td>2679</td>\n",
       "      <td>[﻿№, известие, октябрь, год, публиковать, фото...</td>\n",
       "      <td>2679</td>\n",
       "    </tr>\n",
       "    <tr>\n",
       "      <td>1997 Issue 246 December 30 Page 12.txt</td>\n",
       "      <td>﻿VI • 30 декабря 1997 г., вторник\\nФИНАНСОВЫЕ ...</td>\n",
       "      <td>[﻿VI, 30, декабря, 1997, г., вторник, ФИНАНСОВ...</td>\n",
       "      <td>3946</td>\n",
       "      <td>[﻿vi, декабрь, г., вторник, финансовые, сырьев...</td>\n",
       "      <td>2108</td>\n",
       "      <td>[uvi, декабрь, год, вторник, финансовый, сырье...</td>\n",
       "      <td>2108</td>\n",
       "    </tr>\n",
       "    <tr>\n",
       "      <td>1997 Issue 170 September 09 Page 4.txt</td>\n",
       "      <td>﻿№170 •\\nИЗВЕСТИЯ\\n9 сентября 1997 года •\\n4\\n...</td>\n",
       "      <td>[﻿, №, 170, ИЗВЕСТИЯ, 9, сентября, 1997, года,...</td>\n",
       "      <td>1554</td>\n",
       "      <td>[﻿, №, известия, сентябрь, года, закон, плену,...</td>\n",
       "      <td>1067</td>\n",
       "      <td>[﻿, №, известие, сентябрь, год, закон, плен, а...</td>\n",
       "      <td>1067</td>\n",
       "    </tr>\n",
       "    <tr>\n",
       "      <td>1997 Issue 170 September 09 Page 5.txt</td>\n",
       "      <td>﻿№170 •\\nПоследний на Запад\\nВалерий ВЫЖУТОВИЧ...</td>\n",
       "      <td>[﻿, №, 170, Последний, на, Запад, Валерий, ВЫЖ...</td>\n",
       "      <td>3222</td>\n",
       "      <td>[﻿, №, последний, запад, валерий, выжут, лести...</td>\n",
       "      <td>2341</td>\n",
       "      <td>[﻿, №, последний, запад, валерий, выжутович, л...</td>\n",
       "      <td>2341</td>\n",
       "    </tr>\n",
       "    <tr>\n",
       "      <td>1997 Issue 208 October 31 Page 8.txt</td>\n",
       "      <td>﻿№ 208 •\\nИЗВЕСТИЯ\\n31 октября 1997 года\\nПриз...</td>\n",
       "      <td>[﻿№, 208, ИЗВЕСТИЯ, 31, октября, 1997, года, П...</td>\n",
       "      <td>3932</td>\n",
       "      <td>[﻿№, известия, октябрь, года, признание, франц...</td>\n",
       "      <td>2683</td>\n",
       "      <td>[﻿№, известие, октябрь, год, признание, францу...</td>\n",
       "      <td>2683</td>\n",
       "    </tr>\n",
       "    <tr>\n",
       "      <td>1997 Issue 246 December 30 Page 13.txt</td>\n",
       "      <td>﻿ФИНАНСОВЫЕ ИЗВЕСТИЯ Н» 99 (450)\\nМИРОВОМ БИЗН...</td>\n",
       "      <td>[﻿, ФИНАНСОВЫЕ, ИЗВЕСТИЯ, Н», 99, 450, МИРОВОМ...</td>\n",
       "      <td>3538</td>\n",
       "      <td>[﻿, финансовые, известия, н», 99 450, мировом,...</td>\n",
       "      <td>2599</td>\n",
       "      <td>[﻿, финансовый, известие, н», 99 450, мировой,...</td>\n",
       "      <td>2599</td>\n",
       "    </tr>\n",
       "    <tr>\n",
       "      <td>1997 Issue 189 October 04 Page 5.txt</td>\n",
       "      <td>﻿N0 189 •\\nИЗВЕСТИЯ\\n4 октября 1997 года\\n5\\nТ...</td>\n",
       "      <td>[﻿, N0, 189, ИЗВЕСТИЯ, 4, октября, 1997, года,...</td>\n",
       "      <td>3150</td>\n",
       "      <td>[﻿, n0, известия, октябрь, года, техника, дома...</td>\n",
       "      <td>2228</td>\n",
       "      <td>[﻿, n0, известие, октябрь, год, техника, дом, ...</td>\n",
       "      <td>2228</td>\n",
       "    </tr>\n",
       "    <tr>\n",
       "      <td>1997 Issue 246 December 30 Page 11.txt</td>\n",
       "      <td>﻿ФИНАНСОВЫЕ ИЗВЕС ТИЯ М (450)\\nПРОМЫШЛЕННОСТЬ\\...</td>\n",
       "      <td>[﻿, ФИНАНСОВЫЕ, ИЗВЕС, ТИЯ, М, 450, ПРОМЫШЛЕНН...</td>\n",
       "      <td>3956</td>\n",
       "      <td>[﻿, финансовые, извес, тия, м, промышленность,...</td>\n",
       "      <td>2951</td>\n",
       "      <td>[﻿, финансовый, извес, тия, метр, промышленнос...</td>\n",
       "      <td>2951</td>\n",
       "    </tr>\n",
       "    <tr>\n",
       "      <td>1997 Issue 170 September 09 Page 7.txt</td>\n",
       "      <td>﻿\\nМировой лидер в Новейших сельскохозяй-' ств...</td>\n",
       "      <td>[﻿, Мировой, лидер, в, Новейших, сельскохозяй-...</td>\n",
       "      <td>2229</td>\n",
       "      <td>[﻿, мировой, лидер, новейших, сельскохозяй-', ...</td>\n",
       "      <td>1649</td>\n",
       "      <td>[﻿, мировой, лидер, новый, сельскохозяй-', ств...</td>\n",
       "      <td>1649</td>\n",
       "    </tr>\n",
       "    <tr>\n",
       "      <td>1997 Issue 170 September 09 Page 6.txt</td>\n",
       "      <td>﻿№170 •\\n9 сентября 1997 года\\nОАЕУУОО Е1.ЕСТА...</td>\n",
       "      <td>[﻿, №, 170, 9, сентября, 1997, года, ОАЕУУОО, ...</td>\n",
       "      <td>3340</td>\n",
       "      <td>[﻿, №, сентябрь, года, оаеууоо, е1.естаом1св, ...</td>\n",
       "      <td>2469</td>\n",
       "      <td>[﻿, №, сентябрь, год, оаеуухо, ет.естаомнсво, ...</td>\n",
       "      <td>2469</td>\n",
       "    </tr>\n",
       "    <tr>\n",
       "      <td>1997 Issue 246 December 30 Page 10.txt</td>\n",
       "      <td>﻿IV * ЛО лесаЛрв 1997 г., вторник\\nПРИВАТИЗАЦИ...</td>\n",
       "      <td>[﻿IV, ЛО, лесаЛрв, 1997, г., вторник, ПРИВАТИЗ...</td>\n",
       "      <td>1941</td>\n",
       "      <td>[﻿iv, ло, лесалрв, г., вторник, приватизация, ...</td>\n",
       "      <td>1443</td>\n",
       "      <td>[﻿iv, ло, лесалрв, год, вторник, приватизация,...</td>\n",
       "      <td>1443</td>\n",
       "    </tr>\n",
       "    <tr>\n",
       "      <td>1997 Issue 189 October 04 Page 4.txt</td>\n",
       "      <td>﻿N9 189 я\\n4 октября 1997 года •\\n• Обманутые ...</td>\n",
       "      <td>[﻿, N9, 189, я, 4, октября, 1997, года, Обману...</td>\n",
       "      <td>3246</td>\n",
       "      <td>[﻿, n9, октябрь, года, обманутые, вкладчик, пу...</td>\n",
       "      <td>2258</td>\n",
       "      <td>[﻿, n9, октябрь, год, обмануть, вкладчик, путе...</td>\n",
       "      <td>2258</td>\n",
       "    </tr>\n",
       "    <tr>\n",
       "      <td>1997 Issue 227 November 29 Page 6.txt</td>\n",
       "      <td>﻿N8 227 •\\n*—\\nИЗВЕСТИЯ\\n29 ноября 1997 года\\n...</td>\n",
       "      <td>[﻿, N8, 227, ИЗВЕСТИЯ, 29, ноября, 1997, года,...</td>\n",
       "      <td>4166</td>\n",
       "      <td>[﻿, n8, известия, ноябрь, года, жизнь, прекрас...</td>\n",
       "      <td>2771</td>\n",
       "      <td>[﻿, n8, известие, ноябрь, год, жизнь, прекрасн...</td>\n",
       "      <td>2771</td>\n",
       "    </tr>\n",
       "    <tr>\n",
       "      <td>1997 Issue 246 December 30 Page 1.txt</td>\n",
       "      <td>﻿Газета выходит с марта 1017 года •\\t30 декабр...</td>\n",
       "      <td>[﻿, Газета, выходит, с, марта, 1017, года, 30,...</td>\n",
       "      <td>2377</td>\n",
       "      <td>[﻿, газета, выходит, марта, года, декабрь, год...</td>\n",
       "      <td>1700</td>\n",
       "      <td>[﻿, газета, выходить, март, год, декабрь, год,...</td>\n",
       "      <td>1700</td>\n",
       "    </tr>\n",
       "    <tr>\n",
       "      <td>1997 Issue 246 December 30 Page 3.txt</td>\n",
       "      <td>﻿N9 246 •\\nИЗВЕСТИЯ\\n30 декабря 1997 года •\\n3...</td>\n",
       "      <td>[﻿, N9, 246, ИЗВЕСТИЯ, 30, декабря, 1997, года...</td>\n",
       "      <td>3865</td>\n",
       "      <td>[﻿, n9, известия, декабрь, года, убийство, тюр...</td>\n",
       "      <td>2758</td>\n",
       "      <td>[﻿, n9, известие, декабрь, год, убийство, тюрь...</td>\n",
       "      <td>2758</td>\n",
       "    </tr>\n",
       "    <tr>\n",
       "      <td>1997 Issue 227 November 29 Page 4.txt</td>\n",
       "      <td>﻿№ 227 •\\nИЗВЕСТИЯ\\n29 ноября 1997 года •\\n• С...</td>\n",
       "      <td>[﻿№, 227, ИЗВЕСТИЯ, 29, ноября, 1997, года, С,...</td>\n",
       "      <td>3368</td>\n",
       "      <td>[﻿№, известия, ноябрь, года, экспертиза, магаз...</td>\n",
       "      <td>2138</td>\n",
       "      <td>[﻿№, известие, ноябрь, год, экспертиза, магази...</td>\n",
       "      <td>2138</td>\n",
       "    </tr>\n",
       "    <tr>\n",
       "      <td>1997 Issue 227 November 29 Page 5.txt</td>\n",
       "      <td>﻿№ 227 •\\nИЗВЕСТИЯ\\n29 ноября 1997 года •\\n5\\n...</td>\n",
       "      <td>[﻿№, 227, ИЗВЕСТИЯ, 29, ноября, 1997, года, 5,...</td>\n",
       "      <td>2735</td>\n",
       "      <td>[﻿№, известия, ноябрь, года, новые, минеральны...</td>\n",
       "      <td>1934</td>\n",
       "      <td>[﻿№, известие, ноябрь, год, новый, минеральный...</td>\n",
       "      <td>1934</td>\n",
       "    </tr>\n",
       "    <tr>\n",
       "      <td>1997 Issue 246 December 30 Page 2.txt</td>\n",
       "      <td>﻿№ 246 •\\nИЗВЕСТИЯ\\n30 декабря 1997 года •\\t*/...</td>\n",
       "      <td>[﻿№, 246, ИЗВЕСТИЯ, 30, декабря, 1997, года, О...</td>\n",
       "      <td>4201</td>\n",
       "      <td>[﻿№, известия, декабрь, года, корреспондентов,...</td>\n",
       "      <td>2930</td>\n",
       "      <td>[﻿№, известие, декабрь, год, корреспондент, пр...</td>\n",
       "      <td>2930</td>\n",
       "    </tr>\n",
       "    <tr>\n",
       "      <td>1997 Issue 246 December 30 Page 6.txt</td>\n",
       "      <td>﻿№ 246 О\\nИЗВЕСТИЯ\\n30 декабря 1997 года\\nКань...</td>\n",
       "      <td>[﻿№, 246, О, ИЗВЕСТИЯ, 30, декабря, 1997, года...</td>\n",
       "      <td>3479</td>\n",
       "      <td>[﻿№, известия, декабрь, года, кануть, чан, нор...</td>\n",
       "      <td>2507</td>\n",
       "      <td>[﻿№, известие, декабрь, год, кань, чан, норрис...</td>\n",
       "      <td>2507</td>\n",
       "    </tr>\n",
       "    <tr>\n",
       "      <td>1997 Issue 227 November 29 Page 1.txt</td>\n",
       "      <td>﻿Г\\n• Субботний гость\\nN\\nк\\nг\\n\\n1\\nГаэета вы...</td>\n",
       "      <td>[﻿, Г, Субботний, гость, N, к, г, 1, Гаэета, в...</td>\n",
       "      <td>2223</td>\n",
       "      <td>[﻿, г, субботний, гость, n, г, гаэета, выходит...</td>\n",
       "      <td>1629</td>\n",
       "      <td>[﻿, год, субботний, гость, н-лат, год, гаэета,...</td>\n",
       "      <td>1629</td>\n",
       "    </tr>\n",
       "    <tr>\n",
       "      <td>1997 Issue 246 December 30 Page 7.txt</td>\n",
       "      <td>﻿Мировой лидер в Текстильных материалах\\n\"ОПТИ...</td>\n",
       "      <td>[﻿, Мировой, лидер, в, Текстильных, материалах...</td>\n",
       "      <td>2104</td>\n",
       "      <td>[﻿, мировой, лидер, текстильных, материал, опт...</td>\n",
       "      <td>1527</td>\n",
       "      <td>[﻿, мировой, лидер, текстильный, материал, опт...</td>\n",
       "      <td>1527</td>\n",
       "    </tr>\n",
       "    <tr>\n",
       "      <td>1997 Issue 246 December 30 Page 5.txt</td>\n",
       "      <td>﻿N2 246 О\\nИЗВЕСТИЯ\\n30 декабря 1997 года •\\nГ...</td>\n",
       "      <td>[﻿, N2, 246, О, ИЗВЕСТИЯ, 30, декабря, 1997, г...</td>\n",
       "      <td>4736</td>\n",
       "      <td>[﻿, n, известия, декабрь, года, гениева, боять...</td>\n",
       "      <td>3098</td>\n",
       "      <td>[﻿, н-лат, известие, декабрь, год, гениев, боя...</td>\n",
       "      <td>3098</td>\n",
       "    </tr>\n",
       "    <tr>\n",
       "      <td>1997 Issue 227 November 29 Page 2.txt</td>\n",
       "      <td>﻿№ 227 •\\nИЗВЕСТИЯ\\n29 ноября 1997 года •\\nИмп...</td>\n",
       "      <td>[﻿№, 227, ИЗВЕСТИЯ, 29, ноября, 1997, года, Им...</td>\n",
       "      <td>4193</td>\n",
       "      <td>[﻿№, известия, ноябрь, года, империи, вяхирева...</td>\n",
       "      <td>2935</td>\n",
       "      <td>[﻿№, известие, ноябрь, год, империя, вяхирев, ...</td>\n",
       "      <td>2935</td>\n",
       "    </tr>\n",
       "    <tr>\n",
       "      <td>1997 Issue 227 November 29 Page 3.txt</td>\n",
       "      <td>﻿№ 227 •\\nИЗВЕСТИЯ\\n29 ноября 1997 года •\\n3\\n...</td>\n",
       "      <td>[﻿№, 227, ИЗВЕСТИЯ, 29, ноября, 1997, года, 3,...</td>\n",
       "      <td>3369</td>\n",
       "      <td>[﻿№, известия, ноябрь, года, |, считает, предс...</td>\n",
       "      <td>2355</td>\n",
       "      <td>[﻿№, известие, ноябрь, год, |, считать, предсе...</td>\n",
       "      <td>2355</td>\n",
       "    </tr>\n",
       "    <tr>\n",
       "      <td>1997 Issue 246 December 30 Page 4.txt</td>\n",
       "      <td>﻿№ 246 •\\nИЗВЕСТИЯ\\n30 декабря 1997 года •\\nВз...</td>\n",
       "      <td>[﻿№, 246, ИЗВЕСТИЯ, 30, декабря, 1997, года, В...</td>\n",
       "      <td>2511</td>\n",
       "      <td>[﻿№, известия, декабрь, года, взятки, дорога, ...</td>\n",
       "      <td>1676</td>\n",
       "      <td>[﻿№, известие, декабрь, год, взятка, дорога, в...</td>\n",
       "      <td>1676</td>\n",
       "    </tr>\n",
       "  </tbody>\n",
       "</table>\n",
       "</div>"
      ],
      "text/plain": [
       "                                                                                      text  \\\n",
       "1997 Issue 246 December 30 Page 9.txt    ﻿ФИНАНСОВЫЕ ИЗВЕСТИЯ Ко 99 <459)\\nБАНКИ И ФИНА...   \n",
       "1997 Issue 133 July 18 Page 3.txt        ﻿№ 133 •\\nИЗВЕСТИЯ\\n18 июля 1997 года *\\nВерса...   \n",
       "1997 Issue 133 July 18 Page 2.txt        ﻿N9 133 •\\nИЗВЕСТИЯ\\n\\nОТ НАШИХ ■ корреспонден...   \n",
       "1997 Issue 151 August 13 Page 6.txt      ﻿N9 151 •\\nИЗВЕСТИЯ\\n13 августа 1997 года •\\n•...   \n",
       "1997 Issue 246 December 30 Page 8.txt    ﻿II • 30 декабря 1997 г., вторник\\nБИЗНЕС И ЭК...   \n",
       "1997 Issue 151 August 13 Page 4.txt      ﻿N6 151 •\\n13 августа 1997 года ♦\\nУГй/№ НЕФТЕ...   \n",
       "1997 Issue 133 July 18 Page 1.txt        ﻿ж\\n«Я НЕ НАСТОЛЬКО ПОДЛ,\\nЧТОБЫ БЫТЬ ПЕССИМИС...   \n",
       "1997 Issue 151 August 13 Page 5.txt      ﻿№ 151 •\\nИЗВЕСТИЯ\\n13 августа 1997 года *\\nНа...   \n",
       "1997 Issue 151 August 13 Page 1.txt      ﻿И5ВГГТИ!\\n№ 151 (25004)\\n13 августа 1997 года...   \n",
       "1997 Issue 133 July 18 Page 5.txt        ﻿N8 133 •\\n18 июля 1997 года • к\\nЗачем нам\\nС...   \n",
       "1997 Issue 133 July 18 Page 4.txt        ﻿№ 133 О\\n1 КАНАЛ\\n\\n1 КАНАЛ\\n16.00,18.00,1.20...   \n",
       "1997 Issue 151 August 13 Page 2.txt      ﻿I\\n№ 151 •\\nОТ НАШИХ ------------------------...   \n",
       "1997 Issue 133 July 18 Page 6.txt        ﻿№ 133 «\\nИЗВЕСТИЯ\\nI июля 1997 года *\\n3\\nРН1...   \n",
       "1997 Issue 133 July 18 Page 7.txt        ﻿№ 133 •\\nИЗВЕСТИЯ\\n18 июля 1997 года •\\nМирон...   \n",
       "1997 Issue 151 August 13 Page 3.txt      ﻿№ 151 •\\nИЗВЕСТИЯ\\n13 августа 1997 года •\\nАм...   \n",
       "1997 Issue 170 September 09 Page 10.txt  ﻿IV • 9 сентября 1997 г., вторник\\nФИНАНСОВЫЕ ...   \n",
       "1997 Issue 208 October 31 Page 6.txt     ﻿№ 208\\nИЗВЕСТИЯ\\n31 октября 1997 года •\\nРН1Ы...   \n",
       "1997 Issue 208 October 31 Page 7.txt     ﻿№ 208 •\\nИЗВЕСТИЯ\\n31 октября 1997 года •\\nПо...   \n",
       "1997 Issue 170 September 09 Page 11.txt  ﻿ФИНАНСОВЫЕ ИЗВЕСТИЯ № 67 (418)\\nМИРОВОЙ бизне...   \n",
       "1997 Issue 208 October 31 Page 5.txt     ﻿№ 208 •\\nИЗВЕСТИЯ\\n31 октября 1997 года • 5\\n...   \n",
       "1997 Issue 170 September 09 Page 8.txt   ﻿II О 9 сентября 1997 г., втирниж\\nБИЗНЕС И ЭК...   \n",
       "1997 Issue 170 September 09 Page 9.txt   ﻿ФИНАНСОВЫЕ ИЗВЕСТИЯ N9 67 (418)\\nБАНКИ И ФИНА...   \n",
       "1997 Issue 208 October 31 Page 4.txt     ﻿№ 208 О\\nИЗВЕСТИЯ • ТВ\\n31 октября 1997 года ...   \n",
       "1997 Issue 170 September 09 Page 12.txt  ﻿VI • 9 сентября 1997 г., вторник\\nФИНАНСЫ И О...   \n",
       "1997 Issue 208 October 31 Page 1.txt     ﻿Газета выходит с марта 1917 года •\\t31 октябр...   \n",
       "1997 Issue 208 October 31 Page 3.txt     ﻿№ 208 *\\nИЗВЕСТИЯ\\n31 октября 1997 года •\\n3\\...   \n",
       "1997 Issue 208 October 31 Page 2.txt     ﻿№ 208 ♦\\n31 октября 1997 года •\\nПенсионная р...   \n",
       "1997 Issue 246 December 30 Page 14.txt   ﻿VIII В 30 декабря 1997 г., вторник\\nФИНАНСЫ И...   \n",
       "1997 Issue 170 September 09 Page 2.txt   ﻿№ 170 •\\nИЗВЕСТИЯ\\n9 сентября 1997 года • 1\\n...   \n",
       "1997 Issue 170 September 09 Page 3.txt   ﻿№ 170 •\\nИЗВЕСТИЯ\\n9 сентября 1997 года •\\nБа...   \n",
       "1997 Issue 189 October 04 Page 1.txt     ﻿Газета выходит с марта 1917 года •\\t4 октября...   \n",
       "1997 Issue 189 October 04 Page 3.txt     ﻿№ 189 •\\nИЗВЕСТИЯ\\n4 октября 1997 года •\\n3\\n...   \n",
       "1997 Issue 170 September 09 Page 1.txt   ﻿Лукашенко не намерен щадить\\nрепутацию Ельцин...   \n",
       "1997 Issue 189 October 04 Page 2.txt     ﻿N8 189 •\\nИЗВЕСТИЯ\\n4 октября 1997 года •\\nВ....   \n",
       "1997 Issue 189 October 04 Page 6.txt     ﻿№ 189 О\\nИЗВЕСТИЯ\\n4 октября 1997 года\\nПубли...   \n",
       "1997 Issue 246 December 30 Page 12.txt   ﻿VI • 30 декабря 1997 г., вторник\\nФИНАНСОВЫЕ ...   \n",
       "1997 Issue 170 September 09 Page 4.txt   ﻿№170 •\\nИЗВЕСТИЯ\\n9 сентября 1997 года •\\n4\\n...   \n",
       "1997 Issue 170 September 09 Page 5.txt   ﻿№170 •\\nПоследний на Запад\\nВалерий ВЫЖУТОВИЧ...   \n",
       "1997 Issue 208 October 31 Page 8.txt     ﻿№ 208 •\\nИЗВЕСТИЯ\\n31 октября 1997 года\\nПриз...   \n",
       "1997 Issue 246 December 30 Page 13.txt   ﻿ФИНАНСОВЫЕ ИЗВЕСТИЯ Н» 99 (450)\\nМИРОВОМ БИЗН...   \n",
       "1997 Issue 189 October 04 Page 5.txt     ﻿N0 189 •\\nИЗВЕСТИЯ\\n4 октября 1997 года\\n5\\nТ...   \n",
       "1997 Issue 246 December 30 Page 11.txt   ﻿ФИНАНСОВЫЕ ИЗВЕС ТИЯ М (450)\\nПРОМЫШЛЕННОСТЬ\\...   \n",
       "1997 Issue 170 September 09 Page 7.txt   ﻿\\nМировой лидер в Новейших сельскохозяй-' ств...   \n",
       "1997 Issue 170 September 09 Page 6.txt   ﻿№170 •\\n9 сентября 1997 года\\nОАЕУУОО Е1.ЕСТА...   \n",
       "1997 Issue 246 December 30 Page 10.txt   ﻿IV * ЛО лесаЛрв 1997 г., вторник\\nПРИВАТИЗАЦИ...   \n",
       "1997 Issue 189 October 04 Page 4.txt     ﻿N9 189 я\\n4 октября 1997 года •\\n• Обманутые ...   \n",
       "1997 Issue 227 November 29 Page 6.txt    ﻿N8 227 •\\n*—\\nИЗВЕСТИЯ\\n29 ноября 1997 года\\n...   \n",
       "1997 Issue 246 December 30 Page 1.txt    ﻿Газета выходит с марта 1017 года •\\t30 декабр...   \n",
       "1997 Issue 246 December 30 Page 3.txt    ﻿N9 246 •\\nИЗВЕСТИЯ\\n30 декабря 1997 года •\\n3...   \n",
       "1997 Issue 227 November 29 Page 4.txt    ﻿№ 227 •\\nИЗВЕСТИЯ\\n29 ноября 1997 года •\\n• С...   \n",
       "1997 Issue 227 November 29 Page 5.txt    ﻿№ 227 •\\nИЗВЕСТИЯ\\n29 ноября 1997 года •\\n5\\n...   \n",
       "1997 Issue 246 December 30 Page 2.txt    ﻿№ 246 •\\nИЗВЕСТИЯ\\n30 декабря 1997 года •\\t*/...   \n",
       "1997 Issue 246 December 30 Page 6.txt    ﻿№ 246 О\\nИЗВЕСТИЯ\\n30 декабря 1997 года\\nКань...   \n",
       "1997 Issue 227 November 29 Page 1.txt    ﻿Г\\n• Субботний гость\\nN\\nк\\nг\\n\\n1\\nГаэета вы...   \n",
       "1997 Issue 246 December 30 Page 7.txt    ﻿Мировой лидер в Текстильных материалах\\n\"ОПТИ...   \n",
       "1997 Issue 246 December 30 Page 5.txt    ﻿N2 246 О\\nИЗВЕСТИЯ\\n30 декабря 1997 года •\\nГ...   \n",
       "1997 Issue 227 November 29 Page 2.txt    ﻿№ 227 •\\nИЗВЕСТИЯ\\n29 ноября 1997 года •\\nИмп...   \n",
       "1997 Issue 227 November 29 Page 3.txt    ﻿№ 227 •\\nИЗВЕСТИЯ\\n29 ноября 1997 года •\\n3\\n...   \n",
       "1997 Issue 246 December 30 Page 4.txt    ﻿№ 246 •\\nИЗВЕСТИЯ\\n30 декабря 1997 года •\\nВз...   \n",
       "\n",
       "                                                                            tokenized_text  \\\n",
       "1997 Issue 246 December 30 Page 9.txt    [﻿, ФИНАНСОВЫЕ, ИЗВЕСТИЯ, Ко, 99, <, 459, БАНК...   \n",
       "1997 Issue 133 July 18 Page 3.txt        [﻿№, 133, ИЗВЕСТИЯ, 18, июля, 1997, года, Верс...   \n",
       "1997 Issue 133 July 18 Page 2.txt        [﻿, N9, 133, ИЗВЕСТИЯ, ОТ, НАШИХ, ■, корреспон...   \n",
       "1997 Issue 151 August 13 Page 6.txt      [﻿, N9, 151, ИЗВЕСТИЯ, 13, августа, 1997, года...   \n",
       "1997 Issue 246 December 30 Page 8.txt    [﻿II, 30, декабря, 1997, г., вторник, БИЗНЕС, ...   \n",
       "1997 Issue 151 August 13 Page 4.txt      [﻿, N6, 151, 13, августа, 1997, года, ♦, УГй, ...   \n",
       "1997 Issue 133 July 18 Page 1.txt        [﻿ж, Я, НЕ, НАСТОЛЬКО, ПОДЛ, ЧТОБЫ, БЫТЬ, ПЕСС...   \n",
       "1997 Issue 151 August 13 Page 5.txt      [﻿№, 151, ИЗВЕСТИЯ, 13, августа, 1997, года, Н...   \n",
       "1997 Issue 151 August 13 Page 1.txt      [﻿И5ВГГТИ, №, 151, 25004, 13, августа, 1997, г...   \n",
       "1997 Issue 133 July 18 Page 5.txt        [﻿, N8, 133, 18, июля, 1997, года, к, Зачем, н...   \n",
       "1997 Issue 133 July 18 Page 4.txt        [﻿№, 133, О, 1, КАНАЛ, 1, КАНАЛ, 16.00,18.00,1...   \n",
       "1997 Issue 151 August 13 Page 2.txt      [﻿I, №, 151, ОТ, НАШИХ, КОРРЕСПОНДЕНТОВ, И, ИН...   \n",
       "1997 Issue 133 July 18 Page 6.txt        [﻿№, 133, ИЗВЕСТИЯ, I, июля, 1997, года, 3, РН...   \n",
       "1997 Issue 133 July 18 Page 7.txt        [﻿№, 133, ИЗВЕСТИЯ, 18, июля, 1997, года, Миро...   \n",
       "1997 Issue 151 August 13 Page 3.txt      [﻿№, 151, ИЗВЕСТИЯ, 13, августа, 1997, года, А...   \n",
       "1997 Issue 170 September 09 Page 10.txt  [﻿IV, 9, сентября, 1997, г., вторник, ФИНАНСОВ...   \n",
       "1997 Issue 208 October 31 Page 6.txt     [﻿№, 208, ИЗВЕСТИЯ, 31, октября, 1997, года, Р...   \n",
       "1997 Issue 208 October 31 Page 7.txt     [﻿№, 208, ИЗВЕСТИЯ, 31, октября, 1997, года, П...   \n",
       "1997 Issue 170 September 09 Page 11.txt  [﻿, ФИНАНСОВЫЕ, ИЗВЕСТИЯ, №, 67, 418, МИРОВОЙ,...   \n",
       "1997 Issue 208 October 31 Page 5.txt     [﻿№, 208, ИЗВЕСТИЯ, 31, октября, 1997, года, 5...   \n",
       "1997 Issue 170 September 09 Page 8.txt   [﻿II, О, 9, сентября, 1997, г., втирниж, БИЗНЕ...   \n",
       "1997 Issue 170 September 09 Page 9.txt   [﻿, ФИНАНСОВЫЕ, ИЗВЕСТИЯ, N9, 67, 418, БАНКИ, ...   \n",
       "1997 Issue 208 October 31 Page 4.txt     [﻿№, 208, О, ИЗВЕСТИЯ, ТВ, 31, октября, 1997, ...   \n",
       "1997 Issue 170 September 09 Page 12.txt  [﻿VI, 9, сентября, 1997, г., вторник, ФИНАНСЫ,...   \n",
       "1997 Issue 208 October 31 Page 1.txt     [﻿, Газета, выходит, с, марта, 1917, года, 31,...   \n",
       "1997 Issue 208 October 31 Page 3.txt     [﻿№, 208, ИЗВЕСТИЯ, 31, октября, 1997, года, 3...   \n",
       "1997 Issue 208 October 31 Page 2.txt     [﻿№, 208, ♦, 31, октября, 1997, года, Пенсионн...   \n",
       "1997 Issue 246 December 30 Page 14.txt   [﻿, VIII, В, 30, декабря, 1997, г., вторник, Ф...   \n",
       "1997 Issue 170 September 09 Page 2.txt   [﻿№, 170, ИЗВЕСТИЯ, 9, сентября, 1997, года, 1...   \n",
       "1997 Issue 170 September 09 Page 3.txt   [﻿№, 170, ИЗВЕСТИЯ, 9, сентября, 1997, года, Б...   \n",
       "1997 Issue 189 October 04 Page 1.txt     [﻿, Газета, выходит, с, марта, 1917, года, 4, ...   \n",
       "1997 Issue 189 October 04 Page 3.txt     [﻿№, 189, ИЗВЕСТИЯ, 4, октября, 1997, года, 3,...   \n",
       "1997 Issue 170 September 09 Page 1.txt   [﻿, Лукашенко, не, намерен, щадить, репутацию,...   \n",
       "1997 Issue 189 October 04 Page 2.txt     [﻿, N8, 189, ИЗВЕСТИЯ, 4, октября, 1997, года,...   \n",
       "1997 Issue 189 October 04 Page 6.txt     [﻿№, 189, О, ИЗВЕСТИЯ, 4, октября, 1997, года,...   \n",
       "1997 Issue 246 December 30 Page 12.txt   [﻿VI, 30, декабря, 1997, г., вторник, ФИНАНСОВ...   \n",
       "1997 Issue 170 September 09 Page 4.txt   [﻿, №, 170, ИЗВЕСТИЯ, 9, сентября, 1997, года,...   \n",
       "1997 Issue 170 September 09 Page 5.txt   [﻿, №, 170, Последний, на, Запад, Валерий, ВЫЖ...   \n",
       "1997 Issue 208 October 31 Page 8.txt     [﻿№, 208, ИЗВЕСТИЯ, 31, октября, 1997, года, П...   \n",
       "1997 Issue 246 December 30 Page 13.txt   [﻿, ФИНАНСОВЫЕ, ИЗВЕСТИЯ, Н», 99, 450, МИРОВОМ...   \n",
       "1997 Issue 189 October 04 Page 5.txt     [﻿, N0, 189, ИЗВЕСТИЯ, 4, октября, 1997, года,...   \n",
       "1997 Issue 246 December 30 Page 11.txt   [﻿, ФИНАНСОВЫЕ, ИЗВЕС, ТИЯ, М, 450, ПРОМЫШЛЕНН...   \n",
       "1997 Issue 170 September 09 Page 7.txt   [﻿, Мировой, лидер, в, Новейших, сельскохозяй-...   \n",
       "1997 Issue 170 September 09 Page 6.txt   [﻿, №, 170, 9, сентября, 1997, года, ОАЕУУОО, ...   \n",
       "1997 Issue 246 December 30 Page 10.txt   [﻿IV, ЛО, лесаЛрв, 1997, г., вторник, ПРИВАТИЗ...   \n",
       "1997 Issue 189 October 04 Page 4.txt     [﻿, N9, 189, я, 4, октября, 1997, года, Обману...   \n",
       "1997 Issue 227 November 29 Page 6.txt    [﻿, N8, 227, ИЗВЕСТИЯ, 29, ноября, 1997, года,...   \n",
       "1997 Issue 246 December 30 Page 1.txt    [﻿, Газета, выходит, с, марта, 1017, года, 30,...   \n",
       "1997 Issue 246 December 30 Page 3.txt    [﻿, N9, 246, ИЗВЕСТИЯ, 30, декабря, 1997, года...   \n",
       "1997 Issue 227 November 29 Page 4.txt    [﻿№, 227, ИЗВЕСТИЯ, 29, ноября, 1997, года, С,...   \n",
       "1997 Issue 227 November 29 Page 5.txt    [﻿№, 227, ИЗВЕСТИЯ, 29, ноября, 1997, года, 5,...   \n",
       "1997 Issue 246 December 30 Page 2.txt    [﻿№, 246, ИЗВЕСТИЯ, 30, декабря, 1997, года, О...   \n",
       "1997 Issue 246 December 30 Page 6.txt    [﻿№, 246, О, ИЗВЕСТИЯ, 30, декабря, 1997, года...   \n",
       "1997 Issue 227 November 29 Page 1.txt    [﻿, Г, Субботний, гость, N, к, г, 1, Гаэета, в...   \n",
       "1997 Issue 246 December 30 Page 7.txt    [﻿, Мировой, лидер, в, Текстильных, материалах...   \n",
       "1997 Issue 246 December 30 Page 5.txt    [﻿, N2, 246, О, ИЗВЕСТИЯ, 30, декабря, 1997, г...   \n",
       "1997 Issue 227 November 29 Page 2.txt    [﻿№, 227, ИЗВЕСТИЯ, 29, ноября, 1997, года, Им...   \n",
       "1997 Issue 227 November 29 Page 3.txt    [﻿№, 227, ИЗВЕСТИЯ, 29, ноября, 1997, года, 3,...   \n",
       "1997 Issue 246 December 30 Page 4.txt    [﻿№, 246, ИЗВЕСТИЯ, 30, декабря, 1997, года, В...   \n",
       "\n",
       "                                         word_counts  \\\n",
       "1997 Issue 246 December 30 Page 9.txt           3529   \n",
       "1997 Issue 133 July 18 Page 3.txt               3922   \n",
       "1997 Issue 133 July 18 Page 2.txt               3431   \n",
       "1997 Issue 151 August 13 Page 6.txt             2836   \n",
       "1997 Issue 246 December 30 Page 8.txt           4076   \n",
       "1997 Issue 151 August 13 Page 4.txt             1764   \n",
       "1997 Issue 133 July 18 Page 1.txt               2253   \n",
       "1997 Issue 151 August 13 Page 5.txt             4756   \n",
       "1997 Issue 151 August 13 Page 1.txt             2178   \n",
       "1997 Issue 133 July 18 Page 5.txt               4337   \n",
       "1997 Issue 133 July 18 Page 4.txt               3658   \n",
       "1997 Issue 151 August 13 Page 2.txt             4155   \n",
       "1997 Issue 133 July 18 Page 6.txt               3990   \n",
       "1997 Issue 133 July 18 Page 7.txt               3064   \n",
       "1997 Issue 151 August 13 Page 3.txt             4733   \n",
       "1997 Issue 170 September 09 Page 10.txt         2030   \n",
       "1997 Issue 208 October 31 Page 6.txt            3929   \n",
       "1997 Issue 208 October 31 Page 7.txt            3222   \n",
       "1997 Issue 170 September 09 Page 11.txt         2500   \n",
       "1997 Issue 208 October 31 Page 5.txt            3040   \n",
       "1997 Issue 170 September 09 Page 8.txt          2716   \n",
       "1997 Issue 170 September 09 Page 9.txt          3005   \n",
       "1997 Issue 208 October 31 Page 4.txt             825   \n",
       "1997 Issue 170 September 09 Page 12.txt         2557   \n",
       "1997 Issue 208 October 31 Page 1.txt            2576   \n",
       "1997 Issue 208 October 31 Page 3.txt            2820   \n",
       "1997 Issue 208 October 31 Page 2.txt            4698   \n",
       "1997 Issue 246 December 30 Page 14.txt          3749   \n",
       "1997 Issue 170 September 09 Page 2.txt          3663   \n",
       "1997 Issue 170 September 09 Page 3.txt          3349   \n",
       "1997 Issue 189 October 04 Page 1.txt            2223   \n",
       "1997 Issue 189 October 04 Page 3.txt            3542   \n",
       "1997 Issue 170 September 09 Page 1.txt          2291   \n",
       "1997 Issue 189 October 04 Page 2.txt            3863   \n",
       "1997 Issue 189 October 04 Page 6.txt            3996   \n",
       "1997 Issue 246 December 30 Page 12.txt          3946   \n",
       "1997 Issue 170 September 09 Page 4.txt          1554   \n",
       "1997 Issue 170 September 09 Page 5.txt          3222   \n",
       "1997 Issue 208 October 31 Page 8.txt            3932   \n",
       "1997 Issue 246 December 30 Page 13.txt          3538   \n",
       "1997 Issue 189 October 04 Page 5.txt            3150   \n",
       "1997 Issue 246 December 30 Page 11.txt          3956   \n",
       "1997 Issue 170 September 09 Page 7.txt          2229   \n",
       "1997 Issue 170 September 09 Page 6.txt          3340   \n",
       "1997 Issue 246 December 30 Page 10.txt          1941   \n",
       "1997 Issue 189 October 04 Page 4.txt            3246   \n",
       "1997 Issue 227 November 29 Page 6.txt           4166   \n",
       "1997 Issue 246 December 30 Page 1.txt           2377   \n",
       "1997 Issue 246 December 30 Page 3.txt           3865   \n",
       "1997 Issue 227 November 29 Page 4.txt           3368   \n",
       "1997 Issue 227 November 29 Page 5.txt           2735   \n",
       "1997 Issue 246 December 30 Page 2.txt           4201   \n",
       "1997 Issue 246 December 30 Page 6.txt           3479   \n",
       "1997 Issue 227 November 29 Page 1.txt           2223   \n",
       "1997 Issue 246 December 30 Page 7.txt           2104   \n",
       "1997 Issue 246 December 30 Page 5.txt           4736   \n",
       "1997 Issue 227 November 29 Page 2.txt           4193   \n",
       "1997 Issue 227 November 29 Page 3.txt           3369   \n",
       "1997 Issue 246 December 30 Page 4.txt           2511   \n",
       "\n",
       "                                                                         normalized_tokens  \\\n",
       "1997 Issue 246 December 30 Page 9.txt    [﻿, финансовые, известия, <, банки, финансы, л...   \n",
       "1997 Issue 133 July 18 Page 3.txt        [﻿№, известия, июль, года, версаче, нанимать, ...   \n",
       "1997 Issue 133 July 18 Page 2.txt        [﻿, n9, известия, ■, корреспондентов, информац...   \n",
       "1997 Issue 151 August 13 Page 6.txt      [﻿, n9, известия, августа, года, автомобили, о...   \n",
       "1997 Issue 246 December 30 Page 8.txt    [﻿ii, декабрь, г., вторник, бизнес, экономика,...   \n",
       "1997 Issue 151 August 13 Page 4.txt      [﻿, n6, августа, года, ♦, угй, №, нефтегазовой...   \n",
       "1997 Issue 133 July 18 Page 1.txt        [﻿ж, настолько, подлый, пессимист, покупайте, ...   \n",
       "1997 Issue 151 August 13 Page 5.txt      [﻿№, известия, августа, года, зерновом, кончал...   \n",
       "1997 Issue 151 August 13 Page 1.txt      [﻿и5вггти, №, 151 25004, августа, года, среда,...   \n",
       "1997 Issue 133 July 18 Page 5.txt        [﻿, n8, июль, года, зачем, сын, китайского, па...   \n",
       "1997 Issue 133 July 18 Page 4.txt        [﻿№, канал, канал, новости, супер-дейв, сорвиг...   \n",
       "1997 Issue 151 August 13 Page 2.txt      [﻿i, №, корреспондентов, информационных, агент...   \n",
       "1997 Issue 133 July 18 Page 6.txt        [﻿№, известия, i, июль, года, рн1ы1, мокш5, по...   \n",
       "1997 Issue 133 July 18 Page 7.txt        [﻿№, известия, июль, года, мирон, черненко, пр...   \n",
       "1997 Issue 151 August 13 Page 3.txt      [﻿№, известия, августа, года, американец, хоте...   \n",
       "1997 Issue 170 September 09 Page 10.txt  [﻿iv, сентябрь, г., вторник, финансовые, сырье...   \n",
       "1997 Issue 208 October 31 Page 6.txt     [﻿№, известия, октябрь, года, рн1ыр, мося15, п...   \n",
       "1997 Issue 208 October 31 Page 7.txt     [﻿№, известия, октябрь, года, помочь, ли, коме...   \n",
       "1997 Issue 170 September 09 Page 11.txt  [﻿, финансовые, известия, №, 67 418, мировой, ...   \n",
       "1997 Issue 208 October 31 Page 5.txt     [﻿№, известия, октябрь, года, октябрь, виталий...   \n",
       "1997 Issue 170 September 09 Page 8.txt   [﻿ii, сентябрь, г., втирниж, бизнес, экономика...   \n",
       "1997 Issue 170 September 09 Page 9.txt   [﻿, финансовые, известия, n9, 67 418, банки, ф...   \n",
       "1997 Issue 208 October 31 Page 4.txt     [﻿№, известия, тв, октябрь, года, ш*’ада, кана...   \n",
       "1997 Issue 170 September 09 Page 12.txt  [﻿vi, сентябрь, г., вторник, финансы, общество...   \n",
       "1997 Issue 208 October 31 Page 1.txt     [﻿, газета, выходит, марта, года, октябрь, год...   \n",
       "1997 Issue 208 October 31 Page 3.txt     [﻿№, известия, октябрь, года, саддам, хусейн, ...   \n",
       "1997 Issue 208 October 31 Page 2.txt     [﻿№, ♦, октябрь, года, пенсионный, реформа, вы...   \n",
       "1997 Issue 246 December 30 Page 14.txt   [﻿, viii, декабрь, г., вторник, финансы, общес...   \n",
       "1997 Issue 170 September 09 Page 2.txt   [﻿№, известия, сентябрь, года, битва, хлеб, же...   \n",
       "1997 Issue 170 September 09 Page 3.txt   [﻿№, известия, сентябрь, года, балтийско, черн...   \n",
       "1997 Issue 189 October 04 Page 1.txt     [﻿, газета, выходит, марта, года, октябрь, год...   \n",
       "1997 Issue 189 October 04 Page 3.txt     [﻿№, известия, октябрь, года, министр, обороны...   \n",
       "1997 Issue 170 September 09 Page 1.txt   [﻿, лукашенко, намерен, щадить, репутация, ель...   \n",
       "1997 Issue 189 October 04 Page 2.txt     [﻿, n8, известия, октябрь, года, в., черномырд...   \n",
       "1997 Issue 189 October 04 Page 6.txt     [﻿№, известия, октябрь, года, публикуем, фотог...   \n",
       "1997 Issue 246 December 30 Page 12.txt   [﻿vi, декабрь, г., вторник, финансовые, сырьев...   \n",
       "1997 Issue 170 September 09 Page 4.txt   [﻿, №, известия, сентябрь, года, закон, плену,...   \n",
       "1997 Issue 170 September 09 Page 5.txt   [﻿, №, последний, запад, валерий, выжут, лести...   \n",
       "1997 Issue 208 October 31 Page 8.txt     [﻿№, известия, октябрь, года, признание, франц...   \n",
       "1997 Issue 246 December 30 Page 13.txt   [﻿, финансовые, известия, н», 99 450, мировом,...   \n",
       "1997 Issue 189 October 04 Page 5.txt     [﻿, n0, известия, октябрь, года, техника, дома...   \n",
       "1997 Issue 246 December 30 Page 11.txt   [﻿, финансовые, извес, тия, м, промышленность,...   \n",
       "1997 Issue 170 September 09 Page 7.txt   [﻿, мировой, лидер, новейших, сельскохозяй-', ...   \n",
       "1997 Issue 170 September 09 Page 6.txt   [﻿, №, сентябрь, года, оаеууоо, е1.естаом1св, ...   \n",
       "1997 Issue 246 December 30 Page 10.txt   [﻿iv, ло, лесалрв, г., вторник, приватизация, ...   \n",
       "1997 Issue 189 October 04 Page 4.txt     [﻿, n9, октябрь, года, обманутые, вкладчик, пу...   \n",
       "1997 Issue 227 November 29 Page 6.txt    [﻿, n8, известия, ноябрь, года, жизнь, прекрас...   \n",
       "1997 Issue 246 December 30 Page 1.txt    [﻿, газета, выходит, марта, года, декабрь, год...   \n",
       "1997 Issue 246 December 30 Page 3.txt    [﻿, n9, известия, декабрь, года, убийство, тюр...   \n",
       "1997 Issue 227 November 29 Page 4.txt    [﻿№, известия, ноябрь, года, экспертиза, магаз...   \n",
       "1997 Issue 227 November 29 Page 5.txt    [﻿№, известия, ноябрь, года, новые, минеральны...   \n",
       "1997 Issue 246 December 30 Page 2.txt    [﻿№, известия, декабрь, года, корреспондентов,...   \n",
       "1997 Issue 246 December 30 Page 6.txt    [﻿№, известия, декабрь, года, кануть, чан, нор...   \n",
       "1997 Issue 227 November 29 Page 1.txt    [﻿, г, субботний, гость, n, г, гаэета, выходит...   \n",
       "1997 Issue 246 December 30 Page 7.txt    [﻿, мировой, лидер, текстильных, материал, опт...   \n",
       "1997 Issue 246 December 30 Page 5.txt    [﻿, n, известия, декабрь, года, гениева, боять...   \n",
       "1997 Issue 227 November 29 Page 2.txt    [﻿№, известия, ноябрь, года, империи, вяхирева...   \n",
       "1997 Issue 227 November 29 Page 3.txt    [﻿№, известия, ноябрь, года, |, считает, предс...   \n",
       "1997 Issue 246 December 30 Page 4.txt    [﻿№, известия, декабрь, года, взятки, дорога, ...   \n",
       "\n",
       "                                         normalized_tokens_count  \\\n",
       "1997 Issue 246 December 30 Page 9.txt                       2516   \n",
       "1997 Issue 133 July 18 Page 3.txt                           2778   \n",
       "1997 Issue 133 July 18 Page 2.txt                           2415   \n",
       "1997 Issue 151 August 13 Page 6.txt                         1925   \n",
       "1997 Issue 246 December 30 Page 8.txt                       3001   \n",
       "1997 Issue 151 August 13 Page 4.txt                         1180   \n",
       "1997 Issue 133 July 18 Page 1.txt                           1535   \n",
       "1997 Issue 151 August 13 Page 5.txt                         3143   \n",
       "1997 Issue 151 August 13 Page 1.txt                         1591   \n",
       "1997 Issue 133 July 18 Page 5.txt                           3086   \n",
       "1997 Issue 133 July 18 Page 4.txt                           2227   \n",
       "1997 Issue 151 August 13 Page 2.txt                         2933   \n",
       "1997 Issue 133 July 18 Page 6.txt                           2882   \n",
       "1997 Issue 133 July 18 Page 7.txt                           2107   \n",
       "1997 Issue 151 August 13 Page 3.txt                         3344   \n",
       "1997 Issue 170 September 09 Page 10.txt                     1117   \n",
       "1997 Issue 208 October 31 Page 6.txt                        2685   \n",
       "1997 Issue 208 October 31 Page 7.txt                        2343   \n",
       "1997 Issue 170 September 09 Page 11.txt                     1812   \n",
       "1997 Issue 208 October 31 Page 5.txt                        2017   \n",
       "1997 Issue 170 September 09 Page 8.txt                      1936   \n",
       "1997 Issue 170 September 09 Page 9.txt                      2172   \n",
       "1997 Issue 208 October 31 Page 4.txt                         506   \n",
       "1997 Issue 170 September 09 Page 12.txt                     1909   \n",
       "1997 Issue 208 October 31 Page 1.txt                        1893   \n",
       "1997 Issue 208 October 31 Page 3.txt                        1957   \n",
       "1997 Issue 208 October 31 Page 2.txt                        3284   \n",
       "1997 Issue 246 December 30 Page 14.txt                      2682   \n",
       "1997 Issue 170 September 09 Page 2.txt                      2613   \n",
       "1997 Issue 170 September 09 Page 3.txt                      2353   \n",
       "1997 Issue 189 October 04 Page 1.txt                        1597   \n",
       "1997 Issue 189 October 04 Page 3.txt                        2609   \n",
       "1997 Issue 170 September 09 Page 1.txt                      1636   \n",
       "1997 Issue 189 October 04 Page 2.txt                        2724   \n",
       "1997 Issue 189 October 04 Page 6.txt                        2679   \n",
       "1997 Issue 246 December 30 Page 12.txt                      2108   \n",
       "1997 Issue 170 September 09 Page 4.txt                      1067   \n",
       "1997 Issue 170 September 09 Page 5.txt                      2341   \n",
       "1997 Issue 208 October 31 Page 8.txt                        2683   \n",
       "1997 Issue 246 December 30 Page 13.txt                      2599   \n",
       "1997 Issue 189 October 04 Page 5.txt                        2228   \n",
       "1997 Issue 246 December 30 Page 11.txt                      2951   \n",
       "1997 Issue 170 September 09 Page 7.txt                      1649   \n",
       "1997 Issue 170 September 09 Page 6.txt                      2469   \n",
       "1997 Issue 246 December 30 Page 10.txt                      1443   \n",
       "1997 Issue 189 October 04 Page 4.txt                        2258   \n",
       "1997 Issue 227 November 29 Page 6.txt                       2771   \n",
       "1997 Issue 246 December 30 Page 1.txt                       1700   \n",
       "1997 Issue 246 December 30 Page 3.txt                       2758   \n",
       "1997 Issue 227 November 29 Page 4.txt                       2138   \n",
       "1997 Issue 227 November 29 Page 5.txt                       1934   \n",
       "1997 Issue 246 December 30 Page 2.txt                       2930   \n",
       "1997 Issue 246 December 30 Page 6.txt                       2507   \n",
       "1997 Issue 227 November 29 Page 1.txt                       1629   \n",
       "1997 Issue 246 December 30 Page 7.txt                       1527   \n",
       "1997 Issue 246 December 30 Page 5.txt                       3098   \n",
       "1997 Issue 227 November 29 Page 2.txt                       2935   \n",
       "1997 Issue 227 November 29 Page 3.txt                       2355   \n",
       "1997 Issue 246 December 30 Page 4.txt                       1676   \n",
       "\n",
       "                                                                              lemma_tokens  \\\n",
       "1997 Issue 246 December 30 Page 9.txt    [﻿, финансовый, известие, <, банк, финансы, ло...   \n",
       "1997 Issue 133 July 18 Page 3.txt        [﻿№, известие, июль, год, версача, нанимать, т...   \n",
       "1997 Issue 133 July 18 Page 2.txt        [﻿, n9, известие, ■, корреспондент, информацио...   \n",
       "1997 Issue 151 August 13 Page 6.txt      [﻿, n9, известие, август, год, автомобиль, обо...   \n",
       "1997 Issue 246 December 30 Page 8.txt    [﻿ii, декабрь, год, вторник, бизнес, экономика...   \n",
       "1997 Issue 151 August 13 Page 4.txt      [﻿, n6, август, год, ♦, угй, №, нефтегазовый, ...   \n",
       "1997 Issue 133 July 18 Page 1.txt        [﻿ж, настолько, подти, пессимист, покупать, св...   \n",
       "1997 Issue 151 August 13 Page 5.txt      [﻿№, известие, август, год, зерновой, кончалов...   \n",
       "1997 Issue 151 August 13 Page 1.txt      [иизвггть, №, 151 25004, август, год, среда, г...   \n",
       "1997 Issue 133 July 18 Page 5.txt        [﻿, n8, июль, год, зачем, сын, китайский, патр...   \n",
       "1997 Issue 133 July 18 Page 4.txt        [﻿№, канал, канал, новость, супер-дейв, сорвиг...   \n",
       "1997 Issue 151 August 13 Page 2.txt      [﻿i, №, корреспондент, информационный, агентст...   \n",
       "1997 Issue 133 July 18 Page 6.txt        [﻿№, известие, i, июль, год, рн1ы1, мокш5, под...   \n",
       "1997 Issue 133 July 18 Page 7.txt        [﻿№, известие, июль, год, мирон, черненко, пре...   \n",
       "1997 Issue 151 August 13 Page 3.txt      [﻿№, известие, август, год, американец, хотеть...   \n",
       "1997 Issue 170 September 09 Page 10.txt  [﻿iv, сентябрь, год, вторник, финансовый, сырь...   \n",
       "1997 Issue 208 October 31 Page 6.txt     [﻿№, известие, октябрь, год, рн1ыр, мося15, по...   \n",
       "1997 Issue 208 October 31 Page 7.txt     [﻿№, известие, октябрь, год, помочь, ли, комен...   \n",
       "1997 Issue 170 September 09 Page 11.txt  [﻿, финансовый, известие, №, 67 418, мировой, ...   \n",
       "1997 Issue 208 October 31 Page 5.txt     [﻿№, известие, октябрь, год, октябрь, виталий,...   \n",
       "1997 Issue 170 September 09 Page 8.txt   [﻿ii, сентябрь, год, втирниж, бизнес, экономик...   \n",
       "1997 Issue 170 September 09 Page 9.txt   [﻿, финансовый, известие, n9, 67 418, банк, фи...   \n",
       "1997 Issue 208 October 31 Page 4.txt     [﻿№, известие, тв, октябрь, год, шелад, канал,...   \n",
       "1997 Issue 170 September 09 Page 12.txt  [uvi, сентябрь, год, вторник, финансы, обществ...   \n",
       "1997 Issue 208 October 31 Page 1.txt     [﻿, газета, выходить, март, год, октябрь, год,...   \n",
       "1997 Issue 208 October 31 Page 3.txt     [﻿№, известие, октябрь, год, садда, хусейн, сл...   \n",
       "1997 Issue 208 October 31 Page 2.txt     [﻿№, ♦, октябрь, год, пенсионный, реформа, выз...   \n",
       "1997 Issue 246 December 30 Page 14.txt   [﻿, viii, декабрь, год, вторник, финансы, обще...   \n",
       "1997 Issue 170 September 09 Page 2.txt   [﻿№, известие, сентябрь, год, битва, хлеб, жер...   \n",
       "1997 Issue 170 September 09 Page 3.txt   [﻿№, известие, сентябрь, год, балтийский, черн...   \n",
       "1997 Issue 189 October 04 Page 1.txt     [﻿, газета, выходить, март, год, октябрь, год,...   \n",
       "1997 Issue 189 October 04 Page 3.txt     [﻿№, известие, октябрь, год, министр, оборона,...   \n",
       "1997 Issue 170 September 09 Page 1.txt   [﻿, лукашенко, намерен, щадить, репутация, ель...   \n",
       "1997 Issue 189 October 04 Page 2.txt     [﻿, n8, известие, октябрь, год, век, черномырд...   \n",
       "1997 Issue 189 October 04 Page 6.txt     [﻿№, известие, октябрь, год, публиковать, фото...   \n",
       "1997 Issue 246 December 30 Page 12.txt   [uvi, декабрь, год, вторник, финансовый, сырье...   \n",
       "1997 Issue 170 September 09 Page 4.txt   [﻿, №, известие, сентябрь, год, закон, плен, а...   \n",
       "1997 Issue 170 September 09 Page 5.txt   [﻿, №, последний, запад, валерий, выжутович, л...   \n",
       "1997 Issue 208 October 31 Page 8.txt     [﻿№, известие, октябрь, год, признание, францу...   \n",
       "1997 Issue 246 December 30 Page 13.txt   [﻿, финансовый, известие, н», 99 450, мировой,...   \n",
       "1997 Issue 189 October 04 Page 5.txt     [﻿, n0, известие, октябрь, год, техника, дом, ...   \n",
       "1997 Issue 246 December 30 Page 11.txt   [﻿, финансовый, извес, тия, метр, промышленнос...   \n",
       "1997 Issue 170 September 09 Page 7.txt   [﻿, мировой, лидер, новый, сельскохозяй-', ств...   \n",
       "1997 Issue 170 September 09 Page 6.txt   [﻿, №, сентябрь, год, оаеуухо, ет.естаомнсво, ...   \n",
       "1997 Issue 246 December 30 Page 10.txt   [﻿iv, ло, лесалрв, год, вторник, приватизация,...   \n",
       "1997 Issue 189 October 04 Page 4.txt     [﻿, n9, октябрь, год, обмануть, вкладчик, путе...   \n",
       "1997 Issue 227 November 29 Page 6.txt    [﻿, n8, известие, ноябрь, год, жизнь, прекрасн...   \n",
       "1997 Issue 246 December 30 Page 1.txt    [﻿, газета, выходить, март, год, декабрь, год,...   \n",
       "1997 Issue 246 December 30 Page 3.txt    [﻿, n9, известие, декабрь, год, убийство, тюрь...   \n",
       "1997 Issue 227 November 29 Page 4.txt    [﻿№, известие, ноябрь, год, экспертиза, магази...   \n",
       "1997 Issue 227 November 29 Page 5.txt    [﻿№, известие, ноябрь, год, новый, минеральный...   \n",
       "1997 Issue 246 December 30 Page 2.txt    [﻿№, известие, декабрь, год, корреспондент, пр...   \n",
       "1997 Issue 246 December 30 Page 6.txt    [﻿№, известие, декабрь, год, кань, чан, норрис...   \n",
       "1997 Issue 227 November 29 Page 1.txt    [﻿, год, субботний, гость, н-лат, год, гаэета,...   \n",
       "1997 Issue 246 December 30 Page 7.txt    [﻿, мировой, лидер, текстильный, материал, опт...   \n",
       "1997 Issue 246 December 30 Page 5.txt    [﻿, н-лат, известие, декабрь, год, гениев, боя...   \n",
       "1997 Issue 227 November 29 Page 2.txt    [﻿№, известие, ноябрь, год, империя, вяхирев, ...   \n",
       "1997 Issue 227 November 29 Page 3.txt    [﻿№, известие, ноябрь, год, |, считать, предсе...   \n",
       "1997 Issue 246 December 30 Page 4.txt    [﻿№, известие, декабрь, год, взятка, дорога, в...   \n",
       "\n",
       "                                         lemma_tokens_count  \n",
       "1997 Issue 246 December 30 Page 9.txt                  2516  \n",
       "1997 Issue 133 July 18 Page 3.txt                      2778  \n",
       "1997 Issue 133 July 18 Page 2.txt                      2415  \n",
       "1997 Issue 151 August 13 Page 6.txt                    1925  \n",
       "1997 Issue 246 December 30 Page 8.txt                  3001  \n",
       "1997 Issue 151 August 13 Page 4.txt                    1180  \n",
       "1997 Issue 133 July 18 Page 1.txt                      1535  \n",
       "1997 Issue 151 August 13 Page 5.txt                    3143  \n",
       "1997 Issue 151 August 13 Page 1.txt                    1591  \n",
       "1997 Issue 133 July 18 Page 5.txt                      3086  \n",
       "1997 Issue 133 July 18 Page 4.txt                      2227  \n",
       "1997 Issue 151 August 13 Page 2.txt                    2933  \n",
       "1997 Issue 133 July 18 Page 6.txt                      2882  \n",
       "1997 Issue 133 July 18 Page 7.txt                      2107  \n",
       "1997 Issue 151 August 13 Page 3.txt                    3344  \n",
       "1997 Issue 170 September 09 Page 10.txt                1117  \n",
       "1997 Issue 208 October 31 Page 6.txt                   2685  \n",
       "1997 Issue 208 October 31 Page 7.txt                   2343  \n",
       "1997 Issue 170 September 09 Page 11.txt                1812  \n",
       "1997 Issue 208 October 31 Page 5.txt                   2017  \n",
       "1997 Issue 170 September 09 Page 8.txt                 1936  \n",
       "1997 Issue 170 September 09 Page 9.txt                 2172  \n",
       "1997 Issue 208 October 31 Page 4.txt                    506  \n",
       "1997 Issue 170 September 09 Page 12.txt                1909  \n",
       "1997 Issue 208 October 31 Page 1.txt                   1893  \n",
       "1997 Issue 208 October 31 Page 3.txt                   1957  \n",
       "1997 Issue 208 October 31 Page 2.txt                   3284  \n",
       "1997 Issue 246 December 30 Page 14.txt                 2682  \n",
       "1997 Issue 170 September 09 Page 2.txt                 2613  \n",
       "1997 Issue 170 September 09 Page 3.txt                 2353  \n",
       "1997 Issue 189 October 04 Page 1.txt                   1597  \n",
       "1997 Issue 189 October 04 Page 3.txt                   2609  \n",
       "1997 Issue 170 September 09 Page 1.txt                 1636  \n",
       "1997 Issue 189 October 04 Page 2.txt                   2724  \n",
       "1997 Issue 189 October 04 Page 6.txt                   2679  \n",
       "1997 Issue 246 December 30 Page 12.txt                 2108  \n",
       "1997 Issue 170 September 09 Page 4.txt                 1067  \n",
       "1997 Issue 170 September 09 Page 5.txt                 2341  \n",
       "1997 Issue 208 October 31 Page 8.txt                   2683  \n",
       "1997 Issue 246 December 30 Page 13.txt                 2599  \n",
       "1997 Issue 189 October 04 Page 5.txt                   2228  \n",
       "1997 Issue 246 December 30 Page 11.txt                 2951  \n",
       "1997 Issue 170 September 09 Page 7.txt                 1649  \n",
       "1997 Issue 170 September 09 Page 6.txt                 2469  \n",
       "1997 Issue 246 December 30 Page 10.txt                 1443  \n",
       "1997 Issue 189 October 04 Page 4.txt                   2258  \n",
       "1997 Issue 227 November 29 Page 6.txt                  2771  \n",
       "1997 Issue 246 December 30 Page 1.txt                  1700  \n",
       "1997 Issue 246 December 30 Page 3.txt                  2758  \n",
       "1997 Issue 227 November 29 Page 4.txt                  2138  \n",
       "1997 Issue 227 November 29 Page 5.txt                  1934  \n",
       "1997 Issue 246 December 30 Page 2.txt                  2930  \n",
       "1997 Issue 246 December 30 Page 6.txt                  2507  \n",
       "1997 Issue 227 November 29 Page 1.txt                  1629  \n",
       "1997 Issue 246 December 30 Page 7.txt                  1527  \n",
       "1997 Issue 246 December 30 Page 5.txt                  3098  \n",
       "1997 Issue 227 November 29 Page 2.txt                  2935  \n",
       "1997 Issue 227 November 29 Page 3.txt                  2355  \n",
       "1997 Issue 246 December 30 Page 4.txt                  1676  "
      ]
     },
     "execution_count": 33,
     "metadata": {},
     "output_type": "execute_result"
    }
   ],
   "source": [
    "izvestiia_df"
   ]
  },
  {
   "cell_type": "code",
   "execution_count": 34,
   "metadata": {},
   "outputs": [
    {
     "data": {
      "image/png": "[encoded data removed]",
      "text/plain": [
       "<Figure size 432x288 with 1 Axes>"
      ]
     },
     "metadata": {
      "needs_background": "light"
     },
     "output_type": "display_data"
    }
   ],
   "source": [
    "wc = wordcloud.WordCloud(background_color=\"white\", max_words=500, width= 1000, height = 1000, mode ='RGBA', scale=.5).generate(' '.join(izvestiia_df['normalized_tokens'].sum()))\n",
    "plt.imshow(wc)\n",
    "plt.axis(\"off\")\n",
    "plt.savefig(\"izvestiia_word_cloud.pdf\", format = 'pdf')"
   ]
  },
  {
   "cell_type": "code",
   "execution_count": 35,
   "metadata": {},
   "outputs": [],
   "source": [
    "# stanford nlp does not have a tagger, only a POS, so I can't do the tagging "
   ]
  },
  {
   "cell_type": "code",
   "execution_count": 38,
   "metadata": {},
   "outputs": [
    {
     "name": "stdout",
     "output_type": "stream",
     "text": [
      "известия NOUN 12398297404960798361\n",
      ", PUNCT 12398297404960798361\n",
      "июль NOUN 12398297404960798361\n",
      ", PUNCT 12398297404960798361\n",
      "года NOUN 12398297404960798361\n",
      ", PUNCT 12398297404960798361\n",
      "версаче NOUN 12398297404960798361\n",
      ", PUNCT 12398297404960798361\n",
      "нанимать VERB 12398297404960798361\n",
      ", PUNCT 12398297404960798361\n"
     ]
    }
   ],
   "source": [
    "sent = nlp(\"известия, июль, года, версаче, нанимать,\")\n",
    "\n",
    "for token in sent:\n",
    "    print(token.text, token.pos_, token.tag)"
   ]
  },
  {
   "cell_type": "code",
   "execution_count": 39,
   "metadata": {},
   "outputs": [],
   "source": [
    "# just as unfortunately, I severely overestiamted my abilties, and was not able to finish more than this\n",
    "# this is only the second ever coding class that I have ever taken, so I will spend a lot more time doing the next homework"
   ]
  },
  {
   "cell_type": "markdown",
   "metadata": {},
   "source": [
    "## Davies Corpora\n",
    "\n",
    "Now that we have our basic cleaning down, we can arrange our Davies Corpora. Let us try this with the movies corpora we have already loaded.\n",
    "\n",
    "We'll use a smaller corpus of a 1000 movies for this demonstration."
   ]
  },
  {
   "cell_type": "code",
   "execution_count": null,
   "metadata": {
    "collapsed": true
   },
   "outputs": [],
   "source": [
    "zfile = zipfile.ZipFile(corpus_name + \"/sources_movies.zip\")\n",
    "source = []"
   ]
  },
  {
   "cell_type": "code",
   "execution_count": null,
   "metadata": {
    "collapsed": true
   },
   "outputs": [],
   "source": [
    "for file in zfile.namelist():\n",
    "    with zfile.open(file) as f:\n",
    "        for line in f:\n",
    "            source.append(line)"
   ]
  },
  {
   "cell_type": "code",
   "execution_count": null,
   "metadata": {},
   "outputs": [],
   "source": [
    "source[0:20]"
   ]
  },
  {
   "cell_type": "markdown",
   "metadata": {},
   "source": [
    "It looks dirty because the file is encoded as bytes, but we can certainly see the information there. The file id is also present in the original raw text data: as the first \"word\". Look back at the normalized/tokenized words to confirm that. We're going to use this to create a dataframe with: Fileid, movie name, genre, year, and country.\n",
    "\n",
    "It is advised that you run a similar check of the source file before you do other extraction.\n",
    "\n",
    "First, let us create a dictionary mapping file-id to all the text. Each movie will be mapped to a list of the tokenized words.\n",
    "\n",
    "In this example, I only use it to load 100 movies. You can comment this out or increase/decrease the number as you see fit."
   ]
  },
  {
   "cell_type": "code",
   "execution_count": null,
   "metadata": {
    "collapsed": true
   },
   "outputs": [],
   "source": [
    "movie_texts = {}"
   ]
  },
  {
   "cell_type": "code",
   "execution_count": null,
   "metadata": {
    "collapsed": true
   },
   "outputs": [],
   "source": [
    "for files in movie_raw:\n",
    "    if len(movie_texts) > 100:\n",
    "        break\n",
    "    movies = clean_raw_text(movie_raw[files][1:])\n",
    "    for movie in movies:\n",
    "        txts = lucem_illud_2020.word_tokenize(movie)\n",
    "        try:\n",
    "            movie_texts[txts[0][2:]] = txts[1:]\n",
    "        except IndexError:\n",
    "            continue"
   ]
  },
  {
   "cell_type": "code",
   "execution_count": null,
   "metadata": {
    "collapsed": true
   },
   "outputs": [],
   "source": [
    "import pandas as pd"
   ]
  },
  {
   "cell_type": "code",
   "execution_count": null,
   "metadata": {
    "collapsed": true
   },
   "outputs": [],
   "source": [
    "movie_df = pd.DataFrame(columns=[\"Movie Name\", \"Genre\", \"Year\", \"Country\", \"Tokenized Texts\"])"
   ]
  },
  {
   "cell_type": "code",
   "execution_count": null,
   "metadata": {
    "collapsed": true
   },
   "outputs": [],
   "source": [
    "for movie in source[3:]:\n",
    "    try:\n",
    "        tid, fileid, total_words, genre, year, lang, country, imdb, title = movie.decode(\"utf-8\").split(\"\\t\")\n",
    "    except UnicodeDecodeError:\n",
    "        continue\n",
    "    try:\n",
    "        movie_df.loc[fileid.strip()] = [title.strip(), genre.strip(), year.strip(), country.strip(), movie_texts[fileid.strip()]]\n",
    "    except KeyError:\n",
    "        continue"
   ]
  },
  {
   "cell_type": "code",
   "execution_count": null,
   "metadata": {},
   "outputs": [],
   "source": [
    "movie_df.head()"
   ]
  },
  {
   "cell_type": "markdown",
   "metadata": {},
   "source": [
    "# Part-of-Speech (POS) tagging"
   ]
  },
  {
   "cell_type": "markdown",
   "metadata": {},
   "source": [
    "In POS tagging, we classify each word by its semantic role in a sentence. We will be using the in-built spaCy pos-tagging.\n",
    "\n",
    "https://spacy.io/usage/linguistic-features\n",
    "\n",
    "|#. |Tag |Description |\n",
    "|---|----|------------|\n",
    "|1.\t|CC\t|Coordinating conjunction\n",
    "|2.\t|CD\t|Cardinal number\n",
    "|3.\t|DT\t|Determiner\n",
    "|4.\t|EX\t|Existential there\n",
    "|5.\t|FW\t|Foreign word\n",
    "|6.\t|IN\t|Preposition or subordinating conjunction\n",
    "|7.\t|JJ\t|Adjective\n",
    "|8.\t|JJR|\tAdjective, comparative\n",
    "|9.\t|JJS|\tAdjective, superlative\n",
    "|10.|\tLS\t|List item marker\n",
    "|11.|\tMD\t|Modal\n",
    "|12.|\tNN\t|Noun, singular or mass\n",
    "|13.|\tNNS\t|Noun, plural\n",
    "|14.|\tNNP\t|Proper noun, singular\n",
    "|15.|\tNNPS|\tProper noun, plural\n",
    "|16.|\tPDT\t|Predeterminer\n",
    "|17.|\tPOS\t|Possessive ending\n",
    "|18.|\tPRP\t|Personal pronoun\n",
    "|19.|\tPRP\\$|\tPossessive pronoun\n",
    "|20.|\tRB\t|Adverb\n",
    "|21.|\tRBR\t|Adverb, comparative\n",
    "|22.|\tRBS\t|Adverb, superlative\n",
    "|23.|\tRP\t|Particle\n",
    "|24.|\tSYM\t|Symbol\n",
    "|25.|\tTO\t|to\n",
    "|26.|\tUH\t|Interjection\n",
    "|27.|\tVB\t|Verb, base form\n",
    "|28.|\tVBD\t|Verb, past tense\n",
    "|29.|\tVBG\t|Verb, gerund or present participle\n",
    "|30.|\tVBN\t|Verb, past participle\n",
    "|31.|\tVBP\t|Verb, non-3rd person singular present\n",
    "|32.|\tVBZ\t|Verb, 3rd person singular present\n",
    "|33.|\tWDT\t|Wh-determiner\n",
    "|34.|\tWP\t|Wh-pronoun\n",
    "|35.|\tWP$\t|Possessive wh-pronoun\n",
    "|36.|\tWRB\t|Wh-adverb\n",
    "\n",
    "spaCy pos-tags word as we run it through the english language model. A small example:"
   ]
  },
  {
   "cell_type": "code",
   "execution_count": null,
   "metadata": {},
   "outputs": [],
   "source": [
    "sent = nlp(u\"Tom went to IKEA to get some of those delicious Swedish meatballs.\")\n"
   ]
  },
  {
   "cell_type": "code",
   "execution_count": null,
   "metadata": {
    "collapsed": true
   },
   "outputs": [],
   "source": [
    "for token in sent:\n",
    "    print(token.text, token.pos_, token.tag_)"
   ]
  },
  {
   "cell_type": "markdown",
   "metadata": {},
   "source": [
    "This looks quite good. Now we will try POS tagging with a somewhat larger corpus. We consider a few of the top posts from the reddit data we used last week."
   ]
  },
  {
   "cell_type": "code",
   "execution_count": null,
   "metadata": {
    "collapsed": true
   },
   "outputs": [],
   "source": [
    "redditDF = pandas.read_csv('../data/reddit.csv')"
   ]
  },
  {
   "cell_type": "markdown",
   "metadata": {},
   "source": [
    "Grabbing the 10 highest scoring posts and tokenizing the sentences. Once again, notice that we aren't going to do any kind of stemming this week (although *semantic* normalization may be performed where we translate synonyms into the same focal word). Here, we will use sentences tokenized by spaCy. Like before, these methods can also be found in lucem_illud.\n",
    "\n"
   ]
  },
  {
   "cell_type": "code",
   "execution_count": null,
   "metadata": {
    "collapsed": true
   },
   "outputs": [],
   "source": [
    "def sent_tokenize(word_list):\n",
    "    doc = nlp(word_list)\n",
    "    sentences = [sent.string.strip() for sent in doc.sents]\n",
    "    return sentences"
   ]
  },
  {
   "cell_type": "code",
   "execution_count": null,
   "metadata": {
    "collapsed": true
   },
   "outputs": [],
   "source": [
    "redditTopScores = redditDF.sort_values('score')[-10:]\n",
    "redditTopScores['sentences'] = redditTopScores['text'].apply(lambda x: [word_tokenize(s) for s in sent_tokenize(x)])\n",
    "redditTopScores.index = range(len(redditTopScores) - 1, -1,-1) #Reindex to make things nice in the future\n",
    "redditTopScores"
   ]
  },
  {
   "cell_type": "code",
   "execution_count": null,
   "metadata": {
    "collapsed": true
   },
   "outputs": [],
   "source": [
    "def tag_sents_pos(sentences):\n",
    "    \"\"\"\n",
    "    function which replicates NLTK pos tagging on sentences.\n",
    "    \"\"\"\n",
    "    new_sents = []\n",
    "    for sentence in sentences:\n",
    "        new_sent = ' '.join(sentence)\n",
    "        new_sents.append(new_sent)\n",
    "    final_string = ' '.join(new_sents)\n",
    "    doc = nlp(final_string)\n",
    "    \n",
    "    pos_sents = []\n",
    "    for sent in doc.sents:\n",
    "        pos_sent = []\n",
    "        for token in sent:\n",
    "            pos_sent.append((token.text, token.tag_))\n",
    "        pos_sents.append(pos_sent)\n",
    "    \n",
    "    return pos_sents"
   ]
  },
  {
   "cell_type": "code",
   "execution_count": null,
   "metadata": {
    "collapsed": true
   },
   "outputs": [],
   "source": [
    "redditTopScores['POS_sents'] = redditTopScores['sentences'].apply(lambda x: tag_sents_pos(x))"
   ]
  },
  {
   "cell_type": "code",
   "execution_count": null,
   "metadata": {
    "collapsed": true
   },
   "outputs": [],
   "source": [
    "redditTopScores['POS_sents']"
   ]
  },
  {
   "cell_type": "markdown",
   "metadata": {},
   "source": [
    "And count the number of `NN` (nouns)"
   ]
  },
  {
   "cell_type": "code",
   "execution_count": null,
   "metadata": {
    "collapsed": true
   },
   "outputs": [],
   "source": [
    "countTarget = 'NN'\n",
    "targetCounts = {}\n",
    "for entry in redditTopScores['POS_sents']:\n",
    "    for sentence in entry:\n",
    "        for ent, kind in sentence:\n",
    "            if kind != countTarget:\n",
    "                continue\n",
    "            elif ent in targetCounts:\n",
    "                targetCounts[ent] += 1\n",
    "            else:\n",
    "                targetCounts[ent] = 1\n",
    "sortedTargets = sorted(targetCounts.items(), key = lambda x: x[1], reverse = True)\n",
    "sortedTargets[:20]"
   ]
  },
  {
   "cell_type": "markdown",
   "metadata": {},
   "source": [
    "What about the adjectives that modify the word, \"computer\"?"
   ]
  },
  {
   "cell_type": "code",
   "execution_count": null,
   "metadata": {
    "collapsed": true
   },
   "outputs": [],
   "source": [
    "NTarget = 'JJ'\n",
    "Word = 'computer'\n",
    "NResults = set()\n",
    "for entry in redditTopScores['POS_sents']:\n",
    "    for sentence in entry:\n",
    "        for (ent1, kind1),(ent2,kind2) in zip(sentence[:-1], sentence[1:]):\n",
    "            if (kind1,ent2.lower())==(NTarget,Word):\n",
    "                NResults.add(ent1)\n",
    "            else:\n",
    "                continue\n",
    "\n",
    "print(NResults)     "
   ]
  },
  {
   "cell_type": "markdown",
   "metadata": {},
   "source": [
    "## <span style=\"color:red\">*Exercise 4*</span>\n",
    "\n",
    "<span style=\"color:red\">In the cells immediately following, perform POS tagging on a meaningful (but modest) subset of a corpus associated with your final project. Examine the list of words associated with at least three different parts of speech. Consider conditional associations (e.g., adjectives associated with nouns or adverbs with verbs of interest). What do these distributions suggest about your corpus?"
   ]
  },
  {
   "cell_type": "markdown",
   "metadata": {},
   "source": [
    "# Collocations"
   ]
  },
  {
   "cell_type": "markdown",
   "metadata": {},
   "source": [
    "As illustrated above, we might want to find significant bigrams (two-word phrases), trigrams (three-word phrases), n-grams (*n*-word phrases) or skip-grams (noncontinguous 'phrases' with skip-length *n*). \n",
    "\n",
    "We will begin with the [`nltk.collocations.BigramCollocationFinder`](http://www.nltk.org/api/nltk.html?highlight=bigramcollocationfinder#nltk.collocations.BigramCollocationFinder) class, which can be given raw lists of strings with the `from_words()` method. By default it only looks at continuous bigrams but there is an option (`window_size`) to allow skip-grams."
   ]
  },
  {
   "cell_type": "code",
   "execution_count": null,
   "metadata": {
    "collapsed": true
   },
   "outputs": [],
   "source": [
    "whBigrams = nltk.collocations.BigramCollocationFinder.from_words(whReleases['normalized_tokens'].sum())\n",
    "print(\"There are {} bigrams in the finder\".format(whBigrams.N))"
   ]
  },
  {
   "cell_type": "markdown",
   "metadata": {},
   "source": [
    "To compare the bigrams we need to tell nltk what our score function is. Initially, we will look at the raw counts."
   ]
  },
  {
   "cell_type": "code",
   "execution_count": null,
   "metadata": {
    "collapsed": true
   },
   "outputs": [],
   "source": [
    "def bigramScoring(count, wordsTuple, total):\n",
    "    return count\n",
    "\n",
    "print(whBigrams.nbest(bigramScoring, 10))"
   ]
  },
  {
   "cell_type": "markdown",
   "metadata": {},
   "source": [
    "One note about how `BigramCollocationFinder` works. It doesn't use the strings internally."
   ]
  },
  {
   "cell_type": "code",
   "execution_count": null,
   "metadata": {
    "collapsed": true
   },
   "outputs": [],
   "source": [
    "birgramScores = []\n",
    "\n",
    "def bigramPrinting(count, wordsTuple, total):\n",
    "    global birgramScores\n",
    "    birgramScores.append(\"The first word is:  {}, The second word is: {}\".format(*wordsTuple))\n",
    "    #Returns None so all the tuples are considered to have the same rank\n",
    "\n",
    "whBigrams.nbest(bigramPrinting, 10)\n",
    "print('\\n'.join(birgramScores[:10]))"
   ]
  },
  {
   "cell_type": "markdown",
   "metadata": {},
   "source": [
    "The words are each given numeric IDs and there is a dictionary that maps the IDs to the words they represent. This is a common performance optimization.\n",
    "\n",
    "Two words can appear together by chance. Recall from  Manning and Schütze's textbook that a t-value can be computed for each bigram to see how significant the association is. You may also want to try computing the $\\chi^2$, likelihood ratio, and pointwise mutual information statistics. "
   ]
  },
  {
   "cell_type": "code",
   "execution_count": null,
   "metadata": {
    "collapsed": true
   },
   "outputs": [],
   "source": [
    "bigram_measures = nltk.collocations.BigramAssocMeasures()\n",
    "whBigrams.score_ngrams(bigram_measures.likelihood_ratio)[:40]\n",
    "# other options include student_t, chi_sq, likelihood_ratio, pmi"
   ]
  },
  {
   "cell_type": "markdown",
   "metadata": {},
   "source": [
    "There are a few other available measures"
   ]
  },
  {
   "cell_type": "code",
   "execution_count": null,
   "metadata": {
    "collapsed": true
   },
   "outputs": [],
   "source": [
    "[s for s in dir(bigram_measures) if s[0] != '_']"
   ]
  },
  {
   "cell_type": "markdown",
   "metadata": {},
   "source": [
    "We can also look at trigrams"
   ]
  },
  {
   "cell_type": "code",
   "execution_count": null,
   "metadata": {
    "collapsed": true
   },
   "outputs": [],
   "source": [
    "trigram_measures = nltk.collocations.TrigramAssocMeasures()\n",
    "whTrigrams = nltk.collocations.TrigramCollocationFinder.from_words(whReleases['normalized_tokens'].sum())\n",
    "whTrigrams.score_ngrams(trigram_measures.student_t)[:20]"
   ]
  },
  {
   "cell_type": "markdown",
   "metadata": {},
   "source": [
    "Or n-grams (for any number n)"
   ]
  },
  {
   "cell_type": "code",
   "execution_count": null,
   "metadata": {
    "collapsed": true
   },
   "outputs": [],
   "source": [
    "Ngrams = nltk.ngrams(whReleases['normalized_tokens'].sum(), 4)\n",
    "Counts = {}\n",
    "for ngram in list(Ngrams):\n",
    "    if ngram in Counts.keys():\n",
    "        Counts[ngram] += 1\n",
    "    else:\n",
    "        Counts[ngram] = 1\n",
    "Filtered = {}\n",
    "for key in Counts.keys():\n",
    "    if Counts[key] < 2:\n",
    "        pass\n",
    "    else:\n",
    "        Filtered[key] = Counts[key]\n",
    "print(Filtered)"
   ]
  },
  {
   "cell_type": "markdown",
   "metadata": {},
   "source": [
    "Gensim is another important python text processing package which allows us to use collocations, among other cool methods (which we will explore later weeks)."
   ]
  },
  {
   "cell_type": "code",
   "execution_count": null,
   "metadata": {
    "collapsed": true
   },
   "outputs": [],
   "source": [
    "import gensim"
   ]
  },
  {
   "cell_type": "code",
   "execution_count": null,
   "metadata": {
    "collapsed": true
   },
   "outputs": [],
   "source": [
    "bigram = gensim.models.Phrases(whReleases['normalized_tokens'])"
   ]
  },
  {
   "cell_type": "code",
   "execution_count": null,
   "metadata": {
    "collapsed": true
   },
   "outputs": [],
   "source": [
    "texts = [bigram[line] for line in whReleases['normalized_tokens']]"
   ]
  },
  {
   "cell_type": "code",
   "execution_count": null,
   "metadata": {
    "collapsed": true
   },
   "outputs": [],
   "source": [
    "texts[0]"
   ]
  },
  {
   "cell_type": "markdown",
   "metadata": {},
   "source": [
    "## <span style=\"color:red\">*Exercise 5*</span>\n",
    "\n",
    "<span style=\"color:red\">Construct cells immediately below this that identify statistically significant bigrams, trigrams, quadgrams, higher-order *n*grams and skipgrams. Explore whether these collocations are idiomatic and so irreducible to the semantic sum of their component words. You can do this by examination of conditional frequencies (e.g., what else is 'united' besides the 'United States'). If these phrases are idiomatic, what do they suggest about the culture of the world producing them?\n",
    "\n",
    "<span style=\"color:red\">**Stretch**: In Manning and Schütze's textbook, there Section 5.3.2 explores how to use the *t*-test to find words whose co-occurance patterns best distinguish two words. Implement that and use it to explore phrases in your corpus. For instance, you could tell what words come after \"America\" much more often than after \"Iraq\"?</span> "
   ]
  },
  {
   "cell_type": "markdown",
   "metadata": {},
   "source": [
    "# Named-Entity Recognition\n",
    "\n",
    "Named Entity Recognition (NER) is also a classification task, which identifies named objects. \n",
    "Like every other part of the pipeline, spaCy also tags words with their tagged entity (https://spacy.io/api/entityrecognizer). You can see the full capacity of what spaCy does by checking out: https://spacy.io/usage/linguistic-features.\n",
    "\n",
    "For training the identification of such entities, spaCy uses a deep learning model."
   ]
  },
  {
   "cell_type": "markdown",
   "metadata": {},
   "source": [
    "Let's try it on a basic sentence:"
   ]
  },
  {
   "cell_type": "code",
   "execution_count": null,
   "metadata": {
    "collapsed": true
   },
   "outputs": [],
   "source": [
    "sent = nlp(u\"Tom went to IKEA to get some of those delicious Swedish meatballs.\")"
   ]
  },
  {
   "cell_type": "code",
   "execution_count": null,
   "metadata": {
    "collapsed": true
   },
   "outputs": [],
   "source": [
    "for token in sent:\n",
    "    print(token.text, token.ent_type_)"
   ]
  },
  {
   "cell_type": "markdown",
   "metadata": {},
   "source": [
    "For only finding ents-"
   ]
  },
  {
   "cell_type": "code",
   "execution_count": null,
   "metadata": {
    "collapsed": true
   },
   "outputs": [],
   "source": [
    "for ent in sent.ents:\n",
    "    print(ent.text, ent.label_)"
   ]
  },
  {
   "cell_type": "code",
   "execution_count": null,
   "metadata": {
    "collapsed": true
   },
   "outputs": [],
   "source": [
    "def tag_sents_ner(sentences):\n",
    "    \"\"\"\n",
    "    function which replicates NLTK ner tagging on sentences.\n",
    "    \"\"\"\n",
    "    new_sents = []\n",
    "    for sentence in sentences:\n",
    "        new_sent = ' '.join(sentence)\n",
    "        new_sents.append(new_sent)\n",
    "    final_string = ' '.join(new_sents)\n",
    "    doc = nlp(final_string)\n",
    "    \n",
    "    pos_sents = []\n",
    "    for sent in doc.sents:\n",
    "        pos_sent = []\n",
    "        for ent in sent.ents:\n",
    "            pos_sent.append((ent.text, ent.label_))\n",
    "        pos_sents.append(pos_sent)\n",
    "    \n",
    "    return pos_sents"
   ]
  },
  {
   "cell_type": "markdown",
   "metadata": {},
   "source": [
    "We can also run NER over our entire corpus:"
   ]
  },
  {
   "cell_type": "code",
   "execution_count": null,
   "metadata": {
    "collapsed": true
   },
   "outputs": [],
   "source": [
    "redditTopScores['classified_sents'] = redditTopScores['sentences'].apply(lambda x: tag_sents_ner(x))"
   ]
  },
  {
   "cell_type": "code",
   "execution_count": null,
   "metadata": {
    "collapsed": true
   },
   "outputs": [],
   "source": [
    "redditTopScores['classified_sents']"
   ]
  },
  {
   "cell_type": "markdown",
   "metadata": {},
   "source": [
    "Find the most common entities (which are, of course, boring):"
   ]
  },
  {
   "cell_type": "code",
   "execution_count": null,
   "metadata": {
    "collapsed": true
   },
   "outputs": [],
   "source": [
    "entityCounts = {}\n",
    "for entry in redditTopScores['classified_sents']:\n",
    "    for sentence in entry:\n",
    "        for ent, kind in sentence:\n",
    "            if ent in entityCounts:\n",
    "                entityCounts[ent] += 1\n",
    "            else:\n",
    "                entityCounts[ent] = 1\n",
    "sortedEntities = sorted(entityCounts.items(), key = lambda x: x[1], reverse = True)\n",
    "sortedEntities[:10]"
   ]
  },
  {
   "cell_type": "markdown",
   "metadata": {},
   "source": [
    "Or those occurring only twice:"
   ]
  },
  {
   "cell_type": "code",
   "execution_count": null,
   "metadata": {
    "collapsed": true
   },
   "outputs": [],
   "source": [
    "[x[0] for x in sortedEntities if x[1] == 2]"
   ]
  },
  {
   "cell_type": "markdown",
   "metadata": {},
   "source": [
    "We could also list the most common \"non-objects\". (We note that we're not graphing these because there are so few here.)"
   ]
  },
  {
   "cell_type": "code",
   "execution_count": null,
   "metadata": {
    "collapsed": true
   },
   "outputs": [],
   "source": [
    "nonObjCounts = {}\n",
    "for entry in redditTopScores['classified_sents']:\n",
    "    for sentence in entry:\n",
    "        for ent, kind in sentence:\n",
    "            if kind == 'ORG':\n",
    "                continue\n",
    "            elif ent in nonObjCounts:\n",
    "                nonObjCounts[ent] += 1\n",
    "            else:\n",
    "                nonObjCounts[ent] = 1\n",
    "sortedNonObj = sorted(nonObjCounts.items(), key = lambda x: x[1], reverse = True)\n",
    "sortedNonObj[:10]"
   ]
  },
  {
   "cell_type": "markdown",
   "metadata": {},
   "source": [
    "What about the Organizations?"
   ]
  },
  {
   "cell_type": "code",
   "execution_count": null,
   "metadata": {
    "collapsed": true
   },
   "outputs": [],
   "source": [
    "OrgCounts = {}\n",
    "for entry in redditTopScores['classified_sents']:\n",
    "    for sentence in entry:\n",
    "        for ent, kind in sentence:\n",
    "            if kind == 'ORG':\n",
    "                print(ent)"
   ]
  },
  {
   "cell_type": "markdown",
   "metadata": {},
   "source": [
    "These, of course, have much smaller counts.\n",
    "\n",
    "In this particular example we didn't find the most interesting entities - you can remedy that in exercise 4!"
   ]
  },
  {
   "cell_type": "markdown",
   "metadata": {},
   "source": [
    "## <span style=\"color:red\">*Exercise 6*</span>\n",
    "\n",
    "<span style=\"color:red\">In the cells immediately following, perform NER on a (modest) subset of your corpus of interest. List all of the different kinds of entities tagged? What does their distribution suggest about the focus of your corpus? For a subset of your corpus, tally at least one type of named entity and calculate the Precision, Recall and F-score for the NER classification just performed."
   ]
  },
  {
   "cell_type": "markdown",
   "metadata": {},
   "source": [
    "## Dependency parsing and graph representations\n",
    "\n",
    "Dependency parsing was developed to robustly capture linguistic dependencies from text. The complex tags associated with these parses are detailed [here]('http://universaldependencies.org/u/overview/syntax.html'). When parsing with the dependency parser, we will work directly from the untokenized text. Note that no *processing* takes place before parsing sentences--we do not remove so-called stop words or anything that plays a syntactic role in the sentence, although anaphora resolution and related normalization may be performed before or after parsing to enhance the value of information extraction. "
   ]
  },
  {
   "cell_type": "markdown",
   "metadata": {},
   "source": [
    "We will be using spaCy's built in dependancy parser to go about exploring the tree.\n",
    "Note that unlike previous examples, large corpuses or collections of sentences don't give us as much information, so we will be navigating smaller sentences.\n",
    "\n",
    "Let us start by exploring noun chunks. Noun chunks are “base noun phrases” – flat phrases that have a noun as their head. You can think of noun chunks as a noun plus the words describing the noun – for example, “the lavish green grass” or “the world’s largest tech fund”. To get the noun chunks in a document, simply iterate over the sentences noun chunks."
   ]
  },
  {
   "cell_type": "code",
   "execution_count": null,
   "metadata": {
    "collapsed": true
   },
   "outputs": [],
   "source": [
    "from spacy import displacy"
   ]
  },
  {
   "cell_type": "code",
   "execution_count": null,
   "metadata": {
    "collapsed": true
   },
   "outputs": [],
   "source": [
    "doc = nlp(\"Autonomous cars shift insurance liability toward manufacturers\")"
   ]
  },
  {
   "cell_type": "code",
   "execution_count": null,
   "metadata": {
    "collapsed": true
   },
   "outputs": [],
   "source": [
    "displacy.render(doc, style='dep')"
   ]
  },
  {
   "cell_type": "code",
   "execution_count": null,
   "metadata": {
    "collapsed": true
   },
   "outputs": [],
   "source": [
    "for chunk in doc.noun_chunks:\n",
    "    print(chunk.text, chunk.root.text, chunk.root.dep_, chunk.root.head.text)"
   ]
  },
  {
   "cell_type": "markdown",
   "metadata": {},
   "source": [
    "spaCy uses the terms head and child to describe the words connected by a single arc in the dependency tree. The term dep is used for the arc label, which describes the type of syntactic relation that connects the child to the head. As with other attributes, the value of .dep is a hash value. You can get the string value with .dep_.\n",
    "\n",
    "For your reference:\n",
    "\n",
    "Text: The original token text.\n",
    "\n",
    "Dep: The syntactic relation connecting child to head.\n",
    "\n",
    "Head text: The original text of the token head.\n",
    "\n",
    "Head POS: The part-of-speech tag of the token head.\n",
    "\n",
    "Children: The immediate syntactic dependents of the token."
   ]
  },
  {
   "cell_type": "code",
   "execution_count": null,
   "metadata": {
    "collapsed": true
   },
   "outputs": [],
   "source": [
    "for token in doc:\n",
    "    print(token.text, token.dep_, token.head.text, token.head.pos_,\n",
    "            [child for child in token.children])"
   ]
  },
  {
   "cell_type": "markdown",
   "metadata": {},
   "source": [
    "Because the syntactic relations form a tree, every word has exactly one head. You can therefore iterate over the arcs in the tree by iterating over the words in the sentence. This is usually the best way to match an arc of interest — from below:"
   ]
  },
  {
   "cell_type": "code",
   "execution_count": null,
   "metadata": {
    "collapsed": true
   },
   "outputs": [],
   "source": [
    "from spacy.symbols import nsubj, VERB"
   ]
  },
  {
   "cell_type": "code",
   "execution_count": null,
   "metadata": {
    "collapsed": true
   },
   "outputs": [],
   "source": [
    "verbs = set()\n",
    "for possible_subject in doc:\n",
    "    if possible_subject.dep == nsubj and possible_subject.head.pos == VERB:\n",
    "        verbs.add(possible_subject.head)\n",
    "print(verbs)"
   ]
  },
  {
   "cell_type": "markdown",
   "metadata": {},
   "source": [
    "You can *also* navigate from above. It isn't as efficient though."
   ]
  },
  {
   "cell_type": "code",
   "execution_count": null,
   "metadata": {
    "collapsed": true
   },
   "outputs": [],
   "source": [
    "verbs = []\n",
    "for possible_verb in doc:\n",
    "    if possible_verb.pos == VERB:\n",
    "        for possible_subject in possible_verb.children:\n",
    "            if possible_subject.dep == nsubj:\n",
    "                verbs.append(possible_verb)\n",
    "                break"
   ]
  },
  {
   "cell_type": "code",
   "execution_count": null,
   "metadata": {
    "collapsed": true
   },
   "outputs": [],
   "source": [
    "print(verbs)"
   ]
  },
  {
   "cell_type": "markdown",
   "metadata": {},
   "source": [
    "### Iterating around the local tree\n",
    "A few more convenience attributes are provided for iterating around the local tree from the token. Token.lefts and Token.rights attributes provide sequences of syntactic children that occur before and after the token. Both sequences are in sentence order. There are also two integer-typed attributes, Token.n_lefts and Token.n_rights that give the number of left and right children."
   ]
  },
  {
   "cell_type": "code",
   "execution_count": null,
   "metadata": {
    "collapsed": true
   },
   "outputs": [],
   "source": [
    "doc = nlp(\"bright red apples on the tree\")\n",
    "print([token.text for token in doc[2].lefts])  # ['bright', 'red']\n",
    "print([token.text for token in doc[2].rights])  # ['on']\n",
    "print(doc[2].n_lefts)  # 2\n",
    "print(doc[2].n_rights)  # 1"
   ]
  },
  {
   "cell_type": "markdown",
   "metadata": {},
   "source": [
    "You can get a whole phrase by its syntactic head using the Token.subtree attribute. This returns an ordered sequence of tokens. You can walk up the tree with the Token.ancestors attribute, and check dominance with Token.is_ancestor"
   ]
  },
  {
   "cell_type": "code",
   "execution_count": null,
   "metadata": {
    "collapsed": true
   },
   "outputs": [],
   "source": [
    "doc = nlp(\"Credit and mortgage account holders must submit their requests\")\n",
    "\n",
    "root = [token for token in doc if token.head == token][0]\n",
    "subject = list(root.lefts)[0]\n",
    "for descendant in subject.subtree:\n",
    "    assert subject is descendant or subject.is_ancestor(descendant)\n",
    "    print(descendant.text, descendant.dep_, descendant.n_lefts,\n",
    "            descendant.n_rights,\n",
    "            [ancestor.text for ancestor in descendant.ancestors])"
   ]
  },
  {
   "cell_type": "markdown",
   "metadata": {},
   "source": [
    "Finally, the .left_edge and .right_edge attributes can be especially useful, because they give you the first and last token of the subtree. This is the easiest way to create a Span object for a syntactic phrase. Note that .right_edge gives a token within the subtree — so if you use it as the end-point of a range, don’t forget to +1!"
   ]
  },
  {
   "cell_type": "code",
   "execution_count": null,
   "metadata": {
    "collapsed": true
   },
   "outputs": [],
   "source": [
    "span = doc[doc[4].left_edge.i : doc[4].right_edge.i+1]\n",
    "with doc.retokenize() as retokenizer:\n",
    "    retokenizer.merge(span)\n",
    "for token in doc:\n",
    "    print(token.text, token.pos_, token.dep_, token.head.text)"
   ]
  },
  {
   "cell_type": "code",
   "execution_count": null,
   "metadata": {
    "collapsed": true
   },
   "outputs": [],
   "source": [
    "displacy.render(doc, style='dep')"
   ]
  },
  {
   "cell_type": "markdown",
   "metadata": {},
   "source": [
    "### Information Extraction\n",
    "\n",
    "How can dependancy graphs be useful? We can extract information from the sentences based on relationships between words within parsed phrases. Let us see if we can do this to glean any information, from, say, our movies dataset. \n",
    "\n",
    "How violent are the movies? Who is killing who?"
   ]
  },
  {
   "cell_type": "code",
   "execution_count": null,
   "metadata": {
    "collapsed": true
   },
   "outputs": [],
   "source": [
    "movie_violences = {}"
   ]
  },
  {
   "cell_type": "code",
   "execution_count": null,
   "metadata": {
    "collapsed": true
   },
   "outputs": [],
   "source": [
    "for index, row in movie_df.iterrows():\n",
    "    text = ' '.join(row['Tokenized Texts'])\n",
    "    movie_violences[row['Movie Name']] = ([], [])\n",
    "    doc = nlp(text)\n",
    "    for chunk in doc.noun_chunks:\n",
    "        subject = 0\n",
    "        object_ = 0\n",
    "        # if the verb or the root of the sentence is kill\n",
    "        if chunk.root.head.text == 'kill':\n",
    "            # we find the subjects and objects around the word, and if it does exist, add it to the tuple\n",
    "            if chunk.root.dep_ == 'nsubj':\n",
    "                subject = chunk.root.text\n",
    "            if chunk.root.dep_ == 'dobj':\n",
    "                object_ = chunk.root.text\n",
    "            if subject is not 0:\n",
    "                movie_violences[row['Movie Name']][0].append(subject)\n",
    "            if object_ is not 0:\n",
    "                movie_violences[row['Movie Name']][1].append(object_)"
   ]
  },
  {
   "cell_type": "code",
   "execution_count": null,
   "metadata": {
    "collapsed": true
   },
   "outputs": [],
   "source": [
    "movie_violences"
   ]
  },
  {
   "cell_type": "markdown",
   "metadata": {},
   "source": [
    "That's pretty neat: we can see who tried to kill who, or at least talked about it. A lot of 'I' killing 'you', as we'd imagine. What else can we see?\n",
    "\n",
    "The movie, about time, which is about time travel, funnily enough has:\n",
    "`'About Time': (['I'], ['Hitler'])`"
   ]
  },
  {
   "cell_type": "markdown",
   "metadata": {},
   "source": [
    "## <span style=\"color:red\">*Exercise 7*</span>\n",
    "\n",
    "<span style=\"color:red\">In the cells immediately following, parse a (modest) subset of your corpus of interest. How deep are the phrase structure and dependency parse trees nested? How does parse depth relate to perceived sentence complexity? What are five things you can extract from these parses for subsequent analysis? (e.g., nouns collocated in a noun phrase; adjectives that modify a noun; etc.) Capture these sets of things for a focal set of words (e.g., \"Bush\", \"Obama\", \"Trump\"). What do they reveal about the roles that these entities are perceive to play in the social world inscribed by your texts?"
   ]
  },
  {
   "cell_type": "markdown",
   "metadata": {},
   "source": [
    "# Distributional distances\n",
    "\n",
    "If we want to compare different corpora, we need a distance or divergence that compares the two distributions.\n",
    "\n",
    "We will use the: \n",
    "\n",
    "+ Kullback-Leibler (KL) divergence\n",
    "+ $\\chi^2$ divergence\n",
    "+ Kolmogorov-Smirnov (KS) distance\n",
    "+ Wasserstein distance\n",
    "\n",
    "### Kullback-Leibler and $x^2$ divergences ###\n",
    "\n",
    "KL and $\\chi^2$ divergences are members of the broader <a \"href=https://en.wikipedia.org/wiki/F-divergence\" target=\"_blank\">$f$-divergence</a> family, a function of $D_f (P || Q)$ that calculates the difference between two probability distributions P and Q. The KL $f(t)$ is $ t \\text{ log } t $, while the $\\chi^2$ is $t^2-1$. KL comes from information and $\\chi^2$ from measure theory. As such, the KL divergence computes the relative entropy between two distributions--how they differ in bits, while the $\\chi^2$ whether the same statistical inferences can be drawn from them both.  \n",
    "\n",
    "Specifically, given two discrete probability distributions $P$ and $Q$, the Kullback-Leibler divergence from $Q$ to $P$ is defined as:\n",
    "\n",
    "$D_{\\mathrm{KL}}(P\\|Q) = \\sum_i P(i) \\, \\log\\frac{P(i)}{Q(i)}$.\n",
    "\n",
    "The [scipy.stats.entropy()](https://docs.scipy.org/doc/scipy/reference/generated/scipy.stats.entropy.html) function does the calculation for you, which takes in two arrays of probabilities and computes the KL divergence. Note that the KL divergence is in general not commutative, i.e. $D_{\\mathrm{KL}}(P\\|Q) \\neq D_{\\mathrm{KL}}(Q\\|P)$ .\n",
    "\n",
    "Also note that the KL divernce is the sum of elementwise divergences. Scipy provides [scipy.special.kl_div()](https://docs.scipy.org/doc/scipy/reference/generated/scipy.special.kl_div.html#scipy-special-kl-div) which calculates elementwise divergences for you.\n",
    "\n",
    "The $\\chi^2$ Divergence is defined as:\n",
    "\n",
    "$D_{\\mathrm{\\chi^2}}(P\\|Q) = \\sum_i \\left(\\frac{P(i)}{Q(i)}-1\\right)^2$. \n",
    "\n",
    "This is also noncommutative, and the code can be drawn directly from scipy.\n",
    "\n",
    "### Kolmogorov-Smirnov ###\n",
    "\n",
    "The two-sample Kolmogovorov-Smirnov test statistic calculates the distance between the cumulative distribution function of the two distributions to be compared, and, along with the $x^2$ divergence, is among the most common approaches two calculating a distance in statistics. It can be interpreted as a test of whether two distributions are drawn from the same underlying distribution. As with the others, the code is readily available in scipy.\n",
    "\n",
    "### Wasserstein Distance ###\n",
    "\n",
    "When this is computed on a Euclidian metric structure (e.g., numbers of words), this is also known as the earth mover’s distance, because it can be seen as the minimum amount of \"work\" required to transform $P$ into $Q$, where \"work\" is measured as the amount of distribution weight that must be moved, multiplied by the distance it has to be moved.\n",
    "\n",
    "### Computing ###\n",
    "\n",
    "To do this we will need to create the arrays, lets compare the Whitehouse releases with the Kennedy releases. First we have to download them and load them into a DataFrame."
   ]
  },
  {
   "cell_type": "code",
   "execution_count": null,
   "metadata": {
    "collapsed": true
   },
   "outputs": [],
   "source": [
    "kenReleases = getGithubFiles('https://api.github.com/repos/lintool/GrimmerSenatePressReleases/contents/raw/Kennedy', maxFiles = 10)\n",
    "kenReleases[:5]"
   ]
  },
  {
   "cell_type": "markdown",
   "metadata": {},
   "source": [
    "Then we can tokenize, stem and remove stop words, like we did for the Whitehouse press releases"
   ]
  },
  {
   "cell_type": "code",
   "execution_count": null,
   "metadata": {
    "collapsed": true
   },
   "outputs": [],
   "source": [
    "kenReleases['tokenized_text'] = kenReleases['text'].apply(lambda x: word_tokenize(x))\n",
    "kenReleases['normalized_tokens'] = kenReleases['tokenized_text'].apply(lambda x: normalizeTokens(x))"
   ]
  },
  {
   "cell_type": "markdown",
   "metadata": {},
   "source": [
    "Now we need to compare the two collection of words, remove those not found in both, and assign the remaining ones indices."
   ]
  },
  {
   "cell_type": "code",
   "execution_count": null,
   "metadata": {
    "collapsed": true
   },
   "outputs": [],
   "source": [
    "whWords = set(whReleases['normalized_tokens'].sum())\n",
    "kenWords = set(kenReleases['normalized_tokens'].sum())\n",
    "\n",
    "#Change & to | if you want to keep all words\n",
    "overlapWords = whWords & kenWords\n",
    "\n",
    "overlapWordsDict = {word: index for index, word in enumerate(overlapWords)}\n",
    "overlapWordsDict['student']"
   ]
  },
  {
   "cell_type": "markdown",
   "metadata": {},
   "source": [
    "Now we can count the occurrences of each word in the corpora and create our arrays. Note that we don't have to use numpy arrays as we do here. We could just use a list, but the arrays are faster in numpy so we encourage you to get in the habit of using them."
   ]
  },
  {
   "cell_type": "code",
   "execution_count": null,
   "metadata": {
    "collapsed": true
   },
   "outputs": [],
   "source": [
    "def makeProbsArray(dfColumn, overlapDict):\n",
    "    words = dfColumn.sum()\n",
    "    countList = [0] * len(overlapDict)\n",
    "    for word in words:\n",
    "        try:\n",
    "            countList[overlapDict[word]] += 1\n",
    "        except KeyError:\n",
    "            #The word is not common so we skip it\n",
    "            pass\n",
    "    countArray = np.array(countList)\n",
    "    return countArray / countArray.sum()\n",
    "\n",
    "whProbArray = makeProbsArray(whReleases['normalized_tokens'], overlapWordsDict)\n",
    "kenProbArray = makeProbsArray(kenReleases['normalized_tokens'], overlapWordsDict)\n",
    "kenProbArray.sum()\n",
    "#There is a little bit of a floating point math error\n",
    "#but it's too small to see with print and too small matter here"
   ]
  },
  {
   "cell_type": "markdown",
   "metadata": {},
   "source": [
    "We can now compute the KL divergence. Pay attention to the asymmetry. Use [the Jensen–Shannon divergence](https://en.wikipedia.org/wiki/Jensen%E2%80%93Shannon_divergence), which is the average KL divergence between each distribution and the average of both distributions (i.e., the midpoint), if you want symmetry."
   ]
  },
  {
   "cell_type": "code",
   "execution_count": null,
   "metadata": {
    "collapsed": true
   },
   "outputs": [],
   "source": [
    "wh_kenDivergence = scipy.stats.entropy(whProbArray, kenProbArray)\n",
    "print (wh_kenDivergence)\n",
    "ken_whDivergence = scipy.stats.entropy(kenProbArray, whProbArray)\n",
    "print (ken_whDivergence)"
   ]
  },
  {
   "cell_type": "markdown",
   "metadata": {},
   "source": [
    "Then, we can do the elementwise calculation and see which words best distinguish the two corpora."
   ]
  },
  {
   "cell_type": "code",
   "execution_count": null,
   "metadata": {
    "collapsed": true
   },
   "outputs": [],
   "source": [
    "wh_kenDivergence_ew = scipy.special.kl_div(whProbArray, kenProbArray)\n",
    "kl_df = pandas.DataFrame(list(overlapWordsDict.keys()), columns = ['word'], index = list(overlapWordsDict.values()))\n",
    "kl_df = kl_df.sort_index()\n",
    "kl_df['elementwise divergence'] = wh_kenDivergence_ew\n",
    "kl_df[:10]"
   ]
  },
  {
   "cell_type": "code",
   "execution_count": null,
   "metadata": {
    "collapsed": true
   },
   "outputs": [],
   "source": [
    "kl_df.sort_values(by='elementwise divergence', ascending=False)[:10]"
   ]
  },
  {
   "cell_type": "markdown",
   "metadata": {},
   "source": [
    "Now we will apply what we learned today \n",
    "First, let's transform every text into normalized tokens. Note that in this first step, no stopword is removed.\n",
    "We'll use only the first 11 movies: you are welcome to try more."
   ]
  },
  {
   "cell_type": "code",
   "execution_count": null,
   "metadata": {
    "collapsed": true
   },
   "outputs": [],
   "source": [
    "corpora = []\n",
    "for index, row in movie_df.iterrows():\n",
    "    if len(corpora) > 10:\n",
    "        break\n",
    "    corpora.append(row['Tokenized Texts'])"
   ]
  },
  {
   "cell_type": "markdown",
   "metadata": {},
   "source": [
    "Then, let's separate the normalized tokens into stopwords and non-stopwords."
   ]
  },
  {
   "cell_type": "code",
   "execution_count": null,
   "metadata": {
    "collapsed": true
   },
   "outputs": [],
   "source": [
    "corpora_s = []\n",
    "corpora_nons = []\n",
    "for corpus in corpora:\n",
    "    s = []\n",
    "    nons = []\n",
    "    doc = nlp(' '.join(corpus))\n",
    "    for word in doc:\n",
    "        if word.is_stop:\n",
    "            s.append(word.text)\n",
    "        else:\n",
    "            nons.append(word.text)\n",
    "    corpora_s.append(s)\n",
    "    corpora_nons.append(nons)"
   ]
  },
  {
   "cell_type": "markdown",
   "metadata": {},
   "source": [
    "Define some covenient funtions for calculating divergence and distances."
   ]
  },
  {
   "cell_type": "code",
   "execution_count": null,
   "metadata": {
    "collapsed": true
   },
   "outputs": [],
   "source": [
    "def kl_divergence(X, Y):\n",
    "    P = X.copy()\n",
    "    Q = Y.copy()\n",
    "    P.columns = ['P']\n",
    "    Q.columns = ['Q']\n",
    "    df = Q.join(P).fillna(0)\n",
    "    p = df.iloc[:,1]\n",
    "    q = df.iloc[:,0]\n",
    "    D_kl = scipy.stats.entropy(p, q)\n",
    "    return D_kl\n",
    "\n",
    "def chi2_divergence(X,Y):\n",
    "    P = X.copy()\n",
    "    Q = Y.copy()\n",
    "    P.columns = ['P']\n",
    "    Q.columns = ['Q']\n",
    "    df = Q.join(P).fillna(0)\n",
    "    p = df.iloc[:,1]\n",
    "    q = df.iloc[:,0]\n",
    "    return scipy.stats.chisquare(p, q).statistic\n",
    "\n",
    "def Divergence(corpus1, corpus2, difference=\"KL\"):\n",
    "    \"\"\"Difference parameter can equal KL, Chi2, or Wass\"\"\"\n",
    "    freqP = nltk.FreqDist(corpus1)\n",
    "    P = pandas.DataFrame(list(freqP.values()), columns = ['frequency'], index = list(freqP.keys()))\n",
    "    freqQ = nltk.FreqDist(corpus2)\n",
    "    Q = pandas.DataFrame(list(freqQ.values()), columns = ['frequency'], index = list(freqQ.keys()))\n",
    "    if difference == \"KL\":\n",
    "        return kl_divergence(P, Q)\n",
    "    elif difference == \"Chi2\":\n",
    "        return chi2_divergence(P, Q)\n",
    "    elif difference == \"KS\":\n",
    "        try:\n",
    "            return scipy.stats.ks_2samp(P['frequency'], Q['frequency']).statistic\n",
    "        except:\n",
    "            return scipy.stats.ks_2samp(P['frequency'], Q['frequency'])\n",
    "    elif difference == \"Wasserstein\":\n",
    "        try:\n",
    "            return scipy.stats.wasserstein_distance(P['frequency'], Q['frequency'], u_weights=None, v_weights=None).statistic\n",
    "        except:\n",
    "            return scipy.stats.wasserstein_distance(P['frequency'], Q['frequency'], u_weights=None, v_weights=None)"
   ]
  },
  {
   "cell_type": "markdown",
   "metadata": {},
   "source": [
    "Now we will calculate the KL divergence for each pair of corpora, turn the results into a matrix, and visualize the matrix as a heatmap. Recall that $D_{\\mathrm{KL}}(P\\|Q)$ measures the amount of information loss when $Q$ is used to approximate $P$. Here, the rows are the $P$s used for calculating KL divergences, and the columns are the $Q$s. So, each cell measures the amount of information loss when the word distribution of the column text is used to approximate the word distribution of the row text. Because the KL divergence is directional, such that the divergence of $P$ from $Q$ is different from the same of $Q$ from $P$, the matrix is assymetric and contains unique information above and below the diagonal. The same is true for the $\\chi^2$ divergence."
   ]
  },
  {
   "cell_type": "code",
   "execution_count": null,
   "metadata": {
    "collapsed": true
   },
   "outputs": [],
   "source": [
    "len(corpora)"
   ]
  },
  {
   "cell_type": "code",
   "execution_count": null,
   "metadata": {
    "collapsed": true
   },
   "outputs": [],
   "source": [
    "fileids = list(movie_df['Movie Name'])[0:11]"
   ]
  },
  {
   "cell_type": "code",
   "execution_count": null,
   "metadata": {
    "collapsed": true
   },
   "outputs": [],
   "source": [
    "L = []\n",
    "for p in corpora:\n",
    "    l = []\n",
    "    for q in corpora:\n",
    "        l.append(Divergence(p,q, difference = 'KL'))\n",
    "    L.append(l)\n",
    "M = np.array(L)\n",
    "fig = plt.figure()\n",
    "div = pandas.DataFrame(M, columns = fileids, index = fileids)\n",
    "ax = sns.heatmap(div)\n",
    "plt.show()"
   ]
  },
  {
   "cell_type": "markdown",
   "metadata": {},
   "source": [
    "\n",
    "To reveal more patterns, let's do a multidimensional scaling of the matrix."
   ]
  },
  {
   "cell_type": "code",
   "execution_count": null,
   "metadata": {
    "collapsed": true
   },
   "outputs": [],
   "source": [
    "mds = sklearn.manifold.MDS()\n",
    "pos = mds.fit(M).embedding_\n",
    "x = pos[:,0]\n",
    "y = pos[:,1]\n",
    "fig, ax = plt.subplots(figsize = (6,6))\n",
    "plt.plot(x, y, ' ')\n",
    "for i, txt in enumerate(fileids):\n",
    "    ax.annotate(txt, (x[i],y[i]))"
   ]
  },
  {
   "cell_type": "markdown",
   "metadata": {},
   "source": [
    "A co-respondent's course and The Chain Gang are away from the others - any guesses why?\n",
    "\n",
    "We may just want to focus on the distrbution of stopwords or non-stopwords. Let's do the analysis again first for stopwords and then for non-stopwords."
   ]
  },
  {
   "cell_type": "code",
   "execution_count": null,
   "metadata": {
    "collapsed": true
   },
   "outputs": [],
   "source": [
    "L = []\n",
    "for p in corpora_s:\n",
    "    l = []\n",
    "    for q in corpora_s:\n",
    "        l.append(Divergence(p,q, difference='KL'))\n",
    "    L.append(l)\n",
    "M = np.array(L)\n",
    "fig = plt.figure()\n",
    "div = pandas.DataFrame(M, columns = fileids, index = fileids)\n",
    "ax = sns.heatmap(div)\n",
    "plt.show()"
   ]
  },
  {
   "cell_type": "code",
   "execution_count": null,
   "metadata": {
    "collapsed": true
   },
   "outputs": [],
   "source": [
    "L = []\n",
    "for p in corpora_nons:\n",
    "    l = []\n",
    "    for q in corpora_nons:\n",
    "        l.append(Divergence(p,q, difference='KL'))\n",
    "    L.append(l)\n",
    "M = np.array(L)\n",
    "fig = plt.figure()\n",
    "div = pandas.DataFrame(M, columns = fileids, index = fileids)\n",
    "ax = sns.heatmap(div)\n",
    "plt.show()"
   ]
  },
  {
   "cell_type": "markdown",
   "metadata": {},
   "source": [
    "Now we compute the same for the assymmetric $\\chi^2$ Divergence."
   ]
  },
  {
   "cell_type": "code",
   "execution_count": null,
   "metadata": {
    "collapsed": true
   },
   "outputs": [],
   "source": [
    "L = []\n",
    "for p in corpora_nons:\n",
    "    l = []\n",
    "    for q in corpora_nons:\n",
    "        l.append(Divergence(p,q, difference='Chi2'))\n",
    "    L.append(l)\n",
    "M = np.array(L)\n",
    "fig = plt.figure()\n",
    "div = pandas.DataFrame(M, columns = fileids, index = fileids)\n",
    "ax = sns.heatmap(div)\n",
    "plt.show()"
   ]
  },
  {
   "cell_type": "markdown",
   "metadata": {
    "scrolled": true
   },
   "source": [
    "For the KS distance:"
   ]
  },
  {
   "cell_type": "code",
   "execution_count": null,
   "metadata": {
    "collapsed": true
   },
   "outputs": [],
   "source": [
    "L = []\n",
    "for p in corpora_nons:\n",
    "    l = []\n",
    "    for q in corpora_nons:\n",
    "        l.append(Divergence(p,q, difference='KS'))\n",
    "    L.append(l)\n",
    "M = np.array(L)\n",
    "fig = plt.figure()\n",
    "div = pandas.DataFrame(M, columns = fileids, index = fileids)\n",
    "ax = sns.heatmap(div)\n",
    "plt.show()"
   ]
  },
  {
   "cell_type": "markdown",
   "metadata": {},
   "source": [
    "And finally for the Wasserstein or \"earth mover's\" Distance."
   ]
  },
  {
   "cell_type": "code",
   "execution_count": null,
   "metadata": {
    "collapsed": true
   },
   "outputs": [],
   "source": [
    "L = []\n",
    "for p in corpora_nons:\n",
    "    l = []\n",
    "    for q in corpora_nons:\n",
    "        l.append(Divergence(p,q, difference='Wasserstein'))\n",
    "    L.append(l)\n",
    "M = np.array(L)\n",
    "fig = plt.figure()\n",
    "div = pandas.DataFrame(M, columns = fileids, index = fileids)\n",
    "ax = sns.heatmap(div)\n",
    "plt.show()"
   ]
  },
  {
   "cell_type": "markdown",
   "metadata": {},
   "source": [
    "You can see that decade X is highly divergent and this makes reading the plot somewhat difficult. Let's fix this by taking the log of each cell, which will reduce the distance of decode X from other texts as an outlier."
   ]
  },
  {
   "cell_type": "code",
   "execution_count": null,
   "metadata": {
    "collapsed": true
   },
   "outputs": [],
   "source": [
    "ax = sns.heatmap(div.apply(np.log).replace([np.inf, -np.inf], np.nan))\n",
    "plt.show()"
   ]
  },
  {
   "cell_type": "markdown",
   "metadata": {},
   "source": [
    "We only tried 11 movies, and from the same time period, so our signals might not be too interesting. What about different time periods?\n",
    "\n",
    "An interesting experiment to maybe get some clearer signals: documents by decade in the Davies Corpus Of Historial American English (COHA) and see if we can detect patterns between them. \n",
    "\n",
    "If we want to rerun this on a new data set of our own composition, we can be a bit more efficient with our coding. Let's use the Shakespeare texts from last week as example: "
   ]
  },
  {
   "cell_type": "code",
   "execution_count": null,
   "metadata": {
    "collapsed": true
   },
   "outputs": [],
   "source": [
    "shakespeare_df = lucem_illud_2020.loadTextDirectory('../data/Shakespeare')"
   ]
  },
  {
   "cell_type": "markdown",
   "metadata": {},
   "source": [
    "Now we stem and remove stopwords"
   ]
  },
  {
   "cell_type": "code",
   "execution_count": null,
   "metadata": {
    "collapsed": true
   },
   "outputs": [],
   "source": [
    "shakespeare_df['tokenized_text'] = shakespeare_df['text'].apply(lambda x: word_tokenize(x))\n",
    "shakespeare_df['normalized_tokens'] = shakespeare_df['tokenized_text'].apply(lambda x: normalizeTokens(x))"
   ]
  },
  {
   "cell_type": "markdown",
   "metadata": {},
   "source": [
    "Create the corpus file and generate the heatmap:"
   ]
  },
  {
   "cell_type": "code",
   "execution_count": null,
   "metadata": {
    "collapsed": true
   },
   "outputs": [],
   "source": [
    "measure = 'KS' #\"KL\", \"Chi2\", \"KS\", \"Wasserstein\"\n",
    "num_of_texts = 10 #The bigger this number the slower it will run, you can also try selecting your own plays\n",
    "fileids_sp = list(shakespeare_df[:num_of_texts].index)\n",
    "corpora_sp = list(shakespeare_df[:num_of_texts]['normalized_tokens'])\n",
    "L = []\n",
    "for p in corpora_sp:\n",
    "    l = []\n",
    "    for q in corpora_sp:\n",
    "        l.append(Divergence(p,q, difference=measure))\n",
    "    L.append(l)\n",
    "M = np.array(L)\n",
    "fig = plt.figure()\n",
    "div = pandas.DataFrame(M, columns = fileids_sp, index = fileids_sp)\n",
    "ax = sns.heatmap(div)\n",
    "plt.show()"
   ]
  },
  {
   "cell_type": "markdown",
   "metadata": {},
   "source": [
    "What are \"The Passionate Pilgrim\" and \"The Phoenix and the Turtle\"? Little known poems by Shakespeare that are unsurprisingly hard to classify, as they are so different from everything else he wrote."
   ]
  },
  {
   "cell_type": "markdown",
   "metadata": {},
   "source": [
    "## <span style=\"color:red\">*Exercise 8*</span>\n",
    "\n",
    "<span style=\"color:red\">Construct cells immediately below this that calculate the KL and $\\chi^2$ divergences, and the KS and Wasserstein distances between four separate corpora, plot these with heatmaps, and then array them in two dimensions with multidimensional scaling as above. What does this reveal about relations between the corpora? Which analysis (and divergence or distribution) distinguishes the authors or documents better? \n",
    "\n",
    "<span style=\"color:red\">**Stretch**: Calculate the <a \"href=https://en.wikipedia.org/wiki/Jensen–Shannon_divergence\" target=\"_blank\">Jensen-Shannon Divergence</a> between your four corpora. What is the relationship between the KL and JS divergences?</span> "
   ]
  },
  {
   "cell_type": "code",
   "execution_count": null,
   "metadata": {
    "collapsed": true
   },
   "outputs": [],
   "source": []
  }
 ],
 "metadata": {
  "anaconda-cloud": {},
  "kernelspec": {
   "display_name": "Python 3",
   "language": "python",
   "name": "python3"
  },
  "language_info": {
   "codemirror_mode": {
    "name": "ipython",
    "version": 3
   },
   "file_extension": ".py",
   "mimetype": "text/x-python",
   "name": "python",
   "nbconvert_exporter": "python",
   "pygments_lexer": "ipython3",
   "version": "3.7.4"
  }
 },
 "nbformat": 4,
 "nbformat_minor": 1
}
